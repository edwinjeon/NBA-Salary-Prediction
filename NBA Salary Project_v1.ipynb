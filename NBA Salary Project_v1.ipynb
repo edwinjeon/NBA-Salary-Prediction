{
 "cells": [
  {
   "cell_type": "code",
   "execution_count": 329,
   "id": "99b73ec3-d757-4b68-8570-eea2d5dc677d",
   "metadata": {},
   "outputs": [],
   "source": [
    "# Loading data & Libraries\n",
    "\n",
    "import pandas as pd\n",
    "import seaborn as sns\n",
    "import matplotlib.pyplot as plt\n",
    "import plotly.express as px\n",
    "from sklearn.linear_model import LinearRegression\n",
    "from sklearn.model_selection import train_test_split\n",
    "from sklearn.preprocessing import StandardScaler\n",
    "\n",
    "salarydf = pd.read_csv(\"NBA Player Salaries_2024-25_1.csv\")\n",
    "statsdf = pd.read_csv(\"NBA Player Stats_2024-25_Per_Game.csv\")\n",
    "\n",
    "# some stats doesn't show\n",
    "pd.set_option('display.max_columns', None)"
   ]
  },
  {
   "cell_type": "code",
   "execution_count": 330,
   "id": "3fcbff6d-7017-4ecc-b9d9-de79e0a78503",
   "metadata": {},
   "outputs": [
    {
     "name": "stdout",
     "output_type": "stream",
     "text": [
      "536\n",
      "Player    0\n",
      "Team      0\n",
      "Salary    0\n",
      "dtype: int64\n"
     ]
    }
   ],
   "source": [
    "# Cleaning Salary Data\n",
    "\n",
    "# Removing dollar signs from salary\n",
    "salarydf['Salary'] = salarydf['Salary'].replace(r'[\\$,]', '', regex=True).astype(int)\n",
    "\n",
    "# Show and drop exact duplicate rows (all columns match)\n",
    "# duplicate_rows = salarydf[salarydf.duplicated()]\n",
    "# print(duplicate_rows)\n",
    "\n",
    "salarydf = salarydf.drop_duplicates()\n",
    "\n",
    "print(len(salarydf))\n",
    "\n",
    "# Strip whitespace from player names\n",
    "salarydf['Player'] = salarydf['Player'].str.strip()\n",
    "\n",
    "# Check for missing/null values\n",
    "print(salarydf.isnull().sum())"
   ]
  },
  {
   "cell_type": "code",
   "execution_count": 331,
   "id": "5334d444-c23e-4703-8000-ffb6373f43e5",
   "metadata": {},
   "outputs": [
    {
     "name": "stdout",
     "output_type": "stream",
     "text": [
      "      Rk        Player  Age Team Pos   G  GS    MP   FG   FGA    FG%   3P  \\\n",
      "331  271    AJ Johnson   20  2TM  SG  29  11  22.0  2.8   7.3  0.385  0.8   \n",
      "333  271    AJ Johnson   20  WAS  SG  22  11  27.0  3.4   8.8  0.381  1.0   \n",
      "332  271    AJ Johnson   20  MIL  SG   7   0   6.3  1.1   2.7  0.421  0.4   \n",
      "678  521      Alex Len   31  2TM   C  46   7   8.3  0.7   1.4  0.508  0.0   \n",
      "679  521      Alex Len   31  SAC   C  36   3   7.2  0.6   1.1  0.537  0.0   \n",
      "..   ...           ...  ...  ...  ..  ..  ..   ...  ...   ...    ...  ...   \n",
      "406  326  Zach Collins   27  2TM  PF  64  12  15.3  2.4   4.7  0.507  0.5   \n",
      "408  326  Zach Collins   27  CHI  PF  28   8  19.7  3.3   6.1  0.541  0.6   \n",
      "36    29   Zach LaVine   29  SAC  SG  32  32  36.6  8.2  16.0  0.511  3.2   \n",
      "35    29   Zach LaVine   29  CHI  SF  42  42  34.1  8.6  16.9  0.511  3.2   \n",
      "34    29   Zach LaVine   29  2TM  SF  74  74  35.2  8.4  16.5  0.511  3.2   \n",
      "\n",
      "     3PA    3P%   2P  2PA    2P%   eFG%   FT  FTA    FT%  ORB  DRB  TRB  AST  \\\n",
      "331  3.1  0.267  2.0  4.2  0.472  0.441  1.1  1.3  0.865  0.3  1.8  2.0  2.6   \n",
      "333  3.9  0.247  2.4  5.0  0.486  0.436  1.4  1.6  0.886  0.4  2.0  2.4  3.1   \n",
      "332  0.7  0.600  0.7  2.0  0.357  0.500  0.1  0.3  0.500  0.0  1.0  1.0  1.0   \n",
      "678  0.2  0.222  0.7  1.2  0.556  0.524  0.2  0.4  0.471  0.8  1.2  2.1  0.8   \n",
      "679  0.2  0.167  0.6  1.0  0.600  0.549  0.2  0.4  0.538  0.7  1.1  1.8  0.8   \n",
      "..   ...    ...  ...  ...    ...    ...  ...  ...    ...  ...  ...  ...  ...   \n",
      "406  1.7  0.302  1.9  3.1  0.617  0.560  1.1  1.2  0.885  1.6  2.9  4.5  1.7   \n",
      "408  2.1  0.300  2.6  3.9  0.673  0.594  1.4  1.5  0.884  2.3  4.4  6.7  2.1   \n",
      "36   7.2  0.446  5.0  8.8  0.564  0.611  2.8  3.2  0.874  0.3  3.2  3.5  3.8   \n",
      "35   7.3  0.446  5.4  9.6  0.560  0.607  3.5  4.3  0.797  0.3  4.5  4.8  4.5   \n",
      "34   7.2  0.446  5.2  9.3  0.562  0.609  3.2  3.9  0.825  0.3  4.0  4.3  4.2   \n",
      "\n",
      "     STL  BLK  TOV   PF   PTS  \n",
      "331  0.4  0.1  1.2  1.7   7.6  \n",
      "333  0.5  0.1  1.4  2.3   9.1  \n",
      "332  0.1  0.0  0.6  0.0   2.9  \n",
      "678  0.2  0.5  0.4  1.2   1.6  \n",
      "679  0.2  0.5  0.3  1.0   1.4  \n",
      "..   ...  ...  ...  ...   ...  \n",
      "406  0.5  0.5  0.9  2.1   6.4  \n",
      "408  0.5  0.5  1.3  2.2   8.6  \n",
      "36   0.6  0.1  2.7  1.8  22.4  \n",
      "35   0.9  0.2  2.9  1.5  24.0  \n",
      "34   0.8  0.2  2.8  1.6  23.3  \n",
      "\n",
      "[247 rows x 30 columns]\n",
      "      Rk           Player  Age Team Pos   G  GS    MP   FG   FGA    FG%   3P  \\\n",
      "244  276       A.J. Green   25  MIL  SG  73   7  22.7  2.5   5.8  0.429  2.1   \n",
      "197  218      A.J. Lawson   24  TOR  SG  26   2  18.7  3.1   7.3  0.421  1.3   \n",
      "518  271       AJ Johnson   20  2TM  SG  29  11  22.0  2.8   7.3  0.385  0.8   \n",
      "89    98     Aaron Gordon   29  DEN  PF  51  42  28.4  5.2   9.7  0.531  1.5   \n",
      "314  363    Aaron Holiday   28  HOU  PG  62   3  12.8  1.9   4.3  0.437  1.2   \n",
      "..   ...              ...  ...  ...  ..  ..  ..   ...  ...   ...    ...  ...   \n",
      "491   29      Zach LaVine   29  2TM  SF  74  74  35.2  8.4  16.5  0.511  3.2   \n",
      "394  462       Zeke Nnaji   24  DEN  PF  57   4  10.7  1.2   2.5  0.496  0.3   \n",
      "175  192  Ziaire Williams   23  BRK  SF  63  45  24.5  3.4   8.3  0.412  1.6   \n",
      "14    17  Zion Williamson   24  NOP  PF  30  30  28.6  9.6  16.9  0.567  0.1   \n",
      "485  567      Zyon Pullin   23  MEM  SG   3   0   1.0  0.0   0.3  0.000  0.0   \n",
      "\n",
      "     3PA    3P%   2P   2PA    2P%   eFG%   FT  FTA    FT%  ORB  DRB  TRB  AST  \\\n",
      "244  5.0  0.427  0.4   0.8  0.443  0.612  0.3  0.4  0.815  0.2  2.1  2.4  1.5   \n",
      "197  3.9  0.327  1.8   3.4  0.528  0.508  1.7  2.4  0.683  0.8  2.5  3.3  1.2   \n",
      "518  3.1  0.267  2.0   4.2  0.472  0.441  1.1  1.3  0.865  0.3  1.8  2.0  2.6   \n",
      "89   3.4  0.436  3.7   6.4  0.582  0.607  2.8  3.5  0.810  1.6  3.3  4.8  3.2   \n",
      "314  2.9  0.398  0.7   1.4  0.517  0.571  0.5  0.7  0.829  0.2  1.0  1.3  1.3   \n",
      "..   ...    ...  ...   ...    ...    ...  ...  ...    ...  ...  ...  ...  ...   \n",
      "491  7.2  0.446  5.2   9.3  0.562  0.609  3.2  3.9  0.825  0.3  4.0  4.3  4.2   \n",
      "394  0.9  0.327  0.9   1.6  0.596  0.557  0.5  0.8  0.614  0.6  1.0  1.6  0.4   \n",
      "175  4.8  0.341  1.8   3.5  0.509  0.511  1.6  2.0  0.821  1.0  3.6  4.6  1.3   \n",
      "14   0.4  0.231  9.5  16.5  0.576  0.570  5.3  8.0  0.656  2.5  4.7  7.2  5.3   \n",
      "485  0.0    NaN  0.0   0.3  0.000  0.000  0.0  0.0    NaN  0.0  0.0  0.0  0.0   \n",
      "\n",
      "     STL  BLK  TOV   PF   PTS  \n",
      "244  0.5  0.1  0.5  2.2   7.4  \n",
      "197  0.5  0.2  0.6  1.7   9.1  \n",
      "518  0.4  0.1  1.2  1.7   7.6  \n",
      "89   0.5  0.3  1.4  1.6  14.7  \n",
      "314  0.3  0.2  0.6  1.0   5.5  \n",
      "..   ...  ...  ...  ...   ...  \n",
      "491  0.8  0.2  2.8  1.6  23.3  \n",
      "394  0.4  0.7  0.2  1.1   3.2  \n",
      "175  1.0  0.4  1.1  2.4  10.0  \n",
      "14   1.2  0.9  3.0  2.7  24.6  \n",
      "485  0.0  0.0  0.0  0.0   0.0  \n",
      "\n",
      "[569 rows x 30 columns]\n"
     ]
    }
   ],
   "source": [
    "# Cleaning Stats Data\n",
    "\n",
    "# 1) players played for multiple teams.\n",
    "\n",
    "# Step 1: Count how many times each player appears (find players with multiple teams)\n",
    "duplicate_players = statsdf['Player'].value_counts()\n",
    "multi_team_players = duplicate_players[duplicate_players > 1].index\n",
    "\n",
    "# Step 2: Filter rows where the player is in that list (i.e., players who moved teams)\n",
    "multi_team_rows = statsdf[statsdf['Player'].isin(multi_team_players)]\n",
    "\n",
    "# Show the rows where players moved teams (to check)\n",
    "print(multi_team_rows.sort_values(by='Player'))\n",
    "\n",
    "# Step 3: Separate the single-team rows (players who stayed with one team)\n",
    "single_team_rows = statsdf[~statsdf['Player'].isin(multi_team_players)]\n",
    "\n",
    "# Step 4: Combine the single-team rows with the multi-team rows that we will keep (one row per player)\n",
    "# Here, we're keeping the first row for each player in multi_team_rows (the one with '2TM', '3TM', etc.)\n",
    "summary_rows = multi_team_rows.drop_duplicates(subset='Player', keep='first')\n",
    "\n",
    "# Combine the two parts together\n",
    "cleaned_statsdf = pd.concat([single_team_rows, summary_rows], ignore_index=True)\n",
    "\n",
    "# Step 5: Show the cleaned data\n",
    "print(cleaned_statsdf.sort_values(by='Player'))\n"
   ]
  },
  {
   "cell_type": "code",
   "execution_count": 332,
   "id": "e4fa2f8c-8b83-479e-8d77-a83cdfe4cd58",
   "metadata": {},
   "outputs": [
    {
     "name": "stdout",
     "output_type": "stream",
     "text": [
      "Rk        0\n",
      "Player    0\n",
      "Age       0\n",
      "Team      0\n",
      "Pos       0\n",
      "G         0\n",
      "GS        0\n",
      "MP        0\n",
      "FG        0\n",
      "FGA       0\n",
      "FG%       0\n",
      "3P        0\n",
      "3PA       0\n",
      "3P%       0\n",
      "2P        0\n",
      "2PA       0\n",
      "2P%       0\n",
      "eFG%      0\n",
      "FT        0\n",
      "FTA       0\n",
      "FT%       0\n",
      "ORB       0\n",
      "DRB       0\n",
      "TRB       0\n",
      "AST       0\n",
      "STL       0\n",
      "BLK       0\n",
      "TOV       0\n",
      "PF        0\n",
      "PTS       0\n",
      "dtype: int64\n"
     ]
    }
   ],
   "source": [
    "# 2) check for missing/null values:\n",
    "\n",
    "cleaned_statsdf = cleaned_statsdf.fillna(0)\n",
    "print(cleaned_statsdf.isnull().sum())\n",
    "\n",
    "# 3) Strip potential whitespaces in player names\n",
    "\n",
    "cleaned_statsdf['Player'] = cleaned_statsdf['Player'].str.strip()\n",
    "\n",
    "# 4) Remove 'Rk' column\n",
    "\n",
    "cleaned_statsdf = cleaned_statsdf.drop(columns=['Rk'], errors='ignore')\n"
   ]
  },
  {
   "cell_type": "code",
   "execution_count": 333,
   "id": "8548c5f1-b13a-434a-b31a-34547d44a842",
   "metadata": {},
   "outputs": [
    {
     "name": "stdout",
     "output_type": "stream",
     "text": [
      "                    Player  Age Team Pos   G  GS    MP    FG   FGA    FG%  \\\n",
      "0  Shai Gilgeous-Alexander   26  OKC  PG  76  76  34.2  11.3  21.8  0.519   \n",
      "1    Giannis Antetokounmpo   30  MIL  PF  67  67  34.2  11.8  19.7  0.601   \n",
      "2             Nikola Jokic   29  DEN   C  70  70  36.7  11.2  19.5  0.576   \n",
      "3          Anthony Edwards   23  MIN  SG  79  79  36.3   9.1  20.4  0.447   \n",
      "4             Jayson Tatum   26  BOS  PF  72  72  36.4   9.2  20.3  0.452   \n",
      "\n",
      "    3P   3PA    3P%    2P   2PA    2P%   eFG%   FT   FTA    FT%  ORB  DRB  \\\n",
      "0  2.1   5.7  0.375   9.2  16.1  0.571  0.569  7.9   8.8  0.898  0.9  4.1   \n",
      "1  0.2   0.9  0.222  11.6  18.7  0.620  0.607  6.5  10.6  0.617  2.2  9.7   \n",
      "2  2.0   4.7  0.417   9.3  14.8  0.627  0.627  5.2   6.4  0.800  2.9  9.9   \n",
      "3  4.1  10.3  0.395   5.1  10.1  0.501  0.547  5.3   6.3  0.837  0.8  4.9   \n",
      "4  3.5  10.1  0.343   5.7  10.2  0.559  0.537  5.0   6.1  0.814  0.7  8.0   \n",
      "\n",
      "    TRB   AST  STL  BLK  TOV   PF   PTS    Salary  \n",
      "0   5.0   6.4  1.7  1.0  2.4  2.2  32.7  35859950  \n",
      "1  11.9   6.5  0.9  1.2  3.1  2.3  30.4  48787676  \n",
      "2  12.7  10.2  1.8  0.6  3.3  2.3  29.6  51415938  \n",
      "3   5.7   4.5  1.2  0.6  3.2  1.9  27.6  42176400  \n",
      "4   8.7   6.0  1.1  0.5  2.9  2.2  26.8  34848340  \n"
     ]
    }
   ],
   "source": [
    "# Merge the datasets\n",
    "\n",
    "# Merge on 'Player'\n",
    "stats_salary = pd.merge(cleaned_statsdf, salarydf[['Player', 'Salary']], on='Player', how='inner')\n",
    "\n",
    "# Show the first few rows\n",
    "print(stats_salary.head())"
   ]
  },
  {
   "cell_type": "code",
   "execution_count": 334,
   "id": "4e79a21f-805b-43dd-ba84-f75f59daab00",
   "metadata": {},
   "outputs": [
    {
     "name": "stdout",
     "output_type": "stream",
     "text": [
      "Salary    1.000000\n",
      "PTS       0.737977\n",
      "FG        0.729211\n",
      "FGA       0.709757\n",
      "FT        0.697531\n",
      "FTA       0.680152\n",
      "2PA       0.679644\n",
      "2P        0.670809\n",
      "MP        0.647724\n",
      "TOV       0.633619\n",
      "GS        0.614232\n",
      "AST       0.612352\n",
      "DRB       0.543936\n",
      "3P        0.496067\n",
      "3PA       0.493825\n",
      "TRB       0.474727\n",
      "STL       0.470319\n",
      "PF        0.389425\n",
      "Age       0.313994\n",
      "G         0.292012\n",
      "BLK       0.234973\n",
      "FT%       0.232981\n",
      "ORB       0.213054\n",
      "FG%       0.155985\n",
      "eFG%      0.139861\n",
      "3P%       0.132112\n",
      "2P%       0.090879\n",
      "Name: Salary, dtype: float64\n"
     ]
    }
   ],
   "source": [
    "# Show Correlation (Numbers)\n",
    "\n",
    "# Compute correlation with Salary\n",
    "correlations = stats_salary.corr(numeric_only=True)['Salary'].sort_values(ascending=False)\n",
    "\n",
    "print(correlations)"
   ]
  },
  {
   "cell_type": "code",
   "execution_count": 335,
   "id": "79ab0448-5312-433c-8c9e-db062d4c1572",
   "metadata": {},
   "outputs": [
    {
     "data": {
      "image/png": "[encoded data removed]",
      "text/plain": [
       "<Figure size 1000x800 with 1 Axes>"
      ]
     },
     "metadata": {},
     "output_type": "display_data"
    }
   ],
   "source": [
    "# Show Correlation (Barplot)\n",
    "\n",
    "# Filter only numeric columns\n",
    "numeric_df = stats_salary.select_dtypes(include='number')\n",
    "\n",
    "# Correlation with Salary\n",
    "salary_corr = numeric_df.corr()['Salary'].drop('Salary').sort_values(ascending=False)\n",
    "\n",
    "# Plot\n",
    "plt.figure(figsize=(10, 8))\n",
    "sns.barplot(\n",
    "    x=salary_corr.values,\n",
    "    y=salary_corr.index,\n",
    "    hue=salary_corr.index,\n",
    "    palette=\"coolwarm\",\n",
    "    legend=False\n",
    ")\n",
    "plt.title(\"Correlation of Stats with Salary\", fontsize=14)\n",
    "plt.xlabel(\"Correlation\")\n",
    "plt.ylabel(\"Stat\")\n",
    "plt.tight_layout()\n",
    "plt.show()"
   ]
  },
  {
   "cell_type": "code",
   "execution_count": 336,
   "id": "789cef88-f316-424a-a5b9-ef2f1ce4d0fd",
   "metadata": {},
   "outputs": [],
   "source": [
    "# Function of scatterplot comparing player's salary with various stats\n",
    "\n",
    "stats_salary['Salary_M'] = stats_salary['Salary'] / 1e6\n",
    "\n",
    "def plot_salary_vs_stat(stat_col):\n",
    "    # Convert 'Salary' to 'Salary_M' if not already in millions\n",
    "    if 'Salary_M' not in stats_salary.columns:\n",
    "        stats_salary['Salary_M'] = stats_salary['Salary'] / 1e6\n",
    "\n",
    "    # Create scatter plot with salary on X-axis\n",
    "    fig = px.scatter(\n",
    "        stats_salary,\n",
    "        x='Salary_M',   # Now Salary is on the X-axis\n",
    "        y=stat_col,     # The stat column will be on the Y-axis\n",
    "        hover_data={\n",
    "            'Player': True,\n",
    "            stat_col: True,\n",
    "            'Salary_M': ':.2f'  # Showing Salary in Millions\n",
    "        },\n",
    "        trendline='ols',  # Add a regression line\n",
    "        title=f'Salary vs {stat_col}',  # Dynamic title\n",
    "        labels={'Salary_M': 'Salary ($M)', stat_col: stat_col},  # Axis labels\n",
    "        trendline_color_override='black'  # Set the color of the regression line (blue)\n",
    "    )\n",
    "\n",
    "    fig.update_traces(marker=dict(color='skyblue'))  # Change all points to red\n",
    "\n",
    "    # Customize layout\n",
    "    fig.update_layout(\n",
    "        xaxis_tickprefix=\"$\",  # Prefix for Salary\n",
    "        xaxis_ticksuffix=\"M\",  # Suffix for Salary (in millions)\n",
    "        template='plotly_white'  # A clean plot template\n",
    "    )\n",
    "    fig.show()"
   ]
  },
  {
   "cell_type": "code",
   "execution_count": 337,
   "id": "9be831e0-d22d-4e94-adb7-f5ead6f4b3c2",
   "metadata": {},
   "outputs": [
    {
     "data": {
      "application/vnd.plotly.v1+json": {
       "config": {
        "plotlyServerURL": "https://plot.ly"
       },
       "data": [
        {
         "customdata": [
          [
           "Shai Gilgeous-Alexander"
          ],
          [
           "Giannis Antetokounmpo"
          ],
          [
           "Nikola Jokic"
          ],
          [
           "Anthony Edwards"
          ],
          [
           "Jayson Tatum"
          ],
          [
           "Kevin Durant"
          ],
          [
           "Tyrese Maxey"
          ],
          [
           "Cade Cunningham"
          ],
          [
           "Jalen Brunson"
          ],
          [
           "Paolo Banchero"
          ],
          [
           "Devin Booker"
          ],
          [
           "LaMelo Ball"
          ],
          [
           "Damian Lillard"
          ],
          [
           "Kyrie Irving"
          ],
          [
           "Zion Williamson"
          ],
          [
           "Stephen Curry"
          ],
          [
           "LeBron James"
          ],
          [
           "Karl-Anthony Towns"
          ],
          [
           "Victor Wembanyama"
          ],
          [
           "Franz Wagner"
          ],
          [
           "Trae Young"
          ],
          [
           "Donovan Mitchell"
          ],
          [
           "Cam Thomas"
          ],
          [
           "Tyler Herro"
          ],
          [
           "Joel Embiid"
          ],
          [
           "Ja Morant"
          ],
          [
           "James Harden"
          ],
          [
           "Jaylen Brown"
          ],
          [
           "DeMar DeRozan"
          ],
          [
           "Brandon Ingram"
          ],
          [
           "Jaren Jackson Jr."
          ],
          [
           "Norman Powell"
          ],
          [
           "Jalen Williams"
          ],
          [
           "Kawhi Leonard"
          ],
          [
           "Jamal Murray"
          ],
          [
           "Trey Murphy III"
          ],
          [
           "RJ Barrett"
          ],
          [
           "CJ McCollum"
          ],
          [
           "Jalen Green"
          ],
          [
           "Brandon Miller"
          ],
          [
           "Darius Garland"
          ],
          [
           "Jordan Poole"
          ],
          [
           "Coby White"
          ],
          [
           "Miles Bridges"
          ],
          [
           "Austin Reaves"
          ],
          [
           "Pascal Siakam"
          ],
          [
           "Kristaps Porzingis"
          ],
          [
           "Scottie Barnes"
          ],
          [
           "Anfernee Simons"
          ],
          [
           "Desmond Bane"
          ],
          [
           "Domantas Sabonis"
          ],
          [
           "Alperen Sengun"
          ],
          [
           "John Collins"
          ],
          [
           "Lauri Markkanen"
          ],
          [
           "Jalen Johnson"
          ],
          [
           "Cameron Johnson"
          ],
          [
           "Julius Randle"
          ],
          [
           "Tyrese Haliburton"
          ],
          [
           "Evan Mobley"
          ],
          [
           "Shaedon Sharpe"
          ],
          [
           "Nikola Vucevic"
          ],
          [
           "Collin Sexton"
          ],
          [
           "Michael Porter Jr."
          ],
          [
           "Bam Adebayo"
          ],
          [
           "OG Anunoby"
          ],
          [
           "Mikal Bridges"
          ],
          [
           "Jaden Ivey"
          ],
          [
           "Dejounte Murray"
          ],
          [
           "Malik Monk"
          ],
          [
           "Immanuel Quickley"
          ],
          [
           "Bradley Beal"
          ],
          [
           "Deni Avdija"
          ],
          [
           "Keyonte George"
          ],
          [
           "Ivica Zubac"
          ],
          [
           "Derrick White"
          ],
          [
           "Malik Beasley"
          ],
          [
           "Devin Vassell"
          ],
          [
           "Jordan Clarkson"
          ],
          [
           "Paul George"
          ],
          [
           "Jalen Suggs"
          ],
          [
           "Bennedict Mathurin"
          ],
          [
           "Myles Turner"
          ],
          [
           "Christian Braun"
          ],
          [
           "Jonathan Kuminga"
          ],
          [
           "Jared McCain"
          ],
          [
           "Mark Williams"
          ],
          [
           "Kelly Oubre Jr."
          ],
          [
           "Chet Holmgren"
          ],
          [
           "Stephon Castle"
          ],
          [
           "Aaron Gordon"
          ],
          [
           "P.J. Washington"
          ],
          [
           "Josh Giddey"
          ],
          [
           "Jakob Poeltl"
          ],
          [
           "Deandre Ayton"
          ],
          [
           "Gradey Dick"
          ],
          [
           "Jerami Grant"
          ],
          [
           "Payton Pritchard"
          ],
          [
           "Naz Reid"
          ],
          [
           "Dyson Daniels"
          ],
          [
           "Tre Mann"
          ],
          [
           "Amen Thompson"
          ],
          [
           "Fred VanVleet"
          ],
          [
           "Dillon Brooks"
          ],
          [
           "Klay Thompson"
          ],
          [
           "Bobby Portis"
          ],
          [
           "Tobias Harris"
          ],
          [
           "Josh Hart"
          ],
          [
           "Jarrett Allen"
          ],
          [
           "Onyeka Okongwu"
          ],
          [
           "Russell Westbrook"
          ],
          [
           "Russell Westbrook"
          ],
          [
           "Naji Marshall"
          ],
          [
           "Rui Hachimura"
          ],
          [
           "Brook Lopez"
          ],
          [
           "Alex Sarr"
          ],
          [
           "Moritz Wagner"
          ],
          [
           "Malcolm Brogdon"
          ],
          [
           "Scoot Henderson"
          ],
          [
           "Keldon Johnson"
          ],
          [
           "Zaccharie Risacher"
          ],
          [
           "Santi Aldama"
          ],
          [
           "Ty Jerome"
          ],
          [
           "Keegan Murray"
          ],
          [
           "Lonnie Walker IV"
          ],
          [
           "Harrison Barnes"
          ],
          [
           "Bilal Coulibaly"
          ],
          [
           "Ayo Dosunmu"
          ],
          [
           "Daniel Gafford"
          ],
          [
           "Jaden McDaniels"
          ],
          [
           "Jabari Smith Jr."
          ],
          [
           "Drew Timme"
          ],
          [
           "Tari Eason"
          ],
          [
           "Rudy Gobert"
          ],
          [
           "Aaron Nesmith"
          ],
          [
           "Aaron Wiggins"
          ],
          [
           "Jalen Duren"
          ],
          [
           "Donte DiVincenzo"
          ],
          [
           "Brandin Podziemski"
          ],
          [
           "Corey Kispert"
          ],
          [
           "Jeremy Sochan"
          ],
          [
           "Toumani Camara"
          ],
          [
           "Isaiah Hartenstein"
          ],
          [
           "Buddy Hield"
          ],
          [
           "Jrue Holiday"
          ],
          [
           "Walker Kessler"
          ],
          [
           "Gary Trent Jr."
          ],
          [
           "Spencer Dinwiddie"
          ],
          [
           "Tim Hardaway Jr."
          ],
          [
           "Duncan Robinson"
          ],
          [
           "Guerschon Yabusele"
          ],
          [
           "Brice Sensabaugh"
          ],
          [
           "Jordan Hawkins"
          ],
          [
           "Brandon Boston Jr."
          ],
          [
           "Grayson Allen"
          ],
          [
           "Keon Johnson"
          ],
          [
           "Terry Rozier"
          ],
          [
           "Obi Toppin"
          ],
          [
           "Ochai Agbaji"
          ],
          [
           "Jaylen Wells"
          ],
          [
           "Grant Williams"
          ],
          [
           "Jose Alvarado"
          ],
          [
           "Nic Claxton"
          ],
          [
           "Herbert Jones"
          ],
          [
           "De'Anthony Melton"
          ],
          [
           "Isaiah Joe"
          ],
          [
           "Tyus Jones"
          ],
          [
           "Trendon Watford"
          ],
          [
           "Luguentz Dort"
          ],
          [
           "Justin Edwards"
          ],
          [
           "Derrick Jones Jr."
          ],
          [
           "Ausar Thompson"
          ],
          [
           "Chris Boucher"
          ],
          [
           "Andrew Nembhard"
          ],
          [
           "Ziaire Williams"
          ],
          [
           "Julian Champagnie"
          ],
          [
           "Scotty Pippen Jr."
          ],
          [
           "Nick Smith Jr."
          ],
          [
           "Bub Carrington"
          ],
          [
           "Moses Moody"
          ],
          [
           "Amir Coffey"
          ],
          [
           "Kyle Filipowski"
          ],
          [
           "Miles McBride"
          ],
          [
           "Jalen Wilson"
          ],
          [
           "Nickeil Alexander-Walker"
          ],
          [
           "Cole Anthony"
          ],
          [
           "Anthony Black"
          ],
          [
           "Max Strus"
          ],
          [
           "Cam Whitmore"
          ],
          [
           "Kel'el Ware"
          ],
          [
           "Zach Edey"
          ],
          [
           "Wendell Carter Jr."
          ],
          [
           "Noah Clowney"
          ],
          [
           "Dalton Knecht"
          ],
          [
           "A.J. Lawson"
          ],
          [
           "T.J. McConnell"
          ],
          [
           "Yves Missi"
          ],
          [
           "Royce O'Neale"
          ],
          [
           "Draymond Green"
          ],
          [
           "Killian Hayes"
          ],
          [
           "Al Horford"
          ],
          [
           "Julian Strawther"
          ],
          [
           "Patrick Williams"
          ],
          [
           "Clint Capela"
          ],
          [
           "Johnny Juzang"
          ],
          [
           "Luke Kennard"
          ],
          [
           "Justin Champagnie"
          ],
          [
           "Svi Mykhailiuk"
          ],
          [
           "Chris Paul"
          ],
          [
           "Oshae Brissett"
          ],
          [
           "Kentavious Caldwell-Pope"
          ],
          [
           "Isaiah Collier"
          ],
          [
           "Dante Exum"
          ],
          [
           "Kyshawn George"
          ],
          [
           "Jaden Hardy"
          ],
          [
           "Dereck Lively II"
          ],
          [
           "Tyrese Martin"
          ],
          [
           "Matas Buzelis"
          ],
          [
           "Jaime Jaquez Jr."
          ],
          [
           "Ja'Kobe Walter"
          ],
          [
           "Sam Hauser"
          ],
          [
           "Larry Nance Jr."
          ],
          [
           "Jaylen Nowell"
          ],
          [
           "Jaylen Nowell"
          ],
          [
           "Cason Wallace"
          ],
          [
           "Dalano Banton"
          ],
          [
           "Brandon Clarke"
          ],
          [
           "Keon Ellis"
          ],
          [
           "Brandon Williams"
          ],
          [
           "Mike Conley"
          ],
          [
           "Taurean Prince"
          ],
          [
           "Jalen Smith"
          ],
          [
           "Quinten Post"
          ],
          [
           "Peyton Watson"
          ],
          [
           "Day'Ron Sharpe"
          ],
          [
           "Karlo Matkovic"
          ],
          [
           "Lonzo Ball"
          ],
          [
           "Garrison Mathews"
          ],
          [
           "Matisse Thybulle"
          ],
          [
           "A.J. Green"
          ],
          [
           "Josh Green"
          ],
          [
           "Richaun Holmes"
          ],
          [
           "Alec Burks"
          ],
          [
           "Ricky Council IV"
          ],
          [
           "Andre Drummond"
          ],
          [
           "Goga Bitadze"
          ],
          [
           "Tristan Da Silva"
          ],
          [
           "GG Jackson II"
          ],
          [
           "Vit Krejci"
          ],
          [
           "Sam Merrill"
          ],
          [
           "Nae'Qwan Tomlin"
          ],
          [
           "Jamison Battle"
          ],
          [
           "Alex Caruso"
          ],
          [
           "Jamal Shead"
          ],
          [
           "Marcus Garrett"
          ],
          [
           "Isaiah Jackson"
          ],
          [
           "Jaylen Sims"
          ],
          [
           "Ryan Dunn"
          ],
          [
           "Jay Huff"
          ],
          [
           "Cameron Payne"
          ],
          [
           "Antonio Reeves"
          ],
          [
           "Bol Bol"
          ],
          [
           "Eric Gordon"
          ],
          [
           "Jaxson Hayes"
          ],
          [
           "Marcus Bagley"
          ],
          [
           "DaQuan Jeffries"
          ],
          [
           "Precious Achiuwa"
          ],
          [
           "Trayce Jackson-Davis"
          ],
          [
           "Marcus Sasser"
          ],
          [
           "Vince Williams Jr."
          ],
          [
           "Donovan Clingan"
          ],
          [
           "Seth Curry"
          ],
          [
           "Haywood Highsmith"
          ],
          [
           "Talen Horton-Tucker"
          ],
          [
           "Trey Lyles"
          ],
          [
           "Ajay Mitchell"
          ],
          [
           "Gary Payton II"
          ],
          [
           "Kris Dunn"
          ],
          [
           "Ron Holland"
          ],
          [
           "Gabe Vincent"
          ],
          [
           "Sandro Mamukelashvili"
          ],
          [
           "Jeremiah Robinson-Earl"
          ],
          [
           "Kenrich Williams"
          ],
          [
           "Jonathan Mogbo"
          ],
          [
           "Ryan Rollins"
          ],
          [
           "Ryan Rollins"
          ],
          [
           "Isaac Okoro"
          ],
          [
           "Jarace Walker"
          ],
          [
           "Mouhamed Gueye"
          ],
          [
           "Luke Kornet"
          ],
          [
           "Isaiah Mobley"
          ],
          [
           "Isaiah Stewart"
          ],
          [
           "James Wiseman"
          ],
          [
           "Simone Fontecchio"
          ],
          [
           "Jaylin Williams"
          ],
          [
           "Adem Bona"
          ],
          [
           "Robert Williams"
          ],
          [
           "Moussa Diabate"
          ],
          [
           "Dariq Whitehead"
          ],
          [
           "Landry Shamet"
          ],
          [
           "Jordan Goodwin"
          ],
          [
           "Aaron Holiday"
          ],
          [
           "Jeff Green"
          ],
          [
           "Jonathan Isaac"
          ],
          [
           "Dean Wade"
          ],
          [
           "Kobe Bufkin"
          ],
          [
           "Pat Connaughton"
          ],
          [
           "Kevin Love"
          ],
          [
           "Ben Sheppard"
          ],
          [
           "Monte Morris"
          ],
          [
           "Jabari Walker"
          ],
          [
           "Bismack Biyombo"
          ],
          [
           "Mitchell Robinson"
          ],
          [
           "Malaki Branham"
          ],
          [
           "Neemias Queta"
          ],
          [
           "Jock Landale"
          ],
          [
           "Taylor Hendricks"
          ],
          [
           "Pelle Larsson"
          ],
          [
           "Julian Phillips"
          ],
          [
           "Cody Williams"
          ],
          [
           "Rob Dillingham"
          ],
          [
           "Jett Howard"
          ],
          [
           "Kevon Looney"
          ],
          [
           "Mason Plumlee"
          ],
          [
           "Dalen Terry"
          ],
          [
           "Charles Bassey"
          ],
          [
           "Tony Bradley"
          ],
          [
           "Reggie Jackson"
          ],
          [
           "Reggie Jackson"
          ],
          [
           "Reed Sheppard"
          ],
          [
           "Lamar Stevens"
          ],
          [
           "Jevon Carter"
          ],
          [
           "Terrence Shannon Jr."
          ],
          [
           "Daniel Theis"
          ],
          [
           "Dominick Barlow"
          ],
          [
           "Oso Ighodaro"
          ],
          [
           "Kris Murray"
          ],
          [
           "Duop Reath"
          ],
          [
           "Jaylen Clark"
          ],
          [
           "Caleb Houstan"
          ],
          [
           "Jordan Miller"
          ],
          [
           "Jalen Pickett"
          ],
          [
           "Paul Reed"
          ],
          [
           "Gui Santos"
          ],
          [
           "Jarred Vanderbilt"
          ],
          [
           "Nicolas Batum"
          ],
          [
           "Malachi Flynn"
          ],
          [
           "Josh Richardson"
          ],
          [
           "Steven Adams"
          ],
          [
           "Kyle Lowry"
          ],
          [
           "Olivier-Maxence Prosper"
          ],
          [
           "Branden Carlson"
          ],
          [
           "Devin Carter"
          ],
          [
           "Ousmane Dieng"
          ],
          [
           "DeAndre Jordan"
          ],
          [
           "Craig Porter Jr."
          ],
          [
           "Blake Wesley"
          ],
          [
           "Baylor Scheierman"
          ],
          [
           "Jae'Sean Tate"
          ],
          [
           "Jaylon Tyson"
          ],
          [
           "Luka Garza"
          ],
          [
           "Cory Joseph"
          ],
          [
           "Doug McDermott"
          ],
          [
           "Dario Saric"
          ],
          [
           "Bruno Fernando"
          ],
          [
           "Andre Jackson Jr."
          ],
          [
           "Isaac Jones"
          ],
          [
           "Kevin Knox"
          ],
          [
           "Damion Lee"
          ],
          [
           "Jeenathan Williams"
          ],
          [
           "Zeke Nnaji"
          ],
          [
           "Cam Reddish"
          ],
          [
           "Gary Harris"
          ],
          [
           "Maxi Kleber"
          ],
          [
           "Rayan Rupert"
          ],
          [
           "P.J. Tucker"
          ],
          [
           "P.J. Tucker"
          ],
          [
           "Markelle Fultz"
          ],
          [
           "Taj Gibson"
          ],
          [
           "Tyler Smith"
          ],
          [
           "Keshad Johnson"
          ],
          [
           "Jae Crowder"
          ],
          [
           "Josh Minott"
          ],
          [
           "Hunter Tyson"
          ],
          [
           "Anthony Gill"
          ],
          [
           "Dillon Jones"
          ],
          [
           "Pat Spencer"
          ],
          [
           "Johnny Davis"
          ],
          [
           "John Konchar"
          ],
          [
           "Bronny James"
          ],
          [
           "JD Davison"
          ],
          [
           "Chris Duarte"
          ],
          [
           "Johnny Furphy"
          ],
          [
           "Dwight Powell"
          ],
          [
           "Tyler Kolek"
          ],
          [
           "Kobe Brown"
          ],
          [
           "Ariel Hukporti"
          ],
          [
           "Bobi Klintman"
          ],
          [
           "Garrett Temple"
          ],
          [
           "Vlatko Cancar"
          ],
          [
           "E.J. Liddell"
          ],
          [
           "Pacome Dadiet"
          ],
          [
           "Tristan Thompson"
          ],
          [
           "Jordan Walsh"
          ],
          [
           "Phillip Wheeler"
          ],
          [
           "Leonard Miller"
          ],
          [
           "Matt Ryan"
          ],
          [
           "Cam Christie"
          ],
          [
           "Chris Livingston"
          ],
          [
           "Skal Labissiere"
          ],
          [
           "Yuri Collins"
          ],
          [
           "Braxton Key"
          ],
          [
           "Xavier Tillman Sr."
          ],
          [
           "PJ Dozier"
          ],
          [
           "Joe Ingles"
          ],
          [
           "James Johnson"
          ],
          [
           "Malevy Leons"
          ],
          [
           "Daishen Nix"
          ],
          [
           "Terence Davis"
          ],
          [
           "Jalen McDaniels"
          ],
          [
           "Jalen McDaniels"
          ],
          [
           "Jahlil Okafor"
          ],
          [
           "Terry Taylor"
          ],
          [
           "Luka Doncic"
          ],
          [
           "Anthony Davis"
          ],
          [
           "De'Aaron Fox"
          ],
          [
           "Zach LaVine"
          ],
          [
           "Andrew Wiggins"
          ],
          [
           "Jimmy Butler"
          ],
          [
           "De'Andre Hunter"
          ],
          [
           "Kyle Kuzma"
          ],
          [
           "Quentin Grimes"
          ],
          [
           "Dennis Schroder"
          ],
          [
           "D'Angelo Russell"
          ],
          [
           "Caris LeVert"
          ],
          [
           "Khris Middleton"
          ],
          [
           "Bogdan Bogdanovic"
          ],
          [
           "Jonas Valanciunas"
          ],
          [
           "Kevin Porter Jr."
          ],
          [
           "Kevin Porter Jr."
          ],
          [
           "Kevin Huerter"
          ],
          [
           "Georges Niang"
          ],
          [
           "Max Christie"
          ],
          [
           "Nick Richards"
          ],
          [
           "Jared Butler"
          ],
          [
           "Marcus Smart"
          ],
          [
           "Jusuf Nurkic"
          ],
          [
           "Kelly Olynyk"
          ],
          [
           "Dorian Finney-Smith"
          ],
          [
           "Jared Rhoden"
          ],
          [
           "Bruce Brown"
          ],
          [
           "Davion Mitchell"
          ],
          [
           "Caleb Martin"
          ],
          [
           "Terance Mann"
          ],
          [
           "AJ Johnson"
          ],
          [
           "Tre Jones"
          ],
          [
           "Josh Okogie"
          ],
          [
           "Jalen Hood-Schifino"
          ],
          [
           "Orlando Robinson"
          ],
          [
           "Orlando Robinson"
          ],
          [
           "Jake LaRavia"
          ],
          [
           "Cody Martin"
          ],
          [
           "Vasilije Micic"
          ],
          [
           "Thomas Bryant"
          ],
          [
           "Zach Collins"
          ],
          [
           "KJ Martin"
          ],
          [
           "Bones Hyland"
          ],
          [
           "Cole Swider"
          ],
          [
           "Chuma Okeke"
          ],
          [
           "Chuma Okeke"
          ],
          [
           "Kyle Anderson"
          ],
          [
           "Moses Brown"
          ],
          [
           "Moses Brown"
          ],
          [
           "Shake Milton"
          ],
          [
           "Javonte Green"
          ],
          [
           "Javonte Green"
          ],
          [
           "Ben Simmons"
          ],
          [
           "Ben Simmons"
          ],
          [
           "Lindy Waters III"
          ],
          [
           "Colin Castleton"
          ],
          [
           "Colin Castleton"
          ],
          [
           "David Roddy"
          ],
          [
           "David Roddy"
          ],
          [
           "Drew Eubanks"
          ],
          [
           "Marvin Bagley III"
          ],
          [
           "Mo Bamba"
          ],
          [
           "Mo Bamba"
          ],
          [
           "Torrey Craig"
          ],
          [
           "Torrey Craig"
          ],
          [
           "Wendell Moore Jr."
          ],
          [
           "Maxwell Lewis"
          ],
          [
           "Colby Jones"
          ],
          [
           "Patty Mills"
          ],
          [
           "Markieff Morris"
          ],
          [
           "Elfrid Payton"
          ],
          [
           "Elfrid Payton"
          ],
          [
           "Delon Wright"
          ],
          [
           "Kylor Kelley"
          ],
          [
           "Jaden Springer"
          ],
          [
           "Jaden Springer"
          ],
          [
           "MarJon Beauchamp"
          ],
          [
           "Patrick Baldwin Jr."
          ],
          [
           "Jordan McLaughlin"
          ],
          [
           "Jericho Sims"
          ],
          [
           "Alex Len"
          ],
          [
           "Alex Len"
          ],
          [
           "Sidy Cissoko"
          ]
         ],
         "hovertemplate": "Salary ($M)=%{x:.2f}<br>PTS=%{y}<br>Player=%{customdata[0]}<extra></extra>",
         "legendgroup": "",
         "marker": {
          "color": "skyblue",
          "symbol": "circle"
         },
         "mode": "markers",
         "name": "",
         "orientation": "v",
         "showlegend": false,
         "type": "scatter",
         "x": [
          35.85995,
          48.787676,
          51.415938,
          42.1764,
          34.84834,
          51.179021,
          35.147,
          13.940809,
          24.960001,
          12.1608,
          49.2058,
          35.147,
          48.787676,
          41,
          36.72567,
          55.761216,
          48.728845,
          49.2058,
          12.76896,
          7.007092,
          43.03194,
          35.41031,
          4.041249,
          29,
          51.415938,
          36.72567,
          33.653846,
          49.2058,
          23.4,
          36.0162,
          25.257798,
          19.241379,
          4.77576,
          49.2058,
          36.0162,
          5.159854,
          25.794643,
          33.333333,
          12.483048,
          11.4246,
          36.72567,
          29.651786,
          12,
          27.173913,
          12.976362,
          42.1764,
          29.268293,
          10.13098,
          25.892857,
          34.00525,
          40.5,
          5.424654,
          26.58,
          42.1764,
          4.510905,
          22.5,
          33.07392,
          42.1764,
          11.227657,
          6.61416,
          20,
          18.35,
          35.85995,
          34.84834,
          36.637932,
          23.3,
          7.97724,
          29.517135,
          17.405203,
          32.5,
          50.20393,
          15.625,
          4.0842,
          11.74321,
          20.071429,
          6,
          29.347826,
          14.092577,
          49.2058,
          9.188385,
          7.24572,
          19.9285,
          3.08964,
          7.636307,
          4.02036,
          4.09428,
          7.983,
          10.88064,
          9.10512,
          22.841455,
          15.5,
          8.352367,
          19.5,
          34.005126,
          4.76376,
          29.793104,
          6.696429,
          13.986432,
          6.05952,
          4.908373,
          9.24996,
          42.846615,
          22.255493,
          15.873016,
          12.578286,
          25.365854,
          18.144,
          20,
          14,
          5.631296,
          5.631296,
          8.571429,
          17,
          23,
          11.24568,
          11,
          22.5,
          10.25916,
          19,
          12.56904,
          3.960531,
          2.560975,
          8.80956,
          0.780932,
          18,
          6.94524,
          7,
          13.39416,
          23.017242,
          9.77088,
          0.113055,
          3.69516,
          43.827586,
          11,
          10.514017,
          4.53684,
          11.445,
          3.51996,
          5.705887,
          5.57004,
          1.891857,
          30,
          8.780488,
          30,
          2.96592,
          2.087519,
          2.087519,
          16.193183,
          19.406,
          2.087519,
          2.57148,
          4.52568,
          0.596581,
          15.625,
          2.162606,
          24.924126,
          12.975,
          4.31028,
          1.157153,
          13.02525,
          1.988598,
          27.556817,
          12.976362,
          12.822,
          12.99165,
          2.087519,
          2.726603,
          16.5,
          0.425619,
          9.52381,
          8.376,
          10.81,
          2.019699,
          6.133005,
          3,
          2.087519,
          2.5872,
          4.45488,
          5.803269,
          3.938271,
          3,
          4.710144,
          1.891857,
          4.3125,
          12.9,
          7.60776,
          15.212068,
          3.37908,
          4.2318,
          5.75688,
          11.95,
          3.24408,
          3.81912,
          0.1,
          9.3,
          3.1932,
          9.375,
          24.107143,
          0.119972,
          9.5,
          2.55252,
          18,
          22.26528,
          3.087519,
          9.25,
          1.8,
          3.5,
          10.46,
          0.119972,
          22.757,
          2.51268,
          3.15,
          2.82552,
          2.019699,
          5.01456,
          0.635853,
          5.19552,
          3.6858,
          3.465,
          2.092344,
          11.205,
          0.446743,
          0.446743,
          5.55588,
          2.19697,
          12.5,
          2.120693,
          0.047989,
          9.975962,
          2.087519,
          8.571429,
          0.43892,
          2.41356,
          3.989122,
          1.407153,
          21.395348,
          2.230253,
          11.025,
          2.120693,
          12.654321,
          12.648321,
          2.087519,
          1.891857,
          5,
          9.057971,
          3.62844,
          1.891857,
          2.162606,
          2.164993,
          0.066503,
          1,
          9.89,
          1.862265,
          0.107027,
          4.435381,
          0.073153,
          2.5308,
          2.088033,
          2.087519,
          1.157153,
          2.087519,
          3.303771,
          2.463946,
          0.126356,
          2.425404,
          6,
          1.891857,
          2.75508,
          2.120693,
          6.8364,
          2.087519,
          5.2,
          2.087519,
          8,
          3,
          9.13,
          5.168,
          8.24532,
          11,
          2.087519,
          2.19697,
          6.669,
          1.862265,
          1.091887,
          1.091887,
          10.185186,
          6.36252,
          1.891857,
          2.087519,
          0.011997,
          15,
          2.237691,
          7.692308,
          2.019699,
          1.157153,
          12.428571,
          0.957763,
          3.11424,
          1.34369,
          0.223718,
          4.668,
          8,
          25,
          6.166667,
          4.299,
          9.423869,
          3.85,
          2.66388,
          2.087519,
          2.019699,
          0.647851,
          14.318182,
          3.21792,
          2.162606,
          8,
          5.84868,
          1.157153,
          1.891857,
          5.46912,
          6.26292,
          5.27832,
          8,
          2.087519,
          3.51048,
          2.087519,
          0.600545,
          4.033748,
          4.033748,
          10.09896,
          0.623856,
          6.5,
          2.54664,
          2.087519,
          0.491887,
          1.157153,
          2.99004,
          2.04878,
          0.492323,
          2.019699,
          1.05,
          1.891857,
          3.913234,
          1.891857,
          10.714286,
          4.668,
          0.119972,
          3.051153,
          12.6,
          2.087519,
          2.8704,
          0.496519,
          4.689,
          5.02704,
          2.087519,
          1.891857,
          2.62428,
          2.49432,
          7.565217,
          3.32616,
          2.162606,
          3.303771,
          2.087519,
          5.168,
          1.115128,
          1.891857,
          0.152957,
          0.503883,
          2.087519,
          0.515881,
          8.888889,
          2.463946,
          7.5,
          11,
          1.891857,
          12.025777,
          12.025777,
          0.731831,
          2.087519,
          1.157153,
          0.724883,
          1.655619,
          2.019699,
          1.891857,
          2.237691,
          2.62236,
          0.43881,
          5.29116,
          6.165,
          1.157153,
          0.011997,
          5.893768,
          1.850842,
          4,
          2.087519,
          2.53392,
          1.064049,
          1.257153,
          2.087519,
          2.087519,
          0.706898,
          1.80808,
          2.087519,
          1.891857,
          0.066503,
          1.891857,
          0.621439,
          1.157153,
          1.891857,
          0.119972,
          0.066503,
          0.011997,
          2.237691,
          1.051255,
          2.087519,
          2.087519,
          0.126356,
          0.119972,
          0.064301,
          4.861772,
          4.861772,
          0.119972,
          0.119972,
          43.03194,
          43.21944,
          34.84834,
          44.53194,
          26.276786,
          48.798677,
          21.696429,
          24.456061,
          4.296682,
          13.02525,
          18.692307,
          16.615384,
          31,
          17.26,
          9.9,
          3.366937,
          3.366937,
          16.830357,
          8.5,
          7.142857,
          5,
          0.745726,
          20.210284,
          18.125,
          12.804878,
          14.924167,
          0.119972,
          23,
          6.451077,
          9.186594,
          11.423077,
          2.795294,
          9.104167,
          8.25,
          3.87984,
          1.69161,
          1.69161,
          3.35268,
          8.12,
          7.723,
          2.087519,
          16.7412,
          7.975,
          4.158439,
          0.227947,
          0.355687,
          0.355687,
          8.780488,
          0.426632,
          0.426632,
          2.875,
          2.32835,
          2.32835,
          40.011909,
          40.011909,
          2.19697,
          0.421081,
          0.421081,
          2.967212,
          2.967212,
          5,
          12.5,
          2.207491,
          2.207491,
          3.625162,
          3.625162,
          2.53704,
          1.891857,
          2.120693,
          2.087519,
          2.087519,
          0.789048,
          0.789048,
          2.087519,
          0.073153,
          4.772772,
          4.772772,
          2.73372,
          2.44884,
          2.087519,
          2.092344,
          2.831348,
          2.831348,
          1.891857
         ],
         "xaxis": "x",
         "y": [
          32.7,
          30.4,
          29.6,
          27.6,
          26.8,
          26.6,
          26.3,
          26.1,
          26,
          25.9,
          25.6,
          25.2,
          24.9,
          24.7,
          24.6,
          24.5,
          24.4,
          24.4,
          24.3,
          24.2,
          24.2,
          24,
          24,
          23.9,
          23.8,
          23.2,
          22.8,
          22.2,
          22.2,
          22.2,
          22.2,
          21.8,
          21.6,
          21.5,
          21.4,
          21.2,
          21.1,
          21.1,
          21,
          21,
          20.6,
          20.5,
          20.4,
          20.3,
          20.2,
          20.2,
          19.5,
          19.3,
          19.3,
          19.2,
          19.1,
          19.1,
          19,
          19,
          18.9,
          18.8,
          18.7,
          18.6,
          18.5,
          18.5,
          18.5,
          18.4,
          18.2,
          18.1,
          18,
          17.6,
          17.6,
          17.5,
          17.2,
          17.1,
          17,
          16.9,
          16.8,
          16.8,
          16.4,
          16.3,
          16.3,
          16.2,
          16.2,
          16.2,
          16.1,
          15.6,
          15.4,
          15.3,
          15.3,
          15.3,
          15.1,
          15,
          14.7,
          14.7,
          14.7,
          14.6,
          14.5,
          14.4,
          14.4,
          14.4,
          14.3,
          14.2,
          14.1,
          14.1,
          14.1,
          14.1,
          14,
          14,
          13.9,
          13.7,
          13.6,
          13.5,
          13.4,
          13.3,
          13.3,
          13.2,
          13.1,
          13,
          13,
          12.9,
          12.7,
          12.7,
          12.7,
          12.6,
          12.5,
          12.5,
          12.4,
          12.4,
          12.3,
          12.3,
          12.3,
          12.3,
          12.2,
          12.2,
          12.1,
          12,
          12,
          12,
          12,
          11.8,
          11.7,
          11.7,
          11.6,
          11.4,
          11.3,
          11.2,
          11.1,
          11.1,
          11.1,
          11.1,
          11,
          11,
          11,
          11,
          10.9,
          10.8,
          10.7,
          10.6,
          10.6,
          10.6,
          10.5,
          10.4,
          10.4,
          10.4,
          10.3,
          10.3,
          10.3,
          10.3,
          10.2,
          10.2,
          10.2,
          10.1,
          10.1,
          10.1,
          10.1,
          10,
          10,
          10,
          9.9,
          9.9,
          9.9,
          9.8,
          9.8,
          9.7,
          9.6,
          9.5,
          9.5,
          9.4,
          9.4,
          9.4,
          9.4,
          9.4,
          9.3,
          9.2,
          9.1,
          9.1,
          9.1,
          9.1,
          9.1,
          9.1,
          9.1,
          9,
          9,
          9,
          9,
          9,
          8.9,
          8.9,
          8.9,
          8.8,
          8.8,
          8.8,
          8.7,
          8.7,
          8.7,
          8.7,
          8.7,
          8.7,
          8.7,
          8.7,
          8.6,
          8.6,
          8.6,
          8.5,
          8.5,
          8.4,
          8.4,
          8.4,
          8.3,
          8.3,
          8.3,
          8.3,
          8.2,
          8.2,
          8.2,
          8.1,
          8.1,
          7.9,
          7.7,
          7.6,
          7.5,
          7.5,
          7.4,
          7.4,
          7.4,
          7.3,
          7.3,
          7.3,
          7.2,
          7.2,
          7.2,
          7.2,
          7.2,
          7.2,
          7.1,
          7.1,
          7.1,
          7,
          7,
          7,
          6.9,
          6.9,
          6.9,
          6.9,
          6.8,
          6.8,
          6.8,
          6.7,
          6.7,
          6.6,
          6.6,
          6.6,
          6.6,
          6.5,
          6.5,
          6.5,
          6.5,
          6.5,
          6.5,
          6.5,
          6.4,
          6.4,
          6.4,
          6.3,
          6.3,
          6.3,
          6.2,
          6.2,
          6.2,
          6.1,
          6.1,
          6,
          6,
          6,
          6,
          6,
          5.9,
          5.9,
          5.8,
          5.8,
          5.7,
          5.7,
          5.7,
          5.6,
          5.5,
          5.4,
          5.4,
          5.4,
          5.3,
          5.3,
          5.3,
          5.3,
          5.2,
          5.2,
          5.1,
          5.1,
          5,
          5,
          4.8,
          4.7,
          4.6,
          4.6,
          4.6,
          4.5,
          4.5,
          4.5,
          4.5,
          4.5,
          4.4,
          4.4,
          4.4,
          4.4,
          4.4,
          4.4,
          4.3,
          4.3,
          4.3,
          4.2,
          4.2,
          4.2,
          4.2,
          4.1,
          4.1,
          4.1,
          4.1,
          4.1,
          4.1,
          4.1,
          4,
          4,
          4,
          3.9,
          3.9,
          3.9,
          3.8,
          3.8,
          3.8,
          3.7,
          3.7,
          3.7,
          3.6,
          3.6,
          3.6,
          3.5,
          3.5,
          3.5,
          3.5,
          3.4,
          3.4,
          3.4,
          3.3,
          3.3,
          3.3,
          3.2,
          3.2,
          3,
          3,
          3,
          3,
          3,
          2.9,
          2.9,
          2.9,
          2.7,
          2.6,
          2.6,
          2.6,
          2.5,
          2.5,
          2.5,
          2.4,
          2.4,
          2.3,
          2.1,
          2.1,
          2.1,
          2.1,
          2,
          1.9,
          1.9,
          1.9,
          1.9,
          1.8,
          1.8,
          1.7,
          1.7,
          1.6,
          1.6,
          1.5,
          1.5,
          1.4,
          1.4,
          1.3,
          1,
          1,
          1,
          0.8,
          0.8,
          0.7,
          0.3,
          0.3,
          0,
          0,
          0,
          0,
          0,
          28.2,
          24.7,
          23.5,
          23.3,
          18,
          17.5,
          17,
          14.8,
          14.6,
          13.1,
          12.6,
          12.1,
          11.9,
          10.8,
          10.4,
          10.3,
          10.3,
          9.9,
          9.9,
          9.6,
          9.3,
          9,
          9,
          8.9,
          8.7,
          8.7,
          8.4,
          8.3,
          7.9,
          7.9,
          7.7,
          7.6,
          7.2,
          7.1,
          7.1,
          6.9,
          6.9,
          6.9,
          6.8,
          6.6,
          6.5,
          6.4,
          6.4,
          6.2,
          5.9,
          5.9,
          5.9,
          5.9,
          5.8,
          5.8,
          5.5,
          5.1,
          5.1,
          5,
          5,
          4.9,
          4.7,
          4.7,
          4.6,
          4.6,
          4.6,
          4.4,
          4.3,
          4.3,
          4.2,
          4.2,
          4.2,
          4.1,
          4,
          3.8,
          3.7,
          3.5,
          3.5,
          3.1,
          3.1,
          2.5,
          2.5,
          2.3,
          2.2,
          2.1,
          1.8,
          1.6,
          1.6,
          1.5
         ],
         "yaxis": "y"
        },
        {
         "hovertemplate": "<b>OLS trendline</b><br>PTS = 0.388266 * Salary_M + 5.65<br>R<sup>2</sup>=0.544610<br><br>Salary ($M)=%{x:.2f}<br>PTS=%{y} <b>(trend)</b><extra></extra>",
         "legendgroup": "",
         "line": {
          "color": "black"
         },
         "marker": {
          "color": "skyblue",
          "symbol": "circle"
         },
         "mode": "lines",
         "name": "",
         "showlegend": false,
         "type": "scatter",
         "x": [
          0.011997,
          0.011997,
          0.011997,
          0.047989,
          0.064301,
          0.066503,
          0.066503,
          0.066503,
          0.073153,
          0.073153,
          0.1,
          0.107027,
          0.113055,
          0.119972,
          0.119972,
          0.119972,
          0.119972,
          0.119972,
          0.119972,
          0.119972,
          0.119972,
          0.126356,
          0.126356,
          0.152957,
          0.223718,
          0.227947,
          0.355687,
          0.355687,
          0.421081,
          0.421081,
          0.425619,
          0.426632,
          0.426632,
          0.43881,
          0.43892,
          0.446743,
          0.446743,
          0.491887,
          0.492323,
          0.496519,
          0.503883,
          0.515881,
          0.596581,
          0.600545,
          0.621439,
          0.623856,
          0.635853,
          0.647851,
          0.706898,
          0.724883,
          0.731831,
          0.745726,
          0.780932,
          0.789048,
          0.789048,
          0.957763,
          1,
          1.05,
          1.051255,
          1.064049,
          1.091887,
          1.091887,
          1.115128,
          1.157153,
          1.157153,
          1.157153,
          1.157153,
          1.157153,
          1.157153,
          1.157153,
          1.157153,
          1.257153,
          1.34369,
          1.407153,
          1.655619,
          1.69161,
          1.69161,
          1.8,
          1.80808,
          1.850842,
          1.862265,
          1.862265,
          1.891857,
          1.891857,
          1.891857,
          1.891857,
          1.891857,
          1.891857,
          1.891857,
          1.891857,
          1.891857,
          1.891857,
          1.891857,
          1.891857,
          1.891857,
          1.891857,
          1.891857,
          1.891857,
          1.891857,
          1.891857,
          1.988598,
          2.019699,
          2.019699,
          2.019699,
          2.019699,
          2.019699,
          2.019699,
          2.04878,
          2.087519,
          2.087519,
          2.087519,
          2.087519,
          2.087519,
          2.087519,
          2.087519,
          2.087519,
          2.087519,
          2.087519,
          2.087519,
          2.087519,
          2.087519,
          2.087519,
          2.087519,
          2.087519,
          2.087519,
          2.087519,
          2.087519,
          2.087519,
          2.087519,
          2.087519,
          2.087519,
          2.087519,
          2.087519,
          2.087519,
          2.087519,
          2.087519,
          2.087519,
          2.087519,
          2.087519,
          2.087519,
          2.087519,
          2.088033,
          2.092344,
          2.092344,
          2.120693,
          2.120693,
          2.120693,
          2.120693,
          2.162606,
          2.162606,
          2.162606,
          2.162606,
          2.164993,
          2.19697,
          2.19697,
          2.19697,
          2.207491,
          2.207491,
          2.230253,
          2.237691,
          2.237691,
          2.237691,
          2.32835,
          2.32835,
          2.41356,
          2.425404,
          2.44884,
          2.463946,
          2.463946,
          2.49432,
          2.51268,
          2.5308,
          2.53392,
          2.53704,
          2.54664,
          2.55252,
          2.560975,
          2.57148,
          2.5872,
          2.62236,
          2.62428,
          2.66388,
          2.726603,
          2.73372,
          2.75508,
          2.795294,
          2.82552,
          2.831348,
          2.831348,
          2.8704,
          2.875,
          2.96592,
          2.967212,
          2.967212,
          2.99004,
          3,
          3,
          3,
          3.051153,
          3.087519,
          3.08964,
          3.11424,
          3.15,
          3.1932,
          3.21792,
          3.24408,
          3.303771,
          3.303771,
          3.32616,
          3.35268,
          3.366937,
          3.366937,
          3.37908,
          3.465,
          3.5,
          3.51048,
          3.51996,
          3.625162,
          3.625162,
          3.62844,
          3.6858,
          3.69516,
          3.81912,
          3.85,
          3.87984,
          3.913234,
          3.938271,
          3.960531,
          3.989122,
          4,
          4.02036,
          4.033748,
          4.033748,
          4.041249,
          4.0842,
          4.09428,
          4.158439,
          4.2318,
          4.296682,
          4.299,
          4.31028,
          4.3125,
          4.435381,
          4.45488,
          4.510905,
          4.52568,
          4.53684,
          4.668,
          4.668,
          4.689,
          4.710144,
          4.76376,
          4.772772,
          4.772772,
          4.77576,
          4.861772,
          4.861772,
          4.908373,
          5,
          5,
          5,
          5.01456,
          5.02704,
          5.159854,
          5.168,
          5.168,
          5.19552,
          5.2,
          5.27832,
          5.29116,
          5.424654,
          5.46912,
          5.55588,
          5.57004,
          5.631296,
          5.631296,
          5.705887,
          5.75688,
          5.803269,
          5.84868,
          5.893768,
          6,
          6,
          6.05952,
          6.133005,
          6.165,
          6.166667,
          6.26292,
          6.36252,
          6.451077,
          6.5,
          6.61416,
          6.669,
          6.696429,
          6.8364,
          6.94524,
          7,
          7.007092,
          7.142857,
          7.24572,
          7.5,
          7.565217,
          7.60776,
          7.636307,
          7.692308,
          7.723,
          7.975,
          7.97724,
          7.983,
          8,
          8,
          8,
          8,
          8.12,
          8.24532,
          8.25,
          8.352367,
          8.376,
          8.5,
          8.571429,
          8.571429,
          8.780488,
          8.780488,
          8.80956,
          8.888889,
          9.057971,
          9.104167,
          9.10512,
          9.13,
          9.186594,
          9.188385,
          9.24996,
          9.25,
          9.3,
          9.375,
          9.423869,
          9.5,
          9.52381,
          9.77088,
          9.89,
          9.9,
          9.975962,
          10.09896,
          10.13098,
          10.185186,
          10.25916,
          10.46,
          10.514017,
          10.714286,
          10.81,
          10.88064,
          11,
          11,
          11,
          11,
          11.025,
          11.205,
          11.227657,
          11.24568,
          11.423077,
          11.4246,
          11.445,
          11.74321,
          11.95,
          12,
          12.025777,
          12.025777,
          12.1608,
          12.428571,
          12.483048,
          12.5,
          12.5,
          12.56904,
          12.578286,
          12.6,
          12.648321,
          12.654321,
          12.76896,
          12.804878,
          12.822,
          12.9,
          12.975,
          12.976362,
          12.976362,
          12.99165,
          13.02525,
          13.02525,
          13.39416,
          13.940809,
          13.986432,
          14,
          14.092577,
          14.318182,
          14.924167,
          15,
          15.212068,
          15.5,
          15.625,
          15.625,
          15.873016,
          16.193183,
          16.5,
          16.615384,
          16.7412,
          16.830357,
          17,
          17.26,
          17.405203,
          18,
          18,
          18.125,
          18.144,
          18.35,
          18.692307,
          19,
          19.241379,
          19.406,
          19.5,
          19.9285,
          20,
          20,
          20.071429,
          20.210284,
          21.395348,
          21.696429,
          22.255493,
          22.26528,
          22.5,
          22.5,
          22.757,
          22.841455,
          23,
          23,
          23.017242,
          23.3,
          23.4,
          24.107143,
          24.456061,
          24.924126,
          24.960001,
          25,
          25.257798,
          25.365854,
          25.794643,
          25.892857,
          26.276786,
          26.58,
          27.173913,
          27.556817,
          29,
          29.268293,
          29.347826,
          29.517135,
          29.651786,
          29.793104,
          30,
          30,
          31,
          32.5,
          33.07392,
          33.333333,
          33.653846,
          34.005126,
          34.00525,
          34.84834,
          34.84834,
          34.84834,
          35.147,
          35.147,
          35.41031,
          35.85995,
          35.85995,
          36.0162,
          36.0162,
          36.637932,
          36.72567,
          36.72567,
          36.72567,
          40.011909,
          40.011909,
          40.5,
          41,
          42.1764,
          42.1764,
          42.1764,
          42.1764,
          42.846615,
          43.03194,
          43.03194,
          43.21944,
          43.827586,
          44.53194,
          48.728845,
          48.787676,
          48.787676,
          48.798677,
          49.2058,
          49.2058,
          49.2058,
          49.2058,
          49.2058,
          50.20393,
          51.179021,
          51.415938,
          51.415938,
          55.761216
         ],
         "xaxis": "x",
         "y": [
          5.654661611503592,
          5.654661611503592,
          5.654661611503592,
          5.668636089993158,
          5.674969488890741,
          5.675824451149966,
          5.675824451149966,
          5.675824451149966,
          5.678406421642175,
          5.678406421642175,
          5.688830205372154,
          5.691558552236629,
          5.693899021127914,
          5.696584658706051,
          5.696584658706051,
          5.696584658706051,
          5.696584658706051,
          5.696584658706051,
          5.696584658706051,
          5.696584658706051,
          5.696584658706051,
          5.699063350378572,
          5.699063350378572,
          5.709391620613651,
          5.736865727981961,
          5.738507705908511,
          5.788104835333305,
          5.788104835333305,
          5.813495117794593,
          5.813495117794593,
          5.815257069989127,
          5.81565038368967,
          5.81565038368967,
          5.820378689953449,
          5.820421399239787,
          5.823458806030848,
          5.823458806030848,
          5.840986697143678,
          5.84115598122407,
          5.842785146364718,
          5.845644338951881,
          5.850302757292562,
          5.881635842814568,
          5.883174930187668,
          5.891287364994319,
          5.8922258044950215,
          5.896883834569464,
          5.901542252910146,
          5.924468209549772,
          5.931451177865921,
          5.934148851697482,
          5.939543811094362,
          5.9532131123197365,
          5.956364281118951,
          5.956364281118951,
          6.021870619704392,
          6.038269820859198,
          6.057683132830701,
          6.058170406961185,
          6.063137885228453,
          6.073946440801707,
          6.073946440801707,
          6.082970136472301,
          6.099287025184349,
          6.099287025184349,
          6.099287025184349,
          6.099287025184349,
          6.099287025184349,
          6.099287025184349,
          6.099287025184349,
          6.099287025184349,
          6.138113649127353,
          6.171713044688912,
          6.196353585041861,
          6.292824544488088,
          6.306798634711415,
          6.306798634711415,
          6.348882812403238,
          6.352020003617833,
          6.3686230445483405,
          6.37305820980135,
          6.37305820980135,
          6.384547784358563,
          6.384547784358563,
          6.384547784358563,
          6.384547784358563,
          6.384547784358563,
          6.384547784358563,
          6.384547784358563,
          6.384547784358563,
          6.384547784358563,
          6.384547784358563,
          6.384547784358563,
          6.384547784358563,
          6.384547784358563,
          6.384547784358563,
          6.384547784358563,
          6.384547784358563,
          6.384547784358563,
          6.384547784358563,
          6.4221090486272665,
          6.43418451693978,
          6.43418451693978,
          6.43418451693978,
          6.43418451693978,
          6.43418451693978,
          6.43418451693978,
          6.445475687448645,
          6.460516733297926,
          6.460516733297926,
          6.460516733297926,
          6.460516733297926,
          6.460516733297926,
          6.460516733297926,
          6.460516733297926,
          6.460516733297926,
          6.460516733297926,
          6.460516733297926,
          6.460516733297926,
          6.460516733297926,
          6.460516733297926,
          6.460516733297926,
          6.460516733297926,
          6.460516733297926,
          6.460516733297926,
          6.460516733297926,
          6.460516733297926,
          6.460516733297926,
          6.460516733297926,
          6.460516733297926,
          6.460516733297926,
          6.460516733297926,
          6.460516733297926,
          6.460516733297926,
          6.460516733297926,
          6.460516733297926,
          6.460516733297926,
          6.460516733297926,
          6.460516733297926,
          6.460516733297926,
          6.460516733297926,
          6.460716302144993,
          6.462390117903176,
          6.462390117903176,
          6.473397077524778,
          6.473397077524778,
          6.473397077524778,
          6.473397077524778,
          6.48967048041801,
          6.48967048041801,
          6.48967048041801,
          6.48967048041801,
          6.490597271931529,
          6.503012861469784,
          6.503012861469784,
          6.503012861469784,
          6.507097810574828,
          6.507097810574828,
          6.515935526716735,
          6.518823451005615,
          6.518823451005615,
          6.518823451005615,
          6.5540232800061045,
          6.5540232800061045,
          6.587107446267939,
          6.591706071607748,
          6.600805479195031,
          6.606670629007861,
          6.606670629007861,
          6.618463827764309,
          6.625592395920245,
          6.6326277801787175,
          6.633839170845739,
          6.635050561512761,
          6.638777917411289,
          6.641060922899138,
          6.6443437139535195,
          6.648422450798732,
          6.6545259960825724,
          6.668177437060933,
          6.6689229082406385,
          6.684298251322068,
          6.70865147465784,
          6.7114147654838625,
          6.719708132358089,
          6.7353218709105285,
          6.7470576062635415,
          6.7493204219069405,
          6.7493204219069405,
          6.764482995089162,
          6.76626901979054,
          6.801570186279521,
          6.802071826260864,
          6.802071826260864,
          6.8109351679745735,
          6.814802299719297,
          6.814802299719297,
          6.814802299719297,
          6.834663282664861,
          6.8487829727279745,
          6.849606485421806,
          6.859157834911786,
          6.873042235633804,
          6.889815337177182,
          6.899413278615893,
          6.909570323439382,
          6.932746323537202,
          6.932746323537202,
          6.941439216371801,
          6.951736037041487,
          6.95727154881704,
          6.95727154881704,
          6.961986265762439,
          6.9953461010542695,
          7.008935419434321,
          7.013004449623548,
          7.016685213573345,
          7.057531598493865,
          7.057531598493865,
          7.058804335226716,
          7.0810752867204245,
          7.084709458721489,
          7.132838941761238,
          7.1448286032348385,
          7.156414467819431,
          7.169380230618958,
          7.179101252455569,
          7.187744058945281,
          7.198844978996826,
          7.203068539149346,
          7.210973639784141,
          7.216171748197631,
          7.216171748197631,
          7.219084133259596,
          7.235760556509356,
          7.239674280202811,
          7.264585053858403,
          7.293068653449231,
          7.318260143595931,
          7.31916014473893,
          7.323539787919701,
          7.324401738971236,
          7.372112282738639,
          7.379683086141286,
          7.4014357022053545,
          7.407172335892934,
          7.411505387124973,
          7.462430387088618,
          7.462430387088618,
          7.470583978116649,
          7.4787934794831585,
          7.49961076217644,
          7.503109817526184,
          7.503109817526184,
          7.5042699570496,
          7.537665512835458,
          7.537665512835458,
          7.555759107859138,
          7.5913347785793945,
          7.5913347785793945,
          7.5913347785793945,
          7.5969879350254965,
          7.601833497693583,
          7.653400690017246,
          7.656563506803643,
          7.656563506803643,
          7.667248593712758,
          7.668988026465405,
          7.699397038337565,
          7.704382376851848,
          7.756213590218323,
          7.77347823682082,
          7.807164215753771,
          7.8126620657040995,
          7.8364457024666265,
          7.8364457024666265,
          7.865406869531954,
          7.88520572987921,
          7.90321701246013,
          7.9208485706588885,
          7.9383547188623105,
          7.979601018009443,
          7.979601018009443,
          8.00271062458032,
          8.031242369184838,
          8.043664947515403,
          8.044312187336532,
          8.081683977680392,
          8.120355295127625,
          8.154738988492833,
          8.173734137724468,
          8.218058611617803,
          8.239351132188148,
          8.250000886869474,
          8.304346900668737,
          8.346605798168303,
          8.367867257439492,
          8.370620841609531,
          8.42333380760575,
          8.463272037792244,
          8.562000377154519,
          8.587321936491428,
          8.6038399471155,
          8.61492378345251,
          8.63666708112683,
          8.648583748547418,
          8.74642684088379,
          8.747296557260114,
          8.749532970799232,
          8.756133496869541,
          8.756133496869541,
          8.756133496869541,
          8.756133496869541,
          8.802725445601148,
          8.851382970726522,
          8.853200056727054,
          8.89294570685879,
          8.90212160289524,
          8.950266616584567,
          8.978000085800815,
          8.978000085800815,
          9.059170637549823,
          9.059170637549823,
          9.070458313662533,
          9.101259086170279,
          9.16690791846559,
          9.184844265662301,
          9.185214283388477,
          9.194874347425499,
          9.216847886979801,
          9.217543271814622,
          9.241450765507526,
          9.241466296157103,
          9.260879608128606,
          9.28999957608586,
          9.308973758940567,
          9.338532856014616,
          9.347777475175445,
          9.443706414951428,
          9.489956689392335,
          9.493839351786637,
          9.52333283186622,
          9.571088802783638,
          9.583521087770187,
          9.604567447544733,
          9.633289054340331,
          9.711268445867464,
          9.732241423322757,
          9.809999114827171,
          9.84716162966798,
          9.874588756821318,
          9.92093221515969,
          9.92093221515969,
          9.92093221515969,
          9.92093221515969,
          9.93063887114544,
          10.00052679424285,
          10.009323742429617,
          10.016321464862864,
          10.085198730939037,
          10.085790060421688,
          10.093710691706061,
          10.209495566966496,
          10.289785142618236,
          10.309198454589739,
          10.319206793443527,
          10.319206793443527,
          10.37163166589009,
          10.475598105088515,
          10.496749685013945,
          10.503331574304763,
          10.503331574304763,
          10.530137475475014,
          10.533727385124784,
          10.542158198247769,
          10.560919611203268,
          10.563249208639848,
          10.60775966206187,
          10.621705408849717,
          10.628353303401239,
          10.658638070076783,
          10.687758038034037,
          10.688286856652141,
          10.688286856652141,
          10.694222670920546,
          10.707268416565396,
          10.707268416565396,
          10.850503714953536,
          11.062749066471731,
          11.08046293711325,
          11.085730933449838,
          11.121675457097552,
          11.209270262044168,
          11.444553779145188,
          11.473997172879887,
          11.556336017743337,
          11.66813029259491,
          11.716663572523666,
          11.716663572523666,
          11.812959812162148,
          11.937269849241751,
          12.056396532024959,
          12.101196243795357,
          12.150046348975486,
          12.184663002084353,
          12.250529651739985,
          12.351478873991798,
          12.407856296755758,
          12.638795891170034,
          12.638795891170034,
          12.687329171098789,
          12.69470622964796,
          12.774689074970551,
          12.907595326591132,
          13.027062130600083,
          13.120781447207467,
          13.184698223808681,
          13.221195250315107,
          13.387567333910884,
          13.415328370030132,
          13.415328370030132,
          13.44306183924638,
          13.496974547922441,
          13.95709489068637,
          14.073994478320209,
          14.291060155200931,
          14.294860116886234,
          14.385993968605256,
          14.385993968605256,
          14.485778392138776,
          14.518569417389841,
          14.580127088320278,
          14.580127088320278,
          14.586821574820533,
          14.696606960149293,
          14.735433584092299,
          15.009993337441582,
          15.145466417171036,
          15.327200254529863,
          15.341129305869416,
          15.356659567180376,
          15.456753827172964,
          15.498708323940818,
          15.66519261647979,
          15.703325796919174,
          15.852392465957312,
          15.970120225479853,
          16.200716592538473,
          16.349385288681198,
          16.909724524900575,
          17.01389363907598,
          17.04477361789657,
          17.110510586628234,
          17.162791024033726,
          17.217660032457502,
          17.297990764330624,
          17.297990764330624,
          17.686257003760673,
          18.268656362905745,
          18.49149012303944,
          18.592211433008707,
          18.71665581020715,
          18.853045974794135,
          18.853094119807825,
          19.180437503608907,
          19.180437503608907,
          19.180437503608907,
          19.296397098677087,
          19.296397098677087,
          19.39863148218141,
          19.57321151407874,
          19.57321151407874,
          19.633878113989685,
          19.633878113989685,
          19.87527565956301,
          19.90934136287812,
          19.90934136287812,
          19.90934136287812,
          21.185277021276487,
          21.185277021276487,
          21.37478627834614,
          21.568919398061162,
          22.025675802126674,
          22.025675802126674,
          22.025675802126674,
          22.025675802126674,
          22.285897659786283,
          22.357853100608658,
          22.357853100608658,
          22.43065302050179,
          22.66677558094622,
          22.940252459753733,
          24.5697689813489,
          24.59261107248081,
          24.59261107248081,
          24.59688238938078,
          24.75495450557626,
          24.75495450557626,
          24.75495450557626,
          24.75495450557626,
          24.75495450557626,
          25.142494687138576,
          25.52108960281066,
          25.61307647545771,
          25.61307647545771,
          27.300201223795835
         ],
         "yaxis": "y"
        }
       ],
       "layout": {
        "autosize": true,
        "legend": {
         "tracegroupgap": 0
        },
        "template": {
         "data": {
          "bar": [
           {
            "error_x": {
             "color": "#2a3f5f"
            },
            "error_y": {
             "color": "#2a3f5f"
            },
            "marker": {
             "line": {
              "color": "white",
              "width": 0.5
             },
             "pattern": {
              "fillmode": "overlay",
              "size": 10,
              "solidity": 0.2
             }
            },
            "type": "bar"
           }
          ],
          "barpolar": [
           {
            "marker": {
             "line": {
              "color": "white",
              "width": 0.5
             },
             "pattern": {
              "fillmode": "overlay",
              "size": 10,
              "solidity": 0.2
             }
            },
            "type": "barpolar"
           }
          ],
          "carpet": [
           {
            "aaxis": {
             "endlinecolor": "#2a3f5f",
             "gridcolor": "#C8D4E3",
             "linecolor": "#C8D4E3",
             "minorgridcolor": "#C8D4E3",
             "startlinecolor": "#2a3f5f"
            },
            "baxis": {
             "endlinecolor": "#2a3f5f",
             "gridcolor": "#C8D4E3",
             "linecolor": "#C8D4E3",
             "minorgridcolor": "#C8D4E3",
             "startlinecolor": "#2a3f5f"
            },
            "type": "carpet"
           }
          ],
          "choropleth": [
           {
            "colorbar": {
             "outlinewidth": 0,
             "ticks": ""
            },
            "type": "choropleth"
           }
          ],
          "contour": [
           {
            "colorbar": {
             "outlinewidth": 0,
             "ticks": ""
            },
            "colorscale": [
             [
              0,
              "#0d0887"
             ],
             [
              0.1111111111111111,
              "#46039f"
             ],
             [
              0.2222222222222222,
              "#7201a8"
             ],
             [
              0.3333333333333333,
              "#9c179e"
             ],
             [
              0.4444444444444444,
              "#bd3786"
             ],
             [
              0.5555555555555556,
              "#d8576b"
             ],
             [
              0.6666666666666666,
              "#ed7953"
             ],
             [
              0.7777777777777778,
              "#fb9f3a"
             ],
             [
              0.8888888888888888,
              "#fdca26"
             ],
             [
              1,
              "#f0f921"
             ]
            ],
            "type": "contour"
           }
          ],
          "contourcarpet": [
           {
            "colorbar": {
             "outlinewidth": 0,
             "ticks": ""
            },
            "type": "contourcarpet"
           }
          ],
          "heatmap": [
           {
            "colorbar": {
             "outlinewidth": 0,
             "ticks": ""
            },
            "colorscale": [
             [
              0,
              "#0d0887"
             ],
             [
              0.1111111111111111,
              "#46039f"
             ],
             [
              0.2222222222222222,
              "#7201a8"
             ],
             [
              0.3333333333333333,
              "#9c179e"
             ],
             [
              0.4444444444444444,
              "#bd3786"
             ],
             [
              0.5555555555555556,
              "#d8576b"
             ],
             [
              0.6666666666666666,
              "#ed7953"
             ],
             [
              0.7777777777777778,
              "#fb9f3a"
             ],
             [
              0.8888888888888888,
              "#fdca26"
             ],
             [
              1,
              "#f0f921"
             ]
            ],
            "type": "heatmap"
           }
          ],
          "heatmapgl": [
           {
            "colorbar": {
             "outlinewidth": 0,
             "ticks": ""
            },
            "colorscale": [
             [
              0,
              "#0d0887"
             ],
             [
              0.1111111111111111,
              "#46039f"
             ],
             [
              0.2222222222222222,
              "#7201a8"
             ],
             [
              0.3333333333333333,
              "#9c179e"
             ],
             [
              0.4444444444444444,
              "#bd3786"
             ],
             [
              0.5555555555555556,
              "#d8576b"
             ],
             [
              0.6666666666666666,
              "#ed7953"
             ],
             [
              0.7777777777777778,
              "#fb9f3a"
             ],
             [
              0.8888888888888888,
              "#fdca26"
             ],
             [
              1,
              "#f0f921"
             ]
            ],
            "type": "heatmapgl"
           }
          ],
          "histogram": [
           {
            "marker": {
             "pattern": {
              "fillmode": "overlay",
              "size": 10,
              "solidity": 0.2
             }
            },
            "type": "histogram"
           }
          ],
          "histogram2d": [
           {
            "colorbar": {
             "outlinewidth": 0,
             "ticks": ""
            },
            "colorscale": [
             [
              0,
              "#0d0887"
             ],
             [
              0.1111111111111111,
              "#46039f"
             ],
             [
              0.2222222222222222,
              "#7201a8"
             ],
             [
              0.3333333333333333,
              "#9c179e"
             ],
             [
              0.4444444444444444,
              "#bd3786"
             ],
             [
              0.5555555555555556,
              "#d8576b"
             ],
             [
              0.6666666666666666,
              "#ed7953"
             ],
             [
              0.7777777777777778,
              "#fb9f3a"
             ],
             [
              0.8888888888888888,
              "#fdca26"
             ],
             [
              1,
              "#f0f921"
             ]
            ],
            "type": "histogram2d"
           }
          ],
          "histogram2dcontour": [
           {
            "colorbar": {
             "outlinewidth": 0,
             "ticks": ""
            },
            "colorscale": [
             [
              0,
              "#0d0887"
             ],
             [
              0.1111111111111111,
              "#46039f"
             ],
             [
              0.2222222222222222,
              "#7201a8"
             ],
             [
              0.3333333333333333,
              "#9c179e"
             ],
             [
              0.4444444444444444,
              "#bd3786"
             ],
             [
              0.5555555555555556,
              "#d8576b"
             ],
             [
              0.6666666666666666,
              "#ed7953"
             ],
             [
              0.7777777777777778,
              "#fb9f3a"
             ],
             [
              0.8888888888888888,
              "#fdca26"
             ],
             [
              1,
              "#f0f921"
             ]
            ],
            "type": "histogram2dcontour"
           }
          ],
          "mesh3d": [
           {
            "colorbar": {
             "outlinewidth": 0,
             "ticks": ""
            },
            "type": "mesh3d"
           }
          ],
          "parcoords": [
           {
            "line": {
             "colorbar": {
              "outlinewidth": 0,
              "ticks": ""
             }
            },
            "type": "parcoords"
           }
          ],
          "pie": [
           {
            "automargin": true,
            "type": "pie"
           }
          ],
          "scatter": [
           {
            "fillpattern": {
             "fillmode": "overlay",
             "size": 10,
             "solidity": 0.2
            },
            "type": "scatter"
           }
          ],
          "scatter3d": [
           {
            "line": {
             "colorbar": {
              "outlinewidth": 0,
              "ticks": ""
             }
            },
            "marker": {
             "colorbar": {
              "outlinewidth": 0,
              "ticks": ""
             }
            },
            "type": "scatter3d"
           }
          ],
          "scattercarpet": [
           {
            "marker": {
             "colorbar": {
              "outlinewidth": 0,
              "ticks": ""
             }
            },
            "type": "scattercarpet"
           }
          ],
          "scattergeo": [
           {
            "marker": {
             "colorbar": {
              "outlinewidth": 0,
              "ticks": ""
             }
            },
            "type": "scattergeo"
           }
          ],
          "scattergl": [
           {
            "marker": {
             "colorbar": {
              "outlinewidth": 0,
              "ticks": ""
             }
            },
            "type": "scattergl"
           }
          ],
          "scattermapbox": [
           {
            "marker": {
             "colorbar": {
              "outlinewidth": 0,
              "ticks": ""
             }
            },
            "type": "scattermapbox"
           }
          ],
          "scatterpolar": [
           {
            "marker": {
             "colorbar": {
              "outlinewidth": 0,
              "ticks": ""
             }
            },
            "type": "scatterpolar"
           }
          ],
          "scatterpolargl": [
           {
            "marker": {
             "colorbar": {
              "outlinewidth": 0,
              "ticks": ""
             }
            },
            "type": "scatterpolargl"
           }
          ],
          "scatterternary": [
           {
            "marker": {
             "colorbar": {
              "outlinewidth": 0,
              "ticks": ""
             }
            },
            "type": "scatterternary"
           }
          ],
          "surface": [
           {
            "colorbar": {
             "outlinewidth": 0,
             "ticks": ""
            },
            "colorscale": [
             [
              0,
              "#0d0887"
             ],
             [
              0.1111111111111111,
              "#46039f"
             ],
             [
              0.2222222222222222,
              "#7201a8"
             ],
             [
              0.3333333333333333,
              "#9c179e"
             ],
             [
              0.4444444444444444,
              "#bd3786"
             ],
             [
              0.5555555555555556,
              "#d8576b"
             ],
             [
              0.6666666666666666,
              "#ed7953"
             ],
             [
              0.7777777777777778,
              "#fb9f3a"
             ],
             [
              0.8888888888888888,
              "#fdca26"
             ],
             [
              1,
              "#f0f921"
             ]
            ],
            "type": "surface"
           }
          ],
          "table": [
           {
            "cells": {
             "fill": {
              "color": "#EBF0F8"
             },
             "line": {
              "color": "white"
             }
            },
            "header": {
             "fill": {
              "color": "#C8D4E3"
             },
             "line": {
              "color": "white"
             }
            },
            "type": "table"
           }
          ]
         },
         "layout": {
          "annotationdefaults": {
           "arrowcolor": "#2a3f5f",
           "arrowhead": 0,
           "arrowwidth": 1
          },
          "autotypenumbers": "strict",
          "coloraxis": {
           "colorbar": {
            "outlinewidth": 0,
            "ticks": ""
           }
          },
          "colorscale": {
           "diverging": [
            [
             0,
             "#8e0152"
            ],
            [
             0.1,
             "#c51b7d"
            ],
            [
             0.2,
             "#de77ae"
            ],
            [
             0.3,
             "#f1b6da"
            ],
            [
             0.4,
             "#fde0ef"
            ],
            [
             0.5,
             "#f7f7f7"
            ],
            [
             0.6,
             "#e6f5d0"
            ],
            [
             0.7,
             "#b8e186"
            ],
            [
             0.8,
             "#7fbc41"
            ],
            [
             0.9,
             "#4d9221"
            ],
            [
             1,
             "#276419"
            ]
           ],
           "sequential": [
            [
             0,
             "#0d0887"
            ],
            [
             0.1111111111111111,
             "#46039f"
            ],
            [
             0.2222222222222222,
             "#7201a8"
            ],
            [
             0.3333333333333333,
             "#9c179e"
            ],
            [
             0.4444444444444444,
             "#bd3786"
            ],
            [
             0.5555555555555556,
             "#d8576b"
            ],
            [
             0.6666666666666666,
             "#ed7953"
            ],
            [
             0.7777777777777778,
             "#fb9f3a"
            ],
            [
             0.8888888888888888,
             "#fdca26"
            ],
            [
             1,
             "#f0f921"
            ]
           ],
           "sequentialminus": [
            [
             0,
             "#0d0887"
            ],
            [
             0.1111111111111111,
             "#46039f"
            ],
            [
             0.2222222222222222,
             "#7201a8"
            ],
            [
             0.3333333333333333,
             "#9c179e"
            ],
            [
             0.4444444444444444,
             "#bd3786"
            ],
            [
             0.5555555555555556,
             "#d8576b"
            ],
            [
             0.6666666666666666,
             "#ed7953"
            ],
            [
             0.7777777777777778,
             "#fb9f3a"
            ],
            [
             0.8888888888888888,
             "#fdca26"
            ],
            [
             1,
             "#f0f921"
            ]
           ]
          },
          "colorway": [
           "#636efa",
           "#EF553B",
           "#00cc96",
           "#ab63fa",
           "#FFA15A",
           "#19d3f3",
           "#FF6692",
           "#B6E880",
           "#FF97FF",
           "#FECB52"
          ],
          "font": {
           "color": "#2a3f5f"
          },
          "geo": {
           "bgcolor": "white",
           "lakecolor": "white",
           "landcolor": "white",
           "showlakes": true,
           "showland": true,
           "subunitcolor": "#C8D4E3"
          },
          "hoverlabel": {
           "align": "left"
          },
          "hovermode": "closest",
          "mapbox": {
           "style": "light"
          },
          "paper_bgcolor": "white",
          "plot_bgcolor": "white",
          "polar": {
           "angularaxis": {
            "gridcolor": "#EBF0F8",
            "linecolor": "#EBF0F8",
            "ticks": ""
           },
           "bgcolor": "white",
           "radialaxis": {
            "gridcolor": "#EBF0F8",
            "linecolor": "#EBF0F8",
            "ticks": ""
           }
          },
          "scene": {
           "xaxis": {
            "backgroundcolor": "white",
            "gridcolor": "#DFE8F3",
            "gridwidth": 2,
            "linecolor": "#EBF0F8",
            "showbackground": true,
            "ticks": "",
            "zerolinecolor": "#EBF0F8"
           },
           "yaxis": {
            "backgroundcolor": "white",
            "gridcolor": "#DFE8F3",
            "gridwidth": 2,
            "linecolor": "#EBF0F8",
            "showbackground": true,
            "ticks": "",
            "zerolinecolor": "#EBF0F8"
           },
           "zaxis": {
            "backgroundcolor": "white",
            "gridcolor": "#DFE8F3",
            "gridwidth": 2,
            "linecolor": "#EBF0F8",
            "showbackground": true,
            "ticks": "",
            "zerolinecolor": "#EBF0F8"
           }
          },
          "shapedefaults": {
           "line": {
            "color": "#2a3f5f"
           }
          },
          "ternary": {
           "aaxis": {
            "gridcolor": "#DFE8F3",
            "linecolor": "#A2B1C6",
            "ticks": ""
           },
           "baxis": {
            "gridcolor": "#DFE8F3",
            "linecolor": "#A2B1C6",
            "ticks": ""
           },
           "bgcolor": "white",
           "caxis": {
            "gridcolor": "#DFE8F3",
            "linecolor": "#A2B1C6",
            "ticks": ""
           }
          },
          "title": {
           "x": 0.05
          },
          "xaxis": {
           "automargin": true,
           "gridcolor": "#EBF0F8",
           "linecolor": "#EBF0F8",
           "ticks": "",
           "title": {
            "standoff": 15
           },
           "zerolinecolor": "#EBF0F8",
           "zerolinewidth": 2
          },
          "yaxis": {
           "automargin": true,
           "gridcolor": "#EBF0F8",
           "linecolor": "#EBF0F8",
           "ticks": "",
           "title": {
            "standoff": 15
           },
           "zerolinecolor": "#EBF0F8",
           "zerolinewidth": 2
          }
         }
        },
        "title": {
         "text": "Salary vs PTS"
        },
        "xaxis": {
         "anchor": "y",
         "autorange": true,
         "domain": [
          0,
          1
         ],
         "range": [
          -3.5706330611285266,
          59.343846061128524
         ],
         "tickprefix": "$",
         "ticksuffix": "M",
         "title": {
          "text": "Salary ($M)"
         },
         "type": "linear"
        },
        "yaxis": {
         "anchor": "x",
         "autorange": true,
         "domain": [
          0,
          1
         ],
         "range": [
          -2.6985436893203887,
          35.39854368932039
         ],
         "title": {
          "text": "PTS"
         },
         "type": "linear"
        }
       }
      },
      "text/html": [
       "<div>                            <div id=\"30ddad44-d782-4c8a-bf8e-d63391d9acd0\" class=\"plotly-graph-div\" style=\"height:525px; width:100%;\"></div>            <script type=\"text/javascript\">                require([\"plotly\"], function(Plotly) {                    window.PLOTLYENV=window.PLOTLYENV || {};                                    if (document.getElementById(\"30ddad44-d782-4c8a-bf8e-d63391d9acd0\")) {                    Plotly.newPlot(                        \"30ddad44-d782-4c8a-bf8e-d63391d9acd0\",                        [{\"customdata\":[[\"Shai Gilgeous-Alexander\"],[\"Giannis Antetokounmpo\"],[\"Nikola Jokic\"],[\"Anthony Edwards\"],[\"Jayson Tatum\"],[\"Kevin Durant\"],[\"Tyrese Maxey\"],[\"Cade Cunningham\"],[\"Jalen Brunson\"],[\"Paolo Banchero\"],[\"Devin Booker\"],[\"LaMelo Ball\"],[\"Damian Lillard\"],[\"Kyrie Irving\"],[\"Zion Williamson\"],[\"Stephen Curry\"],[\"LeBron James\"],[\"Karl-Anthony Towns\"],[\"Victor Wembanyama\"],[\"Franz Wagner\"],[\"Trae Young\"],[\"Donovan Mitchell\"],[\"Cam Thomas\"],[\"Tyler Herro\"],[\"Joel Embiid\"],[\"Ja Morant\"],[\"James Harden\"],[\"Jaylen Brown\"],[\"DeMar DeRozan\"],[\"Brandon Ingram\"],[\"Jaren Jackson Jr.\"],[\"Norman Powell\"],[\"Jalen Williams\"],[\"Kawhi Leonard\"],[\"Jamal Murray\"],[\"Trey Murphy III\"],[\"RJ Barrett\"],[\"CJ McCollum\"],[\"Jalen Green\"],[\"Brandon Miller\"],[\"Darius Garland\"],[\"Jordan Poole\"],[\"Coby White\"],[\"Miles Bridges\"],[\"Austin Reaves\"],[\"Pascal Siakam\"],[\"Kristaps Porzingis\"],[\"Scottie Barnes\"],[\"Anfernee Simons\"],[\"Desmond Bane\"],[\"Domantas Sabonis\"],[\"Alperen Sengun\"],[\"John Collins\"],[\"Lauri Markkanen\"],[\"Jalen Johnson\"],[\"Cameron Johnson\"],[\"Julius Randle\"],[\"Tyrese Haliburton\"],[\"Evan Mobley\"],[\"Shaedon Sharpe\"],[\"Nikola Vucevic\"],[\"Collin Sexton\"],[\"Michael Porter Jr.\"],[\"Bam Adebayo\"],[\"OG Anunoby\"],[\"Mikal Bridges\"],[\"Jaden Ivey\"],[\"Dejounte Murray\"],[\"Malik Monk\"],[\"Immanuel Quickley\"],[\"Bradley Beal\"],[\"Deni Avdija\"],[\"Keyonte George\"],[\"Ivica Zubac\"],[\"Derrick White\"],[\"Malik Beasley\"],[\"Devin Vassell\"],[\"Jordan Clarkson\"],[\"Paul George\"],[\"Jalen Suggs\"],[\"Bennedict Mathurin\"],[\"Myles Turner\"],[\"Christian Braun\"],[\"Jonathan Kuminga\"],[\"Jared McCain\"],[\"Mark Williams\"],[\"Kelly Oubre Jr.\"],[\"Chet Holmgren\"],[\"Stephon Castle\"],[\"Aaron Gordon\"],[\"P.J. Washington\"],[\"Josh Giddey\"],[\"Jakob Poeltl\"],[\"Deandre Ayton\"],[\"Gradey Dick\"],[\"Jerami Grant\"],[\"Payton Pritchard\"],[\"Naz Reid\"],[\"Dyson Daniels\"],[\"Tre Mann\"],[\"Amen Thompson\"],[\"Fred VanVleet\"],[\"Dillon Brooks\"],[\"Klay Thompson\"],[\"Bobby Portis\"],[\"Tobias Harris\"],[\"Josh Hart\"],[\"Jarrett Allen\"],[\"Onyeka Okongwu\"],[\"Russell Westbrook\"],[\"Russell Westbrook\"],[\"Naji Marshall\"],[\"Rui Hachimura\"],[\"Brook Lopez\"],[\"Alex Sarr\"],[\"Moritz Wagner\"],[\"Malcolm Brogdon\"],[\"Scoot Henderson\"],[\"Keldon Johnson\"],[\"Zaccharie Risacher\"],[\"Santi Aldama\"],[\"Ty Jerome\"],[\"Keegan Murray\"],[\"Lonnie Walker IV\"],[\"Harrison Barnes\"],[\"Bilal Coulibaly\"],[\"Ayo Dosunmu\"],[\"Daniel Gafford\"],[\"Jaden McDaniels\"],[\"Jabari Smith Jr.\"],[\"Drew Timme\"],[\"Tari Eason\"],[\"Rudy Gobert\"],[\"Aaron Nesmith\"],[\"Aaron Wiggins\"],[\"Jalen Duren\"],[\"Donte DiVincenzo\"],[\"Brandin Podziemski\"],[\"Corey Kispert\"],[\"Jeremy Sochan\"],[\"Toumani Camara\"],[\"Isaiah Hartenstein\"],[\"Buddy Hield\"],[\"Jrue Holiday\"],[\"Walker Kessler\"],[\"Gary Trent Jr.\"],[\"Spencer Dinwiddie\"],[\"Tim Hardaway Jr.\"],[\"Duncan Robinson\"],[\"Guerschon Yabusele\"],[\"Brice Sensabaugh\"],[\"Jordan Hawkins\"],[\"Brandon Boston Jr.\"],[\"Grayson Allen\"],[\"Keon Johnson\"],[\"Terry Rozier\"],[\"Obi Toppin\"],[\"Ochai Agbaji\"],[\"Jaylen Wells\"],[\"Grant Williams\"],[\"Jose Alvarado\"],[\"Nic Claxton\"],[\"Herbert Jones\"],[\"De'Anthony Melton\"],[\"Isaiah Joe\"],[\"Tyus Jones\"],[\"Trendon Watford\"],[\"Luguentz Dort\"],[\"Justin Edwards\"],[\"Derrick Jones Jr.\"],[\"Ausar Thompson\"],[\"Chris Boucher\"],[\"Andrew Nembhard\"],[\"Ziaire Williams\"],[\"Julian Champagnie\"],[\"Scotty Pippen Jr.\"],[\"Nick Smith Jr.\"],[\"Bub Carrington\"],[\"Moses Moody\"],[\"Amir Coffey\"],[\"Kyle Filipowski\"],[\"Miles McBride\"],[\"Jalen Wilson\"],[\"Nickeil Alexander-Walker\"],[\"Cole Anthony\"],[\"Anthony Black\"],[\"Max Strus\"],[\"Cam Whitmore\"],[\"Kel'el Ware\"],[\"Zach Edey\"],[\"Wendell Carter Jr.\"],[\"Noah Clowney\"],[\"Dalton Knecht\"],[\"A.J. Lawson\"],[\"T.J. McConnell\"],[\"Yves Missi\"],[\"Royce O'Neale\"],[\"Draymond Green\"],[\"Killian Hayes\"],[\"Al Horford\"],[\"Julian Strawther\"],[\"Patrick Williams\"],[\"Clint Capela\"],[\"Johnny Juzang\"],[\"Luke Kennard\"],[\"Justin Champagnie\"],[\"Svi Mykhailiuk\"],[\"Chris Paul\"],[\"Oshae Brissett\"],[\"Kentavious Caldwell-Pope\"],[\"Isaiah Collier\"],[\"Dante Exum\"],[\"Kyshawn George\"],[\"Jaden Hardy\"],[\"Dereck Lively II\"],[\"Tyrese Martin\"],[\"Matas Buzelis\"],[\"Jaime Jaquez Jr.\"],[\"Ja'Kobe Walter\"],[\"Sam Hauser\"],[\"Larry Nance Jr.\"],[\"Jaylen Nowell\"],[\"Jaylen Nowell\"],[\"Cason Wallace\"],[\"Dalano Banton\"],[\"Brandon Clarke\"],[\"Keon Ellis\"],[\"Brandon Williams\"],[\"Mike Conley\"],[\"Taurean Prince\"],[\"Jalen Smith\"],[\"Quinten Post\"],[\"Peyton Watson\"],[\"Day'Ron Sharpe\"],[\"Karlo Matkovic\"],[\"Lonzo Ball\"],[\"Garrison Mathews\"],[\"Matisse Thybulle\"],[\"A.J. Green\"],[\"Josh Green\"],[\"Richaun Holmes\"],[\"Alec Burks\"],[\"Ricky Council IV\"],[\"Andre Drummond\"],[\"Goga Bitadze\"],[\"Tristan Da Silva\"],[\"GG Jackson II\"],[\"Vit Krejci\"],[\"Sam Merrill\"],[\"Nae'Qwan Tomlin\"],[\"Jamison Battle\"],[\"Alex Caruso\"],[\"Jamal Shead\"],[\"Marcus Garrett\"],[\"Isaiah Jackson\"],[\"Jaylen Sims\"],[\"Ryan Dunn\"],[\"Jay Huff\"],[\"Cameron Payne\"],[\"Antonio Reeves\"],[\"Bol Bol\"],[\"Eric Gordon\"],[\"Jaxson Hayes\"],[\"Marcus Bagley\"],[\"DaQuan Jeffries\"],[\"Precious Achiuwa\"],[\"Trayce Jackson-Davis\"],[\"Marcus Sasser\"],[\"Vince Williams Jr.\"],[\"Donovan Clingan\"],[\"Seth Curry\"],[\"Haywood Highsmith\"],[\"Talen Horton-Tucker\"],[\"Trey Lyles\"],[\"Ajay Mitchell\"],[\"Gary Payton II\"],[\"Kris Dunn\"],[\"Ron Holland\"],[\"Gabe Vincent\"],[\"Sandro Mamukelashvili\"],[\"Jeremiah Robinson-Earl\"],[\"Kenrich Williams\"],[\"Jonathan Mogbo\"],[\"Ryan Rollins\"],[\"Ryan Rollins\"],[\"Isaac Okoro\"],[\"Jarace Walker\"],[\"Mouhamed Gueye\"],[\"Luke Kornet\"],[\"Isaiah Mobley\"],[\"Isaiah Stewart\"],[\"James Wiseman\"],[\"Simone Fontecchio\"],[\"Jaylin Williams\"],[\"Adem Bona\"],[\"Robert Williams\"],[\"Moussa Diabate\"],[\"Dariq Whitehead\"],[\"Landry Shamet\"],[\"Jordan Goodwin\"],[\"Aaron Holiday\"],[\"Jeff Green\"],[\"Jonathan Isaac\"],[\"Dean Wade\"],[\"Kobe Bufkin\"],[\"Pat Connaughton\"],[\"Kevin Love\"],[\"Ben Sheppard\"],[\"Monte Morris\"],[\"Jabari Walker\"],[\"Bismack Biyombo\"],[\"Mitchell Robinson\"],[\"Malaki Branham\"],[\"Neemias Queta\"],[\"Jock Landale\"],[\"Taylor Hendricks\"],[\"Pelle Larsson\"],[\"Julian Phillips\"],[\"Cody Williams\"],[\"Rob Dillingham\"],[\"Jett Howard\"],[\"Kevon Looney\"],[\"Mason Plumlee\"],[\"Dalen Terry\"],[\"Charles Bassey\"],[\"Tony Bradley\"],[\"Reggie Jackson\"],[\"Reggie Jackson\"],[\"Reed Sheppard\"],[\"Lamar Stevens\"],[\"Jevon Carter\"],[\"Terrence Shannon Jr.\"],[\"Daniel Theis\"],[\"Dominick Barlow\"],[\"Oso Ighodaro\"],[\"Kris Murray\"],[\"Duop Reath\"],[\"Jaylen Clark\"],[\"Caleb Houstan\"],[\"Jordan Miller\"],[\"Jalen Pickett\"],[\"Paul Reed\"],[\"Gui Santos\"],[\"Jarred Vanderbilt\"],[\"Nicolas Batum\"],[\"Malachi Flynn\"],[\"Josh Richardson\"],[\"Steven Adams\"],[\"Kyle Lowry\"],[\"Olivier-Maxence Prosper\"],[\"Branden Carlson\"],[\"Devin Carter\"],[\"Ousmane Dieng\"],[\"DeAndre Jordan\"],[\"Craig Porter Jr.\"],[\"Blake Wesley\"],[\"Baylor Scheierman\"],[\"Jae'Sean Tate\"],[\"Jaylon Tyson\"],[\"Luka Garza\"],[\"Cory Joseph\"],[\"Doug McDermott\"],[\"Dario Saric\"],[\"Bruno Fernando\"],[\"Andre Jackson Jr.\"],[\"Isaac Jones\"],[\"Kevin Knox\"],[\"Damion Lee\"],[\"Jeenathan Williams\"],[\"Zeke Nnaji\"],[\"Cam Reddish\"],[\"Gary Harris\"],[\"Maxi Kleber\"],[\"Rayan Rupert\"],[\"P.J. Tucker\"],[\"P.J. Tucker\"],[\"Markelle Fultz\"],[\"Taj Gibson\"],[\"Tyler Smith\"],[\"Keshad Johnson\"],[\"Jae Crowder\"],[\"Josh Minott\"],[\"Hunter Tyson\"],[\"Anthony Gill\"],[\"Dillon Jones\"],[\"Pat Spencer\"],[\"Johnny Davis\"],[\"John Konchar\"],[\"Bronny James\"],[\"JD Davison\"],[\"Chris Duarte\"],[\"Johnny Furphy\"],[\"Dwight Powell\"],[\"Tyler Kolek\"],[\"Kobe Brown\"],[\"Ariel Hukporti\"],[\"Bobi Klintman\"],[\"Garrett Temple\"],[\"Vlatko Cancar\"],[\"E.J. Liddell\"],[\"Pacome Dadiet\"],[\"Tristan Thompson\"],[\"Jordan Walsh\"],[\"Phillip Wheeler\"],[\"Leonard Miller\"],[\"Matt Ryan\"],[\"Cam Christie\"],[\"Chris Livingston\"],[\"Skal Labissiere\"],[\"Yuri Collins\"],[\"Braxton Key\"],[\"Xavier Tillman Sr.\"],[\"PJ Dozier\"],[\"Joe Ingles\"],[\"James Johnson\"],[\"Malevy Leons\"],[\"Daishen Nix\"],[\"Terence Davis\"],[\"Jalen McDaniels\"],[\"Jalen McDaniels\"],[\"Jahlil Okafor\"],[\"Terry Taylor\"],[\"Luka Doncic\"],[\"Anthony Davis\"],[\"De'Aaron Fox\"],[\"Zach LaVine\"],[\"Andrew Wiggins\"],[\"Jimmy Butler\"],[\"De'Andre Hunter\"],[\"Kyle Kuzma\"],[\"Quentin Grimes\"],[\"Dennis Schroder\"],[\"D'Angelo Russell\"],[\"Caris LeVert\"],[\"Khris Middleton\"],[\"Bogdan Bogdanovic\"],[\"Jonas Valanciunas\"],[\"Kevin Porter Jr.\"],[\"Kevin Porter Jr.\"],[\"Kevin Huerter\"],[\"Georges Niang\"],[\"Max Christie\"],[\"Nick Richards\"],[\"Jared Butler\"],[\"Marcus Smart\"],[\"Jusuf Nurkic\"],[\"Kelly Olynyk\"],[\"Dorian Finney-Smith\"],[\"Jared Rhoden\"],[\"Bruce Brown\"],[\"Davion Mitchell\"],[\"Caleb Martin\"],[\"Terance Mann\"],[\"AJ Johnson\"],[\"Tre Jones\"],[\"Josh Okogie\"],[\"Jalen Hood-Schifino\"],[\"Orlando Robinson\"],[\"Orlando Robinson\"],[\"Jake LaRavia\"],[\"Cody Martin\"],[\"Vasilije Micic\"],[\"Thomas Bryant\"],[\"Zach Collins\"],[\"KJ Martin\"],[\"Bones Hyland\"],[\"Cole Swider\"],[\"Chuma Okeke\"],[\"Chuma Okeke\"],[\"Kyle Anderson\"],[\"Moses Brown\"],[\"Moses Brown\"],[\"Shake Milton\"],[\"Javonte Green\"],[\"Javonte Green\"],[\"Ben Simmons\"],[\"Ben Simmons\"],[\"Lindy Waters III\"],[\"Colin Castleton\"],[\"Colin Castleton\"],[\"David Roddy\"],[\"David Roddy\"],[\"Drew Eubanks\"],[\"Marvin Bagley III\"],[\"Mo Bamba\"],[\"Mo Bamba\"],[\"Torrey Craig\"],[\"Torrey Craig\"],[\"Wendell Moore Jr.\"],[\"Maxwell Lewis\"],[\"Colby Jones\"],[\"Patty Mills\"],[\"Markieff Morris\"],[\"Elfrid Payton\"],[\"Elfrid Payton\"],[\"Delon Wright\"],[\"Kylor Kelley\"],[\"Jaden Springer\"],[\"Jaden Springer\"],[\"MarJon Beauchamp\"],[\"Patrick Baldwin Jr.\"],[\"Jordan McLaughlin\"],[\"Jericho Sims\"],[\"Alex Len\"],[\"Alex Len\"],[\"Sidy Cissoko\"]],\"hovertemplate\":\"Salary ($M)=%{x:.2f}\\u003cbr\\u003ePTS=%{y}\\u003cbr\\u003ePlayer=%{customdata[0]}\\u003cextra\\u003e\\u003c\\u002fextra\\u003e\",\"legendgroup\":\"\",\"marker\":{\"color\":\"skyblue\",\"symbol\":\"circle\"},\"mode\":\"markers\",\"name\":\"\",\"orientation\":\"v\",\"showlegend\":false,\"x\":[35.85995,48.787676,51.415938,42.1764,34.84834,51.179021,35.147,13.940809,24.960001,12.1608,49.2058,35.147,48.787676,41.0,36.72567,55.761216,48.728845,49.2058,12.76896,7.007092,43.03194,35.41031,4.041249,29.0,51.415938,36.72567,33.653846,49.2058,23.4,36.0162,25.257798,19.241379,4.77576,49.2058,36.0162,5.159854,25.794643,33.333333,12.483048,11.4246,36.72567,29.651786,12.0,27.173913,12.976362,42.1764,29.268293,10.13098,25.892857,34.00525,40.5,5.424654,26.58,42.1764,4.510905,22.5,33.07392,42.1764,11.227657,6.61416,20.0,18.35,35.85995,34.84834,36.637932,23.3,7.97724,29.517135,17.405203,32.5,50.20393,15.625,4.0842,11.74321,20.071429,6.0,29.347826,14.092577,49.2058,9.188385,7.24572,19.9285,3.08964,7.636307,4.02036,4.09428,7.983,10.88064,9.10512,22.841455,15.5,8.352367,19.5,34.005126,4.76376,29.793104,6.696429,13.986432,6.05952,4.908373,9.24996,42.846615,22.255493,15.873016,12.578286,25.365854,18.144,20.0,14.0,5.631296,5.631296,8.571429,17.0,23.0,11.24568,11.0,22.5,10.25916,19.0,12.56904,3.960531,2.560975,8.80956,0.780932,18.0,6.94524,7.0,13.39416,23.017242,9.77088,0.113055,3.69516,43.827586,11.0,10.514017,4.53684,11.445,3.51996,5.705887,5.57004,1.891857,30.0,8.780488,30.0,2.96592,2.087519,2.087519,16.193183,19.406,2.087519,2.57148,4.52568,0.596581,15.625,2.162606,24.924126,12.975,4.31028,1.157153,13.02525,1.988598,27.556817,12.976362,12.822,12.99165,2.087519,2.726603,16.5,0.425619,9.52381,8.376,10.81,2.019699,6.133005,3.0,2.087519,2.5872,4.45488,5.803269,3.938271,3.0,4.710144,1.891857,4.3125,12.9,7.60776,15.212068,3.37908,4.2318,5.75688,11.95,3.24408,3.81912,0.1,9.3,3.1932,9.375,24.107143,0.119972,9.5,2.55252,18.0,22.26528,3.087519,9.25,1.8,3.5,10.46,0.119972,22.757,2.51268,3.15,2.82552,2.019699,5.01456,0.635853,5.19552,3.6858,3.465,2.092344,11.205,0.446743,0.446743,5.55588,2.19697,12.5,2.120693,0.047989,9.975962,2.087519,8.571429,0.43892,2.41356,3.989122,1.407153,21.395348,2.230253,11.025,2.120693,12.654321,12.648321,2.087519,1.891857,5.0,9.057971,3.62844,1.891857,2.162606,2.164993,0.066503,1.0,9.89,1.862265,0.107027,4.435381,0.073153,2.5308,2.088033,2.087519,1.157153,2.087519,3.303771,2.463946,0.126356,2.425404,6.0,1.891857,2.75508,2.120693,6.8364,2.087519,5.2,2.087519,8.0,3.0,9.13,5.168,8.24532,11.0,2.087519,2.19697,6.669,1.862265,1.091887,1.091887,10.185186,6.36252,1.891857,2.087519,0.011997,15.0,2.237691,7.692308,2.019699,1.157153,12.428571,0.957763,3.11424,1.34369,0.223718,4.668,8.0,25.0,6.166667,4.299,9.423869,3.85,2.66388,2.087519,2.019699,0.647851,14.318182,3.21792,2.162606,8.0,5.84868,1.157153,1.891857,5.46912,6.26292,5.27832,8.0,2.087519,3.51048,2.087519,0.600545,4.033748,4.033748,10.09896,0.623856,6.5,2.54664,2.087519,0.491887,1.157153,2.99004,2.04878,0.492323,2.019699,1.05,1.891857,3.913234,1.891857,10.714286,4.668,0.119972,3.051153,12.6,2.087519,2.8704,0.496519,4.689,5.02704,2.087519,1.891857,2.62428,2.49432,7.565217,3.32616,2.162606,3.303771,2.087519,5.168,1.115128,1.891857,0.152957,0.503883,2.087519,0.515881,8.888889,2.463946,7.5,11.0,1.891857,12.025777,12.025777,0.731831,2.087519,1.157153,0.724883,1.655619,2.019699,1.891857,2.237691,2.62236,0.43881,5.29116,6.165,1.157153,0.011997,5.893768,1.850842,4.0,2.087519,2.53392,1.064049,1.257153,2.087519,2.087519,0.706898,1.80808,2.087519,1.891857,0.066503,1.891857,0.621439,1.157153,1.891857,0.119972,0.066503,0.011997,2.237691,1.051255,2.087519,2.087519,0.126356,0.119972,0.064301,4.861772,4.861772,0.119972,0.119972,43.03194,43.21944,34.84834,44.53194,26.276786,48.798677,21.696429,24.456061,4.296682,13.02525,18.692307,16.615384,31.0,17.26,9.9,3.366937,3.366937,16.830357,8.5,7.142857,5.0,0.745726,20.210284,18.125,12.804878,14.924167,0.119972,23.0,6.451077,9.186594,11.423077,2.795294,9.104167,8.25,3.87984,1.69161,1.69161,3.35268,8.12,7.723,2.087519,16.7412,7.975,4.158439,0.227947,0.355687,0.355687,8.780488,0.426632,0.426632,2.875,2.32835,2.32835,40.011909,40.011909,2.19697,0.421081,0.421081,2.967212,2.967212,5.0,12.5,2.207491,2.207491,3.625162,3.625162,2.53704,1.891857,2.120693,2.087519,2.087519,0.789048,0.789048,2.087519,0.073153,4.772772,4.772772,2.73372,2.44884,2.087519,2.092344,2.831348,2.831348,1.891857],\"xaxis\":\"x\",\"y\":[32.7,30.4,29.6,27.6,26.8,26.6,26.3,26.1,26.0,25.9,25.6,25.2,24.9,24.7,24.6,24.5,24.4,24.4,24.3,24.2,24.2,24.0,24.0,23.9,23.8,23.2,22.8,22.2,22.2,22.2,22.2,21.8,21.6,21.5,21.4,21.2,21.1,21.1,21.0,21.0,20.6,20.5,20.4,20.3,20.2,20.2,19.5,19.3,19.3,19.2,19.1,19.1,19.0,19.0,18.9,18.8,18.7,18.6,18.5,18.5,18.5,18.4,18.2,18.1,18.0,17.6,17.6,17.5,17.2,17.1,17.0,16.9,16.8,16.8,16.4,16.3,16.3,16.2,16.2,16.2,16.1,15.6,15.4,15.3,15.3,15.3,15.1,15.0,14.7,14.7,14.7,14.6,14.5,14.4,14.4,14.4,14.3,14.2,14.1,14.1,14.1,14.1,14.0,14.0,13.9,13.7,13.6,13.5,13.4,13.3,13.3,13.2,13.1,13.0,13.0,12.9,12.7,12.7,12.7,12.6,12.5,12.5,12.4,12.4,12.3,12.3,12.3,12.3,12.2,12.2,12.1,12.0,12.0,12.0,12.0,11.8,11.7,11.7,11.6,11.4,11.3,11.2,11.1,11.1,11.1,11.1,11.0,11.0,11.0,11.0,10.9,10.8,10.7,10.6,10.6,10.6,10.5,10.4,10.4,10.4,10.3,10.3,10.3,10.3,10.2,10.2,10.2,10.1,10.1,10.1,10.1,10.0,10.0,10.0,9.9,9.9,9.9,9.8,9.8,9.7,9.6,9.5,9.5,9.4,9.4,9.4,9.4,9.4,9.3,9.2,9.1,9.1,9.1,9.1,9.1,9.1,9.1,9.0,9.0,9.0,9.0,9.0,8.9,8.9,8.9,8.8,8.8,8.8,8.7,8.7,8.7,8.7,8.7,8.7,8.7,8.7,8.6,8.6,8.6,8.5,8.5,8.4,8.4,8.4,8.3,8.3,8.3,8.3,8.2,8.2,8.2,8.1,8.1,7.9,7.7,7.6,7.5,7.5,7.4,7.4,7.4,7.3,7.3,7.3,7.2,7.2,7.2,7.2,7.2,7.2,7.1,7.1,7.1,7.0,7.0,7.0,6.9,6.9,6.9,6.9,6.8,6.8,6.8,6.7,6.7,6.6,6.6,6.6,6.6,6.5,6.5,6.5,6.5,6.5,6.5,6.5,6.4,6.4,6.4,6.3,6.3,6.3,6.2,6.2,6.2,6.1,6.1,6.0,6.0,6.0,6.0,6.0,5.9,5.9,5.8,5.8,5.7,5.7,5.7,5.6,5.5,5.4,5.4,5.4,5.3,5.3,5.3,5.3,5.2,5.2,5.1,5.1,5.0,5.0,4.8,4.7,4.6,4.6,4.6,4.5,4.5,4.5,4.5,4.5,4.4,4.4,4.4,4.4,4.4,4.4,4.3,4.3,4.3,4.2,4.2,4.2,4.2,4.1,4.1,4.1,4.1,4.1,4.1,4.1,4.0,4.0,4.0,3.9,3.9,3.9,3.8,3.8,3.8,3.7,3.7,3.7,3.6,3.6,3.6,3.5,3.5,3.5,3.5,3.4,3.4,3.4,3.3,3.3,3.3,3.2,3.2,3.0,3.0,3.0,3.0,3.0,2.9,2.9,2.9,2.7,2.6,2.6,2.6,2.5,2.5,2.5,2.4,2.4,2.3,2.1,2.1,2.1,2.1,2.0,1.9,1.9,1.9,1.9,1.8,1.8,1.7,1.7,1.6,1.6,1.5,1.5,1.4,1.4,1.3,1.0,1.0,1.0,0.8,0.8,0.7,0.3,0.3,0.0,0.0,0.0,0.0,0.0,28.2,24.7,23.5,23.3,18.0,17.5,17.0,14.8,14.6,13.1,12.6,12.1,11.9,10.8,10.4,10.3,10.3,9.9,9.9,9.6,9.3,9.0,9.0,8.9,8.7,8.7,8.4,8.3,7.9,7.9,7.7,7.6,7.2,7.1,7.1,6.9,6.9,6.9,6.8,6.6,6.5,6.4,6.4,6.2,5.9,5.9,5.9,5.9,5.8,5.8,5.5,5.1,5.1,5.0,5.0,4.9,4.7,4.7,4.6,4.6,4.6,4.4,4.3,4.3,4.2,4.2,4.2,4.1,4.0,3.8,3.7,3.5,3.5,3.1,3.1,2.5,2.5,2.3,2.2,2.1,1.8,1.6,1.6,1.5],\"yaxis\":\"y\",\"type\":\"scatter\"},{\"hovertemplate\":\"\\u003cb\\u003eOLS trendline\\u003c\\u002fb\\u003e\\u003cbr\\u003ePTS = 0.388266 * Salary_M + 5.65\\u003cbr\\u003eR\\u003csup\\u003e2\\u003c\\u002fsup\\u003e=0.544610\\u003cbr\\u003e\\u003cbr\\u003eSalary ($M)=%{x:.2f}\\u003cbr\\u003ePTS=%{y} \\u003cb\\u003e(trend)\\u003c\\u002fb\\u003e\\u003cextra\\u003e\\u003c\\u002fextra\\u003e\",\"legendgroup\":\"\",\"line\":{\"color\":\"black\"},\"marker\":{\"color\":\"skyblue\",\"symbol\":\"circle\"},\"mode\":\"lines\",\"name\":\"\",\"showlegend\":false,\"x\":[0.011997,0.011997,0.011997,0.047989,0.064301,0.066503,0.066503,0.066503,0.073153,0.073153,0.1,0.107027,0.113055,0.119972,0.119972,0.119972,0.119972,0.119972,0.119972,0.119972,0.119972,0.126356,0.126356,0.152957,0.223718,0.227947,0.355687,0.355687,0.421081,0.421081,0.425619,0.426632,0.426632,0.43881,0.43892,0.446743,0.446743,0.491887,0.492323,0.496519,0.503883,0.515881,0.596581,0.600545,0.621439,0.623856,0.635853,0.647851,0.706898,0.724883,0.731831,0.745726,0.780932,0.789048,0.789048,0.957763,1.0,1.05,1.051255,1.064049,1.091887,1.091887,1.115128,1.157153,1.157153,1.157153,1.157153,1.157153,1.157153,1.157153,1.157153,1.257153,1.34369,1.407153,1.655619,1.69161,1.69161,1.8,1.80808,1.850842,1.862265,1.862265,1.891857,1.891857,1.891857,1.891857,1.891857,1.891857,1.891857,1.891857,1.891857,1.891857,1.891857,1.891857,1.891857,1.891857,1.891857,1.891857,1.891857,1.891857,1.988598,2.019699,2.019699,2.019699,2.019699,2.019699,2.019699,2.04878,2.087519,2.087519,2.087519,2.087519,2.087519,2.087519,2.087519,2.087519,2.087519,2.087519,2.087519,2.087519,2.087519,2.087519,2.087519,2.087519,2.087519,2.087519,2.087519,2.087519,2.087519,2.087519,2.087519,2.087519,2.087519,2.087519,2.087519,2.087519,2.087519,2.087519,2.087519,2.087519,2.087519,2.088033,2.092344,2.092344,2.120693,2.120693,2.120693,2.120693,2.162606,2.162606,2.162606,2.162606,2.164993,2.19697,2.19697,2.19697,2.207491,2.207491,2.230253,2.237691,2.237691,2.237691,2.32835,2.32835,2.41356,2.425404,2.44884,2.463946,2.463946,2.49432,2.51268,2.5308,2.53392,2.53704,2.54664,2.55252,2.560975,2.57148,2.5872,2.62236,2.62428,2.66388,2.726603,2.73372,2.75508,2.795294,2.82552,2.831348,2.831348,2.8704,2.875,2.96592,2.967212,2.967212,2.99004,3.0,3.0,3.0,3.051153,3.087519,3.08964,3.11424,3.15,3.1932,3.21792,3.24408,3.303771,3.303771,3.32616,3.35268,3.366937,3.366937,3.37908,3.465,3.5,3.51048,3.51996,3.625162,3.625162,3.62844,3.6858,3.69516,3.81912,3.85,3.87984,3.913234,3.938271,3.960531,3.989122,4.0,4.02036,4.033748,4.033748,4.041249,4.0842,4.09428,4.158439,4.2318,4.296682,4.299,4.31028,4.3125,4.435381,4.45488,4.510905,4.52568,4.53684,4.668,4.668,4.689,4.710144,4.76376,4.772772,4.772772,4.77576,4.861772,4.861772,4.908373,5.0,5.0,5.0,5.01456,5.02704,5.159854,5.168,5.168,5.19552,5.2,5.27832,5.29116,5.424654,5.46912,5.55588,5.57004,5.631296,5.631296,5.705887,5.75688,5.803269,5.84868,5.893768,6.0,6.0,6.05952,6.133005,6.165,6.166667,6.26292,6.36252,6.451077,6.5,6.61416,6.669,6.696429,6.8364,6.94524,7.0,7.007092,7.142857,7.24572,7.5,7.565217,7.60776,7.636307,7.692308,7.723,7.975,7.97724,7.983,8.0,8.0,8.0,8.0,8.12,8.24532,8.25,8.352367,8.376,8.5,8.571429,8.571429,8.780488,8.780488,8.80956,8.888889,9.057971,9.104167,9.10512,9.13,9.186594,9.188385,9.24996,9.25,9.3,9.375,9.423869,9.5,9.52381,9.77088,9.89,9.9,9.975962,10.09896,10.13098,10.185186,10.25916,10.46,10.514017,10.714286,10.81,10.88064,11.0,11.0,11.0,11.0,11.025,11.205,11.227657,11.24568,11.423077,11.4246,11.445,11.74321,11.95,12.0,12.025777,12.025777,12.1608,12.428571,12.483048,12.5,12.5,12.56904,12.578286,12.6,12.648321,12.654321,12.76896,12.804878,12.822,12.9,12.975,12.976362,12.976362,12.99165,13.02525,13.02525,13.39416,13.940809,13.986432,14.0,14.092577,14.318182,14.924167,15.0,15.212068,15.5,15.625,15.625,15.873016,16.193183,16.5,16.615384,16.7412,16.830357,17.0,17.26,17.405203,18.0,18.0,18.125,18.144,18.35,18.692307,19.0,19.241379,19.406,19.5,19.9285,20.0,20.0,20.071429,20.210284,21.395348,21.696429,22.255493,22.26528,22.5,22.5,22.757,22.841455,23.0,23.0,23.017242,23.3,23.4,24.107143,24.456061,24.924126,24.960001,25.0,25.257798,25.365854,25.794643,25.892857,26.276786,26.58,27.173913,27.556817,29.0,29.268293,29.347826,29.517135,29.651786,29.793104,30.0,30.0,31.0,32.5,33.07392,33.333333,33.653846,34.005126,34.00525,34.84834,34.84834,34.84834,35.147,35.147,35.41031,35.85995,35.85995,36.0162,36.0162,36.637932,36.72567,36.72567,36.72567,40.011909,40.011909,40.5,41.0,42.1764,42.1764,42.1764,42.1764,42.846615,43.03194,43.03194,43.21944,43.827586,44.53194,48.728845,48.787676,48.787676,48.798677,49.2058,49.2058,49.2058,49.2058,49.2058,50.20393,51.179021,51.415938,51.415938,55.761216],\"xaxis\":\"x\",\"y\":[5.654661611503592,5.654661611503592,5.654661611503592,5.668636089993158,5.674969488890741,5.675824451149966,5.675824451149966,5.675824451149966,5.678406421642175,5.678406421642175,5.688830205372154,5.691558552236629,5.693899021127914,5.696584658706051,5.696584658706051,5.696584658706051,5.696584658706051,5.696584658706051,5.696584658706051,5.696584658706051,5.696584658706051,5.699063350378572,5.699063350378572,5.709391620613651,5.736865727981961,5.738507705908511,5.788104835333305,5.788104835333305,5.813495117794593,5.813495117794593,5.815257069989127,5.81565038368967,5.81565038368967,5.820378689953449,5.820421399239787,5.823458806030848,5.823458806030848,5.840986697143678,5.84115598122407,5.842785146364718,5.845644338951881,5.850302757292562,5.881635842814568,5.883174930187668,5.891287364994319,5.8922258044950215,5.896883834569464,5.901542252910146,5.924468209549772,5.931451177865921,5.934148851697482,5.939543811094362,5.9532131123197365,5.956364281118951,5.956364281118951,6.021870619704392,6.038269820859198,6.057683132830701,6.058170406961185,6.063137885228453,6.073946440801707,6.073946440801707,6.082970136472301,6.099287025184349,6.099287025184349,6.099287025184349,6.099287025184349,6.099287025184349,6.099287025184349,6.099287025184349,6.099287025184349,6.138113649127353,6.171713044688912,6.196353585041861,6.292824544488088,6.306798634711415,6.306798634711415,6.348882812403238,6.352020003617833,6.3686230445483405,6.37305820980135,6.37305820980135,6.384547784358563,6.384547784358563,6.384547784358563,6.384547784358563,6.384547784358563,6.384547784358563,6.384547784358563,6.384547784358563,6.384547784358563,6.384547784358563,6.384547784358563,6.384547784358563,6.384547784358563,6.384547784358563,6.384547784358563,6.384547784358563,6.384547784358563,6.384547784358563,6.4221090486272665,6.43418451693978,6.43418451693978,6.43418451693978,6.43418451693978,6.43418451693978,6.43418451693978,6.445475687448645,6.460516733297926,6.460516733297926,6.460516733297926,6.460516733297926,6.460516733297926,6.460516733297926,6.460516733297926,6.460516733297926,6.460516733297926,6.460516733297926,6.460516733297926,6.460516733297926,6.460516733297926,6.460516733297926,6.460516733297926,6.460516733297926,6.460516733297926,6.460516733297926,6.460516733297926,6.460516733297926,6.460516733297926,6.460516733297926,6.460516733297926,6.460516733297926,6.460516733297926,6.460516733297926,6.460516733297926,6.460516733297926,6.460516733297926,6.460516733297926,6.460516733297926,6.460516733297926,6.460516733297926,6.460716302144993,6.462390117903176,6.462390117903176,6.473397077524778,6.473397077524778,6.473397077524778,6.473397077524778,6.48967048041801,6.48967048041801,6.48967048041801,6.48967048041801,6.490597271931529,6.503012861469784,6.503012861469784,6.503012861469784,6.507097810574828,6.507097810574828,6.515935526716735,6.518823451005615,6.518823451005615,6.518823451005615,6.5540232800061045,6.5540232800061045,6.587107446267939,6.591706071607748,6.600805479195031,6.606670629007861,6.606670629007861,6.618463827764309,6.625592395920245,6.6326277801787175,6.633839170845739,6.635050561512761,6.638777917411289,6.641060922899138,6.6443437139535195,6.648422450798732,6.6545259960825724,6.668177437060933,6.6689229082406385,6.684298251322068,6.70865147465784,6.7114147654838625,6.719708132358089,6.7353218709105285,6.7470576062635415,6.7493204219069405,6.7493204219069405,6.764482995089162,6.76626901979054,6.801570186279521,6.802071826260864,6.802071826260864,6.8109351679745735,6.814802299719297,6.814802299719297,6.814802299719297,6.834663282664861,6.8487829727279745,6.849606485421806,6.859157834911786,6.873042235633804,6.889815337177182,6.899413278615893,6.909570323439382,6.932746323537202,6.932746323537202,6.941439216371801,6.951736037041487,6.95727154881704,6.95727154881704,6.961986265762439,6.9953461010542695,7.008935419434321,7.013004449623548,7.016685213573345,7.057531598493865,7.057531598493865,7.058804335226716,7.0810752867204245,7.084709458721489,7.132838941761238,7.1448286032348385,7.156414467819431,7.169380230618958,7.179101252455569,7.187744058945281,7.198844978996826,7.203068539149346,7.210973639784141,7.216171748197631,7.216171748197631,7.219084133259596,7.235760556509356,7.239674280202811,7.264585053858403,7.293068653449231,7.318260143595931,7.31916014473893,7.323539787919701,7.324401738971236,7.372112282738639,7.379683086141286,7.4014357022053545,7.407172335892934,7.411505387124973,7.462430387088618,7.462430387088618,7.470583978116649,7.4787934794831585,7.49961076217644,7.503109817526184,7.503109817526184,7.5042699570496,7.537665512835458,7.537665512835458,7.555759107859138,7.5913347785793945,7.5913347785793945,7.5913347785793945,7.5969879350254965,7.601833497693583,7.653400690017246,7.656563506803643,7.656563506803643,7.667248593712758,7.668988026465405,7.699397038337565,7.704382376851848,7.756213590218323,7.77347823682082,7.807164215753771,7.8126620657040995,7.8364457024666265,7.8364457024666265,7.865406869531954,7.88520572987921,7.90321701246013,7.9208485706588885,7.9383547188623105,7.979601018009443,7.979601018009443,8.00271062458032,8.031242369184838,8.043664947515403,8.044312187336532,8.081683977680392,8.120355295127625,8.154738988492833,8.173734137724468,8.218058611617803,8.239351132188148,8.250000886869474,8.304346900668737,8.346605798168303,8.367867257439492,8.370620841609531,8.42333380760575,8.463272037792244,8.562000377154519,8.587321936491428,8.6038399471155,8.61492378345251,8.63666708112683,8.648583748547418,8.74642684088379,8.747296557260114,8.749532970799232,8.756133496869541,8.756133496869541,8.756133496869541,8.756133496869541,8.802725445601148,8.851382970726522,8.853200056727054,8.89294570685879,8.90212160289524,8.950266616584567,8.978000085800815,8.978000085800815,9.059170637549823,9.059170637549823,9.070458313662533,9.101259086170279,9.16690791846559,9.184844265662301,9.185214283388477,9.194874347425499,9.216847886979801,9.217543271814622,9.241450765507526,9.241466296157103,9.260879608128606,9.28999957608586,9.308973758940567,9.338532856014616,9.347777475175445,9.443706414951428,9.489956689392335,9.493839351786637,9.52333283186622,9.571088802783638,9.583521087770187,9.604567447544733,9.633289054340331,9.711268445867464,9.732241423322757,9.809999114827171,9.84716162966798,9.874588756821318,9.92093221515969,9.92093221515969,9.92093221515969,9.92093221515969,9.93063887114544,10.00052679424285,10.009323742429617,10.016321464862864,10.085198730939037,10.085790060421688,10.093710691706061,10.209495566966496,10.289785142618236,10.309198454589739,10.319206793443527,10.319206793443527,10.37163166589009,10.475598105088515,10.496749685013945,10.503331574304763,10.503331574304763,10.530137475475014,10.533727385124784,10.542158198247769,10.560919611203268,10.563249208639848,10.60775966206187,10.621705408849717,10.628353303401239,10.658638070076783,10.687758038034037,10.688286856652141,10.688286856652141,10.694222670920546,10.707268416565396,10.707268416565396,10.850503714953536,11.062749066471731,11.08046293711325,11.085730933449838,11.121675457097552,11.209270262044168,11.444553779145188,11.473997172879887,11.556336017743337,11.66813029259491,11.716663572523666,11.716663572523666,11.812959812162148,11.937269849241751,12.056396532024959,12.101196243795357,12.150046348975486,12.184663002084353,12.250529651739985,12.351478873991798,12.407856296755758,12.638795891170034,12.638795891170034,12.687329171098789,12.69470622964796,12.774689074970551,12.907595326591132,13.027062130600083,13.120781447207467,13.184698223808681,13.221195250315107,13.387567333910884,13.415328370030132,13.415328370030132,13.44306183924638,13.496974547922441,13.95709489068637,14.073994478320209,14.291060155200931,14.294860116886234,14.385993968605256,14.385993968605256,14.485778392138776,14.518569417389841,14.580127088320278,14.580127088320278,14.586821574820533,14.696606960149293,14.735433584092299,15.009993337441582,15.145466417171036,15.327200254529863,15.341129305869416,15.356659567180376,15.456753827172964,15.498708323940818,15.66519261647979,15.703325796919174,15.852392465957312,15.970120225479853,16.200716592538473,16.349385288681198,16.909724524900575,17.01389363907598,17.04477361789657,17.110510586628234,17.162791024033726,17.217660032457502,17.297990764330624,17.297990764330624,17.686257003760673,18.268656362905745,18.49149012303944,18.592211433008707,18.71665581020715,18.853045974794135,18.853094119807825,19.180437503608907,19.180437503608907,19.180437503608907,19.296397098677087,19.296397098677087,19.39863148218141,19.57321151407874,19.57321151407874,19.633878113989685,19.633878113989685,19.87527565956301,19.90934136287812,19.90934136287812,19.90934136287812,21.185277021276487,21.185277021276487,21.37478627834614,21.568919398061162,22.025675802126674,22.025675802126674,22.025675802126674,22.025675802126674,22.285897659786283,22.357853100608658,22.357853100608658,22.43065302050179,22.66677558094622,22.940252459753733,24.5697689813489,24.59261107248081,24.59261107248081,24.59688238938078,24.75495450557626,24.75495450557626,24.75495450557626,24.75495450557626,24.75495450557626,25.142494687138576,25.52108960281066,25.61307647545771,25.61307647545771,27.300201223795835],\"yaxis\":\"y\",\"type\":\"scatter\"}],                        {\"template\":{\"data\":{\"barpolar\":[{\"marker\":{\"line\":{\"color\":\"white\",\"width\":0.5},\"pattern\":{\"fillmode\":\"overlay\",\"size\":10,\"solidity\":0.2}},\"type\":\"barpolar\"}],\"bar\":[{\"error_x\":{\"color\":\"#2a3f5f\"},\"error_y\":{\"color\":\"#2a3f5f\"},\"marker\":{\"line\":{\"color\":\"white\",\"width\":0.5},\"pattern\":{\"fillmode\":\"overlay\",\"size\":10,\"solidity\":0.2}},\"type\":\"bar\"}],\"carpet\":[{\"aaxis\":{\"endlinecolor\":\"#2a3f5f\",\"gridcolor\":\"#C8D4E3\",\"linecolor\":\"#C8D4E3\",\"minorgridcolor\":\"#C8D4E3\",\"startlinecolor\":\"#2a3f5f\"},\"baxis\":{\"endlinecolor\":\"#2a3f5f\",\"gridcolor\":\"#C8D4E3\",\"linecolor\":\"#C8D4E3\",\"minorgridcolor\":\"#C8D4E3\",\"startlinecolor\":\"#2a3f5f\"},\"type\":\"carpet\"}],\"choropleth\":[{\"colorbar\":{\"outlinewidth\":0,\"ticks\":\"\"},\"type\":\"choropleth\"}],\"contourcarpet\":[{\"colorbar\":{\"outlinewidth\":0,\"ticks\":\"\"},\"type\":\"contourcarpet\"}],\"contour\":[{\"colorbar\":{\"outlinewidth\":0,\"ticks\":\"\"},\"colorscale\":[[0.0,\"#0d0887\"],[0.1111111111111111,\"#46039f\"],[0.2222222222222222,\"#7201a8\"],[0.3333333333333333,\"#9c179e\"],[0.4444444444444444,\"#bd3786\"],[0.5555555555555556,\"#d8576b\"],[0.6666666666666666,\"#ed7953\"],[0.7777777777777778,\"#fb9f3a\"],[0.8888888888888888,\"#fdca26\"],[1.0,\"#f0f921\"]],\"type\":\"contour\"}],\"heatmapgl\":[{\"colorbar\":{\"outlinewidth\":0,\"ticks\":\"\"},\"colorscale\":[[0.0,\"#0d0887\"],[0.1111111111111111,\"#46039f\"],[0.2222222222222222,\"#7201a8\"],[0.3333333333333333,\"#9c179e\"],[0.4444444444444444,\"#bd3786\"],[0.5555555555555556,\"#d8576b\"],[0.6666666666666666,\"#ed7953\"],[0.7777777777777778,\"#fb9f3a\"],[0.8888888888888888,\"#fdca26\"],[1.0,\"#f0f921\"]],\"type\":\"heatmapgl\"}],\"heatmap\":[{\"colorbar\":{\"outlinewidth\":0,\"ticks\":\"\"},\"colorscale\":[[0.0,\"#0d0887\"],[0.1111111111111111,\"#46039f\"],[0.2222222222222222,\"#7201a8\"],[0.3333333333333333,\"#9c179e\"],[0.4444444444444444,\"#bd3786\"],[0.5555555555555556,\"#d8576b\"],[0.6666666666666666,\"#ed7953\"],[0.7777777777777778,\"#fb9f3a\"],[0.8888888888888888,\"#fdca26\"],[1.0,\"#f0f921\"]],\"type\":\"heatmap\"}],\"histogram2dcontour\":[{\"colorbar\":{\"outlinewidth\":0,\"ticks\":\"\"},\"colorscale\":[[0.0,\"#0d0887\"],[0.1111111111111111,\"#46039f\"],[0.2222222222222222,\"#7201a8\"],[0.3333333333333333,\"#9c179e\"],[0.4444444444444444,\"#bd3786\"],[0.5555555555555556,\"#d8576b\"],[0.6666666666666666,\"#ed7953\"],[0.7777777777777778,\"#fb9f3a\"],[0.8888888888888888,\"#fdca26\"],[1.0,\"#f0f921\"]],\"type\":\"histogram2dcontour\"}],\"histogram2d\":[{\"colorbar\":{\"outlinewidth\":0,\"ticks\":\"\"},\"colorscale\":[[0.0,\"#0d0887\"],[0.1111111111111111,\"#46039f\"],[0.2222222222222222,\"#7201a8\"],[0.3333333333333333,\"#9c179e\"],[0.4444444444444444,\"#bd3786\"],[0.5555555555555556,\"#d8576b\"],[0.6666666666666666,\"#ed7953\"],[0.7777777777777778,\"#fb9f3a\"],[0.8888888888888888,\"#fdca26\"],[1.0,\"#f0f921\"]],\"type\":\"histogram2d\"}],\"histogram\":[{\"marker\":{\"pattern\":{\"fillmode\":\"overlay\",\"size\":10,\"solidity\":0.2}},\"type\":\"histogram\"}],\"mesh3d\":[{\"colorbar\":{\"outlinewidth\":0,\"ticks\":\"\"},\"type\":\"mesh3d\"}],\"parcoords\":[{\"line\":{\"colorbar\":{\"outlinewidth\":0,\"ticks\":\"\"}},\"type\":\"parcoords\"}],\"pie\":[{\"automargin\":true,\"type\":\"pie\"}],\"scatter3d\":[{\"line\":{\"colorbar\":{\"outlinewidth\":0,\"ticks\":\"\"}},\"marker\":{\"colorbar\":{\"outlinewidth\":0,\"ticks\":\"\"}},\"type\":\"scatter3d\"}],\"scattercarpet\":[{\"marker\":{\"colorbar\":{\"outlinewidth\":0,\"ticks\":\"\"}},\"type\":\"scattercarpet\"}],\"scattergeo\":[{\"marker\":{\"colorbar\":{\"outlinewidth\":0,\"ticks\":\"\"}},\"type\":\"scattergeo\"}],\"scattergl\":[{\"marker\":{\"colorbar\":{\"outlinewidth\":0,\"ticks\":\"\"}},\"type\":\"scattergl\"}],\"scattermapbox\":[{\"marker\":{\"colorbar\":{\"outlinewidth\":0,\"ticks\":\"\"}},\"type\":\"scattermapbox\"}],\"scatterpolargl\":[{\"marker\":{\"colorbar\":{\"outlinewidth\":0,\"ticks\":\"\"}},\"type\":\"scatterpolargl\"}],\"scatterpolar\":[{\"marker\":{\"colorbar\":{\"outlinewidth\":0,\"ticks\":\"\"}},\"type\":\"scatterpolar\"}],\"scatter\":[{\"fillpattern\":{\"fillmode\":\"overlay\",\"size\":10,\"solidity\":0.2},\"type\":\"scatter\"}],\"scatterternary\":[{\"marker\":{\"colorbar\":{\"outlinewidth\":0,\"ticks\":\"\"}},\"type\":\"scatterternary\"}],\"surface\":[{\"colorbar\":{\"outlinewidth\":0,\"ticks\":\"\"},\"colorscale\":[[0.0,\"#0d0887\"],[0.1111111111111111,\"#46039f\"],[0.2222222222222222,\"#7201a8\"],[0.3333333333333333,\"#9c179e\"],[0.4444444444444444,\"#bd3786\"],[0.5555555555555556,\"#d8576b\"],[0.6666666666666666,\"#ed7953\"],[0.7777777777777778,\"#fb9f3a\"],[0.8888888888888888,\"#fdca26\"],[1.0,\"#f0f921\"]],\"type\":\"surface\"}],\"table\":[{\"cells\":{\"fill\":{\"color\":\"#EBF0F8\"},\"line\":{\"color\":\"white\"}},\"header\":{\"fill\":{\"color\":\"#C8D4E3\"},\"line\":{\"color\":\"white\"}},\"type\":\"table\"}]},\"layout\":{\"annotationdefaults\":{\"arrowcolor\":\"#2a3f5f\",\"arrowhead\":0,\"arrowwidth\":1},\"autotypenumbers\":\"strict\",\"coloraxis\":{\"colorbar\":{\"outlinewidth\":0,\"ticks\":\"\"}},\"colorscale\":{\"diverging\":[[0,\"#8e0152\"],[0.1,\"#c51b7d\"],[0.2,\"#de77ae\"],[0.3,\"#f1b6da\"],[0.4,\"#fde0ef\"],[0.5,\"#f7f7f7\"],[0.6,\"#e6f5d0\"],[0.7,\"#b8e186\"],[0.8,\"#7fbc41\"],[0.9,\"#4d9221\"],[1,\"#276419\"]],\"sequential\":[[0.0,\"#0d0887\"],[0.1111111111111111,\"#46039f\"],[0.2222222222222222,\"#7201a8\"],[0.3333333333333333,\"#9c179e\"],[0.4444444444444444,\"#bd3786\"],[0.5555555555555556,\"#d8576b\"],[0.6666666666666666,\"#ed7953\"],[0.7777777777777778,\"#fb9f3a\"],[0.8888888888888888,\"#fdca26\"],[1.0,\"#f0f921\"]],\"sequentialminus\":[[0.0,\"#0d0887\"],[0.1111111111111111,\"#46039f\"],[0.2222222222222222,\"#7201a8\"],[0.3333333333333333,\"#9c179e\"],[0.4444444444444444,\"#bd3786\"],[0.5555555555555556,\"#d8576b\"],[0.6666666666666666,\"#ed7953\"],[0.7777777777777778,\"#fb9f3a\"],[0.8888888888888888,\"#fdca26\"],[1.0,\"#f0f921\"]]},\"colorway\":[\"#636efa\",\"#EF553B\",\"#00cc96\",\"#ab63fa\",\"#FFA15A\",\"#19d3f3\",\"#FF6692\",\"#B6E880\",\"#FF97FF\",\"#FECB52\"],\"font\":{\"color\":\"#2a3f5f\"},\"geo\":{\"bgcolor\":\"white\",\"lakecolor\":\"white\",\"landcolor\":\"white\",\"showlakes\":true,\"showland\":true,\"subunitcolor\":\"#C8D4E3\"},\"hoverlabel\":{\"align\":\"left\"},\"hovermode\":\"closest\",\"mapbox\":{\"style\":\"light\"},\"paper_bgcolor\":\"white\",\"plot_bgcolor\":\"white\",\"polar\":{\"angularaxis\":{\"gridcolor\":\"#EBF0F8\",\"linecolor\":\"#EBF0F8\",\"ticks\":\"\"},\"bgcolor\":\"white\",\"radialaxis\":{\"gridcolor\":\"#EBF0F8\",\"linecolor\":\"#EBF0F8\",\"ticks\":\"\"}},\"scene\":{\"xaxis\":{\"backgroundcolor\":\"white\",\"gridcolor\":\"#DFE8F3\",\"gridwidth\":2,\"linecolor\":\"#EBF0F8\",\"showbackground\":true,\"ticks\":\"\",\"zerolinecolor\":\"#EBF0F8\"},\"yaxis\":{\"backgroundcolor\":\"white\",\"gridcolor\":\"#DFE8F3\",\"gridwidth\":2,\"linecolor\":\"#EBF0F8\",\"showbackground\":true,\"ticks\":\"\",\"zerolinecolor\":\"#EBF0F8\"},\"zaxis\":{\"backgroundcolor\":\"white\",\"gridcolor\":\"#DFE8F3\",\"gridwidth\":2,\"linecolor\":\"#EBF0F8\",\"showbackground\":true,\"ticks\":\"\",\"zerolinecolor\":\"#EBF0F8\"}},\"shapedefaults\":{\"line\":{\"color\":\"#2a3f5f\"}},\"ternary\":{\"aaxis\":{\"gridcolor\":\"#DFE8F3\",\"linecolor\":\"#A2B1C6\",\"ticks\":\"\"},\"baxis\":{\"gridcolor\":\"#DFE8F3\",\"linecolor\":\"#A2B1C6\",\"ticks\":\"\"},\"bgcolor\":\"white\",\"caxis\":{\"gridcolor\":\"#DFE8F3\",\"linecolor\":\"#A2B1C6\",\"ticks\":\"\"}},\"title\":{\"x\":0.05},\"xaxis\":{\"automargin\":true,\"gridcolor\":\"#EBF0F8\",\"linecolor\":\"#EBF0F8\",\"ticks\":\"\",\"title\":{\"standoff\":15},\"zerolinecolor\":\"#EBF0F8\",\"zerolinewidth\":2},\"yaxis\":{\"automargin\":true,\"gridcolor\":\"#EBF0F8\",\"linecolor\":\"#EBF0F8\",\"ticks\":\"\",\"title\":{\"standoff\":15},\"zerolinecolor\":\"#EBF0F8\",\"zerolinewidth\":2}}},\"xaxis\":{\"anchor\":\"y\",\"domain\":[0.0,1.0],\"title\":{\"text\":\"Salary ($M)\"},\"tickprefix\":\"$\",\"ticksuffix\":\"M\"},\"yaxis\":{\"anchor\":\"x\",\"domain\":[0.0,1.0],\"title\":{\"text\":\"PTS\"}},\"legend\":{\"tracegroupgap\":0},\"title\":{\"text\":\"Salary vs PTS\"}},                        {\"responsive\": true}                    ).then(function(){\n",
       "                            \n",
       "var gd = document.getElementById('30ddad44-d782-4c8a-bf8e-d63391d9acd0');\n",
       "var x = new MutationObserver(function (mutations, observer) {{\n",
       "        var display = window.getComputedStyle(gd).display;\n",
       "        if (!display || display === 'none') {{\n",
       "            console.log([gd, 'removed!']);\n",
       "            Plotly.purge(gd);\n",
       "            observer.disconnect();\n",
       "        }}\n",
       "}});\n",
       "\n",
       "// Listen for the removal of the full notebook cells\n",
       "var notebookContainer = gd.closest('#notebook-container');\n",
       "if (notebookContainer) {{\n",
       "    x.observe(notebookContainer, {childList: true});\n",
       "}}\n",
       "\n",
       "// Listen for the clearing of the current output cell\n",
       "var outputEl = gd.closest('.output');\n",
       "if (outputEl) {{\n",
       "    x.observe(outputEl, {childList: true});\n",
       "}}\n",
       "\n",
       "                        })                };                });            </script>        </div>"
      ]
     },
     "metadata": {},
     "output_type": "display_data"
    },
    {
     "data": {
      "application/vnd.plotly.v1+json": {
       "config": {
        "plotlyServerURL": "https://plot.ly"
       },
       "data": [
        {
         "customdata": [
          [
           "Shai Gilgeous-Alexander"
          ],
          [
           "Giannis Antetokounmpo"
          ],
          [
           "Nikola Jokic"
          ],
          [
           "Anthony Edwards"
          ],
          [
           "Jayson Tatum"
          ],
          [
           "Kevin Durant"
          ],
          [
           "Tyrese Maxey"
          ],
          [
           "Cade Cunningham"
          ],
          [
           "Jalen Brunson"
          ],
          [
           "Paolo Banchero"
          ],
          [
           "Devin Booker"
          ],
          [
           "LaMelo Ball"
          ],
          [
           "Damian Lillard"
          ],
          [
           "Kyrie Irving"
          ],
          [
           "Zion Williamson"
          ],
          [
           "Stephen Curry"
          ],
          [
           "LeBron James"
          ],
          [
           "Karl-Anthony Towns"
          ],
          [
           "Victor Wembanyama"
          ],
          [
           "Franz Wagner"
          ],
          [
           "Trae Young"
          ],
          [
           "Donovan Mitchell"
          ],
          [
           "Cam Thomas"
          ],
          [
           "Tyler Herro"
          ],
          [
           "Joel Embiid"
          ],
          [
           "Ja Morant"
          ],
          [
           "James Harden"
          ],
          [
           "Jaylen Brown"
          ],
          [
           "DeMar DeRozan"
          ],
          [
           "Brandon Ingram"
          ],
          [
           "Jaren Jackson Jr."
          ],
          [
           "Norman Powell"
          ],
          [
           "Jalen Williams"
          ],
          [
           "Kawhi Leonard"
          ],
          [
           "Jamal Murray"
          ],
          [
           "Trey Murphy III"
          ],
          [
           "RJ Barrett"
          ],
          [
           "CJ McCollum"
          ],
          [
           "Jalen Green"
          ],
          [
           "Brandon Miller"
          ],
          [
           "Darius Garland"
          ],
          [
           "Jordan Poole"
          ],
          [
           "Coby White"
          ],
          [
           "Miles Bridges"
          ],
          [
           "Austin Reaves"
          ],
          [
           "Pascal Siakam"
          ],
          [
           "Kristaps Porzingis"
          ],
          [
           "Scottie Barnes"
          ],
          [
           "Anfernee Simons"
          ],
          [
           "Desmond Bane"
          ],
          [
           "Domantas Sabonis"
          ],
          [
           "Alperen Sengun"
          ],
          [
           "John Collins"
          ],
          [
           "Lauri Markkanen"
          ],
          [
           "Jalen Johnson"
          ],
          [
           "Cameron Johnson"
          ],
          [
           "Julius Randle"
          ],
          [
           "Tyrese Haliburton"
          ],
          [
           "Evan Mobley"
          ],
          [
           "Shaedon Sharpe"
          ],
          [
           "Nikola Vucevic"
          ],
          [
           "Collin Sexton"
          ],
          [
           "Michael Porter Jr."
          ],
          [
           "Bam Adebayo"
          ],
          [
           "OG Anunoby"
          ],
          [
           "Mikal Bridges"
          ],
          [
           "Jaden Ivey"
          ],
          [
           "Dejounte Murray"
          ],
          [
           "Malik Monk"
          ],
          [
           "Immanuel Quickley"
          ],
          [
           "Bradley Beal"
          ],
          [
           "Deni Avdija"
          ],
          [
           "Keyonte George"
          ],
          [
           "Ivica Zubac"
          ],
          [
           "Derrick White"
          ],
          [
           "Malik Beasley"
          ],
          [
           "Devin Vassell"
          ],
          [
           "Jordan Clarkson"
          ],
          [
           "Paul George"
          ],
          [
           "Jalen Suggs"
          ],
          [
           "Bennedict Mathurin"
          ],
          [
           "Myles Turner"
          ],
          [
           "Christian Braun"
          ],
          [
           "Jonathan Kuminga"
          ],
          [
           "Jared McCain"
          ],
          [
           "Mark Williams"
          ],
          [
           "Kelly Oubre Jr."
          ],
          [
           "Chet Holmgren"
          ],
          [
           "Stephon Castle"
          ],
          [
           "Aaron Gordon"
          ],
          [
           "P.J. Washington"
          ],
          [
           "Josh Giddey"
          ],
          [
           "Jakob Poeltl"
          ],
          [
           "Deandre Ayton"
          ],
          [
           "Gradey Dick"
          ],
          [
           "Jerami Grant"
          ],
          [
           "Payton Pritchard"
          ],
          [
           "Naz Reid"
          ],
          [
           "Dyson Daniels"
          ],
          [
           "Tre Mann"
          ],
          [
           "Amen Thompson"
          ],
          [
           "Fred VanVleet"
          ],
          [
           "Dillon Brooks"
          ],
          [
           "Klay Thompson"
          ],
          [
           "Bobby Portis"
          ],
          [
           "Tobias Harris"
          ],
          [
           "Josh Hart"
          ],
          [
           "Jarrett Allen"
          ],
          [
           "Onyeka Okongwu"
          ],
          [
           "Russell Westbrook"
          ],
          [
           "Russell Westbrook"
          ],
          [
           "Naji Marshall"
          ],
          [
           "Rui Hachimura"
          ],
          [
           "Brook Lopez"
          ],
          [
           "Alex Sarr"
          ],
          [
           "Moritz Wagner"
          ],
          [
           "Malcolm Brogdon"
          ],
          [
           "Scoot Henderson"
          ],
          [
           "Keldon Johnson"
          ],
          [
           "Zaccharie Risacher"
          ],
          [
           "Santi Aldama"
          ],
          [
           "Ty Jerome"
          ],
          [
           "Keegan Murray"
          ],
          [
           "Lonnie Walker IV"
          ],
          [
           "Harrison Barnes"
          ],
          [
           "Bilal Coulibaly"
          ],
          [
           "Ayo Dosunmu"
          ],
          [
           "Daniel Gafford"
          ],
          [
           "Jaden McDaniels"
          ],
          [
           "Jabari Smith Jr."
          ],
          [
           "Drew Timme"
          ],
          [
           "Tari Eason"
          ],
          [
           "Rudy Gobert"
          ],
          [
           "Aaron Nesmith"
          ],
          [
           "Aaron Wiggins"
          ],
          [
           "Jalen Duren"
          ],
          [
           "Donte DiVincenzo"
          ],
          [
           "Brandin Podziemski"
          ],
          [
           "Corey Kispert"
          ],
          [
           "Jeremy Sochan"
          ],
          [
           "Toumani Camara"
          ],
          [
           "Isaiah Hartenstein"
          ],
          [
           "Buddy Hield"
          ],
          [
           "Jrue Holiday"
          ],
          [
           "Walker Kessler"
          ],
          [
           "Gary Trent Jr."
          ],
          [
           "Spencer Dinwiddie"
          ],
          [
           "Tim Hardaway Jr."
          ],
          [
           "Duncan Robinson"
          ],
          [
           "Guerschon Yabusele"
          ],
          [
           "Brice Sensabaugh"
          ],
          [
           "Jordan Hawkins"
          ],
          [
           "Brandon Boston Jr."
          ],
          [
           "Grayson Allen"
          ],
          [
           "Keon Johnson"
          ],
          [
           "Terry Rozier"
          ],
          [
           "Obi Toppin"
          ],
          [
           "Ochai Agbaji"
          ],
          [
           "Jaylen Wells"
          ],
          [
           "Grant Williams"
          ],
          [
           "Jose Alvarado"
          ],
          [
           "Nic Claxton"
          ],
          [
           "Herbert Jones"
          ],
          [
           "De'Anthony Melton"
          ],
          [
           "Isaiah Joe"
          ],
          [
           "Tyus Jones"
          ],
          [
           "Trendon Watford"
          ],
          [
           "Luguentz Dort"
          ],
          [
           "Justin Edwards"
          ],
          [
           "Derrick Jones Jr."
          ],
          [
           "Ausar Thompson"
          ],
          [
           "Chris Boucher"
          ],
          [
           "Andrew Nembhard"
          ],
          [
           "Ziaire Williams"
          ],
          [
           "Julian Champagnie"
          ],
          [
           "Scotty Pippen Jr."
          ],
          [
           "Nick Smith Jr."
          ],
          [
           "Bub Carrington"
          ],
          [
           "Moses Moody"
          ],
          [
           "Amir Coffey"
          ],
          [
           "Kyle Filipowski"
          ],
          [
           "Miles McBride"
          ],
          [
           "Jalen Wilson"
          ],
          [
           "Nickeil Alexander-Walker"
          ],
          [
           "Cole Anthony"
          ],
          [
           "Anthony Black"
          ],
          [
           "Max Strus"
          ],
          [
           "Cam Whitmore"
          ],
          [
           "Kel'el Ware"
          ],
          [
           "Zach Edey"
          ],
          [
           "Wendell Carter Jr."
          ],
          [
           "Noah Clowney"
          ],
          [
           "Dalton Knecht"
          ],
          [
           "A.J. Lawson"
          ],
          [
           "T.J. McConnell"
          ],
          [
           "Yves Missi"
          ],
          [
           "Royce O'Neale"
          ],
          [
           "Draymond Green"
          ],
          [
           "Killian Hayes"
          ],
          [
           "Al Horford"
          ],
          [
           "Julian Strawther"
          ],
          [
           "Patrick Williams"
          ],
          [
           "Clint Capela"
          ],
          [
           "Johnny Juzang"
          ],
          [
           "Luke Kennard"
          ],
          [
           "Justin Champagnie"
          ],
          [
           "Svi Mykhailiuk"
          ],
          [
           "Chris Paul"
          ],
          [
           "Oshae Brissett"
          ],
          [
           "Kentavious Caldwell-Pope"
          ],
          [
           "Isaiah Collier"
          ],
          [
           "Dante Exum"
          ],
          [
           "Kyshawn George"
          ],
          [
           "Jaden Hardy"
          ],
          [
           "Dereck Lively II"
          ],
          [
           "Tyrese Martin"
          ],
          [
           "Matas Buzelis"
          ],
          [
           "Jaime Jaquez Jr."
          ],
          [
           "Ja'Kobe Walter"
          ],
          [
           "Sam Hauser"
          ],
          [
           "Larry Nance Jr."
          ],
          [
           "Jaylen Nowell"
          ],
          [
           "Jaylen Nowell"
          ],
          [
           "Cason Wallace"
          ],
          [
           "Dalano Banton"
          ],
          [
           "Brandon Clarke"
          ],
          [
           "Keon Ellis"
          ],
          [
           "Brandon Williams"
          ],
          [
           "Mike Conley"
          ],
          [
           "Taurean Prince"
          ],
          [
           "Jalen Smith"
          ],
          [
           "Quinten Post"
          ],
          [
           "Peyton Watson"
          ],
          [
           "Day'Ron Sharpe"
          ],
          [
           "Karlo Matkovic"
          ],
          [
           "Lonzo Ball"
          ],
          [
           "Garrison Mathews"
          ],
          [
           "Matisse Thybulle"
          ],
          [
           "A.J. Green"
          ],
          [
           "Josh Green"
          ],
          [
           "Richaun Holmes"
          ],
          [
           "Alec Burks"
          ],
          [
           "Ricky Council IV"
          ],
          [
           "Andre Drummond"
          ],
          [
           "Goga Bitadze"
          ],
          [
           "Tristan Da Silva"
          ],
          [
           "GG Jackson II"
          ],
          [
           "Vit Krejci"
          ],
          [
           "Sam Merrill"
          ],
          [
           "Nae'Qwan Tomlin"
          ],
          [
           "Jamison Battle"
          ],
          [
           "Alex Caruso"
          ],
          [
           "Jamal Shead"
          ],
          [
           "Marcus Garrett"
          ],
          [
           "Isaiah Jackson"
          ],
          [
           "Jaylen Sims"
          ],
          [
           "Ryan Dunn"
          ],
          [
           "Jay Huff"
          ],
          [
           "Cameron Payne"
          ],
          [
           "Antonio Reeves"
          ],
          [
           "Bol Bol"
          ],
          [
           "Eric Gordon"
          ],
          [
           "Jaxson Hayes"
          ],
          [
           "Marcus Bagley"
          ],
          [
           "DaQuan Jeffries"
          ],
          [
           "Precious Achiuwa"
          ],
          [
           "Trayce Jackson-Davis"
          ],
          [
           "Marcus Sasser"
          ],
          [
           "Vince Williams Jr."
          ],
          [
           "Donovan Clingan"
          ],
          [
           "Seth Curry"
          ],
          [
           "Haywood Highsmith"
          ],
          [
           "Talen Horton-Tucker"
          ],
          [
           "Trey Lyles"
          ],
          [
           "Ajay Mitchell"
          ],
          [
           "Gary Payton II"
          ],
          [
           "Kris Dunn"
          ],
          [
           "Ron Holland"
          ],
          [
           "Gabe Vincent"
          ],
          [
           "Sandro Mamukelashvili"
          ],
          [
           "Jeremiah Robinson-Earl"
          ],
          [
           "Kenrich Williams"
          ],
          [
           "Jonathan Mogbo"
          ],
          [
           "Ryan Rollins"
          ],
          [
           "Ryan Rollins"
          ],
          [
           "Isaac Okoro"
          ],
          [
           "Jarace Walker"
          ],
          [
           "Mouhamed Gueye"
          ],
          [
           "Luke Kornet"
          ],
          [
           "Isaiah Mobley"
          ],
          [
           "Isaiah Stewart"
          ],
          [
           "James Wiseman"
          ],
          [
           "Simone Fontecchio"
          ],
          [
           "Jaylin Williams"
          ],
          [
           "Adem Bona"
          ],
          [
           "Robert Williams"
          ],
          [
           "Moussa Diabate"
          ],
          [
           "Dariq Whitehead"
          ],
          [
           "Landry Shamet"
          ],
          [
           "Jordan Goodwin"
          ],
          [
           "Aaron Holiday"
          ],
          [
           "Jeff Green"
          ],
          [
           "Jonathan Isaac"
          ],
          [
           "Dean Wade"
          ],
          [
           "Kobe Bufkin"
          ],
          [
           "Pat Connaughton"
          ],
          [
           "Kevin Love"
          ],
          [
           "Ben Sheppard"
          ],
          [
           "Monte Morris"
          ],
          [
           "Jabari Walker"
          ],
          [
           "Bismack Biyombo"
          ],
          [
           "Mitchell Robinson"
          ],
          [
           "Malaki Branham"
          ],
          [
           "Neemias Queta"
          ],
          [
           "Jock Landale"
          ],
          [
           "Taylor Hendricks"
          ],
          [
           "Pelle Larsson"
          ],
          [
           "Julian Phillips"
          ],
          [
           "Cody Williams"
          ],
          [
           "Rob Dillingham"
          ],
          [
           "Jett Howard"
          ],
          [
           "Kevon Looney"
          ],
          [
           "Mason Plumlee"
          ],
          [
           "Dalen Terry"
          ],
          [
           "Charles Bassey"
          ],
          [
           "Tony Bradley"
          ],
          [
           "Reggie Jackson"
          ],
          [
           "Reggie Jackson"
          ],
          [
           "Reed Sheppard"
          ],
          [
           "Lamar Stevens"
          ],
          [
           "Jevon Carter"
          ],
          [
           "Terrence Shannon Jr."
          ],
          [
           "Daniel Theis"
          ],
          [
           "Dominick Barlow"
          ],
          [
           "Oso Ighodaro"
          ],
          [
           "Kris Murray"
          ],
          [
           "Duop Reath"
          ],
          [
           "Jaylen Clark"
          ],
          [
           "Caleb Houstan"
          ],
          [
           "Jordan Miller"
          ],
          [
           "Jalen Pickett"
          ],
          [
           "Paul Reed"
          ],
          [
           "Gui Santos"
          ],
          [
           "Jarred Vanderbilt"
          ],
          [
           "Nicolas Batum"
          ],
          [
           "Malachi Flynn"
          ],
          [
           "Josh Richardson"
          ],
          [
           "Steven Adams"
          ],
          [
           "Kyle Lowry"
          ],
          [
           "Olivier-Maxence Prosper"
          ],
          [
           "Branden Carlson"
          ],
          [
           "Devin Carter"
          ],
          [
           "Ousmane Dieng"
          ],
          [
           "DeAndre Jordan"
          ],
          [
           "Craig Porter Jr."
          ],
          [
           "Blake Wesley"
          ],
          [
           "Baylor Scheierman"
          ],
          [
           "Jae'Sean Tate"
          ],
          [
           "Jaylon Tyson"
          ],
          [
           "Luka Garza"
          ],
          [
           "Cory Joseph"
          ],
          [
           "Doug McDermott"
          ],
          [
           "Dario Saric"
          ],
          [
           "Bruno Fernando"
          ],
          [
           "Andre Jackson Jr."
          ],
          [
           "Isaac Jones"
          ],
          [
           "Kevin Knox"
          ],
          [
           "Damion Lee"
          ],
          [
           "Jeenathan Williams"
          ],
          [
           "Zeke Nnaji"
          ],
          [
           "Cam Reddish"
          ],
          [
           "Gary Harris"
          ],
          [
           "Maxi Kleber"
          ],
          [
           "Rayan Rupert"
          ],
          [
           "P.J. Tucker"
          ],
          [
           "P.J. Tucker"
          ],
          [
           "Markelle Fultz"
          ],
          [
           "Taj Gibson"
          ],
          [
           "Tyler Smith"
          ],
          [
           "Keshad Johnson"
          ],
          [
           "Jae Crowder"
          ],
          [
           "Josh Minott"
          ],
          [
           "Hunter Tyson"
          ],
          [
           "Anthony Gill"
          ],
          [
           "Dillon Jones"
          ],
          [
           "Pat Spencer"
          ],
          [
           "Johnny Davis"
          ],
          [
           "John Konchar"
          ],
          [
           "Bronny James"
          ],
          [
           "JD Davison"
          ],
          [
           "Chris Duarte"
          ],
          [
           "Johnny Furphy"
          ],
          [
           "Dwight Powell"
          ],
          [
           "Tyler Kolek"
          ],
          [
           "Kobe Brown"
          ],
          [
           "Ariel Hukporti"
          ],
          [
           "Bobi Klintman"
          ],
          [
           "Garrett Temple"
          ],
          [
           "Vlatko Cancar"
          ],
          [
           "E.J. Liddell"
          ],
          [
           "Pacome Dadiet"
          ],
          [
           "Tristan Thompson"
          ],
          [
           "Jordan Walsh"
          ],
          [
           "Phillip Wheeler"
          ],
          [
           "Leonard Miller"
          ],
          [
           "Matt Ryan"
          ],
          [
           "Cam Christie"
          ],
          [
           "Chris Livingston"
          ],
          [
           "Skal Labissiere"
          ],
          [
           "Yuri Collins"
          ],
          [
           "Braxton Key"
          ],
          [
           "Xavier Tillman Sr."
          ],
          [
           "PJ Dozier"
          ],
          [
           "Joe Ingles"
          ],
          [
           "James Johnson"
          ],
          [
           "Malevy Leons"
          ],
          [
           "Daishen Nix"
          ],
          [
           "Terence Davis"
          ],
          [
           "Jalen McDaniels"
          ],
          [
           "Jalen McDaniels"
          ],
          [
           "Jahlil Okafor"
          ],
          [
           "Terry Taylor"
          ],
          [
           "Luka Doncic"
          ],
          [
           "Anthony Davis"
          ],
          [
           "De'Aaron Fox"
          ],
          [
           "Zach LaVine"
          ],
          [
           "Andrew Wiggins"
          ],
          [
           "Jimmy Butler"
          ],
          [
           "De'Andre Hunter"
          ],
          [
           "Kyle Kuzma"
          ],
          [
           "Quentin Grimes"
          ],
          [
           "Dennis Schroder"
          ],
          [
           "D'Angelo Russell"
          ],
          [
           "Caris LeVert"
          ],
          [
           "Khris Middleton"
          ],
          [
           "Bogdan Bogdanovic"
          ],
          [
           "Jonas Valanciunas"
          ],
          [
           "Kevin Porter Jr."
          ],
          [
           "Kevin Porter Jr."
          ],
          [
           "Kevin Huerter"
          ],
          [
           "Georges Niang"
          ],
          [
           "Max Christie"
          ],
          [
           "Nick Richards"
          ],
          [
           "Jared Butler"
          ],
          [
           "Marcus Smart"
          ],
          [
           "Jusuf Nurkic"
          ],
          [
           "Kelly Olynyk"
          ],
          [
           "Dorian Finney-Smith"
          ],
          [
           "Jared Rhoden"
          ],
          [
           "Bruce Brown"
          ],
          [
           "Davion Mitchell"
          ],
          [
           "Caleb Martin"
          ],
          [
           "Terance Mann"
          ],
          [
           "AJ Johnson"
          ],
          [
           "Tre Jones"
          ],
          [
           "Josh Okogie"
          ],
          [
           "Jalen Hood-Schifino"
          ],
          [
           "Orlando Robinson"
          ],
          [
           "Orlando Robinson"
          ],
          [
           "Jake LaRavia"
          ],
          [
           "Cody Martin"
          ],
          [
           "Vasilije Micic"
          ],
          [
           "Thomas Bryant"
          ],
          [
           "Zach Collins"
          ],
          [
           "KJ Martin"
          ],
          [
           "Bones Hyland"
          ],
          [
           "Cole Swider"
          ],
          [
           "Chuma Okeke"
          ],
          [
           "Chuma Okeke"
          ],
          [
           "Kyle Anderson"
          ],
          [
           "Moses Brown"
          ],
          [
           "Moses Brown"
          ],
          [
           "Shake Milton"
          ],
          [
           "Javonte Green"
          ],
          [
           "Javonte Green"
          ],
          [
           "Ben Simmons"
          ],
          [
           "Ben Simmons"
          ],
          [
           "Lindy Waters III"
          ],
          [
           "Colin Castleton"
          ],
          [
           "Colin Castleton"
          ],
          [
           "David Roddy"
          ],
          [
           "David Roddy"
          ],
          [
           "Drew Eubanks"
          ],
          [
           "Marvin Bagley III"
          ],
          [
           "Mo Bamba"
          ],
          [
           "Mo Bamba"
          ],
          [
           "Torrey Craig"
          ],
          [
           "Torrey Craig"
          ],
          [
           "Wendell Moore Jr."
          ],
          [
           "Maxwell Lewis"
          ],
          [
           "Colby Jones"
          ],
          [
           "Patty Mills"
          ],
          [
           "Markieff Morris"
          ],
          [
           "Elfrid Payton"
          ],
          [
           "Elfrid Payton"
          ],
          [
           "Delon Wright"
          ],
          [
           "Kylor Kelley"
          ],
          [
           "Jaden Springer"
          ],
          [
           "Jaden Springer"
          ],
          [
           "MarJon Beauchamp"
          ],
          [
           "Patrick Baldwin Jr."
          ],
          [
           "Jordan McLaughlin"
          ],
          [
           "Jericho Sims"
          ],
          [
           "Alex Len"
          ],
          [
           "Alex Len"
          ],
          [
           "Sidy Cissoko"
          ]
         ],
         "hovertemplate": "Salary ($M)=%{x:.2f}<br>MP=%{y}<br>Player=%{customdata[0]}<extra></extra>",
         "legendgroup": "",
         "marker": {
          "color": "skyblue",
          "symbol": "circle"
         },
         "mode": "markers",
         "name": "",
         "orientation": "v",
         "showlegend": false,
         "type": "scatter",
         "x": [
          35.85995,
          48.787676,
          51.415938,
          42.1764,
          34.84834,
          51.179021,
          35.147,
          13.940809,
          24.960001,
          12.1608,
          49.2058,
          35.147,
          48.787676,
          41,
          36.72567,
          55.761216,
          48.728845,
          49.2058,
          12.76896,
          7.007092,
          43.03194,
          35.41031,
          4.041249,
          29,
          51.415938,
          36.72567,
          33.653846,
          49.2058,
          23.4,
          36.0162,
          25.257798,
          19.241379,
          4.77576,
          49.2058,
          36.0162,
          5.159854,
          25.794643,
          33.333333,
          12.483048,
          11.4246,
          36.72567,
          29.651786,
          12,
          27.173913,
          12.976362,
          42.1764,
          29.268293,
          10.13098,
          25.892857,
          34.00525,
          40.5,
          5.424654,
          26.58,
          42.1764,
          4.510905,
          22.5,
          33.07392,
          42.1764,
          11.227657,
          6.61416,
          20,
          18.35,
          35.85995,
          34.84834,
          36.637932,
          23.3,
          7.97724,
          29.517135,
          17.405203,
          32.5,
          50.20393,
          15.625,
          4.0842,
          11.74321,
          20.071429,
          6,
          29.347826,
          14.092577,
          49.2058,
          9.188385,
          7.24572,
          19.9285,
          3.08964,
          7.636307,
          4.02036,
          4.09428,
          7.983,
          10.88064,
          9.10512,
          22.841455,
          15.5,
          8.352367,
          19.5,
          34.005126,
          4.76376,
          29.793104,
          6.696429,
          13.986432,
          6.05952,
          4.908373,
          9.24996,
          42.846615,
          22.255493,
          15.873016,
          12.578286,
          25.365854,
          18.144,
          20,
          14,
          5.631296,
          5.631296,
          8.571429,
          17,
          23,
          11.24568,
          11,
          22.5,
          10.25916,
          19,
          12.56904,
          3.960531,
          2.560975,
          8.80956,
          0.780932,
          18,
          6.94524,
          7,
          13.39416,
          23.017242,
          9.77088,
          0.113055,
          3.69516,
          43.827586,
          11,
          10.514017,
          4.53684,
          11.445,
          3.51996,
          5.705887,
          5.57004,
          1.891857,
          30,
          8.780488,
          30,
          2.96592,
          2.087519,
          2.087519,
          16.193183,
          19.406,
          2.087519,
          2.57148,
          4.52568,
          0.596581,
          15.625,
          2.162606,
          24.924126,
          12.975,
          4.31028,
          1.157153,
          13.02525,
          1.988598,
          27.556817,
          12.976362,
          12.822,
          12.99165,
          2.087519,
          2.726603,
          16.5,
          0.425619,
          9.52381,
          8.376,
          10.81,
          2.019699,
          6.133005,
          3,
          2.087519,
          2.5872,
          4.45488,
          5.803269,
          3.938271,
          3,
          4.710144,
          1.891857,
          4.3125,
          12.9,
          7.60776,
          15.212068,
          3.37908,
          4.2318,
          5.75688,
          11.95,
          3.24408,
          3.81912,
          0.1,
          9.3,
          3.1932,
          9.375,
          24.107143,
          0.119972,
          9.5,
          2.55252,
          18,
          22.26528,
          3.087519,
          9.25,
          1.8,
          3.5,
          10.46,
          0.119972,
          22.757,
          2.51268,
          3.15,
          2.82552,
          2.019699,
          5.01456,
          0.635853,
          5.19552,
          3.6858,
          3.465,
          2.092344,
          11.205,
          0.446743,
          0.446743,
          5.55588,
          2.19697,
          12.5,
          2.120693,
          0.047989,
          9.975962,
          2.087519,
          8.571429,
          0.43892,
          2.41356,
          3.989122,
          1.407153,
          21.395348,
          2.230253,
          11.025,
          2.120693,
          12.654321,
          12.648321,
          2.087519,
          1.891857,
          5,
          9.057971,
          3.62844,
          1.891857,
          2.162606,
          2.164993,
          0.066503,
          1,
          9.89,
          1.862265,
          0.107027,
          4.435381,
          0.073153,
          2.5308,
          2.088033,
          2.087519,
          1.157153,
          2.087519,
          3.303771,
          2.463946,
          0.126356,
          2.425404,
          6,
          1.891857,
          2.75508,
          2.120693,
          6.8364,
          2.087519,
          5.2,
          2.087519,
          8,
          3,
          9.13,
          5.168,
          8.24532,
          11,
          2.087519,
          2.19697,
          6.669,
          1.862265,
          1.091887,
          1.091887,
          10.185186,
          6.36252,
          1.891857,
          2.087519,
          0.011997,
          15,
          2.237691,
          7.692308,
          2.019699,
          1.157153,
          12.428571,
          0.957763,
          3.11424,
          1.34369,
          0.223718,
          4.668,
          8,
          25,
          6.166667,
          4.299,
          9.423869,
          3.85,
          2.66388,
          2.087519,
          2.019699,
          0.647851,
          14.318182,
          3.21792,
          2.162606,
          8,
          5.84868,
          1.157153,
          1.891857,
          5.46912,
          6.26292,
          5.27832,
          8,
          2.087519,
          3.51048,
          2.087519,
          0.600545,
          4.033748,
          4.033748,
          10.09896,
          0.623856,
          6.5,
          2.54664,
          2.087519,
          0.491887,
          1.157153,
          2.99004,
          2.04878,
          0.492323,
          2.019699,
          1.05,
          1.891857,
          3.913234,
          1.891857,
          10.714286,
          4.668,
          0.119972,
          3.051153,
          12.6,
          2.087519,
          2.8704,
          0.496519,
          4.689,
          5.02704,
          2.087519,
          1.891857,
          2.62428,
          2.49432,
          7.565217,
          3.32616,
          2.162606,
          3.303771,
          2.087519,
          5.168,
          1.115128,
          1.891857,
          0.152957,
          0.503883,
          2.087519,
          0.515881,
          8.888889,
          2.463946,
          7.5,
          11,
          1.891857,
          12.025777,
          12.025777,
          0.731831,
          2.087519,
          1.157153,
          0.724883,
          1.655619,
          2.019699,
          1.891857,
          2.237691,
          2.62236,
          0.43881,
          5.29116,
          6.165,
          1.157153,
          0.011997,
          5.893768,
          1.850842,
          4,
          2.087519,
          2.53392,
          1.064049,
          1.257153,
          2.087519,
          2.087519,
          0.706898,
          1.80808,
          2.087519,
          1.891857,
          0.066503,
          1.891857,
          0.621439,
          1.157153,
          1.891857,
          0.119972,
          0.066503,
          0.011997,
          2.237691,
          1.051255,
          2.087519,
          2.087519,
          0.126356,
          0.119972,
          0.064301,
          4.861772,
          4.861772,
          0.119972,
          0.119972,
          43.03194,
          43.21944,
          34.84834,
          44.53194,
          26.276786,
          48.798677,
          21.696429,
          24.456061,
          4.296682,
          13.02525,
          18.692307,
          16.615384,
          31,
          17.26,
          9.9,
          3.366937,
          3.366937,
          16.830357,
          8.5,
          7.142857,
          5,
          0.745726,
          20.210284,
          18.125,
          12.804878,
          14.924167,
          0.119972,
          23,
          6.451077,
          9.186594,
          11.423077,
          2.795294,
          9.104167,
          8.25,
          3.87984,
          1.69161,
          1.69161,
          3.35268,
          8.12,
          7.723,
          2.087519,
          16.7412,
          7.975,
          4.158439,
          0.227947,
          0.355687,
          0.355687,
          8.780488,
          0.426632,
          0.426632,
          2.875,
          2.32835,
          2.32835,
          40.011909,
          40.011909,
          2.19697,
          0.421081,
          0.421081,
          2.967212,
          2.967212,
          5,
          12.5,
          2.207491,
          2.207491,
          3.625162,
          3.625162,
          2.53704,
          1.891857,
          2.120693,
          2.087519,
          2.087519,
          0.789048,
          0.789048,
          2.087519,
          0.073153,
          4.772772,
          4.772772,
          2.73372,
          2.44884,
          2.087519,
          2.092344,
          2.831348,
          2.831348,
          1.891857
         ],
         "xaxis": "x",
         "y": [
          34.2,
          34.2,
          36.7,
          36.3,
          36.4,
          36.5,
          37.7,
          35,
          35.4,
          34.4,
          37.3,
          32,
          36.1,
          36.1,
          28.6,
          32.2,
          34.9,
          35,
          33.2,
          33.7,
          36,
          31.4,
          31.2,
          35.4,
          30.2,
          30.4,
          35.3,
          34.3,
          35.9,
          33.1,
          29.8,
          32.6,
          32.4,
          31.9,
          36.1,
          35,
          32.2,
          32.7,
          32.9,
          34.2,
          30.7,
          29.4,
          33.1,
          31.7,
          34.9,
          32.7,
          28.8,
          32.8,
          32.7,
          32,
          34.7,
          31.5,
          30.5,
          31.4,
          35.7,
          31.6,
          32.3,
          33.6,
          30.5,
          31.3,
          31.2,
          27.9,
          33.7,
          34.3,
          36.6,
          37,
          29.9,
          32.6,
          31.6,
          27.8,
          32.1,
          30,
          31.5,
          32.8,
          33.9,
          27.8,
          31,
          26,
          32.5,
          28.6,
          29.8,
          30.2,
          33.9,
          24.3,
          25.7,
          26.6,
          34.6,
          27.4,
          26.7,
          28.4,
          32.2,
          30.2,
          29.6,
          30.2,
          29.4,
          32.4,
          28.4,
          27.5,
          33.8,
          24.5,
          32.2,
          35.2,
          31.8,
          27.3,
          25.4,
          31.6,
          37.6,
          28,
          27.9,
          27.9,
          27.9,
          27.8,
          31.7,
          31.8,
          27.1,
          18.8,
          23.5,
          26.7,
          23.9,
          24.6,
          25.5,
          19.9,
          34.3,
          23.9,
          27.2,
          33,
          30.3,
          21.5,
          31.9,
          30.1,
          28.2,
          24.9,
          33.2,
          25,
          22.9,
          26.1,
          25.9,
          26.8,
          26.3,
          25.3,
          32.7,
          27.9,
          22.7,
          30.6,
          30,
          25.6,
          27,
          28,
          24.1,
          27.1,
          20.2,
          23.6,
          23.6,
          24.1,
          24.4,
          25.9,
          19.6,
          27.2,
          25.9,
          29.9,
          24.4,
          26.9,
          32.4,
          20.2,
          21.7,
          26.8,
          20.8,
          29.2,
          26.3,
          24.3,
          22.5,
          17.2,
          28.9,
          24.5,
          23.6,
          21.3,
          22.8,
          30,
          22.3,
          24.3,
          21.1,
          24.9,
          25.7,
          25.3,
          18.4,
          24.2,
          25.5,
          16.2,
          22.2,
          21.5,
          25.9,
          22.7,
          19.2,
          18.7,
          17.9,
          26.8,
          24.5,
          29.2,
          27,
          27.7,
          21.3,
          25,
          21.4,
          19.8,
          22.6,
          21.6,
          20,
          28,
          23.7,
          29.6,
          25.9,
          18.6,
          26.5,
          15.9,
          23.1,
          21.9,
          18.9,
          20.7,
          21.2,
          21.7,
          19.3,
          21,
          21,
          27.6,
          16.7,
          18.9,
          24.4,
          14.8,
          24.7,
          27.1,
          15,
          16.3,
          24.4,
          18.1,
          18.8,
          22.2,
          17.7,
          20.8,
          22.7,
          27.8,
          17.2,
          17.6,
          17.1,
          18.8,
          20.4,
          22,
          15.8,
          20.2,
          19.7,
          12.6,
          17.7,
          19.3,
          19.6,
          19.8,
          16.8,
          18.7,
          19.1,
          11.7,
          15.1,
          15,
          12.4,
          19.7,
          19.5,
          25.3,
          22.8,
          20.5,
          15.6,
          14.2,
          18.5,
          19.8,
          15.6,
          24.6,
          12.5,
          19.6,
          16.6,
          15,
          24.1,
          15.6,
          21.2,
          11.2,
          18.8,
          16.4,
          20.4,
          14.6,
          14.6,
          19.1,
          15.8,
          16.2,
          18.6,
          17,
          19.9,
          5,
          16.5,
          16.7,
          15.6,
          17.6,
          17.5,
          12.3,
          15.2,
          18.7,
          12.8,
          12.4,
          15.4,
          21.2,
          12.4,
          14.7,
          10.9,
          19.5,
          12.7,
          12.5,
          18.9,
          17.1,
          9.1,
          13.9,
          11.9,
          25,
          14.2,
          14.2,
          21.2,
          10.5,
          11.7,
          15,
          17.6,
          13.5,
          10.4,
          8.1,
          12.4,
          12.4,
          12.6,
          9.1,
          8.9,
          10.6,
          16.3,
          10.7,
          17.1,
          15.1,
          10.2,
          13.1,
          13.6,
          11.4,
          13.6,
          9.7,
          13.6,
          16.1,
          17.5,
          11,
          18.8,
          13.7,
          18.8,
          11.2,
          7.7,
          11,
          10.9,
          12.3,
          10.1,
          11.8,
          12.4,
          11.3,
          9.6,
          5.6,
          12.2,
          8.1,
          13.1,
          8.6,
          14.6,
          7.6,
          6,
          5.8,
          7.4,
          10.7,
          17.8,
          14.8,
          18.7,
          8.8,
          19.3,
          19.3,
          8.8,
          11.1,
          5.3,
          6.1,
          11.4,
          6,
          7.8,
          7.8,
          10.2,
          6.4,
          7.1,
          12.1,
          6.7,
          5.8,
          4.4,
          7.6,
          10,
          7.2,
          6.8,
          8.7,
          5.3,
          8.1,
          10.5,
          4.4,
          6.2,
          8.2,
          7.8,
          8.8,
          2.5,
          3.6,
          4.5,
          5,
          3,
          8,
          3.7,
          7,
          3.9,
          6,
          3.1,
          3.5,
          4.3,
          8,
          1.8,
          1.8,
          3,
          2,
          35.4,
          33.5,
          36.1,
          35.2,
          30.7,
          31.7,
          27.2,
          29.8,
          26.8,
          28.1,
          25.5,
          24.9,
          22.8,
          25,
          18.8,
          19.8,
          19.8,
          24.3,
          21.5,
          27.3,
          22,
          17.4,
          20,
          20.8,
          20.3,
          28.9,
          16.2,
          22.5,
          27.4,
          27.1,
          21.1,
          22,
          19.7,
          15.6,
          21,
          17.5,
          17.5,
          20.4,
          22.1,
          19.1,
          14.6,
          15.3,
          21.2,
          10,
          16.9,
          21.8,
          21.8,
          16.4,
          9.2,
          9.2,
          14.7,
          18.5,
          18.5,
          22,
          22,
          15,
          16.6,
          16.6,
          12.4,
          12.4,
          12.2,
          8.5,
          12.9,
          12.9,
          12.1,
          12.1,
          13.9,
          11.7,
          13.2,
          11.1,
          11,
          21.3,
          21.3,
          15.9,
          11.5,
          8.5,
          8.5,
          4.5,
          4.5,
          6.8,
          11.9,
          8.3,
          8.3,
          5.2
         ],
         "yaxis": "y"
        },
        {
         "hovertemplate": "<b>OLS trendline</b><br>MP = 0.469203 * Salary_M + 16.0317<br>R<sup>2</sup>=0.419546<br><br>Salary ($M)=%{x:.2f}<br>MP=%{y} <b>(trend)</b><extra></extra>",
         "legendgroup": "",
         "line": {
          "color": "black"
         },
         "marker": {
          "color": "skyblue",
          "symbol": "circle"
         },
         "mode": "lines",
         "name": "",
         "showlegend": false,
         "type": "scatter",
         "x": [
          0.011997,
          0.011997,
          0.011997,
          0.047989,
          0.064301,
          0.066503,
          0.066503,
          0.066503,
          0.073153,
          0.073153,
          0.1,
          0.107027,
          0.113055,
          0.119972,
          0.119972,
          0.119972,
          0.119972,
          0.119972,
          0.119972,
          0.119972,
          0.119972,
          0.126356,
          0.126356,
          0.152957,
          0.223718,
          0.227947,
          0.355687,
          0.355687,
          0.421081,
          0.421081,
          0.425619,
          0.426632,
          0.426632,
          0.43881,
          0.43892,
          0.446743,
          0.446743,
          0.491887,
          0.492323,
          0.496519,
          0.503883,
          0.515881,
          0.596581,
          0.600545,
          0.621439,
          0.623856,
          0.635853,
          0.647851,
          0.706898,
          0.724883,
          0.731831,
          0.745726,
          0.780932,
          0.789048,
          0.789048,
          0.957763,
          1,
          1.05,
          1.051255,
          1.064049,
          1.091887,
          1.091887,
          1.115128,
          1.157153,
          1.157153,
          1.157153,
          1.157153,
          1.157153,
          1.157153,
          1.157153,
          1.157153,
          1.257153,
          1.34369,
          1.407153,
          1.655619,
          1.69161,
          1.69161,
          1.8,
          1.80808,
          1.850842,
          1.862265,
          1.862265,
          1.891857,
          1.891857,
          1.891857,
          1.891857,
          1.891857,
          1.891857,
          1.891857,
          1.891857,
          1.891857,
          1.891857,
          1.891857,
          1.891857,
          1.891857,
          1.891857,
          1.891857,
          1.891857,
          1.891857,
          1.891857,
          1.988598,
          2.019699,
          2.019699,
          2.019699,
          2.019699,
          2.019699,
          2.019699,
          2.04878,
          2.087519,
          2.087519,
          2.087519,
          2.087519,
          2.087519,
          2.087519,
          2.087519,
          2.087519,
          2.087519,
          2.087519,
          2.087519,
          2.087519,
          2.087519,
          2.087519,
          2.087519,
          2.087519,
          2.087519,
          2.087519,
          2.087519,
          2.087519,
          2.087519,
          2.087519,
          2.087519,
          2.087519,
          2.087519,
          2.087519,
          2.087519,
          2.087519,
          2.087519,
          2.087519,
          2.087519,
          2.087519,
          2.087519,
          2.088033,
          2.092344,
          2.092344,
          2.120693,
          2.120693,
          2.120693,
          2.120693,
          2.162606,
          2.162606,
          2.162606,
          2.162606,
          2.164993,
          2.19697,
          2.19697,
          2.19697,
          2.207491,
          2.207491,
          2.230253,
          2.237691,
          2.237691,
          2.237691,
          2.32835,
          2.32835,
          2.41356,
          2.425404,
          2.44884,
          2.463946,
          2.463946,
          2.49432,
          2.51268,
          2.5308,
          2.53392,
          2.53704,
          2.54664,
          2.55252,
          2.560975,
          2.57148,
          2.5872,
          2.62236,
          2.62428,
          2.66388,
          2.726603,
          2.73372,
          2.75508,
          2.795294,
          2.82552,
          2.831348,
          2.831348,
          2.8704,
          2.875,
          2.96592,
          2.967212,
          2.967212,
          2.99004,
          3,
          3,
          3,
          3.051153,
          3.087519,
          3.08964,
          3.11424,
          3.15,
          3.1932,
          3.21792,
          3.24408,
          3.303771,
          3.303771,
          3.32616,
          3.35268,
          3.366937,
          3.366937,
          3.37908,
          3.465,
          3.5,
          3.51048,
          3.51996,
          3.625162,
          3.625162,
          3.62844,
          3.6858,
          3.69516,
          3.81912,
          3.85,
          3.87984,
          3.913234,
          3.938271,
          3.960531,
          3.989122,
          4,
          4.02036,
          4.033748,
          4.033748,
          4.041249,
          4.0842,
          4.09428,
          4.158439,
          4.2318,
          4.296682,
          4.299,
          4.31028,
          4.3125,
          4.435381,
          4.45488,
          4.510905,
          4.52568,
          4.53684,
          4.668,
          4.668,
          4.689,
          4.710144,
          4.76376,
          4.772772,
          4.772772,
          4.77576,
          4.861772,
          4.861772,
          4.908373,
          5,
          5,
          5,
          5.01456,
          5.02704,
          5.159854,
          5.168,
          5.168,
          5.19552,
          5.2,
          5.27832,
          5.29116,
          5.424654,
          5.46912,
          5.55588,
          5.57004,
          5.631296,
          5.631296,
          5.705887,
          5.75688,
          5.803269,
          5.84868,
          5.893768,
          6,
          6,
          6.05952,
          6.133005,
          6.165,
          6.166667,
          6.26292,
          6.36252,
          6.451077,
          6.5,
          6.61416,
          6.669,
          6.696429,
          6.8364,
          6.94524,
          7,
          7.007092,
          7.142857,
          7.24572,
          7.5,
          7.565217,
          7.60776,
          7.636307,
          7.692308,
          7.723,
          7.975,
          7.97724,
          7.983,
          8,
          8,
          8,
          8,
          8.12,
          8.24532,
          8.25,
          8.352367,
          8.376,
          8.5,
          8.571429,
          8.571429,
          8.780488,
          8.780488,
          8.80956,
          8.888889,
          9.057971,
          9.104167,
          9.10512,
          9.13,
          9.186594,
          9.188385,
          9.24996,
          9.25,
          9.3,
          9.375,
          9.423869,
          9.5,
          9.52381,
          9.77088,
          9.89,
          9.9,
          9.975962,
          10.09896,
          10.13098,
          10.185186,
          10.25916,
          10.46,
          10.514017,
          10.714286,
          10.81,
          10.88064,
          11,
          11,
          11,
          11,
          11.025,
          11.205,
          11.227657,
          11.24568,
          11.423077,
          11.4246,
          11.445,
          11.74321,
          11.95,
          12,
          12.025777,
          12.025777,
          12.1608,
          12.428571,
          12.483048,
          12.5,
          12.5,
          12.56904,
          12.578286,
          12.6,
          12.648321,
          12.654321,
          12.76896,
          12.804878,
          12.822,
          12.9,
          12.975,
          12.976362,
          12.976362,
          12.99165,
          13.02525,
          13.02525,
          13.39416,
          13.940809,
          13.986432,
          14,
          14.092577,
          14.318182,
          14.924167,
          15,
          15.212068,
          15.5,
          15.625,
          15.625,
          15.873016,
          16.193183,
          16.5,
          16.615384,
          16.7412,
          16.830357,
          17,
          17.26,
          17.405203,
          18,
          18,
          18.125,
          18.144,
          18.35,
          18.692307,
          19,
          19.241379,
          19.406,
          19.5,
          19.9285,
          20,
          20,
          20.071429,
          20.210284,
          21.395348,
          21.696429,
          22.255493,
          22.26528,
          22.5,
          22.5,
          22.757,
          22.841455,
          23,
          23,
          23.017242,
          23.3,
          23.4,
          24.107143,
          24.456061,
          24.924126,
          24.960001,
          25,
          25.257798,
          25.365854,
          25.794643,
          25.892857,
          26.276786,
          26.58,
          27.173913,
          27.556817,
          29,
          29.268293,
          29.347826,
          29.517135,
          29.651786,
          29.793104,
          30,
          30,
          31,
          32.5,
          33.07392,
          33.333333,
          33.653846,
          34.005126,
          34.00525,
          34.84834,
          34.84834,
          34.84834,
          35.147,
          35.147,
          35.41031,
          35.85995,
          35.85995,
          36.0162,
          36.0162,
          36.637932,
          36.72567,
          36.72567,
          36.72567,
          40.011909,
          40.011909,
          40.5,
          41,
          42.1764,
          42.1764,
          42.1764,
          42.1764,
          42.846615,
          43.03194,
          43.03194,
          43.21944,
          43.827586,
          44.53194,
          48.728845,
          48.787676,
          48.787676,
          48.798677,
          49.2058,
          49.2058,
          49.2058,
          49.2058,
          49.2058,
          50.20393,
          51.179021,
          51.415938,
          51.415938,
          55.761216
         ],
         "xaxis": "x",
         "y": [
          16.037286855954786,
          16.037286855954786,
          16.037286855954786,
          16.054174415679434,
          16.061828057439506,
          16.062861242772737,
          16.062861242772737,
          16.062861242772737,
          16.06598144371097,
          16.06598144371097,
          16.07857814064161,
          16.08187523116687,
          16.08470358774667,
          16.08794906592558,
          16.08794906592558,
          16.08794906592558,
          16.08794906592558,
          16.08794906592558,
          16.08794906592558,
          16.08794906592558,
          16.08794906592558,
          16.090944458826286,
          16.090944458826286,
          16.10342573178237,
          16.136627015780917,
          16.138611275896377,
          16.198547286099377,
          16.198547286099377,
          16.229230356799356,
          16.229230356799356,
          16.231359600687732,
          16.23183490347727,
          16.23183490347727,
          16.237548859421,
          16.237600471767347,
          16.241271047998897,
          16.241271047998897,
          16.26245275493959,
          16.262657327512386,
          16.264626103923938,
          16.268081315910276,
          16.27371081528726,
          16.311575509379807,
          16.313435430660885,
          16.32323896124787,
          16.324373025258055,
          16.330002055431887,
          16.335631554808867,
          16.36333659312464,
          16.37177521175233,
          16.375035235228847,
          16.381554812978735,
          16.39807357902858,
          16.40188163178267,
          16.40188163178267,
          16.481043240999828,
          16.50086097438752,
          16.52432113181785,
          16.52490998176935,
          16.530912966852625,
          16.543974644103535,
          16.543974644103535,
          16.5548793944803,
          16.57459765680049,
          16.57459765680049,
          16.57459765680049,
          16.57459765680049,
          16.57459765680049,
          16.57459765680049,
          16.57459765680049,
          16.57459765680049,
          16.621517971661145,
          16.662121404532115,
          16.691898443952134,
          16.808479473473813,
          16.82536656399531,
          16.82536656399531,
          16.876223493272775,
          16.880014654713516,
          16.90007871975423,
          16.905438427320764,
          16.905438427320764,
          16.91932308689433,
          16.91932308689433,
          16.91932308689433,
          16.91932308689433,
          16.91932308689433,
          16.91932308689433,
          16.91932308689433,
          16.91932308689433,
          16.91932308689433,
          16.91932308689433,
          16.91932308689433,
          16.91932308689433,
          16.91932308689433,
          16.91932308689433,
          16.91932308689433,
          16.91932308689433,
          16.91932308689433,
          16.91932308689433,
          16.96471426869368,
          16.97930695581849,
          16.97930695581849,
          16.97930695581849,
          16.97930695581849,
          16.97930695581849,
          16.97930695581849,
          16.99295185258312,
          17.011128313356988,
          17.011128313356988,
          17.011128313356988,
          17.011128313356988,
          17.011128313356988,
          17.011128313356988,
          17.011128313356988,
          17.011128313356988,
          17.011128313356988,
          17.011128313356988,
          17.011128313356988,
          17.011128313356988,
          17.011128313356988,
          17.011128313356988,
          17.011128313356988,
          17.011128313356988,
          17.011128313356988,
          17.011128313356988,
          17.011128313356988,
          17.011128313356988,
          17.011128313356988,
          17.011128313356988,
          17.011128313356988,
          17.011128313356988,
          17.011128313356988,
          17.011128313356988,
          17.011128313356988,
          17.011128313356988,
          17.011128313356988,
          17.011128313356988,
          17.011128313356988,
          17.011128313356988,
          17.011128313356988,
          17.011369483775372,
          17.013392218549015,
          17.013392218549015,
          17.026693658608863,
          17.026693658608863,
          17.026693658608863,
          17.026693658608863,
          17.04635937017641,
          17.04635937017641,
          17.04635937017641,
          17.04635937017641,
          17.047479358092133,
          17.062483067175126,
          17.062483067175126,
          17.062483067175126,
          17.067419553501615,
          17.067419553501615,
          17.078099555570198,
          17.081589488589533,
          17.081589488589533,
          17.081589488589533,
          17.124126976839058,
          17.124126976839058,
          17.16410777713182,
          17.16966501922392,
          17.180661264214663,
          17.187749046977512,
          17.187749046977512,
          17.20200062341329,
          17.210615193221706,
          17.219117154274457,
          17.22058106809811,
          17.222044981921762,
          17.226549332148384,
          17.229308246662193,
          17.23327535928366,
          17.238204338359772,
          17.245580211855867,
          17.262077394560873,
          17.262978264606197,
          17.28155870929102,
          17.310988538381068,
          17.314327857189703,
          17.32435003644394,
          17.343218571862003,
          17.357400706231786,
          17.360135222181864,
          17.360135222181864,
          17.378458543541246,
          17.38061687802484,
          17.423276828296146,
          17.423883038764146,
          17.423883038764146,
          17.434594008240538,
          17.43926727160066,
          17.43926727160066,
          17.43926727160066,
          17.46326842026133,
          17.480331461963555,
          17.48132664184175,
          17.492869039297474,
          17.509647743891644,
          17.529917319911448,
          17.541516021745,
          17.55379037611255,
          17.581797581256023,
          17.581797581256023,
          17.592302570550178,
          17.604745838051223,
          17.61143526734091,
          17.61143526734091,
          17.617132801174435,
          17.657446735702713,
          17.673868845903943,
          17.67878609490134,
          17.68323414075013,
          17.73259525038984,
          17.73259525038984,
          17.73413329831097,
          17.761046790915042,
          17.765438532386,
          17.823600954687272,
          17.83808994791624,
          17.852090969870662,
          17.86775953981523,
          17.87950697904689,
          17.889951441134873,
          17.903366428356684,
          17.908470420207227,
          17.918023396312858,
          17.9243050880664,
          17.9243050880664,
          17.9278245808841,
          17.9479773253199,
          17.952706893057854,
          17.982810497869302,
          18.01723171005423,
          18.04767454874212,
          18.04876216164059,
          18.05405477315687,
          18.05509640414678,
          18.112752556250705,
          18.121901548445383,
          18.148188654846066,
          18.155121131366727,
          18.160357438505176,
          18.221898123476414,
          18.221898123476414,
          18.231751389597154,
          18.24167222097129,
          18.26682901698698,
          18.27105747576222,
          18.27105747576222,
          18.272459454770257,
          18.312816555988206,
          18.312816555988206,
          18.33468189191642,
          18.377673568813794,
          18.377673568813794,
          18.377673568813794,
          18.384505166657508,
          18.390360821952118,
          18.45267756893115,
          18.456499697779698,
          18.456499697779698,
          18.46941216842935,
          18.471514198535107,
          18.508262189133976,
          18.514286757562083,
          18.576922562682167,
          18.59778614988811,
          18.638494215061215,
          18.64513813164548,
          18.673879639716528,
          18.673879639716528,
          18.70887797177424,
          18.732804047931133,
          18.754569912791844,
          18.775876896973216,
          18.79703232853759,
          18.846876717420365,
          18.846876717420365,
          18.874803688825427,
          18.90928308220078,
          18.924295236940445,
          18.925077398589174,
          18.970239609252,
          19.016972242853218,
          19.058523466084367,
          19.08147829172365,
          19.135042523168572,
          19.160773623838157,
          19.173643397001285,
          19.239318230914897,
          19.290386301609235,
          19.316079866026932,
          19.31940745475685,
          19.38310882022742,
          19.431372463702537,
          19.550681440330216,
          19.58128146207289,
          19.601242771624058,
          19.61463711390733,
          19.64091295943245,
          19.65531374246948,
          19.773552935918335,
          19.774603950971215,
          19.77730656110719,
          19.7852830146335,
          19.7852830146335,
          19.7852830146335,
          19.7852830146335,
          19.841587392466288,
          19.900387931049664,
          19.90258380178514,
          19.95061472049855,
          19.96170339850957,
          20.019884588936783,
          20.053399300638603,
          20.053399300638603,
          20.151490441683144,
          20.151490441683144,
          20.16513111561943,
          20.202352532195242,
          20.281686338967937,
          20.303361647620967,
          20.30380879822159,
          20.31548257255892,
          20.342036655551162,
          20.342876998390317,
          20.371768182265765,
          20.37178695039171,
          20.395247107822037,
          20.43043734396753,
          20.453366832636785,
          20.48908773754335,
          20.50025946451167,
          20.6161854864379,
          20.67207696549991,
          20.676768996985977,
          20.712410606560432,
          20.770121655432742,
          20.785145540251122,
          20.81057916612449,
          20.845287999839513,
          20.93952276020566,
          20.96486770668394,
          21.058834552052225,
          21.103743862217957,
          21.136888372635525,
          21.192892460453205,
          21.192892460453205,
          21.192892460453205,
          21.192892460453205,
          21.20462253916837,
          21.28907910591755,
          21.29970984165553,
          21.308166290002866,
          21.391401520956226,
          21.392116117351552,
          21.401687861583127,
          21.54160893252909,
          21.638635451629444,
          21.662095609059772,
          21.674190258621405,
          21.674190258621405,
          21.737543475355707,
          21.863182471661236,
          21.888743251587876,
          21.896697183363056,
          21.896697183363056,
          21.929090968742855,
          21.933429221054872,
          21.943617498223713,
          21.966289863567532,
          21.96910508245917,
          22.02289406221228,
          22.03974690090393,
          22.04778059721437,
          22.084378442805683,
          22.119568678951175,
          22.120207733639578,
          22.120207733639578,
          22.127380911375475,
          22.143146137168657,
          22.143146137168657,
          22.316239870721105,
          22.57272930270374,
          22.594135757952614,
          22.60050190627291,
          22.64393932616146,
          22.749793902502844,
          23.034123972511196,
          23.069705054879478,
          23.169208028198174,
          23.30430662918276,
          23.362957022758582,
          23.362957022758582,
          23.47932691086339,
          23.62955027534331,
          23.77350977778933,
          23.827648313888147,
          23.886681577233233,
          23.92851432235355,
          24.008111352092612,
          24.13010417073032,
          24.198233875517438,
          24.47731450069918,
          24.47731450069918,
          24.535964894275004,
          24.544879754098524,
          24.641535602711482,
          24.80214712490155,
          24.94651764930575,
          25.059773436113254,
          25.137014127640015,
          25.181119223609034,
          25.382172772786948,
          25.415720797912318,
          25.415720797912318,
          25.449235509614134,
          25.514386712813902,
          26.070422472914196,
          26.21169062609981,
          26.47400521517239,
          26.478597306387805,
          26.58872866942874,
          26.58872866942874,
          26.709313878620627,
          26.748940430536194,
          26.823330243732023,
          26.823330243732023,
          26.831420244420297,
          26.964091188313994,
          27.01101150317465,
          27.342805225289744,
          27.50651864949525,
          27.726136221247785,
          27.742968884204046,
          27.761736540945158,
          27.882696174249638,
          27.933396389675465,
          28.13458553856333,
          28.18066785660057,
          28.360808552241945,
          28.503077515743534,
          28.78174336534191,
          28.961403127755958,
          29.63854913537143,
          29.764433055720534,
          29.801750189738662,
          29.881190505626087,
          29.944369178789113,
          30.010676029343895,
          30.107752283978,
          30.107752283978,
          30.57695543258457,
          31.28076015549442,
          31.5500452265427,
          31.671762622932178,
          31.822148331701513,
          31.986970013744028,
          31.987028194934453,
          32.38260867749317,
          32.38260867749317,
          32.38260867749317,
          32.52274088985601,
          32.52274088985601,
          32.6462867709156,
          32.85725927465506,
          32.85725927465506,
          32.930572266624836,
          32.930572266624836,
          33.222290878614295,
          33.26345782446674,
          33.26345782446674,
          33.26345782446674,
          34.805371510340436,
          34.805371510340436,
          35.034385344346965,
          35.26898691865025,
          35.82095750267102,
          35.82095750267102,
          35.82095750267102,
          35.82095750267102,
          36.13542449091437,
          36.22237956442988,
          36.22237956442988,
          36.31035515479361,
          36.5956991728061,
          36.92618428733974,
          38.89538532774238,
          38.92298901817806,
          38.92298901817806,
          38.92815072201587,
          39.11917411548603,
          39.11917411548603,
          39.11917411548603,
          39.11917411548603,
          39.11917411548603,
          39.5874998542047,
          40.04501562158263,
          40.15617782394105,
          40.15617782394105,
          42.194995943111905
         ],
         "yaxis": "y"
        }
       ],
       "layout": {
        "autosize": true,
        "legend": {
         "tracegroupgap": 0
        },
        "template": {
         "data": {
          "bar": [
           {
            "error_x": {
             "color": "#2a3f5f"
            },
            "error_y": {
             "color": "#2a3f5f"
            },
            "marker": {
             "line": {
              "color": "white",
              "width": 0.5
             },
             "pattern": {
              "fillmode": "overlay",
              "size": 10,
              "solidity": 0.2
             }
            },
            "type": "bar"
           }
          ],
          "barpolar": [
           {
            "marker": {
             "line": {
              "color": "white",
              "width": 0.5
             },
             "pattern": {
              "fillmode": "overlay",
              "size": 10,
              "solidity": 0.2
             }
            },
            "type": "barpolar"
           }
          ],
          "carpet": [
           {
            "aaxis": {
             "endlinecolor": "#2a3f5f",
             "gridcolor": "#C8D4E3",
             "linecolor": "#C8D4E3",
             "minorgridcolor": "#C8D4E3",
             "startlinecolor": "#2a3f5f"
            },
            "baxis": {
             "endlinecolor": "#2a3f5f",
             "gridcolor": "#C8D4E3",
             "linecolor": "#C8D4E3",
             "minorgridcolor": "#C8D4E3",
             "startlinecolor": "#2a3f5f"
            },
            "type": "carpet"
           }
          ],
          "choropleth": [
           {
            "colorbar": {
             "outlinewidth": 0,
             "ticks": ""
            },
            "type": "choropleth"
           }
          ],
          "contour": [
           {
            "colorbar": {
             "outlinewidth": 0,
             "ticks": ""
            },
            "colorscale": [
             [
              0,
              "#0d0887"
             ],
             [
              0.1111111111111111,
              "#46039f"
             ],
             [
              0.2222222222222222,
              "#7201a8"
             ],
             [
              0.3333333333333333,
              "#9c179e"
             ],
             [
              0.4444444444444444,
              "#bd3786"
             ],
             [
              0.5555555555555556,
              "#d8576b"
             ],
             [
              0.6666666666666666,
              "#ed7953"
             ],
             [
              0.7777777777777778,
              "#fb9f3a"
             ],
             [
              0.8888888888888888,
              "#fdca26"
             ],
             [
              1,
              "#f0f921"
             ]
            ],
            "type": "contour"
           }
          ],
          "contourcarpet": [
           {
            "colorbar": {
             "outlinewidth": 0,
             "ticks": ""
            },
            "type": "contourcarpet"
           }
          ],
          "heatmap": [
           {
            "colorbar": {
             "outlinewidth": 0,
             "ticks": ""
            },
            "colorscale": [
             [
              0,
              "#0d0887"
             ],
             [
              0.1111111111111111,
              "#46039f"
             ],
             [
              0.2222222222222222,
              "#7201a8"
             ],
             [
              0.3333333333333333,
              "#9c179e"
             ],
             [
              0.4444444444444444,
              "#bd3786"
             ],
             [
              0.5555555555555556,
              "#d8576b"
             ],
             [
              0.6666666666666666,
              "#ed7953"
             ],
             [
              0.7777777777777778,
              "#fb9f3a"
             ],
             [
              0.8888888888888888,
              "#fdca26"
             ],
             [
              1,
              "#f0f921"
             ]
            ],
            "type": "heatmap"
           }
          ],
          "heatmapgl": [
           {
            "colorbar": {
             "outlinewidth": 0,
             "ticks": ""
            },
            "colorscale": [
             [
              0,
              "#0d0887"
             ],
             [
              0.1111111111111111,
              "#46039f"
             ],
             [
              0.2222222222222222,
              "#7201a8"
             ],
             [
              0.3333333333333333,
              "#9c179e"
             ],
             [
              0.4444444444444444,
              "#bd3786"
             ],
             [
              0.5555555555555556,
              "#d8576b"
             ],
             [
              0.6666666666666666,
              "#ed7953"
             ],
             [
              0.7777777777777778,
              "#fb9f3a"
             ],
             [
              0.8888888888888888,
              "#fdca26"
             ],
             [
              1,
              "#f0f921"
             ]
            ],
            "type": "heatmapgl"
           }
          ],
          "histogram": [
           {
            "marker": {
             "pattern": {
              "fillmode": "overlay",
              "size": 10,
              "solidity": 0.2
             }
            },
            "type": "histogram"
           }
          ],
          "histogram2d": [
           {
            "colorbar": {
             "outlinewidth": 0,
             "ticks": ""
            },
            "colorscale": [
             [
              0,
              "#0d0887"
             ],
             [
              0.1111111111111111,
              "#46039f"
             ],
             [
              0.2222222222222222,
              "#7201a8"
             ],
             [
              0.3333333333333333,
              "#9c179e"
             ],
             [
              0.4444444444444444,
              "#bd3786"
             ],
             [
              0.5555555555555556,
              "#d8576b"
             ],
             [
              0.6666666666666666,
              "#ed7953"
             ],
             [
              0.7777777777777778,
              "#fb9f3a"
             ],
             [
              0.8888888888888888,
              "#fdca26"
             ],
             [
              1,
              "#f0f921"
             ]
            ],
            "type": "histogram2d"
           }
          ],
          "histogram2dcontour": [
           {
            "colorbar": {
             "outlinewidth": 0,
             "ticks": ""
            },
            "colorscale": [
             [
              0,
              "#0d0887"
             ],
             [
              0.1111111111111111,
              "#46039f"
             ],
             [
              0.2222222222222222,
              "#7201a8"
             ],
             [
              0.3333333333333333,
              "#9c179e"
             ],
             [
              0.4444444444444444,
              "#bd3786"
             ],
             [
              0.5555555555555556,
              "#d8576b"
             ],
             [
              0.6666666666666666,
              "#ed7953"
             ],
             [
              0.7777777777777778,
              "#fb9f3a"
             ],
             [
              0.8888888888888888,
              "#fdca26"
             ],
             [
              1,
              "#f0f921"
             ]
            ],
            "type": "histogram2dcontour"
           }
          ],
          "mesh3d": [
           {
            "colorbar": {
             "outlinewidth": 0,
             "ticks": ""
            },
            "type": "mesh3d"
           }
          ],
          "parcoords": [
           {
            "line": {
             "colorbar": {
              "outlinewidth": 0,
              "ticks": ""
             }
            },
            "type": "parcoords"
           }
          ],
          "pie": [
           {
            "automargin": true,
            "type": "pie"
           }
          ],
          "scatter": [
           {
            "fillpattern": {
             "fillmode": "overlay",
             "size": 10,
             "solidity": 0.2
            },
            "type": "scatter"
           }
          ],
          "scatter3d": [
           {
            "line": {
             "colorbar": {
              "outlinewidth": 0,
              "ticks": ""
             }
            },
            "marker": {
             "colorbar": {
              "outlinewidth": 0,
              "ticks": ""
             }
            },
            "type": "scatter3d"
           }
          ],
          "scattercarpet": [
           {
            "marker": {
             "colorbar": {
              "outlinewidth": 0,
              "ticks": ""
             }
            },
            "type": "scattercarpet"
           }
          ],
          "scattergeo": [
           {
            "marker": {
             "colorbar": {
              "outlinewidth": 0,
              "ticks": ""
             }
            },
            "type": "scattergeo"
           }
          ],
          "scattergl": [
           {
            "marker": {
             "colorbar": {
              "outlinewidth": 0,
              "ticks": ""
             }
            },
            "type": "scattergl"
           }
          ],
          "scattermapbox": [
           {
            "marker": {
             "colorbar": {
              "outlinewidth": 0,
              "ticks": ""
             }
            },
            "type": "scattermapbox"
           }
          ],
          "scatterpolar": [
           {
            "marker": {
             "colorbar": {
              "outlinewidth": 0,
              "ticks": ""
             }
            },
            "type": "scatterpolar"
           }
          ],
          "scatterpolargl": [
           {
            "marker": {
             "colorbar": {
              "outlinewidth": 0,
              "ticks": ""
             }
            },
            "type": "scatterpolargl"
           }
          ],
          "scatterternary": [
           {
            "marker": {
             "colorbar": {
              "outlinewidth": 0,
              "ticks": ""
             }
            },
            "type": "scatterternary"
           }
          ],
          "surface": [
           {
            "colorbar": {
             "outlinewidth": 0,
             "ticks": ""
            },
            "colorscale": [
             [
              0,
              "#0d0887"
             ],
             [
              0.1111111111111111,
              "#46039f"
             ],
             [
              0.2222222222222222,
              "#7201a8"
             ],
             [
              0.3333333333333333,
              "#9c179e"
             ],
             [
              0.4444444444444444,
              "#bd3786"
             ],
             [
              0.5555555555555556,
              "#d8576b"
             ],
             [
              0.6666666666666666,
              "#ed7953"
             ],
             [
              0.7777777777777778,
              "#fb9f3a"
             ],
             [
              0.8888888888888888,
              "#fdca26"
             ],
             [
              1,
              "#f0f921"
             ]
            ],
            "type": "surface"
           }
          ],
          "table": [
           {
            "cells": {
             "fill": {
              "color": "#EBF0F8"
             },
             "line": {
              "color": "white"
             }
            },
            "header": {
             "fill": {
              "color": "#C8D4E3"
             },
             "line": {
              "color": "white"
             }
            },
            "type": "table"
           }
          ]
         },
         "layout": {
          "annotationdefaults": {
           "arrowcolor": "#2a3f5f",
           "arrowhead": 0,
           "arrowwidth": 1
          },
          "autotypenumbers": "strict",
          "coloraxis": {
           "colorbar": {
            "outlinewidth": 0,
            "ticks": ""
           }
          },
          "colorscale": {
           "diverging": [
            [
             0,
             "#8e0152"
            ],
            [
             0.1,
             "#c51b7d"
            ],
            [
             0.2,
             "#de77ae"
            ],
            [
             0.3,
             "#f1b6da"
            ],
            [
             0.4,
             "#fde0ef"
            ],
            [
             0.5,
             "#f7f7f7"
            ],
            [
             0.6,
             "#e6f5d0"
            ],
            [
             0.7,
             "#b8e186"
            ],
            [
             0.8,
             "#7fbc41"
            ],
            [
             0.9,
             "#4d9221"
            ],
            [
             1,
             "#276419"
            ]
           ],
           "sequential": [
            [
             0,
             "#0d0887"
            ],
            [
             0.1111111111111111,
             "#46039f"
            ],
            [
             0.2222222222222222,
             "#7201a8"
            ],
            [
             0.3333333333333333,
             "#9c179e"
            ],
            [
             0.4444444444444444,
             "#bd3786"
            ],
            [
             0.5555555555555556,
             "#d8576b"
            ],
            [
             0.6666666666666666,
             "#ed7953"
            ],
            [
             0.7777777777777778,
             "#fb9f3a"
            ],
            [
             0.8888888888888888,
             "#fdca26"
            ],
            [
             1,
             "#f0f921"
            ]
           ],
           "sequentialminus": [
            [
             0,
             "#0d0887"
            ],
            [
             0.1111111111111111,
             "#46039f"
            ],
            [
             0.2222222222222222,
             "#7201a8"
            ],
            [
             0.3333333333333333,
             "#9c179e"
            ],
            [
             0.4444444444444444,
             "#bd3786"
            ],
            [
             0.5555555555555556,
             "#d8576b"
            ],
            [
             0.6666666666666666,
             "#ed7953"
            ],
            [
             0.7777777777777778,
             "#fb9f3a"
            ],
            [
             0.8888888888888888,
             "#fdca26"
            ],
            [
             1,
             "#f0f921"
            ]
           ]
          },
          "colorway": [
           "#636efa",
           "#EF553B",
           "#00cc96",
           "#ab63fa",
           "#FFA15A",
           "#19d3f3",
           "#FF6692",
           "#B6E880",
           "#FF97FF",
           "#FECB52"
          ],
          "font": {
           "color": "#2a3f5f"
          },
          "geo": {
           "bgcolor": "white",
           "lakecolor": "white",
           "landcolor": "white",
           "showlakes": true,
           "showland": true,
           "subunitcolor": "#C8D4E3"
          },
          "hoverlabel": {
           "align": "left"
          },
          "hovermode": "closest",
          "mapbox": {
           "style": "light"
          },
          "paper_bgcolor": "white",
          "plot_bgcolor": "white",
          "polar": {
           "angularaxis": {
            "gridcolor": "#EBF0F8",
            "linecolor": "#EBF0F8",
            "ticks": ""
           },
           "bgcolor": "white",
           "radialaxis": {
            "gridcolor": "#EBF0F8",
            "linecolor": "#EBF0F8",
            "ticks": ""
           }
          },
          "scene": {
           "xaxis": {
            "backgroundcolor": "white",
            "gridcolor": "#DFE8F3",
            "gridwidth": 2,
            "linecolor": "#EBF0F8",
            "showbackground": true,
            "ticks": "",
            "zerolinecolor": "#EBF0F8"
           },
           "yaxis": {
            "backgroundcolor": "white",
            "gridcolor": "#DFE8F3",
            "gridwidth": 2,
            "linecolor": "#EBF0F8",
            "showbackground": true,
            "ticks": "",
            "zerolinecolor": "#EBF0F8"
           },
           "zaxis": {
            "backgroundcolor": "white",
            "gridcolor": "#DFE8F3",
            "gridwidth": 2,
            "linecolor": "#EBF0F8",
            "showbackground": true,
            "ticks": "",
            "zerolinecolor": "#EBF0F8"
           }
          },
          "shapedefaults": {
           "line": {
            "color": "#2a3f5f"
           }
          },
          "ternary": {
           "aaxis": {
            "gridcolor": "#DFE8F3",
            "linecolor": "#A2B1C6",
            "ticks": ""
           },
           "baxis": {
            "gridcolor": "#DFE8F3",
            "linecolor": "#A2B1C6",
            "ticks": ""
           },
           "bgcolor": "white",
           "caxis": {
            "gridcolor": "#DFE8F3",
            "linecolor": "#A2B1C6",
            "ticks": ""
           }
          },
          "title": {
           "x": 0.05
          },
          "xaxis": {
           "automargin": true,
           "gridcolor": "#EBF0F8",
           "linecolor": "#EBF0F8",
           "ticks": "",
           "title": {
            "standoff": 15
           },
           "zerolinecolor": "#EBF0F8",
           "zerolinewidth": 2
          },
          "yaxis": {
           "automargin": true,
           "gridcolor": "#EBF0F8",
           "linecolor": "#EBF0F8",
           "ticks": "",
           "title": {
            "standoff": 15
           },
           "zerolinecolor": "#EBF0F8",
           "zerolinewidth": 2
          }
         }
        },
        "title": {
         "text": "Salary vs MP"
        },
        "xaxis": {
         "anchor": "y",
         "autorange": true,
         "domain": [
          0,
          1
         ],
         "range": [
          -3.5706330611285266,
          59.343846061128524
         ],
         "tickprefix": "$",
         "ticksuffix": "M",
         "title": {
          "text": "Salary ($M)"
         },
         "type": "linear"
        },
        "yaxis": {
         "anchor": "x",
         "autorange": true,
         "domain": [
          0,
          1
         ],
         "range": [
          -1.4545731328573577,
          44.4923416839524
         ],
         "title": {
          "text": "MP"
         },
         "type": "linear"
        }
       }
      },
      "text/html": [
       "<div>                            <div id=\"a3cadb22-f133-46e6-91a0-65f23e212c68\" class=\"plotly-graph-div\" style=\"height:525px; width:100%;\"></div>            <script type=\"text/javascript\">                require([\"plotly\"], function(Plotly) {                    window.PLOTLYENV=window.PLOTLYENV || {};                                    if (document.getElementById(\"a3cadb22-f133-46e6-91a0-65f23e212c68\")) {                    Plotly.newPlot(                        \"a3cadb22-f133-46e6-91a0-65f23e212c68\",                        [{\"customdata\":[[\"Shai Gilgeous-Alexander\"],[\"Giannis Antetokounmpo\"],[\"Nikola Jokic\"],[\"Anthony Edwards\"],[\"Jayson Tatum\"],[\"Kevin Durant\"],[\"Tyrese Maxey\"],[\"Cade Cunningham\"],[\"Jalen Brunson\"],[\"Paolo Banchero\"],[\"Devin Booker\"],[\"LaMelo Ball\"],[\"Damian Lillard\"],[\"Kyrie Irving\"],[\"Zion Williamson\"],[\"Stephen Curry\"],[\"LeBron James\"],[\"Karl-Anthony Towns\"],[\"Victor Wembanyama\"],[\"Franz Wagner\"],[\"Trae Young\"],[\"Donovan Mitchell\"],[\"Cam Thomas\"],[\"Tyler Herro\"],[\"Joel Embiid\"],[\"Ja Morant\"],[\"James Harden\"],[\"Jaylen Brown\"],[\"DeMar DeRozan\"],[\"Brandon Ingram\"],[\"Jaren Jackson Jr.\"],[\"Norman Powell\"],[\"Jalen Williams\"],[\"Kawhi Leonard\"],[\"Jamal Murray\"],[\"Trey Murphy III\"],[\"RJ Barrett\"],[\"CJ McCollum\"],[\"Jalen Green\"],[\"Brandon Miller\"],[\"Darius Garland\"],[\"Jordan Poole\"],[\"Coby White\"],[\"Miles Bridges\"],[\"Austin Reaves\"],[\"Pascal Siakam\"],[\"Kristaps Porzingis\"],[\"Scottie Barnes\"],[\"Anfernee Simons\"],[\"Desmond Bane\"],[\"Domantas Sabonis\"],[\"Alperen Sengun\"],[\"John Collins\"],[\"Lauri Markkanen\"],[\"Jalen Johnson\"],[\"Cameron Johnson\"],[\"Julius Randle\"],[\"Tyrese Haliburton\"],[\"Evan Mobley\"],[\"Shaedon Sharpe\"],[\"Nikola Vucevic\"],[\"Collin Sexton\"],[\"Michael Porter Jr.\"],[\"Bam Adebayo\"],[\"OG Anunoby\"],[\"Mikal Bridges\"],[\"Jaden Ivey\"],[\"Dejounte Murray\"],[\"Malik Monk\"],[\"Immanuel Quickley\"],[\"Bradley Beal\"],[\"Deni Avdija\"],[\"Keyonte George\"],[\"Ivica Zubac\"],[\"Derrick White\"],[\"Malik Beasley\"],[\"Devin Vassell\"],[\"Jordan Clarkson\"],[\"Paul George\"],[\"Jalen Suggs\"],[\"Bennedict Mathurin\"],[\"Myles Turner\"],[\"Christian Braun\"],[\"Jonathan Kuminga\"],[\"Jared McCain\"],[\"Mark Williams\"],[\"Kelly Oubre Jr.\"],[\"Chet Holmgren\"],[\"Stephon Castle\"],[\"Aaron Gordon\"],[\"P.J. Washington\"],[\"Josh Giddey\"],[\"Jakob Poeltl\"],[\"Deandre Ayton\"],[\"Gradey Dick\"],[\"Jerami Grant\"],[\"Payton Pritchard\"],[\"Naz Reid\"],[\"Dyson Daniels\"],[\"Tre Mann\"],[\"Amen Thompson\"],[\"Fred VanVleet\"],[\"Dillon Brooks\"],[\"Klay Thompson\"],[\"Bobby Portis\"],[\"Tobias Harris\"],[\"Josh Hart\"],[\"Jarrett Allen\"],[\"Onyeka Okongwu\"],[\"Russell Westbrook\"],[\"Russell Westbrook\"],[\"Naji Marshall\"],[\"Rui Hachimura\"],[\"Brook Lopez\"],[\"Alex Sarr\"],[\"Moritz Wagner\"],[\"Malcolm Brogdon\"],[\"Scoot Henderson\"],[\"Keldon Johnson\"],[\"Zaccharie Risacher\"],[\"Santi Aldama\"],[\"Ty Jerome\"],[\"Keegan Murray\"],[\"Lonnie Walker IV\"],[\"Harrison Barnes\"],[\"Bilal Coulibaly\"],[\"Ayo Dosunmu\"],[\"Daniel Gafford\"],[\"Jaden McDaniels\"],[\"Jabari Smith Jr.\"],[\"Drew Timme\"],[\"Tari Eason\"],[\"Rudy Gobert\"],[\"Aaron Nesmith\"],[\"Aaron Wiggins\"],[\"Jalen Duren\"],[\"Donte DiVincenzo\"],[\"Brandin Podziemski\"],[\"Corey Kispert\"],[\"Jeremy Sochan\"],[\"Toumani Camara\"],[\"Isaiah Hartenstein\"],[\"Buddy Hield\"],[\"Jrue Holiday\"],[\"Walker Kessler\"],[\"Gary Trent Jr.\"],[\"Spencer Dinwiddie\"],[\"Tim Hardaway Jr.\"],[\"Duncan Robinson\"],[\"Guerschon Yabusele\"],[\"Brice Sensabaugh\"],[\"Jordan Hawkins\"],[\"Brandon Boston Jr.\"],[\"Grayson Allen\"],[\"Keon Johnson\"],[\"Terry Rozier\"],[\"Obi Toppin\"],[\"Ochai Agbaji\"],[\"Jaylen Wells\"],[\"Grant Williams\"],[\"Jose Alvarado\"],[\"Nic Claxton\"],[\"Herbert Jones\"],[\"De'Anthony Melton\"],[\"Isaiah Joe\"],[\"Tyus Jones\"],[\"Trendon Watford\"],[\"Luguentz Dort\"],[\"Justin Edwards\"],[\"Derrick Jones Jr.\"],[\"Ausar Thompson\"],[\"Chris Boucher\"],[\"Andrew Nembhard\"],[\"Ziaire Williams\"],[\"Julian Champagnie\"],[\"Scotty Pippen Jr.\"],[\"Nick Smith Jr.\"],[\"Bub Carrington\"],[\"Moses Moody\"],[\"Amir Coffey\"],[\"Kyle Filipowski\"],[\"Miles McBride\"],[\"Jalen Wilson\"],[\"Nickeil Alexander-Walker\"],[\"Cole Anthony\"],[\"Anthony Black\"],[\"Max Strus\"],[\"Cam Whitmore\"],[\"Kel'el Ware\"],[\"Zach Edey\"],[\"Wendell Carter Jr.\"],[\"Noah Clowney\"],[\"Dalton Knecht\"],[\"A.J. Lawson\"],[\"T.J. McConnell\"],[\"Yves Missi\"],[\"Royce O'Neale\"],[\"Draymond Green\"],[\"Killian Hayes\"],[\"Al Horford\"],[\"Julian Strawther\"],[\"Patrick Williams\"],[\"Clint Capela\"],[\"Johnny Juzang\"],[\"Luke Kennard\"],[\"Justin Champagnie\"],[\"Svi Mykhailiuk\"],[\"Chris Paul\"],[\"Oshae Brissett\"],[\"Kentavious Caldwell-Pope\"],[\"Isaiah Collier\"],[\"Dante Exum\"],[\"Kyshawn George\"],[\"Jaden Hardy\"],[\"Dereck Lively II\"],[\"Tyrese Martin\"],[\"Matas Buzelis\"],[\"Jaime Jaquez Jr.\"],[\"Ja'Kobe Walter\"],[\"Sam Hauser\"],[\"Larry Nance Jr.\"],[\"Jaylen Nowell\"],[\"Jaylen Nowell\"],[\"Cason Wallace\"],[\"Dalano Banton\"],[\"Brandon Clarke\"],[\"Keon Ellis\"],[\"Brandon Williams\"],[\"Mike Conley\"],[\"Taurean Prince\"],[\"Jalen Smith\"],[\"Quinten Post\"],[\"Peyton Watson\"],[\"Day'Ron Sharpe\"],[\"Karlo Matkovic\"],[\"Lonzo Ball\"],[\"Garrison Mathews\"],[\"Matisse Thybulle\"],[\"A.J. Green\"],[\"Josh Green\"],[\"Richaun Holmes\"],[\"Alec Burks\"],[\"Ricky Council IV\"],[\"Andre Drummond\"],[\"Goga Bitadze\"],[\"Tristan Da Silva\"],[\"GG Jackson II\"],[\"Vit Krejci\"],[\"Sam Merrill\"],[\"Nae'Qwan Tomlin\"],[\"Jamison Battle\"],[\"Alex Caruso\"],[\"Jamal Shead\"],[\"Marcus Garrett\"],[\"Isaiah Jackson\"],[\"Jaylen Sims\"],[\"Ryan Dunn\"],[\"Jay Huff\"],[\"Cameron Payne\"],[\"Antonio Reeves\"],[\"Bol Bol\"],[\"Eric Gordon\"],[\"Jaxson Hayes\"],[\"Marcus Bagley\"],[\"DaQuan Jeffries\"],[\"Precious Achiuwa\"],[\"Trayce Jackson-Davis\"],[\"Marcus Sasser\"],[\"Vince Williams Jr.\"],[\"Donovan Clingan\"],[\"Seth Curry\"],[\"Haywood Highsmith\"],[\"Talen Horton-Tucker\"],[\"Trey Lyles\"],[\"Ajay Mitchell\"],[\"Gary Payton II\"],[\"Kris Dunn\"],[\"Ron Holland\"],[\"Gabe Vincent\"],[\"Sandro Mamukelashvili\"],[\"Jeremiah Robinson-Earl\"],[\"Kenrich Williams\"],[\"Jonathan Mogbo\"],[\"Ryan Rollins\"],[\"Ryan Rollins\"],[\"Isaac Okoro\"],[\"Jarace Walker\"],[\"Mouhamed Gueye\"],[\"Luke Kornet\"],[\"Isaiah Mobley\"],[\"Isaiah Stewart\"],[\"James Wiseman\"],[\"Simone Fontecchio\"],[\"Jaylin Williams\"],[\"Adem Bona\"],[\"Robert Williams\"],[\"Moussa Diabate\"],[\"Dariq Whitehead\"],[\"Landry Shamet\"],[\"Jordan Goodwin\"],[\"Aaron Holiday\"],[\"Jeff Green\"],[\"Jonathan Isaac\"],[\"Dean Wade\"],[\"Kobe Bufkin\"],[\"Pat Connaughton\"],[\"Kevin Love\"],[\"Ben Sheppard\"],[\"Monte Morris\"],[\"Jabari Walker\"],[\"Bismack Biyombo\"],[\"Mitchell Robinson\"],[\"Malaki Branham\"],[\"Neemias Queta\"],[\"Jock Landale\"],[\"Taylor Hendricks\"],[\"Pelle Larsson\"],[\"Julian Phillips\"],[\"Cody Williams\"],[\"Rob Dillingham\"],[\"Jett Howard\"],[\"Kevon Looney\"],[\"Mason Plumlee\"],[\"Dalen Terry\"],[\"Charles Bassey\"],[\"Tony Bradley\"],[\"Reggie Jackson\"],[\"Reggie Jackson\"],[\"Reed Sheppard\"],[\"Lamar Stevens\"],[\"Jevon Carter\"],[\"Terrence Shannon Jr.\"],[\"Daniel Theis\"],[\"Dominick Barlow\"],[\"Oso Ighodaro\"],[\"Kris Murray\"],[\"Duop Reath\"],[\"Jaylen Clark\"],[\"Caleb Houstan\"],[\"Jordan Miller\"],[\"Jalen Pickett\"],[\"Paul Reed\"],[\"Gui Santos\"],[\"Jarred Vanderbilt\"],[\"Nicolas Batum\"],[\"Malachi Flynn\"],[\"Josh Richardson\"],[\"Steven Adams\"],[\"Kyle Lowry\"],[\"Olivier-Maxence Prosper\"],[\"Branden Carlson\"],[\"Devin Carter\"],[\"Ousmane Dieng\"],[\"DeAndre Jordan\"],[\"Craig Porter Jr.\"],[\"Blake Wesley\"],[\"Baylor Scheierman\"],[\"Jae'Sean Tate\"],[\"Jaylon Tyson\"],[\"Luka Garza\"],[\"Cory Joseph\"],[\"Doug McDermott\"],[\"Dario Saric\"],[\"Bruno Fernando\"],[\"Andre Jackson Jr.\"],[\"Isaac Jones\"],[\"Kevin Knox\"],[\"Damion Lee\"],[\"Jeenathan Williams\"],[\"Zeke Nnaji\"],[\"Cam Reddish\"],[\"Gary Harris\"],[\"Maxi Kleber\"],[\"Rayan Rupert\"],[\"P.J. Tucker\"],[\"P.J. Tucker\"],[\"Markelle Fultz\"],[\"Taj Gibson\"],[\"Tyler Smith\"],[\"Keshad Johnson\"],[\"Jae Crowder\"],[\"Josh Minott\"],[\"Hunter Tyson\"],[\"Anthony Gill\"],[\"Dillon Jones\"],[\"Pat Spencer\"],[\"Johnny Davis\"],[\"John Konchar\"],[\"Bronny James\"],[\"JD Davison\"],[\"Chris Duarte\"],[\"Johnny Furphy\"],[\"Dwight Powell\"],[\"Tyler Kolek\"],[\"Kobe Brown\"],[\"Ariel Hukporti\"],[\"Bobi Klintman\"],[\"Garrett Temple\"],[\"Vlatko Cancar\"],[\"E.J. Liddell\"],[\"Pacome Dadiet\"],[\"Tristan Thompson\"],[\"Jordan Walsh\"],[\"Phillip Wheeler\"],[\"Leonard Miller\"],[\"Matt Ryan\"],[\"Cam Christie\"],[\"Chris Livingston\"],[\"Skal Labissiere\"],[\"Yuri Collins\"],[\"Braxton Key\"],[\"Xavier Tillman Sr.\"],[\"PJ Dozier\"],[\"Joe Ingles\"],[\"James Johnson\"],[\"Malevy Leons\"],[\"Daishen Nix\"],[\"Terence Davis\"],[\"Jalen McDaniels\"],[\"Jalen McDaniels\"],[\"Jahlil Okafor\"],[\"Terry Taylor\"],[\"Luka Doncic\"],[\"Anthony Davis\"],[\"De'Aaron Fox\"],[\"Zach LaVine\"],[\"Andrew Wiggins\"],[\"Jimmy Butler\"],[\"De'Andre Hunter\"],[\"Kyle Kuzma\"],[\"Quentin Grimes\"],[\"Dennis Schroder\"],[\"D'Angelo Russell\"],[\"Caris LeVert\"],[\"Khris Middleton\"],[\"Bogdan Bogdanovic\"],[\"Jonas Valanciunas\"],[\"Kevin Porter Jr.\"],[\"Kevin Porter Jr.\"],[\"Kevin Huerter\"],[\"Georges Niang\"],[\"Max Christie\"],[\"Nick Richards\"],[\"Jared Butler\"],[\"Marcus Smart\"],[\"Jusuf Nurkic\"],[\"Kelly Olynyk\"],[\"Dorian Finney-Smith\"],[\"Jared Rhoden\"],[\"Bruce Brown\"],[\"Davion Mitchell\"],[\"Caleb Martin\"],[\"Terance Mann\"],[\"AJ Johnson\"],[\"Tre Jones\"],[\"Josh Okogie\"],[\"Jalen Hood-Schifino\"],[\"Orlando Robinson\"],[\"Orlando Robinson\"],[\"Jake LaRavia\"],[\"Cody Martin\"],[\"Vasilije Micic\"],[\"Thomas Bryant\"],[\"Zach Collins\"],[\"KJ Martin\"],[\"Bones Hyland\"],[\"Cole Swider\"],[\"Chuma Okeke\"],[\"Chuma Okeke\"],[\"Kyle Anderson\"],[\"Moses Brown\"],[\"Moses Brown\"],[\"Shake Milton\"],[\"Javonte Green\"],[\"Javonte Green\"],[\"Ben Simmons\"],[\"Ben Simmons\"],[\"Lindy Waters III\"],[\"Colin Castleton\"],[\"Colin Castleton\"],[\"David Roddy\"],[\"David Roddy\"],[\"Drew Eubanks\"],[\"Marvin Bagley III\"],[\"Mo Bamba\"],[\"Mo Bamba\"],[\"Torrey Craig\"],[\"Torrey Craig\"],[\"Wendell Moore Jr.\"],[\"Maxwell Lewis\"],[\"Colby Jones\"],[\"Patty Mills\"],[\"Markieff Morris\"],[\"Elfrid Payton\"],[\"Elfrid Payton\"],[\"Delon Wright\"],[\"Kylor Kelley\"],[\"Jaden Springer\"],[\"Jaden Springer\"],[\"MarJon Beauchamp\"],[\"Patrick Baldwin Jr.\"],[\"Jordan McLaughlin\"],[\"Jericho Sims\"],[\"Alex Len\"],[\"Alex Len\"],[\"Sidy Cissoko\"]],\"hovertemplate\":\"Salary ($M)=%{x:.2f}\\u003cbr\\u003eMP=%{y}\\u003cbr\\u003ePlayer=%{customdata[0]}\\u003cextra\\u003e\\u003c\\u002fextra\\u003e\",\"legendgroup\":\"\",\"marker\":{\"color\":\"skyblue\",\"symbol\":\"circle\"},\"mode\":\"markers\",\"name\":\"\",\"orientation\":\"v\",\"showlegend\":false,\"x\":[35.85995,48.787676,51.415938,42.1764,34.84834,51.179021,35.147,13.940809,24.960001,12.1608,49.2058,35.147,48.787676,41.0,36.72567,55.761216,48.728845,49.2058,12.76896,7.007092,43.03194,35.41031,4.041249,29.0,51.415938,36.72567,33.653846,49.2058,23.4,36.0162,25.257798,19.241379,4.77576,49.2058,36.0162,5.159854,25.794643,33.333333,12.483048,11.4246,36.72567,29.651786,12.0,27.173913,12.976362,42.1764,29.268293,10.13098,25.892857,34.00525,40.5,5.424654,26.58,42.1764,4.510905,22.5,33.07392,42.1764,11.227657,6.61416,20.0,18.35,35.85995,34.84834,36.637932,23.3,7.97724,29.517135,17.405203,32.5,50.20393,15.625,4.0842,11.74321,20.071429,6.0,29.347826,14.092577,49.2058,9.188385,7.24572,19.9285,3.08964,7.636307,4.02036,4.09428,7.983,10.88064,9.10512,22.841455,15.5,8.352367,19.5,34.005126,4.76376,29.793104,6.696429,13.986432,6.05952,4.908373,9.24996,42.846615,22.255493,15.873016,12.578286,25.365854,18.144,20.0,14.0,5.631296,5.631296,8.571429,17.0,23.0,11.24568,11.0,22.5,10.25916,19.0,12.56904,3.960531,2.560975,8.80956,0.780932,18.0,6.94524,7.0,13.39416,23.017242,9.77088,0.113055,3.69516,43.827586,11.0,10.514017,4.53684,11.445,3.51996,5.705887,5.57004,1.891857,30.0,8.780488,30.0,2.96592,2.087519,2.087519,16.193183,19.406,2.087519,2.57148,4.52568,0.596581,15.625,2.162606,24.924126,12.975,4.31028,1.157153,13.02525,1.988598,27.556817,12.976362,12.822,12.99165,2.087519,2.726603,16.5,0.425619,9.52381,8.376,10.81,2.019699,6.133005,3.0,2.087519,2.5872,4.45488,5.803269,3.938271,3.0,4.710144,1.891857,4.3125,12.9,7.60776,15.212068,3.37908,4.2318,5.75688,11.95,3.24408,3.81912,0.1,9.3,3.1932,9.375,24.107143,0.119972,9.5,2.55252,18.0,22.26528,3.087519,9.25,1.8,3.5,10.46,0.119972,22.757,2.51268,3.15,2.82552,2.019699,5.01456,0.635853,5.19552,3.6858,3.465,2.092344,11.205,0.446743,0.446743,5.55588,2.19697,12.5,2.120693,0.047989,9.975962,2.087519,8.571429,0.43892,2.41356,3.989122,1.407153,21.395348,2.230253,11.025,2.120693,12.654321,12.648321,2.087519,1.891857,5.0,9.057971,3.62844,1.891857,2.162606,2.164993,0.066503,1.0,9.89,1.862265,0.107027,4.435381,0.073153,2.5308,2.088033,2.087519,1.157153,2.087519,3.303771,2.463946,0.126356,2.425404,6.0,1.891857,2.75508,2.120693,6.8364,2.087519,5.2,2.087519,8.0,3.0,9.13,5.168,8.24532,11.0,2.087519,2.19697,6.669,1.862265,1.091887,1.091887,10.185186,6.36252,1.891857,2.087519,0.011997,15.0,2.237691,7.692308,2.019699,1.157153,12.428571,0.957763,3.11424,1.34369,0.223718,4.668,8.0,25.0,6.166667,4.299,9.423869,3.85,2.66388,2.087519,2.019699,0.647851,14.318182,3.21792,2.162606,8.0,5.84868,1.157153,1.891857,5.46912,6.26292,5.27832,8.0,2.087519,3.51048,2.087519,0.600545,4.033748,4.033748,10.09896,0.623856,6.5,2.54664,2.087519,0.491887,1.157153,2.99004,2.04878,0.492323,2.019699,1.05,1.891857,3.913234,1.891857,10.714286,4.668,0.119972,3.051153,12.6,2.087519,2.8704,0.496519,4.689,5.02704,2.087519,1.891857,2.62428,2.49432,7.565217,3.32616,2.162606,3.303771,2.087519,5.168,1.115128,1.891857,0.152957,0.503883,2.087519,0.515881,8.888889,2.463946,7.5,11.0,1.891857,12.025777,12.025777,0.731831,2.087519,1.157153,0.724883,1.655619,2.019699,1.891857,2.237691,2.62236,0.43881,5.29116,6.165,1.157153,0.011997,5.893768,1.850842,4.0,2.087519,2.53392,1.064049,1.257153,2.087519,2.087519,0.706898,1.80808,2.087519,1.891857,0.066503,1.891857,0.621439,1.157153,1.891857,0.119972,0.066503,0.011997,2.237691,1.051255,2.087519,2.087519,0.126356,0.119972,0.064301,4.861772,4.861772,0.119972,0.119972,43.03194,43.21944,34.84834,44.53194,26.276786,48.798677,21.696429,24.456061,4.296682,13.02525,18.692307,16.615384,31.0,17.26,9.9,3.366937,3.366937,16.830357,8.5,7.142857,5.0,0.745726,20.210284,18.125,12.804878,14.924167,0.119972,23.0,6.451077,9.186594,11.423077,2.795294,9.104167,8.25,3.87984,1.69161,1.69161,3.35268,8.12,7.723,2.087519,16.7412,7.975,4.158439,0.227947,0.355687,0.355687,8.780488,0.426632,0.426632,2.875,2.32835,2.32835,40.011909,40.011909,2.19697,0.421081,0.421081,2.967212,2.967212,5.0,12.5,2.207491,2.207491,3.625162,3.625162,2.53704,1.891857,2.120693,2.087519,2.087519,0.789048,0.789048,2.087519,0.073153,4.772772,4.772772,2.73372,2.44884,2.087519,2.092344,2.831348,2.831348,1.891857],\"xaxis\":\"x\",\"y\":[34.2,34.2,36.7,36.3,36.4,36.5,37.7,35.0,35.4,34.4,37.3,32.0,36.1,36.1,28.6,32.2,34.9,35.0,33.2,33.7,36.0,31.4,31.2,35.4,30.2,30.4,35.3,34.3,35.9,33.1,29.8,32.6,32.4,31.9,36.1,35.0,32.2,32.7,32.9,34.2,30.7,29.4,33.1,31.7,34.9,32.7,28.8,32.8,32.7,32.0,34.7,31.5,30.5,31.4,35.7,31.6,32.3,33.6,30.5,31.3,31.2,27.9,33.7,34.3,36.6,37.0,29.9,32.6,31.6,27.8,32.1,30.0,31.5,32.8,33.9,27.8,31.0,26.0,32.5,28.6,29.8,30.2,33.9,24.3,25.7,26.6,34.6,27.4,26.7,28.4,32.2,30.2,29.6,30.2,29.4,32.4,28.4,27.5,33.8,24.5,32.2,35.2,31.8,27.3,25.4,31.6,37.6,28.0,27.9,27.9,27.9,27.8,31.7,31.8,27.1,18.8,23.5,26.7,23.9,24.6,25.5,19.9,34.3,23.9,27.2,33.0,30.3,21.5,31.9,30.1,28.2,24.9,33.2,25.0,22.9,26.1,25.9,26.8,26.3,25.3,32.7,27.9,22.7,30.6,30.0,25.6,27.0,28.0,24.1,27.1,20.2,23.6,23.6,24.1,24.4,25.9,19.6,27.2,25.9,29.9,24.4,26.9,32.4,20.2,21.7,26.8,20.8,29.2,26.3,24.3,22.5,17.2,28.9,24.5,23.6,21.3,22.8,30.0,22.3,24.3,21.1,24.9,25.7,25.3,18.4,24.2,25.5,16.2,22.2,21.5,25.9,22.7,19.2,18.7,17.9,26.8,24.5,29.2,27.0,27.7,21.3,25.0,21.4,19.8,22.6,21.6,20.0,28.0,23.7,29.6,25.9,18.6,26.5,15.9,23.1,21.9,18.9,20.7,21.2,21.7,19.3,21.0,21.0,27.6,16.7,18.9,24.4,14.8,24.7,27.1,15.0,16.3,24.4,18.1,18.8,22.2,17.7,20.8,22.7,27.8,17.2,17.6,17.1,18.8,20.4,22.0,15.8,20.2,19.7,12.6,17.7,19.3,19.6,19.8,16.8,18.7,19.1,11.7,15.1,15.0,12.4,19.7,19.5,25.3,22.8,20.5,15.6,14.2,18.5,19.8,15.6,24.6,12.5,19.6,16.6,15.0,24.1,15.6,21.2,11.2,18.8,16.4,20.4,14.6,14.6,19.1,15.8,16.2,18.6,17.0,19.9,5.0,16.5,16.7,15.6,17.6,17.5,12.3,15.2,18.7,12.8,12.4,15.4,21.2,12.4,14.7,10.9,19.5,12.7,12.5,18.9,17.1,9.1,13.9,11.9,25.0,14.2,14.2,21.2,10.5,11.7,15.0,17.6,13.5,10.4,8.1,12.4,12.4,12.6,9.1,8.9,10.6,16.3,10.7,17.1,15.1,10.2,13.1,13.6,11.4,13.6,9.7,13.6,16.1,17.5,11.0,18.8,13.7,18.8,11.2,7.7,11.0,10.9,12.3,10.1,11.8,12.4,11.3,9.6,5.6,12.2,8.1,13.1,8.6,14.6,7.6,6.0,5.8,7.4,10.7,17.8,14.8,18.7,8.8,19.3,19.3,8.8,11.1,5.3,6.1,11.4,6.0,7.8,7.8,10.2,6.4,7.1,12.1,6.7,5.8,4.4,7.6,10.0,7.2,6.8,8.7,5.3,8.1,10.5,4.4,6.2,8.2,7.8,8.8,2.5,3.6,4.5,5.0,3.0,8.0,3.7,7.0,3.9,6.0,3.1,3.5,4.3,8.0,1.8,1.8,3.0,2.0,35.4,33.5,36.1,35.2,30.7,31.7,27.2,29.8,26.8,28.1,25.5,24.9,22.8,25.0,18.8,19.8,19.8,24.3,21.5,27.3,22.0,17.4,20.0,20.8,20.3,28.9,16.2,22.5,27.4,27.1,21.1,22.0,19.7,15.6,21.0,17.5,17.5,20.4,22.1,19.1,14.6,15.3,21.2,10.0,16.9,21.8,21.8,16.4,9.2,9.2,14.7,18.5,18.5,22.0,22.0,15.0,16.6,16.6,12.4,12.4,12.2,8.5,12.9,12.9,12.1,12.1,13.9,11.7,13.2,11.1,11.0,21.3,21.3,15.9,11.5,8.5,8.5,4.5,4.5,6.8,11.9,8.3,8.3,5.2],\"yaxis\":\"y\",\"type\":\"scatter\"},{\"hovertemplate\":\"\\u003cb\\u003eOLS trendline\\u003c\\u002fb\\u003e\\u003cbr\\u003eMP = 0.469203 * Salary_M + 16.0317\\u003cbr\\u003eR\\u003csup\\u003e2\\u003c\\u002fsup\\u003e=0.419546\\u003cbr\\u003e\\u003cbr\\u003eSalary ($M)=%{x:.2f}\\u003cbr\\u003eMP=%{y} \\u003cb\\u003e(trend)\\u003c\\u002fb\\u003e\\u003cextra\\u003e\\u003c\\u002fextra\\u003e\",\"legendgroup\":\"\",\"line\":{\"color\":\"black\"},\"marker\":{\"color\":\"skyblue\",\"symbol\":\"circle\"},\"mode\":\"lines\",\"name\":\"\",\"showlegend\":false,\"x\":[0.011997,0.011997,0.011997,0.047989,0.064301,0.066503,0.066503,0.066503,0.073153,0.073153,0.1,0.107027,0.113055,0.119972,0.119972,0.119972,0.119972,0.119972,0.119972,0.119972,0.119972,0.126356,0.126356,0.152957,0.223718,0.227947,0.355687,0.355687,0.421081,0.421081,0.425619,0.426632,0.426632,0.43881,0.43892,0.446743,0.446743,0.491887,0.492323,0.496519,0.503883,0.515881,0.596581,0.600545,0.621439,0.623856,0.635853,0.647851,0.706898,0.724883,0.731831,0.745726,0.780932,0.789048,0.789048,0.957763,1.0,1.05,1.051255,1.064049,1.091887,1.091887,1.115128,1.157153,1.157153,1.157153,1.157153,1.157153,1.157153,1.157153,1.157153,1.257153,1.34369,1.407153,1.655619,1.69161,1.69161,1.8,1.80808,1.850842,1.862265,1.862265,1.891857,1.891857,1.891857,1.891857,1.891857,1.891857,1.891857,1.891857,1.891857,1.891857,1.891857,1.891857,1.891857,1.891857,1.891857,1.891857,1.891857,1.891857,1.988598,2.019699,2.019699,2.019699,2.019699,2.019699,2.019699,2.04878,2.087519,2.087519,2.087519,2.087519,2.087519,2.087519,2.087519,2.087519,2.087519,2.087519,2.087519,2.087519,2.087519,2.087519,2.087519,2.087519,2.087519,2.087519,2.087519,2.087519,2.087519,2.087519,2.087519,2.087519,2.087519,2.087519,2.087519,2.087519,2.087519,2.087519,2.087519,2.087519,2.087519,2.088033,2.092344,2.092344,2.120693,2.120693,2.120693,2.120693,2.162606,2.162606,2.162606,2.162606,2.164993,2.19697,2.19697,2.19697,2.207491,2.207491,2.230253,2.237691,2.237691,2.237691,2.32835,2.32835,2.41356,2.425404,2.44884,2.463946,2.463946,2.49432,2.51268,2.5308,2.53392,2.53704,2.54664,2.55252,2.560975,2.57148,2.5872,2.62236,2.62428,2.66388,2.726603,2.73372,2.75508,2.795294,2.82552,2.831348,2.831348,2.8704,2.875,2.96592,2.967212,2.967212,2.99004,3.0,3.0,3.0,3.051153,3.087519,3.08964,3.11424,3.15,3.1932,3.21792,3.24408,3.303771,3.303771,3.32616,3.35268,3.366937,3.366937,3.37908,3.465,3.5,3.51048,3.51996,3.625162,3.625162,3.62844,3.6858,3.69516,3.81912,3.85,3.87984,3.913234,3.938271,3.960531,3.989122,4.0,4.02036,4.033748,4.033748,4.041249,4.0842,4.09428,4.158439,4.2318,4.296682,4.299,4.31028,4.3125,4.435381,4.45488,4.510905,4.52568,4.53684,4.668,4.668,4.689,4.710144,4.76376,4.772772,4.772772,4.77576,4.861772,4.861772,4.908373,5.0,5.0,5.0,5.01456,5.02704,5.159854,5.168,5.168,5.19552,5.2,5.27832,5.29116,5.424654,5.46912,5.55588,5.57004,5.631296,5.631296,5.705887,5.75688,5.803269,5.84868,5.893768,6.0,6.0,6.05952,6.133005,6.165,6.166667,6.26292,6.36252,6.451077,6.5,6.61416,6.669,6.696429,6.8364,6.94524,7.0,7.007092,7.142857,7.24572,7.5,7.565217,7.60776,7.636307,7.692308,7.723,7.975,7.97724,7.983,8.0,8.0,8.0,8.0,8.12,8.24532,8.25,8.352367,8.376,8.5,8.571429,8.571429,8.780488,8.780488,8.80956,8.888889,9.057971,9.104167,9.10512,9.13,9.186594,9.188385,9.24996,9.25,9.3,9.375,9.423869,9.5,9.52381,9.77088,9.89,9.9,9.975962,10.09896,10.13098,10.185186,10.25916,10.46,10.514017,10.714286,10.81,10.88064,11.0,11.0,11.0,11.0,11.025,11.205,11.227657,11.24568,11.423077,11.4246,11.445,11.74321,11.95,12.0,12.025777,12.025777,12.1608,12.428571,12.483048,12.5,12.5,12.56904,12.578286,12.6,12.648321,12.654321,12.76896,12.804878,12.822,12.9,12.975,12.976362,12.976362,12.99165,13.02525,13.02525,13.39416,13.940809,13.986432,14.0,14.092577,14.318182,14.924167,15.0,15.212068,15.5,15.625,15.625,15.873016,16.193183,16.5,16.615384,16.7412,16.830357,17.0,17.26,17.405203,18.0,18.0,18.125,18.144,18.35,18.692307,19.0,19.241379,19.406,19.5,19.9285,20.0,20.0,20.071429,20.210284,21.395348,21.696429,22.255493,22.26528,22.5,22.5,22.757,22.841455,23.0,23.0,23.017242,23.3,23.4,24.107143,24.456061,24.924126,24.960001,25.0,25.257798,25.365854,25.794643,25.892857,26.276786,26.58,27.173913,27.556817,29.0,29.268293,29.347826,29.517135,29.651786,29.793104,30.0,30.0,31.0,32.5,33.07392,33.333333,33.653846,34.005126,34.00525,34.84834,34.84834,34.84834,35.147,35.147,35.41031,35.85995,35.85995,36.0162,36.0162,36.637932,36.72567,36.72567,36.72567,40.011909,40.011909,40.5,41.0,42.1764,42.1764,42.1764,42.1764,42.846615,43.03194,43.03194,43.21944,43.827586,44.53194,48.728845,48.787676,48.787676,48.798677,49.2058,49.2058,49.2058,49.2058,49.2058,50.20393,51.179021,51.415938,51.415938,55.761216],\"xaxis\":\"x\",\"y\":[16.037286855954786,16.037286855954786,16.037286855954786,16.054174415679434,16.061828057439506,16.062861242772737,16.062861242772737,16.062861242772737,16.06598144371097,16.06598144371097,16.07857814064161,16.08187523116687,16.08470358774667,16.08794906592558,16.08794906592558,16.08794906592558,16.08794906592558,16.08794906592558,16.08794906592558,16.08794906592558,16.08794906592558,16.090944458826286,16.090944458826286,16.10342573178237,16.136627015780917,16.138611275896377,16.198547286099377,16.198547286099377,16.229230356799356,16.229230356799356,16.231359600687732,16.23183490347727,16.23183490347727,16.237548859421,16.237600471767347,16.241271047998897,16.241271047998897,16.26245275493959,16.262657327512386,16.264626103923938,16.268081315910276,16.27371081528726,16.311575509379807,16.313435430660885,16.32323896124787,16.324373025258055,16.330002055431887,16.335631554808867,16.36333659312464,16.37177521175233,16.375035235228847,16.381554812978735,16.39807357902858,16.40188163178267,16.40188163178267,16.481043240999828,16.50086097438752,16.52432113181785,16.52490998176935,16.530912966852625,16.543974644103535,16.543974644103535,16.5548793944803,16.57459765680049,16.57459765680049,16.57459765680049,16.57459765680049,16.57459765680049,16.57459765680049,16.57459765680049,16.57459765680049,16.621517971661145,16.662121404532115,16.691898443952134,16.808479473473813,16.82536656399531,16.82536656399531,16.876223493272775,16.880014654713516,16.90007871975423,16.905438427320764,16.905438427320764,16.91932308689433,16.91932308689433,16.91932308689433,16.91932308689433,16.91932308689433,16.91932308689433,16.91932308689433,16.91932308689433,16.91932308689433,16.91932308689433,16.91932308689433,16.91932308689433,16.91932308689433,16.91932308689433,16.91932308689433,16.91932308689433,16.91932308689433,16.91932308689433,16.96471426869368,16.97930695581849,16.97930695581849,16.97930695581849,16.97930695581849,16.97930695581849,16.97930695581849,16.99295185258312,17.011128313356988,17.011128313356988,17.011128313356988,17.011128313356988,17.011128313356988,17.011128313356988,17.011128313356988,17.011128313356988,17.011128313356988,17.011128313356988,17.011128313356988,17.011128313356988,17.011128313356988,17.011128313356988,17.011128313356988,17.011128313356988,17.011128313356988,17.011128313356988,17.011128313356988,17.011128313356988,17.011128313356988,17.011128313356988,17.011128313356988,17.011128313356988,17.011128313356988,17.011128313356988,17.011128313356988,17.011128313356988,17.011128313356988,17.011128313356988,17.011128313356988,17.011128313356988,17.011128313356988,17.011369483775372,17.013392218549015,17.013392218549015,17.026693658608863,17.026693658608863,17.026693658608863,17.026693658608863,17.04635937017641,17.04635937017641,17.04635937017641,17.04635937017641,17.047479358092133,17.062483067175126,17.062483067175126,17.062483067175126,17.067419553501615,17.067419553501615,17.078099555570198,17.081589488589533,17.081589488589533,17.081589488589533,17.124126976839058,17.124126976839058,17.16410777713182,17.16966501922392,17.180661264214663,17.187749046977512,17.187749046977512,17.20200062341329,17.210615193221706,17.219117154274457,17.22058106809811,17.222044981921762,17.226549332148384,17.229308246662193,17.23327535928366,17.238204338359772,17.245580211855867,17.262077394560873,17.262978264606197,17.28155870929102,17.310988538381068,17.314327857189703,17.32435003644394,17.343218571862003,17.357400706231786,17.360135222181864,17.360135222181864,17.378458543541246,17.38061687802484,17.423276828296146,17.423883038764146,17.423883038764146,17.434594008240538,17.43926727160066,17.43926727160066,17.43926727160066,17.46326842026133,17.480331461963555,17.48132664184175,17.492869039297474,17.509647743891644,17.529917319911448,17.541516021745,17.55379037611255,17.581797581256023,17.581797581256023,17.592302570550178,17.604745838051223,17.61143526734091,17.61143526734091,17.617132801174435,17.657446735702713,17.673868845903943,17.67878609490134,17.68323414075013,17.73259525038984,17.73259525038984,17.73413329831097,17.761046790915042,17.765438532386,17.823600954687272,17.83808994791624,17.852090969870662,17.86775953981523,17.87950697904689,17.889951441134873,17.903366428356684,17.908470420207227,17.918023396312858,17.9243050880664,17.9243050880664,17.9278245808841,17.9479773253199,17.952706893057854,17.982810497869302,18.01723171005423,18.04767454874212,18.04876216164059,18.05405477315687,18.05509640414678,18.112752556250705,18.121901548445383,18.148188654846066,18.155121131366727,18.160357438505176,18.221898123476414,18.221898123476414,18.231751389597154,18.24167222097129,18.26682901698698,18.27105747576222,18.27105747576222,18.272459454770257,18.312816555988206,18.312816555988206,18.33468189191642,18.377673568813794,18.377673568813794,18.377673568813794,18.384505166657508,18.390360821952118,18.45267756893115,18.456499697779698,18.456499697779698,18.46941216842935,18.471514198535107,18.508262189133976,18.514286757562083,18.576922562682167,18.59778614988811,18.638494215061215,18.64513813164548,18.673879639716528,18.673879639716528,18.70887797177424,18.732804047931133,18.754569912791844,18.775876896973216,18.79703232853759,18.846876717420365,18.846876717420365,18.874803688825427,18.90928308220078,18.924295236940445,18.925077398589174,18.970239609252,19.016972242853218,19.058523466084367,19.08147829172365,19.135042523168572,19.160773623838157,19.173643397001285,19.239318230914897,19.290386301609235,19.316079866026932,19.31940745475685,19.38310882022742,19.431372463702537,19.550681440330216,19.58128146207289,19.601242771624058,19.61463711390733,19.64091295943245,19.65531374246948,19.773552935918335,19.774603950971215,19.77730656110719,19.7852830146335,19.7852830146335,19.7852830146335,19.7852830146335,19.841587392466288,19.900387931049664,19.90258380178514,19.95061472049855,19.96170339850957,20.019884588936783,20.053399300638603,20.053399300638603,20.151490441683144,20.151490441683144,20.16513111561943,20.202352532195242,20.281686338967937,20.303361647620967,20.30380879822159,20.31548257255892,20.342036655551162,20.342876998390317,20.371768182265765,20.37178695039171,20.395247107822037,20.43043734396753,20.453366832636785,20.48908773754335,20.50025946451167,20.6161854864379,20.67207696549991,20.676768996985977,20.712410606560432,20.770121655432742,20.785145540251122,20.81057916612449,20.845287999839513,20.93952276020566,20.96486770668394,21.058834552052225,21.103743862217957,21.136888372635525,21.192892460453205,21.192892460453205,21.192892460453205,21.192892460453205,21.20462253916837,21.28907910591755,21.29970984165553,21.308166290002866,21.391401520956226,21.392116117351552,21.401687861583127,21.54160893252909,21.638635451629444,21.662095609059772,21.674190258621405,21.674190258621405,21.737543475355707,21.863182471661236,21.888743251587876,21.896697183363056,21.896697183363056,21.929090968742855,21.933429221054872,21.943617498223713,21.966289863567532,21.96910508245917,22.02289406221228,22.03974690090393,22.04778059721437,22.084378442805683,22.119568678951175,22.120207733639578,22.120207733639578,22.127380911375475,22.143146137168657,22.143146137168657,22.316239870721105,22.57272930270374,22.594135757952614,22.60050190627291,22.64393932616146,22.749793902502844,23.034123972511196,23.069705054879478,23.169208028198174,23.30430662918276,23.362957022758582,23.362957022758582,23.47932691086339,23.62955027534331,23.77350977778933,23.827648313888147,23.886681577233233,23.92851432235355,24.008111352092612,24.13010417073032,24.198233875517438,24.47731450069918,24.47731450069918,24.535964894275004,24.544879754098524,24.641535602711482,24.80214712490155,24.94651764930575,25.059773436113254,25.137014127640015,25.181119223609034,25.382172772786948,25.415720797912318,25.415720797912318,25.449235509614134,25.514386712813902,26.070422472914196,26.21169062609981,26.47400521517239,26.478597306387805,26.58872866942874,26.58872866942874,26.709313878620627,26.748940430536194,26.823330243732023,26.823330243732023,26.831420244420297,26.964091188313994,27.01101150317465,27.342805225289744,27.50651864949525,27.726136221247785,27.742968884204046,27.761736540945158,27.882696174249638,27.933396389675465,28.13458553856333,28.18066785660057,28.360808552241945,28.503077515743534,28.78174336534191,28.961403127755958,29.63854913537143,29.764433055720534,29.801750189738662,29.881190505626087,29.944369178789113,30.010676029343895,30.107752283978,30.107752283978,30.57695543258457,31.28076015549442,31.5500452265427,31.671762622932178,31.822148331701513,31.986970013744028,31.987028194934453,32.38260867749317,32.38260867749317,32.38260867749317,32.52274088985601,32.52274088985601,32.6462867709156,32.85725927465506,32.85725927465506,32.930572266624836,32.930572266624836,33.222290878614295,33.26345782446674,33.26345782446674,33.26345782446674,34.805371510340436,34.805371510340436,35.034385344346965,35.26898691865025,35.82095750267102,35.82095750267102,35.82095750267102,35.82095750267102,36.13542449091437,36.22237956442988,36.22237956442988,36.31035515479361,36.5956991728061,36.92618428733974,38.89538532774238,38.92298901817806,38.92298901817806,38.92815072201587,39.11917411548603,39.11917411548603,39.11917411548603,39.11917411548603,39.11917411548603,39.5874998542047,40.04501562158263,40.15617782394105,40.15617782394105,42.194995943111905],\"yaxis\":\"y\",\"type\":\"scatter\"}],                        {\"template\":{\"data\":{\"barpolar\":[{\"marker\":{\"line\":{\"color\":\"white\",\"width\":0.5},\"pattern\":{\"fillmode\":\"overlay\",\"size\":10,\"solidity\":0.2}},\"type\":\"barpolar\"}],\"bar\":[{\"error_x\":{\"color\":\"#2a3f5f\"},\"error_y\":{\"color\":\"#2a3f5f\"},\"marker\":{\"line\":{\"color\":\"white\",\"width\":0.5},\"pattern\":{\"fillmode\":\"overlay\",\"size\":10,\"solidity\":0.2}},\"type\":\"bar\"}],\"carpet\":[{\"aaxis\":{\"endlinecolor\":\"#2a3f5f\",\"gridcolor\":\"#C8D4E3\",\"linecolor\":\"#C8D4E3\",\"minorgridcolor\":\"#C8D4E3\",\"startlinecolor\":\"#2a3f5f\"},\"baxis\":{\"endlinecolor\":\"#2a3f5f\",\"gridcolor\":\"#C8D4E3\",\"linecolor\":\"#C8D4E3\",\"minorgridcolor\":\"#C8D4E3\",\"startlinecolor\":\"#2a3f5f\"},\"type\":\"carpet\"}],\"choropleth\":[{\"colorbar\":{\"outlinewidth\":0,\"ticks\":\"\"},\"type\":\"choropleth\"}],\"contourcarpet\":[{\"colorbar\":{\"outlinewidth\":0,\"ticks\":\"\"},\"type\":\"contourcarpet\"}],\"contour\":[{\"colorbar\":{\"outlinewidth\":0,\"ticks\":\"\"},\"colorscale\":[[0.0,\"#0d0887\"],[0.1111111111111111,\"#46039f\"],[0.2222222222222222,\"#7201a8\"],[0.3333333333333333,\"#9c179e\"],[0.4444444444444444,\"#bd3786\"],[0.5555555555555556,\"#d8576b\"],[0.6666666666666666,\"#ed7953\"],[0.7777777777777778,\"#fb9f3a\"],[0.8888888888888888,\"#fdca26\"],[1.0,\"#f0f921\"]],\"type\":\"contour\"}],\"heatmapgl\":[{\"colorbar\":{\"outlinewidth\":0,\"ticks\":\"\"},\"colorscale\":[[0.0,\"#0d0887\"],[0.1111111111111111,\"#46039f\"],[0.2222222222222222,\"#7201a8\"],[0.3333333333333333,\"#9c179e\"],[0.4444444444444444,\"#bd3786\"],[0.5555555555555556,\"#d8576b\"],[0.6666666666666666,\"#ed7953\"],[0.7777777777777778,\"#fb9f3a\"],[0.8888888888888888,\"#fdca26\"],[1.0,\"#f0f921\"]],\"type\":\"heatmapgl\"}],\"heatmap\":[{\"colorbar\":{\"outlinewidth\":0,\"ticks\":\"\"},\"colorscale\":[[0.0,\"#0d0887\"],[0.1111111111111111,\"#46039f\"],[0.2222222222222222,\"#7201a8\"],[0.3333333333333333,\"#9c179e\"],[0.4444444444444444,\"#bd3786\"],[0.5555555555555556,\"#d8576b\"],[0.6666666666666666,\"#ed7953\"],[0.7777777777777778,\"#fb9f3a\"],[0.8888888888888888,\"#fdca26\"],[1.0,\"#f0f921\"]],\"type\":\"heatmap\"}],\"histogram2dcontour\":[{\"colorbar\":{\"outlinewidth\":0,\"ticks\":\"\"},\"colorscale\":[[0.0,\"#0d0887\"],[0.1111111111111111,\"#46039f\"],[0.2222222222222222,\"#7201a8\"],[0.3333333333333333,\"#9c179e\"],[0.4444444444444444,\"#bd3786\"],[0.5555555555555556,\"#d8576b\"],[0.6666666666666666,\"#ed7953\"],[0.7777777777777778,\"#fb9f3a\"],[0.8888888888888888,\"#fdca26\"],[1.0,\"#f0f921\"]],\"type\":\"histogram2dcontour\"}],\"histogram2d\":[{\"colorbar\":{\"outlinewidth\":0,\"ticks\":\"\"},\"colorscale\":[[0.0,\"#0d0887\"],[0.1111111111111111,\"#46039f\"],[0.2222222222222222,\"#7201a8\"],[0.3333333333333333,\"#9c179e\"],[0.4444444444444444,\"#bd3786\"],[0.5555555555555556,\"#d8576b\"],[0.6666666666666666,\"#ed7953\"],[0.7777777777777778,\"#fb9f3a\"],[0.8888888888888888,\"#fdca26\"],[1.0,\"#f0f921\"]],\"type\":\"histogram2d\"}],\"histogram\":[{\"marker\":{\"pattern\":{\"fillmode\":\"overlay\",\"size\":10,\"solidity\":0.2}},\"type\":\"histogram\"}],\"mesh3d\":[{\"colorbar\":{\"outlinewidth\":0,\"ticks\":\"\"},\"type\":\"mesh3d\"}],\"parcoords\":[{\"line\":{\"colorbar\":{\"outlinewidth\":0,\"ticks\":\"\"}},\"type\":\"parcoords\"}],\"pie\":[{\"automargin\":true,\"type\":\"pie\"}],\"scatter3d\":[{\"line\":{\"colorbar\":{\"outlinewidth\":0,\"ticks\":\"\"}},\"marker\":{\"colorbar\":{\"outlinewidth\":0,\"ticks\":\"\"}},\"type\":\"scatter3d\"}],\"scattercarpet\":[{\"marker\":{\"colorbar\":{\"outlinewidth\":0,\"ticks\":\"\"}},\"type\":\"scattercarpet\"}],\"scattergeo\":[{\"marker\":{\"colorbar\":{\"outlinewidth\":0,\"ticks\":\"\"}},\"type\":\"scattergeo\"}],\"scattergl\":[{\"marker\":{\"colorbar\":{\"outlinewidth\":0,\"ticks\":\"\"}},\"type\":\"scattergl\"}],\"scattermapbox\":[{\"marker\":{\"colorbar\":{\"outlinewidth\":0,\"ticks\":\"\"}},\"type\":\"scattermapbox\"}],\"scatterpolargl\":[{\"marker\":{\"colorbar\":{\"outlinewidth\":0,\"ticks\":\"\"}},\"type\":\"scatterpolargl\"}],\"scatterpolar\":[{\"marker\":{\"colorbar\":{\"outlinewidth\":0,\"ticks\":\"\"}},\"type\":\"scatterpolar\"}],\"scatter\":[{\"fillpattern\":{\"fillmode\":\"overlay\",\"size\":10,\"solidity\":0.2},\"type\":\"scatter\"}],\"scatterternary\":[{\"marker\":{\"colorbar\":{\"outlinewidth\":0,\"ticks\":\"\"}},\"type\":\"scatterternary\"}],\"surface\":[{\"colorbar\":{\"outlinewidth\":0,\"ticks\":\"\"},\"colorscale\":[[0.0,\"#0d0887\"],[0.1111111111111111,\"#46039f\"],[0.2222222222222222,\"#7201a8\"],[0.3333333333333333,\"#9c179e\"],[0.4444444444444444,\"#bd3786\"],[0.5555555555555556,\"#d8576b\"],[0.6666666666666666,\"#ed7953\"],[0.7777777777777778,\"#fb9f3a\"],[0.8888888888888888,\"#fdca26\"],[1.0,\"#f0f921\"]],\"type\":\"surface\"}],\"table\":[{\"cells\":{\"fill\":{\"color\":\"#EBF0F8\"},\"line\":{\"color\":\"white\"}},\"header\":{\"fill\":{\"color\":\"#C8D4E3\"},\"line\":{\"color\":\"white\"}},\"type\":\"table\"}]},\"layout\":{\"annotationdefaults\":{\"arrowcolor\":\"#2a3f5f\",\"arrowhead\":0,\"arrowwidth\":1},\"autotypenumbers\":\"strict\",\"coloraxis\":{\"colorbar\":{\"outlinewidth\":0,\"ticks\":\"\"}},\"colorscale\":{\"diverging\":[[0,\"#8e0152\"],[0.1,\"#c51b7d\"],[0.2,\"#de77ae\"],[0.3,\"#f1b6da\"],[0.4,\"#fde0ef\"],[0.5,\"#f7f7f7\"],[0.6,\"#e6f5d0\"],[0.7,\"#b8e186\"],[0.8,\"#7fbc41\"],[0.9,\"#4d9221\"],[1,\"#276419\"]],\"sequential\":[[0.0,\"#0d0887\"],[0.1111111111111111,\"#46039f\"],[0.2222222222222222,\"#7201a8\"],[0.3333333333333333,\"#9c179e\"],[0.4444444444444444,\"#bd3786\"],[0.5555555555555556,\"#d8576b\"],[0.6666666666666666,\"#ed7953\"],[0.7777777777777778,\"#fb9f3a\"],[0.8888888888888888,\"#fdca26\"],[1.0,\"#f0f921\"]],\"sequentialminus\":[[0.0,\"#0d0887\"],[0.1111111111111111,\"#46039f\"],[0.2222222222222222,\"#7201a8\"],[0.3333333333333333,\"#9c179e\"],[0.4444444444444444,\"#bd3786\"],[0.5555555555555556,\"#d8576b\"],[0.6666666666666666,\"#ed7953\"],[0.7777777777777778,\"#fb9f3a\"],[0.8888888888888888,\"#fdca26\"],[1.0,\"#f0f921\"]]},\"colorway\":[\"#636efa\",\"#EF553B\",\"#00cc96\",\"#ab63fa\",\"#FFA15A\",\"#19d3f3\",\"#FF6692\",\"#B6E880\",\"#FF97FF\",\"#FECB52\"],\"font\":{\"color\":\"#2a3f5f\"},\"geo\":{\"bgcolor\":\"white\",\"lakecolor\":\"white\",\"landcolor\":\"white\",\"showlakes\":true,\"showland\":true,\"subunitcolor\":\"#C8D4E3\"},\"hoverlabel\":{\"align\":\"left\"},\"hovermode\":\"closest\",\"mapbox\":{\"style\":\"light\"},\"paper_bgcolor\":\"white\",\"plot_bgcolor\":\"white\",\"polar\":{\"angularaxis\":{\"gridcolor\":\"#EBF0F8\",\"linecolor\":\"#EBF0F8\",\"ticks\":\"\"},\"bgcolor\":\"white\",\"radialaxis\":{\"gridcolor\":\"#EBF0F8\",\"linecolor\":\"#EBF0F8\",\"ticks\":\"\"}},\"scene\":{\"xaxis\":{\"backgroundcolor\":\"white\",\"gridcolor\":\"#DFE8F3\",\"gridwidth\":2,\"linecolor\":\"#EBF0F8\",\"showbackground\":true,\"ticks\":\"\",\"zerolinecolor\":\"#EBF0F8\"},\"yaxis\":{\"backgroundcolor\":\"white\",\"gridcolor\":\"#DFE8F3\",\"gridwidth\":2,\"linecolor\":\"#EBF0F8\",\"showbackground\":true,\"ticks\":\"\",\"zerolinecolor\":\"#EBF0F8\"},\"zaxis\":{\"backgroundcolor\":\"white\",\"gridcolor\":\"#DFE8F3\",\"gridwidth\":2,\"linecolor\":\"#EBF0F8\",\"showbackground\":true,\"ticks\":\"\",\"zerolinecolor\":\"#EBF0F8\"}},\"shapedefaults\":{\"line\":{\"color\":\"#2a3f5f\"}},\"ternary\":{\"aaxis\":{\"gridcolor\":\"#DFE8F3\",\"linecolor\":\"#A2B1C6\",\"ticks\":\"\"},\"baxis\":{\"gridcolor\":\"#DFE8F3\",\"linecolor\":\"#A2B1C6\",\"ticks\":\"\"},\"bgcolor\":\"white\",\"caxis\":{\"gridcolor\":\"#DFE8F3\",\"linecolor\":\"#A2B1C6\",\"ticks\":\"\"}},\"title\":{\"x\":0.05},\"xaxis\":{\"automargin\":true,\"gridcolor\":\"#EBF0F8\",\"linecolor\":\"#EBF0F8\",\"ticks\":\"\",\"title\":{\"standoff\":15},\"zerolinecolor\":\"#EBF0F8\",\"zerolinewidth\":2},\"yaxis\":{\"automargin\":true,\"gridcolor\":\"#EBF0F8\",\"linecolor\":\"#EBF0F8\",\"ticks\":\"\",\"title\":{\"standoff\":15},\"zerolinecolor\":\"#EBF0F8\",\"zerolinewidth\":2}}},\"xaxis\":{\"anchor\":\"y\",\"domain\":[0.0,1.0],\"title\":{\"text\":\"Salary ($M)\"},\"tickprefix\":\"$\",\"ticksuffix\":\"M\"},\"yaxis\":{\"anchor\":\"x\",\"domain\":[0.0,1.0],\"title\":{\"text\":\"MP\"}},\"legend\":{\"tracegroupgap\":0},\"title\":{\"text\":\"Salary vs MP\"}},                        {\"responsive\": true}                    ).then(function(){\n",
       "                            \n",
       "var gd = document.getElementById('a3cadb22-f133-46e6-91a0-65f23e212c68');\n",
       "var x = new MutationObserver(function (mutations, observer) {{\n",
       "        var display = window.getComputedStyle(gd).display;\n",
       "        if (!display || display === 'none') {{\n",
       "            console.log([gd, 'removed!']);\n",
       "            Plotly.purge(gd);\n",
       "            observer.disconnect();\n",
       "        }}\n",
       "}});\n",
       "\n",
       "// Listen for the removal of the full notebook cells\n",
       "var notebookContainer = gd.closest('#notebook-container');\n",
       "if (notebookContainer) {{\n",
       "    x.observe(notebookContainer, {childList: true});\n",
       "}}\n",
       "\n",
       "// Listen for the clearing of the current output cell\n",
       "var outputEl = gd.closest('.output');\n",
       "if (outputEl) {{\n",
       "    x.observe(outputEl, {childList: true});\n",
       "}}\n",
       "\n",
       "                        })                };                });            </script>        </div>"
      ]
     },
     "metadata": {},
     "output_type": "display_data"
    },
    {
     "data": {
      "application/vnd.plotly.v1+json": {
       "config": {
        "plotlyServerURL": "https://plot.ly"
       },
       "data": [
        {
         "customdata": [
          [
           "Shai Gilgeous-Alexander"
          ],
          [
           "Giannis Antetokounmpo"
          ],
          [
           "Nikola Jokic"
          ],
          [
           "Anthony Edwards"
          ],
          [
           "Jayson Tatum"
          ],
          [
           "Kevin Durant"
          ],
          [
           "Tyrese Maxey"
          ],
          [
           "Cade Cunningham"
          ],
          [
           "Jalen Brunson"
          ],
          [
           "Paolo Banchero"
          ],
          [
           "Devin Booker"
          ],
          [
           "LaMelo Ball"
          ],
          [
           "Damian Lillard"
          ],
          [
           "Kyrie Irving"
          ],
          [
           "Zion Williamson"
          ],
          [
           "Stephen Curry"
          ],
          [
           "LeBron James"
          ],
          [
           "Karl-Anthony Towns"
          ],
          [
           "Victor Wembanyama"
          ],
          [
           "Franz Wagner"
          ],
          [
           "Trae Young"
          ],
          [
           "Donovan Mitchell"
          ],
          [
           "Cam Thomas"
          ],
          [
           "Tyler Herro"
          ],
          [
           "Joel Embiid"
          ],
          [
           "Ja Morant"
          ],
          [
           "James Harden"
          ],
          [
           "Jaylen Brown"
          ],
          [
           "DeMar DeRozan"
          ],
          [
           "Brandon Ingram"
          ],
          [
           "Jaren Jackson Jr."
          ],
          [
           "Norman Powell"
          ],
          [
           "Jalen Williams"
          ],
          [
           "Kawhi Leonard"
          ],
          [
           "Jamal Murray"
          ],
          [
           "Trey Murphy III"
          ],
          [
           "RJ Barrett"
          ],
          [
           "CJ McCollum"
          ],
          [
           "Jalen Green"
          ],
          [
           "Brandon Miller"
          ],
          [
           "Darius Garland"
          ],
          [
           "Jordan Poole"
          ],
          [
           "Coby White"
          ],
          [
           "Miles Bridges"
          ],
          [
           "Austin Reaves"
          ],
          [
           "Pascal Siakam"
          ],
          [
           "Kristaps Porzingis"
          ],
          [
           "Scottie Barnes"
          ],
          [
           "Anfernee Simons"
          ],
          [
           "Desmond Bane"
          ],
          [
           "Domantas Sabonis"
          ],
          [
           "Alperen Sengun"
          ],
          [
           "John Collins"
          ],
          [
           "Lauri Markkanen"
          ],
          [
           "Jalen Johnson"
          ],
          [
           "Cameron Johnson"
          ],
          [
           "Julius Randle"
          ],
          [
           "Tyrese Haliburton"
          ],
          [
           "Evan Mobley"
          ],
          [
           "Shaedon Sharpe"
          ],
          [
           "Nikola Vucevic"
          ],
          [
           "Collin Sexton"
          ],
          [
           "Michael Porter Jr."
          ],
          [
           "Bam Adebayo"
          ],
          [
           "OG Anunoby"
          ],
          [
           "Mikal Bridges"
          ],
          [
           "Jaden Ivey"
          ],
          [
           "Dejounte Murray"
          ],
          [
           "Malik Monk"
          ],
          [
           "Immanuel Quickley"
          ],
          [
           "Bradley Beal"
          ],
          [
           "Deni Avdija"
          ],
          [
           "Keyonte George"
          ],
          [
           "Ivica Zubac"
          ],
          [
           "Derrick White"
          ],
          [
           "Malik Beasley"
          ],
          [
           "Devin Vassell"
          ],
          [
           "Jordan Clarkson"
          ],
          [
           "Paul George"
          ],
          [
           "Jalen Suggs"
          ],
          [
           "Bennedict Mathurin"
          ],
          [
           "Myles Turner"
          ],
          [
           "Christian Braun"
          ],
          [
           "Jonathan Kuminga"
          ],
          [
           "Jared McCain"
          ],
          [
           "Mark Williams"
          ],
          [
           "Kelly Oubre Jr."
          ],
          [
           "Chet Holmgren"
          ],
          [
           "Stephon Castle"
          ],
          [
           "Aaron Gordon"
          ],
          [
           "P.J. Washington"
          ],
          [
           "Josh Giddey"
          ],
          [
           "Jakob Poeltl"
          ],
          [
           "Deandre Ayton"
          ],
          [
           "Gradey Dick"
          ],
          [
           "Jerami Grant"
          ],
          [
           "Payton Pritchard"
          ],
          [
           "Naz Reid"
          ],
          [
           "Dyson Daniels"
          ],
          [
           "Tre Mann"
          ],
          [
           "Amen Thompson"
          ],
          [
           "Fred VanVleet"
          ],
          [
           "Dillon Brooks"
          ],
          [
           "Klay Thompson"
          ],
          [
           "Bobby Portis"
          ],
          [
           "Tobias Harris"
          ],
          [
           "Josh Hart"
          ],
          [
           "Jarrett Allen"
          ],
          [
           "Onyeka Okongwu"
          ],
          [
           "Russell Westbrook"
          ],
          [
           "Russell Westbrook"
          ],
          [
           "Naji Marshall"
          ],
          [
           "Rui Hachimura"
          ],
          [
           "Brook Lopez"
          ],
          [
           "Alex Sarr"
          ],
          [
           "Moritz Wagner"
          ],
          [
           "Malcolm Brogdon"
          ],
          [
           "Scoot Henderson"
          ],
          [
           "Keldon Johnson"
          ],
          [
           "Zaccharie Risacher"
          ],
          [
           "Santi Aldama"
          ],
          [
           "Ty Jerome"
          ],
          [
           "Keegan Murray"
          ],
          [
           "Lonnie Walker IV"
          ],
          [
           "Harrison Barnes"
          ],
          [
           "Bilal Coulibaly"
          ],
          [
           "Ayo Dosunmu"
          ],
          [
           "Daniel Gafford"
          ],
          [
           "Jaden McDaniels"
          ],
          [
           "Jabari Smith Jr."
          ],
          [
           "Drew Timme"
          ],
          [
           "Tari Eason"
          ],
          [
           "Rudy Gobert"
          ],
          [
           "Aaron Nesmith"
          ],
          [
           "Aaron Wiggins"
          ],
          [
           "Jalen Duren"
          ],
          [
           "Donte DiVincenzo"
          ],
          [
           "Brandin Podziemski"
          ],
          [
           "Corey Kispert"
          ],
          [
           "Jeremy Sochan"
          ],
          [
           "Toumani Camara"
          ],
          [
           "Isaiah Hartenstein"
          ],
          [
           "Buddy Hield"
          ],
          [
           "Jrue Holiday"
          ],
          [
           "Walker Kessler"
          ],
          [
           "Gary Trent Jr."
          ],
          [
           "Spencer Dinwiddie"
          ],
          [
           "Tim Hardaway Jr."
          ],
          [
           "Duncan Robinson"
          ],
          [
           "Guerschon Yabusele"
          ],
          [
           "Brice Sensabaugh"
          ],
          [
           "Jordan Hawkins"
          ],
          [
           "Brandon Boston Jr."
          ],
          [
           "Grayson Allen"
          ],
          [
           "Keon Johnson"
          ],
          [
           "Terry Rozier"
          ],
          [
           "Obi Toppin"
          ],
          [
           "Ochai Agbaji"
          ],
          [
           "Jaylen Wells"
          ],
          [
           "Grant Williams"
          ],
          [
           "Jose Alvarado"
          ],
          [
           "Nic Claxton"
          ],
          [
           "Herbert Jones"
          ],
          [
           "De'Anthony Melton"
          ],
          [
           "Isaiah Joe"
          ],
          [
           "Tyus Jones"
          ],
          [
           "Trendon Watford"
          ],
          [
           "Luguentz Dort"
          ],
          [
           "Justin Edwards"
          ],
          [
           "Derrick Jones Jr."
          ],
          [
           "Ausar Thompson"
          ],
          [
           "Chris Boucher"
          ],
          [
           "Andrew Nembhard"
          ],
          [
           "Ziaire Williams"
          ],
          [
           "Julian Champagnie"
          ],
          [
           "Scotty Pippen Jr."
          ],
          [
           "Nick Smith Jr."
          ],
          [
           "Bub Carrington"
          ],
          [
           "Moses Moody"
          ],
          [
           "Amir Coffey"
          ],
          [
           "Kyle Filipowski"
          ],
          [
           "Miles McBride"
          ],
          [
           "Jalen Wilson"
          ],
          [
           "Nickeil Alexander-Walker"
          ],
          [
           "Cole Anthony"
          ],
          [
           "Anthony Black"
          ],
          [
           "Max Strus"
          ],
          [
           "Cam Whitmore"
          ],
          [
           "Kel'el Ware"
          ],
          [
           "Zach Edey"
          ],
          [
           "Wendell Carter Jr."
          ],
          [
           "Noah Clowney"
          ],
          [
           "Dalton Knecht"
          ],
          [
           "A.J. Lawson"
          ],
          [
           "T.J. McConnell"
          ],
          [
           "Yves Missi"
          ],
          [
           "Royce O'Neale"
          ],
          [
           "Draymond Green"
          ],
          [
           "Killian Hayes"
          ],
          [
           "Al Horford"
          ],
          [
           "Julian Strawther"
          ],
          [
           "Patrick Williams"
          ],
          [
           "Clint Capela"
          ],
          [
           "Johnny Juzang"
          ],
          [
           "Luke Kennard"
          ],
          [
           "Justin Champagnie"
          ],
          [
           "Svi Mykhailiuk"
          ],
          [
           "Chris Paul"
          ],
          [
           "Oshae Brissett"
          ],
          [
           "Kentavious Caldwell-Pope"
          ],
          [
           "Isaiah Collier"
          ],
          [
           "Dante Exum"
          ],
          [
           "Kyshawn George"
          ],
          [
           "Jaden Hardy"
          ],
          [
           "Dereck Lively II"
          ],
          [
           "Tyrese Martin"
          ],
          [
           "Matas Buzelis"
          ],
          [
           "Jaime Jaquez Jr."
          ],
          [
           "Ja'Kobe Walter"
          ],
          [
           "Sam Hauser"
          ],
          [
           "Larry Nance Jr."
          ],
          [
           "Jaylen Nowell"
          ],
          [
           "Jaylen Nowell"
          ],
          [
           "Cason Wallace"
          ],
          [
           "Dalano Banton"
          ],
          [
           "Brandon Clarke"
          ],
          [
           "Keon Ellis"
          ],
          [
           "Brandon Williams"
          ],
          [
           "Mike Conley"
          ],
          [
           "Taurean Prince"
          ],
          [
           "Jalen Smith"
          ],
          [
           "Quinten Post"
          ],
          [
           "Peyton Watson"
          ],
          [
           "Day'Ron Sharpe"
          ],
          [
           "Karlo Matkovic"
          ],
          [
           "Lonzo Ball"
          ],
          [
           "Garrison Mathews"
          ],
          [
           "Matisse Thybulle"
          ],
          [
           "A.J. Green"
          ],
          [
           "Josh Green"
          ],
          [
           "Richaun Holmes"
          ],
          [
           "Alec Burks"
          ],
          [
           "Ricky Council IV"
          ],
          [
           "Andre Drummond"
          ],
          [
           "Goga Bitadze"
          ],
          [
           "Tristan Da Silva"
          ],
          [
           "GG Jackson II"
          ],
          [
           "Vit Krejci"
          ],
          [
           "Sam Merrill"
          ],
          [
           "Nae'Qwan Tomlin"
          ],
          [
           "Jamison Battle"
          ],
          [
           "Alex Caruso"
          ],
          [
           "Jamal Shead"
          ],
          [
           "Marcus Garrett"
          ],
          [
           "Isaiah Jackson"
          ],
          [
           "Jaylen Sims"
          ],
          [
           "Ryan Dunn"
          ],
          [
           "Jay Huff"
          ],
          [
           "Cameron Payne"
          ],
          [
           "Antonio Reeves"
          ],
          [
           "Bol Bol"
          ],
          [
           "Eric Gordon"
          ],
          [
           "Jaxson Hayes"
          ],
          [
           "Marcus Bagley"
          ],
          [
           "DaQuan Jeffries"
          ],
          [
           "Precious Achiuwa"
          ],
          [
           "Trayce Jackson-Davis"
          ],
          [
           "Marcus Sasser"
          ],
          [
           "Vince Williams Jr."
          ],
          [
           "Donovan Clingan"
          ],
          [
           "Seth Curry"
          ],
          [
           "Haywood Highsmith"
          ],
          [
           "Talen Horton-Tucker"
          ],
          [
           "Trey Lyles"
          ],
          [
           "Ajay Mitchell"
          ],
          [
           "Gary Payton II"
          ],
          [
           "Kris Dunn"
          ],
          [
           "Ron Holland"
          ],
          [
           "Gabe Vincent"
          ],
          [
           "Sandro Mamukelashvili"
          ],
          [
           "Jeremiah Robinson-Earl"
          ],
          [
           "Kenrich Williams"
          ],
          [
           "Jonathan Mogbo"
          ],
          [
           "Ryan Rollins"
          ],
          [
           "Ryan Rollins"
          ],
          [
           "Isaac Okoro"
          ],
          [
           "Jarace Walker"
          ],
          [
           "Mouhamed Gueye"
          ],
          [
           "Luke Kornet"
          ],
          [
           "Isaiah Mobley"
          ],
          [
           "Isaiah Stewart"
          ],
          [
           "James Wiseman"
          ],
          [
           "Simone Fontecchio"
          ],
          [
           "Jaylin Williams"
          ],
          [
           "Adem Bona"
          ],
          [
           "Robert Williams"
          ],
          [
           "Moussa Diabate"
          ],
          [
           "Dariq Whitehead"
          ],
          [
           "Landry Shamet"
          ],
          [
           "Jordan Goodwin"
          ],
          [
           "Aaron Holiday"
          ],
          [
           "Jeff Green"
          ],
          [
           "Jonathan Isaac"
          ],
          [
           "Dean Wade"
          ],
          [
           "Kobe Bufkin"
          ],
          [
           "Pat Connaughton"
          ],
          [
           "Kevin Love"
          ],
          [
           "Ben Sheppard"
          ],
          [
           "Monte Morris"
          ],
          [
           "Jabari Walker"
          ],
          [
           "Bismack Biyombo"
          ],
          [
           "Mitchell Robinson"
          ],
          [
           "Malaki Branham"
          ],
          [
           "Neemias Queta"
          ],
          [
           "Jock Landale"
          ],
          [
           "Taylor Hendricks"
          ],
          [
           "Pelle Larsson"
          ],
          [
           "Julian Phillips"
          ],
          [
           "Cody Williams"
          ],
          [
           "Rob Dillingham"
          ],
          [
           "Jett Howard"
          ],
          [
           "Kevon Looney"
          ],
          [
           "Mason Plumlee"
          ],
          [
           "Dalen Terry"
          ],
          [
           "Charles Bassey"
          ],
          [
           "Tony Bradley"
          ],
          [
           "Reggie Jackson"
          ],
          [
           "Reggie Jackson"
          ],
          [
           "Reed Sheppard"
          ],
          [
           "Lamar Stevens"
          ],
          [
           "Jevon Carter"
          ],
          [
           "Terrence Shannon Jr."
          ],
          [
           "Daniel Theis"
          ],
          [
           "Dominick Barlow"
          ],
          [
           "Oso Ighodaro"
          ],
          [
           "Kris Murray"
          ],
          [
           "Duop Reath"
          ],
          [
           "Jaylen Clark"
          ],
          [
           "Caleb Houstan"
          ],
          [
           "Jordan Miller"
          ],
          [
           "Jalen Pickett"
          ],
          [
           "Paul Reed"
          ],
          [
           "Gui Santos"
          ],
          [
           "Jarred Vanderbilt"
          ],
          [
           "Nicolas Batum"
          ],
          [
           "Malachi Flynn"
          ],
          [
           "Josh Richardson"
          ],
          [
           "Steven Adams"
          ],
          [
           "Kyle Lowry"
          ],
          [
           "Olivier-Maxence Prosper"
          ],
          [
           "Branden Carlson"
          ],
          [
           "Devin Carter"
          ],
          [
           "Ousmane Dieng"
          ],
          [
           "DeAndre Jordan"
          ],
          [
           "Craig Porter Jr."
          ],
          [
           "Blake Wesley"
          ],
          [
           "Baylor Scheierman"
          ],
          [
           "Jae'Sean Tate"
          ],
          [
           "Jaylon Tyson"
          ],
          [
           "Luka Garza"
          ],
          [
           "Cory Joseph"
          ],
          [
           "Doug McDermott"
          ],
          [
           "Dario Saric"
          ],
          [
           "Bruno Fernando"
          ],
          [
           "Andre Jackson Jr."
          ],
          [
           "Isaac Jones"
          ],
          [
           "Kevin Knox"
          ],
          [
           "Damion Lee"
          ],
          [
           "Jeenathan Williams"
          ],
          [
           "Zeke Nnaji"
          ],
          [
           "Cam Reddish"
          ],
          [
           "Gary Harris"
          ],
          [
           "Maxi Kleber"
          ],
          [
           "Rayan Rupert"
          ],
          [
           "P.J. Tucker"
          ],
          [
           "P.J. Tucker"
          ],
          [
           "Markelle Fultz"
          ],
          [
           "Taj Gibson"
          ],
          [
           "Tyler Smith"
          ],
          [
           "Keshad Johnson"
          ],
          [
           "Jae Crowder"
          ],
          [
           "Josh Minott"
          ],
          [
           "Hunter Tyson"
          ],
          [
           "Anthony Gill"
          ],
          [
           "Dillon Jones"
          ],
          [
           "Pat Spencer"
          ],
          [
           "Johnny Davis"
          ],
          [
           "John Konchar"
          ],
          [
           "Bronny James"
          ],
          [
           "JD Davison"
          ],
          [
           "Chris Duarte"
          ],
          [
           "Johnny Furphy"
          ],
          [
           "Dwight Powell"
          ],
          [
           "Tyler Kolek"
          ],
          [
           "Kobe Brown"
          ],
          [
           "Ariel Hukporti"
          ],
          [
           "Bobi Klintman"
          ],
          [
           "Garrett Temple"
          ],
          [
           "Vlatko Cancar"
          ],
          [
           "E.J. Liddell"
          ],
          [
           "Pacome Dadiet"
          ],
          [
           "Tristan Thompson"
          ],
          [
           "Jordan Walsh"
          ],
          [
           "Phillip Wheeler"
          ],
          [
           "Leonard Miller"
          ],
          [
           "Matt Ryan"
          ],
          [
           "Cam Christie"
          ],
          [
           "Chris Livingston"
          ],
          [
           "Skal Labissiere"
          ],
          [
           "Yuri Collins"
          ],
          [
           "Braxton Key"
          ],
          [
           "Xavier Tillman Sr."
          ],
          [
           "PJ Dozier"
          ],
          [
           "Joe Ingles"
          ],
          [
           "James Johnson"
          ],
          [
           "Malevy Leons"
          ],
          [
           "Daishen Nix"
          ],
          [
           "Terence Davis"
          ],
          [
           "Jalen McDaniels"
          ],
          [
           "Jalen McDaniels"
          ],
          [
           "Jahlil Okafor"
          ],
          [
           "Terry Taylor"
          ],
          [
           "Luka Doncic"
          ],
          [
           "Anthony Davis"
          ],
          [
           "De'Aaron Fox"
          ],
          [
           "Zach LaVine"
          ],
          [
           "Andrew Wiggins"
          ],
          [
           "Jimmy Butler"
          ],
          [
           "De'Andre Hunter"
          ],
          [
           "Kyle Kuzma"
          ],
          [
           "Quentin Grimes"
          ],
          [
           "Dennis Schroder"
          ],
          [
           "D'Angelo Russell"
          ],
          [
           "Caris LeVert"
          ],
          [
           "Khris Middleton"
          ],
          [
           "Bogdan Bogdanovic"
          ],
          [
           "Jonas Valanciunas"
          ],
          [
           "Kevin Porter Jr."
          ],
          [
           "Kevin Porter Jr."
          ],
          [
           "Kevin Huerter"
          ],
          [
           "Georges Niang"
          ],
          [
           "Max Christie"
          ],
          [
           "Nick Richards"
          ],
          [
           "Jared Butler"
          ],
          [
           "Marcus Smart"
          ],
          [
           "Jusuf Nurkic"
          ],
          [
           "Kelly Olynyk"
          ],
          [
           "Dorian Finney-Smith"
          ],
          [
           "Jared Rhoden"
          ],
          [
           "Bruce Brown"
          ],
          [
           "Davion Mitchell"
          ],
          [
           "Caleb Martin"
          ],
          [
           "Terance Mann"
          ],
          [
           "AJ Johnson"
          ],
          [
           "Tre Jones"
          ],
          [
           "Josh Okogie"
          ],
          [
           "Jalen Hood-Schifino"
          ],
          [
           "Orlando Robinson"
          ],
          [
           "Orlando Robinson"
          ],
          [
           "Jake LaRavia"
          ],
          [
           "Cody Martin"
          ],
          [
           "Vasilije Micic"
          ],
          [
           "Thomas Bryant"
          ],
          [
           "Zach Collins"
          ],
          [
           "KJ Martin"
          ],
          [
           "Bones Hyland"
          ],
          [
           "Cole Swider"
          ],
          [
           "Chuma Okeke"
          ],
          [
           "Chuma Okeke"
          ],
          [
           "Kyle Anderson"
          ],
          [
           "Moses Brown"
          ],
          [
           "Moses Brown"
          ],
          [
           "Shake Milton"
          ],
          [
           "Javonte Green"
          ],
          [
           "Javonte Green"
          ],
          [
           "Ben Simmons"
          ],
          [
           "Ben Simmons"
          ],
          [
           "Lindy Waters III"
          ],
          [
           "Colin Castleton"
          ],
          [
           "Colin Castleton"
          ],
          [
           "David Roddy"
          ],
          [
           "David Roddy"
          ],
          [
           "Drew Eubanks"
          ],
          [
           "Marvin Bagley III"
          ],
          [
           "Mo Bamba"
          ],
          [
           "Mo Bamba"
          ],
          [
           "Torrey Craig"
          ],
          [
           "Torrey Craig"
          ],
          [
           "Wendell Moore Jr."
          ],
          [
           "Maxwell Lewis"
          ],
          [
           "Colby Jones"
          ],
          [
           "Patty Mills"
          ],
          [
           "Markieff Morris"
          ],
          [
           "Elfrid Payton"
          ],
          [
           "Elfrid Payton"
          ],
          [
           "Delon Wright"
          ],
          [
           "Kylor Kelley"
          ],
          [
           "Jaden Springer"
          ],
          [
           "Jaden Springer"
          ],
          [
           "MarJon Beauchamp"
          ],
          [
           "Patrick Baldwin Jr."
          ],
          [
           "Jordan McLaughlin"
          ],
          [
           "Jericho Sims"
          ],
          [
           "Alex Len"
          ],
          [
           "Alex Len"
          ],
          [
           "Sidy Cissoko"
          ]
         ],
         "hovertemplate": "Salary ($M)=%{x:.2f}<br>Age=%{y}<br>Player=%{customdata[0]}<extra></extra>",
         "legendgroup": "",
         "marker": {
          "color": "skyblue",
          "symbol": "circle"
         },
         "mode": "markers",
         "name": "",
         "orientation": "v",
         "showlegend": false,
         "type": "scatter",
         "x": [
          35.85995,
          48.787676,
          51.415938,
          42.1764,
          34.84834,
          51.179021,
          35.147,
          13.940809,
          24.960001,
          12.1608,
          49.2058,
          35.147,
          48.787676,
          41,
          36.72567,
          55.761216,
          48.728845,
          49.2058,
          12.76896,
          7.007092,
          43.03194,
          35.41031,
          4.041249,
          29,
          51.415938,
          36.72567,
          33.653846,
          49.2058,
          23.4,
          36.0162,
          25.257798,
          19.241379,
          4.77576,
          49.2058,
          36.0162,
          5.159854,
          25.794643,
          33.333333,
          12.483048,
          11.4246,
          36.72567,
          29.651786,
          12,
          27.173913,
          12.976362,
          42.1764,
          29.268293,
          10.13098,
          25.892857,
          34.00525,
          40.5,
          5.424654,
          26.58,
          42.1764,
          4.510905,
          22.5,
          33.07392,
          42.1764,
          11.227657,
          6.61416,
          20,
          18.35,
          35.85995,
          34.84834,
          36.637932,
          23.3,
          7.97724,
          29.517135,
          17.405203,
          32.5,
          50.20393,
          15.625,
          4.0842,
          11.74321,
          20.071429,
          6,
          29.347826,
          14.092577,
          49.2058,
          9.188385,
          7.24572,
          19.9285,
          3.08964,
          7.636307,
          4.02036,
          4.09428,
          7.983,
          10.88064,
          9.10512,
          22.841455,
          15.5,
          8.352367,
          19.5,
          34.005126,
          4.76376,
          29.793104,
          6.696429,
          13.986432,
          6.05952,
          4.908373,
          9.24996,
          42.846615,
          22.255493,
          15.873016,
          12.578286,
          25.365854,
          18.144,
          20,
          14,
          5.631296,
          5.631296,
          8.571429,
          17,
          23,
          11.24568,
          11,
          22.5,
          10.25916,
          19,
          12.56904,
          3.960531,
          2.560975,
          8.80956,
          0.780932,
          18,
          6.94524,
          7,
          13.39416,
          23.017242,
          9.77088,
          0.113055,
          3.69516,
          43.827586,
          11,
          10.514017,
          4.53684,
          11.445,
          3.51996,
          5.705887,
          5.57004,
          1.891857,
          30,
          8.780488,
          30,
          2.96592,
          2.087519,
          2.087519,
          16.193183,
          19.406,
          2.087519,
          2.57148,
          4.52568,
          0.596581,
          15.625,
          2.162606,
          24.924126,
          12.975,
          4.31028,
          1.157153,
          13.02525,
          1.988598,
          27.556817,
          12.976362,
          12.822,
          12.99165,
          2.087519,
          2.726603,
          16.5,
          0.425619,
          9.52381,
          8.376,
          10.81,
          2.019699,
          6.133005,
          3,
          2.087519,
          2.5872,
          4.45488,
          5.803269,
          3.938271,
          3,
          4.710144,
          1.891857,
          4.3125,
          12.9,
          7.60776,
          15.212068,
          3.37908,
          4.2318,
          5.75688,
          11.95,
          3.24408,
          3.81912,
          0.1,
          9.3,
          3.1932,
          9.375,
          24.107143,
          0.119972,
          9.5,
          2.55252,
          18,
          22.26528,
          3.087519,
          9.25,
          1.8,
          3.5,
          10.46,
          0.119972,
          22.757,
          2.51268,
          3.15,
          2.82552,
          2.019699,
          5.01456,
          0.635853,
          5.19552,
          3.6858,
          3.465,
          2.092344,
          11.205,
          0.446743,
          0.446743,
          5.55588,
          2.19697,
          12.5,
          2.120693,
          0.047989,
          9.975962,
          2.087519,
          8.571429,
          0.43892,
          2.41356,
          3.989122,
          1.407153,
          21.395348,
          2.230253,
          11.025,
          2.120693,
          12.654321,
          12.648321,
          2.087519,
          1.891857,
          5,
          9.057971,
          3.62844,
          1.891857,
          2.162606,
          2.164993,
          0.066503,
          1,
          9.89,
          1.862265,
          0.107027,
          4.435381,
          0.073153,
          2.5308,
          2.088033,
          2.087519,
          1.157153,
          2.087519,
          3.303771,
          2.463946,
          0.126356,
          2.425404,
          6,
          1.891857,
          2.75508,
          2.120693,
          6.8364,
          2.087519,
          5.2,
          2.087519,
          8,
          3,
          9.13,
          5.168,
          8.24532,
          11,
          2.087519,
          2.19697,
          6.669,
          1.862265,
          1.091887,
          1.091887,
          10.185186,
          6.36252,
          1.891857,
          2.087519,
          0.011997,
          15,
          2.237691,
          7.692308,
          2.019699,
          1.157153,
          12.428571,
          0.957763,
          3.11424,
          1.34369,
          0.223718,
          4.668,
          8,
          25,
          6.166667,
          4.299,
          9.423869,
          3.85,
          2.66388,
          2.087519,
          2.019699,
          0.647851,
          14.318182,
          3.21792,
          2.162606,
          8,
          5.84868,
          1.157153,
          1.891857,
          5.46912,
          6.26292,
          5.27832,
          8,
          2.087519,
          3.51048,
          2.087519,
          0.600545,
          4.033748,
          4.033748,
          10.09896,
          0.623856,
          6.5,
          2.54664,
          2.087519,
          0.491887,
          1.157153,
          2.99004,
          2.04878,
          0.492323,
          2.019699,
          1.05,
          1.891857,
          3.913234,
          1.891857,
          10.714286,
          4.668,
          0.119972,
          3.051153,
          12.6,
          2.087519,
          2.8704,
          0.496519,
          4.689,
          5.02704,
          2.087519,
          1.891857,
          2.62428,
          2.49432,
          7.565217,
          3.32616,
          2.162606,
          3.303771,
          2.087519,
          5.168,
          1.115128,
          1.891857,
          0.152957,
          0.503883,
          2.087519,
          0.515881,
          8.888889,
          2.463946,
          7.5,
          11,
          1.891857,
          12.025777,
          12.025777,
          0.731831,
          2.087519,
          1.157153,
          0.724883,
          1.655619,
          2.019699,
          1.891857,
          2.237691,
          2.62236,
          0.43881,
          5.29116,
          6.165,
          1.157153,
          0.011997,
          5.893768,
          1.850842,
          4,
          2.087519,
          2.53392,
          1.064049,
          1.257153,
          2.087519,
          2.087519,
          0.706898,
          1.80808,
          2.087519,
          1.891857,
          0.066503,
          1.891857,
          0.621439,
          1.157153,
          1.891857,
          0.119972,
          0.066503,
          0.011997,
          2.237691,
          1.051255,
          2.087519,
          2.087519,
          0.126356,
          0.119972,
          0.064301,
          4.861772,
          4.861772,
          0.119972,
          0.119972,
          43.03194,
          43.21944,
          34.84834,
          44.53194,
          26.276786,
          48.798677,
          21.696429,
          24.456061,
          4.296682,
          13.02525,
          18.692307,
          16.615384,
          31,
          17.26,
          9.9,
          3.366937,
          3.366937,
          16.830357,
          8.5,
          7.142857,
          5,
          0.745726,
          20.210284,
          18.125,
          12.804878,
          14.924167,
          0.119972,
          23,
          6.451077,
          9.186594,
          11.423077,
          2.795294,
          9.104167,
          8.25,
          3.87984,
          1.69161,
          1.69161,
          3.35268,
          8.12,
          7.723,
          2.087519,
          16.7412,
          7.975,
          4.158439,
          0.227947,
          0.355687,
          0.355687,
          8.780488,
          0.426632,
          0.426632,
          2.875,
          2.32835,
          2.32835,
          40.011909,
          40.011909,
          2.19697,
          0.421081,
          0.421081,
          2.967212,
          2.967212,
          5,
          12.5,
          2.207491,
          2.207491,
          3.625162,
          3.625162,
          2.53704,
          1.891857,
          2.120693,
          2.087519,
          2.087519,
          0.789048,
          0.789048,
          2.087519,
          0.073153,
          4.772772,
          4.772772,
          2.73372,
          2.44884,
          2.087519,
          2.092344,
          2.831348,
          2.831348,
          1.891857
         ],
         "xaxis": "x",
         "y": [
          26,
          30,
          29,
          23,
          26,
          36,
          24,
          23,
          28,
          22,
          28,
          23,
          34,
          32,
          24,
          36,
          40,
          29,
          21,
          23,
          26,
          28,
          23,
          25,
          30,
          25,
          35,
          28,
          35,
          27,
          25,
          31,
          23,
          33,
          27,
          24,
          24,
          33,
          22,
          22,
          25,
          25,
          24,
          26,
          26,
          30,
          29,
          23,
          25,
          26,
          28,
          22,
          27,
          27,
          23,
          28,
          30,
          24,
          23,
          21,
          34,
          26,
          26,
          27,
          27,
          28,
          22,
          28,
          26,
          25,
          31,
          24,
          21,
          27,
          30,
          28,
          24,
          32,
          34,
          23,
          22,
          28,
          23,
          22,
          20,
          23,
          29,
          22,
          20,
          29,
          26,
          22,
          29,
          26,
          21,
          30,
          27,
          25,
          21,
          23,
          22,
          30,
          29,
          34,
          29,
          32,
          29,
          26,
          24,
          36,
          36,
          27,
          26,
          36,
          19,
          27,
          32,
          20,
          25,
          19,
          24,
          27,
          24,
          26,
          32,
          20,
          25,
          26,
          24,
          21,
          24,
          23,
          32,
          25,
          26,
          21,
          28,
          21,
          25,
          21,
          24,
          26,
          32,
          34,
          23,
          26,
          31,
          32,
          30,
          29,
          21,
          22,
          23,
          29,
          22,
          30,
          26,
          24,
          21,
          26,
          26,
          25,
          26,
          26,
          25,
          28,
          24,
          25,
          21,
          27,
          22,
          32,
          25,
          23,
          23,
          24,
          20,
          19,
          22,
          27,
          21,
          24,
          24,
          26,
          24,
          21,
          28,
          20,
          20,
          22,
          25,
          20,
          23,
          24,
          32,
          20,
          31,
          34,
          23,
          38,
          22,
          23,
          30,
          23,
          28,
          23,
          27,
          39,
          26,
          31,
          20,
          29,
          21,
          22,
          20,
          25,
          20,
          23,
          20,
          27,
          32,
          25,
          25,
          21,
          25,
          28,
          25,
          25,
          37,
          30,
          24,
          24,
          22,
          23,
          23,
          27,
          28,
          27,
          25,
          24,
          31,
          33,
          23,
          31,
          25,
          23,
          20,
          24,
          28,
          24,
          23,
          30,
          22,
          26,
          23,
          26,
          22,
          26,
          30,
          24,
          25,
          36,
          24,
          23,
          27,
          25,
          24,
          24,
          24,
          20,
          34,
          28,
          24,
          29,
          22,
          32,
          30,
          19,
          28,
          25,
          24,
          30,
          23,
          22,
          22,
          24,
          21,
          22,
          29,
          25,
          23,
          23,
          29,
          22,
          21,
          27,
          23,
          20,
          27,
          26,
          28,
          38,
          27,
          28,
          21,
          32,
          36,
          23,
          29,
          22,
          32,
          26,
          21,
          25,
          29,
          21,
          23,
          21,
          20,
          20,
          21,
          28,
          34,
          22,
          24,
          27,
          34,
          34,
          20,
          27,
          29,
          24,
          32,
          21,
          22,
          24,
          28,
          23,
          22,
          25,
          25,
          25,
          22,
          25,
          36,
          26,
          31,
          31,
          38,
          22,
          25,
          22,
          21,
          36,
          24,
          21,
          24,
          29,
          22,
          26,
          33,
          33,
          30,
          26,
          23,
          24,
          25,
          32,
          25,
          24,
          25,
          30,
          33,
          20,
          39,
          39,
          26,
          39,
          20,
          23,
          34,
          22,
          24,
          32,
          23,
          28,
          22,
          28,
          20,
          22,
          27,
          20,
          33,
          23,
          25,
          22,
          21,
          38,
          27,
          24,
          19,
          33,
          20,
          22,
          21,
          27,
          19,
          21,
          28,
          23,
          27,
          26,
          28,
          37,
          37,
          25,
          22,
          27,
          27,
          27,
          29,
          25,
          25,
          31,
          27,
          29,
          29,
          35,
          27,
          29,
          24,
          31,
          28,
          30,
          33,
          32,
          32,
          24,
          24,
          26,
          31,
          21,
          27,
          24,
          30,
          30,
          33,
          31,
          25,
          28,
          26,
          29,
          28,
          20,
          25,
          26,
          21,
          24,
          24,
          23,
          29,
          31,
          27,
          27,
          24,
          24,
          25,
          26,
          26,
          31,
          25,
          25,
          28,
          31,
          31,
          28,
          28,
          27,
          24,
          24,
          23,
          23,
          27,
          25,
          26,
          26,
          34,
          34,
          23,
          22,
          22,
          36,
          35,
          30,
          30,
          32,
          27,
          22,
          22,
          24,
          22,
          28,
          26,
          31,
          31,
          20
         ],
         "yaxis": "y"
        },
        {
         "hovertemplate": "<b>OLS trendline</b><br>Age = 0.111356 * Salary_M + 25.0837<br>R<sup>2</sup>=0.098592<br><br>Salary ($M)=%{x:.2f}<br>Age=%{y} <b>(trend)</b><extra></extra>",
         "legendgroup": "",
         "line": {
          "color": "black"
         },
         "marker": {
          "color": "skyblue",
          "symbol": "circle"
         },
         "mode": "lines",
         "name": "",
         "showlegend": false,
         "type": "scatter",
         "x": [
          0.011997,
          0.011997,
          0.011997,
          0.047989,
          0.064301,
          0.066503,
          0.066503,
          0.066503,
          0.073153,
          0.073153,
          0.1,
          0.107027,
          0.113055,
          0.119972,
          0.119972,
          0.119972,
          0.119972,
          0.119972,
          0.119972,
          0.119972,
          0.119972,
          0.126356,
          0.126356,
          0.152957,
          0.223718,
          0.227947,
          0.355687,
          0.355687,
          0.421081,
          0.421081,
          0.425619,
          0.426632,
          0.426632,
          0.43881,
          0.43892,
          0.446743,
          0.446743,
          0.491887,
          0.492323,
          0.496519,
          0.503883,
          0.515881,
          0.596581,
          0.600545,
          0.621439,
          0.623856,
          0.635853,
          0.647851,
          0.706898,
          0.724883,
          0.731831,
          0.745726,
          0.780932,
          0.789048,
          0.789048,
          0.957763,
          1,
          1.05,
          1.051255,
          1.064049,
          1.091887,
          1.091887,
          1.115128,
          1.157153,
          1.157153,
          1.157153,
          1.157153,
          1.157153,
          1.157153,
          1.157153,
          1.157153,
          1.257153,
          1.34369,
          1.407153,
          1.655619,
          1.69161,
          1.69161,
          1.8,
          1.80808,
          1.850842,
          1.862265,
          1.862265,
          1.891857,
          1.891857,
          1.891857,
          1.891857,
          1.891857,
          1.891857,
          1.891857,
          1.891857,
          1.891857,
          1.891857,
          1.891857,
          1.891857,
          1.891857,
          1.891857,
          1.891857,
          1.891857,
          1.891857,
          1.891857,
          1.988598,
          2.019699,
          2.019699,
          2.019699,
          2.019699,
          2.019699,
          2.019699,
          2.04878,
          2.087519,
          2.087519,
          2.087519,
          2.087519,
          2.087519,
          2.087519,
          2.087519,
          2.087519,
          2.087519,
          2.087519,
          2.087519,
          2.087519,
          2.087519,
          2.087519,
          2.087519,
          2.087519,
          2.087519,
          2.087519,
          2.087519,
          2.087519,
          2.087519,
          2.087519,
          2.087519,
          2.087519,
          2.087519,
          2.087519,
          2.087519,
          2.087519,
          2.087519,
          2.087519,
          2.087519,
          2.087519,
          2.087519,
          2.088033,
          2.092344,
          2.092344,
          2.120693,
          2.120693,
          2.120693,
          2.120693,
          2.162606,
          2.162606,
          2.162606,
          2.162606,
          2.164993,
          2.19697,
          2.19697,
          2.19697,
          2.207491,
          2.207491,
          2.230253,
          2.237691,
          2.237691,
          2.237691,
          2.32835,
          2.32835,
          2.41356,
          2.425404,
          2.44884,
          2.463946,
          2.463946,
          2.49432,
          2.51268,
          2.5308,
          2.53392,
          2.53704,
          2.54664,
          2.55252,
          2.560975,
          2.57148,
          2.5872,
          2.62236,
          2.62428,
          2.66388,
          2.726603,
          2.73372,
          2.75508,
          2.795294,
          2.82552,
          2.831348,
          2.831348,
          2.8704,
          2.875,
          2.96592,
          2.967212,
          2.967212,
          2.99004,
          3,
          3,
          3,
          3.051153,
          3.087519,
          3.08964,
          3.11424,
          3.15,
          3.1932,
          3.21792,
          3.24408,
          3.303771,
          3.303771,
          3.32616,
          3.35268,
          3.366937,
          3.366937,
          3.37908,
          3.465,
          3.5,
          3.51048,
          3.51996,
          3.625162,
          3.625162,
          3.62844,
          3.6858,
          3.69516,
          3.81912,
          3.85,
          3.87984,
          3.913234,
          3.938271,
          3.960531,
          3.989122,
          4,
          4.02036,
          4.033748,
          4.033748,
          4.041249,
          4.0842,
          4.09428,
          4.158439,
          4.2318,
          4.296682,
          4.299,
          4.31028,
          4.3125,
          4.435381,
          4.45488,
          4.510905,
          4.52568,
          4.53684,
          4.668,
          4.668,
          4.689,
          4.710144,
          4.76376,
          4.772772,
          4.772772,
          4.77576,
          4.861772,
          4.861772,
          4.908373,
          5,
          5,
          5,
          5.01456,
          5.02704,
          5.159854,
          5.168,
          5.168,
          5.19552,
          5.2,
          5.27832,
          5.29116,
          5.424654,
          5.46912,
          5.55588,
          5.57004,
          5.631296,
          5.631296,
          5.705887,
          5.75688,
          5.803269,
          5.84868,
          5.893768,
          6,
          6,
          6.05952,
          6.133005,
          6.165,
          6.166667,
          6.26292,
          6.36252,
          6.451077,
          6.5,
          6.61416,
          6.669,
          6.696429,
          6.8364,
          6.94524,
          7,
          7.007092,
          7.142857,
          7.24572,
          7.5,
          7.565217,
          7.60776,
          7.636307,
          7.692308,
          7.723,
          7.975,
          7.97724,
          7.983,
          8,
          8,
          8,
          8,
          8.12,
          8.24532,
          8.25,
          8.352367,
          8.376,
          8.5,
          8.571429,
          8.571429,
          8.780488,
          8.780488,
          8.80956,
          8.888889,
          9.057971,
          9.104167,
          9.10512,
          9.13,
          9.186594,
          9.188385,
          9.24996,
          9.25,
          9.3,
          9.375,
          9.423869,
          9.5,
          9.52381,
          9.77088,
          9.89,
          9.9,
          9.975962,
          10.09896,
          10.13098,
          10.185186,
          10.25916,
          10.46,
          10.514017,
          10.714286,
          10.81,
          10.88064,
          11,
          11,
          11,
          11,
          11.025,
          11.205,
          11.227657,
          11.24568,
          11.423077,
          11.4246,
          11.445,
          11.74321,
          11.95,
          12,
          12.025777,
          12.025777,
          12.1608,
          12.428571,
          12.483048,
          12.5,
          12.5,
          12.56904,
          12.578286,
          12.6,
          12.648321,
          12.654321,
          12.76896,
          12.804878,
          12.822,
          12.9,
          12.975,
          12.976362,
          12.976362,
          12.99165,
          13.02525,
          13.02525,
          13.39416,
          13.940809,
          13.986432,
          14,
          14.092577,
          14.318182,
          14.924167,
          15,
          15.212068,
          15.5,
          15.625,
          15.625,
          15.873016,
          16.193183,
          16.5,
          16.615384,
          16.7412,
          16.830357,
          17,
          17.26,
          17.405203,
          18,
          18,
          18.125,
          18.144,
          18.35,
          18.692307,
          19,
          19.241379,
          19.406,
          19.5,
          19.9285,
          20,
          20,
          20.071429,
          20.210284,
          21.395348,
          21.696429,
          22.255493,
          22.26528,
          22.5,
          22.5,
          22.757,
          22.841455,
          23,
          23,
          23.017242,
          23.3,
          23.4,
          24.107143,
          24.456061,
          24.924126,
          24.960001,
          25,
          25.257798,
          25.365854,
          25.794643,
          25.892857,
          26.276786,
          26.58,
          27.173913,
          27.556817,
          29,
          29.268293,
          29.347826,
          29.517135,
          29.651786,
          29.793104,
          30,
          30,
          31,
          32.5,
          33.07392,
          33.333333,
          33.653846,
          34.005126,
          34.00525,
          34.84834,
          34.84834,
          34.84834,
          35.147,
          35.147,
          35.41031,
          35.85995,
          35.85995,
          36.0162,
          36.0162,
          36.637932,
          36.72567,
          36.72567,
          36.72567,
          40.011909,
          40.011909,
          40.5,
          41,
          42.1764,
          42.1764,
          42.1764,
          42.1764,
          42.846615,
          43.03194,
          43.03194,
          43.21944,
          43.827586,
          44.53194,
          48.728845,
          48.787676,
          48.787676,
          48.798677,
          49.2058,
          49.2058,
          49.2058,
          49.2058,
          49.2058,
          50.20393,
          51.179021,
          51.415938,
          51.415938,
          55.761216
         ],
         "xaxis": "x",
         "y": [
          25.085022698015592,
          25.085022698015592,
          25.085022698015592,
          25.089030629286572,
          25.09084707113177,
          25.09109227741813,
          25.09109227741813,
          25.09109227741813,
          25.091832795948694,
          25.091832795948694,
          25.094822375044938,
          25.095604874851592,
          25.096276129844412,
          25.097046380472367,
          25.097046380472367,
          25.097046380472367,
          25.097046380472367,
          25.097046380472367,
          25.097046380472367,
          25.097046380472367,
          25.097046380472367,
          25.097757278261707,
          25.097757278261707,
          25.10071946374013,
          25.10859913768617,
          25.109070062929142,
          25.123294700086152,
          25.123294700086152,
          25.13057672546775,
          25.13057672546775,
          25.131082059767255,
          25.131194863567476,
          25.131194863567476,
          25.13255095900585,
          25.13256320818455,
          25.133434347502536,
          25.133434347502536,
          25.138461410441444,
          25.138509961731568,
          25.138977212220926,
          25.139797239056875,
          25.14113329038465,
          25.150119733304415,
          25.150561149162332,
          25.15288782497851,
          25.153156972841426,
          25.15449291281303,
          25.155828964140802,
          25.16240421191135,
          25.164406952628973,
          25.165180655298197,
          25.16672794928048,
          25.170648354601834,
          25.17155212127763,
          25.17155212127763,
          25.19033957750078,
          25.19504292805347,
          25.200610736553944,
          25.200750488547307,
          25.20217517938641,
          25.205275112447133,
          25.205275112447133,
          25.207863141194323,
          25.21254288423897,
          25.21254288423897,
          25.21254288423897,
          25.21254288423897,
          25.21254288423897,
          25.21254288423897,
          25.21254288423897,
          25.21254288423897,
          25.22367850123992,
          25.23331493012403,
          25.240381926741343,
          25.26805014887892,
          25.27205796879373,
          25.27205796879373,
          25.28412786406106,
          25.285027621914736,
          25.28978943445668,
          25.2910614559867,
          25.2910614559867,
          25.29435670776962,
          25.29435670776962,
          25.29435670776962,
          25.29435670776962,
          25.29435670776962,
          25.29435670776962,
          25.29435670776962,
          25.29435670776962,
          25.29435670776962,
          25.29435670776962,
          25.29435670776962,
          25.29435670776962,
          25.29435670776962,
          25.29435670776962,
          25.29435670776962,
          25.29435670776962,
          25.29435670776962,
          25.29435670776962,
          25.305129415012505,
          25.30859270325597,
          25.30859270325597,
          25.30859270325597,
          25.30859270325597,
          25.30859270325597,
          25.30859270325597,
          25.311831052036016,
          25.316144878706016,
          25.316144878706016,
          25.316144878706016,
          25.316144878706016,
          25.316144878706016,
          25.316144878706016,
          25.316144878706016,
          25.316144878706016,
          25.316144878706016,
          25.316144878706016,
          25.316144878706016,
          25.316144878706016,
          25.316144878706016,
          25.316144878706016,
          25.316144878706016,
          25.316144878706016,
          25.316144878706016,
          25.316144878706016,
          25.316144878706016,
          25.316144878706016,
          25.316144878706016,
          25.316144878706016,
          25.316144878706016,
          25.316144878706016,
          25.316144878706016,
          25.316144878706016,
          25.316144878706016,
          25.316144878706016,
          25.316144878706016,
          25.316144878706016,
          25.316144878706016,
          25.316144878706016,
          25.316144878706016,
          25.3162021157774,
          25.31668217222631,
          25.31668217222631,
          25.319839008289907,
          25.319839008289907,
          25.319839008289907,
          25.319839008289907,
          25.324506279443515,
          25.324506279443515,
          25.324506279443515,
          25.324506279443515,
          25.32477208662133,
          25.328332922869723,
          25.328332922869723,
          25.328332922869723,
          25.32950450113439,
          25.32950450113439,
          25.33203919027615,
          25.33286745746868,
          25.33286745746868,
          25.33286745746868,
          25.342962896485567,
          25.342962896485567,
          25.352451555732078,
          25.35377045820967,
          25.356380201410012,
          25.358062347714174,
          25.358062347714174,
          25.361444680022043,
          25.363489179303418,
          25.36550695310399,
          25.365854384354417,
          25.366201815604846,
          25.367270834836937,
          25.367925609116593,
          25.368867125534024,
          25.370036922099974,
          25.371787441092522,
          25.375702724030056,
          25.375916527876473,
          25.38032623220885,
          25.387310825260354,
          25.388103347122314,
          25.390481914913714,
          25.394959991934478,
          25.398325843529182,
          25.398974827287997,
          25.398974827287997,
          25.403323508439208,
          25.40383574682125,
          25.413960249798514,
          25.414104121970166,
          25.414104121970166,
          25.416646160619145,
          25.417755268072437,
          25.417755268072437,
          25.417755268072437,
          25.423451470236934,
          25.4275010487155,
          25.427737235152087,
          25.43047659693432,
          25.43445869357386,
          25.43926928011827,
          25.442022004640904,
          25.444935082048353,
          25.45158204319239,
          25.45158204319239,
          25.45407519648273,
          25.457028362111384,
          25.458615967027207,
          25.458615967027207,
          25.459968164999633,
          25.46953588712685,
          25.47343335307718,
          25.47460036573888,
          25.47565602223057,
          25.487370914027906,
          25.487370914027906,
          25.487735939553197,
          25.49412332946494,
          25.49516562321623,
          25.508969334050605,
          25.512408012580497,
          25.51573088069358,
          25.519449508634878,
          25.522237533063404,
          25.524716321407816,
          25.527900105664557,
          25.52911143808192,
          25.531378649703313,
          25.5328694861074,
          25.5328694861074,
          25.53370476873864,
          25.53848762759672,
          25.539610097790415,
          25.54675459830205,
          25.55492379829012,
          25.562148809312674,
          25.562406932914755,
          25.563663030512462,
          25.563910241209886,
          25.57759379873682,
          25.579765132695833,
          25.586003862120617,
          25.587649149532506,
          25.58889188438981,
          25.603497359648255,
          25.603497359648255,
          25.605835839218454,
          25.608190354077134,
          25.614160826488362,
          25.61516436829249,
          25.61516436829249,
          25.615497100528476,
          25.62507506742333,
          25.62507506742333,
          25.630264376301945,
          25.640467608091402,
          25.640467608091402,
          25.640467608091402,
          25.64208895392674,
          25.64347867892846,
          25.6582683372921,
          25.659175444653,
          25.659175444653,
          25.662239966451658,
          25.6627388420933,
          25.671460257328444,
          25.672890070551365,
          25.68775545111061,
          25.692707014566253,
          25.702368275876275,
          25.70394507924361,
          25.71076631279371,
          25.71076631279371,
          25.71907248087089,
          25.724750866048183,
          25.72991656741875,
          25.73497336245505,
          25.73999418944844,
          25.751823778100885,
          25.751823778100885,
          25.75845169733985,
          25.766634705492997,
          25.770197546152453,
          25.770383176887858,
          25.78110154231978,
          25.792192616852724,
          25.802053985200253,
          25.807501863105628,
          25.82021428347391,
          25.82632105583723,
          25.82937544422442,
          25.844962078696817,
          25.857082084240652,
          25.86317994811037,
          25.863969686068078,
          25.879087956489414,
          25.890542386205098,
          25.91885803311511,
          25.92612034845462,
          25.93085777399533,
          25.934036658580595,
          25.940272715457294,
          25.943690459027227,
          25.971752213869614,
          25.972001651690437,
          25.97264306322969,
          25.974536118119854,
          25.974536118119854,
          25.974536118119854,
          25.974536118119854,
          25.98789885852099,
          26.00185401374658,
          26.002375160622222,
          26.013774357677583,
          26.016406038043417,
          26.030214203124594,
          26.0381682629922,
          26.0381682629922,
          26.061448272538215,
          26.061448272538215,
          26.06468561911273,
          26.073519392723412,
          26.092347716660957,
          26.097491926290715,
          26.097598048720734,
          26.10036859023057,
          26.106670681316086,
          26.106870120216573,
          26.113726876384906,
          26.11373133063171,
          26.11929913913218,
          26.12765085188289,
          26.133092716555087,
          26.141570373134076,
          26.144221763542003,
          26.171734532466246,
          26.184999279437775,
          26.18611284113787,
          26.19457167852413,
          26.208268264722957,
          26.21183388928666,
          26.217870061838195,
          26.226107523158475,
          26.24847229634318,
          26.254487422578585,
          26.276788611390213,
          26.287446955846498,
          26.29531315569597,
          26.308604628148302,
          26.308604628148302,
          26.308604628148302,
          26.308604628148302,
          26.31138853239854,
          26.331432643000245,
          26.33395563974415,
          26.33596261199623,
          26.355716862487405,
          26.35588645793433,
          26.35815812380252,
          26.39136564726105,
          26.414392989657312,
          26.419960798157785,
          26.42283122615212,
          26.42283122615212,
          26.43786687029531,
          26.467684823294917,
          26.473751173368527,
          26.475638883162524,
          26.475638883162524,
          26.48332691313998,
          26.48435651228789,
          26.486774500163474,
          26.492155341654502,
          26.49282347867456,
          26.505589238648277,
          26.50958892956268,
          26.51149556990558,
          26.52018135116632,
          26.52853306391703,
          26.528684731020583,
          26.528684731020583,
          26.53038714414769,
          26.534128711460006,
          26.534128711460006,
          26.575209116138204,
          26.63608185511772,
          26.641162257662064,
          26.64267313817675,
          26.652982158327717,
          26.67810466706271,
          26.745584835745905,
          26.754029308186233,
          26.777644388447804,
          26.809707393190976,
          26.823626914442162,
          26.823626914442162,
          26.851245026303232,
          26.88689759718666,
          26.92106356320046,
          26.933912283520833,
          26.947922671406744,
          26.957850853456282,
          26.9767416482052,
          27.005694252407665,
          27.02186350236155,
          27.08809781821468,
          27.08809781821468,
          27.102017339465867,
          27.104133106696047,
          27.127072477718002,
          27.16519047420544,
          27.199453988224164,
          27.226333029184886,
          27.244664593248014,
          27.255132073228907,
          27.30284819207797,
          27.31081015823365,
          27.31081015823365,
          27.318764218101258,
          27.33422657908792,
          27.46619076734404,
          27.499717994366666,
          27.561973220196847,
          27.56306306303273,
          27.589200583257355,
          27.589200583257355,
          27.617819118949793,
          27.627223704287942,
          27.6448786682621,
          27.6448786682621,
          27.6467986713454,
          27.678285519264943,
          27.689421136265892,
          27.768165872394906,
          27.807020044522275,
          27.859141970237765,
          27.863136872836854,
          27.867591008281064,
          27.896298406197168,
          27.908331108503713,
          27.95607940928591,
          27.96701614416722,
          28.00976900716279,
          28.043533756896046,
          28.10966963389489,
          28.1523083568162,
          28.313015688318995,
          28.34289176923935,
          28.351748259508714,
          28.370601861296848,
          28.385596080944797,
          28.401332712178196,
          28.424371858328477,
          28.424371858328477,
          28.53572802833796,
          28.702762283352186,
          28.766671816444028,
          28.7955590545747,
          28.83125015469295,
          28.87036735009388,
          28.87038115825896,
          28.964264431632255,
          28.964264431632255,
          28.964264431632255,
          28.99752206536729,
          28.99752206536729,
          29.026843258492484,
          29.07691344677555,
          29.07691344677555,
          29.09431284833953,
          29.09431284833953,
          29.163546542631867,
          29.173316710276158,
          29.173316710276158,
          29.173316710276158,
          29.539259699051954,
          29.539259699051954,
          29.59361164342805,
          29.64928972843279,
          29.780289126831946,
          29.780289126831946,
          29.780289126831946,
          29.780289126831946,
          29.854921702314854,
          29.87555878452186,
          29.87555878452186,
          29.896438066398638,
          29.964158875765225,
          30.042593039536087,
          30.509944306229734,
          30.51649550106756,
          30.51649550106756,
          30.517720530293836,
          30.563056188296606,
          30.563056188296606,
          30.563056188296606,
          30.563056188296606,
          30.563056188296606,
          30.674204122268172,
          30.78278652143889,
          30.809168691169027,
          30.809168691169027,
          31.29304220687549
         ],
         "yaxis": "y"
        }
       ],
       "layout": {
        "autosize": true,
        "legend": {
         "tracegroupgap": 0
        },
        "template": {
         "data": {
          "bar": [
           {
            "error_x": {
             "color": "#2a3f5f"
            },
            "error_y": {
             "color": "#2a3f5f"
            },
            "marker": {
             "line": {
              "color": "white",
              "width": 0.5
             },
             "pattern": {
              "fillmode": "overlay",
              "size": 10,
              "solidity": 0.2
             }
            },
            "type": "bar"
           }
          ],
          "barpolar": [
           {
            "marker": {
             "line": {
              "color": "white",
              "width": 0.5
             },
             "pattern": {
              "fillmode": "overlay",
              "size": 10,
              "solidity": 0.2
             }
            },
            "type": "barpolar"
           }
          ],
          "carpet": [
           {
            "aaxis": {
             "endlinecolor": "#2a3f5f",
             "gridcolor": "#C8D4E3",
             "linecolor": "#C8D4E3",
             "minorgridcolor": "#C8D4E3",
             "startlinecolor": "#2a3f5f"
            },
            "baxis": {
             "endlinecolor": "#2a3f5f",
             "gridcolor": "#C8D4E3",
             "linecolor": "#C8D4E3",
             "minorgridcolor": "#C8D4E3",
             "startlinecolor": "#2a3f5f"
            },
            "type": "carpet"
           }
          ],
          "choropleth": [
           {
            "colorbar": {
             "outlinewidth": 0,
             "ticks": ""
            },
            "type": "choropleth"
           }
          ],
          "contour": [
           {
            "colorbar": {
             "outlinewidth": 0,
             "ticks": ""
            },
            "colorscale": [
             [
              0,
              "#0d0887"
             ],
             [
              0.1111111111111111,
              "#46039f"
             ],
             [
              0.2222222222222222,
              "#7201a8"
             ],
             [
              0.3333333333333333,
              "#9c179e"
             ],
             [
              0.4444444444444444,
              "#bd3786"
             ],
             [
              0.5555555555555556,
              "#d8576b"
             ],
             [
              0.6666666666666666,
              "#ed7953"
             ],
             [
              0.7777777777777778,
              "#fb9f3a"
             ],
             [
              0.8888888888888888,
              "#fdca26"
             ],
             [
              1,
              "#f0f921"
             ]
            ],
            "type": "contour"
           }
          ],
          "contourcarpet": [
           {
            "colorbar": {
             "outlinewidth": 0,
             "ticks": ""
            },
            "type": "contourcarpet"
           }
          ],
          "heatmap": [
           {
            "colorbar": {
             "outlinewidth": 0,
             "ticks": ""
            },
            "colorscale": [
             [
              0,
              "#0d0887"
             ],
             [
              0.1111111111111111,
              "#46039f"
             ],
             [
              0.2222222222222222,
              "#7201a8"
             ],
             [
              0.3333333333333333,
              "#9c179e"
             ],
             [
              0.4444444444444444,
              "#bd3786"
             ],
             [
              0.5555555555555556,
              "#d8576b"
             ],
             [
              0.6666666666666666,
              "#ed7953"
             ],
             [
              0.7777777777777778,
              "#fb9f3a"
             ],
             [
              0.8888888888888888,
              "#fdca26"
             ],
             [
              1,
              "#f0f921"
             ]
            ],
            "type": "heatmap"
           }
          ],
          "heatmapgl": [
           {
            "colorbar": {
             "outlinewidth": 0,
             "ticks": ""
            },
            "colorscale": [
             [
              0,
              "#0d0887"
             ],
             [
              0.1111111111111111,
              "#46039f"
             ],
             [
              0.2222222222222222,
              "#7201a8"
             ],
             [
              0.3333333333333333,
              "#9c179e"
             ],
             [
              0.4444444444444444,
              "#bd3786"
             ],
             [
              0.5555555555555556,
              "#d8576b"
             ],
             [
              0.6666666666666666,
              "#ed7953"
             ],
             [
              0.7777777777777778,
              "#fb9f3a"
             ],
             [
              0.8888888888888888,
              "#fdca26"
             ],
             [
              1,
              "#f0f921"
             ]
            ],
            "type": "heatmapgl"
           }
          ],
          "histogram": [
           {
            "marker": {
             "pattern": {
              "fillmode": "overlay",
              "size": 10,
              "solidity": 0.2
             }
            },
            "type": "histogram"
           }
          ],
          "histogram2d": [
           {
            "colorbar": {
             "outlinewidth": 0,
             "ticks": ""
            },
            "colorscale": [
             [
              0,
              "#0d0887"
             ],
             [
              0.1111111111111111,
              "#46039f"
             ],
             [
              0.2222222222222222,
              "#7201a8"
             ],
             [
              0.3333333333333333,
              "#9c179e"
             ],
             [
              0.4444444444444444,
              "#bd3786"
             ],
             [
              0.5555555555555556,
              "#d8576b"
             ],
             [
              0.6666666666666666,
              "#ed7953"
             ],
             [
              0.7777777777777778,
              "#fb9f3a"
             ],
             [
              0.8888888888888888,
              "#fdca26"
             ],
             [
              1,
              "#f0f921"
             ]
            ],
            "type": "histogram2d"
           }
          ],
          "histogram2dcontour": [
           {
            "colorbar": {
             "outlinewidth": 0,
             "ticks": ""
            },
            "colorscale": [
             [
              0,
              "#0d0887"
             ],
             [
              0.1111111111111111,
              "#46039f"
             ],
             [
              0.2222222222222222,
              "#7201a8"
             ],
             [
              0.3333333333333333,
              "#9c179e"
             ],
             [
              0.4444444444444444,
              "#bd3786"
             ],
             [
              0.5555555555555556,
              "#d8576b"
             ],
             [
              0.6666666666666666,
              "#ed7953"
             ],
             [
              0.7777777777777778,
              "#fb9f3a"
             ],
             [
              0.8888888888888888,
              "#fdca26"
             ],
             [
              1,
              "#f0f921"
             ]
            ],
            "type": "histogram2dcontour"
           }
          ],
          "mesh3d": [
           {
            "colorbar": {
             "outlinewidth": 0,
             "ticks": ""
            },
            "type": "mesh3d"
           }
          ],
          "parcoords": [
           {
            "line": {
             "colorbar": {
              "outlinewidth": 0,
              "ticks": ""
             }
            },
            "type": "parcoords"
           }
          ],
          "pie": [
           {
            "automargin": true,
            "type": "pie"
           }
          ],
          "scatter": [
           {
            "fillpattern": {
             "fillmode": "overlay",
             "size": 10,
             "solidity": 0.2
            },
            "type": "scatter"
           }
          ],
          "scatter3d": [
           {
            "line": {
             "colorbar": {
              "outlinewidth": 0,
              "ticks": ""
             }
            },
            "marker": {
             "colorbar": {
              "outlinewidth": 0,
              "ticks": ""
             }
            },
            "type": "scatter3d"
           }
          ],
          "scattercarpet": [
           {
            "marker": {
             "colorbar": {
              "outlinewidth": 0,
              "ticks": ""
             }
            },
            "type": "scattercarpet"
           }
          ],
          "scattergeo": [
           {
            "marker": {
             "colorbar": {
              "outlinewidth": 0,
              "ticks": ""
             }
            },
            "type": "scattergeo"
           }
          ],
          "scattergl": [
           {
            "marker": {
             "colorbar": {
              "outlinewidth": 0,
              "ticks": ""
             }
            },
            "type": "scattergl"
           }
          ],
          "scattermapbox": [
           {
            "marker": {
             "colorbar": {
              "outlinewidth": 0,
              "ticks": ""
             }
            },
            "type": "scattermapbox"
           }
          ],
          "scatterpolar": [
           {
            "marker": {
             "colorbar": {
              "outlinewidth": 0,
              "ticks": ""
             }
            },
            "type": "scatterpolar"
           }
          ],
          "scatterpolargl": [
           {
            "marker": {
             "colorbar": {
              "outlinewidth": 0,
              "ticks": ""
             }
            },
            "type": "scatterpolargl"
           }
          ],
          "scatterternary": [
           {
            "marker": {
             "colorbar": {
              "outlinewidth": 0,
              "ticks": ""
             }
            },
            "type": "scatterternary"
           }
          ],
          "surface": [
           {
            "colorbar": {
             "outlinewidth": 0,
             "ticks": ""
            },
            "colorscale": [
             [
              0,
              "#0d0887"
             ],
             [
              0.1111111111111111,
              "#46039f"
             ],
             [
              0.2222222222222222,
              "#7201a8"
             ],
             [
              0.3333333333333333,
              "#9c179e"
             ],
             [
              0.4444444444444444,
              "#bd3786"
             ],
             [
              0.5555555555555556,
              "#d8576b"
             ],
             [
              0.6666666666666666,
              "#ed7953"
             ],
             [
              0.7777777777777778,
              "#fb9f3a"
             ],
             [
              0.8888888888888888,
              "#fdca26"
             ],
             [
              1,
              "#f0f921"
             ]
            ],
            "type": "surface"
           }
          ],
          "table": [
           {
            "cells": {
             "fill": {
              "color": "#EBF0F8"
             },
             "line": {
              "color": "white"
             }
            },
            "header": {
             "fill": {
              "color": "#C8D4E3"
             },
             "line": {
              "color": "white"
             }
            },
            "type": "table"
           }
          ]
         },
         "layout": {
          "annotationdefaults": {
           "arrowcolor": "#2a3f5f",
           "arrowhead": 0,
           "arrowwidth": 1
          },
          "autotypenumbers": "strict",
          "coloraxis": {
           "colorbar": {
            "outlinewidth": 0,
            "ticks": ""
           }
          },
          "colorscale": {
           "diverging": [
            [
             0,
             "#8e0152"
            ],
            [
             0.1,
             "#c51b7d"
            ],
            [
             0.2,
             "#de77ae"
            ],
            [
             0.3,
             "#f1b6da"
            ],
            [
             0.4,
             "#fde0ef"
            ],
            [
             0.5,
             "#f7f7f7"
            ],
            [
             0.6,
             "#e6f5d0"
            ],
            [
             0.7,
             "#b8e186"
            ],
            [
             0.8,
             "#7fbc41"
            ],
            [
             0.9,
             "#4d9221"
            ],
            [
             1,
             "#276419"
            ]
           ],
           "sequential": [
            [
             0,
             "#0d0887"
            ],
            [
             0.1111111111111111,
             "#46039f"
            ],
            [
             0.2222222222222222,
             "#7201a8"
            ],
            [
             0.3333333333333333,
             "#9c179e"
            ],
            [
             0.4444444444444444,
             "#bd3786"
            ],
            [
             0.5555555555555556,
             "#d8576b"
            ],
            [
             0.6666666666666666,
             "#ed7953"
            ],
            [
             0.7777777777777778,
             "#fb9f3a"
            ],
            [
             0.8888888888888888,
             "#fdca26"
            ],
            [
             1,
             "#f0f921"
            ]
           ],
           "sequentialminus": [
            [
             0,
             "#0d0887"
            ],
            [
             0.1111111111111111,
             "#46039f"
            ],
            [
             0.2222222222222222,
             "#7201a8"
            ],
            [
             0.3333333333333333,
             "#9c179e"
            ],
            [
             0.4444444444444444,
             "#bd3786"
            ],
            [
             0.5555555555555556,
             "#d8576b"
            ],
            [
             0.6666666666666666,
             "#ed7953"
            ],
            [
             0.7777777777777778,
             "#fb9f3a"
            ],
            [
             0.8888888888888888,
             "#fdca26"
            ],
            [
             1,
             "#f0f921"
            ]
           ]
          },
          "colorway": [
           "#636efa",
           "#EF553B",
           "#00cc96",
           "#ab63fa",
           "#FFA15A",
           "#19d3f3",
           "#FF6692",
           "#B6E880",
           "#FF97FF",
           "#FECB52"
          ],
          "font": {
           "color": "#2a3f5f"
          },
          "geo": {
           "bgcolor": "white",
           "lakecolor": "white",
           "landcolor": "white",
           "showlakes": true,
           "showland": true,
           "subunitcolor": "#C8D4E3"
          },
          "hoverlabel": {
           "align": "left"
          },
          "hovermode": "closest",
          "mapbox": {
           "style": "light"
          },
          "paper_bgcolor": "white",
          "plot_bgcolor": "white",
          "polar": {
           "angularaxis": {
            "gridcolor": "#EBF0F8",
            "linecolor": "#EBF0F8",
            "ticks": ""
           },
           "bgcolor": "white",
           "radialaxis": {
            "gridcolor": "#EBF0F8",
            "linecolor": "#EBF0F8",
            "ticks": ""
           }
          },
          "scene": {
           "xaxis": {
            "backgroundcolor": "white",
            "gridcolor": "#DFE8F3",
            "gridwidth": 2,
            "linecolor": "#EBF0F8",
            "showbackground": true,
            "ticks": "",
            "zerolinecolor": "#EBF0F8"
           },
           "yaxis": {
            "backgroundcolor": "white",
            "gridcolor": "#DFE8F3",
            "gridwidth": 2,
            "linecolor": "#EBF0F8",
            "showbackground": true,
            "ticks": "",
            "zerolinecolor": "#EBF0F8"
           },
           "zaxis": {
            "backgroundcolor": "white",
            "gridcolor": "#DFE8F3",
            "gridwidth": 2,
            "linecolor": "#EBF0F8",
            "showbackground": true,
            "ticks": "",
            "zerolinecolor": "#EBF0F8"
           }
          },
          "shapedefaults": {
           "line": {
            "color": "#2a3f5f"
           }
          },
          "ternary": {
           "aaxis": {
            "gridcolor": "#DFE8F3",
            "linecolor": "#A2B1C6",
            "ticks": ""
           },
           "baxis": {
            "gridcolor": "#DFE8F3",
            "linecolor": "#A2B1C6",
            "ticks": ""
           },
           "bgcolor": "white",
           "caxis": {
            "gridcolor": "#DFE8F3",
            "linecolor": "#A2B1C6",
            "ticks": ""
           }
          },
          "title": {
           "x": 0.05
          },
          "xaxis": {
           "automargin": true,
           "gridcolor": "#EBF0F8",
           "linecolor": "#EBF0F8",
           "ticks": "",
           "title": {
            "standoff": 15
           },
           "zerolinecolor": "#EBF0F8",
           "zerolinewidth": 2
          },
          "yaxis": {
           "automargin": true,
           "gridcolor": "#EBF0F8",
           "linecolor": "#EBF0F8",
           "ticks": "",
           "title": {
            "standoff": 15
           },
           "zerolinecolor": "#EBF0F8",
           "zerolinewidth": 2
          }
         }
        },
        "title": {
         "text": "Salary vs Age"
        },
        "xaxis": {
         "anchor": "y",
         "autorange": true,
         "domain": [
          0,
          1
         ],
         "range": [
          -3.5706330611285266,
          59.343846061128524
         ],
         "tickprefix": "$",
         "ticksuffix": "M",
         "title": {
          "text": "Salary ($M)"
         },
         "type": "linear"
        },
        "yaxis": {
         "anchor": "x",
         "autorange": true,
         "domain": [
          0,
          1
         ],
         "range": [
          17.266990291262136,
          41.73300970873787
         ],
         "title": {
          "text": "Age"
         },
         "type": "linear"
        }
       }
      },
      "text/html": [
       "<div>                            <div id=\"da5d12fe-3c00-4cfa-bc85-4713c2874791\" class=\"plotly-graph-div\" style=\"height:525px; width:100%;\"></div>            <script type=\"text/javascript\">                require([\"plotly\"], function(Plotly) {                    window.PLOTLYENV=window.PLOTLYENV || {};                                    if (document.getElementById(\"da5d12fe-3c00-4cfa-bc85-4713c2874791\")) {                    Plotly.newPlot(                        \"da5d12fe-3c00-4cfa-bc85-4713c2874791\",                        [{\"customdata\":[[\"Shai Gilgeous-Alexander\"],[\"Giannis Antetokounmpo\"],[\"Nikola Jokic\"],[\"Anthony Edwards\"],[\"Jayson Tatum\"],[\"Kevin Durant\"],[\"Tyrese Maxey\"],[\"Cade Cunningham\"],[\"Jalen Brunson\"],[\"Paolo Banchero\"],[\"Devin Booker\"],[\"LaMelo Ball\"],[\"Damian Lillard\"],[\"Kyrie Irving\"],[\"Zion Williamson\"],[\"Stephen Curry\"],[\"LeBron James\"],[\"Karl-Anthony Towns\"],[\"Victor Wembanyama\"],[\"Franz Wagner\"],[\"Trae Young\"],[\"Donovan Mitchell\"],[\"Cam Thomas\"],[\"Tyler Herro\"],[\"Joel Embiid\"],[\"Ja Morant\"],[\"James Harden\"],[\"Jaylen Brown\"],[\"DeMar DeRozan\"],[\"Brandon Ingram\"],[\"Jaren Jackson Jr.\"],[\"Norman Powell\"],[\"Jalen Williams\"],[\"Kawhi Leonard\"],[\"Jamal Murray\"],[\"Trey Murphy III\"],[\"RJ Barrett\"],[\"CJ McCollum\"],[\"Jalen Green\"],[\"Brandon Miller\"],[\"Darius Garland\"],[\"Jordan Poole\"],[\"Coby White\"],[\"Miles Bridges\"],[\"Austin Reaves\"],[\"Pascal Siakam\"],[\"Kristaps Porzingis\"],[\"Scottie Barnes\"],[\"Anfernee Simons\"],[\"Desmond Bane\"],[\"Domantas Sabonis\"],[\"Alperen Sengun\"],[\"John Collins\"],[\"Lauri Markkanen\"],[\"Jalen Johnson\"],[\"Cameron Johnson\"],[\"Julius Randle\"],[\"Tyrese Haliburton\"],[\"Evan Mobley\"],[\"Shaedon Sharpe\"],[\"Nikola Vucevic\"],[\"Collin Sexton\"],[\"Michael Porter Jr.\"],[\"Bam Adebayo\"],[\"OG Anunoby\"],[\"Mikal Bridges\"],[\"Jaden Ivey\"],[\"Dejounte Murray\"],[\"Malik Monk\"],[\"Immanuel Quickley\"],[\"Bradley Beal\"],[\"Deni Avdija\"],[\"Keyonte George\"],[\"Ivica Zubac\"],[\"Derrick White\"],[\"Malik Beasley\"],[\"Devin Vassell\"],[\"Jordan Clarkson\"],[\"Paul George\"],[\"Jalen Suggs\"],[\"Bennedict Mathurin\"],[\"Myles Turner\"],[\"Christian Braun\"],[\"Jonathan Kuminga\"],[\"Jared McCain\"],[\"Mark Williams\"],[\"Kelly Oubre Jr.\"],[\"Chet Holmgren\"],[\"Stephon Castle\"],[\"Aaron Gordon\"],[\"P.J. Washington\"],[\"Josh Giddey\"],[\"Jakob Poeltl\"],[\"Deandre Ayton\"],[\"Gradey Dick\"],[\"Jerami Grant\"],[\"Payton Pritchard\"],[\"Naz Reid\"],[\"Dyson Daniels\"],[\"Tre Mann\"],[\"Amen Thompson\"],[\"Fred VanVleet\"],[\"Dillon Brooks\"],[\"Klay Thompson\"],[\"Bobby Portis\"],[\"Tobias Harris\"],[\"Josh Hart\"],[\"Jarrett Allen\"],[\"Onyeka Okongwu\"],[\"Russell Westbrook\"],[\"Russell Westbrook\"],[\"Naji Marshall\"],[\"Rui Hachimura\"],[\"Brook Lopez\"],[\"Alex Sarr\"],[\"Moritz Wagner\"],[\"Malcolm Brogdon\"],[\"Scoot Henderson\"],[\"Keldon Johnson\"],[\"Zaccharie Risacher\"],[\"Santi Aldama\"],[\"Ty Jerome\"],[\"Keegan Murray\"],[\"Lonnie Walker IV\"],[\"Harrison Barnes\"],[\"Bilal Coulibaly\"],[\"Ayo Dosunmu\"],[\"Daniel Gafford\"],[\"Jaden McDaniels\"],[\"Jabari Smith Jr.\"],[\"Drew Timme\"],[\"Tari Eason\"],[\"Rudy Gobert\"],[\"Aaron Nesmith\"],[\"Aaron Wiggins\"],[\"Jalen Duren\"],[\"Donte DiVincenzo\"],[\"Brandin Podziemski\"],[\"Corey Kispert\"],[\"Jeremy Sochan\"],[\"Toumani Camara\"],[\"Isaiah Hartenstein\"],[\"Buddy Hield\"],[\"Jrue Holiday\"],[\"Walker Kessler\"],[\"Gary Trent Jr.\"],[\"Spencer Dinwiddie\"],[\"Tim Hardaway Jr.\"],[\"Duncan Robinson\"],[\"Guerschon Yabusele\"],[\"Brice Sensabaugh\"],[\"Jordan Hawkins\"],[\"Brandon Boston Jr.\"],[\"Grayson Allen\"],[\"Keon Johnson\"],[\"Terry Rozier\"],[\"Obi Toppin\"],[\"Ochai Agbaji\"],[\"Jaylen Wells\"],[\"Grant Williams\"],[\"Jose Alvarado\"],[\"Nic Claxton\"],[\"Herbert Jones\"],[\"De'Anthony Melton\"],[\"Isaiah Joe\"],[\"Tyus Jones\"],[\"Trendon Watford\"],[\"Luguentz Dort\"],[\"Justin Edwards\"],[\"Derrick Jones Jr.\"],[\"Ausar Thompson\"],[\"Chris Boucher\"],[\"Andrew Nembhard\"],[\"Ziaire Williams\"],[\"Julian Champagnie\"],[\"Scotty Pippen Jr.\"],[\"Nick Smith Jr.\"],[\"Bub Carrington\"],[\"Moses Moody\"],[\"Amir Coffey\"],[\"Kyle Filipowski\"],[\"Miles McBride\"],[\"Jalen Wilson\"],[\"Nickeil Alexander-Walker\"],[\"Cole Anthony\"],[\"Anthony Black\"],[\"Max Strus\"],[\"Cam Whitmore\"],[\"Kel'el Ware\"],[\"Zach Edey\"],[\"Wendell Carter Jr.\"],[\"Noah Clowney\"],[\"Dalton Knecht\"],[\"A.J. Lawson\"],[\"T.J. McConnell\"],[\"Yves Missi\"],[\"Royce O'Neale\"],[\"Draymond Green\"],[\"Killian Hayes\"],[\"Al Horford\"],[\"Julian Strawther\"],[\"Patrick Williams\"],[\"Clint Capela\"],[\"Johnny Juzang\"],[\"Luke Kennard\"],[\"Justin Champagnie\"],[\"Svi Mykhailiuk\"],[\"Chris Paul\"],[\"Oshae Brissett\"],[\"Kentavious Caldwell-Pope\"],[\"Isaiah Collier\"],[\"Dante Exum\"],[\"Kyshawn George\"],[\"Jaden Hardy\"],[\"Dereck Lively II\"],[\"Tyrese Martin\"],[\"Matas Buzelis\"],[\"Jaime Jaquez Jr.\"],[\"Ja'Kobe Walter\"],[\"Sam Hauser\"],[\"Larry Nance Jr.\"],[\"Jaylen Nowell\"],[\"Jaylen Nowell\"],[\"Cason Wallace\"],[\"Dalano Banton\"],[\"Brandon Clarke\"],[\"Keon Ellis\"],[\"Brandon Williams\"],[\"Mike Conley\"],[\"Taurean Prince\"],[\"Jalen Smith\"],[\"Quinten Post\"],[\"Peyton Watson\"],[\"Day'Ron Sharpe\"],[\"Karlo Matkovic\"],[\"Lonzo Ball\"],[\"Garrison Mathews\"],[\"Matisse Thybulle\"],[\"A.J. Green\"],[\"Josh Green\"],[\"Richaun Holmes\"],[\"Alec Burks\"],[\"Ricky Council IV\"],[\"Andre Drummond\"],[\"Goga Bitadze\"],[\"Tristan Da Silva\"],[\"GG Jackson II\"],[\"Vit Krejci\"],[\"Sam Merrill\"],[\"Nae'Qwan Tomlin\"],[\"Jamison Battle\"],[\"Alex Caruso\"],[\"Jamal Shead\"],[\"Marcus Garrett\"],[\"Isaiah Jackson\"],[\"Jaylen Sims\"],[\"Ryan Dunn\"],[\"Jay Huff\"],[\"Cameron Payne\"],[\"Antonio Reeves\"],[\"Bol Bol\"],[\"Eric Gordon\"],[\"Jaxson Hayes\"],[\"Marcus Bagley\"],[\"DaQuan Jeffries\"],[\"Precious Achiuwa\"],[\"Trayce Jackson-Davis\"],[\"Marcus Sasser\"],[\"Vince Williams Jr.\"],[\"Donovan Clingan\"],[\"Seth Curry\"],[\"Haywood Highsmith\"],[\"Talen Horton-Tucker\"],[\"Trey Lyles\"],[\"Ajay Mitchell\"],[\"Gary Payton II\"],[\"Kris Dunn\"],[\"Ron Holland\"],[\"Gabe Vincent\"],[\"Sandro Mamukelashvili\"],[\"Jeremiah Robinson-Earl\"],[\"Kenrich Williams\"],[\"Jonathan Mogbo\"],[\"Ryan Rollins\"],[\"Ryan Rollins\"],[\"Isaac Okoro\"],[\"Jarace Walker\"],[\"Mouhamed Gueye\"],[\"Luke Kornet\"],[\"Isaiah Mobley\"],[\"Isaiah Stewart\"],[\"James Wiseman\"],[\"Simone Fontecchio\"],[\"Jaylin Williams\"],[\"Adem Bona\"],[\"Robert Williams\"],[\"Moussa Diabate\"],[\"Dariq Whitehead\"],[\"Landry Shamet\"],[\"Jordan Goodwin\"],[\"Aaron Holiday\"],[\"Jeff Green\"],[\"Jonathan Isaac\"],[\"Dean Wade\"],[\"Kobe Bufkin\"],[\"Pat Connaughton\"],[\"Kevin Love\"],[\"Ben Sheppard\"],[\"Monte Morris\"],[\"Jabari Walker\"],[\"Bismack Biyombo\"],[\"Mitchell Robinson\"],[\"Malaki Branham\"],[\"Neemias Queta\"],[\"Jock Landale\"],[\"Taylor Hendricks\"],[\"Pelle Larsson\"],[\"Julian Phillips\"],[\"Cody Williams\"],[\"Rob Dillingham\"],[\"Jett Howard\"],[\"Kevon Looney\"],[\"Mason Plumlee\"],[\"Dalen Terry\"],[\"Charles Bassey\"],[\"Tony Bradley\"],[\"Reggie Jackson\"],[\"Reggie Jackson\"],[\"Reed Sheppard\"],[\"Lamar Stevens\"],[\"Jevon Carter\"],[\"Terrence Shannon Jr.\"],[\"Daniel Theis\"],[\"Dominick Barlow\"],[\"Oso Ighodaro\"],[\"Kris Murray\"],[\"Duop Reath\"],[\"Jaylen Clark\"],[\"Caleb Houstan\"],[\"Jordan Miller\"],[\"Jalen Pickett\"],[\"Paul Reed\"],[\"Gui Santos\"],[\"Jarred Vanderbilt\"],[\"Nicolas Batum\"],[\"Malachi Flynn\"],[\"Josh Richardson\"],[\"Steven Adams\"],[\"Kyle Lowry\"],[\"Olivier-Maxence Prosper\"],[\"Branden Carlson\"],[\"Devin Carter\"],[\"Ousmane Dieng\"],[\"DeAndre Jordan\"],[\"Craig Porter Jr.\"],[\"Blake Wesley\"],[\"Baylor Scheierman\"],[\"Jae'Sean Tate\"],[\"Jaylon Tyson\"],[\"Luka Garza\"],[\"Cory Joseph\"],[\"Doug McDermott\"],[\"Dario Saric\"],[\"Bruno Fernando\"],[\"Andre Jackson Jr.\"],[\"Isaac Jones\"],[\"Kevin Knox\"],[\"Damion Lee\"],[\"Jeenathan Williams\"],[\"Zeke Nnaji\"],[\"Cam Reddish\"],[\"Gary Harris\"],[\"Maxi Kleber\"],[\"Rayan Rupert\"],[\"P.J. Tucker\"],[\"P.J. Tucker\"],[\"Markelle Fultz\"],[\"Taj Gibson\"],[\"Tyler Smith\"],[\"Keshad Johnson\"],[\"Jae Crowder\"],[\"Josh Minott\"],[\"Hunter Tyson\"],[\"Anthony Gill\"],[\"Dillon Jones\"],[\"Pat Spencer\"],[\"Johnny Davis\"],[\"John Konchar\"],[\"Bronny James\"],[\"JD Davison\"],[\"Chris Duarte\"],[\"Johnny Furphy\"],[\"Dwight Powell\"],[\"Tyler Kolek\"],[\"Kobe Brown\"],[\"Ariel Hukporti\"],[\"Bobi Klintman\"],[\"Garrett Temple\"],[\"Vlatko Cancar\"],[\"E.J. Liddell\"],[\"Pacome Dadiet\"],[\"Tristan Thompson\"],[\"Jordan Walsh\"],[\"Phillip Wheeler\"],[\"Leonard Miller\"],[\"Matt Ryan\"],[\"Cam Christie\"],[\"Chris Livingston\"],[\"Skal Labissiere\"],[\"Yuri Collins\"],[\"Braxton Key\"],[\"Xavier Tillman Sr.\"],[\"PJ Dozier\"],[\"Joe Ingles\"],[\"James Johnson\"],[\"Malevy Leons\"],[\"Daishen Nix\"],[\"Terence Davis\"],[\"Jalen McDaniels\"],[\"Jalen McDaniels\"],[\"Jahlil Okafor\"],[\"Terry Taylor\"],[\"Luka Doncic\"],[\"Anthony Davis\"],[\"De'Aaron Fox\"],[\"Zach LaVine\"],[\"Andrew Wiggins\"],[\"Jimmy Butler\"],[\"De'Andre Hunter\"],[\"Kyle Kuzma\"],[\"Quentin Grimes\"],[\"Dennis Schroder\"],[\"D'Angelo Russell\"],[\"Caris LeVert\"],[\"Khris Middleton\"],[\"Bogdan Bogdanovic\"],[\"Jonas Valanciunas\"],[\"Kevin Porter Jr.\"],[\"Kevin Porter Jr.\"],[\"Kevin Huerter\"],[\"Georges Niang\"],[\"Max Christie\"],[\"Nick Richards\"],[\"Jared Butler\"],[\"Marcus Smart\"],[\"Jusuf Nurkic\"],[\"Kelly Olynyk\"],[\"Dorian Finney-Smith\"],[\"Jared Rhoden\"],[\"Bruce Brown\"],[\"Davion Mitchell\"],[\"Caleb Martin\"],[\"Terance Mann\"],[\"AJ Johnson\"],[\"Tre Jones\"],[\"Josh Okogie\"],[\"Jalen Hood-Schifino\"],[\"Orlando Robinson\"],[\"Orlando Robinson\"],[\"Jake LaRavia\"],[\"Cody Martin\"],[\"Vasilije Micic\"],[\"Thomas Bryant\"],[\"Zach Collins\"],[\"KJ Martin\"],[\"Bones Hyland\"],[\"Cole Swider\"],[\"Chuma Okeke\"],[\"Chuma Okeke\"],[\"Kyle Anderson\"],[\"Moses Brown\"],[\"Moses Brown\"],[\"Shake Milton\"],[\"Javonte Green\"],[\"Javonte Green\"],[\"Ben Simmons\"],[\"Ben Simmons\"],[\"Lindy Waters III\"],[\"Colin Castleton\"],[\"Colin Castleton\"],[\"David Roddy\"],[\"David Roddy\"],[\"Drew Eubanks\"],[\"Marvin Bagley III\"],[\"Mo Bamba\"],[\"Mo Bamba\"],[\"Torrey Craig\"],[\"Torrey Craig\"],[\"Wendell Moore Jr.\"],[\"Maxwell Lewis\"],[\"Colby Jones\"],[\"Patty Mills\"],[\"Markieff Morris\"],[\"Elfrid Payton\"],[\"Elfrid Payton\"],[\"Delon Wright\"],[\"Kylor Kelley\"],[\"Jaden Springer\"],[\"Jaden Springer\"],[\"MarJon Beauchamp\"],[\"Patrick Baldwin Jr.\"],[\"Jordan McLaughlin\"],[\"Jericho Sims\"],[\"Alex Len\"],[\"Alex Len\"],[\"Sidy Cissoko\"]],\"hovertemplate\":\"Salary ($M)=%{x:.2f}\\u003cbr\\u003eAge=%{y}\\u003cbr\\u003ePlayer=%{customdata[0]}\\u003cextra\\u003e\\u003c\\u002fextra\\u003e\",\"legendgroup\":\"\",\"marker\":{\"color\":\"skyblue\",\"symbol\":\"circle\"},\"mode\":\"markers\",\"name\":\"\",\"orientation\":\"v\",\"showlegend\":false,\"x\":[35.85995,48.787676,51.415938,42.1764,34.84834,51.179021,35.147,13.940809,24.960001,12.1608,49.2058,35.147,48.787676,41.0,36.72567,55.761216,48.728845,49.2058,12.76896,7.007092,43.03194,35.41031,4.041249,29.0,51.415938,36.72567,33.653846,49.2058,23.4,36.0162,25.257798,19.241379,4.77576,49.2058,36.0162,5.159854,25.794643,33.333333,12.483048,11.4246,36.72567,29.651786,12.0,27.173913,12.976362,42.1764,29.268293,10.13098,25.892857,34.00525,40.5,5.424654,26.58,42.1764,4.510905,22.5,33.07392,42.1764,11.227657,6.61416,20.0,18.35,35.85995,34.84834,36.637932,23.3,7.97724,29.517135,17.405203,32.5,50.20393,15.625,4.0842,11.74321,20.071429,6.0,29.347826,14.092577,49.2058,9.188385,7.24572,19.9285,3.08964,7.636307,4.02036,4.09428,7.983,10.88064,9.10512,22.841455,15.5,8.352367,19.5,34.005126,4.76376,29.793104,6.696429,13.986432,6.05952,4.908373,9.24996,42.846615,22.255493,15.873016,12.578286,25.365854,18.144,20.0,14.0,5.631296,5.631296,8.571429,17.0,23.0,11.24568,11.0,22.5,10.25916,19.0,12.56904,3.960531,2.560975,8.80956,0.780932,18.0,6.94524,7.0,13.39416,23.017242,9.77088,0.113055,3.69516,43.827586,11.0,10.514017,4.53684,11.445,3.51996,5.705887,5.57004,1.891857,30.0,8.780488,30.0,2.96592,2.087519,2.087519,16.193183,19.406,2.087519,2.57148,4.52568,0.596581,15.625,2.162606,24.924126,12.975,4.31028,1.157153,13.02525,1.988598,27.556817,12.976362,12.822,12.99165,2.087519,2.726603,16.5,0.425619,9.52381,8.376,10.81,2.019699,6.133005,3.0,2.087519,2.5872,4.45488,5.803269,3.938271,3.0,4.710144,1.891857,4.3125,12.9,7.60776,15.212068,3.37908,4.2318,5.75688,11.95,3.24408,3.81912,0.1,9.3,3.1932,9.375,24.107143,0.119972,9.5,2.55252,18.0,22.26528,3.087519,9.25,1.8,3.5,10.46,0.119972,22.757,2.51268,3.15,2.82552,2.019699,5.01456,0.635853,5.19552,3.6858,3.465,2.092344,11.205,0.446743,0.446743,5.55588,2.19697,12.5,2.120693,0.047989,9.975962,2.087519,8.571429,0.43892,2.41356,3.989122,1.407153,21.395348,2.230253,11.025,2.120693,12.654321,12.648321,2.087519,1.891857,5.0,9.057971,3.62844,1.891857,2.162606,2.164993,0.066503,1.0,9.89,1.862265,0.107027,4.435381,0.073153,2.5308,2.088033,2.087519,1.157153,2.087519,3.303771,2.463946,0.126356,2.425404,6.0,1.891857,2.75508,2.120693,6.8364,2.087519,5.2,2.087519,8.0,3.0,9.13,5.168,8.24532,11.0,2.087519,2.19697,6.669,1.862265,1.091887,1.091887,10.185186,6.36252,1.891857,2.087519,0.011997,15.0,2.237691,7.692308,2.019699,1.157153,12.428571,0.957763,3.11424,1.34369,0.223718,4.668,8.0,25.0,6.166667,4.299,9.423869,3.85,2.66388,2.087519,2.019699,0.647851,14.318182,3.21792,2.162606,8.0,5.84868,1.157153,1.891857,5.46912,6.26292,5.27832,8.0,2.087519,3.51048,2.087519,0.600545,4.033748,4.033748,10.09896,0.623856,6.5,2.54664,2.087519,0.491887,1.157153,2.99004,2.04878,0.492323,2.019699,1.05,1.891857,3.913234,1.891857,10.714286,4.668,0.119972,3.051153,12.6,2.087519,2.8704,0.496519,4.689,5.02704,2.087519,1.891857,2.62428,2.49432,7.565217,3.32616,2.162606,3.303771,2.087519,5.168,1.115128,1.891857,0.152957,0.503883,2.087519,0.515881,8.888889,2.463946,7.5,11.0,1.891857,12.025777,12.025777,0.731831,2.087519,1.157153,0.724883,1.655619,2.019699,1.891857,2.237691,2.62236,0.43881,5.29116,6.165,1.157153,0.011997,5.893768,1.850842,4.0,2.087519,2.53392,1.064049,1.257153,2.087519,2.087519,0.706898,1.80808,2.087519,1.891857,0.066503,1.891857,0.621439,1.157153,1.891857,0.119972,0.066503,0.011997,2.237691,1.051255,2.087519,2.087519,0.126356,0.119972,0.064301,4.861772,4.861772,0.119972,0.119972,43.03194,43.21944,34.84834,44.53194,26.276786,48.798677,21.696429,24.456061,4.296682,13.02525,18.692307,16.615384,31.0,17.26,9.9,3.366937,3.366937,16.830357,8.5,7.142857,5.0,0.745726,20.210284,18.125,12.804878,14.924167,0.119972,23.0,6.451077,9.186594,11.423077,2.795294,9.104167,8.25,3.87984,1.69161,1.69161,3.35268,8.12,7.723,2.087519,16.7412,7.975,4.158439,0.227947,0.355687,0.355687,8.780488,0.426632,0.426632,2.875,2.32835,2.32835,40.011909,40.011909,2.19697,0.421081,0.421081,2.967212,2.967212,5.0,12.5,2.207491,2.207491,3.625162,3.625162,2.53704,1.891857,2.120693,2.087519,2.087519,0.789048,0.789048,2.087519,0.073153,4.772772,4.772772,2.73372,2.44884,2.087519,2.092344,2.831348,2.831348,1.891857],\"xaxis\":\"x\",\"y\":[26,30,29,23,26,36,24,23,28,22,28,23,34,32,24,36,40,29,21,23,26,28,23,25,30,25,35,28,35,27,25,31,23,33,27,24,24,33,22,22,25,25,24,26,26,30,29,23,25,26,28,22,27,27,23,28,30,24,23,21,34,26,26,27,27,28,22,28,26,25,31,24,21,27,30,28,24,32,34,23,22,28,23,22,20,23,29,22,20,29,26,22,29,26,21,30,27,25,21,23,22,30,29,34,29,32,29,26,24,36,36,27,26,36,19,27,32,20,25,19,24,27,24,26,32,20,25,26,24,21,24,23,32,25,26,21,28,21,25,21,24,26,32,34,23,26,31,32,30,29,21,22,23,29,22,30,26,24,21,26,26,25,26,26,25,28,24,25,21,27,22,32,25,23,23,24,20,19,22,27,21,24,24,26,24,21,28,20,20,22,25,20,23,24,32,20,31,34,23,38,22,23,30,23,28,23,27,39,26,31,20,29,21,22,20,25,20,23,20,27,32,25,25,21,25,28,25,25,37,30,24,24,22,23,23,27,28,27,25,24,31,33,23,31,25,23,20,24,28,24,23,30,22,26,23,26,22,26,30,24,25,36,24,23,27,25,24,24,24,20,34,28,24,29,22,32,30,19,28,25,24,30,23,22,22,24,21,22,29,25,23,23,29,22,21,27,23,20,27,26,28,38,27,28,21,32,36,23,29,22,32,26,21,25,29,21,23,21,20,20,21,28,34,22,24,27,34,34,20,27,29,24,32,21,22,24,28,23,22,25,25,25,22,25,36,26,31,31,38,22,25,22,21,36,24,21,24,29,22,26,33,33,30,26,23,24,25,32,25,24,25,30,33,20,39,39,26,39,20,23,34,22,24,32,23,28,22,28,20,22,27,20,33,23,25,22,21,38,27,24,19,33,20,22,21,27,19,21,28,23,27,26,28,37,37,25,22,27,27,27,29,25,25,31,27,29,29,35,27,29,24,31,28,30,33,32,32,24,24,26,31,21,27,24,30,30,33,31,25,28,26,29,28,20,25,26,21,24,24,23,29,31,27,27,24,24,25,26,26,31,25,25,28,31,31,28,28,27,24,24,23,23,27,25,26,26,34,34,23,22,22,36,35,30,30,32,27,22,22,24,22,28,26,31,31,20],\"yaxis\":\"y\",\"type\":\"scatter\"},{\"hovertemplate\":\"\\u003cb\\u003eOLS trendline\\u003c\\u002fb\\u003e\\u003cbr\\u003eAge = 0.111356 * Salary_M + 25.0837\\u003cbr\\u003eR\\u003csup\\u003e2\\u003c\\u002fsup\\u003e=0.098592\\u003cbr\\u003e\\u003cbr\\u003eSalary ($M)=%{x:.2f}\\u003cbr\\u003eAge=%{y} \\u003cb\\u003e(trend)\\u003c\\u002fb\\u003e\\u003cextra\\u003e\\u003c\\u002fextra\\u003e\",\"legendgroup\":\"\",\"line\":{\"color\":\"black\"},\"marker\":{\"color\":\"skyblue\",\"symbol\":\"circle\"},\"mode\":\"lines\",\"name\":\"\",\"showlegend\":false,\"x\":[0.011997,0.011997,0.011997,0.047989,0.064301,0.066503,0.066503,0.066503,0.073153,0.073153,0.1,0.107027,0.113055,0.119972,0.119972,0.119972,0.119972,0.119972,0.119972,0.119972,0.119972,0.126356,0.126356,0.152957,0.223718,0.227947,0.355687,0.355687,0.421081,0.421081,0.425619,0.426632,0.426632,0.43881,0.43892,0.446743,0.446743,0.491887,0.492323,0.496519,0.503883,0.515881,0.596581,0.600545,0.621439,0.623856,0.635853,0.647851,0.706898,0.724883,0.731831,0.745726,0.780932,0.789048,0.789048,0.957763,1.0,1.05,1.051255,1.064049,1.091887,1.091887,1.115128,1.157153,1.157153,1.157153,1.157153,1.157153,1.157153,1.157153,1.157153,1.257153,1.34369,1.407153,1.655619,1.69161,1.69161,1.8,1.80808,1.850842,1.862265,1.862265,1.891857,1.891857,1.891857,1.891857,1.891857,1.891857,1.891857,1.891857,1.891857,1.891857,1.891857,1.891857,1.891857,1.891857,1.891857,1.891857,1.891857,1.891857,1.988598,2.019699,2.019699,2.019699,2.019699,2.019699,2.019699,2.04878,2.087519,2.087519,2.087519,2.087519,2.087519,2.087519,2.087519,2.087519,2.087519,2.087519,2.087519,2.087519,2.087519,2.087519,2.087519,2.087519,2.087519,2.087519,2.087519,2.087519,2.087519,2.087519,2.087519,2.087519,2.087519,2.087519,2.087519,2.087519,2.087519,2.087519,2.087519,2.087519,2.087519,2.088033,2.092344,2.092344,2.120693,2.120693,2.120693,2.120693,2.162606,2.162606,2.162606,2.162606,2.164993,2.19697,2.19697,2.19697,2.207491,2.207491,2.230253,2.237691,2.237691,2.237691,2.32835,2.32835,2.41356,2.425404,2.44884,2.463946,2.463946,2.49432,2.51268,2.5308,2.53392,2.53704,2.54664,2.55252,2.560975,2.57148,2.5872,2.62236,2.62428,2.66388,2.726603,2.73372,2.75508,2.795294,2.82552,2.831348,2.831348,2.8704,2.875,2.96592,2.967212,2.967212,2.99004,3.0,3.0,3.0,3.051153,3.087519,3.08964,3.11424,3.15,3.1932,3.21792,3.24408,3.303771,3.303771,3.32616,3.35268,3.366937,3.366937,3.37908,3.465,3.5,3.51048,3.51996,3.625162,3.625162,3.62844,3.6858,3.69516,3.81912,3.85,3.87984,3.913234,3.938271,3.960531,3.989122,4.0,4.02036,4.033748,4.033748,4.041249,4.0842,4.09428,4.158439,4.2318,4.296682,4.299,4.31028,4.3125,4.435381,4.45488,4.510905,4.52568,4.53684,4.668,4.668,4.689,4.710144,4.76376,4.772772,4.772772,4.77576,4.861772,4.861772,4.908373,5.0,5.0,5.0,5.01456,5.02704,5.159854,5.168,5.168,5.19552,5.2,5.27832,5.29116,5.424654,5.46912,5.55588,5.57004,5.631296,5.631296,5.705887,5.75688,5.803269,5.84868,5.893768,6.0,6.0,6.05952,6.133005,6.165,6.166667,6.26292,6.36252,6.451077,6.5,6.61416,6.669,6.696429,6.8364,6.94524,7.0,7.007092,7.142857,7.24572,7.5,7.565217,7.60776,7.636307,7.692308,7.723,7.975,7.97724,7.983,8.0,8.0,8.0,8.0,8.12,8.24532,8.25,8.352367,8.376,8.5,8.571429,8.571429,8.780488,8.780488,8.80956,8.888889,9.057971,9.104167,9.10512,9.13,9.186594,9.188385,9.24996,9.25,9.3,9.375,9.423869,9.5,9.52381,9.77088,9.89,9.9,9.975962,10.09896,10.13098,10.185186,10.25916,10.46,10.514017,10.714286,10.81,10.88064,11.0,11.0,11.0,11.0,11.025,11.205,11.227657,11.24568,11.423077,11.4246,11.445,11.74321,11.95,12.0,12.025777,12.025777,12.1608,12.428571,12.483048,12.5,12.5,12.56904,12.578286,12.6,12.648321,12.654321,12.76896,12.804878,12.822,12.9,12.975,12.976362,12.976362,12.99165,13.02525,13.02525,13.39416,13.940809,13.986432,14.0,14.092577,14.318182,14.924167,15.0,15.212068,15.5,15.625,15.625,15.873016,16.193183,16.5,16.615384,16.7412,16.830357,17.0,17.26,17.405203,18.0,18.0,18.125,18.144,18.35,18.692307,19.0,19.241379,19.406,19.5,19.9285,20.0,20.0,20.071429,20.210284,21.395348,21.696429,22.255493,22.26528,22.5,22.5,22.757,22.841455,23.0,23.0,23.017242,23.3,23.4,24.107143,24.456061,24.924126,24.960001,25.0,25.257798,25.365854,25.794643,25.892857,26.276786,26.58,27.173913,27.556817,29.0,29.268293,29.347826,29.517135,29.651786,29.793104,30.0,30.0,31.0,32.5,33.07392,33.333333,33.653846,34.005126,34.00525,34.84834,34.84834,34.84834,35.147,35.147,35.41031,35.85995,35.85995,36.0162,36.0162,36.637932,36.72567,36.72567,36.72567,40.011909,40.011909,40.5,41.0,42.1764,42.1764,42.1764,42.1764,42.846615,43.03194,43.03194,43.21944,43.827586,44.53194,48.728845,48.787676,48.787676,48.798677,49.2058,49.2058,49.2058,49.2058,49.2058,50.20393,51.179021,51.415938,51.415938,55.761216],\"xaxis\":\"x\",\"y\":[25.085022698015592,25.085022698015592,25.085022698015592,25.089030629286572,25.09084707113177,25.09109227741813,25.09109227741813,25.09109227741813,25.091832795948694,25.091832795948694,25.094822375044938,25.095604874851592,25.096276129844412,25.097046380472367,25.097046380472367,25.097046380472367,25.097046380472367,25.097046380472367,25.097046380472367,25.097046380472367,25.097046380472367,25.097757278261707,25.097757278261707,25.10071946374013,25.10859913768617,25.109070062929142,25.123294700086152,25.123294700086152,25.13057672546775,25.13057672546775,25.131082059767255,25.131194863567476,25.131194863567476,25.13255095900585,25.13256320818455,25.133434347502536,25.133434347502536,25.138461410441444,25.138509961731568,25.138977212220926,25.139797239056875,25.14113329038465,25.150119733304415,25.150561149162332,25.15288782497851,25.153156972841426,25.15449291281303,25.155828964140802,25.16240421191135,25.164406952628973,25.165180655298197,25.16672794928048,25.170648354601834,25.17155212127763,25.17155212127763,25.19033957750078,25.19504292805347,25.200610736553944,25.200750488547307,25.20217517938641,25.205275112447133,25.205275112447133,25.207863141194323,25.21254288423897,25.21254288423897,25.21254288423897,25.21254288423897,25.21254288423897,25.21254288423897,25.21254288423897,25.21254288423897,25.22367850123992,25.23331493012403,25.240381926741343,25.26805014887892,25.27205796879373,25.27205796879373,25.28412786406106,25.285027621914736,25.28978943445668,25.2910614559867,25.2910614559867,25.29435670776962,25.29435670776962,25.29435670776962,25.29435670776962,25.29435670776962,25.29435670776962,25.29435670776962,25.29435670776962,25.29435670776962,25.29435670776962,25.29435670776962,25.29435670776962,25.29435670776962,25.29435670776962,25.29435670776962,25.29435670776962,25.29435670776962,25.29435670776962,25.305129415012505,25.30859270325597,25.30859270325597,25.30859270325597,25.30859270325597,25.30859270325597,25.30859270325597,25.311831052036016,25.316144878706016,25.316144878706016,25.316144878706016,25.316144878706016,25.316144878706016,25.316144878706016,25.316144878706016,25.316144878706016,25.316144878706016,25.316144878706016,25.316144878706016,25.316144878706016,25.316144878706016,25.316144878706016,25.316144878706016,25.316144878706016,25.316144878706016,25.316144878706016,25.316144878706016,25.316144878706016,25.316144878706016,25.316144878706016,25.316144878706016,25.316144878706016,25.316144878706016,25.316144878706016,25.316144878706016,25.316144878706016,25.316144878706016,25.316144878706016,25.316144878706016,25.316144878706016,25.316144878706016,25.3162021157774,25.31668217222631,25.31668217222631,25.319839008289907,25.319839008289907,25.319839008289907,25.319839008289907,25.324506279443515,25.324506279443515,25.324506279443515,25.324506279443515,25.32477208662133,25.328332922869723,25.328332922869723,25.328332922869723,25.32950450113439,25.32950450113439,25.33203919027615,25.33286745746868,25.33286745746868,25.33286745746868,25.342962896485567,25.342962896485567,25.352451555732078,25.35377045820967,25.356380201410012,25.358062347714174,25.358062347714174,25.361444680022043,25.363489179303418,25.36550695310399,25.365854384354417,25.366201815604846,25.367270834836937,25.367925609116593,25.368867125534024,25.370036922099974,25.371787441092522,25.375702724030056,25.375916527876473,25.38032623220885,25.387310825260354,25.388103347122314,25.390481914913714,25.394959991934478,25.398325843529182,25.398974827287997,25.398974827287997,25.403323508439208,25.40383574682125,25.413960249798514,25.414104121970166,25.414104121970166,25.416646160619145,25.417755268072437,25.417755268072437,25.417755268072437,25.423451470236934,25.4275010487155,25.427737235152087,25.43047659693432,25.43445869357386,25.43926928011827,25.442022004640904,25.444935082048353,25.45158204319239,25.45158204319239,25.45407519648273,25.457028362111384,25.458615967027207,25.458615967027207,25.459968164999633,25.46953588712685,25.47343335307718,25.47460036573888,25.47565602223057,25.487370914027906,25.487370914027906,25.487735939553197,25.49412332946494,25.49516562321623,25.508969334050605,25.512408012580497,25.51573088069358,25.519449508634878,25.522237533063404,25.524716321407816,25.527900105664557,25.52911143808192,25.531378649703313,25.5328694861074,25.5328694861074,25.53370476873864,25.53848762759672,25.539610097790415,25.54675459830205,25.55492379829012,25.562148809312674,25.562406932914755,25.563663030512462,25.563910241209886,25.57759379873682,25.579765132695833,25.586003862120617,25.587649149532506,25.58889188438981,25.603497359648255,25.603497359648255,25.605835839218454,25.608190354077134,25.614160826488362,25.61516436829249,25.61516436829249,25.615497100528476,25.62507506742333,25.62507506742333,25.630264376301945,25.640467608091402,25.640467608091402,25.640467608091402,25.64208895392674,25.64347867892846,25.6582683372921,25.659175444653,25.659175444653,25.662239966451658,25.6627388420933,25.671460257328444,25.672890070551365,25.68775545111061,25.692707014566253,25.702368275876275,25.70394507924361,25.71076631279371,25.71076631279371,25.71907248087089,25.724750866048183,25.72991656741875,25.73497336245505,25.73999418944844,25.751823778100885,25.751823778100885,25.75845169733985,25.766634705492997,25.770197546152453,25.770383176887858,25.78110154231978,25.792192616852724,25.802053985200253,25.807501863105628,25.82021428347391,25.82632105583723,25.82937544422442,25.844962078696817,25.857082084240652,25.86317994811037,25.863969686068078,25.879087956489414,25.890542386205098,25.91885803311511,25.92612034845462,25.93085777399533,25.934036658580595,25.940272715457294,25.943690459027227,25.971752213869614,25.972001651690437,25.97264306322969,25.974536118119854,25.974536118119854,25.974536118119854,25.974536118119854,25.98789885852099,26.00185401374658,26.002375160622222,26.013774357677583,26.016406038043417,26.030214203124594,26.0381682629922,26.0381682629922,26.061448272538215,26.061448272538215,26.06468561911273,26.073519392723412,26.092347716660957,26.097491926290715,26.097598048720734,26.10036859023057,26.106670681316086,26.106870120216573,26.113726876384906,26.11373133063171,26.11929913913218,26.12765085188289,26.133092716555087,26.141570373134076,26.144221763542003,26.171734532466246,26.184999279437775,26.18611284113787,26.19457167852413,26.208268264722957,26.21183388928666,26.217870061838195,26.226107523158475,26.24847229634318,26.254487422578585,26.276788611390213,26.287446955846498,26.29531315569597,26.308604628148302,26.308604628148302,26.308604628148302,26.308604628148302,26.31138853239854,26.331432643000245,26.33395563974415,26.33596261199623,26.355716862487405,26.35588645793433,26.35815812380252,26.39136564726105,26.414392989657312,26.419960798157785,26.42283122615212,26.42283122615212,26.43786687029531,26.467684823294917,26.473751173368527,26.475638883162524,26.475638883162524,26.48332691313998,26.48435651228789,26.486774500163474,26.492155341654502,26.49282347867456,26.505589238648277,26.50958892956268,26.51149556990558,26.52018135116632,26.52853306391703,26.528684731020583,26.528684731020583,26.53038714414769,26.534128711460006,26.534128711460006,26.575209116138204,26.63608185511772,26.641162257662064,26.64267313817675,26.652982158327717,26.67810466706271,26.745584835745905,26.754029308186233,26.777644388447804,26.809707393190976,26.823626914442162,26.823626914442162,26.851245026303232,26.88689759718666,26.92106356320046,26.933912283520833,26.947922671406744,26.957850853456282,26.9767416482052,27.005694252407665,27.02186350236155,27.08809781821468,27.08809781821468,27.102017339465867,27.104133106696047,27.127072477718002,27.16519047420544,27.199453988224164,27.226333029184886,27.244664593248014,27.255132073228907,27.30284819207797,27.31081015823365,27.31081015823365,27.318764218101258,27.33422657908792,27.46619076734404,27.499717994366666,27.561973220196847,27.56306306303273,27.589200583257355,27.589200583257355,27.617819118949793,27.627223704287942,27.6448786682621,27.6448786682621,27.6467986713454,27.678285519264943,27.689421136265892,27.768165872394906,27.807020044522275,27.859141970237765,27.863136872836854,27.867591008281064,27.896298406197168,27.908331108503713,27.95607940928591,27.96701614416722,28.00976900716279,28.043533756896046,28.10966963389489,28.1523083568162,28.313015688318995,28.34289176923935,28.351748259508714,28.370601861296848,28.385596080944797,28.401332712178196,28.424371858328477,28.424371858328477,28.53572802833796,28.702762283352186,28.766671816444028,28.7955590545747,28.83125015469295,28.87036735009388,28.87038115825896,28.964264431632255,28.964264431632255,28.964264431632255,28.99752206536729,28.99752206536729,29.026843258492484,29.07691344677555,29.07691344677555,29.09431284833953,29.09431284833953,29.163546542631867,29.173316710276158,29.173316710276158,29.173316710276158,29.539259699051954,29.539259699051954,29.59361164342805,29.64928972843279,29.780289126831946,29.780289126831946,29.780289126831946,29.780289126831946,29.854921702314854,29.87555878452186,29.87555878452186,29.896438066398638,29.964158875765225,30.042593039536087,30.509944306229734,30.51649550106756,30.51649550106756,30.517720530293836,30.563056188296606,30.563056188296606,30.563056188296606,30.563056188296606,30.563056188296606,30.674204122268172,30.78278652143889,30.809168691169027,30.809168691169027,31.29304220687549],\"yaxis\":\"y\",\"type\":\"scatter\"}],                        {\"template\":{\"data\":{\"barpolar\":[{\"marker\":{\"line\":{\"color\":\"white\",\"width\":0.5},\"pattern\":{\"fillmode\":\"overlay\",\"size\":10,\"solidity\":0.2}},\"type\":\"barpolar\"}],\"bar\":[{\"error_x\":{\"color\":\"#2a3f5f\"},\"error_y\":{\"color\":\"#2a3f5f\"},\"marker\":{\"line\":{\"color\":\"white\",\"width\":0.5},\"pattern\":{\"fillmode\":\"overlay\",\"size\":10,\"solidity\":0.2}},\"type\":\"bar\"}],\"carpet\":[{\"aaxis\":{\"endlinecolor\":\"#2a3f5f\",\"gridcolor\":\"#C8D4E3\",\"linecolor\":\"#C8D4E3\",\"minorgridcolor\":\"#C8D4E3\",\"startlinecolor\":\"#2a3f5f\"},\"baxis\":{\"endlinecolor\":\"#2a3f5f\",\"gridcolor\":\"#C8D4E3\",\"linecolor\":\"#C8D4E3\",\"minorgridcolor\":\"#C8D4E3\",\"startlinecolor\":\"#2a3f5f\"},\"type\":\"carpet\"}],\"choropleth\":[{\"colorbar\":{\"outlinewidth\":0,\"ticks\":\"\"},\"type\":\"choropleth\"}],\"contourcarpet\":[{\"colorbar\":{\"outlinewidth\":0,\"ticks\":\"\"},\"type\":\"contourcarpet\"}],\"contour\":[{\"colorbar\":{\"outlinewidth\":0,\"ticks\":\"\"},\"colorscale\":[[0.0,\"#0d0887\"],[0.1111111111111111,\"#46039f\"],[0.2222222222222222,\"#7201a8\"],[0.3333333333333333,\"#9c179e\"],[0.4444444444444444,\"#bd3786\"],[0.5555555555555556,\"#d8576b\"],[0.6666666666666666,\"#ed7953\"],[0.7777777777777778,\"#fb9f3a\"],[0.8888888888888888,\"#fdca26\"],[1.0,\"#f0f921\"]],\"type\":\"contour\"}],\"heatmapgl\":[{\"colorbar\":{\"outlinewidth\":0,\"ticks\":\"\"},\"colorscale\":[[0.0,\"#0d0887\"],[0.1111111111111111,\"#46039f\"],[0.2222222222222222,\"#7201a8\"],[0.3333333333333333,\"#9c179e\"],[0.4444444444444444,\"#bd3786\"],[0.5555555555555556,\"#d8576b\"],[0.6666666666666666,\"#ed7953\"],[0.7777777777777778,\"#fb9f3a\"],[0.8888888888888888,\"#fdca26\"],[1.0,\"#f0f921\"]],\"type\":\"heatmapgl\"}],\"heatmap\":[{\"colorbar\":{\"outlinewidth\":0,\"ticks\":\"\"},\"colorscale\":[[0.0,\"#0d0887\"],[0.1111111111111111,\"#46039f\"],[0.2222222222222222,\"#7201a8\"],[0.3333333333333333,\"#9c179e\"],[0.4444444444444444,\"#bd3786\"],[0.5555555555555556,\"#d8576b\"],[0.6666666666666666,\"#ed7953\"],[0.7777777777777778,\"#fb9f3a\"],[0.8888888888888888,\"#fdca26\"],[1.0,\"#f0f921\"]],\"type\":\"heatmap\"}],\"histogram2dcontour\":[{\"colorbar\":{\"outlinewidth\":0,\"ticks\":\"\"},\"colorscale\":[[0.0,\"#0d0887\"],[0.1111111111111111,\"#46039f\"],[0.2222222222222222,\"#7201a8\"],[0.3333333333333333,\"#9c179e\"],[0.4444444444444444,\"#bd3786\"],[0.5555555555555556,\"#d8576b\"],[0.6666666666666666,\"#ed7953\"],[0.7777777777777778,\"#fb9f3a\"],[0.8888888888888888,\"#fdca26\"],[1.0,\"#f0f921\"]],\"type\":\"histogram2dcontour\"}],\"histogram2d\":[{\"colorbar\":{\"outlinewidth\":0,\"ticks\":\"\"},\"colorscale\":[[0.0,\"#0d0887\"],[0.1111111111111111,\"#46039f\"],[0.2222222222222222,\"#7201a8\"],[0.3333333333333333,\"#9c179e\"],[0.4444444444444444,\"#bd3786\"],[0.5555555555555556,\"#d8576b\"],[0.6666666666666666,\"#ed7953\"],[0.7777777777777778,\"#fb9f3a\"],[0.8888888888888888,\"#fdca26\"],[1.0,\"#f0f921\"]],\"type\":\"histogram2d\"}],\"histogram\":[{\"marker\":{\"pattern\":{\"fillmode\":\"overlay\",\"size\":10,\"solidity\":0.2}},\"type\":\"histogram\"}],\"mesh3d\":[{\"colorbar\":{\"outlinewidth\":0,\"ticks\":\"\"},\"type\":\"mesh3d\"}],\"parcoords\":[{\"line\":{\"colorbar\":{\"outlinewidth\":0,\"ticks\":\"\"}},\"type\":\"parcoords\"}],\"pie\":[{\"automargin\":true,\"type\":\"pie\"}],\"scatter3d\":[{\"line\":{\"colorbar\":{\"outlinewidth\":0,\"ticks\":\"\"}},\"marker\":{\"colorbar\":{\"outlinewidth\":0,\"ticks\":\"\"}},\"type\":\"scatter3d\"}],\"scattercarpet\":[{\"marker\":{\"colorbar\":{\"outlinewidth\":0,\"ticks\":\"\"}},\"type\":\"scattercarpet\"}],\"scattergeo\":[{\"marker\":{\"colorbar\":{\"outlinewidth\":0,\"ticks\":\"\"}},\"type\":\"scattergeo\"}],\"scattergl\":[{\"marker\":{\"colorbar\":{\"outlinewidth\":0,\"ticks\":\"\"}},\"type\":\"scattergl\"}],\"scattermapbox\":[{\"marker\":{\"colorbar\":{\"outlinewidth\":0,\"ticks\":\"\"}},\"type\":\"scattermapbox\"}],\"scatterpolargl\":[{\"marker\":{\"colorbar\":{\"outlinewidth\":0,\"ticks\":\"\"}},\"type\":\"scatterpolargl\"}],\"scatterpolar\":[{\"marker\":{\"colorbar\":{\"outlinewidth\":0,\"ticks\":\"\"}},\"type\":\"scatterpolar\"}],\"scatter\":[{\"fillpattern\":{\"fillmode\":\"overlay\",\"size\":10,\"solidity\":0.2},\"type\":\"scatter\"}],\"scatterternary\":[{\"marker\":{\"colorbar\":{\"outlinewidth\":0,\"ticks\":\"\"}},\"type\":\"scatterternary\"}],\"surface\":[{\"colorbar\":{\"outlinewidth\":0,\"ticks\":\"\"},\"colorscale\":[[0.0,\"#0d0887\"],[0.1111111111111111,\"#46039f\"],[0.2222222222222222,\"#7201a8\"],[0.3333333333333333,\"#9c179e\"],[0.4444444444444444,\"#bd3786\"],[0.5555555555555556,\"#d8576b\"],[0.6666666666666666,\"#ed7953\"],[0.7777777777777778,\"#fb9f3a\"],[0.8888888888888888,\"#fdca26\"],[1.0,\"#f0f921\"]],\"type\":\"surface\"}],\"table\":[{\"cells\":{\"fill\":{\"color\":\"#EBF0F8\"},\"line\":{\"color\":\"white\"}},\"header\":{\"fill\":{\"color\":\"#C8D4E3\"},\"line\":{\"color\":\"white\"}},\"type\":\"table\"}]},\"layout\":{\"annotationdefaults\":{\"arrowcolor\":\"#2a3f5f\",\"arrowhead\":0,\"arrowwidth\":1},\"autotypenumbers\":\"strict\",\"coloraxis\":{\"colorbar\":{\"outlinewidth\":0,\"ticks\":\"\"}},\"colorscale\":{\"diverging\":[[0,\"#8e0152\"],[0.1,\"#c51b7d\"],[0.2,\"#de77ae\"],[0.3,\"#f1b6da\"],[0.4,\"#fde0ef\"],[0.5,\"#f7f7f7\"],[0.6,\"#e6f5d0\"],[0.7,\"#b8e186\"],[0.8,\"#7fbc41\"],[0.9,\"#4d9221\"],[1,\"#276419\"]],\"sequential\":[[0.0,\"#0d0887\"],[0.1111111111111111,\"#46039f\"],[0.2222222222222222,\"#7201a8\"],[0.3333333333333333,\"#9c179e\"],[0.4444444444444444,\"#bd3786\"],[0.5555555555555556,\"#d8576b\"],[0.6666666666666666,\"#ed7953\"],[0.7777777777777778,\"#fb9f3a\"],[0.8888888888888888,\"#fdca26\"],[1.0,\"#f0f921\"]],\"sequentialminus\":[[0.0,\"#0d0887\"],[0.1111111111111111,\"#46039f\"],[0.2222222222222222,\"#7201a8\"],[0.3333333333333333,\"#9c179e\"],[0.4444444444444444,\"#bd3786\"],[0.5555555555555556,\"#d8576b\"],[0.6666666666666666,\"#ed7953\"],[0.7777777777777778,\"#fb9f3a\"],[0.8888888888888888,\"#fdca26\"],[1.0,\"#f0f921\"]]},\"colorway\":[\"#636efa\",\"#EF553B\",\"#00cc96\",\"#ab63fa\",\"#FFA15A\",\"#19d3f3\",\"#FF6692\",\"#B6E880\",\"#FF97FF\",\"#FECB52\"],\"font\":{\"color\":\"#2a3f5f\"},\"geo\":{\"bgcolor\":\"white\",\"lakecolor\":\"white\",\"landcolor\":\"white\",\"showlakes\":true,\"showland\":true,\"subunitcolor\":\"#C8D4E3\"},\"hoverlabel\":{\"align\":\"left\"},\"hovermode\":\"closest\",\"mapbox\":{\"style\":\"light\"},\"paper_bgcolor\":\"white\",\"plot_bgcolor\":\"white\",\"polar\":{\"angularaxis\":{\"gridcolor\":\"#EBF0F8\",\"linecolor\":\"#EBF0F8\",\"ticks\":\"\"},\"bgcolor\":\"white\",\"radialaxis\":{\"gridcolor\":\"#EBF0F8\",\"linecolor\":\"#EBF0F8\",\"ticks\":\"\"}},\"scene\":{\"xaxis\":{\"backgroundcolor\":\"white\",\"gridcolor\":\"#DFE8F3\",\"gridwidth\":2,\"linecolor\":\"#EBF0F8\",\"showbackground\":true,\"ticks\":\"\",\"zerolinecolor\":\"#EBF0F8\"},\"yaxis\":{\"backgroundcolor\":\"white\",\"gridcolor\":\"#DFE8F3\",\"gridwidth\":2,\"linecolor\":\"#EBF0F8\",\"showbackground\":true,\"ticks\":\"\",\"zerolinecolor\":\"#EBF0F8\"},\"zaxis\":{\"backgroundcolor\":\"white\",\"gridcolor\":\"#DFE8F3\",\"gridwidth\":2,\"linecolor\":\"#EBF0F8\",\"showbackground\":true,\"ticks\":\"\",\"zerolinecolor\":\"#EBF0F8\"}},\"shapedefaults\":{\"line\":{\"color\":\"#2a3f5f\"}},\"ternary\":{\"aaxis\":{\"gridcolor\":\"#DFE8F3\",\"linecolor\":\"#A2B1C6\",\"ticks\":\"\"},\"baxis\":{\"gridcolor\":\"#DFE8F3\",\"linecolor\":\"#A2B1C6\",\"ticks\":\"\"},\"bgcolor\":\"white\",\"caxis\":{\"gridcolor\":\"#DFE8F3\",\"linecolor\":\"#A2B1C6\",\"ticks\":\"\"}},\"title\":{\"x\":0.05},\"xaxis\":{\"automargin\":true,\"gridcolor\":\"#EBF0F8\",\"linecolor\":\"#EBF0F8\",\"ticks\":\"\",\"title\":{\"standoff\":15},\"zerolinecolor\":\"#EBF0F8\",\"zerolinewidth\":2},\"yaxis\":{\"automargin\":true,\"gridcolor\":\"#EBF0F8\",\"linecolor\":\"#EBF0F8\",\"ticks\":\"\",\"title\":{\"standoff\":15},\"zerolinecolor\":\"#EBF0F8\",\"zerolinewidth\":2}}},\"xaxis\":{\"anchor\":\"y\",\"domain\":[0.0,1.0],\"title\":{\"text\":\"Salary ($M)\"},\"tickprefix\":\"$\",\"ticksuffix\":\"M\"},\"yaxis\":{\"anchor\":\"x\",\"domain\":[0.0,1.0],\"title\":{\"text\":\"Age\"}},\"legend\":{\"tracegroupgap\":0},\"title\":{\"text\":\"Salary vs Age\"}},                        {\"responsive\": true}                    ).then(function(){\n",
       "                            \n",
       "var gd = document.getElementById('da5d12fe-3c00-4cfa-bc85-4713c2874791');\n",
       "var x = new MutationObserver(function (mutations, observer) {{\n",
       "        var display = window.getComputedStyle(gd).display;\n",
       "        if (!display || display === 'none') {{\n",
       "            console.log([gd, 'removed!']);\n",
       "            Plotly.purge(gd);\n",
       "            observer.disconnect();\n",
       "        }}\n",
       "}});\n",
       "\n",
       "// Listen for the removal of the full notebook cells\n",
       "var notebookContainer = gd.closest('#notebook-container');\n",
       "if (notebookContainer) {{\n",
       "    x.observe(notebookContainer, {childList: true});\n",
       "}}\n",
       "\n",
       "// Listen for the clearing of the current output cell\n",
       "var outputEl = gd.closest('.output');\n",
       "if (outputEl) {{\n",
       "    x.observe(outputEl, {childList: true});\n",
       "}}\n",
       "\n",
       "                        })                };                });            </script>        </div>"
      ]
     },
     "metadata": {},
     "output_type": "display_data"
    },
    {
     "data": {
      "application/vnd.plotly.v1+json": {
       "config": {
        "plotlyServerURL": "https://plot.ly"
       },
       "data": [
        {
         "customdata": [
          [
           "Shai Gilgeous-Alexander"
          ],
          [
           "Giannis Antetokounmpo"
          ],
          [
           "Nikola Jokic"
          ],
          [
           "Anthony Edwards"
          ],
          [
           "Jayson Tatum"
          ],
          [
           "Kevin Durant"
          ],
          [
           "Tyrese Maxey"
          ],
          [
           "Cade Cunningham"
          ],
          [
           "Jalen Brunson"
          ],
          [
           "Paolo Banchero"
          ],
          [
           "Devin Booker"
          ],
          [
           "LaMelo Ball"
          ],
          [
           "Damian Lillard"
          ],
          [
           "Kyrie Irving"
          ],
          [
           "Zion Williamson"
          ],
          [
           "Stephen Curry"
          ],
          [
           "LeBron James"
          ],
          [
           "Karl-Anthony Towns"
          ],
          [
           "Victor Wembanyama"
          ],
          [
           "Franz Wagner"
          ],
          [
           "Trae Young"
          ],
          [
           "Donovan Mitchell"
          ],
          [
           "Cam Thomas"
          ],
          [
           "Tyler Herro"
          ],
          [
           "Joel Embiid"
          ],
          [
           "Ja Morant"
          ],
          [
           "James Harden"
          ],
          [
           "Jaylen Brown"
          ],
          [
           "DeMar DeRozan"
          ],
          [
           "Brandon Ingram"
          ],
          [
           "Jaren Jackson Jr."
          ],
          [
           "Norman Powell"
          ],
          [
           "Jalen Williams"
          ],
          [
           "Kawhi Leonard"
          ],
          [
           "Jamal Murray"
          ],
          [
           "Trey Murphy III"
          ],
          [
           "RJ Barrett"
          ],
          [
           "CJ McCollum"
          ],
          [
           "Jalen Green"
          ],
          [
           "Brandon Miller"
          ],
          [
           "Darius Garland"
          ],
          [
           "Jordan Poole"
          ],
          [
           "Coby White"
          ],
          [
           "Miles Bridges"
          ],
          [
           "Austin Reaves"
          ],
          [
           "Pascal Siakam"
          ],
          [
           "Kristaps Porzingis"
          ],
          [
           "Scottie Barnes"
          ],
          [
           "Anfernee Simons"
          ],
          [
           "Desmond Bane"
          ],
          [
           "Domantas Sabonis"
          ],
          [
           "Alperen Sengun"
          ],
          [
           "John Collins"
          ],
          [
           "Lauri Markkanen"
          ],
          [
           "Jalen Johnson"
          ],
          [
           "Cameron Johnson"
          ],
          [
           "Julius Randle"
          ],
          [
           "Tyrese Haliburton"
          ],
          [
           "Evan Mobley"
          ],
          [
           "Shaedon Sharpe"
          ],
          [
           "Nikola Vucevic"
          ],
          [
           "Collin Sexton"
          ],
          [
           "Michael Porter Jr."
          ],
          [
           "Bam Adebayo"
          ],
          [
           "OG Anunoby"
          ],
          [
           "Mikal Bridges"
          ],
          [
           "Jaden Ivey"
          ],
          [
           "Dejounte Murray"
          ],
          [
           "Malik Monk"
          ],
          [
           "Immanuel Quickley"
          ],
          [
           "Bradley Beal"
          ],
          [
           "Deni Avdija"
          ],
          [
           "Keyonte George"
          ],
          [
           "Ivica Zubac"
          ],
          [
           "Derrick White"
          ],
          [
           "Malik Beasley"
          ],
          [
           "Devin Vassell"
          ],
          [
           "Jordan Clarkson"
          ],
          [
           "Paul George"
          ],
          [
           "Jalen Suggs"
          ],
          [
           "Bennedict Mathurin"
          ],
          [
           "Myles Turner"
          ],
          [
           "Christian Braun"
          ],
          [
           "Jonathan Kuminga"
          ],
          [
           "Jared McCain"
          ],
          [
           "Mark Williams"
          ],
          [
           "Kelly Oubre Jr."
          ],
          [
           "Chet Holmgren"
          ],
          [
           "Stephon Castle"
          ],
          [
           "Aaron Gordon"
          ],
          [
           "P.J. Washington"
          ],
          [
           "Josh Giddey"
          ],
          [
           "Jakob Poeltl"
          ],
          [
           "Deandre Ayton"
          ],
          [
           "Gradey Dick"
          ],
          [
           "Jerami Grant"
          ],
          [
           "Payton Pritchard"
          ],
          [
           "Naz Reid"
          ],
          [
           "Dyson Daniels"
          ],
          [
           "Tre Mann"
          ],
          [
           "Amen Thompson"
          ],
          [
           "Fred VanVleet"
          ],
          [
           "Dillon Brooks"
          ],
          [
           "Klay Thompson"
          ],
          [
           "Bobby Portis"
          ],
          [
           "Tobias Harris"
          ],
          [
           "Josh Hart"
          ],
          [
           "Jarrett Allen"
          ],
          [
           "Onyeka Okongwu"
          ],
          [
           "Russell Westbrook"
          ],
          [
           "Russell Westbrook"
          ],
          [
           "Naji Marshall"
          ],
          [
           "Rui Hachimura"
          ],
          [
           "Brook Lopez"
          ],
          [
           "Alex Sarr"
          ],
          [
           "Moritz Wagner"
          ],
          [
           "Malcolm Brogdon"
          ],
          [
           "Scoot Henderson"
          ],
          [
           "Keldon Johnson"
          ],
          [
           "Zaccharie Risacher"
          ],
          [
           "Santi Aldama"
          ],
          [
           "Ty Jerome"
          ],
          [
           "Keegan Murray"
          ],
          [
           "Lonnie Walker IV"
          ],
          [
           "Harrison Barnes"
          ],
          [
           "Bilal Coulibaly"
          ],
          [
           "Ayo Dosunmu"
          ],
          [
           "Daniel Gafford"
          ],
          [
           "Jaden McDaniels"
          ],
          [
           "Jabari Smith Jr."
          ],
          [
           "Drew Timme"
          ],
          [
           "Tari Eason"
          ],
          [
           "Rudy Gobert"
          ],
          [
           "Aaron Nesmith"
          ],
          [
           "Aaron Wiggins"
          ],
          [
           "Jalen Duren"
          ],
          [
           "Donte DiVincenzo"
          ],
          [
           "Brandin Podziemski"
          ],
          [
           "Corey Kispert"
          ],
          [
           "Jeremy Sochan"
          ],
          [
           "Toumani Camara"
          ],
          [
           "Isaiah Hartenstein"
          ],
          [
           "Buddy Hield"
          ],
          [
           "Jrue Holiday"
          ],
          [
           "Walker Kessler"
          ],
          [
           "Gary Trent Jr."
          ],
          [
           "Spencer Dinwiddie"
          ],
          [
           "Tim Hardaway Jr."
          ],
          [
           "Duncan Robinson"
          ],
          [
           "Guerschon Yabusele"
          ],
          [
           "Brice Sensabaugh"
          ],
          [
           "Jordan Hawkins"
          ],
          [
           "Brandon Boston Jr."
          ],
          [
           "Grayson Allen"
          ],
          [
           "Keon Johnson"
          ],
          [
           "Terry Rozier"
          ],
          [
           "Obi Toppin"
          ],
          [
           "Ochai Agbaji"
          ],
          [
           "Jaylen Wells"
          ],
          [
           "Grant Williams"
          ],
          [
           "Jose Alvarado"
          ],
          [
           "Nic Claxton"
          ],
          [
           "Herbert Jones"
          ],
          [
           "De'Anthony Melton"
          ],
          [
           "Isaiah Joe"
          ],
          [
           "Tyus Jones"
          ],
          [
           "Trendon Watford"
          ],
          [
           "Luguentz Dort"
          ],
          [
           "Justin Edwards"
          ],
          [
           "Derrick Jones Jr."
          ],
          [
           "Ausar Thompson"
          ],
          [
           "Chris Boucher"
          ],
          [
           "Andrew Nembhard"
          ],
          [
           "Ziaire Williams"
          ],
          [
           "Julian Champagnie"
          ],
          [
           "Scotty Pippen Jr."
          ],
          [
           "Nick Smith Jr."
          ],
          [
           "Bub Carrington"
          ],
          [
           "Moses Moody"
          ],
          [
           "Amir Coffey"
          ],
          [
           "Kyle Filipowski"
          ],
          [
           "Miles McBride"
          ],
          [
           "Jalen Wilson"
          ],
          [
           "Nickeil Alexander-Walker"
          ],
          [
           "Cole Anthony"
          ],
          [
           "Anthony Black"
          ],
          [
           "Max Strus"
          ],
          [
           "Cam Whitmore"
          ],
          [
           "Kel'el Ware"
          ],
          [
           "Zach Edey"
          ],
          [
           "Wendell Carter Jr."
          ],
          [
           "Noah Clowney"
          ],
          [
           "Dalton Knecht"
          ],
          [
           "A.J. Lawson"
          ],
          [
           "T.J. McConnell"
          ],
          [
           "Yves Missi"
          ],
          [
           "Royce O'Neale"
          ],
          [
           "Draymond Green"
          ],
          [
           "Killian Hayes"
          ],
          [
           "Al Horford"
          ],
          [
           "Julian Strawther"
          ],
          [
           "Patrick Williams"
          ],
          [
           "Clint Capela"
          ],
          [
           "Johnny Juzang"
          ],
          [
           "Luke Kennard"
          ],
          [
           "Justin Champagnie"
          ],
          [
           "Svi Mykhailiuk"
          ],
          [
           "Chris Paul"
          ],
          [
           "Oshae Brissett"
          ],
          [
           "Kentavious Caldwell-Pope"
          ],
          [
           "Isaiah Collier"
          ],
          [
           "Dante Exum"
          ],
          [
           "Kyshawn George"
          ],
          [
           "Jaden Hardy"
          ],
          [
           "Dereck Lively II"
          ],
          [
           "Tyrese Martin"
          ],
          [
           "Matas Buzelis"
          ],
          [
           "Jaime Jaquez Jr."
          ],
          [
           "Ja'Kobe Walter"
          ],
          [
           "Sam Hauser"
          ],
          [
           "Larry Nance Jr."
          ],
          [
           "Jaylen Nowell"
          ],
          [
           "Jaylen Nowell"
          ],
          [
           "Cason Wallace"
          ],
          [
           "Dalano Banton"
          ],
          [
           "Brandon Clarke"
          ],
          [
           "Keon Ellis"
          ],
          [
           "Brandon Williams"
          ],
          [
           "Mike Conley"
          ],
          [
           "Taurean Prince"
          ],
          [
           "Jalen Smith"
          ],
          [
           "Quinten Post"
          ],
          [
           "Peyton Watson"
          ],
          [
           "Day'Ron Sharpe"
          ],
          [
           "Karlo Matkovic"
          ],
          [
           "Lonzo Ball"
          ],
          [
           "Garrison Mathews"
          ],
          [
           "Matisse Thybulle"
          ],
          [
           "A.J. Green"
          ],
          [
           "Josh Green"
          ],
          [
           "Richaun Holmes"
          ],
          [
           "Alec Burks"
          ],
          [
           "Ricky Council IV"
          ],
          [
           "Andre Drummond"
          ],
          [
           "Goga Bitadze"
          ],
          [
           "Tristan Da Silva"
          ],
          [
           "GG Jackson II"
          ],
          [
           "Vit Krejci"
          ],
          [
           "Sam Merrill"
          ],
          [
           "Nae'Qwan Tomlin"
          ],
          [
           "Jamison Battle"
          ],
          [
           "Alex Caruso"
          ],
          [
           "Jamal Shead"
          ],
          [
           "Marcus Garrett"
          ],
          [
           "Isaiah Jackson"
          ],
          [
           "Jaylen Sims"
          ],
          [
           "Ryan Dunn"
          ],
          [
           "Jay Huff"
          ],
          [
           "Cameron Payne"
          ],
          [
           "Antonio Reeves"
          ],
          [
           "Bol Bol"
          ],
          [
           "Eric Gordon"
          ],
          [
           "Jaxson Hayes"
          ],
          [
           "Marcus Bagley"
          ],
          [
           "DaQuan Jeffries"
          ],
          [
           "Precious Achiuwa"
          ],
          [
           "Trayce Jackson-Davis"
          ],
          [
           "Marcus Sasser"
          ],
          [
           "Vince Williams Jr."
          ],
          [
           "Donovan Clingan"
          ],
          [
           "Seth Curry"
          ],
          [
           "Haywood Highsmith"
          ],
          [
           "Talen Horton-Tucker"
          ],
          [
           "Trey Lyles"
          ],
          [
           "Ajay Mitchell"
          ],
          [
           "Gary Payton II"
          ],
          [
           "Kris Dunn"
          ],
          [
           "Ron Holland"
          ],
          [
           "Gabe Vincent"
          ],
          [
           "Sandro Mamukelashvili"
          ],
          [
           "Jeremiah Robinson-Earl"
          ],
          [
           "Kenrich Williams"
          ],
          [
           "Jonathan Mogbo"
          ],
          [
           "Ryan Rollins"
          ],
          [
           "Ryan Rollins"
          ],
          [
           "Isaac Okoro"
          ],
          [
           "Jarace Walker"
          ],
          [
           "Mouhamed Gueye"
          ],
          [
           "Luke Kornet"
          ],
          [
           "Isaiah Mobley"
          ],
          [
           "Isaiah Stewart"
          ],
          [
           "James Wiseman"
          ],
          [
           "Simone Fontecchio"
          ],
          [
           "Jaylin Williams"
          ],
          [
           "Adem Bona"
          ],
          [
           "Robert Williams"
          ],
          [
           "Moussa Diabate"
          ],
          [
           "Dariq Whitehead"
          ],
          [
           "Landry Shamet"
          ],
          [
           "Jordan Goodwin"
          ],
          [
           "Aaron Holiday"
          ],
          [
           "Jeff Green"
          ],
          [
           "Jonathan Isaac"
          ],
          [
           "Dean Wade"
          ],
          [
           "Kobe Bufkin"
          ],
          [
           "Pat Connaughton"
          ],
          [
           "Kevin Love"
          ],
          [
           "Ben Sheppard"
          ],
          [
           "Monte Morris"
          ],
          [
           "Jabari Walker"
          ],
          [
           "Bismack Biyombo"
          ],
          [
           "Mitchell Robinson"
          ],
          [
           "Malaki Branham"
          ],
          [
           "Neemias Queta"
          ],
          [
           "Jock Landale"
          ],
          [
           "Taylor Hendricks"
          ],
          [
           "Pelle Larsson"
          ],
          [
           "Julian Phillips"
          ],
          [
           "Cody Williams"
          ],
          [
           "Rob Dillingham"
          ],
          [
           "Jett Howard"
          ],
          [
           "Kevon Looney"
          ],
          [
           "Mason Plumlee"
          ],
          [
           "Dalen Terry"
          ],
          [
           "Charles Bassey"
          ],
          [
           "Tony Bradley"
          ],
          [
           "Reggie Jackson"
          ],
          [
           "Reggie Jackson"
          ],
          [
           "Reed Sheppard"
          ],
          [
           "Lamar Stevens"
          ],
          [
           "Jevon Carter"
          ],
          [
           "Terrence Shannon Jr."
          ],
          [
           "Daniel Theis"
          ],
          [
           "Dominick Barlow"
          ],
          [
           "Oso Ighodaro"
          ],
          [
           "Kris Murray"
          ],
          [
           "Duop Reath"
          ],
          [
           "Jaylen Clark"
          ],
          [
           "Caleb Houstan"
          ],
          [
           "Jordan Miller"
          ],
          [
           "Jalen Pickett"
          ],
          [
           "Paul Reed"
          ],
          [
           "Gui Santos"
          ],
          [
           "Jarred Vanderbilt"
          ],
          [
           "Nicolas Batum"
          ],
          [
           "Malachi Flynn"
          ],
          [
           "Josh Richardson"
          ],
          [
           "Steven Adams"
          ],
          [
           "Kyle Lowry"
          ],
          [
           "Olivier-Maxence Prosper"
          ],
          [
           "Branden Carlson"
          ],
          [
           "Devin Carter"
          ],
          [
           "Ousmane Dieng"
          ],
          [
           "DeAndre Jordan"
          ],
          [
           "Craig Porter Jr."
          ],
          [
           "Blake Wesley"
          ],
          [
           "Baylor Scheierman"
          ],
          [
           "Jae'Sean Tate"
          ],
          [
           "Jaylon Tyson"
          ],
          [
           "Luka Garza"
          ],
          [
           "Cory Joseph"
          ],
          [
           "Doug McDermott"
          ],
          [
           "Dario Saric"
          ],
          [
           "Bruno Fernando"
          ],
          [
           "Andre Jackson Jr."
          ],
          [
           "Isaac Jones"
          ],
          [
           "Kevin Knox"
          ],
          [
           "Damion Lee"
          ],
          [
           "Jeenathan Williams"
          ],
          [
           "Zeke Nnaji"
          ],
          [
           "Cam Reddish"
          ],
          [
           "Gary Harris"
          ],
          [
           "Maxi Kleber"
          ],
          [
           "Rayan Rupert"
          ],
          [
           "P.J. Tucker"
          ],
          [
           "P.J. Tucker"
          ],
          [
           "Markelle Fultz"
          ],
          [
           "Taj Gibson"
          ],
          [
           "Tyler Smith"
          ],
          [
           "Keshad Johnson"
          ],
          [
           "Jae Crowder"
          ],
          [
           "Josh Minott"
          ],
          [
           "Hunter Tyson"
          ],
          [
           "Anthony Gill"
          ],
          [
           "Dillon Jones"
          ],
          [
           "Pat Spencer"
          ],
          [
           "Johnny Davis"
          ],
          [
           "John Konchar"
          ],
          [
           "Bronny James"
          ],
          [
           "JD Davison"
          ],
          [
           "Chris Duarte"
          ],
          [
           "Johnny Furphy"
          ],
          [
           "Dwight Powell"
          ],
          [
           "Tyler Kolek"
          ],
          [
           "Kobe Brown"
          ],
          [
           "Ariel Hukporti"
          ],
          [
           "Bobi Klintman"
          ],
          [
           "Garrett Temple"
          ],
          [
           "Vlatko Cancar"
          ],
          [
           "E.J. Liddell"
          ],
          [
           "Pacome Dadiet"
          ],
          [
           "Tristan Thompson"
          ],
          [
           "Jordan Walsh"
          ],
          [
           "Phillip Wheeler"
          ],
          [
           "Leonard Miller"
          ],
          [
           "Matt Ryan"
          ],
          [
           "Cam Christie"
          ],
          [
           "Chris Livingston"
          ],
          [
           "Skal Labissiere"
          ],
          [
           "Yuri Collins"
          ],
          [
           "Braxton Key"
          ],
          [
           "Xavier Tillman Sr."
          ],
          [
           "PJ Dozier"
          ],
          [
           "Joe Ingles"
          ],
          [
           "James Johnson"
          ],
          [
           "Malevy Leons"
          ],
          [
           "Daishen Nix"
          ],
          [
           "Terence Davis"
          ],
          [
           "Jalen McDaniels"
          ],
          [
           "Jalen McDaniels"
          ],
          [
           "Jahlil Okafor"
          ],
          [
           "Terry Taylor"
          ],
          [
           "Luka Doncic"
          ],
          [
           "Anthony Davis"
          ],
          [
           "De'Aaron Fox"
          ],
          [
           "Zach LaVine"
          ],
          [
           "Andrew Wiggins"
          ],
          [
           "Jimmy Butler"
          ],
          [
           "De'Andre Hunter"
          ],
          [
           "Kyle Kuzma"
          ],
          [
           "Quentin Grimes"
          ],
          [
           "Dennis Schroder"
          ],
          [
           "D'Angelo Russell"
          ],
          [
           "Caris LeVert"
          ],
          [
           "Khris Middleton"
          ],
          [
           "Bogdan Bogdanovic"
          ],
          [
           "Jonas Valanciunas"
          ],
          [
           "Kevin Porter Jr."
          ],
          [
           "Kevin Porter Jr."
          ],
          [
           "Kevin Huerter"
          ],
          [
           "Georges Niang"
          ],
          [
           "Max Christie"
          ],
          [
           "Nick Richards"
          ],
          [
           "Jared Butler"
          ],
          [
           "Marcus Smart"
          ],
          [
           "Jusuf Nurkic"
          ],
          [
           "Kelly Olynyk"
          ],
          [
           "Dorian Finney-Smith"
          ],
          [
           "Jared Rhoden"
          ],
          [
           "Bruce Brown"
          ],
          [
           "Davion Mitchell"
          ],
          [
           "Caleb Martin"
          ],
          [
           "Terance Mann"
          ],
          [
           "AJ Johnson"
          ],
          [
           "Tre Jones"
          ],
          [
           "Josh Okogie"
          ],
          [
           "Jalen Hood-Schifino"
          ],
          [
           "Orlando Robinson"
          ],
          [
           "Orlando Robinson"
          ],
          [
           "Jake LaRavia"
          ],
          [
           "Cody Martin"
          ],
          [
           "Vasilije Micic"
          ],
          [
           "Thomas Bryant"
          ],
          [
           "Zach Collins"
          ],
          [
           "KJ Martin"
          ],
          [
           "Bones Hyland"
          ],
          [
           "Cole Swider"
          ],
          [
           "Chuma Okeke"
          ],
          [
           "Chuma Okeke"
          ],
          [
           "Kyle Anderson"
          ],
          [
           "Moses Brown"
          ],
          [
           "Moses Brown"
          ],
          [
           "Shake Milton"
          ],
          [
           "Javonte Green"
          ],
          [
           "Javonte Green"
          ],
          [
           "Ben Simmons"
          ],
          [
           "Ben Simmons"
          ],
          [
           "Lindy Waters III"
          ],
          [
           "Colin Castleton"
          ],
          [
           "Colin Castleton"
          ],
          [
           "David Roddy"
          ],
          [
           "David Roddy"
          ],
          [
           "Drew Eubanks"
          ],
          [
           "Marvin Bagley III"
          ],
          [
           "Mo Bamba"
          ],
          [
           "Mo Bamba"
          ],
          [
           "Torrey Craig"
          ],
          [
           "Torrey Craig"
          ],
          [
           "Wendell Moore Jr."
          ],
          [
           "Maxwell Lewis"
          ],
          [
           "Colby Jones"
          ],
          [
           "Patty Mills"
          ],
          [
           "Markieff Morris"
          ],
          [
           "Elfrid Payton"
          ],
          [
           "Elfrid Payton"
          ],
          [
           "Delon Wright"
          ],
          [
           "Kylor Kelley"
          ],
          [
           "Jaden Springer"
          ],
          [
           "Jaden Springer"
          ],
          [
           "MarJon Beauchamp"
          ],
          [
           "Patrick Baldwin Jr."
          ],
          [
           "Jordan McLaughlin"
          ],
          [
           "Jericho Sims"
          ],
          [
           "Alex Len"
          ],
          [
           "Alex Len"
          ],
          [
           "Sidy Cissoko"
          ]
         ],
         "hovertemplate": "Salary ($M)=%{x:.2f}<br>eFG%=%{y}<br>Player=%{customdata[0]}<extra></extra>",
         "legendgroup": "",
         "marker": {
          "color": "skyblue",
          "symbol": "circle"
         },
         "mode": "markers",
         "name": "",
         "orientation": "v",
         "showlegend": false,
         "type": "scatter",
         "x": [
          35.85995,
          48.787676,
          51.415938,
          42.1764,
          34.84834,
          51.179021,
          35.147,
          13.940809,
          24.960001,
          12.1608,
          49.2058,
          35.147,
          48.787676,
          41,
          36.72567,
          55.761216,
          48.728845,
          49.2058,
          12.76896,
          7.007092,
          43.03194,
          35.41031,
          4.041249,
          29,
          51.415938,
          36.72567,
          33.653846,
          49.2058,
          23.4,
          36.0162,
          25.257798,
          19.241379,
          4.77576,
          49.2058,
          36.0162,
          5.159854,
          25.794643,
          33.333333,
          12.483048,
          11.4246,
          36.72567,
          29.651786,
          12,
          27.173913,
          12.976362,
          42.1764,
          29.268293,
          10.13098,
          25.892857,
          34.00525,
          40.5,
          5.424654,
          26.58,
          42.1764,
          4.510905,
          22.5,
          33.07392,
          42.1764,
          11.227657,
          6.61416,
          20,
          18.35,
          35.85995,
          34.84834,
          36.637932,
          23.3,
          7.97724,
          29.517135,
          17.405203,
          32.5,
          50.20393,
          15.625,
          4.0842,
          11.74321,
          20.071429,
          6,
          29.347826,
          14.092577,
          49.2058,
          9.188385,
          7.24572,
          19.9285,
          3.08964,
          7.636307,
          4.02036,
          4.09428,
          7.983,
          10.88064,
          9.10512,
          22.841455,
          15.5,
          8.352367,
          19.5,
          34.005126,
          4.76376,
          29.793104,
          6.696429,
          13.986432,
          6.05952,
          4.908373,
          9.24996,
          42.846615,
          22.255493,
          15.873016,
          12.578286,
          25.365854,
          18.144,
          20,
          14,
          5.631296,
          5.631296,
          8.571429,
          17,
          23,
          11.24568,
          11,
          22.5,
          10.25916,
          19,
          12.56904,
          3.960531,
          2.560975,
          8.80956,
          0.780932,
          18,
          6.94524,
          7,
          13.39416,
          23.017242,
          9.77088,
          0.113055,
          3.69516,
          43.827586,
          11,
          10.514017,
          4.53684,
          11.445,
          3.51996,
          5.705887,
          5.57004,
          1.891857,
          30,
          8.780488,
          30,
          2.96592,
          2.087519,
          2.087519,
          16.193183,
          19.406,
          2.087519,
          2.57148,
          4.52568,
          0.596581,
          15.625,
          2.162606,
          24.924126,
          12.975,
          4.31028,
          1.157153,
          13.02525,
          1.988598,
          27.556817,
          12.976362,
          12.822,
          12.99165,
          2.087519,
          2.726603,
          16.5,
          0.425619,
          9.52381,
          8.376,
          10.81,
          2.019699,
          6.133005,
          3,
          2.087519,
          2.5872,
          4.45488,
          5.803269,
          3.938271,
          3,
          4.710144,
          1.891857,
          4.3125,
          12.9,
          7.60776,
          15.212068,
          3.37908,
          4.2318,
          5.75688,
          11.95,
          3.24408,
          3.81912,
          0.1,
          9.3,
          3.1932,
          9.375,
          24.107143,
          0.119972,
          9.5,
          2.55252,
          18,
          22.26528,
          3.087519,
          9.25,
          1.8,
          3.5,
          10.46,
          0.119972,
          22.757,
          2.51268,
          3.15,
          2.82552,
          2.019699,
          5.01456,
          0.635853,
          5.19552,
          3.6858,
          3.465,
          2.092344,
          11.205,
          0.446743,
          0.446743,
          5.55588,
          2.19697,
          12.5,
          2.120693,
          0.047989,
          9.975962,
          2.087519,
          8.571429,
          0.43892,
          2.41356,
          3.989122,
          1.407153,
          21.395348,
          2.230253,
          11.025,
          2.120693,
          12.654321,
          12.648321,
          2.087519,
          1.891857,
          5,
          9.057971,
          3.62844,
          1.891857,
          2.162606,
          2.164993,
          0.066503,
          1,
          9.89,
          1.862265,
          0.107027,
          4.435381,
          0.073153,
          2.5308,
          2.088033,
          2.087519,
          1.157153,
          2.087519,
          3.303771,
          2.463946,
          0.126356,
          2.425404,
          6,
          1.891857,
          2.75508,
          2.120693,
          6.8364,
          2.087519,
          5.2,
          2.087519,
          8,
          3,
          9.13,
          5.168,
          8.24532,
          11,
          2.087519,
          2.19697,
          6.669,
          1.862265,
          1.091887,
          1.091887,
          10.185186,
          6.36252,
          1.891857,
          2.087519,
          0.011997,
          15,
          2.237691,
          7.692308,
          2.019699,
          1.157153,
          12.428571,
          0.957763,
          3.11424,
          1.34369,
          0.223718,
          4.668,
          8,
          25,
          6.166667,
          4.299,
          9.423869,
          3.85,
          2.66388,
          2.087519,
          2.019699,
          0.647851,
          14.318182,
          3.21792,
          2.162606,
          8,
          5.84868,
          1.157153,
          1.891857,
          5.46912,
          6.26292,
          5.27832,
          8,
          2.087519,
          3.51048,
          2.087519,
          0.600545,
          4.033748,
          4.033748,
          10.09896,
          0.623856,
          6.5,
          2.54664,
          2.087519,
          0.491887,
          1.157153,
          2.99004,
          2.04878,
          0.492323,
          2.019699,
          1.05,
          1.891857,
          3.913234,
          1.891857,
          10.714286,
          4.668,
          0.119972,
          3.051153,
          12.6,
          2.087519,
          2.8704,
          0.496519,
          4.689,
          5.02704,
          2.087519,
          1.891857,
          2.62428,
          2.49432,
          7.565217,
          3.32616,
          2.162606,
          3.303771,
          2.087519,
          5.168,
          1.115128,
          1.891857,
          0.152957,
          0.503883,
          2.087519,
          0.515881,
          8.888889,
          2.463946,
          7.5,
          11,
          1.891857,
          12.025777,
          12.025777,
          0.731831,
          2.087519,
          1.157153,
          0.724883,
          1.655619,
          2.019699,
          1.891857,
          2.237691,
          2.62236,
          0.43881,
          5.29116,
          6.165,
          1.157153,
          0.011997,
          5.893768,
          1.850842,
          4,
          2.087519,
          2.53392,
          1.064049,
          1.257153,
          2.087519,
          2.087519,
          0.706898,
          1.80808,
          2.087519,
          1.891857,
          0.066503,
          1.891857,
          0.621439,
          1.157153,
          1.891857,
          0.119972,
          0.066503,
          0.011997,
          2.237691,
          1.051255,
          2.087519,
          2.087519,
          0.126356,
          0.119972,
          0.064301,
          4.861772,
          4.861772,
          0.119972,
          0.119972,
          43.03194,
          43.21944,
          34.84834,
          44.53194,
          26.276786,
          48.798677,
          21.696429,
          24.456061,
          4.296682,
          13.02525,
          18.692307,
          16.615384,
          31,
          17.26,
          9.9,
          3.366937,
          3.366937,
          16.830357,
          8.5,
          7.142857,
          5,
          0.745726,
          20.210284,
          18.125,
          12.804878,
          14.924167,
          0.119972,
          23,
          6.451077,
          9.186594,
          11.423077,
          2.795294,
          9.104167,
          8.25,
          3.87984,
          1.69161,
          1.69161,
          3.35268,
          8.12,
          7.723,
          2.087519,
          16.7412,
          7.975,
          4.158439,
          0.227947,
          0.355687,
          0.355687,
          8.780488,
          0.426632,
          0.426632,
          2.875,
          2.32835,
          2.32835,
          40.011909,
          40.011909,
          2.19697,
          0.421081,
          0.421081,
          2.967212,
          2.967212,
          5,
          12.5,
          2.207491,
          2.207491,
          3.625162,
          3.625162,
          2.53704,
          1.891857,
          2.120693,
          2.087519,
          2.087519,
          0.789048,
          0.789048,
          2.087519,
          0.073153,
          4.772772,
          4.772772,
          2.73372,
          2.44884,
          2.087519,
          2.092344,
          2.831348,
          2.831348,
          1.891857
         ],
         "xaxis": "x",
         "y": [
          0.569,
          0.607,
          0.627,
          0.547,
          0.537,
          0.598,
          0.511,
          0.521,
          0.551,
          0.5,
          0.525,
          0.494,
          0.547,
          0.549,
          0.57,
          0.572,
          0.571,
          0.584,
          0.559,
          0.507,
          0.491,
          0.531,
          0.513,
          0.563,
          0.481,
          0.504,
          0.501,
          0.515,
          0.509,
          0.53,
          0.548,
          0.578,
          0.537,
          0.56,
          0.543,
          0.548,
          0.523,
          0.53,
          0.505,
          0.509,
          0.562,
          0.544,
          0.55,
          0.495,
          0.556,
          0.572,
          0.572,
          0.482,
          0.521,
          0.565,
          0.627,
          0.505,
          0.583,
          0.521,
          0.541,
          0.582,
          0.542,
          0.582,
          0.604,
          0.519,
          0.592,
          0.543,
          0.596,
          0.521,
          0.559,
          0.57,
          0.536,
          0.445,
          0.513,
          0.517,
          0.571,
          0.55,
          0.485,
          0.628,
          0.58,
          0.579,
          0.532,
          0.493,
          0.514,
          0.489,
          0.516,
          0.577,
          0.634,
          0.495,
          0.553,
          0.604,
          0.518,
          0.554,
          0.476,
          0.607,
          0.521,
          0.531,
          0.628,
          0.573,
          0.498,
          0.467,
          0.62,
          0.556,
          0.536,
          0.509,
          0.575,
          0.483,
          0.533,
          0.535,
          0.52,
          0.534,
          0.579,
          0.706,
          0.602,
          0.505,
          0.505,
          0.551,
          0.597,
          0.599,
          0.457,
          0.616,
          0.467,
          0.496,
          0.538,
          0.537,
          0.576,
          0.606,
          0.538,
          0.526,
          0.622,
          0.472,
          0.561,
          0.702,
          0.537,
          0.525,
          0.485,
          0.543,
          0.669,
          0.617,
          0.577,
          0.692,
          0.568,
          0.537,
          0.558,
          0.565,
          0.552,
          0.581,
          0.546,
          0.538,
          0.671,
          0.568,
          0.496,
          0.529,
          0.581,
          0.593,
          0.59,
          0.471,
          0.5,
          0.6,
          0.47,
          0.462,
          0.621,
          0.593,
          0.527,
          0.549,
          0.498,
          0.568,
          0.5,
          0.528,
          0.604,
          0.57,
          0.51,
          0.578,
          0.546,
          0.593,
          0.547,
          0.586,
          0.506,
          0.511,
          0.549,
          0.553,
          0.482,
          0.493,
          0.544,
          0.57,
          0.576,
          0.511,
          0.495,
          0.553,
          0.494,
          0.473,
          0.594,
          0.525,
          0.592,
          0.6,
          0.498,
          0.474,
          0.576,
          0.508,
          0.531,
          0.547,
          0.58,
          0.503,
          0.512,
          0.547,
          0.529,
          0.49,
          0.559,
          0.554,
          0.609,
          0.601,
          0.507,
          0.547,
          0.564,
          0.543,
          0.459,
          0.563,
          0.476,
          0.527,
          0.702,
          0.513,
          0.541,
          0.501,
          0.487,
          0.627,
          0.626,
          0.411,
          0.411,
          0.55,
          0.462,
          0.622,
          0.639,
          0.585,
          0.535,
          0.6,
          0.554,
          0.582,
          0.533,
          0.538,
          0.619,
          0.504,
          0.562,
          0.597,
          0.612,
          0.543,
          0.647,
          0.587,
          0.442,
          0.506,
          0.615,
          0.495,
          0.452,
          0.651,
          0.567,
          0.438,
          0.581,
          0.541,
          0.476,
          0.463,
          0.609,
          0.536,
          0.516,
          0.648,
          0.506,
          0.558,
          0.612,
          0.564,
          0.722,
          0.428,
          0.5,
          0.517,
          0.576,
          0.561,
          0.479,
          0.56,
          0.599,
          0.572,
          0.527,
          0.528,
          0.557,
          0.626,
          0.525,
          0.517,
          0.53,
          0.609,
          0.536,
          0.576,
          0.462,
          0.577,
          0.577,
          0.569,
          0.576,
          0.482,
          0.668,
          0.357,
          0.586,
          0.5,
          0.504,
          0.577,
          0.703,
          0.647,
          0.596,
          0.578,
          0.596,
          0.528,
          0.571,
          0.624,
          0.474,
          0.561,
          0.426,
          0.542,
          0.461,
          0.537,
          0.505,
          0.576,
          0.588,
          0.661,
          0.547,
          0.65,
          0.569,
          0.306,
          0.517,
          0.533,
          0.391,
          0.5,
          0.479,
          0.518,
          0.619,
          0.517,
          0.581,
          0.656,
          0.485,
          0.485,
          0.452,
          0.524,
          0.497,
          0.531,
          0.508,
          0.562,
          0.604,
          0.468,
          0.524,
          0.558,
          0.589,
          0.463,
          0.539,
          0.535,
          0.553,
          0.525,
          0.622,
          0.423,
          0.368,
          0.545,
          0.474,
          0.437,
          0.557,
          0.441,
          0.524,
          0.65,
          0.589,
          0.481,
          0.473,
          0.527,
          0.497,
          0.543,
          0.529,
          0.615,
          0.422,
          0.531,
          0.553,
          0.669,
          0.556,
          0.426,
          0.484,
          0.557,
          0.473,
          0.519,
          0.453,
          0.465,
          0.643,
          0.643,
          0.448,
          0.5,
          0.61,
          0.75,
          0.409,
          0.567,
          0.471,
          0.545,
          0.444,
          0.431,
          0.455,
          0.577,
          0.381,
          0.412,
          0.577,
          0.462,
          0.705,
          0.415,
          0.5,
          0.677,
          0.7,
          0.35,
          0.462,
          0.633,
          0.419,
          0.437,
          0.452,
          0.143,
          0.4,
          0.419,
          0.333,
          0.333,
          0.625,
          0.333,
          0,
          0.292,
          1,
          0.326,
          0.364,
          0,
          0,
          0,
          0,
          0,
          0,
          0,
          0.536,
          0.536,
          0.514,
          0.609,
          0.526,
          0.531,
          0.573,
          0.493,
          0.565,
          0.483,
          0.479,
          0.556,
          0.546,
          0.534,
          0.557,
          0.492,
          0.492,
          0.535,
          0.595,
          0.525,
          0.591,
          0.514,
          0.488,
          0.523,
          0.562,
          0.597,
          0.552,
          0.464,
          0.557,
          0.485,
          0.569,
          0.441,
          0.578,
          0.519,
          0.449,
          0.477,
          0.477,
          0.564,
          0.485,
          0.43,
          0.583,
          0.56,
          0.59,
          0.534,
          0.468,
          0.638,
          0.638,
          0.51,
          0.694,
          0.694,
          0.528,
          0.509,
          0.509,
          0.52,
          0.52,
          0.498,
          0.48,
          0.48,
          0.532,
          0.532,
          0.601,
          0.533,
          0.531,
          0.531,
          0.556,
          0.556,
          0.524,
          0.505,
          0.519,
          0.51,
          0.364,
          0.332,
          0.332,
          0.42,
          0.636,
          0.456,
          0.456,
          0.492,
          0.729,
          0.563,
          0.634,
          0.524,
          0.524,
          0.483
         ],
         "yaxis": "y"
        },
        {
         "hovertemplate": "<b>OLS trendline</b><br>eFG% = 0.00111543 * Salary_M + 0.516521<br>R<sup>2</sup>=0.019561<br><br>Salary ($M)=%{x:.2f}<br>eFG%=%{y} <b>(trend)</b><extra></extra>",
         "legendgroup": "",
         "line": {
          "color": "black"
         },
         "marker": {
          "color": "skyblue",
          "symbol": "circle"
         },
         "mode": "lines",
         "name": "",
         "showlegend": false,
         "type": "scatter",
         "x": [
          0.011997,
          0.011997,
          0.011997,
          0.047989,
          0.064301,
          0.066503,
          0.066503,
          0.066503,
          0.073153,
          0.073153,
          0.1,
          0.107027,
          0.113055,
          0.119972,
          0.119972,
          0.119972,
          0.119972,
          0.119972,
          0.119972,
          0.119972,
          0.119972,
          0.126356,
          0.126356,
          0.152957,
          0.223718,
          0.227947,
          0.355687,
          0.355687,
          0.421081,
          0.421081,
          0.425619,
          0.426632,
          0.426632,
          0.43881,
          0.43892,
          0.446743,
          0.446743,
          0.491887,
          0.492323,
          0.496519,
          0.503883,
          0.515881,
          0.596581,
          0.600545,
          0.621439,
          0.623856,
          0.635853,
          0.647851,
          0.706898,
          0.724883,
          0.731831,
          0.745726,
          0.780932,
          0.789048,
          0.789048,
          0.957763,
          1,
          1.05,
          1.051255,
          1.064049,
          1.091887,
          1.091887,
          1.115128,
          1.157153,
          1.157153,
          1.157153,
          1.157153,
          1.157153,
          1.157153,
          1.157153,
          1.157153,
          1.257153,
          1.34369,
          1.407153,
          1.655619,
          1.69161,
          1.69161,
          1.8,
          1.80808,
          1.850842,
          1.862265,
          1.862265,
          1.891857,
          1.891857,
          1.891857,
          1.891857,
          1.891857,
          1.891857,
          1.891857,
          1.891857,
          1.891857,
          1.891857,
          1.891857,
          1.891857,
          1.891857,
          1.891857,
          1.891857,
          1.891857,
          1.891857,
          1.891857,
          1.988598,
          2.019699,
          2.019699,
          2.019699,
          2.019699,
          2.019699,
          2.019699,
          2.04878,
          2.087519,
          2.087519,
          2.087519,
          2.087519,
          2.087519,
          2.087519,
          2.087519,
          2.087519,
          2.087519,
          2.087519,
          2.087519,
          2.087519,
          2.087519,
          2.087519,
          2.087519,
          2.087519,
          2.087519,
          2.087519,
          2.087519,
          2.087519,
          2.087519,
          2.087519,
          2.087519,
          2.087519,
          2.087519,
          2.087519,
          2.087519,
          2.087519,
          2.087519,
          2.087519,
          2.087519,
          2.087519,
          2.087519,
          2.088033,
          2.092344,
          2.092344,
          2.120693,
          2.120693,
          2.120693,
          2.120693,
          2.162606,
          2.162606,
          2.162606,
          2.162606,
          2.164993,
          2.19697,
          2.19697,
          2.19697,
          2.207491,
          2.207491,
          2.230253,
          2.237691,
          2.237691,
          2.237691,
          2.32835,
          2.32835,
          2.41356,
          2.425404,
          2.44884,
          2.463946,
          2.463946,
          2.49432,
          2.51268,
          2.5308,
          2.53392,
          2.53704,
          2.54664,
          2.55252,
          2.560975,
          2.57148,
          2.5872,
          2.62236,
          2.62428,
          2.66388,
          2.726603,
          2.73372,
          2.75508,
          2.795294,
          2.82552,
          2.831348,
          2.831348,
          2.8704,
          2.875,
          2.96592,
          2.967212,
          2.967212,
          2.99004,
          3,
          3,
          3,
          3.051153,
          3.087519,
          3.08964,
          3.11424,
          3.15,
          3.1932,
          3.21792,
          3.24408,
          3.303771,
          3.303771,
          3.32616,
          3.35268,
          3.366937,
          3.366937,
          3.37908,
          3.465,
          3.5,
          3.51048,
          3.51996,
          3.625162,
          3.625162,
          3.62844,
          3.6858,
          3.69516,
          3.81912,
          3.85,
          3.87984,
          3.913234,
          3.938271,
          3.960531,
          3.989122,
          4,
          4.02036,
          4.033748,
          4.033748,
          4.041249,
          4.0842,
          4.09428,
          4.158439,
          4.2318,
          4.296682,
          4.299,
          4.31028,
          4.3125,
          4.435381,
          4.45488,
          4.510905,
          4.52568,
          4.53684,
          4.668,
          4.668,
          4.689,
          4.710144,
          4.76376,
          4.772772,
          4.772772,
          4.77576,
          4.861772,
          4.861772,
          4.908373,
          5,
          5,
          5,
          5.01456,
          5.02704,
          5.159854,
          5.168,
          5.168,
          5.19552,
          5.2,
          5.27832,
          5.29116,
          5.424654,
          5.46912,
          5.55588,
          5.57004,
          5.631296,
          5.631296,
          5.705887,
          5.75688,
          5.803269,
          5.84868,
          5.893768,
          6,
          6,
          6.05952,
          6.133005,
          6.165,
          6.166667,
          6.26292,
          6.36252,
          6.451077,
          6.5,
          6.61416,
          6.669,
          6.696429,
          6.8364,
          6.94524,
          7,
          7.007092,
          7.142857,
          7.24572,
          7.5,
          7.565217,
          7.60776,
          7.636307,
          7.692308,
          7.723,
          7.975,
          7.97724,
          7.983,
          8,
          8,
          8,
          8,
          8.12,
          8.24532,
          8.25,
          8.352367,
          8.376,
          8.5,
          8.571429,
          8.571429,
          8.780488,
          8.780488,
          8.80956,
          8.888889,
          9.057971,
          9.104167,
          9.10512,
          9.13,
          9.186594,
          9.188385,
          9.24996,
          9.25,
          9.3,
          9.375,
          9.423869,
          9.5,
          9.52381,
          9.77088,
          9.89,
          9.9,
          9.975962,
          10.09896,
          10.13098,
          10.185186,
          10.25916,
          10.46,
          10.514017,
          10.714286,
          10.81,
          10.88064,
          11,
          11,
          11,
          11,
          11.025,
          11.205,
          11.227657,
          11.24568,
          11.423077,
          11.4246,
          11.445,
          11.74321,
          11.95,
          12,
          12.025777,
          12.025777,
          12.1608,
          12.428571,
          12.483048,
          12.5,
          12.5,
          12.56904,
          12.578286,
          12.6,
          12.648321,
          12.654321,
          12.76896,
          12.804878,
          12.822,
          12.9,
          12.975,
          12.976362,
          12.976362,
          12.99165,
          13.02525,
          13.02525,
          13.39416,
          13.940809,
          13.986432,
          14,
          14.092577,
          14.318182,
          14.924167,
          15,
          15.212068,
          15.5,
          15.625,
          15.625,
          15.873016,
          16.193183,
          16.5,
          16.615384,
          16.7412,
          16.830357,
          17,
          17.26,
          17.405203,
          18,
          18,
          18.125,
          18.144,
          18.35,
          18.692307,
          19,
          19.241379,
          19.406,
          19.5,
          19.9285,
          20,
          20,
          20.071429,
          20.210284,
          21.395348,
          21.696429,
          22.255493,
          22.26528,
          22.5,
          22.5,
          22.757,
          22.841455,
          23,
          23,
          23.017242,
          23.3,
          23.4,
          24.107143,
          24.456061,
          24.924126,
          24.960001,
          25,
          25.257798,
          25.365854,
          25.794643,
          25.892857,
          26.276786,
          26.58,
          27.173913,
          27.556817,
          29,
          29.268293,
          29.347826,
          29.517135,
          29.651786,
          29.793104,
          30,
          30,
          31,
          32.5,
          33.07392,
          33.333333,
          33.653846,
          34.005126,
          34.00525,
          34.84834,
          34.84834,
          34.84834,
          35.147,
          35.147,
          35.41031,
          35.85995,
          35.85995,
          36.0162,
          36.0162,
          36.637932,
          36.72567,
          36.72567,
          36.72567,
          40.011909,
          40.011909,
          40.5,
          41,
          42.1764,
          42.1764,
          42.1764,
          42.1764,
          42.846615,
          43.03194,
          43.03194,
          43.21944,
          43.827586,
          44.53194,
          48.728845,
          48.787676,
          48.787676,
          48.798677,
          49.2058,
          49.2058,
          49.2058,
          49.2058,
          49.2058,
          50.20393,
          51.179021,
          51.415938,
          51.415938,
          55.761216
         ],
         "xaxis": "x",
         "y": [
          0.5165345937038939,
          0.5165345937038939,
          0.5165345937038939,
          0.5165747403526141,
          0.5165929352885421,
          0.5165953914710405,
          0.5165953914710405,
          0.5165953914710405,
          0.5166028090975683,
          0.5166028090975683,
          0.5166327551155221,
          0.5166405932601252,
          0.5166473170876004,
          0.5166550325346219,
          0.5166550325346219,
          0.5166550325346219,
          0.5166550325346219,
          0.5166550325346219,
          0.5166550325346219,
          0.5166550325346219,
          0.5166550325346219,
          0.5166621534560886,
          0.5166621534560886,
          0.5166918250776323,
          0.5167707542010512,
          0.5167754713653498,
          0.5169179567206376,
          0.5169179567206376,
          0.5169908993175037,
          0.5169908993175037,
          0.5169959611504636,
          0.5169970910836476,
          0.5169970910836476,
          0.5170106748213702,
          0.5170107975189518,
          0.5170195235478733,
          0.5170195235478733,
          0.5170698786353878,
          0.5170703649639842,
          0.5170750453190084,
          0.5170832593643845,
          0.5170966423242462,
          0.5171866577318845,
          0.5171910793065546,
          0.5172143851544753,
          0.5172170811549742,
          0.5172304629994035,
          0.5172438459592652,
          0.5173097089056694,
          0.5173297699602714,
          0.5173375199857022,
          0.5173530189211314,
          0.517392288839859,
          0.5174013416905205,
          0.5174013416905205,
          0.5175895318949778,
          0.5176366444200389,
          0.5176924160480675,
          0.517693815915931,
          0.517708086760111,
          0.5177391381717323,
          0.5177391381717323,
          0.5177650619398726,
          0.5178119379932308,
          0.5178119379932308,
          0.5178119379932308,
          0.5178119379932308,
          0.5178119379932308,
          0.5178119379932308,
          0.5178119379932308,
          0.5178119379932308,
          0.5179234812492881,
          0.5180200074367826,
          0.5180907961333743,
          0.5183679431999699,
          0.5184080887332575,
          0.5184080887332575,
          0.5185289904684982,
          0.5185380031635876,
          0.5185857012907429,
          0.5185984428768823,
          0.5185984428768823,
          0.5186314507572148,
          0.5186314507572148,
          0.5186314507572148,
          0.5186314507572148,
          0.5186314507572148,
          0.5186314507572148,
          0.5186314507572148,
          0.5186314507572148,
          0.5186314507572148,
          0.5186314507572148,
          0.5186314507572148,
          0.5186314507572148,
          0.5186314507572148,
          0.5186314507572148,
          0.5186314507572148,
          0.5186314507572148,
          0.5186314507572148,
          0.5186314507572148,
          0.5187393588185574,
          0.5187740498866238,
          0.5187740498866238,
          0.5187740498866238,
          0.5187740498866238,
          0.5187740498866238,
          0.5187740498866238,
          0.5188064877809178,
          0.5188496985228819,
          0.5188496985228819,
          0.5188496985228819,
          0.5188496985228819,
          0.5188496985228819,
          0.5188496985228819,
          0.5188496985228819,
          0.5188496985228819,
          0.5188496985228819,
          0.5188496985228819,
          0.5188496985228819,
          0.5188496985228819,
          0.5188496985228819,
          0.5188496985228819,
          0.5188496985228819,
          0.5188496985228819,
          0.5188496985228819,
          0.5188496985228819,
          0.5188496985228819,
          0.5188496985228819,
          0.5188496985228819,
          0.5188496985228819,
          0.5188496985228819,
          0.5188496985228819,
          0.5188496985228819,
          0.5188496985228819,
          0.5188496985228819,
          0.5188496985228819,
          0.5188496985228819,
          0.5188496985228819,
          0.5188496985228819,
          0.5188496985228819,
          0.5188496985228819,
          0.518850271855218,
          0.5188550804849866,
          0.5188550804849866,
          0.5188867018826464,
          0.5188867018826464,
          0.5188867018826464,
          0.5188867018826464,
          0.5189334530075577,
          0.5189334530075577,
          0.5189334530075577,
          0.5189334530075577,
          0.5189361155450798,
          0.5189717837320693,
          0.5189717837320693,
          0.5189717837320693,
          0.5189835191980391,
          0.5189835191980391,
          0.5190089086739829,
          0.5190172052613684,
          0.5190172052613684,
          0.5190172052613684,
          0.5191183292618775,
          0.5191183292618775,
          0.519213375270364,
          0.5192265864536115,
          0.5192527277311011,
          0.5192695774553612,
          0.5192695774553612,
          0.519303457603956,
          0.5193239369457682,
          0.5193441485837658,
          0.5193476287333547,
          0.5193511088829438,
          0.5193618170355253,
          0.5193683757789814,
          0.5193778067612811,
          0.5193895243803299,
          0.5194070589801821,
          0.519446277589012,
          0.5194484192195282,
          0.519492590348927,
          0.5195625536254239,
          0.5195704921589575,
          0.5195943177984513,
          0.5196391738034423,
          0.5196728888680182,
          0.5196793896089812,
          0.5196793896089812,
          0.5197229494813368,
          0.5197280804711154,
          0.5198294955995229,
          0.5198309367383911,
          0.5198309367383911,
          0.5198563998328839,
          0.5198675095411872,
          0.5198675095411872,
          0.5198675095411872,
          0.5199245672629582,
          0.5199651310834561,
          0.519967496915917,
          0.5199949365569072,
          0.5200348244252733,
          0.5200830111118901,
          0.5201105846047875,
          0.5201397643205721,
          0.5202063456055454,
          0.5202063456055454,
          0.5202313190251441,
          0.5202609002966505,
          0.5202768030186665,
          0.5202768030186665,
          0.5202903477162496,
          0.5203861856818541,
          0.5204252258214742,
          0.5204369155547091,
          0.5204474898553834,
          0.5205648355916208,
          0.5205648355916208,
          0.5205684919795543,
          0.520632473191229,
          0.5206429136399959,
          0.5207811826602047,
          0.5208156272176752,
          0.5208489117252828,
          0.5208861604802105,
          0.5209140875652296,
          0.5209389170940281,
          0.5209708084263674,
          0.5209829421017613,
          0.5210056523086947,
          0.5210205857198156,
          0.5210205857198156,
          0.5210289525794525,
          0.5210768615233616,
          0.5210881050835723,
          0.5211596701212261,
          0.5212414993693024,
          0.5213138708646976,
          0.521316456437373,
          0.5213290385166562,
          0.5213315147769407,
          0.5214685802454166,
          0.5214903300649153,
          0.5215528221741215,
          0.521569302690204,
          0.52158175091758,
          0.5217280510522249,
          0.5217280510522249,
          0.521751475135997,
          0.5217750598420577,
          0.5218348648742255,
          0.5218449171524614,
          0.5218449171524614,
          0.5218482500649524,
          0.5219441906503525,
          0.5219441906503525,
          0.5219961709231078,
          0.5220983746623356,
          0.5220983746623356,
          0.5220983746623356,
          0.5221146153604175,
          0.5221285359587734,
          0.5222766810188736,
          0.522285767332512,
          0.522285767332512,
          0.5223164640365789,
          0.5223214611744503,
          0.5224088218525945,
          0.5224231440066723,
          0.5225720475609136,
          0.5226216463851521,
          0.5227184213141075,
          0.5227342158391652,
          0.5228025427760957,
          0.5228025427760957,
          0.5228857440062216,
          0.5229426232587829,
          0.5229943670598354,
          0.5230450199678436,
          0.5230953125911347,
          0.5232138072229097,
          0.5232138072229097,
          0.5232801977689151,
          0.5233621653306288,
          0.5233978535954045,
          0.5233997130214829,
          0.5235070767517358,
          0.523618173834769,
          0.5237169531960358,
          0.5237715235031968,
          0.523898861284312,
          0.5239600316059339,
          0.5239906268056378,
          0.5241467550165739,
          0.5242681586964668,
          0.5243292397834839,
          0.5243371504312034,
          0.5244885871327898,
          0.5246033238722682,
          0.524886956063771,
          0.5249597012290739,
          0.5250071550764984,
          0.5250389973298051,
          0.5251014626686299,
          0.525135697524779,
          0.5254167865300436,
          0.5254192850989794,
          0.5254257099905283,
          0.525444672344058,
          0.525444672344058,
          0.525444672344058,
          0.525444672344058,
          0.5255785242513269,
          0.5257183102598181,
          0.5257235304842016,
          0.5258377139691299,
          0.525864074986834,
          0.5260023886243451,
          0.5260820628567143,
          0.5260820628567143,
          0.5263152540723954,
          0.5263152540723954,
          0.5263476819277965,
          0.5264361680773942,
          0.5266247676456013,
          0.5266762961681696,
          0.5266773591753998,
          0.5267051111375068,
          0.52676823792784,
          0.526770235667556,
          0.5268389184274733,
          0.5268389630447757,
          0.5268947346728045,
          0.5269783921148475,
          0.5270329021886502,
          0.5271178211849193,
          0.5271443796341866,
          0.5274199695569276,
          0.5275528398835432,
          0.527563994209149,
          0.5276487246973153,
          0.5277859206714008,
          0.5278216368219903,
          0.5278820999593689,
          0.5279646129676048,
          0.5281886364430705,
          0.528248888763695,
          0.5284722753271687,
          0.5285790378392715,
          0.5286578319953504,
          0.5287909700257806,
          0.5287909700257806,
          0.5287909700257806,
          0.5287909700257806,
          0.5288188558397949,
          0.5290196337006983,
          0.5290449060562232,
          0.5290650094972624,
          0.5292628838872105,
          0.5292645826910003,
          0.529287337515236,
          0.5296199706591249,
          0.5298506309583261,
          0.5299064025863547,
          0.5299351550914686,
          0.5299351550914686,
          0.5300857641420951,
          0.5303844446342726,
          0.530445210053875,
          0.5304641188666418,
          0.5304641188666418,
          0.5305411283306238,
          0.530551441620079,
          0.5305756621226992,
          0.5306295609394588,
          0.5306362535348221,
          0.5307641256081338,
          0.5308041897148446,
          0.5308232881511467,
          0.5309102918908715,
          0.5309939493329145,
          0.530995468552062,
          0.530995468552062,
          0.5310125212850481,
          0.5310499998190834,
          0.5310499998190834,
          0.5314614940450049,
          0.5320712441388101,
          0.5321221335185212,
          0.532137267707503,
          0.5322405311076633,
          0.5324921782704917,
          0.5331681136707113,
          0.5332527002680773,
          0.5334892478203331,
          0.5338104165483644,
          0.5339498456184361,
          0.5339498456184361,
          0.5342264907403794,
          0.5345836154370008,
          0.5349258491089385,
          0.5350545521795078,
          0.535194891442549,
          0.5352943400633521,
          0.5354835653892256,
          0.5357735778549749,
          0.5359355420090679,
          0.5365989979497998,
          0.5365989979497998,
          0.5367384270198715,
          0.5367596202385224,
          0.5369893993460008,
          0.5373712197195132,
          0.5377144305103739,
          0.5379836725064128,
          0.538167296129967,
          0.538272146790661,
          0.5387501096428671,
          0.5388298630709482,
          0.5388298630709482,
          0.5389095373033174,
          0.5390644206915159,
          0.5403862796634802,
          0.5407221152142504,
          0.5413457134032953,
          0.5413566301417656,
          0.5416184444723835,
          0.5416184444723835,
          0.5419051106404511,
          0.5419993144973544,
          0.5421761607526706,
          0.5421761607526706,
          0.54219539304088,
          0.542510790520843,
          0.5426223337769003,
          0.5434111041040824,
          0.5438002986022529,
          0.544322393543718,
          0.5443624096868286,
          0.544407025873819,
          0.5446945821570699,
          0.5448151113378353,
          0.5452933965500514,
          0.5454029476435556,
          0.5458311945511043,
          0.5461694093195262,
          0.5468318792178745,
          0.5472589828070485,
          0.5488687561161156,
          0.5491680188640898,
          0.54925673256193,
          0.5494455853333282,
          0.549595779443042,
          0.5497534101416373,
          0.5499841886766899,
          0.5499841886766899,
          0.5510996212372641,
          0.5527727700781253,
          0.55341293913329,
          0.5537022968401263,
          0.5540598074764136,
          0.554451636626292,
          0.5544517749399296,
          0.555392184977424,
          0.555392184977424,
          0.555392184977424,
          0.5557253200659651,
          0.5557253200659651,
          0.55601902461349,
          0.5565205677100264,
          0.5565205677100264,
          0.5566948540476162,
          0.5566948540476162,
          0.557388354164367,
          0.5574862199863667,
          0.5574862199863667,
          0.5574862199863667,
          0.5611517979687954,
          0.5611517979687954,
          0.5616962305627187,
          0.5622539468430058,
          0.5635661417072653,
          0.5635661417072653,
          0.5635661417072653,
          0.5635661417072653,
          0.5643137213408504,
          0.5645204388801388,
          0.5645204388801388,
          0.5647295824852465,
          0.5654079283352295,
          0.5661935877210001,
          0.5708749522116366,
          0.5709405742246078,
          0.5709405742246078,
          0.5709528450982067,
          0.5714069633485653,
          0.5714069633485653,
          0.5714069633485653,
          0.5714069633485653,
          0.5714069633485653,
          0.5725203100502512,
          0.5736079583011741,
          0.5738722232371276,
          0.5738722232371276,
          0.5787190878030742
         ],
         "yaxis": "y"
        }
       ],
       "layout": {
        "autosize": true,
        "legend": {
         "tracegroupgap": 0
        },
        "template": {
         "data": {
          "bar": [
           {
            "error_x": {
             "color": "#2a3f5f"
            },
            "error_y": {
             "color": "#2a3f5f"
            },
            "marker": {
             "line": {
              "color": "white",
              "width": 0.5
             },
             "pattern": {
              "fillmode": "overlay",
              "size": 10,
              "solidity": 0.2
             }
            },
            "type": "bar"
           }
          ],
          "barpolar": [
           {
            "marker": {
             "line": {
              "color": "white",
              "width": 0.5
             },
             "pattern": {
              "fillmode": "overlay",
              "size": 10,
              "solidity": 0.2
             }
            },
            "type": "barpolar"
           }
          ],
          "carpet": [
           {
            "aaxis": {
             "endlinecolor": "#2a3f5f",
             "gridcolor": "#C8D4E3",
             "linecolor": "#C8D4E3",
             "minorgridcolor": "#C8D4E3",
             "startlinecolor": "#2a3f5f"
            },
            "baxis": {
             "endlinecolor": "#2a3f5f",
             "gridcolor": "#C8D4E3",
             "linecolor": "#C8D4E3",
             "minorgridcolor": "#C8D4E3",
             "startlinecolor": "#2a3f5f"
            },
            "type": "carpet"
           }
          ],
          "choropleth": [
           {
            "colorbar": {
             "outlinewidth": 0,
             "ticks": ""
            },
            "type": "choropleth"
           }
          ],
          "contour": [
           {
            "colorbar": {
             "outlinewidth": 0,
             "ticks": ""
            },
            "colorscale": [
             [
              0,
              "#0d0887"
             ],
             [
              0.1111111111111111,
              "#46039f"
             ],
             [
              0.2222222222222222,
              "#7201a8"
             ],
             [
              0.3333333333333333,
              "#9c179e"
             ],
             [
              0.4444444444444444,
              "#bd3786"
             ],
             [
              0.5555555555555556,
              "#d8576b"
             ],
             [
              0.6666666666666666,
              "#ed7953"
             ],
             [
              0.7777777777777778,
              "#fb9f3a"
             ],
             [
              0.8888888888888888,
              "#fdca26"
             ],
             [
              1,
              "#f0f921"
             ]
            ],
            "type": "contour"
           }
          ],
          "contourcarpet": [
           {
            "colorbar": {
             "outlinewidth": 0,
             "ticks": ""
            },
            "type": "contourcarpet"
           }
          ],
          "heatmap": [
           {
            "colorbar": {
             "outlinewidth": 0,
             "ticks": ""
            },
            "colorscale": [
             [
              0,
              "#0d0887"
             ],
             [
              0.1111111111111111,
              "#46039f"
             ],
             [
              0.2222222222222222,
              "#7201a8"
             ],
             [
              0.3333333333333333,
              "#9c179e"
             ],
             [
              0.4444444444444444,
              "#bd3786"
             ],
             [
              0.5555555555555556,
              "#d8576b"
             ],
             [
              0.6666666666666666,
              "#ed7953"
             ],
             [
              0.7777777777777778,
              "#fb9f3a"
             ],
             [
              0.8888888888888888,
              "#fdca26"
             ],
             [
              1,
              "#f0f921"
             ]
            ],
            "type": "heatmap"
           }
          ],
          "heatmapgl": [
           {
            "colorbar": {
             "outlinewidth": 0,
             "ticks": ""
            },
            "colorscale": [
             [
              0,
              "#0d0887"
             ],
             [
              0.1111111111111111,
              "#46039f"
             ],
             [
              0.2222222222222222,
              "#7201a8"
             ],
             [
              0.3333333333333333,
              "#9c179e"
             ],
             [
              0.4444444444444444,
              "#bd3786"
             ],
             [
              0.5555555555555556,
              "#d8576b"
             ],
             [
              0.6666666666666666,
              "#ed7953"
             ],
             [
              0.7777777777777778,
              "#fb9f3a"
             ],
             [
              0.8888888888888888,
              "#fdca26"
             ],
             [
              1,
              "#f0f921"
             ]
            ],
            "type": "heatmapgl"
           }
          ],
          "histogram": [
           {
            "marker": {
             "pattern": {
              "fillmode": "overlay",
              "size": 10,
              "solidity": 0.2
             }
            },
            "type": "histogram"
           }
          ],
          "histogram2d": [
           {
            "colorbar": {
             "outlinewidth": 0,
             "ticks": ""
            },
            "colorscale": [
             [
              0,
              "#0d0887"
             ],
             [
              0.1111111111111111,
              "#46039f"
             ],
             [
              0.2222222222222222,
              "#7201a8"
             ],
             [
              0.3333333333333333,
              "#9c179e"
             ],
             [
              0.4444444444444444,
              "#bd3786"
             ],
             [
              0.5555555555555556,
              "#d8576b"
             ],
             [
              0.6666666666666666,
              "#ed7953"
             ],
             [
              0.7777777777777778,
              "#fb9f3a"
             ],
             [
              0.8888888888888888,
              "#fdca26"
             ],
             [
              1,
              "#f0f921"
             ]
            ],
            "type": "histogram2d"
           }
          ],
          "histogram2dcontour": [
           {
            "colorbar": {
             "outlinewidth": 0,
             "ticks": ""
            },
            "colorscale": [
             [
              0,
              "#0d0887"
             ],
             [
              0.1111111111111111,
              "#46039f"
             ],
             [
              0.2222222222222222,
              "#7201a8"
             ],
             [
              0.3333333333333333,
              "#9c179e"
             ],
             [
              0.4444444444444444,
              "#bd3786"
             ],
             [
              0.5555555555555556,
              "#d8576b"
             ],
             [
              0.6666666666666666,
              "#ed7953"
             ],
             [
              0.7777777777777778,
              "#fb9f3a"
             ],
             [
              0.8888888888888888,
              "#fdca26"
             ],
             [
              1,
              "#f0f921"
             ]
            ],
            "type": "histogram2dcontour"
           }
          ],
          "mesh3d": [
           {
            "colorbar": {
             "outlinewidth": 0,
             "ticks": ""
            },
            "type": "mesh3d"
           }
          ],
          "parcoords": [
           {
            "line": {
             "colorbar": {
              "outlinewidth": 0,
              "ticks": ""
             }
            },
            "type": "parcoords"
           }
          ],
          "pie": [
           {
            "automargin": true,
            "type": "pie"
           }
          ],
          "scatter": [
           {
            "fillpattern": {
             "fillmode": "overlay",
             "size": 10,
             "solidity": 0.2
            },
            "type": "scatter"
           }
          ],
          "scatter3d": [
           {
            "line": {
             "colorbar": {
              "outlinewidth": 0,
              "ticks": ""
             }
            },
            "marker": {
             "colorbar": {
              "outlinewidth": 0,
              "ticks": ""
             }
            },
            "type": "scatter3d"
           }
          ],
          "scattercarpet": [
           {
            "marker": {
             "colorbar": {
              "outlinewidth": 0,
              "ticks": ""
             }
            },
            "type": "scattercarpet"
           }
          ],
          "scattergeo": [
           {
            "marker": {
             "colorbar": {
              "outlinewidth": 0,
              "ticks": ""
             }
            },
            "type": "scattergeo"
           }
          ],
          "scattergl": [
           {
            "marker": {
             "colorbar": {
              "outlinewidth": 0,
              "ticks": ""
             }
            },
            "type": "scattergl"
           }
          ],
          "scattermapbox": [
           {
            "marker": {
             "colorbar": {
              "outlinewidth": 0,
              "ticks": ""
             }
            },
            "type": "scattermapbox"
           }
          ],
          "scatterpolar": [
           {
            "marker": {
             "colorbar": {
              "outlinewidth": 0,
              "ticks": ""
             }
            },
            "type": "scatterpolar"
           }
          ],
          "scatterpolargl": [
           {
            "marker": {
             "colorbar": {
              "outlinewidth": 0,
              "ticks": ""
             }
            },
            "type": "scatterpolargl"
           }
          ],
          "scatterternary": [
           {
            "marker": {
             "colorbar": {
              "outlinewidth": 0,
              "ticks": ""
             }
            },
            "type": "scatterternary"
           }
          ],
          "surface": [
           {
            "colorbar": {
             "outlinewidth": 0,
             "ticks": ""
            },
            "colorscale": [
             [
              0,
              "#0d0887"
             ],
             [
              0.1111111111111111,
              "#46039f"
             ],
             [
              0.2222222222222222,
              "#7201a8"
             ],
             [
              0.3333333333333333,
              "#9c179e"
             ],
             [
              0.4444444444444444,
              "#bd3786"
             ],
             [
              0.5555555555555556,
              "#d8576b"
             ],
             [
              0.6666666666666666,
              "#ed7953"
             ],
             [
              0.7777777777777778,
              "#fb9f3a"
             ],
             [
              0.8888888888888888,
              "#fdca26"
             ],
             [
              1,
              "#f0f921"
             ]
            ],
            "type": "surface"
           }
          ],
          "table": [
           {
            "cells": {
             "fill": {
              "color": "#EBF0F8"
             },
             "line": {
              "color": "white"
             }
            },
            "header": {
             "fill": {
              "color": "#C8D4E3"
             },
             "line": {
              "color": "white"
             }
            },
            "type": "table"
           }
          ]
         },
         "layout": {
          "annotationdefaults": {
           "arrowcolor": "#2a3f5f",
           "arrowhead": 0,
           "arrowwidth": 1
          },
          "autotypenumbers": "strict",
          "coloraxis": {
           "colorbar": {
            "outlinewidth": 0,
            "ticks": ""
           }
          },
          "colorscale": {
           "diverging": [
            [
             0,
             "#8e0152"
            ],
            [
             0.1,
             "#c51b7d"
            ],
            [
             0.2,
             "#de77ae"
            ],
            [
             0.3,
             "#f1b6da"
            ],
            [
             0.4,
             "#fde0ef"
            ],
            [
             0.5,
             "#f7f7f7"
            ],
            [
             0.6,
             "#e6f5d0"
            ],
            [
             0.7,
             "#b8e186"
            ],
            [
             0.8,
             "#7fbc41"
            ],
            [
             0.9,
             "#4d9221"
            ],
            [
             1,
             "#276419"
            ]
           ],
           "sequential": [
            [
             0,
             "#0d0887"
            ],
            [
             0.1111111111111111,
             "#46039f"
            ],
            [
             0.2222222222222222,
             "#7201a8"
            ],
            [
             0.3333333333333333,
             "#9c179e"
            ],
            [
             0.4444444444444444,
             "#bd3786"
            ],
            [
             0.5555555555555556,
             "#d8576b"
            ],
            [
             0.6666666666666666,
             "#ed7953"
            ],
            [
             0.7777777777777778,
             "#fb9f3a"
            ],
            [
             0.8888888888888888,
             "#fdca26"
            ],
            [
             1,
             "#f0f921"
            ]
           ],
           "sequentialminus": [
            [
             0,
             "#0d0887"
            ],
            [
             0.1111111111111111,
             "#46039f"
            ],
            [
             0.2222222222222222,
             "#7201a8"
            ],
            [
             0.3333333333333333,
             "#9c179e"
            ],
            [
             0.4444444444444444,
             "#bd3786"
            ],
            [
             0.5555555555555556,
             "#d8576b"
            ],
            [
             0.6666666666666666,
             "#ed7953"
            ],
            [
             0.7777777777777778,
             "#fb9f3a"
            ],
            [
             0.8888888888888888,
             "#fdca26"
            ],
            [
             1,
             "#f0f921"
            ]
           ]
          },
          "colorway": [
           "#636efa",
           "#EF553B",
           "#00cc96",
           "#ab63fa",
           "#FFA15A",
           "#19d3f3",
           "#FF6692",
           "#B6E880",
           "#FF97FF",
           "#FECB52"
          ],
          "font": {
           "color": "#2a3f5f"
          },
          "geo": {
           "bgcolor": "white",
           "lakecolor": "white",
           "landcolor": "white",
           "showlakes": true,
           "showland": true,
           "subunitcolor": "#C8D4E3"
          },
          "hoverlabel": {
           "align": "left"
          },
          "hovermode": "closest",
          "mapbox": {
           "style": "light"
          },
          "paper_bgcolor": "white",
          "plot_bgcolor": "white",
          "polar": {
           "angularaxis": {
            "gridcolor": "#EBF0F8",
            "linecolor": "#EBF0F8",
            "ticks": ""
           },
           "bgcolor": "white",
           "radialaxis": {
            "gridcolor": "#EBF0F8",
            "linecolor": "#EBF0F8",
            "ticks": ""
           }
          },
          "scene": {
           "xaxis": {
            "backgroundcolor": "white",
            "gridcolor": "#DFE8F3",
            "gridwidth": 2,
            "linecolor": "#EBF0F8",
            "showbackground": true,
            "ticks": "",
            "zerolinecolor": "#EBF0F8"
           },
           "yaxis": {
            "backgroundcolor": "white",
            "gridcolor": "#DFE8F3",
            "gridwidth": 2,
            "linecolor": "#EBF0F8",
            "showbackground": true,
            "ticks": "",
            "zerolinecolor": "#EBF0F8"
           },
           "zaxis": {
            "backgroundcolor": "white",
            "gridcolor": "#DFE8F3",
            "gridwidth": 2,
            "linecolor": "#EBF0F8",
            "showbackground": true,
            "ticks": "",
            "zerolinecolor": "#EBF0F8"
           }
          },
          "shapedefaults": {
           "line": {
            "color": "#2a3f5f"
           }
          },
          "ternary": {
           "aaxis": {
            "gridcolor": "#DFE8F3",
            "linecolor": "#A2B1C6",
            "ticks": ""
           },
           "baxis": {
            "gridcolor": "#DFE8F3",
            "linecolor": "#A2B1C6",
            "ticks": ""
           },
           "bgcolor": "white",
           "caxis": {
            "gridcolor": "#DFE8F3",
            "linecolor": "#A2B1C6",
            "ticks": ""
           }
          },
          "title": {
           "x": 0.05
          },
          "xaxis": {
           "automargin": true,
           "gridcolor": "#EBF0F8",
           "linecolor": "#EBF0F8",
           "ticks": "",
           "title": {
            "standoff": 15
           },
           "zerolinecolor": "#EBF0F8",
           "zerolinewidth": 2
          },
          "yaxis": {
           "automargin": true,
           "gridcolor": "#EBF0F8",
           "linecolor": "#EBF0F8",
           "ticks": "",
           "title": {
            "standoff": 15
           },
           "zerolinecolor": "#EBF0F8",
           "zerolinewidth": 2
          }
         }
        },
        "title": {
         "text": "Salary vs eFG%"
        },
        "xaxis": {
         "anchor": "y",
         "autorange": true,
         "domain": [
          0,
          1
         ],
         "range": [
          -3.5706330611285266,
          59.343846061128524
         ],
         "tickprefix": "$",
         "ticksuffix": "M",
         "title": {
          "text": "Salary ($M)"
         },
         "type": "linear"
        },
        "yaxis": {
         "anchor": "x",
         "autorange": true,
         "domain": [
          0,
          1
         ],
         "range": [
          -0.0825242718446602,
          1.0825242718446602
         ],
         "title": {
          "text": "eFG%"
         },
         "type": "linear"
        }
       }
      },
      "text/html": [
       "<div>                            <div id=\"3aa1300c-9714-4202-a368-f9db3c546be2\" class=\"plotly-graph-div\" style=\"height:525px; width:100%;\"></div>            <script type=\"text/javascript\">                require([\"plotly\"], function(Plotly) {                    window.PLOTLYENV=window.PLOTLYENV || {};                                    if (document.getElementById(\"3aa1300c-9714-4202-a368-f9db3c546be2\")) {                    Plotly.newPlot(                        \"3aa1300c-9714-4202-a368-f9db3c546be2\",                        [{\"customdata\":[[\"Shai Gilgeous-Alexander\"],[\"Giannis Antetokounmpo\"],[\"Nikola Jokic\"],[\"Anthony Edwards\"],[\"Jayson Tatum\"],[\"Kevin Durant\"],[\"Tyrese Maxey\"],[\"Cade Cunningham\"],[\"Jalen Brunson\"],[\"Paolo Banchero\"],[\"Devin Booker\"],[\"LaMelo Ball\"],[\"Damian Lillard\"],[\"Kyrie Irving\"],[\"Zion Williamson\"],[\"Stephen Curry\"],[\"LeBron James\"],[\"Karl-Anthony Towns\"],[\"Victor Wembanyama\"],[\"Franz Wagner\"],[\"Trae Young\"],[\"Donovan Mitchell\"],[\"Cam Thomas\"],[\"Tyler Herro\"],[\"Joel Embiid\"],[\"Ja Morant\"],[\"James Harden\"],[\"Jaylen Brown\"],[\"DeMar DeRozan\"],[\"Brandon Ingram\"],[\"Jaren Jackson Jr.\"],[\"Norman Powell\"],[\"Jalen Williams\"],[\"Kawhi Leonard\"],[\"Jamal Murray\"],[\"Trey Murphy III\"],[\"RJ Barrett\"],[\"CJ McCollum\"],[\"Jalen Green\"],[\"Brandon Miller\"],[\"Darius Garland\"],[\"Jordan Poole\"],[\"Coby White\"],[\"Miles Bridges\"],[\"Austin Reaves\"],[\"Pascal Siakam\"],[\"Kristaps Porzingis\"],[\"Scottie Barnes\"],[\"Anfernee Simons\"],[\"Desmond Bane\"],[\"Domantas Sabonis\"],[\"Alperen Sengun\"],[\"John Collins\"],[\"Lauri Markkanen\"],[\"Jalen Johnson\"],[\"Cameron Johnson\"],[\"Julius Randle\"],[\"Tyrese Haliburton\"],[\"Evan Mobley\"],[\"Shaedon Sharpe\"],[\"Nikola Vucevic\"],[\"Collin Sexton\"],[\"Michael Porter Jr.\"],[\"Bam Adebayo\"],[\"OG Anunoby\"],[\"Mikal Bridges\"],[\"Jaden Ivey\"],[\"Dejounte Murray\"],[\"Malik Monk\"],[\"Immanuel Quickley\"],[\"Bradley Beal\"],[\"Deni Avdija\"],[\"Keyonte George\"],[\"Ivica Zubac\"],[\"Derrick White\"],[\"Malik Beasley\"],[\"Devin Vassell\"],[\"Jordan Clarkson\"],[\"Paul George\"],[\"Jalen Suggs\"],[\"Bennedict Mathurin\"],[\"Myles Turner\"],[\"Christian Braun\"],[\"Jonathan Kuminga\"],[\"Jared McCain\"],[\"Mark Williams\"],[\"Kelly Oubre Jr.\"],[\"Chet Holmgren\"],[\"Stephon Castle\"],[\"Aaron Gordon\"],[\"P.J. Washington\"],[\"Josh Giddey\"],[\"Jakob Poeltl\"],[\"Deandre Ayton\"],[\"Gradey Dick\"],[\"Jerami Grant\"],[\"Payton Pritchard\"],[\"Naz Reid\"],[\"Dyson Daniels\"],[\"Tre Mann\"],[\"Amen Thompson\"],[\"Fred VanVleet\"],[\"Dillon Brooks\"],[\"Klay Thompson\"],[\"Bobby Portis\"],[\"Tobias Harris\"],[\"Josh Hart\"],[\"Jarrett Allen\"],[\"Onyeka Okongwu\"],[\"Russell Westbrook\"],[\"Russell Westbrook\"],[\"Naji Marshall\"],[\"Rui Hachimura\"],[\"Brook Lopez\"],[\"Alex Sarr\"],[\"Moritz Wagner\"],[\"Malcolm Brogdon\"],[\"Scoot Henderson\"],[\"Keldon Johnson\"],[\"Zaccharie Risacher\"],[\"Santi Aldama\"],[\"Ty Jerome\"],[\"Keegan Murray\"],[\"Lonnie Walker IV\"],[\"Harrison Barnes\"],[\"Bilal Coulibaly\"],[\"Ayo Dosunmu\"],[\"Daniel Gafford\"],[\"Jaden McDaniels\"],[\"Jabari Smith Jr.\"],[\"Drew Timme\"],[\"Tari Eason\"],[\"Rudy Gobert\"],[\"Aaron Nesmith\"],[\"Aaron Wiggins\"],[\"Jalen Duren\"],[\"Donte DiVincenzo\"],[\"Brandin Podziemski\"],[\"Corey Kispert\"],[\"Jeremy Sochan\"],[\"Toumani Camara\"],[\"Isaiah Hartenstein\"],[\"Buddy Hield\"],[\"Jrue Holiday\"],[\"Walker Kessler\"],[\"Gary Trent Jr.\"],[\"Spencer Dinwiddie\"],[\"Tim Hardaway Jr.\"],[\"Duncan Robinson\"],[\"Guerschon Yabusele\"],[\"Brice Sensabaugh\"],[\"Jordan Hawkins\"],[\"Brandon Boston Jr.\"],[\"Grayson Allen\"],[\"Keon Johnson\"],[\"Terry Rozier\"],[\"Obi Toppin\"],[\"Ochai Agbaji\"],[\"Jaylen Wells\"],[\"Grant Williams\"],[\"Jose Alvarado\"],[\"Nic Claxton\"],[\"Herbert Jones\"],[\"De'Anthony Melton\"],[\"Isaiah Joe\"],[\"Tyus Jones\"],[\"Trendon Watford\"],[\"Luguentz Dort\"],[\"Justin Edwards\"],[\"Derrick Jones Jr.\"],[\"Ausar Thompson\"],[\"Chris Boucher\"],[\"Andrew Nembhard\"],[\"Ziaire Williams\"],[\"Julian Champagnie\"],[\"Scotty Pippen Jr.\"],[\"Nick Smith Jr.\"],[\"Bub Carrington\"],[\"Moses Moody\"],[\"Amir Coffey\"],[\"Kyle Filipowski\"],[\"Miles McBride\"],[\"Jalen Wilson\"],[\"Nickeil Alexander-Walker\"],[\"Cole Anthony\"],[\"Anthony Black\"],[\"Max Strus\"],[\"Cam Whitmore\"],[\"Kel'el Ware\"],[\"Zach Edey\"],[\"Wendell Carter Jr.\"],[\"Noah Clowney\"],[\"Dalton Knecht\"],[\"A.J. Lawson\"],[\"T.J. McConnell\"],[\"Yves Missi\"],[\"Royce O'Neale\"],[\"Draymond Green\"],[\"Killian Hayes\"],[\"Al Horford\"],[\"Julian Strawther\"],[\"Patrick Williams\"],[\"Clint Capela\"],[\"Johnny Juzang\"],[\"Luke Kennard\"],[\"Justin Champagnie\"],[\"Svi Mykhailiuk\"],[\"Chris Paul\"],[\"Oshae Brissett\"],[\"Kentavious Caldwell-Pope\"],[\"Isaiah Collier\"],[\"Dante Exum\"],[\"Kyshawn George\"],[\"Jaden Hardy\"],[\"Dereck Lively II\"],[\"Tyrese Martin\"],[\"Matas Buzelis\"],[\"Jaime Jaquez Jr.\"],[\"Ja'Kobe Walter\"],[\"Sam Hauser\"],[\"Larry Nance Jr.\"],[\"Jaylen Nowell\"],[\"Jaylen Nowell\"],[\"Cason Wallace\"],[\"Dalano Banton\"],[\"Brandon Clarke\"],[\"Keon Ellis\"],[\"Brandon Williams\"],[\"Mike Conley\"],[\"Taurean Prince\"],[\"Jalen Smith\"],[\"Quinten Post\"],[\"Peyton Watson\"],[\"Day'Ron Sharpe\"],[\"Karlo Matkovic\"],[\"Lonzo Ball\"],[\"Garrison Mathews\"],[\"Matisse Thybulle\"],[\"A.J. Green\"],[\"Josh Green\"],[\"Richaun Holmes\"],[\"Alec Burks\"],[\"Ricky Council IV\"],[\"Andre Drummond\"],[\"Goga Bitadze\"],[\"Tristan Da Silva\"],[\"GG Jackson II\"],[\"Vit Krejci\"],[\"Sam Merrill\"],[\"Nae'Qwan Tomlin\"],[\"Jamison Battle\"],[\"Alex Caruso\"],[\"Jamal Shead\"],[\"Marcus Garrett\"],[\"Isaiah Jackson\"],[\"Jaylen Sims\"],[\"Ryan Dunn\"],[\"Jay Huff\"],[\"Cameron Payne\"],[\"Antonio Reeves\"],[\"Bol Bol\"],[\"Eric Gordon\"],[\"Jaxson Hayes\"],[\"Marcus Bagley\"],[\"DaQuan Jeffries\"],[\"Precious Achiuwa\"],[\"Trayce Jackson-Davis\"],[\"Marcus Sasser\"],[\"Vince Williams Jr.\"],[\"Donovan Clingan\"],[\"Seth Curry\"],[\"Haywood Highsmith\"],[\"Talen Horton-Tucker\"],[\"Trey Lyles\"],[\"Ajay Mitchell\"],[\"Gary Payton II\"],[\"Kris Dunn\"],[\"Ron Holland\"],[\"Gabe Vincent\"],[\"Sandro Mamukelashvili\"],[\"Jeremiah Robinson-Earl\"],[\"Kenrich Williams\"],[\"Jonathan Mogbo\"],[\"Ryan Rollins\"],[\"Ryan Rollins\"],[\"Isaac Okoro\"],[\"Jarace Walker\"],[\"Mouhamed Gueye\"],[\"Luke Kornet\"],[\"Isaiah Mobley\"],[\"Isaiah Stewart\"],[\"James Wiseman\"],[\"Simone Fontecchio\"],[\"Jaylin Williams\"],[\"Adem Bona\"],[\"Robert Williams\"],[\"Moussa Diabate\"],[\"Dariq Whitehead\"],[\"Landry Shamet\"],[\"Jordan Goodwin\"],[\"Aaron Holiday\"],[\"Jeff Green\"],[\"Jonathan Isaac\"],[\"Dean Wade\"],[\"Kobe Bufkin\"],[\"Pat Connaughton\"],[\"Kevin Love\"],[\"Ben Sheppard\"],[\"Monte Morris\"],[\"Jabari Walker\"],[\"Bismack Biyombo\"],[\"Mitchell Robinson\"],[\"Malaki Branham\"],[\"Neemias Queta\"],[\"Jock Landale\"],[\"Taylor Hendricks\"],[\"Pelle Larsson\"],[\"Julian Phillips\"],[\"Cody Williams\"],[\"Rob Dillingham\"],[\"Jett Howard\"],[\"Kevon Looney\"],[\"Mason Plumlee\"],[\"Dalen Terry\"],[\"Charles Bassey\"],[\"Tony Bradley\"],[\"Reggie Jackson\"],[\"Reggie Jackson\"],[\"Reed Sheppard\"],[\"Lamar Stevens\"],[\"Jevon Carter\"],[\"Terrence Shannon Jr.\"],[\"Daniel Theis\"],[\"Dominick Barlow\"],[\"Oso Ighodaro\"],[\"Kris Murray\"],[\"Duop Reath\"],[\"Jaylen Clark\"],[\"Caleb Houstan\"],[\"Jordan Miller\"],[\"Jalen Pickett\"],[\"Paul Reed\"],[\"Gui Santos\"],[\"Jarred Vanderbilt\"],[\"Nicolas Batum\"],[\"Malachi Flynn\"],[\"Josh Richardson\"],[\"Steven Adams\"],[\"Kyle Lowry\"],[\"Olivier-Maxence Prosper\"],[\"Branden Carlson\"],[\"Devin Carter\"],[\"Ousmane Dieng\"],[\"DeAndre Jordan\"],[\"Craig Porter Jr.\"],[\"Blake Wesley\"],[\"Baylor Scheierman\"],[\"Jae'Sean Tate\"],[\"Jaylon Tyson\"],[\"Luka Garza\"],[\"Cory Joseph\"],[\"Doug McDermott\"],[\"Dario Saric\"],[\"Bruno Fernando\"],[\"Andre Jackson Jr.\"],[\"Isaac Jones\"],[\"Kevin Knox\"],[\"Damion Lee\"],[\"Jeenathan Williams\"],[\"Zeke Nnaji\"],[\"Cam Reddish\"],[\"Gary Harris\"],[\"Maxi Kleber\"],[\"Rayan Rupert\"],[\"P.J. Tucker\"],[\"P.J. Tucker\"],[\"Markelle Fultz\"],[\"Taj Gibson\"],[\"Tyler Smith\"],[\"Keshad Johnson\"],[\"Jae Crowder\"],[\"Josh Minott\"],[\"Hunter Tyson\"],[\"Anthony Gill\"],[\"Dillon Jones\"],[\"Pat Spencer\"],[\"Johnny Davis\"],[\"John Konchar\"],[\"Bronny James\"],[\"JD Davison\"],[\"Chris Duarte\"],[\"Johnny Furphy\"],[\"Dwight Powell\"],[\"Tyler Kolek\"],[\"Kobe Brown\"],[\"Ariel Hukporti\"],[\"Bobi Klintman\"],[\"Garrett Temple\"],[\"Vlatko Cancar\"],[\"E.J. Liddell\"],[\"Pacome Dadiet\"],[\"Tristan Thompson\"],[\"Jordan Walsh\"],[\"Phillip Wheeler\"],[\"Leonard Miller\"],[\"Matt Ryan\"],[\"Cam Christie\"],[\"Chris Livingston\"],[\"Skal Labissiere\"],[\"Yuri Collins\"],[\"Braxton Key\"],[\"Xavier Tillman Sr.\"],[\"PJ Dozier\"],[\"Joe Ingles\"],[\"James Johnson\"],[\"Malevy Leons\"],[\"Daishen Nix\"],[\"Terence Davis\"],[\"Jalen McDaniels\"],[\"Jalen McDaniels\"],[\"Jahlil Okafor\"],[\"Terry Taylor\"],[\"Luka Doncic\"],[\"Anthony Davis\"],[\"De'Aaron Fox\"],[\"Zach LaVine\"],[\"Andrew Wiggins\"],[\"Jimmy Butler\"],[\"De'Andre Hunter\"],[\"Kyle Kuzma\"],[\"Quentin Grimes\"],[\"Dennis Schroder\"],[\"D'Angelo Russell\"],[\"Caris LeVert\"],[\"Khris Middleton\"],[\"Bogdan Bogdanovic\"],[\"Jonas Valanciunas\"],[\"Kevin Porter Jr.\"],[\"Kevin Porter Jr.\"],[\"Kevin Huerter\"],[\"Georges Niang\"],[\"Max Christie\"],[\"Nick Richards\"],[\"Jared Butler\"],[\"Marcus Smart\"],[\"Jusuf Nurkic\"],[\"Kelly Olynyk\"],[\"Dorian Finney-Smith\"],[\"Jared Rhoden\"],[\"Bruce Brown\"],[\"Davion Mitchell\"],[\"Caleb Martin\"],[\"Terance Mann\"],[\"AJ Johnson\"],[\"Tre Jones\"],[\"Josh Okogie\"],[\"Jalen Hood-Schifino\"],[\"Orlando Robinson\"],[\"Orlando Robinson\"],[\"Jake LaRavia\"],[\"Cody Martin\"],[\"Vasilije Micic\"],[\"Thomas Bryant\"],[\"Zach Collins\"],[\"KJ Martin\"],[\"Bones Hyland\"],[\"Cole Swider\"],[\"Chuma Okeke\"],[\"Chuma Okeke\"],[\"Kyle Anderson\"],[\"Moses Brown\"],[\"Moses Brown\"],[\"Shake Milton\"],[\"Javonte Green\"],[\"Javonte Green\"],[\"Ben Simmons\"],[\"Ben Simmons\"],[\"Lindy Waters III\"],[\"Colin Castleton\"],[\"Colin Castleton\"],[\"David Roddy\"],[\"David Roddy\"],[\"Drew Eubanks\"],[\"Marvin Bagley III\"],[\"Mo Bamba\"],[\"Mo Bamba\"],[\"Torrey Craig\"],[\"Torrey Craig\"],[\"Wendell Moore Jr.\"],[\"Maxwell Lewis\"],[\"Colby Jones\"],[\"Patty Mills\"],[\"Markieff Morris\"],[\"Elfrid Payton\"],[\"Elfrid Payton\"],[\"Delon Wright\"],[\"Kylor Kelley\"],[\"Jaden Springer\"],[\"Jaden Springer\"],[\"MarJon Beauchamp\"],[\"Patrick Baldwin Jr.\"],[\"Jordan McLaughlin\"],[\"Jericho Sims\"],[\"Alex Len\"],[\"Alex Len\"],[\"Sidy Cissoko\"]],\"hovertemplate\":\"Salary ($M)=%{x:.2f}\\u003cbr\\u003eeFG%=%{y}\\u003cbr\\u003ePlayer=%{customdata[0]}\\u003cextra\\u003e\\u003c\\u002fextra\\u003e\",\"legendgroup\":\"\",\"marker\":{\"color\":\"skyblue\",\"symbol\":\"circle\"},\"mode\":\"markers\",\"name\":\"\",\"orientation\":\"v\",\"showlegend\":false,\"x\":[35.85995,48.787676,51.415938,42.1764,34.84834,51.179021,35.147,13.940809,24.960001,12.1608,49.2058,35.147,48.787676,41.0,36.72567,55.761216,48.728845,49.2058,12.76896,7.007092,43.03194,35.41031,4.041249,29.0,51.415938,36.72567,33.653846,49.2058,23.4,36.0162,25.257798,19.241379,4.77576,49.2058,36.0162,5.159854,25.794643,33.333333,12.483048,11.4246,36.72567,29.651786,12.0,27.173913,12.976362,42.1764,29.268293,10.13098,25.892857,34.00525,40.5,5.424654,26.58,42.1764,4.510905,22.5,33.07392,42.1764,11.227657,6.61416,20.0,18.35,35.85995,34.84834,36.637932,23.3,7.97724,29.517135,17.405203,32.5,50.20393,15.625,4.0842,11.74321,20.071429,6.0,29.347826,14.092577,49.2058,9.188385,7.24572,19.9285,3.08964,7.636307,4.02036,4.09428,7.983,10.88064,9.10512,22.841455,15.5,8.352367,19.5,34.005126,4.76376,29.793104,6.696429,13.986432,6.05952,4.908373,9.24996,42.846615,22.255493,15.873016,12.578286,25.365854,18.144,20.0,14.0,5.631296,5.631296,8.571429,17.0,23.0,11.24568,11.0,22.5,10.25916,19.0,12.56904,3.960531,2.560975,8.80956,0.780932,18.0,6.94524,7.0,13.39416,23.017242,9.77088,0.113055,3.69516,43.827586,11.0,10.514017,4.53684,11.445,3.51996,5.705887,5.57004,1.891857,30.0,8.780488,30.0,2.96592,2.087519,2.087519,16.193183,19.406,2.087519,2.57148,4.52568,0.596581,15.625,2.162606,24.924126,12.975,4.31028,1.157153,13.02525,1.988598,27.556817,12.976362,12.822,12.99165,2.087519,2.726603,16.5,0.425619,9.52381,8.376,10.81,2.019699,6.133005,3.0,2.087519,2.5872,4.45488,5.803269,3.938271,3.0,4.710144,1.891857,4.3125,12.9,7.60776,15.212068,3.37908,4.2318,5.75688,11.95,3.24408,3.81912,0.1,9.3,3.1932,9.375,24.107143,0.119972,9.5,2.55252,18.0,22.26528,3.087519,9.25,1.8,3.5,10.46,0.119972,22.757,2.51268,3.15,2.82552,2.019699,5.01456,0.635853,5.19552,3.6858,3.465,2.092344,11.205,0.446743,0.446743,5.55588,2.19697,12.5,2.120693,0.047989,9.975962,2.087519,8.571429,0.43892,2.41356,3.989122,1.407153,21.395348,2.230253,11.025,2.120693,12.654321,12.648321,2.087519,1.891857,5.0,9.057971,3.62844,1.891857,2.162606,2.164993,0.066503,1.0,9.89,1.862265,0.107027,4.435381,0.073153,2.5308,2.088033,2.087519,1.157153,2.087519,3.303771,2.463946,0.126356,2.425404,6.0,1.891857,2.75508,2.120693,6.8364,2.087519,5.2,2.087519,8.0,3.0,9.13,5.168,8.24532,11.0,2.087519,2.19697,6.669,1.862265,1.091887,1.091887,10.185186,6.36252,1.891857,2.087519,0.011997,15.0,2.237691,7.692308,2.019699,1.157153,12.428571,0.957763,3.11424,1.34369,0.223718,4.668,8.0,25.0,6.166667,4.299,9.423869,3.85,2.66388,2.087519,2.019699,0.647851,14.318182,3.21792,2.162606,8.0,5.84868,1.157153,1.891857,5.46912,6.26292,5.27832,8.0,2.087519,3.51048,2.087519,0.600545,4.033748,4.033748,10.09896,0.623856,6.5,2.54664,2.087519,0.491887,1.157153,2.99004,2.04878,0.492323,2.019699,1.05,1.891857,3.913234,1.891857,10.714286,4.668,0.119972,3.051153,12.6,2.087519,2.8704,0.496519,4.689,5.02704,2.087519,1.891857,2.62428,2.49432,7.565217,3.32616,2.162606,3.303771,2.087519,5.168,1.115128,1.891857,0.152957,0.503883,2.087519,0.515881,8.888889,2.463946,7.5,11.0,1.891857,12.025777,12.025777,0.731831,2.087519,1.157153,0.724883,1.655619,2.019699,1.891857,2.237691,2.62236,0.43881,5.29116,6.165,1.157153,0.011997,5.893768,1.850842,4.0,2.087519,2.53392,1.064049,1.257153,2.087519,2.087519,0.706898,1.80808,2.087519,1.891857,0.066503,1.891857,0.621439,1.157153,1.891857,0.119972,0.066503,0.011997,2.237691,1.051255,2.087519,2.087519,0.126356,0.119972,0.064301,4.861772,4.861772,0.119972,0.119972,43.03194,43.21944,34.84834,44.53194,26.276786,48.798677,21.696429,24.456061,4.296682,13.02525,18.692307,16.615384,31.0,17.26,9.9,3.366937,3.366937,16.830357,8.5,7.142857,5.0,0.745726,20.210284,18.125,12.804878,14.924167,0.119972,23.0,6.451077,9.186594,11.423077,2.795294,9.104167,8.25,3.87984,1.69161,1.69161,3.35268,8.12,7.723,2.087519,16.7412,7.975,4.158439,0.227947,0.355687,0.355687,8.780488,0.426632,0.426632,2.875,2.32835,2.32835,40.011909,40.011909,2.19697,0.421081,0.421081,2.967212,2.967212,5.0,12.5,2.207491,2.207491,3.625162,3.625162,2.53704,1.891857,2.120693,2.087519,2.087519,0.789048,0.789048,2.087519,0.073153,4.772772,4.772772,2.73372,2.44884,2.087519,2.092344,2.831348,2.831348,1.891857],\"xaxis\":\"x\",\"y\":[0.569,0.607,0.627,0.547,0.537,0.598,0.511,0.521,0.551,0.5,0.525,0.494,0.547,0.549,0.57,0.572,0.571,0.584,0.559,0.507,0.491,0.531,0.513,0.563,0.481,0.504,0.501,0.515,0.509,0.53,0.548,0.578,0.537,0.56,0.543,0.548,0.523,0.53,0.505,0.509,0.562,0.544,0.55,0.495,0.556,0.572,0.572,0.482,0.521,0.565,0.627,0.505,0.583,0.521,0.541,0.582,0.542,0.582,0.604,0.519,0.592,0.543,0.596,0.521,0.559,0.57,0.536,0.445,0.513,0.517,0.571,0.55,0.485,0.628,0.58,0.579,0.532,0.493,0.514,0.489,0.516,0.577,0.634,0.495,0.553,0.604,0.518,0.554,0.476,0.607,0.521,0.531,0.628,0.573,0.498,0.467,0.62,0.556,0.536,0.509,0.575,0.483,0.533,0.535,0.52,0.534,0.579,0.706,0.602,0.505,0.505,0.551,0.597,0.599,0.457,0.616,0.467,0.496,0.538,0.537,0.576,0.606,0.538,0.526,0.622,0.472,0.561,0.702,0.537,0.525,0.485,0.543,0.669,0.617,0.577,0.692,0.568,0.537,0.558,0.565,0.552,0.581,0.546,0.538,0.671,0.568,0.496,0.529,0.581,0.593,0.59,0.471,0.5,0.6,0.47,0.462,0.621,0.593,0.527,0.549,0.498,0.568,0.5,0.528,0.604,0.57,0.51,0.578,0.546,0.593,0.547,0.586,0.506,0.511,0.549,0.553,0.482,0.493,0.544,0.57,0.576,0.511,0.495,0.553,0.494,0.473,0.594,0.525,0.592,0.6,0.498,0.474,0.576,0.508,0.531,0.547,0.58,0.503,0.512,0.547,0.529,0.49,0.559,0.554,0.609,0.601,0.507,0.547,0.564,0.543,0.459,0.563,0.476,0.527,0.702,0.513,0.541,0.501,0.487,0.627,0.626,0.411,0.411,0.55,0.462,0.622,0.639,0.585,0.535,0.6,0.554,0.582,0.533,0.538,0.619,0.504,0.562,0.597,0.612,0.543,0.647,0.587,0.442,0.506,0.615,0.495,0.452,0.651,0.567,0.438,0.581,0.541,0.476,0.463,0.609,0.536,0.516,0.648,0.506,0.558,0.612,0.564,0.722,0.428,0.5,0.517,0.576,0.561,0.479,0.56,0.599,0.572,0.527,0.528,0.557,0.626,0.525,0.517,0.53,0.609,0.536,0.576,0.462,0.577,0.577,0.569,0.576,0.482,0.668,0.357,0.586,0.5,0.504,0.577,0.703,0.647,0.596,0.578,0.596,0.528,0.571,0.624,0.474,0.561,0.426,0.542,0.461,0.537,0.505,0.576,0.588,0.661,0.547,0.65,0.569,0.306,0.517,0.533,0.391,0.5,0.479,0.518,0.619,0.517,0.581,0.656,0.485,0.485,0.452,0.524,0.497,0.531,0.508,0.562,0.604,0.468,0.524,0.558,0.589,0.463,0.539,0.535,0.553,0.525,0.622,0.423,0.368,0.545,0.474,0.437,0.557,0.441,0.524,0.65,0.589,0.481,0.473,0.527,0.497,0.543,0.529,0.615,0.422,0.531,0.553,0.669,0.556,0.426,0.484,0.557,0.473,0.519,0.453,0.465,0.643,0.643,0.448,0.5,0.61,0.75,0.409,0.567,0.471,0.545,0.444,0.431,0.455,0.577,0.381,0.412,0.577,0.462,0.705,0.415,0.5,0.677,0.7,0.35,0.462,0.633,0.419,0.437,0.452,0.143,0.4,0.419,0.333,0.333,0.625,0.333,0.0,0.292,1.0,0.326,0.364,0.0,0.0,0.0,0.0,0.0,0.0,0.0,0.536,0.536,0.514,0.609,0.526,0.531,0.573,0.493,0.565,0.483,0.479,0.556,0.546,0.534,0.557,0.492,0.492,0.535,0.595,0.525,0.591,0.514,0.488,0.523,0.562,0.597,0.552,0.464,0.557,0.485,0.569,0.441,0.578,0.519,0.449,0.477,0.477,0.564,0.485,0.43,0.583,0.56,0.59,0.534,0.468,0.638,0.638,0.51,0.694,0.694,0.528,0.509,0.509,0.52,0.52,0.498,0.48,0.48,0.532,0.532,0.601,0.533,0.531,0.531,0.556,0.556,0.524,0.505,0.519,0.51,0.364,0.332,0.332,0.42,0.636,0.456,0.456,0.492,0.729,0.563,0.634,0.524,0.524,0.483],\"yaxis\":\"y\",\"type\":\"scatter\"},{\"hovertemplate\":\"\\u003cb\\u003eOLS trendline\\u003c\\u002fb\\u003e\\u003cbr\\u003eeFG% = 0.00111543 * Salary_M + 0.516521\\u003cbr\\u003eR\\u003csup\\u003e2\\u003c\\u002fsup\\u003e=0.019561\\u003cbr\\u003e\\u003cbr\\u003eSalary ($M)=%{x:.2f}\\u003cbr\\u003eeFG%=%{y} \\u003cb\\u003e(trend)\\u003c\\u002fb\\u003e\\u003cextra\\u003e\\u003c\\u002fextra\\u003e\",\"legendgroup\":\"\",\"line\":{\"color\":\"black\"},\"marker\":{\"color\":\"skyblue\",\"symbol\":\"circle\"},\"mode\":\"lines\",\"name\":\"\",\"showlegend\":false,\"x\":[0.011997,0.011997,0.011997,0.047989,0.064301,0.066503,0.066503,0.066503,0.073153,0.073153,0.1,0.107027,0.113055,0.119972,0.119972,0.119972,0.119972,0.119972,0.119972,0.119972,0.119972,0.126356,0.126356,0.152957,0.223718,0.227947,0.355687,0.355687,0.421081,0.421081,0.425619,0.426632,0.426632,0.43881,0.43892,0.446743,0.446743,0.491887,0.492323,0.496519,0.503883,0.515881,0.596581,0.600545,0.621439,0.623856,0.635853,0.647851,0.706898,0.724883,0.731831,0.745726,0.780932,0.789048,0.789048,0.957763,1.0,1.05,1.051255,1.064049,1.091887,1.091887,1.115128,1.157153,1.157153,1.157153,1.157153,1.157153,1.157153,1.157153,1.157153,1.257153,1.34369,1.407153,1.655619,1.69161,1.69161,1.8,1.80808,1.850842,1.862265,1.862265,1.891857,1.891857,1.891857,1.891857,1.891857,1.891857,1.891857,1.891857,1.891857,1.891857,1.891857,1.891857,1.891857,1.891857,1.891857,1.891857,1.891857,1.891857,1.988598,2.019699,2.019699,2.019699,2.019699,2.019699,2.019699,2.04878,2.087519,2.087519,2.087519,2.087519,2.087519,2.087519,2.087519,2.087519,2.087519,2.087519,2.087519,2.087519,2.087519,2.087519,2.087519,2.087519,2.087519,2.087519,2.087519,2.087519,2.087519,2.087519,2.087519,2.087519,2.087519,2.087519,2.087519,2.087519,2.087519,2.087519,2.087519,2.087519,2.087519,2.088033,2.092344,2.092344,2.120693,2.120693,2.120693,2.120693,2.162606,2.162606,2.162606,2.162606,2.164993,2.19697,2.19697,2.19697,2.207491,2.207491,2.230253,2.237691,2.237691,2.237691,2.32835,2.32835,2.41356,2.425404,2.44884,2.463946,2.463946,2.49432,2.51268,2.5308,2.53392,2.53704,2.54664,2.55252,2.560975,2.57148,2.5872,2.62236,2.62428,2.66388,2.726603,2.73372,2.75508,2.795294,2.82552,2.831348,2.831348,2.8704,2.875,2.96592,2.967212,2.967212,2.99004,3.0,3.0,3.0,3.051153,3.087519,3.08964,3.11424,3.15,3.1932,3.21792,3.24408,3.303771,3.303771,3.32616,3.35268,3.366937,3.366937,3.37908,3.465,3.5,3.51048,3.51996,3.625162,3.625162,3.62844,3.6858,3.69516,3.81912,3.85,3.87984,3.913234,3.938271,3.960531,3.989122,4.0,4.02036,4.033748,4.033748,4.041249,4.0842,4.09428,4.158439,4.2318,4.296682,4.299,4.31028,4.3125,4.435381,4.45488,4.510905,4.52568,4.53684,4.668,4.668,4.689,4.710144,4.76376,4.772772,4.772772,4.77576,4.861772,4.861772,4.908373,5.0,5.0,5.0,5.01456,5.02704,5.159854,5.168,5.168,5.19552,5.2,5.27832,5.29116,5.424654,5.46912,5.55588,5.57004,5.631296,5.631296,5.705887,5.75688,5.803269,5.84868,5.893768,6.0,6.0,6.05952,6.133005,6.165,6.166667,6.26292,6.36252,6.451077,6.5,6.61416,6.669,6.696429,6.8364,6.94524,7.0,7.007092,7.142857,7.24572,7.5,7.565217,7.60776,7.636307,7.692308,7.723,7.975,7.97724,7.983,8.0,8.0,8.0,8.0,8.12,8.24532,8.25,8.352367,8.376,8.5,8.571429,8.571429,8.780488,8.780488,8.80956,8.888889,9.057971,9.104167,9.10512,9.13,9.186594,9.188385,9.24996,9.25,9.3,9.375,9.423869,9.5,9.52381,9.77088,9.89,9.9,9.975962,10.09896,10.13098,10.185186,10.25916,10.46,10.514017,10.714286,10.81,10.88064,11.0,11.0,11.0,11.0,11.025,11.205,11.227657,11.24568,11.423077,11.4246,11.445,11.74321,11.95,12.0,12.025777,12.025777,12.1608,12.428571,12.483048,12.5,12.5,12.56904,12.578286,12.6,12.648321,12.654321,12.76896,12.804878,12.822,12.9,12.975,12.976362,12.976362,12.99165,13.02525,13.02525,13.39416,13.940809,13.986432,14.0,14.092577,14.318182,14.924167,15.0,15.212068,15.5,15.625,15.625,15.873016,16.193183,16.5,16.615384,16.7412,16.830357,17.0,17.26,17.405203,18.0,18.0,18.125,18.144,18.35,18.692307,19.0,19.241379,19.406,19.5,19.9285,20.0,20.0,20.071429,20.210284,21.395348,21.696429,22.255493,22.26528,22.5,22.5,22.757,22.841455,23.0,23.0,23.017242,23.3,23.4,24.107143,24.456061,24.924126,24.960001,25.0,25.257798,25.365854,25.794643,25.892857,26.276786,26.58,27.173913,27.556817,29.0,29.268293,29.347826,29.517135,29.651786,29.793104,30.0,30.0,31.0,32.5,33.07392,33.333333,33.653846,34.005126,34.00525,34.84834,34.84834,34.84834,35.147,35.147,35.41031,35.85995,35.85995,36.0162,36.0162,36.637932,36.72567,36.72567,36.72567,40.011909,40.011909,40.5,41.0,42.1764,42.1764,42.1764,42.1764,42.846615,43.03194,43.03194,43.21944,43.827586,44.53194,48.728845,48.787676,48.787676,48.798677,49.2058,49.2058,49.2058,49.2058,49.2058,50.20393,51.179021,51.415938,51.415938,55.761216],\"xaxis\":\"x\",\"y\":[0.5165345937038939,0.5165345937038939,0.5165345937038939,0.5165747403526141,0.5165929352885421,0.5165953914710405,0.5165953914710405,0.5165953914710405,0.5166028090975683,0.5166028090975683,0.5166327551155221,0.5166405932601252,0.5166473170876004,0.5166550325346219,0.5166550325346219,0.5166550325346219,0.5166550325346219,0.5166550325346219,0.5166550325346219,0.5166550325346219,0.5166550325346219,0.5166621534560886,0.5166621534560886,0.5166918250776323,0.5167707542010512,0.5167754713653498,0.5169179567206376,0.5169179567206376,0.5169908993175037,0.5169908993175037,0.5169959611504636,0.5169970910836476,0.5169970910836476,0.5170106748213702,0.5170107975189518,0.5170195235478733,0.5170195235478733,0.5170698786353878,0.5170703649639842,0.5170750453190084,0.5170832593643845,0.5170966423242462,0.5171866577318845,0.5171910793065546,0.5172143851544753,0.5172170811549742,0.5172304629994035,0.5172438459592652,0.5173097089056694,0.5173297699602714,0.5173375199857022,0.5173530189211314,0.517392288839859,0.5174013416905205,0.5174013416905205,0.5175895318949778,0.5176366444200389,0.5176924160480675,0.517693815915931,0.517708086760111,0.5177391381717323,0.5177391381717323,0.5177650619398726,0.5178119379932308,0.5178119379932308,0.5178119379932308,0.5178119379932308,0.5178119379932308,0.5178119379932308,0.5178119379932308,0.5178119379932308,0.5179234812492881,0.5180200074367826,0.5180907961333743,0.5183679431999699,0.5184080887332575,0.5184080887332575,0.5185289904684982,0.5185380031635876,0.5185857012907429,0.5185984428768823,0.5185984428768823,0.5186314507572148,0.5186314507572148,0.5186314507572148,0.5186314507572148,0.5186314507572148,0.5186314507572148,0.5186314507572148,0.5186314507572148,0.5186314507572148,0.5186314507572148,0.5186314507572148,0.5186314507572148,0.5186314507572148,0.5186314507572148,0.5186314507572148,0.5186314507572148,0.5186314507572148,0.5186314507572148,0.5187393588185574,0.5187740498866238,0.5187740498866238,0.5187740498866238,0.5187740498866238,0.5187740498866238,0.5187740498866238,0.5188064877809178,0.5188496985228819,0.5188496985228819,0.5188496985228819,0.5188496985228819,0.5188496985228819,0.5188496985228819,0.5188496985228819,0.5188496985228819,0.5188496985228819,0.5188496985228819,0.5188496985228819,0.5188496985228819,0.5188496985228819,0.5188496985228819,0.5188496985228819,0.5188496985228819,0.5188496985228819,0.5188496985228819,0.5188496985228819,0.5188496985228819,0.5188496985228819,0.5188496985228819,0.5188496985228819,0.5188496985228819,0.5188496985228819,0.5188496985228819,0.5188496985228819,0.5188496985228819,0.5188496985228819,0.5188496985228819,0.5188496985228819,0.5188496985228819,0.5188496985228819,0.518850271855218,0.5188550804849866,0.5188550804849866,0.5188867018826464,0.5188867018826464,0.5188867018826464,0.5188867018826464,0.5189334530075577,0.5189334530075577,0.5189334530075577,0.5189334530075577,0.5189361155450798,0.5189717837320693,0.5189717837320693,0.5189717837320693,0.5189835191980391,0.5189835191980391,0.5190089086739829,0.5190172052613684,0.5190172052613684,0.5190172052613684,0.5191183292618775,0.5191183292618775,0.519213375270364,0.5192265864536115,0.5192527277311011,0.5192695774553612,0.5192695774553612,0.519303457603956,0.5193239369457682,0.5193441485837658,0.5193476287333547,0.5193511088829438,0.5193618170355253,0.5193683757789814,0.5193778067612811,0.5193895243803299,0.5194070589801821,0.519446277589012,0.5194484192195282,0.519492590348927,0.5195625536254239,0.5195704921589575,0.5195943177984513,0.5196391738034423,0.5196728888680182,0.5196793896089812,0.5196793896089812,0.5197229494813368,0.5197280804711154,0.5198294955995229,0.5198309367383911,0.5198309367383911,0.5198563998328839,0.5198675095411872,0.5198675095411872,0.5198675095411872,0.5199245672629582,0.5199651310834561,0.519967496915917,0.5199949365569072,0.5200348244252733,0.5200830111118901,0.5201105846047875,0.5201397643205721,0.5202063456055454,0.5202063456055454,0.5202313190251441,0.5202609002966505,0.5202768030186665,0.5202768030186665,0.5202903477162496,0.5203861856818541,0.5204252258214742,0.5204369155547091,0.5204474898553834,0.5205648355916208,0.5205648355916208,0.5205684919795543,0.520632473191229,0.5206429136399959,0.5207811826602047,0.5208156272176752,0.5208489117252828,0.5208861604802105,0.5209140875652296,0.5209389170940281,0.5209708084263674,0.5209829421017613,0.5210056523086947,0.5210205857198156,0.5210205857198156,0.5210289525794525,0.5210768615233616,0.5210881050835723,0.5211596701212261,0.5212414993693024,0.5213138708646976,0.521316456437373,0.5213290385166562,0.5213315147769407,0.5214685802454166,0.5214903300649153,0.5215528221741215,0.521569302690204,0.52158175091758,0.5217280510522249,0.5217280510522249,0.521751475135997,0.5217750598420577,0.5218348648742255,0.5218449171524614,0.5218449171524614,0.5218482500649524,0.5219441906503525,0.5219441906503525,0.5219961709231078,0.5220983746623356,0.5220983746623356,0.5220983746623356,0.5221146153604175,0.5221285359587734,0.5222766810188736,0.522285767332512,0.522285767332512,0.5223164640365789,0.5223214611744503,0.5224088218525945,0.5224231440066723,0.5225720475609136,0.5226216463851521,0.5227184213141075,0.5227342158391652,0.5228025427760957,0.5228025427760957,0.5228857440062216,0.5229426232587829,0.5229943670598354,0.5230450199678436,0.5230953125911347,0.5232138072229097,0.5232138072229097,0.5232801977689151,0.5233621653306288,0.5233978535954045,0.5233997130214829,0.5235070767517358,0.523618173834769,0.5237169531960358,0.5237715235031968,0.523898861284312,0.5239600316059339,0.5239906268056378,0.5241467550165739,0.5242681586964668,0.5243292397834839,0.5243371504312034,0.5244885871327898,0.5246033238722682,0.524886956063771,0.5249597012290739,0.5250071550764984,0.5250389973298051,0.5251014626686299,0.525135697524779,0.5254167865300436,0.5254192850989794,0.5254257099905283,0.525444672344058,0.525444672344058,0.525444672344058,0.525444672344058,0.5255785242513269,0.5257183102598181,0.5257235304842016,0.5258377139691299,0.525864074986834,0.5260023886243451,0.5260820628567143,0.5260820628567143,0.5263152540723954,0.5263152540723954,0.5263476819277965,0.5264361680773942,0.5266247676456013,0.5266762961681696,0.5266773591753998,0.5267051111375068,0.52676823792784,0.526770235667556,0.5268389184274733,0.5268389630447757,0.5268947346728045,0.5269783921148475,0.5270329021886502,0.5271178211849193,0.5271443796341866,0.5274199695569276,0.5275528398835432,0.527563994209149,0.5276487246973153,0.5277859206714008,0.5278216368219903,0.5278820999593689,0.5279646129676048,0.5281886364430705,0.528248888763695,0.5284722753271687,0.5285790378392715,0.5286578319953504,0.5287909700257806,0.5287909700257806,0.5287909700257806,0.5287909700257806,0.5288188558397949,0.5290196337006983,0.5290449060562232,0.5290650094972624,0.5292628838872105,0.5292645826910003,0.529287337515236,0.5296199706591249,0.5298506309583261,0.5299064025863547,0.5299351550914686,0.5299351550914686,0.5300857641420951,0.5303844446342726,0.530445210053875,0.5304641188666418,0.5304641188666418,0.5305411283306238,0.530551441620079,0.5305756621226992,0.5306295609394588,0.5306362535348221,0.5307641256081338,0.5308041897148446,0.5308232881511467,0.5309102918908715,0.5309939493329145,0.530995468552062,0.530995468552062,0.5310125212850481,0.5310499998190834,0.5310499998190834,0.5314614940450049,0.5320712441388101,0.5321221335185212,0.532137267707503,0.5322405311076633,0.5324921782704917,0.5331681136707113,0.5332527002680773,0.5334892478203331,0.5338104165483644,0.5339498456184361,0.5339498456184361,0.5342264907403794,0.5345836154370008,0.5349258491089385,0.5350545521795078,0.535194891442549,0.5352943400633521,0.5354835653892256,0.5357735778549749,0.5359355420090679,0.5365989979497998,0.5365989979497998,0.5367384270198715,0.5367596202385224,0.5369893993460008,0.5373712197195132,0.5377144305103739,0.5379836725064128,0.538167296129967,0.538272146790661,0.5387501096428671,0.5388298630709482,0.5388298630709482,0.5389095373033174,0.5390644206915159,0.5403862796634802,0.5407221152142504,0.5413457134032953,0.5413566301417656,0.5416184444723835,0.5416184444723835,0.5419051106404511,0.5419993144973544,0.5421761607526706,0.5421761607526706,0.54219539304088,0.542510790520843,0.5426223337769003,0.5434111041040824,0.5438002986022529,0.544322393543718,0.5443624096868286,0.544407025873819,0.5446945821570699,0.5448151113378353,0.5452933965500514,0.5454029476435556,0.5458311945511043,0.5461694093195262,0.5468318792178745,0.5472589828070485,0.5488687561161156,0.5491680188640898,0.54925673256193,0.5494455853333282,0.549595779443042,0.5497534101416373,0.5499841886766899,0.5499841886766899,0.5510996212372641,0.5527727700781253,0.55341293913329,0.5537022968401263,0.5540598074764136,0.554451636626292,0.5544517749399296,0.555392184977424,0.555392184977424,0.555392184977424,0.5557253200659651,0.5557253200659651,0.55601902461349,0.5565205677100264,0.5565205677100264,0.5566948540476162,0.5566948540476162,0.557388354164367,0.5574862199863667,0.5574862199863667,0.5574862199863667,0.5611517979687954,0.5611517979687954,0.5616962305627187,0.5622539468430058,0.5635661417072653,0.5635661417072653,0.5635661417072653,0.5635661417072653,0.5643137213408504,0.5645204388801388,0.5645204388801388,0.5647295824852465,0.5654079283352295,0.5661935877210001,0.5708749522116366,0.5709405742246078,0.5709405742246078,0.5709528450982067,0.5714069633485653,0.5714069633485653,0.5714069633485653,0.5714069633485653,0.5714069633485653,0.5725203100502512,0.5736079583011741,0.5738722232371276,0.5738722232371276,0.5787190878030742],\"yaxis\":\"y\",\"type\":\"scatter\"}],                        {\"template\":{\"data\":{\"barpolar\":[{\"marker\":{\"line\":{\"color\":\"white\",\"width\":0.5},\"pattern\":{\"fillmode\":\"overlay\",\"size\":10,\"solidity\":0.2}},\"type\":\"barpolar\"}],\"bar\":[{\"error_x\":{\"color\":\"#2a3f5f\"},\"error_y\":{\"color\":\"#2a3f5f\"},\"marker\":{\"line\":{\"color\":\"white\",\"width\":0.5},\"pattern\":{\"fillmode\":\"overlay\",\"size\":10,\"solidity\":0.2}},\"type\":\"bar\"}],\"carpet\":[{\"aaxis\":{\"endlinecolor\":\"#2a3f5f\",\"gridcolor\":\"#C8D4E3\",\"linecolor\":\"#C8D4E3\",\"minorgridcolor\":\"#C8D4E3\",\"startlinecolor\":\"#2a3f5f\"},\"baxis\":{\"endlinecolor\":\"#2a3f5f\",\"gridcolor\":\"#C8D4E3\",\"linecolor\":\"#C8D4E3\",\"minorgridcolor\":\"#C8D4E3\",\"startlinecolor\":\"#2a3f5f\"},\"type\":\"carpet\"}],\"choropleth\":[{\"colorbar\":{\"outlinewidth\":0,\"ticks\":\"\"},\"type\":\"choropleth\"}],\"contourcarpet\":[{\"colorbar\":{\"outlinewidth\":0,\"ticks\":\"\"},\"type\":\"contourcarpet\"}],\"contour\":[{\"colorbar\":{\"outlinewidth\":0,\"ticks\":\"\"},\"colorscale\":[[0.0,\"#0d0887\"],[0.1111111111111111,\"#46039f\"],[0.2222222222222222,\"#7201a8\"],[0.3333333333333333,\"#9c179e\"],[0.4444444444444444,\"#bd3786\"],[0.5555555555555556,\"#d8576b\"],[0.6666666666666666,\"#ed7953\"],[0.7777777777777778,\"#fb9f3a\"],[0.8888888888888888,\"#fdca26\"],[1.0,\"#f0f921\"]],\"type\":\"contour\"}],\"heatmapgl\":[{\"colorbar\":{\"outlinewidth\":0,\"ticks\":\"\"},\"colorscale\":[[0.0,\"#0d0887\"],[0.1111111111111111,\"#46039f\"],[0.2222222222222222,\"#7201a8\"],[0.3333333333333333,\"#9c179e\"],[0.4444444444444444,\"#bd3786\"],[0.5555555555555556,\"#d8576b\"],[0.6666666666666666,\"#ed7953\"],[0.7777777777777778,\"#fb9f3a\"],[0.8888888888888888,\"#fdca26\"],[1.0,\"#f0f921\"]],\"type\":\"heatmapgl\"}],\"heatmap\":[{\"colorbar\":{\"outlinewidth\":0,\"ticks\":\"\"},\"colorscale\":[[0.0,\"#0d0887\"],[0.1111111111111111,\"#46039f\"],[0.2222222222222222,\"#7201a8\"],[0.3333333333333333,\"#9c179e\"],[0.4444444444444444,\"#bd3786\"],[0.5555555555555556,\"#d8576b\"],[0.6666666666666666,\"#ed7953\"],[0.7777777777777778,\"#fb9f3a\"],[0.8888888888888888,\"#fdca26\"],[1.0,\"#f0f921\"]],\"type\":\"heatmap\"}],\"histogram2dcontour\":[{\"colorbar\":{\"outlinewidth\":0,\"ticks\":\"\"},\"colorscale\":[[0.0,\"#0d0887\"],[0.1111111111111111,\"#46039f\"],[0.2222222222222222,\"#7201a8\"],[0.3333333333333333,\"#9c179e\"],[0.4444444444444444,\"#bd3786\"],[0.5555555555555556,\"#d8576b\"],[0.6666666666666666,\"#ed7953\"],[0.7777777777777778,\"#fb9f3a\"],[0.8888888888888888,\"#fdca26\"],[1.0,\"#f0f921\"]],\"type\":\"histogram2dcontour\"}],\"histogram2d\":[{\"colorbar\":{\"outlinewidth\":0,\"ticks\":\"\"},\"colorscale\":[[0.0,\"#0d0887\"],[0.1111111111111111,\"#46039f\"],[0.2222222222222222,\"#7201a8\"],[0.3333333333333333,\"#9c179e\"],[0.4444444444444444,\"#bd3786\"],[0.5555555555555556,\"#d8576b\"],[0.6666666666666666,\"#ed7953\"],[0.7777777777777778,\"#fb9f3a\"],[0.8888888888888888,\"#fdca26\"],[1.0,\"#f0f921\"]],\"type\":\"histogram2d\"}],\"histogram\":[{\"marker\":{\"pattern\":{\"fillmode\":\"overlay\",\"size\":10,\"solidity\":0.2}},\"type\":\"histogram\"}],\"mesh3d\":[{\"colorbar\":{\"outlinewidth\":0,\"ticks\":\"\"},\"type\":\"mesh3d\"}],\"parcoords\":[{\"line\":{\"colorbar\":{\"outlinewidth\":0,\"ticks\":\"\"}},\"type\":\"parcoords\"}],\"pie\":[{\"automargin\":true,\"type\":\"pie\"}],\"scatter3d\":[{\"line\":{\"colorbar\":{\"outlinewidth\":0,\"ticks\":\"\"}},\"marker\":{\"colorbar\":{\"outlinewidth\":0,\"ticks\":\"\"}},\"type\":\"scatter3d\"}],\"scattercarpet\":[{\"marker\":{\"colorbar\":{\"outlinewidth\":0,\"ticks\":\"\"}},\"type\":\"scattercarpet\"}],\"scattergeo\":[{\"marker\":{\"colorbar\":{\"outlinewidth\":0,\"ticks\":\"\"}},\"type\":\"scattergeo\"}],\"scattergl\":[{\"marker\":{\"colorbar\":{\"outlinewidth\":0,\"ticks\":\"\"}},\"type\":\"scattergl\"}],\"scattermapbox\":[{\"marker\":{\"colorbar\":{\"outlinewidth\":0,\"ticks\":\"\"}},\"type\":\"scattermapbox\"}],\"scatterpolargl\":[{\"marker\":{\"colorbar\":{\"outlinewidth\":0,\"ticks\":\"\"}},\"type\":\"scatterpolargl\"}],\"scatterpolar\":[{\"marker\":{\"colorbar\":{\"outlinewidth\":0,\"ticks\":\"\"}},\"type\":\"scatterpolar\"}],\"scatter\":[{\"fillpattern\":{\"fillmode\":\"overlay\",\"size\":10,\"solidity\":0.2},\"type\":\"scatter\"}],\"scatterternary\":[{\"marker\":{\"colorbar\":{\"outlinewidth\":0,\"ticks\":\"\"}},\"type\":\"scatterternary\"}],\"surface\":[{\"colorbar\":{\"outlinewidth\":0,\"ticks\":\"\"},\"colorscale\":[[0.0,\"#0d0887\"],[0.1111111111111111,\"#46039f\"],[0.2222222222222222,\"#7201a8\"],[0.3333333333333333,\"#9c179e\"],[0.4444444444444444,\"#bd3786\"],[0.5555555555555556,\"#d8576b\"],[0.6666666666666666,\"#ed7953\"],[0.7777777777777778,\"#fb9f3a\"],[0.8888888888888888,\"#fdca26\"],[1.0,\"#f0f921\"]],\"type\":\"surface\"}],\"table\":[{\"cells\":{\"fill\":{\"color\":\"#EBF0F8\"},\"line\":{\"color\":\"white\"}},\"header\":{\"fill\":{\"color\":\"#C8D4E3\"},\"line\":{\"color\":\"white\"}},\"type\":\"table\"}]},\"layout\":{\"annotationdefaults\":{\"arrowcolor\":\"#2a3f5f\",\"arrowhead\":0,\"arrowwidth\":1},\"autotypenumbers\":\"strict\",\"coloraxis\":{\"colorbar\":{\"outlinewidth\":0,\"ticks\":\"\"}},\"colorscale\":{\"diverging\":[[0,\"#8e0152\"],[0.1,\"#c51b7d\"],[0.2,\"#de77ae\"],[0.3,\"#f1b6da\"],[0.4,\"#fde0ef\"],[0.5,\"#f7f7f7\"],[0.6,\"#e6f5d0\"],[0.7,\"#b8e186\"],[0.8,\"#7fbc41\"],[0.9,\"#4d9221\"],[1,\"#276419\"]],\"sequential\":[[0.0,\"#0d0887\"],[0.1111111111111111,\"#46039f\"],[0.2222222222222222,\"#7201a8\"],[0.3333333333333333,\"#9c179e\"],[0.4444444444444444,\"#bd3786\"],[0.5555555555555556,\"#d8576b\"],[0.6666666666666666,\"#ed7953\"],[0.7777777777777778,\"#fb9f3a\"],[0.8888888888888888,\"#fdca26\"],[1.0,\"#f0f921\"]],\"sequentialminus\":[[0.0,\"#0d0887\"],[0.1111111111111111,\"#46039f\"],[0.2222222222222222,\"#7201a8\"],[0.3333333333333333,\"#9c179e\"],[0.4444444444444444,\"#bd3786\"],[0.5555555555555556,\"#d8576b\"],[0.6666666666666666,\"#ed7953\"],[0.7777777777777778,\"#fb9f3a\"],[0.8888888888888888,\"#fdca26\"],[1.0,\"#f0f921\"]]},\"colorway\":[\"#636efa\",\"#EF553B\",\"#00cc96\",\"#ab63fa\",\"#FFA15A\",\"#19d3f3\",\"#FF6692\",\"#B6E880\",\"#FF97FF\",\"#FECB52\"],\"font\":{\"color\":\"#2a3f5f\"},\"geo\":{\"bgcolor\":\"white\",\"lakecolor\":\"white\",\"landcolor\":\"white\",\"showlakes\":true,\"showland\":true,\"subunitcolor\":\"#C8D4E3\"},\"hoverlabel\":{\"align\":\"left\"},\"hovermode\":\"closest\",\"mapbox\":{\"style\":\"light\"},\"paper_bgcolor\":\"white\",\"plot_bgcolor\":\"white\",\"polar\":{\"angularaxis\":{\"gridcolor\":\"#EBF0F8\",\"linecolor\":\"#EBF0F8\",\"ticks\":\"\"},\"bgcolor\":\"white\",\"radialaxis\":{\"gridcolor\":\"#EBF0F8\",\"linecolor\":\"#EBF0F8\",\"ticks\":\"\"}},\"scene\":{\"xaxis\":{\"backgroundcolor\":\"white\",\"gridcolor\":\"#DFE8F3\",\"gridwidth\":2,\"linecolor\":\"#EBF0F8\",\"showbackground\":true,\"ticks\":\"\",\"zerolinecolor\":\"#EBF0F8\"},\"yaxis\":{\"backgroundcolor\":\"white\",\"gridcolor\":\"#DFE8F3\",\"gridwidth\":2,\"linecolor\":\"#EBF0F8\",\"showbackground\":true,\"ticks\":\"\",\"zerolinecolor\":\"#EBF0F8\"},\"zaxis\":{\"backgroundcolor\":\"white\",\"gridcolor\":\"#DFE8F3\",\"gridwidth\":2,\"linecolor\":\"#EBF0F8\",\"showbackground\":true,\"ticks\":\"\",\"zerolinecolor\":\"#EBF0F8\"}},\"shapedefaults\":{\"line\":{\"color\":\"#2a3f5f\"}},\"ternary\":{\"aaxis\":{\"gridcolor\":\"#DFE8F3\",\"linecolor\":\"#A2B1C6\",\"ticks\":\"\"},\"baxis\":{\"gridcolor\":\"#DFE8F3\",\"linecolor\":\"#A2B1C6\",\"ticks\":\"\"},\"bgcolor\":\"white\",\"caxis\":{\"gridcolor\":\"#DFE8F3\",\"linecolor\":\"#A2B1C6\",\"ticks\":\"\"}},\"title\":{\"x\":0.05},\"xaxis\":{\"automargin\":true,\"gridcolor\":\"#EBF0F8\",\"linecolor\":\"#EBF0F8\",\"ticks\":\"\",\"title\":{\"standoff\":15},\"zerolinecolor\":\"#EBF0F8\",\"zerolinewidth\":2},\"yaxis\":{\"automargin\":true,\"gridcolor\":\"#EBF0F8\",\"linecolor\":\"#EBF0F8\",\"ticks\":\"\",\"title\":{\"standoff\":15},\"zerolinecolor\":\"#EBF0F8\",\"zerolinewidth\":2}}},\"xaxis\":{\"anchor\":\"y\",\"domain\":[0.0,1.0],\"title\":{\"text\":\"Salary ($M)\"},\"tickprefix\":\"$\",\"ticksuffix\":\"M\"},\"yaxis\":{\"anchor\":\"x\",\"domain\":[0.0,1.0],\"title\":{\"text\":\"eFG%\"}},\"legend\":{\"tracegroupgap\":0},\"title\":{\"text\":\"Salary vs eFG%\"}},                        {\"responsive\": true}                    ).then(function(){\n",
       "                            \n",
       "var gd = document.getElementById('3aa1300c-9714-4202-a368-f9db3c546be2');\n",
       "var x = new MutationObserver(function (mutations, observer) {{\n",
       "        var display = window.getComputedStyle(gd).display;\n",
       "        if (!display || display === 'none') {{\n",
       "            console.log([gd, 'removed!']);\n",
       "            Plotly.purge(gd);\n",
       "            observer.disconnect();\n",
       "        }}\n",
       "}});\n",
       "\n",
       "// Listen for the removal of the full notebook cells\n",
       "var notebookContainer = gd.closest('#notebook-container');\n",
       "if (notebookContainer) {{\n",
       "    x.observe(notebookContainer, {childList: true});\n",
       "}}\n",
       "\n",
       "// Listen for the clearing of the current output cell\n",
       "var outputEl = gd.closest('.output');\n",
       "if (outputEl) {{\n",
       "    x.observe(outputEl, {childList: true});\n",
       "}}\n",
       "\n",
       "                        })                };                });            </script>        </div>"
      ]
     },
     "metadata": {},
     "output_type": "display_data"
    }
   ],
   "source": [
    "# Scatterplots\n",
    "\n",
    "plot_salary_vs_stat('PTS')\n",
    "\n",
    "plot_salary_vs_stat('MP')\n",
    "\n",
    "plot_salary_vs_stat('Age')\n",
    "\n",
    "plot_salary_vs_stat('eFG%')"
   ]
  },
  {
   "cell_type": "code",
   "execution_count": 338,
   "id": "4304acfd-2f8b-4c8f-8cb1-a7d77d2da3a2",
   "metadata": {},
   "outputs": [],
   "source": [
    "# Initial analysis of Correlation and building Regression Model\n",
    "\n",
    "# 1) Efficiency Stats (FT%, FG%, eFG%, 3P%, 2P%) show low correlation to player's salary\n",
    "# Potential reason: efficiency stats often higher for role-players and bench players, who often doesn't get that many opportunity to score\n",
    "#                   and specialized to one ability (e.g. spot-up shooters).\n",
    "# Action: will drop all of them except for eFG%, which shows low correlation to salary but combines both FG% and 3P%, which makes\n",
    "#         a comprehensive indicator for scoring efficiency\n",
    "\n",
    "# 2) Will keep traditional (volume) stats, such as PTS, AST, TRB, STL, except for BLK (shows extremely low corrleation to salary)\n",
    "\n",
    "# 3) Reducing Multicollinearity\n",
    "# 3-1) FG-FGA: directly correlated to each other, will remove FGA and keep FG\n",
    "# 3-2) FT-FTA: directly correlated to each other, will remove FTA and keep FT\n",
    "# 3-3) 2P-2PA: directly correlated to each other, will remove 2PA and keep 2P\n",
    "# 3-4) MP-G-GS: correlated to each other, displays player's actual involvement to the team. Will remove G since shows low correlation\n",
    "#               , also remove GS since MP can explain player's importance to the team, and keep MP.\n",
    "# 3-5) TRB-DRB-ORB: directly correlated to each other, TRB gives overall picture about player's rebounding ability. will remove DRB/ORB and keep TRB\n",
    "# 3-6) 3P-3PA: correlated to FG, will remove both 3P and 3PA and keep FG\n",
    "\n",
    "# 4) Moderate/low correlation, but...\n",
    "#    will keep TOV since it likely has negative correlation to player's salary (more turnovers = less money)\n",
    "#    will keep age since it is interesting to see whether age plays a role on player's salary, not only performance.\n",
    "\n",
    "\n",
    "# Keeping: PTS > FG > FT > 2P > MP > TOV > AST > TRB > STL > AGE > eFG%"
   ]
  },
  {
   "cell_type": "code",
   "execution_count": 339,
   "id": "7cbd9bcb-c78c-49f7-aca3-aebd6e0cee6d",
   "metadata": {},
   "outputs": [
    {
     "name": "stdout",
     "output_type": "stream",
     "text": [
      "Coefficients (Salary Change per Unit Increase):\n",
      " PTS     $-3,276,693\n",
      "FG      $11,734,314\n",
      "FT       $4,853,241\n",
      "2P      $-3,778,044\n",
      "MP      $-1,204,791\n",
      "TOV     $-1,106,109\n",
      "AST      $1,350,743\n",
      "TRB      $1,431,034\n",
      "STL        $-19,068\n",
      "Age      $2,878,202\n",
      "eFG%      $-450,787\n",
      "dtype: object\n"
     ]
    }
   ],
   "source": [
    "# Plain Regression Model\n",
    "\n",
    "# Define selected features\n",
    "selected_features = ['PTS', 'FG', 'FT', '2P', 'MP', 'TOV', 'AST', 'TRB', 'STL', 'Age', 'eFG%']\n",
    "\n",
    "# Split data\n",
    "X = stats_salary[selected_features]\n",
    "y = stats_salary['Salary']\n",
    "X_train, X_test, y_train, y_test = train_test_split(X, y, test_size=0.2, random_state=42)\n",
    "\n",
    "# Scale features\n",
    "scaler = StandardScaler()\n",
    "X_train_scaled = scaler.fit_transform(X_train)\n",
    "X_test_scaled = scaler.transform(X_test)\n",
    "\n",
    "# Fit plain linear regression\n",
    "linreg = LinearRegression()\n",
    "linreg.fit(X_train_scaled, y_train)\n",
    "\n",
    "# Get the coefficients (scaled)\n",
    "coefficients = pd.Series(linreg.coef_, index=selected_features)\n",
    "\n",
    "# Convert coefficients to dollar terms and format them\n",
    "coefficients_in_dollars = coefficients.apply(lambda x: \"${:,.0f}\".format(x))\n",
    "\n",
    "# Display coefficients in a readable format\n",
    "print(\"Coefficients (Salary Change per Unit Increase):\\n\", coefficients_in_dollars)\n"
   ]
  },
  {
   "cell_type": "code",
   "execution_count": 340,
   "id": "fa443448-6eaf-46e2-9f10-9e129c11a8bd",
   "metadata": {},
   "outputs": [],
   "source": [
    "# First Adjustment\n",
    "\n",
    "# 1) PTS is also Highly correlated to FG, FT, 2P, EFG%. Simply, more FG/FT/2P and higher EFG% makes up higher PTS. Thus multicollinearity is caused.\n",
    "# Problem: PTS is negatively correlated to salary, which doesn't makes sense. But FG/FT has positive coefficient.\n",
    "#          This is happening since linear regression is \"giving credit\" of positive FG/FT to negative PTS/FT coefficient (tradeoff)\n",
    "# Adjustment: first remove FG, FT, 2P, EFG% since PTS can (directly/indirectly) explain them all."
   ]
  },
  {
   "cell_type": "code",
   "execution_count": 345,
   "id": "c62c5f85-ea92-4c4e-bd52-5d3074637aa4",
   "metadata": {},
   "outputs": [
    {
     "name": "stdout",
     "output_type": "stream",
     "text": [
      "Coefficients (Salary Change per Unit Increase):\n",
      " PTS     $9,589,783\n",
      "MP     $-2,142,834\n",
      "TOV      $-544,254\n",
      "AST     $1,506,594\n",
      "TRB     $1,247,115\n",
      "STL        $-7,474\n",
      "Age     $2,900,154\n",
      "dtype: object\n"
     ]
    }
   ],
   "source": [
    "# Plain Regression Model 2\n",
    "\n",
    "# Define selected features\n",
    "selected_features_2 = ['PTS', 'MP', 'TOV', 'AST', 'TRB', 'STL', 'Age']\n",
    "\n",
    "# Split data\n",
    "X_2 = stats_salary[selected_features2]\n",
    "y_2 = stats_salary['Salary']\n",
    "X_train_2, X_test_2, y_train_2, y_test_2 = train_test_split(X_2, y_2, test_size=0.2, random_state=42)\n",
    "\n",
    "# Scale features\n",
    "scaler = StandardScaler()\n",
    "X_train_scaled_2 = scaler.fit_transform(X_train_2)\n",
    "X_test_scaled_2 = scaler.transform(X_test_2)\n",
    "\n",
    "# Fit plain linear regression\n",
    "linreg_2 = LinearRegression()\n",
    "linreg_2.fit(X_train_scaled_2, y_train_2)\n",
    "\n",
    "# Get the coefficients (scaled)\n",
    "coefficients_2 = pd.Series(linreg.coef_, index=selected_features_2)\n",
    "\n",
    "# Convert coefficients to dollar terms and format them\n",
    "coefficients_in_dollars = coefficients_2.apply(lambda x: \"${:,.0f}\".format(x))\n",
    "\n",
    "# Display coefficients in a readable format\n",
    "print(\"Coefficients (Salary Change per Unit Increase):\\n\", coefficients_in_dollars)"
   ]
  },
  {
   "cell_type": "code",
   "execution_count": 347,
   "id": "7152860e-6a06-413d-88d6-c9eef0b4c45f",
   "metadata": {},
   "outputs": [
    {
     "name": "stdout",
     "output_type": "stream",
     "text": [
      "--- Plain Linear Regression ---\n",
      "Mean Squared Error (MSE): 74,323,038,271,342.59\n",
      "Root Mean Squared Error (RMSE): 8,621,081.04\n",
      "R-squared (R²): 0.5529\n"
     ]
    }
   ],
   "source": [
    "# TESTING\n",
    "\n",
    "from sklearn.metrics import mean_squared_error, r2_score\n",
    "import numpy as np\n",
    "\n",
    "# Predict on the test set\n",
    "y_pred_2 = linreg.predict(X_test_scaled_2)\n",
    "\n",
    "# Evaluation metrics\n",
    "mse = mean_squared_error(y_test_2, y_pred_2)\n",
    "rmse = np.sqrt(mse)\n",
    "r2 = r2_score(y_test_2, y_pred_2)\n",
    "\n",
    "print(\"--- Plain Linear Regression ---\")\n",
    "print(f\"Mean Squared Error (MSE): {mse:,.2f}\")\n",
    "print(f\"Root Mean Squared Error (RMSE): {rmse:,.2f}\")\n",
    "print(f\"R-squared (R²): {r2:.4f}\")\n"
   ]
  },
  {
   "cell_type": "code",
   "execution_count": 349,
   "id": "de15a335-7d9a-4856-85b6-28823376c100",
   "metadata": {},
   "outputs": [],
   "source": [
    "# Predicting Function\n",
    "\n",
    "def predict_salary(player_name, model, scaler, X_source, full_df):\n",
    "    # Filter the row for the given player\n",
    "    player_row = full_df[full_df['Player'] == player_name]\n",
    "\n",
    "    if player_row.empty:\n",
    "        print(f\"Player '{player_name}' not found.\")\n",
    "        return\n",
    "\n",
    "    # Extract the feature columns\n",
    "    player_features = player_row[X_source.columns]\n",
    "\n",
    "    # Scale the features\n",
    "    scaled_features = scaler.transform(player_features)\n",
    "\n",
    "    # Predict the salary\n",
    "    predicted_salary = model.predict(scaled_features)[0]\n",
    "\n",
    "    # Get the actual salary\n",
    "    actual_salary = player_row['Salary'].values[0]\n",
    "\n",
    "    # Calculate the deficit\n",
    "    deficit = predicted_salary - actual_salary\n",
    "\n",
    "    print(f\"Predicted salary for {player_name}: ${predicted_salary:,.2f}\")\n",
    "    print(f\"Current salary for {player_name}: ${actual_salary:,.2f}\")\n",
    "    print(f\"Deficit: ${deficit:,.2f}\\n\")\n"
   ]
  },
  {
   "cell_type": "code",
   "execution_count": 351,
   "id": "4327f263-10db-4665-baa0-722476b8f0a3",
   "metadata": {},
   "outputs": [
    {
     "name": "stdout",
     "output_type": "stream",
     "text": [
      "Players with contract expiring next year\n",
      "\n",
      "Predicted salary for James Harden: $36,330,105.52\n",
      "Current salary for James Harden: $33,653,846.00\n",
      "Deficit: $2,676,259.52\n",
      "\n",
      "Predicted salary for LeBron James: $43,158,989.92\n",
      "Current salary for LeBron James: $48,728,845.00\n",
      "Deficit: $-5,569,855.08\n",
      "\n",
      "Predicted salary for Clint Capela: $13,188,778.76\n",
      "Current salary for Clint Capela: $22,265,280.00\n",
      "Deficit: $-9,076,501.24\n",
      "\n",
      "Predicted salary for Chris Paul: $19,203,220.84\n",
      "Current salary for Chris Paul: $10,460,000.00\n",
      "Deficit: $8,743,220.84\n",
      "\n",
      "Predicted salary for Ty Jerome: $15,329,868.13\n",
      "Current salary for Ty Jerome: $2,560,975.00\n",
      "Deficit: $12,768,893.13\n",
      "\n",
      "Predicted salary for Jaxson Hayes: $4,579,832.33\n",
      "Current salary for Jaxson Hayes: $2,463,946.00\n",
      "Deficit: $2,115,886.33\n",
      "\n"
     ]
    }
   ],
   "source": [
    "# Test with favorite players\n",
    "# predict_salary(\"Nikola Jokic\", linreg, scaler, X_train, stats_salary)\n",
    "# predict_salary(\"Stephen Curry\", linreg, scaler, X_train, stats_salary)\n",
    "# predict_salary(\"LeBron James\", linreg, scaler, X_train, stats_salary)\n",
    "\n",
    "\n",
    "print(\"Players with contract expiring next year\\n\")\n",
    "predict_salary(\"James Harden\", linreg_2, scaler, X_train_2, stats_salary)\n",
    "predict_salary(\"LeBron James\", linreg_2, scaler, X_train_2, stats_salary)\n",
    "predict_salary(\"Clint Capela\", linreg_2, scaler, X_train_2, stats_salary)\n",
    "predict_salary(\"Chris Paul\", linreg_2, scaler, X_train_2, stats_salary)\n",
    "predict_salary(\"Ty Jerome\", linreg_2, scaler, X_train_2, stats_salary)\n",
    "predict_salary(\"Jaxson Hayes\", linreg_2, scaler, X_train_2, stats_salary)"
   ]
  }
 ],
 "metadata": {
  "kernelspec": {
   "display_name": "Python [conda env:base] *",
   "language": "python",
   "name": "conda-base-py"
  },
  "language_info": {
   "codemirror_mode": {
    "name": "ipython",
    "version": 3
   },
   "file_extension": ".py",
   "mimetype": "text/x-python",
   "name": "python",
   "nbconvert_exporter": "python",
   "pygments_lexer": "ipython3",
   "version": "3.12.7"
  }
 },
 "nbformat": 4,
 "nbformat_minor": 5
}
