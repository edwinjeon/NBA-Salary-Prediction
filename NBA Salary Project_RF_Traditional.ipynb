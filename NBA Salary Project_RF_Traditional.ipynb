{
 "cells": [
  {
   "cell_type": "markdown",
   "id": "54f6498d-2c26-49de-b3b5-8c5baf3f6ab2",
   "metadata": {},
   "source": [
    "# Predicting NBA Players' Salary Through Random Forest Model\n",
    "\n",
    "### Weon Gyu Jeon"
   ]
  },
  {
   "cell_type": "markdown",
   "id": "5ab69217-3c52-42fb-bf2e-185258492b68",
   "metadata": {},
   "source": [
    "## 1. Introduction  \n",
    "After building a [linear regression model using 2024–25 traditional stats](https://www.kaggle.com/code/ratin21/predicting-nba-salary-through-linear-regression), I wanted to try a more flexible, non-linear method to improve prediction performance. For this notebook, I used a Random Forest Regressor — an ensemble method that typically performs well without much feature scaling or heavy tuning.\n",
    "\n",
    "As always, the goal is to predict **NBA players' salary for the 2024–25 season** based solely on their performance statistics from the same season."
   ]
  },
  {
   "cell_type": "markdown",
   "id": "9552342b-7f0b-4f6b-9be4-89db371a792e",
   "metadata": {},
   "source": [
    "## 2. Preparation  "
   ]
  },
  {
   "cell_type": "markdown",
   "id": "fc0d87c5-416e-4995-b2ce-df80623f3bf2",
   "metadata": {},
   "source": [
    "### 2.1 Packages and Libraries"
   ]
  },
  {
   "cell_type": "code",
   "execution_count": 214,
   "id": "99b73ec3-d757-4b68-8570-eea2d5dc677d",
   "metadata": {},
   "outputs": [],
   "source": [
    "import pandas as pd\n",
    "import seaborn as sns\n",
    "import matplotlib.pyplot as plt\n",
    "import plotly.express as px\n",
    "import numpy as np\n",
    "from sklearn.linear_model import LinearRegression\n",
    "from sklearn.preprocessing import StandardScaler\n",
    "from sklearn.ensemble import RandomForestRegressor, GradientBoostingRegressor, ExtraTreesRegressor\n",
    "import xgboost as xgb\n",
    "from sklearn.metrics import mean_squared_error, r2_score\n",
    "from sklearn.model_selection import train_test_split, RandomizedSearchCV"
   ]
  },
  {
   "cell_type": "markdown",
   "id": "596b6611-5be4-41cd-9f12-ad260471ae77",
   "metadata": {},
   "source": [
    "### 2.2 Data Preparation\n",
    "CSV file for player salary in 2024-25 season was scrapped from [Basketball Reference](https://www.basketball-reference.com/contracts/players.html).\n",
    "CSV file for player stats can be easily acquired from [Basketball Reference](https://www.basketball-reference.com/leagues/NBA_2025_per_game.html) too."
   ]
  },
  {
   "cell_type": "code",
   "execution_count": 216,
   "id": "9b54bfd1-61c6-4314-aada-9896119d95c3",
   "metadata": {},
   "outputs": [],
   "source": [
    "salarydf = pd.read_csv(\"NBA Player Salaries_2024-25_1.csv\")\n",
    "statsdf = pd.read_csv(\"NBA Player Stats_2024-25_Per_Game.csv\")"
   ]
  },
  {
   "cell_type": "markdown",
   "id": "1b641ce7-c7fc-476b-9244-de5c6efd82f8",
   "metadata": {},
   "source": [
    "#### 2.2.1 Data Component\n",
    "Here is how the data looks like, before cleaning."
   ]
  },
  {
   "cell_type": "code",
   "execution_count": 218,
   "id": "09439fb0-67a6-4e17-a4d1-461ee7b26a8e",
   "metadata": {},
   "outputs": [
    {
     "data": {
      "text/html": [
       "<div>\n",
       "<style scoped>\n",
       "    .dataframe tbody tr th:only-of-type {\n",
       "        vertical-align: middle;\n",
       "    }\n",
       "\n",
       "    .dataframe tbody tr th {\n",
       "        vertical-align: top;\n",
       "    }\n",
       "\n",
       "    .dataframe thead th {\n",
       "        text-align: right;\n",
       "    }\n",
       "</style>\n",
       "<table border=\"1\" class=\"dataframe\">\n",
       "  <thead>\n",
       "    <tr style=\"text-align: right;\">\n",
       "      <th></th>\n",
       "      <th>Rk</th>\n",
       "      <th>Player</th>\n",
       "      <th>Age</th>\n",
       "      <th>Team</th>\n",
       "      <th>Pos</th>\n",
       "      <th>G</th>\n",
       "      <th>GS</th>\n",
       "      <th>MP</th>\n",
       "      <th>FG</th>\n",
       "      <th>FGA</th>\n",
       "      <th>FG%</th>\n",
       "      <th>3P</th>\n",
       "      <th>3PA</th>\n",
       "      <th>3P%</th>\n",
       "      <th>2P</th>\n",
       "      <th>2PA</th>\n",
       "      <th>2P%</th>\n",
       "      <th>eFG%</th>\n",
       "      <th>FT</th>\n",
       "      <th>FTA</th>\n",
       "      <th>FT%</th>\n",
       "      <th>ORB</th>\n",
       "      <th>DRB</th>\n",
       "      <th>TRB</th>\n",
       "      <th>AST</th>\n",
       "      <th>STL</th>\n",
       "      <th>BLK</th>\n",
       "      <th>TOV</th>\n",
       "      <th>PF</th>\n",
       "      <th>PTS</th>\n",
       "    </tr>\n",
       "  </thead>\n",
       "  <tbody>\n",
       "    <tr>\n",
       "      <th>0</th>\n",
       "      <td>1</td>\n",
       "      <td>Shai Gilgeous-Alexander</td>\n",
       "      <td>26</td>\n",
       "      <td>OKC</td>\n",
       "      <td>PG</td>\n",
       "      <td>76</td>\n",
       "      <td>76</td>\n",
       "      <td>34.2</td>\n",
       "      <td>11.3</td>\n",
       "      <td>21.8</td>\n",
       "      <td>0.519</td>\n",
       "      <td>2.1</td>\n",
       "      <td>5.7</td>\n",
       "      <td>0.375</td>\n",
       "      <td>9.2</td>\n",
       "      <td>16.1</td>\n",
       "      <td>0.571</td>\n",
       "      <td>0.569</td>\n",
       "      <td>7.9</td>\n",
       "      <td>8.8</td>\n",
       "      <td>0.898</td>\n",
       "      <td>0.9</td>\n",
       "      <td>4.1</td>\n",
       "      <td>5.0</td>\n",
       "      <td>6.4</td>\n",
       "      <td>1.7</td>\n",
       "      <td>1.0</td>\n",
       "      <td>2.4</td>\n",
       "      <td>2.2</td>\n",
       "      <td>32.7</td>\n",
       "    </tr>\n",
       "  </tbody>\n",
       "</table>\n",
       "</div>"
      ],
      "text/plain": [
       "   Rk                   Player  Age Team Pos   G  GS    MP    FG   FGA    FG%  \\\n",
       "0   1  Shai Gilgeous-Alexander   26  OKC  PG  76  76  34.2  11.3  21.8  0.519   \n",
       "\n",
       "    3P  3PA    3P%   2P   2PA    2P%   eFG%   FT  FTA    FT%  ORB  DRB  TRB  \\\n",
       "0  2.1  5.7  0.375  9.2  16.1  0.571  0.569  7.9  8.8  0.898  0.9  4.1  5.0   \n",
       "\n",
       "   AST  STL  BLK  TOV   PF   PTS  \n",
       "0  6.4  1.7  1.0  2.4  2.2  32.7  "
      ]
     },
     "execution_count": 218,
     "metadata": {},
     "output_type": "execute_result"
    }
   ],
   "source": [
    "pd.set_option('display.max_columns', None)\n",
    "statsdf.head(1)"
   ]
  },
  {
   "cell_type": "code",
   "execution_count": 219,
   "id": "e96eaeba-8ccb-4f6d-a730-e6333f589985",
   "metadata": {},
   "outputs": [
    {
     "data": {
      "text/html": [
       "<div>\n",
       "<style scoped>\n",
       "    .dataframe tbody tr th:only-of-type {\n",
       "        vertical-align: middle;\n",
       "    }\n",
       "\n",
       "    .dataframe tbody tr th {\n",
       "        vertical-align: top;\n",
       "    }\n",
       "\n",
       "    .dataframe thead th {\n",
       "        text-align: right;\n",
       "    }\n",
       "</style>\n",
       "<table border=\"1\" class=\"dataframe\">\n",
       "  <thead>\n",
       "    <tr style=\"text-align: right;\">\n",
       "      <th></th>\n",
       "      <th>Player</th>\n",
       "      <th>Team</th>\n",
       "      <th>Salary</th>\n",
       "    </tr>\n",
       "  </thead>\n",
       "  <tbody>\n",
       "    <tr>\n",
       "      <th>0</th>\n",
       "      <td>Stephen Curry</td>\n",
       "      <td>GSW</td>\n",
       "      <td>$55,761,216</td>\n",
       "    </tr>\n",
       "  </tbody>\n",
       "</table>\n",
       "</div>"
      ],
      "text/plain": [
       "          Player Team        Salary\n",
       "0  Stephen Curry  GSW  $55,761,216 "
      ]
     },
     "execution_count": 219,
     "metadata": {},
     "output_type": "execute_result"
    }
   ],
   "source": [
    "salarydf.head(1)"
   ]
  },
  {
   "cell_type": "markdown",
   "id": "fd422269-fe60-4ab7-b353-962fed3a3b63",
   "metadata": {},
   "source": [
    "### 2.3 Data Cleaning"
   ]
  },
  {
   "cell_type": "markdown",
   "id": "f52ddcd8-5afd-4774-96e8-8cca883e8b24",
   "metadata": {},
   "source": [
    "#### 2.3.1 Salary Data\n",
    "So for Salary Data, I had to:\n",
    "1) remove dollar signs from 'Salary' column and change data type to integer so that it's calculatable\n",
    "2) strip whitespaces from 'Player' column if there is any\n",
    "3) check null values\n",
    "4) finally, drop duplicate rows, of course"
   ]
  },
  {
   "cell_type": "code",
   "execution_count": 222,
   "id": "3fcbff6d-7017-4ecc-b9d9-de79e0a78503",
   "metadata": {},
   "outputs": [],
   "source": [
    "salarydf['Salary'] = salarydf['Salary'].replace(r'[\\$,]', '', regex=True).astype(int)\n",
    "\n",
    "salarydf['Player'] = salarydf['Player'].str.strip()\n",
    "\n",
    "# print(salarydf.isnull().sum())\n",
    "\n",
    "salarydf = salarydf.drop_duplicates()"
   ]
  },
  {
   "cell_type": "markdown",
   "id": "54907763-3aa0-4a55-b4e4-38d1437ae1b9",
   "metadata": {},
   "source": [
    "#### 2.3.2 Stats Data\n",
    "\n",
    "For stats data, I had to deal with player entries who played for multiple teams this season. If a player moved teams once within the season, Basketball Reference's record puts three entries separate:\n",
    "1) player's total stats recorded in both teams\n",
    "2) stats recorded in the first team\n",
    "3) stats recorded in the second team\n",
    "\n",
    "e.g. Zach Lavine played for CHI and SAC this season, then there are three entries for him: 2TM, CHI, SAC\n",
    "\n",
    "So I cleaned it by counting the number of entries that one player has, filtered it, and saved entries that has their full stats this season."
   ]
  },
  {
   "cell_type": "code",
   "execution_count": 224,
   "id": "5334d444-c23e-4703-8000-ffb6373f43e5",
   "metadata": {},
   "outputs": [],
   "source": [
    "# Step 1: find players played for multiple teams\n",
    "duplicate_players = statsdf['Player'].value_counts()\n",
    "multi_team_players = duplicate_players[duplicate_players > 1].index"
   ]
  },
  {
   "cell_type": "code",
   "execution_count": 225,
   "id": "80317f3a-ddfb-4146-9ed7-ceb2e5e879db",
   "metadata": {},
   "outputs": [],
   "source": [
    "# Step 2: Separately filter players (multi and single)\n",
    "multi_team_rows = statsdf[statsdf['Player'].isin(multi_team_players)]\n",
    "single_team_rows = statsdf[~statsdf['Player'].isin(multi_team_players)]"
   ]
  },
  {
   "cell_type": "code",
   "execution_count": 226,
   "id": "be91ea15-6bd7-4706-b2ab-bba0a2ac7921",
   "metadata": {},
   "outputs": [],
   "source": [
    "# Step 3: Combine the single-team rows with the multi-team rows that we will keep (one row per player, only)\n",
    "# Here, we're keeping the very first row for each player in multi_team_rows (the one with '2TM', '3TM', etc.)\n",
    "summary_rows = multi_team_rows.drop_duplicates(subset='Player', keep='first')\n",
    "cleaned_statsdf = pd.concat([single_team_rows, summary_rows], ignore_index=True)"
   ]
  },
  {
   "cell_type": "markdown",
   "id": "bf85fa69-1c7e-4633-882f-92e9b8b28675",
   "metadata": {},
   "source": [
    "Then,\n",
    "1) removed 'Rk' column which doesn't contain any meaning\n",
    "2) stripped whitespaces in player names\n",
    "3) check for null values"
   ]
  },
  {
   "cell_type": "code",
   "execution_count": 228,
   "id": "e4fa2f8c-8b83-479e-8d77-a83cdfe4cd58",
   "metadata": {},
   "outputs": [],
   "source": [
    "cleaned_statsdf = cleaned_statsdf.drop(columns=['Rk'], errors='ignore')\n",
    "\n",
    "cleaned_statsdf['Player'] = cleaned_statsdf['Player'].str.strip()\n",
    "\n",
    "cleaned_statsdf = cleaned_statsdf.fillna(0)"
   ]
  },
  {
   "cell_type": "markdown",
   "id": "bae81cf8-807e-45e2-a4fb-8746655d2723",
   "metadata": {},
   "source": [
    "### 2.4 Merging Datasets"
   ]
  },
  {
   "cell_type": "code",
   "execution_count": 230,
   "id": "8548c5f1-b13a-434a-b31a-34547d44a842",
   "metadata": {},
   "outputs": [],
   "source": [
    "stats_salary = pd.merge(cleaned_statsdf, salarydf[['Player', 'Salary']], on='Player', how='inner')"
   ]
  },
  {
   "cell_type": "markdown",
   "id": "e0d666e2-83cf-4f0a-ab77-70f7ef30c2a9",
   "metadata": {},
   "source": [
    "#### 2.4.1 Further Cleaning"
   ]
  },
  {
   "cell_type": "code",
   "execution_count": 232,
   "id": "770b0fdb-6440-41c7-9b60-41df501aa506",
   "metadata": {},
   "outputs": [],
   "source": [
    "stats_salary = stats_salary.drop_duplicates()\n",
    "\n",
    "stats_salary = stats_salary.reset_index(drop=True)"
   ]
  },
  {
   "cell_type": "markdown",
   "id": "07e58e8e-9254-4df7-aff9-3e9653d1d555",
   "metadata": {},
   "source": [
    "## 3. Testing Different Non-Linear Regressions\n",
    "\n",
    "I tried various popular non-linear regression models here to compare and contrast the performance: **Random Forest, Gradient Boosting, XGBoost and Extra trees**. <br> Then, I also differentiated sets of independent variables to 1) **limited features**, which refers to some most-used traditional stats (PTS, AST, REB, STL, BLK, and Age), 2) **all features**, which is basically all the traditional stats included in stats dataset. \n",
    "<br>\n",
    "The reason why I did this is just to find and use the best-performing model to predict player's salary, although all of the model will be called in a default setting without further tuning. It is just a simple and fun observation to make."
   ]
  },
  {
   "cell_type": "markdown",
   "id": "abc53d07-1c50-4f53-b615-da1323397bbe",
   "metadata": {},
   "source": [
    "#### Feature sets"
   ]
  },
  {
   "cell_type": "code",
   "execution_count": 235,
   "id": "8662bf34-1f47-4212-bb8d-0b6407978255",
   "metadata": {},
   "outputs": [],
   "source": [
    "limited_features = ['PTS', 'AST', 'TRB', 'STL', 'BLK', 'Age']\n",
    "all_features = [col for col in stats_salary.columns if col not in ['Player', 'Team', 'Pos', 'Salary', 'Year']]"
   ]
  },
  {
   "cell_type": "markdown",
   "id": "25b9e6e2-f31b-48f2-838c-5d49faaca3c3",
   "metadata": {},
   "source": [
    "### 3.1 Helper Functions"
   ]
  },
  {
   "cell_type": "markdown",
   "id": "28816f6f-1072-4b68-b251-5df3ae09a5aa",
   "metadata": {},
   "source": [
    "#### Function to evaluate and print testing results"
   ]
  },
  {
   "cell_type": "code",
   "execution_count": 238,
   "id": "70214204-a5fd-4503-946e-7f993a3118ce",
   "metadata": {},
   "outputs": [],
   "source": [
    "def evaluate_model(model, name, X_train, X_test, y_train, y_test):\n",
    "    model.fit(X_train, y_train)\n",
    "    y_pred = model.predict(X_test)\n",
    "    rmse = root_mean_squared_error(y_test, y_pred)\n",
    "    r2 = r2_score(y_test, y_pred)\n",
    "    print(f\"{name} Results:\")\n",
    "    print(f\"RMSE: ${rmse :,.2f}\")\n",
    "    print(f\"R^2 Score: {r2:.4f}\\n\")\n",
    "    return {'name': name, 'rmse': rmse, 'r2': r2}"
   ]
  },
  {
   "cell_type": "markdown",
   "id": "fa2398f5-780c-4ee0-b51b-5b3675ac40db",
   "metadata": {},
   "source": [
    "#### Function to get scaled data"
   ]
  },
  {
   "cell_type": "code",
   "execution_count": 240,
   "id": "5fed2430-cecc-4d4c-bda2-3534fb5cd904",
   "metadata": {},
   "outputs": [],
   "source": [
    "def get_scaled_train_test_split(dataframe, feature_set, target_col='Salary', test_size=0.2, random_state=42):\n",
    "    X = dataframe[feature_set]\n",
    "    y = dataframe[target_col]\n",
    "    X_train, X_test, y_train, y_test = train_test_split(X, y, test_size=test_size, random_state=random_state)\n",
    "\n",
    "    scaler = StandardScaler()\n",
    "    X_train_scaled = scaler.fit_transform(X_train)\n",
    "    X_test_scaled = scaler.transform(X_test)\n",
    "\n",
    "    return X_train_scaled, X_test_scaled, y_train, y_test"
   ]
  },
  {
   "cell_type": "markdown",
   "id": "2471607e-2c64-48b1-afd1-5d3dcb0806c7",
   "metadata": {},
   "source": [
    "#### Function to evaluate model on both feature sets"
   ]
  },
  {
   "cell_type": "code",
   "execution_count": 242,
   "id": "5d4f82db-0b8e-4816-be50-e9dd5cdb5ff9",
   "metadata": {},
   "outputs": [],
   "source": [
    "def evaluate_model_on_two_feature_sets(dataframe, feature_set_1, feature_set_2, model_class, model_name):\n",
    "    # Evaluate on first feature set\n",
    "    X_train_1, X_test_1, y_train_1, y_test_1 = get_scaled_train_test_split(dataframe, feature_set_1)\n",
    "    evaluate_model(model_class(), f\"{model_name} {feature_set_1}\", X_train_1, X_test_1, y_train_1, y_test_1)\n",
    "\n",
    "    # Evaluate on second feature set\n",
    "    X_train_2, X_test_2, y_train_2, y_test_2 = get_scaled_train_test_split(dataframe, feature_set_2)\n",
    "    evaluate_model(model_class(), f\"{model_name} {feature_set_2}\", X_train_2, X_test_2, y_train_2, y_test_2)"
   ]
  },
  {
   "cell_type": "markdown",
   "id": "2325e74a-81d6-4acb-8088-148cd96ab3af",
   "metadata": {},
   "source": [
    "### 3.2 Results"
   ]
  },
  {
   "cell_type": "markdown",
   "id": "125a340d-33bc-4089-ba79-fc930a848a34",
   "metadata": {},
   "source": [
    "#### Random Forest Results"
   ]
  },
  {
   "cell_type": "code",
   "execution_count": 245,
   "id": "9e81c94b-51c1-4053-a60e-40f3a0ec0af5",
   "metadata": {},
   "outputs": [
    {
     "name": "stdout",
     "output_type": "stream",
     "text": [
      "Random Forest ['PTS', 'AST', 'TRB', 'STL', 'BLK', 'Age'] Results:\n",
      "RMSE: $8,468,548.82\n",
      "R^2 Score: 0.6020\n",
      "\n",
      "Random Forest ['Age', 'G', 'GS', 'MP', 'FG', 'FGA', 'FG%', '3P', '3PA', '3P%', '2P', '2PA', '2P%', 'eFG%', 'FT', 'FTA', 'FT%', 'ORB', 'DRB', 'TRB', 'AST', 'STL', 'BLK', 'TOV', 'PF', 'PTS'] Results:\n",
      "RMSE: $8,525,708.98\n",
      "R^2 Score: 0.5966\n",
      "\n"
     ]
    }
   ],
   "source": [
    "evaluate_model_on_two_feature_sets(stats_salary, limited_features, all_features, RandomForestRegressor, \"Random Forest\")"
   ]
  },
  {
   "cell_type": "markdown",
   "id": "02abdba9-a95c-4519-bca0-49a9580512e5",
   "metadata": {},
   "source": [
    "#### Gradient Boosting Results"
   ]
  },
  {
   "cell_type": "code",
   "execution_count": 247,
   "id": "148bcec5-f92d-4940-b2d3-266bc8bb3d0e",
   "metadata": {},
   "outputs": [
    {
     "name": "stdout",
     "output_type": "stream",
     "text": [
      "Gradient Boosting ['PTS', 'AST', 'TRB', 'STL', 'BLK', 'Age'] Results:\n",
      "RMSE: $9,297,996.41\n",
      "R^2 Score: 0.5203\n",
      "\n",
      "Gradient Boosting ['Age', 'G', 'GS', 'MP', 'FG', 'FGA', 'FG%', '3P', '3PA', '3P%', '2P', '2PA', '2P%', 'eFG%', 'FT', 'FTA', 'FT%', 'ORB', 'DRB', 'TRB', 'AST', 'STL', 'BLK', 'TOV', 'PF', 'PTS'] Results:\n",
      "RMSE: $8,638,931.79\n",
      "R^2 Score: 0.5859\n",
      "\n"
     ]
    }
   ],
   "source": [
    "evaluate_model_on_two_feature_sets(stats_salary, limited_features, all_features, GradientBoostingRegressor, \"Gradient Boosting\")"
   ]
  },
  {
   "cell_type": "markdown",
   "id": "3af21ba9-e26f-4fa7-aec1-18d38a2ca97c",
   "metadata": {},
   "source": [
    "#### XGBoost Results"
   ]
  },
  {
   "cell_type": "code",
   "execution_count": 249,
   "id": "1514b6f5-9e8a-4c36-a5c9-5cfd97e39856",
   "metadata": {},
   "outputs": [
    {
     "name": "stdout",
     "output_type": "stream",
     "text": [
      "XGBoost ['PTS', 'AST', 'TRB', 'STL', 'BLK', 'Age'] Results:\n",
      "RMSE: $9,416,485.47\n",
      "R^2 Score: 0.5079\n",
      "\n",
      "XGBoost ['Age', 'G', 'GS', 'MP', 'FG', 'FGA', 'FG%', '3P', '3PA', '3P%', '2P', '2PA', '2P%', 'eFG%', 'FT', 'FTA', 'FT%', 'ORB', 'DRB', 'TRB', 'AST', 'STL', 'BLK', 'TOV', 'PF', 'PTS'] Results:\n",
      "RMSE: $8,954,838.87\n",
      "R^2 Score: 0.5550\n",
      "\n"
     ]
    }
   ],
   "source": [
    "evaluate_model_on_two_feature_sets(stats_salary, limited_features, all_features, xgb.XGBRegressor, \"XGBoost\")"
   ]
  },
  {
   "cell_type": "markdown",
   "id": "d3a00929-b1ff-4af8-a59d-c11518e3e9c0",
   "metadata": {},
   "source": [
    "#### Extra Trees Results"
   ]
  },
  {
   "cell_type": "code",
   "execution_count": 251,
   "id": "72640ff6-93f1-4556-b1a5-f8c65c42b388",
   "metadata": {},
   "outputs": [
    {
     "name": "stdout",
     "output_type": "stream",
     "text": [
      "Extra Trees ['PTS', 'AST', 'TRB', 'STL', 'BLK', 'Age'] Results:\n",
      "RMSE: $8,830,299.67\n",
      "R^2 Score: 0.5673\n",
      "\n",
      "Extra Trees ['Age', 'G', 'GS', 'MP', 'FG', 'FGA', 'FG%', '3P', '3PA', '3P%', '2P', '2PA', '2P%', 'eFG%', 'FT', 'FTA', 'FT%', 'ORB', 'DRB', 'TRB', 'AST', 'STL', 'BLK', 'TOV', 'PF', 'PTS'] Results:\n",
      "RMSE: $9,047,253.24\n",
      "R^2 Score: 0.5458\n",
      "\n"
     ]
    }
   ],
   "source": [
    "evaluate_model_on_two_feature_sets(stats_salary, limited_features, all_features, ExtraTreesRegressor, \"Extra Trees\")"
   ]
  },
  {
   "cell_type": "markdown",
   "id": "70a5f614-2d94-436a-bffa-058f57dd9c0b",
   "metadata": {},
   "source": [
    "#### Result Summarized"
   ]
  },
  {
   "cell_type": "markdown",
   "id": "2b3f88d6-0db0-40a2-a00e-5d3a44886086",
   "metadata": {},
   "source": [
    "| Rank | Model                 | **RMSE (Limited)** | **R² (Limited)** | **RMSE (All)** | **R² (All)** | **Avg R²** |\n",
    "| ---- | --------------------- | ------------------ | ---------------- | -------------- | ------------ | ---------- |\n",
    "| 1    | **Random Forest**     | \\$8.60M            | 0.5897           | \\$8.54M        | 0.5957       | **0.5927** |\n",
    "| 2    | **Gradient Boosting** | \\$9.21M            | 0.5291           | \\$8.65M        | 0.5845       | **0.5568** |\n",
    "| 3    | **Extra Trees**       | \\$8.90M            | 0.5600           | \\$9.19M        | 0.5312       | **0.5456** |\n",
    "| 4    | **XGBoost**           | \\$9.42M            | 0.5079           | \\$8.95M        | 0.5550       | **0.5315** |"
   ]
  },
  {
   "cell_type": "markdown",
   "id": "2c740448-e5d8-41ef-acf1-0632ab17e9e1",
   "metadata": {},
   "source": [
    "**Random Forest** performed the best. Although these non-linear regression models **give different results every time** we call (due to random train/test splits), there can be several reasons why Random Forest perofrmed the best, on average:\n",
    "1) Random Forest often performs the best with default setting (without tuning) compared to other models.\n",
    "2) Random Forest can capture nonlinear relationships and threshold naturally. NBA dataset includes a lot of 'salary jumps', where some players with certain threshold gets extreme salary boost. For instance, players with supermax contracts get paid significantly higher than others.\n",
    "3) Random Forest deals well with overfitting with small and noisy dataset. And this dataset has just ~600 rows."
   ]
  },
  {
   "cell_type": "markdown",
   "id": "0d813bc0-72ed-4004-a259-dd745efcaec1",
   "metadata": {},
   "source": [
    "## 4. How about in a larger dataset?\n",
    "\n",
    "As above, Random Forest model deals well with small and noisy dataset. How about larger one? I collected the same data but with a larger scale of **2010-2025**. Notebook that includes full process of data scrapping and cleaning can be found at my [Github Repository](https://github.com/edwinjeon/NBA-Salary-Prediction)."
   ]
  },
  {
   "cell_type": "markdown",
   "id": "89a57685-a1fd-4363-9981-2dca2297315f",
   "metadata": {},
   "source": [
    "### 4.1 About this data"
   ]
  },
  {
   "cell_type": "code",
   "execution_count": 257,
   "id": "78bc8840-32e5-4ffd-8aba-e315f6e220d6",
   "metadata": {},
   "outputs": [],
   "source": [
    "largerdf = pd.read_csv(\"NBA Player Stats and Salaries_2010-2025.csv\")"
   ]
  },
  {
   "cell_type": "markdown",
   "id": "f0856eee-874f-43f4-aea5-987b77de7479",
   "metadata": {},
   "source": [
    "#### 4.1.1 Data components"
   ]
  },
  {
   "cell_type": "code",
   "execution_count": 259,
   "id": "ae742fdc-982a-4872-bc4b-9e7ca38f67ea",
   "metadata": {},
   "outputs": [
    {
     "data": {
      "text/html": [
       "<div>\n",
       "<style scoped>\n",
       "    .dataframe tbody tr th:only-of-type {\n",
       "        vertical-align: middle;\n",
       "    }\n",
       "\n",
       "    .dataframe tbody tr th {\n",
       "        vertical-align: top;\n",
       "    }\n",
       "\n",
       "    .dataframe thead th {\n",
       "        text-align: right;\n",
       "    }\n",
       "</style>\n",
       "<table border=\"1\" class=\"dataframe\">\n",
       "  <thead>\n",
       "    <tr style=\"text-align: right;\">\n",
       "      <th></th>\n",
       "      <th>Player</th>\n",
       "      <th>Salary</th>\n",
       "      <th>Year</th>\n",
       "      <th>Pos</th>\n",
       "      <th>Age</th>\n",
       "      <th>Team</th>\n",
       "      <th>G</th>\n",
       "      <th>GS</th>\n",
       "      <th>MP</th>\n",
       "      <th>FG</th>\n",
       "      <th>FGA</th>\n",
       "      <th>FG%</th>\n",
       "      <th>3P</th>\n",
       "      <th>3PA</th>\n",
       "      <th>3P%</th>\n",
       "      <th>2P</th>\n",
       "      <th>2PA</th>\n",
       "      <th>2P%</th>\n",
       "      <th>eFG%</th>\n",
       "      <th>FT</th>\n",
       "      <th>FTA</th>\n",
       "      <th>FT%</th>\n",
       "      <th>ORB</th>\n",
       "      <th>DRB</th>\n",
       "      <th>TRB</th>\n",
       "      <th>AST</th>\n",
       "      <th>STL</th>\n",
       "      <th>BLK</th>\n",
       "      <th>TOV</th>\n",
       "      <th>PF</th>\n",
       "      <th>PTS</th>\n",
       "    </tr>\n",
       "  </thead>\n",
       "  <tbody>\n",
       "    <tr>\n",
       "      <th>0</th>\n",
       "      <td>Kobe Bryant</td>\n",
       "      <td>23034375</td>\n",
       "      <td>2010</td>\n",
       "      <td>SG</td>\n",
       "      <td>31</td>\n",
       "      <td>LAL</td>\n",
       "      <td>73</td>\n",
       "      <td>73</td>\n",
       "      <td>38.8</td>\n",
       "      <td>9.8</td>\n",
       "      <td>21.5</td>\n",
       "      <td>0.456</td>\n",
       "      <td>1.4</td>\n",
       "      <td>4.1</td>\n",
       "      <td>0.329</td>\n",
       "      <td>8.5</td>\n",
       "      <td>17.4</td>\n",
       "      <td>0.487</td>\n",
       "      <td>0.488</td>\n",
       "      <td>6.0</td>\n",
       "      <td>7.4</td>\n",
       "      <td>0.811</td>\n",
       "      <td>1.1</td>\n",
       "      <td>4.3</td>\n",
       "      <td>5.4</td>\n",
       "      <td>5.0</td>\n",
       "      <td>1.5</td>\n",
       "      <td>0.3</td>\n",
       "      <td>3.2</td>\n",
       "      <td>2.6</td>\n",
       "      <td>27.0</td>\n",
       "    </tr>\n",
       "  </tbody>\n",
       "</table>\n",
       "</div>"
      ],
      "text/plain": [
       "        Player    Salary  Year Pos  Age Team   G  GS    MP   FG   FGA    FG%  \\\n",
       "0  Kobe Bryant  23034375  2010  SG   31  LAL  73  73  38.8  9.8  21.5  0.456   \n",
       "\n",
       "    3P  3PA    3P%   2P   2PA    2P%   eFG%   FT  FTA    FT%  ORB  DRB  TRB  \\\n",
       "0  1.4  4.1  0.329  8.5  17.4  0.487  0.488  6.0  7.4  0.811  1.1  4.3  5.4   \n",
       "\n",
       "   AST  STL  BLK  TOV   PF   PTS  \n",
       "0  5.0  1.5  0.3  3.2  2.6  27.0  "
      ]
     },
     "execution_count": 259,
     "metadata": {},
     "output_type": "execute_result"
    }
   ],
   "source": [
    "largerdf.head(1)"
   ]
  },
  {
   "cell_type": "markdown",
   "id": "d0921b6b-70ef-4ecf-96de-e64aac908dcd",
   "metadata": {},
   "source": [
    "As we can see, we have all the traditional stats and salary info in this dataset."
   ]
  },
  {
   "cell_type": "markdown",
   "id": "57467e25-0a10-4163-a989-1c8aa58fe161",
   "metadata": {},
   "source": [
    "#### 4.1.2 Redefine set of features"
   ]
  },
  {
   "cell_type": "code",
   "execution_count": 262,
   "id": "0db2d643-48be-43db-a9e2-b9dca83868db",
   "metadata": {},
   "outputs": [],
   "source": [
    "limited_features = ['PTS', 'AST', 'TRB', 'STL', 'BLK', 'Age']\n",
    "all_features = [col for col in largerdf.columns if col not in ['Player', 'Team', 'Pos', 'Salary']]"
   ]
  },
  {
   "cell_type": "markdown",
   "id": "e3d5a98a-8a29-4249-973d-1a9827e4780f",
   "metadata": {},
   "source": [
    "### 4.2 Testing with Random Forest"
   ]
  },
  {
   "cell_type": "code",
   "execution_count": 264,
   "id": "563f7cbe-54c0-4c8f-b1c4-119eb27e9d81",
   "metadata": {},
   "outputs": [
    {
     "name": "stdout",
     "output_type": "stream",
     "text": [
      "Random Forest ['PTS', 'AST', 'TRB', 'STL', 'BLK', 'Age'] Results:\n",
      "RMSE: $5,189,631.44\n",
      "R^2 Score: 0.6092\n",
      "\n",
      "Random Forest ['Year', 'Age', 'G', 'GS', 'MP', 'FG', 'FGA', 'FG%', '3P', '3PA', '3P%', '2P', '2PA', '2P%', 'eFG%', 'FT', 'FTA', 'FT%', 'ORB', 'DRB', 'TRB', 'AST', 'STL', 'BLK', 'TOV', 'PF', 'PTS'] Results:\n",
      "RMSE: $4,241,462.21\n",
      "R^2 Score: 0.7389\n",
      "\n"
     ]
    }
   ],
   "source": [
    "evaluate_model_on_two_feature_sets(largerdf, limited_features, all_features, RandomForestRegressor, \"Random Forest\")"
   ]
  },
  {
   "cell_type": "markdown",
   "id": "478d8326-7b06-4840-89f9-60acbb069f45",
   "metadata": {},
   "source": [
    "With a larger dataset to train on, Random Forest gave **better result** than the stats dataset with only one season. This is primarily because of two reasons:\n",
    "1) More data (~600 entries on one season vs. ~7300 entries on 15 seasons)\n",
    "2) 'Year' factor is now included, so now the model is capable to apply inflation of salary."
   ]
  },
  {
   "cell_type": "markdown",
   "id": "4afbe6f7-c8d3-43bc-a335-6588893e923d",
   "metadata": {},
   "source": [
    "That being said, Let's use **larger set of stats with all of the features** for our prediction."
   ]
  },
  {
   "cell_type": "markdown",
   "id": "48f80526-9795-4788-b375-ff24309b053a",
   "metadata": {},
   "source": [
    "## 5. Hyperparameter Tuning with RandomizedSearchCV\n",
    "\n",
    "To explore better hyperparameters for the Random Forest Regressor, I used `RandomizedSearchCV` library. This tool randomly samples from a specified parameter grid and evaluates performance using cross-validation."
   ]
  },
  {
   "cell_type": "markdown",
   "id": "48c583e2-f2de-463c-b59e-3d7c79ac1a14",
   "metadata": {},
   "source": [
    "#### Set of features, splitting, scaling"
   ]
  },
  {
   "cell_type": "code",
   "execution_count": 269,
   "id": "f20c2872-cf0a-4caa-94a8-3323ac201912",
   "metadata": {},
   "outputs": [],
   "source": [
    "X = largerdf[all_features]\n",
    "y = largerdf['Salary']"
   ]
  },
  {
   "cell_type": "code",
   "execution_count": 270,
   "id": "6153fef8-f03c-47f1-8249-273406a46508",
   "metadata": {},
   "outputs": [],
   "source": [
    "X_train, X_test, y_train, y_test = train_test_split(\n",
    "    X, y, test_size=0.2, random_state=42\n",
    ")"
   ]
  },
  {
   "cell_type": "markdown",
   "id": "0de8d401-08c4-48f1-b383-09dc73800171",
   "metadata": {},
   "source": [
    "I used StandardScaler for scaling the training sets."
   ]
  },
  {
   "cell_type": "code",
   "execution_count": 272,
   "id": "1837c7f4-a7c6-4513-9539-4230c92bd937",
   "metadata": {},
   "outputs": [],
   "source": [
    "scaler = StandardScaler()\n",
    "X_train_scaled = scaler.fit_transform(X_train)\n",
    "X_test_scaled = scaler.transform(X_test)"
   ]
  },
  {
   "cell_type": "markdown",
   "id": "98dfc592-65ec-45dc-bbac-df4ac806d84b",
   "metadata": {},
   "source": [
    "#### Define the parameter distribution for RandomizedSearchCV"
   ]
  },
  {
   "cell_type": "code",
   "execution_count": 274,
   "id": "6a81ccae-c341-478b-8e2e-2507674b7194",
   "metadata": {},
   "outputs": [],
   "source": [
    "param_dist = {\n",
    "    'n_estimators': [100, 150, 200],\n",
    "    'max_depth': [None, 10, 20],\n",
    "    'min_samples_split': [2, 5],\n",
    "    'min_samples_leaf': [1, 2, 4],\n",
    "}"
   ]
  },
  {
   "cell_type": "markdown",
   "id": "58297bef-c8e8-4939-ba5a-4c4e2b1b8c54",
   "metadata": {},
   "source": [
    "#### Create and fit the randomized search"
   ]
  },
  {
   "cell_type": "code",
   "execution_count": 276,
   "id": "78482415-ac13-4cbf-ab12-9f25b37bfd67",
   "metadata": {},
   "outputs": [],
   "source": [
    "rf = RandomForestRegressor(random_state=42, n_jobs=-1)"
   ]
  },
  {
   "cell_type": "markdown",
   "id": "a8c1967f-8de9-403a-9d33-b0bbaa122ff5",
   "metadata": {},
   "source": [
    "I used 20 combinations of parameters and 3-fold cross-validation to evaluate them."
   ]
  },
  {
   "cell_type": "code",
   "execution_count": 278,
   "id": "8980f9c1-d191-49b5-aca1-acd6ea07c2f2",
   "metadata": {},
   "outputs": [
    {
     "name": "stdout",
     "output_type": "stream",
     "text": [
      "Fitting 3 folds for each of 20 candidates, totalling 60 fits\n"
     ]
    },
    {
     "data": {
      "text/html": [
       "<style>#sk-container-id-3 {\n",
       "  /* Definition of color scheme common for light and dark mode */\n",
       "  --sklearn-color-text: black;\n",
       "  --sklearn-color-line: gray;\n",
       "  /* Definition of color scheme for unfitted estimators */\n",
       "  --sklearn-color-unfitted-level-0: #fff5e6;\n",
       "  --sklearn-color-unfitted-level-1: #f6e4d2;\n",
       "  --sklearn-color-unfitted-level-2: #ffe0b3;\n",
       "  --sklearn-color-unfitted-level-3: chocolate;\n",
       "  /* Definition of color scheme for fitted estimators */\n",
       "  --sklearn-color-fitted-level-0: #f0f8ff;\n",
       "  --sklearn-color-fitted-level-1: #d4ebff;\n",
       "  --sklearn-color-fitted-level-2: #b3dbfd;\n",
       "  --sklearn-color-fitted-level-3: cornflowerblue;\n",
       "\n",
       "  /* Specific color for light theme */\n",
       "  --sklearn-color-text-on-default-background: var(--sg-text-color, var(--theme-code-foreground, var(--jp-content-font-color1, black)));\n",
       "  --sklearn-color-background: var(--sg-background-color, var(--theme-background, var(--jp-layout-color0, white)));\n",
       "  --sklearn-color-border-box: var(--sg-text-color, var(--theme-code-foreground, var(--jp-content-font-color1, black)));\n",
       "  --sklearn-color-icon: #696969;\n",
       "\n",
       "  @media (prefers-color-scheme: dark) {\n",
       "    /* Redefinition of color scheme for dark theme */\n",
       "    --sklearn-color-text-on-default-background: var(--sg-text-color, var(--theme-code-foreground, var(--jp-content-font-color1, white)));\n",
       "    --sklearn-color-background: var(--sg-background-color, var(--theme-background, var(--jp-layout-color0, #111)));\n",
       "    --sklearn-color-border-box: var(--sg-text-color, var(--theme-code-foreground, var(--jp-content-font-color1, white)));\n",
       "    --sklearn-color-icon: #878787;\n",
       "  }\n",
       "}\n",
       "\n",
       "#sk-container-id-3 {\n",
       "  color: var(--sklearn-color-text);\n",
       "}\n",
       "\n",
       "#sk-container-id-3 pre {\n",
       "  padding: 0;\n",
       "}\n",
       "\n",
       "#sk-container-id-3 input.sk-hidden--visually {\n",
       "  border: 0;\n",
       "  clip: rect(1px 1px 1px 1px);\n",
       "  clip: rect(1px, 1px, 1px, 1px);\n",
       "  height: 1px;\n",
       "  margin: -1px;\n",
       "  overflow: hidden;\n",
       "  padding: 0;\n",
       "  position: absolute;\n",
       "  width: 1px;\n",
       "}\n",
       "\n",
       "#sk-container-id-3 div.sk-dashed-wrapped {\n",
       "  border: 1px dashed var(--sklearn-color-line);\n",
       "  margin: 0 0.4em 0.5em 0.4em;\n",
       "  box-sizing: border-box;\n",
       "  padding-bottom: 0.4em;\n",
       "  background-color: var(--sklearn-color-background);\n",
       "}\n",
       "\n",
       "#sk-container-id-3 div.sk-container {\n",
       "  /* jupyter's `normalize.less` sets `[hidden] { display: none; }`\n",
       "     but bootstrap.min.css set `[hidden] { display: none !important; }`\n",
       "     so we also need the `!important` here to be able to override the\n",
       "     default hidden behavior on the sphinx rendered scikit-learn.org.\n",
       "     See: https://github.com/scikit-learn/scikit-learn/issues/21755 */\n",
       "  display: inline-block !important;\n",
       "  position: relative;\n",
       "}\n",
       "\n",
       "#sk-container-id-3 div.sk-text-repr-fallback {\n",
       "  display: none;\n",
       "}\n",
       "\n",
       "div.sk-parallel-item,\n",
       "div.sk-serial,\n",
       "div.sk-item {\n",
       "  /* draw centered vertical line to link estimators */\n",
       "  background-image: linear-gradient(var(--sklearn-color-text-on-default-background), var(--sklearn-color-text-on-default-background));\n",
       "  background-size: 2px 100%;\n",
       "  background-repeat: no-repeat;\n",
       "  background-position: center center;\n",
       "}\n",
       "\n",
       "/* Parallel-specific style estimator block */\n",
       "\n",
       "#sk-container-id-3 div.sk-parallel-item::after {\n",
       "  content: \"\";\n",
       "  width: 100%;\n",
       "  border-bottom: 2px solid var(--sklearn-color-text-on-default-background);\n",
       "  flex-grow: 1;\n",
       "}\n",
       "\n",
       "#sk-container-id-3 div.sk-parallel {\n",
       "  display: flex;\n",
       "  align-items: stretch;\n",
       "  justify-content: center;\n",
       "  background-color: var(--sklearn-color-background);\n",
       "  position: relative;\n",
       "}\n",
       "\n",
       "#sk-container-id-3 div.sk-parallel-item {\n",
       "  display: flex;\n",
       "  flex-direction: column;\n",
       "}\n",
       "\n",
       "#sk-container-id-3 div.sk-parallel-item:first-child::after {\n",
       "  align-self: flex-end;\n",
       "  width: 50%;\n",
       "}\n",
       "\n",
       "#sk-container-id-3 div.sk-parallel-item:last-child::after {\n",
       "  align-self: flex-start;\n",
       "  width: 50%;\n",
       "}\n",
       "\n",
       "#sk-container-id-3 div.sk-parallel-item:only-child::after {\n",
       "  width: 0;\n",
       "}\n",
       "\n",
       "/* Serial-specific style estimator block */\n",
       "\n",
       "#sk-container-id-3 div.sk-serial {\n",
       "  display: flex;\n",
       "  flex-direction: column;\n",
       "  align-items: center;\n",
       "  background-color: var(--sklearn-color-background);\n",
       "  padding-right: 1em;\n",
       "  padding-left: 1em;\n",
       "}\n",
       "\n",
       "\n",
       "/* Toggleable style: style used for estimator/Pipeline/ColumnTransformer box that is\n",
       "clickable and can be expanded/collapsed.\n",
       "- Pipeline and ColumnTransformer use this feature and define the default style\n",
       "- Estimators will overwrite some part of the style using the `sk-estimator` class\n",
       "*/\n",
       "\n",
       "/* Pipeline and ColumnTransformer style (default) */\n",
       "\n",
       "#sk-container-id-3 div.sk-toggleable {\n",
       "  /* Default theme specific background. It is overwritten whether we have a\n",
       "  specific estimator or a Pipeline/ColumnTransformer */\n",
       "  background-color: var(--sklearn-color-background);\n",
       "}\n",
       "\n",
       "/* Toggleable label */\n",
       "#sk-container-id-3 label.sk-toggleable__label {\n",
       "  cursor: pointer;\n",
       "  display: block;\n",
       "  width: 100%;\n",
       "  margin-bottom: 0;\n",
       "  padding: 0.5em;\n",
       "  box-sizing: border-box;\n",
       "  text-align: center;\n",
       "}\n",
       "\n",
       "#sk-container-id-3 label.sk-toggleable__label-arrow:before {\n",
       "  /* Arrow on the left of the label */\n",
       "  content: \"▸\";\n",
       "  float: left;\n",
       "  margin-right: 0.25em;\n",
       "  color: var(--sklearn-color-icon);\n",
       "}\n",
       "\n",
       "#sk-container-id-3 label.sk-toggleable__label-arrow:hover:before {\n",
       "  color: var(--sklearn-color-text);\n",
       "}\n",
       "\n",
       "/* Toggleable content - dropdown */\n",
       "\n",
       "#sk-container-id-3 div.sk-toggleable__content {\n",
       "  max-height: 0;\n",
       "  max-width: 0;\n",
       "  overflow: hidden;\n",
       "  text-align: left;\n",
       "  /* unfitted */\n",
       "  background-color: var(--sklearn-color-unfitted-level-0);\n",
       "}\n",
       "\n",
       "#sk-container-id-3 div.sk-toggleable__content.fitted {\n",
       "  /* fitted */\n",
       "  background-color: var(--sklearn-color-fitted-level-0);\n",
       "}\n",
       "\n",
       "#sk-container-id-3 div.sk-toggleable__content pre {\n",
       "  margin: 0.2em;\n",
       "  border-radius: 0.25em;\n",
       "  color: var(--sklearn-color-text);\n",
       "  /* unfitted */\n",
       "  background-color: var(--sklearn-color-unfitted-level-0);\n",
       "}\n",
       "\n",
       "#sk-container-id-3 div.sk-toggleable__content.fitted pre {\n",
       "  /* unfitted */\n",
       "  background-color: var(--sklearn-color-fitted-level-0);\n",
       "}\n",
       "\n",
       "#sk-container-id-3 input.sk-toggleable__control:checked~div.sk-toggleable__content {\n",
       "  /* Expand drop-down */\n",
       "  max-height: 200px;\n",
       "  max-width: 100%;\n",
       "  overflow: auto;\n",
       "}\n",
       "\n",
       "#sk-container-id-3 input.sk-toggleable__control:checked~label.sk-toggleable__label-arrow:before {\n",
       "  content: \"▾\";\n",
       "}\n",
       "\n",
       "/* Pipeline/ColumnTransformer-specific style */\n",
       "\n",
       "#sk-container-id-3 div.sk-label input.sk-toggleable__control:checked~label.sk-toggleable__label {\n",
       "  color: var(--sklearn-color-text);\n",
       "  background-color: var(--sklearn-color-unfitted-level-2);\n",
       "}\n",
       "\n",
       "#sk-container-id-3 div.sk-label.fitted input.sk-toggleable__control:checked~label.sk-toggleable__label {\n",
       "  background-color: var(--sklearn-color-fitted-level-2);\n",
       "}\n",
       "\n",
       "/* Estimator-specific style */\n",
       "\n",
       "/* Colorize estimator box */\n",
       "#sk-container-id-3 div.sk-estimator input.sk-toggleable__control:checked~label.sk-toggleable__label {\n",
       "  /* unfitted */\n",
       "  background-color: var(--sklearn-color-unfitted-level-2);\n",
       "}\n",
       "\n",
       "#sk-container-id-3 div.sk-estimator.fitted input.sk-toggleable__control:checked~label.sk-toggleable__label {\n",
       "  /* fitted */\n",
       "  background-color: var(--sklearn-color-fitted-level-2);\n",
       "}\n",
       "\n",
       "#sk-container-id-3 div.sk-label label.sk-toggleable__label,\n",
       "#sk-container-id-3 div.sk-label label {\n",
       "  /* The background is the default theme color */\n",
       "  color: var(--sklearn-color-text-on-default-background);\n",
       "}\n",
       "\n",
       "/* On hover, darken the color of the background */\n",
       "#sk-container-id-3 div.sk-label:hover label.sk-toggleable__label {\n",
       "  color: var(--sklearn-color-text);\n",
       "  background-color: var(--sklearn-color-unfitted-level-2);\n",
       "}\n",
       "\n",
       "/* Label box, darken color on hover, fitted */\n",
       "#sk-container-id-3 div.sk-label.fitted:hover label.sk-toggleable__label.fitted {\n",
       "  color: var(--sklearn-color-text);\n",
       "  background-color: var(--sklearn-color-fitted-level-2);\n",
       "}\n",
       "\n",
       "/* Estimator label */\n",
       "\n",
       "#sk-container-id-3 div.sk-label label {\n",
       "  font-family: monospace;\n",
       "  font-weight: bold;\n",
       "  display: inline-block;\n",
       "  line-height: 1.2em;\n",
       "}\n",
       "\n",
       "#sk-container-id-3 div.sk-label-container {\n",
       "  text-align: center;\n",
       "}\n",
       "\n",
       "/* Estimator-specific */\n",
       "#sk-container-id-3 div.sk-estimator {\n",
       "  font-family: monospace;\n",
       "  border: 1px dotted var(--sklearn-color-border-box);\n",
       "  border-radius: 0.25em;\n",
       "  box-sizing: border-box;\n",
       "  margin-bottom: 0.5em;\n",
       "  /* unfitted */\n",
       "  background-color: var(--sklearn-color-unfitted-level-0);\n",
       "}\n",
       "\n",
       "#sk-container-id-3 div.sk-estimator.fitted {\n",
       "  /* fitted */\n",
       "  background-color: var(--sklearn-color-fitted-level-0);\n",
       "}\n",
       "\n",
       "/* on hover */\n",
       "#sk-container-id-3 div.sk-estimator:hover {\n",
       "  /* unfitted */\n",
       "  background-color: var(--sklearn-color-unfitted-level-2);\n",
       "}\n",
       "\n",
       "#sk-container-id-3 div.sk-estimator.fitted:hover {\n",
       "  /* fitted */\n",
       "  background-color: var(--sklearn-color-fitted-level-2);\n",
       "}\n",
       "\n",
       "/* Specification for estimator info (e.g. \"i\" and \"?\") */\n",
       "\n",
       "/* Common style for \"i\" and \"?\" */\n",
       "\n",
       ".sk-estimator-doc-link,\n",
       "a:link.sk-estimator-doc-link,\n",
       "a:visited.sk-estimator-doc-link {\n",
       "  float: right;\n",
       "  font-size: smaller;\n",
       "  line-height: 1em;\n",
       "  font-family: monospace;\n",
       "  background-color: var(--sklearn-color-background);\n",
       "  border-radius: 1em;\n",
       "  height: 1em;\n",
       "  width: 1em;\n",
       "  text-decoration: none !important;\n",
       "  margin-left: 1ex;\n",
       "  /* unfitted */\n",
       "  border: var(--sklearn-color-unfitted-level-1) 1pt solid;\n",
       "  color: var(--sklearn-color-unfitted-level-1);\n",
       "}\n",
       "\n",
       ".sk-estimator-doc-link.fitted,\n",
       "a:link.sk-estimator-doc-link.fitted,\n",
       "a:visited.sk-estimator-doc-link.fitted {\n",
       "  /* fitted */\n",
       "  border: var(--sklearn-color-fitted-level-1) 1pt solid;\n",
       "  color: var(--sklearn-color-fitted-level-1);\n",
       "}\n",
       "\n",
       "/* On hover */\n",
       "div.sk-estimator:hover .sk-estimator-doc-link:hover,\n",
       ".sk-estimator-doc-link:hover,\n",
       "div.sk-label-container:hover .sk-estimator-doc-link:hover,\n",
       ".sk-estimator-doc-link:hover {\n",
       "  /* unfitted */\n",
       "  background-color: var(--sklearn-color-unfitted-level-3);\n",
       "  color: var(--sklearn-color-background);\n",
       "  text-decoration: none;\n",
       "}\n",
       "\n",
       "div.sk-estimator.fitted:hover .sk-estimator-doc-link.fitted:hover,\n",
       ".sk-estimator-doc-link.fitted:hover,\n",
       "div.sk-label-container:hover .sk-estimator-doc-link.fitted:hover,\n",
       ".sk-estimator-doc-link.fitted:hover {\n",
       "  /* fitted */\n",
       "  background-color: var(--sklearn-color-fitted-level-3);\n",
       "  color: var(--sklearn-color-background);\n",
       "  text-decoration: none;\n",
       "}\n",
       "\n",
       "/* Span, style for the box shown on hovering the info icon */\n",
       ".sk-estimator-doc-link span {\n",
       "  display: none;\n",
       "  z-index: 9999;\n",
       "  position: relative;\n",
       "  font-weight: normal;\n",
       "  right: .2ex;\n",
       "  padding: .5ex;\n",
       "  margin: .5ex;\n",
       "  width: min-content;\n",
       "  min-width: 20ex;\n",
       "  max-width: 50ex;\n",
       "  color: var(--sklearn-color-text);\n",
       "  box-shadow: 2pt 2pt 4pt #999;\n",
       "  /* unfitted */\n",
       "  background: var(--sklearn-color-unfitted-level-0);\n",
       "  border: .5pt solid var(--sklearn-color-unfitted-level-3);\n",
       "}\n",
       "\n",
       ".sk-estimator-doc-link.fitted span {\n",
       "  /* fitted */\n",
       "  background: var(--sklearn-color-fitted-level-0);\n",
       "  border: var(--sklearn-color-fitted-level-3);\n",
       "}\n",
       "\n",
       ".sk-estimator-doc-link:hover span {\n",
       "  display: block;\n",
       "}\n",
       "\n",
       "/* \"?\"-specific style due to the `<a>` HTML tag */\n",
       "\n",
       "#sk-container-id-3 a.estimator_doc_link {\n",
       "  float: right;\n",
       "  font-size: 1rem;\n",
       "  line-height: 1em;\n",
       "  font-family: monospace;\n",
       "  background-color: var(--sklearn-color-background);\n",
       "  border-radius: 1rem;\n",
       "  height: 1rem;\n",
       "  width: 1rem;\n",
       "  text-decoration: none;\n",
       "  /* unfitted */\n",
       "  color: var(--sklearn-color-unfitted-level-1);\n",
       "  border: var(--sklearn-color-unfitted-level-1) 1pt solid;\n",
       "}\n",
       "\n",
       "#sk-container-id-3 a.estimator_doc_link.fitted {\n",
       "  /* fitted */\n",
       "  border: var(--sklearn-color-fitted-level-1) 1pt solid;\n",
       "  color: var(--sklearn-color-fitted-level-1);\n",
       "}\n",
       "\n",
       "/* On hover */\n",
       "#sk-container-id-3 a.estimator_doc_link:hover {\n",
       "  /* unfitted */\n",
       "  background-color: var(--sklearn-color-unfitted-level-3);\n",
       "  color: var(--sklearn-color-background);\n",
       "  text-decoration: none;\n",
       "}\n",
       "\n",
       "#sk-container-id-3 a.estimator_doc_link.fitted:hover {\n",
       "  /* fitted */\n",
       "  background-color: var(--sklearn-color-fitted-level-3);\n",
       "}\n",
       "</style><div id=\"sk-container-id-3\" class=\"sk-top-container\"><div class=\"sk-text-repr-fallback\"><pre>RandomizedSearchCV(cv=3,\n",
       "                   estimator=RandomForestRegressor(n_jobs=-1, random_state=42),\n",
       "                   n_iter=20, n_jobs=-1,\n",
       "                   param_distributions={&#x27;max_depth&#x27;: [None, 10, 20],\n",
       "                                        &#x27;min_samples_leaf&#x27;: [1, 2, 4],\n",
       "                                        &#x27;min_samples_split&#x27;: [2, 5],\n",
       "                                        &#x27;n_estimators&#x27;: [100, 150, 200]},\n",
       "                   random_state=42, verbose=2)</pre><b>In a Jupyter environment, please rerun this cell to show the HTML representation or trust the notebook. <br />On GitHub, the HTML representation is unable to render, please try loading this page with nbviewer.org.</b></div><div class=\"sk-container\" hidden><div class=\"sk-item sk-dashed-wrapped\"><div class=\"sk-label-container\"><div class=\"sk-label fitted sk-toggleable\"><input class=\"sk-toggleable__control sk-hidden--visually\" id=\"sk-estimator-id-7\" type=\"checkbox\" ><label for=\"sk-estimator-id-7\" class=\"sk-toggleable__label fitted sk-toggleable__label-arrow fitted\">&nbsp;&nbsp;RandomizedSearchCV<a class=\"sk-estimator-doc-link fitted\" rel=\"noreferrer\" target=\"_blank\" href=\"https://scikit-learn.org/1.5/modules/generated/sklearn.model_selection.RandomizedSearchCV.html\">?<span>Documentation for RandomizedSearchCV</span></a><span class=\"sk-estimator-doc-link fitted\">i<span>Fitted</span></span></label><div class=\"sk-toggleable__content fitted\"><pre>RandomizedSearchCV(cv=3,\n",
       "                   estimator=RandomForestRegressor(n_jobs=-1, random_state=42),\n",
       "                   n_iter=20, n_jobs=-1,\n",
       "                   param_distributions={&#x27;max_depth&#x27;: [None, 10, 20],\n",
       "                                        &#x27;min_samples_leaf&#x27;: [1, 2, 4],\n",
       "                                        &#x27;min_samples_split&#x27;: [2, 5],\n",
       "                                        &#x27;n_estimators&#x27;: [100, 150, 200]},\n",
       "                   random_state=42, verbose=2)</pre></div> </div></div><div class=\"sk-parallel\"><div class=\"sk-parallel-item\"><div class=\"sk-item\"><div class=\"sk-label-container\"><div class=\"sk-label fitted sk-toggleable\"><input class=\"sk-toggleable__control sk-hidden--visually\" id=\"sk-estimator-id-8\" type=\"checkbox\" ><label for=\"sk-estimator-id-8\" class=\"sk-toggleable__label fitted sk-toggleable__label-arrow fitted\">best_estimator_: RandomForestRegressor</label><div class=\"sk-toggleable__content fitted\"><pre>RandomForestRegressor(max_depth=20, min_samples_leaf=4, n_jobs=-1,\n",
       "                      random_state=42)</pre></div> </div></div><div class=\"sk-serial\"><div class=\"sk-item\"><div class=\"sk-estimator fitted sk-toggleable\"><input class=\"sk-toggleable__control sk-hidden--visually\" id=\"sk-estimator-id-9\" type=\"checkbox\" ><label for=\"sk-estimator-id-9\" class=\"sk-toggleable__label fitted sk-toggleable__label-arrow fitted\">&nbsp;RandomForestRegressor<a class=\"sk-estimator-doc-link fitted\" rel=\"noreferrer\" target=\"_blank\" href=\"https://scikit-learn.org/1.5/modules/generated/sklearn.ensemble.RandomForestRegressor.html\">?<span>Documentation for RandomForestRegressor</span></a></label><div class=\"sk-toggleable__content fitted\"><pre>RandomForestRegressor(max_depth=20, min_samples_leaf=4, n_jobs=-1,\n",
       "                      random_state=42)</pre></div> </div></div></div></div></div></div></div></div></div>"
      ],
      "text/plain": [
       "RandomizedSearchCV(cv=3,\n",
       "                   estimator=RandomForestRegressor(n_jobs=-1, random_state=42),\n",
       "                   n_iter=20, n_jobs=-1,\n",
       "                   param_distributions={'max_depth': [None, 10, 20],\n",
       "                                        'min_samples_leaf': [1, 2, 4],\n",
       "                                        'min_samples_split': [2, 5],\n",
       "                                        'n_estimators': [100, 150, 200]},\n",
       "                   random_state=42, verbose=2)"
      ]
     },
     "execution_count": 278,
     "metadata": {},
     "output_type": "execute_result"
    }
   ],
   "source": [
    "random_search = RandomizedSearchCV(\n",
    "    estimator=rf,\n",
    "    param_distributions=param_dist,\n",
    "    n_iter=20,\n",
    "    cv=3,\n",
    "    verbose=2,\n",
    "    random_state=42,\n",
    "    n_jobs=-1,\n",
    ")\n",
    "\n",
    "random_search.fit(X_train_scaled, y_train)"
   ]
  },
  {
   "cell_type": "markdown",
   "id": "64d51c39-cf0e-40e9-a2b1-53177013b45d",
   "metadata": {},
   "source": [
    "#### 5.1 Evaluate the model"
   ]
  },
  {
   "cell_type": "code",
   "execution_count": 280,
   "id": "7b9a3cf3-8e20-41d6-a819-9cf60eb73e23",
   "metadata": {},
   "outputs": [
    {
     "name": "stdout",
     "output_type": "stream",
     "text": [
      "--- Random Forest Regression Results ---\n",
      "Best hyperparameters: {'n_estimators': 100, 'min_samples_split': 2, 'min_samples_leaf': 4, 'max_depth': 20}\n",
      "RMSE: $4,199,705.10\n",
      "R-squared (R²): 0.7440\n"
     ]
    }
   ],
   "source": [
    "best_rf = random_search.best_estimator_\n",
    "\n",
    "y_pred = best_rf.predict(X_test_scaled)\n",
    "rmse = np.sqrt(mean_squared_error(y_test, y_pred))\n",
    "r2 = r2_score(y_test, y_pred)\n",
    "\n",
    "print(\"--- Random Forest Regression Results ---\")\n",
    "print(f\"Best hyperparameters: {random_search.best_params_}\")\n",
    "print(f\"RMSE: ${rmse:,.2f}\")\n",
    "print(f\"R-squared (R²): {r2:.4f}\")"
   ]
  },
  {
   "cell_type": "markdown",
   "id": "0b3dfc60-06ee-4d5e-aca9-2cdc6b7a7e12",
   "metadata": {},
   "source": [
    "#### 5.2 Results summary"
   ]
  },
  {
   "cell_type": "markdown",
   "id": "3eecb075-c684-4d5b-b3c0-ea89ceb3c83b",
   "metadata": {},
   "source": [
    "| Model Configuration                | Hyperparameters                                                                            | RMSE (\\$)    | R² Score |\n",
    "| ---------------------------------- | ------------------------------------------------------------------------------------------ | ------------ | ------\n",
    " |\n",
    "| **Tuned Random Forest w/RandomizedSearchCV**      | `n_estimators=100`, `min_samples_split=2`, `min_samples_leaf=4`, `max_depth=20`            | 4,199,705.10 | 0.7440   |\n",
    "| **Default Random Forest** | `n_estimators=100`, `min_samples_split=2`, `min_samples_leaf=1`, `max_depth=None`  | 4,255,201.05 | 0.7372   |\n"
   ]
  },
  {
   "cell_type": "markdown",
   "id": "7b3152d3-a02a-4266-8e75-204f1a006429",
   "metadata": {},
   "source": [
    "As we can see from the table, tune with RandomizedSearchCV enhanced the testing result by some."
   ]
  },
  {
   "cell_type": "markdown",
   "id": "bfcce7d4-1126-48c6-9b87-2313a843fe80",
   "metadata": {},
   "source": [
    "## 6. Analysis\n",
    "Here is the visualization that shows importance of each features to salary in this model,"
   ]
  },
  {
   "cell_type": "code",
   "execution_count": 285,
   "id": "f01230c4-1557-4845-ba10-e1a3c8e2cdd0",
   "metadata": {},
   "outputs": [
    {
     "data": {
      "image/png": "[encoded data removed]",
      "text/plain": [
       "<Figure size 640x480 with 1 Axes>"
      ]
     },
     "metadata": {},
     "output_type": "display_data"
    }
   ],
   "source": [
    "importances = best_rf.feature_importances_\n",
    "feature_importance_df = pd.Series(importances, index=all_features).sort_values(ascending=False)\n",
    "\n",
    "feature_importance_df.plot(kind='barh', title='Feature Importance (Random Forest)')\n",
    "plt.xlabel('Importance Score')\n",
    "plt.gca().invert_yaxis()\n",
    "plt.show()"
   ]
  },
  {
   "cell_type": "markdown",
   "id": "fcdb68fb-9b88-4858-9196-5bea4ba00b9b",
   "metadata": {},
   "source": [
    "Four things that captured my eyes:\n",
    "1) Points per game is still the strongest factor for player's salary.\n",
    "2) Older players tend to get paid more.\n",
    "3) Minutes a player plays is a strongest factor after points among traditional stats. More minutes you play, the more a player is important to the team.\n",
    "4) As I mentioned above, salary increases as year goes on due to inflation."
   ]
  },
  {
   "cell_type": "markdown",
   "id": "b1ce91c8-1431-4473-b773-019e09a7f887",
   "metadata": {},
   "source": [
    "## 7. Predictions"
   ]
  },
  {
   "cell_type": "markdown",
   "id": "0de2b590-da25-4a74-a162-6f7f04232d17",
   "metadata": {},
   "source": [
    "### 7.1 Prediction Function"
   ]
  },
  {
   "cell_type": "code",
   "execution_count": 289,
   "id": "477d921e-2db8-4aec-b61f-2d475b2e4364",
   "metadata": {},
   "outputs": [],
   "source": [
    "def predict_salary(player_name, model, scaler, X_source, df):\n",
    "    player_rows = df[df['Player'] == player_name]\n",
    "\n",
    "    if player_rows.empty:\n",
    "        print(f\"Player '{player_name}' not found in the dataset.\")\n",
    "        return\n",
    "\n",
    "    # Select the most recent season's stats\n",
    "    player_row = player_rows[player_rows['Year'] == player_rows['Year'].max()].iloc[0]\n",
    "\n",
    "    player_features = pd.DataFrame([player_row[X_source.columns]])\n",
    "\n",
    "    scaled_features = scaler.transform(player_features)\n",
    "\n",
    "    predicted_salary = model.predict(scaled_features)[0]\n",
    "\n",
    "    actual_salary = player_row['Salary']\n",
    "\n",
    "    print(f\" Predicted 2025-26 season salary for {player_name}: ${predicted_salary:,.2f}\")\n",
    "    print(f\" Current salary for {player_name}: ${actual_salary:,.2f}\")"
   ]
  },
  {
   "cell_type": "markdown",
   "id": "710d050a-b571-493d-a23e-fdb2e087b2c9",
   "metadata": {},
   "source": [
    "### 6.2 Predicting with actual players"
   ]
  },
  {
   "cell_type": "markdown",
   "id": "c91d0c59-3108-4f46-b650-37415cdba168",
   "metadata": {},
   "source": [
    "As the model is predicting new salary for next year, let's try some players who have contracts expiring next year. \n",
    "<br>Let's first try with **James Harden**, who has player option for next season. His stats: 22.8 PTS, 8.7 AST, 5.8 REB, 0.7 BLK, 1.5 STL at age of 35."
   ]
  },
  {
   "cell_type": "code",
   "execution_count": 292,
   "id": "a49ba50e-77d0-4296-8380-43de5da2a4d7",
   "metadata": {},
   "outputs": [
    {
     "name": "stdout",
     "output_type": "stream",
     "text": [
      " Predicted 2025-26 season salary for James Harden: $41,877,404.24\n",
      " Current salary for James Harden: $33,653,846.00\n"
     ]
    }
   ],
   "source": [
    "predict_salary(\"James Harden\", best_rf, scaler, X_test, largerdf)"
   ]
  },
  {
   "cell_type": "markdown",
   "id": "aab3f17e-b1b7-483e-86c3-41ef601cc0a9",
   "metadata": {},
   "source": [
    "James Harden received **\\\\$33,653,846** this season,\n",
    "<br>\n",
    "The model says he will receive **\\\\$41,877,404** next season, with a significant raise."
   ]
  },
  {
   "cell_type": "markdown",
   "id": "7c6ccb48-c7b9-4f10-aeca-f44069e00549",
   "metadata": {},
   "source": [
    "**Lebron James** also has his player option for next season. His stats: 24.4 PTS, 8.2 AST, 7.8 REB, 0.6 BLK, 1 STL at the age of 40."
   ]
  },
  {
   "cell_type": "code",
   "execution_count": 295,
   "id": "f4715c92-05a0-4f33-8eb4-ce9d72399a9d",
   "metadata": {},
   "outputs": [
    {
     "name": "stdout",
     "output_type": "stream",
     "text": [
      " Predicted 2025-26 season salary for LeBron James: $48,353,299.77\n",
      " Current salary for LeBron James: $48,728,845.00\n"
     ]
    }
   ],
   "source": [
    "predict_salary(\"LeBron James\", best_rf, scaler, X_test, largerdf)"
   ]
  },
  {
   "cell_type": "markdown",
   "id": "351806c2-7ae9-415b-b542-ae1c20cc2ab7",
   "metadata": {},
   "source": [
    "Lebron James received **\\\\$48,728,845** this season, <br>\n",
    "The model says he will receive similar next season with **\\\\$48,353,299**."
   ]
  },
  {
   "cell_type": "markdown",
   "id": "b1d91907-d787-40e1-b093-87f7db911154",
   "metadata": {},
   "source": [
    "Lastly, **Ty Jerome**, one of the best bench players this season, also gets Free Agent option this season. <br>\n",
    "His stats: 12.5 PTS, 3.4 AST, 2.5 REB, 0 BLK, 1.1 STL at the age of 27."
   ]
  },
  {
   "cell_type": "code",
   "execution_count": 298,
   "id": "16e04897-31c9-4a9d-99e9-cf4761cb0a50",
   "metadata": {},
   "outputs": [
    {
     "name": "stdout",
     "output_type": "stream",
     "text": [
      " Predicted 2025-26 season salary for Ty Jerome: $5,518,205.36\n",
      " Current salary for Ty Jerome: $2,560,975.00\n"
     ]
    }
   ],
   "source": [
    "predict_salary(\"Ty Jerome\", best_rf, scaler, X_test, largerdf)"
   ]
  },
  {
   "cell_type": "markdown",
   "id": "a609f9ab-a606-4b6b-98d7-f18ba4408bdc",
   "metadata": {},
   "source": [
    "Ty Jerome Received **\\\\$2,560,975** this season, <br>\n",
    "The model predicts a some raise for him next season of **\\\\$5,518,205**."
   ]
  }
 ],
 "metadata": {
  "kernelspec": {
   "display_name": "Python [conda env:base] *",
   "language": "python",
   "name": "conda-base-py"
  },
  "language_info": {
   "codemirror_mode": {
    "name": "ipython",
    "version": 3
   },
   "file_extension": ".py",
   "mimetype": "text/x-python",
   "name": "python",
   "nbconvert_exporter": "python",
   "pygments_lexer": "ipython3",
   "version": "3.12.7"
  }
 },
 "nbformat": 4,
 "nbformat_minor": 5
}
