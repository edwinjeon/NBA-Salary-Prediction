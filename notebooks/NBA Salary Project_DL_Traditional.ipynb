{
 "cells": [
  {
   "cell_type": "markdown",
   "id": "6d45acbb-25fe-473d-9ffa-ccafb89f758e",
   "metadata": {},
   "source": [
    "# Predicting NBA Players' Salary Through Deep Learning Model\n",
    "\n",
    "#### Weon Gyu Jeon"
   ]
  },
  {
   "cell_type": "markdown",
   "id": "ab37ff02-181d-475f-80f2-034c60222824",
   "metadata": {},
   "source": [
    "## 1. Introduction"
   ]
  },
  {
   "cell_type": "markdown",
   "id": "21846ea1-fe25-497f-9c79-1e571f15af8b",
   "metadata": {},
   "source": [
    "I have previously built simple models using [Linear Regression](https://www.kaggle.com/code/ratin21/predicting-nba-salary-through-linear-regression) and [Random Forest](https://www.kaggle.com/code/ratin21/predicting-nba-salary-through-random-forest). This time, I am going to use **Pytorch** to build deep learning model to predict NBA player's salary for next season. To train the deep learning model, I used 15 years of player stats and salary data (2010-2025)."
   ]
  },
  {
   "cell_type": "markdown",
   "id": "887527bf-2d51-4bb4-8158-37cb79cda5c2",
   "metadata": {},
   "source": [
    "## 2. Preparation"
   ]
  },
  {
   "cell_type": "markdown",
   "id": "0f65afeb-e7b7-4db7-9bbe-3ecd3136cf06",
   "metadata": {},
   "source": [
    "### 2.1 Packages & Libraries"
   ]
  },
  {
   "cell_type": "code",
   "execution_count": 8,
   "id": "67f044d3-3546-482c-b5f7-9c4f07c13bc7",
   "metadata": {},
   "outputs": [],
   "source": [
    "import pandas as pd\n",
    "import seaborn as sns\n",
    "import matplotlib.pyplot as plt\n",
    "import numpy as np\n",
    "from sklearn.model_selection import train_test_split\n",
    "from sklearn.metrics import mean_absolute_error, r2_score\n",
    "from sklearn.preprocessing import StandardScaler\n",
    "import torch\n",
    "import torch.nn as nn\n",
    "from torch.utils.data import DataLoader, TensorDataset"
   ]
  },
  {
   "cell_type": "markdown",
   "id": "969a6a2f-dc78-4224-87f6-08e6380b04e0",
   "metadata": {},
   "source": [
    "### 2.2 Data Preparation"
   ]
  },
  {
   "cell_type": "markdown",
   "id": "9e524027-1160-42db-ba63-e8770ddc710f",
   "metadata": {},
   "source": [
    "Full Scrapping Script for 15 years of player stats and salaries can be found on my [Github Repository](https://github.com/edwinjeon/NBA-Salary-Prediction)."
   ]
  },
  {
   "cell_type": "code",
   "execution_count": 11,
   "id": "f6997273-fe38-4df8-8c88-3a7b6d354d7f",
   "metadata": {},
   "outputs": [],
   "source": [
    "df = pd.read_csv('NBA Player Stats and Salaries_2010-2025.csv')"
   ]
  },
  {
   "cell_type": "markdown",
   "id": "ba93ae1e-d3a8-47c8-a0f7-523751687706",
   "metadata": {},
   "source": [
    "#### 2.2.1 Data Component"
   ]
  },
  {
   "cell_type": "code",
   "execution_count": 13,
   "id": "228dad92-3d5a-40b9-9ede-db67386e8627",
   "metadata": {},
   "outputs": [
    {
     "data": {
      "text/html": [
       "<div>\n",
       "<style scoped>\n",
       "    .dataframe tbody tr th:only-of-type {\n",
       "        vertical-align: middle;\n",
       "    }\n",
       "\n",
       "    .dataframe tbody tr th {\n",
       "        vertical-align: top;\n",
       "    }\n",
       "\n",
       "    .dataframe thead th {\n",
       "        text-align: right;\n",
       "    }\n",
       "</style>\n",
       "<table border=\"1\" class=\"dataframe\">\n",
       "  <thead>\n",
       "    <tr style=\"text-align: right;\">\n",
       "      <th></th>\n",
       "      <th>Player</th>\n",
       "      <th>Salary</th>\n",
       "      <th>Year</th>\n",
       "      <th>Pos</th>\n",
       "      <th>Age</th>\n",
       "      <th>Team</th>\n",
       "      <th>G</th>\n",
       "      <th>GS</th>\n",
       "      <th>MP</th>\n",
       "      <th>FG</th>\n",
       "      <th>FGA</th>\n",
       "      <th>FG%</th>\n",
       "      <th>3P</th>\n",
       "      <th>3PA</th>\n",
       "      <th>3P%</th>\n",
       "      <th>2P</th>\n",
       "      <th>2PA</th>\n",
       "      <th>2P%</th>\n",
       "      <th>eFG%</th>\n",
       "      <th>FT</th>\n",
       "      <th>FTA</th>\n",
       "      <th>FT%</th>\n",
       "      <th>ORB</th>\n",
       "      <th>DRB</th>\n",
       "      <th>TRB</th>\n",
       "      <th>AST</th>\n",
       "      <th>STL</th>\n",
       "      <th>BLK</th>\n",
       "      <th>TOV</th>\n",
       "      <th>PF</th>\n",
       "      <th>PTS</th>\n",
       "    </tr>\n",
       "  </thead>\n",
       "  <tbody>\n",
       "    <tr>\n",
       "      <th>0</th>\n",
       "      <td>Kobe Bryant</td>\n",
       "      <td>23034375</td>\n",
       "      <td>2010</td>\n",
       "      <td>SG</td>\n",
       "      <td>31</td>\n",
       "      <td>LAL</td>\n",
       "      <td>73</td>\n",
       "      <td>73</td>\n",
       "      <td>38.8</td>\n",
       "      <td>9.8</td>\n",
       "      <td>21.5</td>\n",
       "      <td>0.456</td>\n",
       "      <td>1.4</td>\n",
       "      <td>4.1</td>\n",
       "      <td>0.329</td>\n",
       "      <td>8.5</td>\n",
       "      <td>17.4</td>\n",
       "      <td>0.487</td>\n",
       "      <td>0.488</td>\n",
       "      <td>6.0</td>\n",
       "      <td>7.4</td>\n",
       "      <td>0.811</td>\n",
       "      <td>1.1</td>\n",
       "      <td>4.3</td>\n",
       "      <td>5.4</td>\n",
       "      <td>5.0</td>\n",
       "      <td>1.5</td>\n",
       "      <td>0.3</td>\n",
       "      <td>3.2</td>\n",
       "      <td>2.6</td>\n",
       "      <td>27.0</td>\n",
       "    </tr>\n",
       "  </tbody>\n",
       "</table>\n",
       "</div>"
      ],
      "text/plain": [
       "        Player    Salary  Year Pos  Age Team   G  GS    MP   FG   FGA    FG%  \\\n",
       "0  Kobe Bryant  23034375  2010  SG   31  LAL  73  73  38.8  9.8  21.5  0.456   \n",
       "\n",
       "    3P  3PA    3P%   2P   2PA    2P%   eFG%   FT  FTA    FT%  ORB  DRB  TRB  \\\n",
       "0  1.4  4.1  0.329  8.5  17.4  0.487  0.488  6.0  7.4  0.811  1.1  4.3  5.4   \n",
       "\n",
       "   AST  STL  BLK  TOV   PF   PTS  \n",
       "0  5.0  1.5  0.3  3.2  2.6  27.0  "
      ]
     },
     "execution_count": 13,
     "metadata": {},
     "output_type": "execute_result"
    }
   ],
   "source": [
    "pd.set_option('display.max_columns', None)\n",
    "df.head(1)"
   ]
  },
  {
   "cell_type": "markdown",
   "id": "607deaa6-aca8-448d-abe1-522d58778a02",
   "metadata": {},
   "source": [
    "## 3. Correlation"
   ]
  },
  {
   "cell_type": "markdown",
   "id": "f7166d1b-f7e8-47c9-8c6f-2a038441786d",
   "metadata": {},
   "source": [
    "Let's see correlation of each stat to salary."
   ]
  },
  {
   "cell_type": "code",
   "execution_count": 16,
   "id": "cf28bed8-6065-4715-9b5f-4d7af9508e47",
   "metadata": {},
   "outputs": [],
   "source": [
    "numeric_df = df.select_dtypes(include='number')\n",
    "correlations = numeric_df.corr()['Salary'].drop('Salary').sort_values(ascending=False)"
   ]
  },
  {
   "cell_type": "markdown",
   "id": "d21cee33-7187-4abe-9b0f-625bd9a1b52c",
   "metadata": {},
   "source": [
    "Corrleations:\n",
    "```\n",
    "PTS: 0.657     FG: 0.647     FGA: 0.626     FT: 0.583\n",
    "2P: 0.574      FTA: 0.572    MP: 0.556      TOV: 0.549\n",
    "2PA: 0.549     DRB: 0.525    AST: 0.519     GS: 0.504\n",
    "TRB: 0.463     3PA: 0.449    3P: 0.446      STL: 0.414\n",
    "PF: 0.333      Age: 0.285    G: 0.264       BLK: 0.263\n",
    "Year: 0.233    ORB: 0.233    FT%: 0.186     eFG%: 0.183\n",
    "FG%: 0.156     2P%: 0.141    3P%: 0.115\n",
    "```"
   ]
  },
  {
   "cell_type": "markdown",
   "id": "7f9884e9-4bcb-41ea-831e-ea9904098459",
   "metadata": {},
   "source": [
    "### 3.1 Barplot"
   ]
  },
  {
   "cell_type": "code",
   "execution_count": 19,
   "id": "78fde183-d5a7-48d2-9488-4ea585532289",
   "metadata": {},
   "outputs": [
    {
     "data": {
      "image/png": "[encoded data removed]",
      "text/plain": [
       "<Figure size 1000x800 with 1 Axes>"
      ]
     },
     "metadata": {},
     "output_type": "display_data"
    }
   ],
   "source": [
    "plt.figure(figsize=(10, 8))\n",
    "sns.barplot(\n",
    "    x=correlations.values,\n",
    "    y=correlations.index,\n",
    "    hue=correlations.index,\n",
    "    palette=\"coolwarm\",\n",
    "    legend=False\n",
    ")\n",
    "plt.title(\"Correlation of Stats with Salary\", fontsize=14)\n",
    "plt.xlabel(\"Correlation\")\n",
    "plt.ylabel(\"Stats\")\n",
    "plt.tight_layout()\n",
    "plt.show()"
   ]
  },
  {
   "cell_type": "markdown",
   "id": "a919ab19-5e54-4fa1-8e61-9cc98d0788e7",
   "metadata": {},
   "source": [
    "## 4. Building Model"
   ]
  },
  {
   "cell_type": "markdown",
   "id": "5805cf27-6c39-4c53-be76-307db83b2faf",
   "metadata": {},
   "source": [
    "### 4.1 Feature selection\n",
    "We're building a deep learning model, and neural network is not necessarily sensitive to multicollinearity. So I put all the independent variables into consideration."
   ]
  },
  {
   "cell_type": "code",
   "execution_count": 22,
   "id": "f6f748be-255a-45c1-b36b-60c1bd5a6cc3",
   "metadata": {},
   "outputs": [],
   "source": [
    "features = ['PTS', 'FG', 'FGA', 'FT', '2P', 'FTA', 'MP', 'TOV', '2PA', 'DRB', 'AST', 'GS', 'TRB', '3PA', '3P', 'STL', 'Age']"
   ]
  },
  {
   "cell_type": "markdown",
   "id": "f636f6be-ee58-44c0-848f-f289174e36bc",
   "metadata": {},
   "source": [
    "Scaling salary to millions $ for convenience"
   ]
  },
  {
   "cell_type": "code",
   "execution_count": 24,
   "id": "caf1131e-2648-44fd-bfaf-9be06b96e0e6",
   "metadata": {},
   "outputs": [],
   "source": [
    "df['Salary_scaled'] = df['Salary'] / 1_000_000"
   ]
  },
  {
   "cell_type": "markdown",
   "id": "6fc62be8-d86b-4c32-9be6-bbc169df5470",
   "metadata": {},
   "source": [
    "### 4.2 Preparation for training"
   ]
  },
  {
   "cell_type": "markdown",
   "id": "0538fd60-2de5-46ff-8a69-b28736f7d83f",
   "metadata": {},
   "source": [
    "Extract features and target variable"
   ]
  },
  {
   "cell_type": "code",
   "execution_count": 27,
   "id": "57eb495d-5db4-4148-a0e9-b90e3b53e58d",
   "metadata": {},
   "outputs": [],
   "source": [
    "X = df[features].values\n",
    "y = df['Salary_scaled'].values.reshape(-1, 1)"
   ]
  },
  {
   "cell_type": "markdown",
   "id": "9a512ae2-9eda-4bdb-bc69-cac20ce15619",
   "metadata": {},
   "source": [
    "Split into train, validation, and test sets: 72.25% train set, 15% test set, 12.25% validation set "
   ]
  },
  {
   "cell_type": "code",
   "execution_count": 29,
   "id": "09b270f9-a6b3-4edb-b62a-906b9a185f63",
   "metadata": {},
   "outputs": [],
   "source": [
    "X_train_val, X_test, y_train_val, y_test = train_test_split(\n",
    "    X, y, test_size=0.15, random_state=42\n",
    ")\n",
    "X_train, X_val, y_train, y_val = train_test_split(\n",
    "    X_train_val, y_train_val, test_size=0.1765, random_state=42\n",
    ")"
   ]
  },
  {
   "cell_type": "markdown",
   "id": "85195d47-85aa-4ebc-b581-4c39ab82be95",
   "metadata": {},
   "source": [
    "Scale features using StandardScaler"
   ]
  },
  {
   "cell_type": "code",
   "execution_count": 31,
   "id": "41e56d23-9cbc-44ef-bcaf-823dbd81d2ef",
   "metadata": {},
   "outputs": [],
   "source": [
    "scaler = StandardScaler()\n",
    "X_train = scaler.fit_transform(X_train)\n",
    "X_val = scaler.transform(X_val)\n",
    "X_test = scaler.transform(X_test)"
   ]
  },
  {
   "cell_type": "markdown",
   "id": "21c259ae-cdaf-40f8-9bd7-d46750e4d924",
   "metadata": {},
   "source": [
    "Convert to PyTorch tensors"
   ]
  },
  {
   "cell_type": "code",
   "execution_count": 33,
   "id": "bd752dcf-897d-43b8-b779-4949197772cf",
   "metadata": {},
   "outputs": [],
   "source": [
    "X_train_t = torch.tensor(X_train, dtype=torch.float32)\n",
    "y_train_t = torch.tensor(y_train, dtype=torch.float32)\n",
    "X_val_t = torch.tensor(X_val, dtype=torch.float32)\n",
    "y_val_t = torch.tensor(y_val, dtype=torch.float32)\n",
    "X_test_t = torch.tensor(X_test, dtype=torch.float32)\n",
    "y_test_t = torch.tensor(y_test, dtype=torch.float32)"
   ]
  },
  {
   "cell_type": "markdown",
   "id": "a77e8b9e-2bb8-44d9-878d-96385eccc97c",
   "metadata": {},
   "source": [
    "Create datasets and dataloaders: batch size set to default"
   ]
  },
  {
   "cell_type": "code",
   "execution_count": 35,
   "id": "cfaba121-4506-41f9-b430-cd43d3db78ae",
   "metadata": {},
   "outputs": [],
   "source": [
    "batch_size = 64\n",
    "train_ds = TensorDataset(X_train_t, y_train_t)\n",
    "val_ds = TensorDataset(X_val_t, y_val_t)\n",
    "test_ds = TensorDataset(X_test_t, y_test_t)\n",
    "\n",
    "train_loader = DataLoader(train_ds, batch_size=batch_size, shuffle=True)\n",
    "val_loader = DataLoader(val_ds, batch_size=batch_size)\n",
    "test_loader = DataLoader(test_ds, batch_size=batch_size)"
   ]
  },
  {
   "cell_type": "markdown",
   "id": "c09df685-7dbf-4e86-b0d8-a64764a8b0b3",
   "metadata": {},
   "source": [
    "### 4.3 Defining the model"
   ]
  },
  {
   "cell_type": "markdown",
   "id": "24f93d8a-db59-43c7-bdd0-f932d1affb26",
   "metadata": {},
   "source": [
    "Two hidden layers with ReLU activation and Dropout for regularization, <br>\n",
    "hidden layer 1: 64 units + ReLU + 20% dropout, hidden layer 2: 32 units + ReLU + 10% dropout <br>\n",
    "output layer with a single layer to predict salary"
   ]
  },
  {
   "cell_type": "code",
   "execution_count": 38,
   "id": "daf1d20d-abf3-44da-93c2-dcd83b797a3d",
   "metadata": {},
   "outputs": [],
   "source": [
    "class SalaryPredictor(nn.Module):\n",
    "    def __init__(self, input_dim):\n",
    "        super().__init__()\n",
    "        self.net = nn.Sequential(\n",
    "            nn.Linear(input_dim, 64),\n",
    "            nn.ReLU(),\n",
    "            nn.Dropout(0.2),\n",
    "            nn.Linear(64, 32),\n",
    "            nn.ReLU(),\n",
    "            nn.Dropout(0.1),\n",
    "            nn.Linear(32, 1)\n",
    "        )\n",
    "    def forward(self, x):\n",
    "        return self.net(x)"
   ]
  },
  {
   "cell_type": "code",
   "execution_count": 39,
   "id": "4fc2c37a-9381-4018-b2a4-d4ac8bb2d927",
   "metadata": {},
   "outputs": [],
   "source": [
    "model = SalaryPredictor(len(features))"
   ]
  },
  {
   "cell_type": "markdown",
   "id": "1bc57315-ad2e-4c41-a7d5-44e51f4a3598",
   "metadata": {},
   "source": [
    "### 4.4 Training"
   ]
  },
  {
   "cell_type": "markdown",
   "id": "212f4ba3-1f95-4615-8133-44353f242c86",
   "metadata": {},
   "source": [
    "#### 4.4.1 Setup"
   ]
  },
  {
   "cell_type": "markdown",
   "id": "b22da9e9-bf68-4e51-80b3-9af2fa8ab3f1",
   "metadata": {},
   "source": [
    "MSE as a loss function, Adam optimizer with a learning rate of 0.001."
   ]
  },
  {
   "cell_type": "code",
   "execution_count": 43,
   "id": "30ed2aea-c18b-4bb5-a675-97dc67d871cb",
   "metadata": {},
   "outputs": [],
   "source": [
    "criterion = nn.MSELoss()\n",
    "optimizer = torch.optim.Adam(model.parameters(), lr=0.001)"
   ]
  },
  {
   "cell_type": "markdown",
   "id": "585a2c54-c7a8-46cd-893e-b892375d57f5",
   "metadata": {},
   "source": [
    "trained up for 50 epochs, early stopping patience of 5."
   ]
  },
  {
   "cell_type": "code",
   "execution_count": 45,
   "id": "132d49a6-50d6-408e-ab02-99ba4992f9da",
   "metadata": {},
   "outputs": [],
   "source": [
    "epochs = 50\n",
    "early_stop_patience = 5"
   ]
  },
  {
   "cell_type": "markdown",
   "id": "ec5c43a2-936c-4bdd-aa2a-5cab914f8957",
   "metadata": {},
   "source": [
    "initialization: best validation loss to infinity."
   ]
  },
  {
   "cell_type": "code",
   "execution_count": 47,
   "id": "e66bd87f-2982-4f4f-8d3b-47080f3a3392",
   "metadata": {},
   "outputs": [],
   "source": [
    "best_val_loss = np.inf\n",
    "early_stop_counter = 0"
   ]
  },
  {
   "cell_type": "markdown",
   "id": "79d85da4-1925-47c4-99b7-22603b7c8632",
   "metadata": {},
   "source": [
    "#### 4.4.2 Loop"
   ]
  },
  {
   "cell_type": "code",
   "execution_count": null,
   "id": "80d031f6-e1cc-4675-a986-8554ec8be2c0",
   "metadata": {},
   "outputs": [
    {
     "name": "stdout",
     "output_type": "stream",
     "text": [
      "Epoch 1 - Train Loss: 75.9504 - Val Loss: 41.5020\n",
      "Epoch 2 - Train Loss: 37.3990 - Val Loss: 32.6878\n",
      "Epoch 3 - Train Loss: 33.4833 - Val Loss: 30.7502\n",
      "Epoch 4 - Train Loss: 32.6555 - Val Loss: 30.0233\n",
      "Epoch 5 - Train Loss: 31.9050 - Val Loss: 30.7442\n",
      "Epoch 6 - Train Loss: 31.6806 - Val Loss: 29.2812\n",
      "Epoch 7 - Train Loss: 30.8488 - Val Loss: 28.9413\n",
      "Epoch 8 - Train Loss: 31.4318 - Val Loss: 28.8191\n",
      "Epoch 9 - Train Loss: 31.4620 - Val Loss: 29.0455\n",
      "Epoch 10 - Train Loss: 31.2186 - Val Loss: 28.3501\n",
      "Epoch 11 - Train Loss: 30.7433 - Val Loss: 28.1807\n",
      "Epoch 12 - Train Loss: 30.1662 - Val Loss: 28.0728\n",
      "Epoch 13 - Train Loss: 30.1366 - Val Loss: 27.3291\n",
      "Epoch 14 - Train Loss: 30.0275 - Val Loss: 27.0457\n",
      "Epoch 15 - Train Loss: 29.5742 - Val Loss: 26.9718\n",
      "Epoch 16 - Train Loss: 28.9456 - Val Loss: 26.5075\n",
      "Epoch 17 - Train Loss: 29.2607 - Val Loss: 26.3125\n",
      "Epoch 18 - Train Loss: 28.7773 - Val Loss: 26.3491\n",
      "Epoch 19 - Train Loss: 28.6480 - Val Loss: 26.3853\n",
      "Epoch 20 - Train Loss: 28.8714 - Val Loss: 26.1093\n",
      "Epoch 21 - Train Loss: 28.1604 - Val Loss: 26.0152\n",
      "Epoch 22 - Train Loss: 28.3122 - Val Loss: 26.1029\n"
     ]
    }
   ],
   "source": [
    "# Training loop (epochs)\n",
    "for epoch in range(epochs):\n",
    "    model.train()\n",
    "    train_losses = []\n",
    "    for xb, yb in train_loader:\n",
    "        optimizer.zero_grad()\n",
    "        preds = model(xb)\n",
    "        loss = criterion(preds, yb)\n",
    "        loss.backward()\n",
    "        optimizer.step()\n",
    "        train_losses.append(loss.item())\n",
    "    train_loss = np.mean(train_losses)\n",
    "\n",
    "    # Validation\n",
    "    model.eval()\n",
    "    val_losses = []\n",
    "    with torch.no_grad():\n",
    "        for xb, yb in val_loader:\n",
    "            preds = model(xb)\n",
    "            loss = criterion(preds, yb)\n",
    "            val_losses.append(loss.item())\n",
    "    val_loss = np.mean(val_losses)\n",
    "\n",
    "    print(f\"Epoch {epoch+1} - Train Loss: {train_loss:.4f} - Val Loss: {val_loss:.4f}\")\n",
    "\n",
    "    # Early Stopping\n",
    "    if val_loss < best_val_loss:\n",
    "        best_val_loss = val_loss\n",
    "        early_stop_counter = 0\n",
    "        torch.save(model.state_dict(), 'best_model.pth')\n",
    "    else:\n",
    "        early_stop_counter += 1\n",
    "        if early_stop_counter >= early_stop_patience:\n",
    "            print(\"Early stopping triggered!\")\n",
    "            break"
   ]
  },
  {
   "cell_type": "markdown",
   "id": "5347ccf9-435d-4ba5-91cc-10b2d7d8500a",
   "metadata": {},
   "source": [
    "### 4.5 Model to use"
   ]
  },
  {
   "cell_type": "markdown",
   "id": "0eabe69b-9af8-4bc9-b3dd-fa2d32c81416",
   "metadata": {},
   "source": [
    "Load the best model"
   ]
  },
  {
   "cell_type": "code",
   "execution_count": null,
   "id": "17471aeb-6af1-43c2-b723-3bbc0c67fb06",
   "metadata": {},
   "outputs": [],
   "source": [
    "model.load_state_dict(torch.load('best_model.pth'))\n",
    "model.eval()"
   ]
  },
  {
   "cell_type": "markdown",
   "id": "36085ac6-6cdf-4c74-8642-bfd5275b5b71",
   "metadata": {},
   "source": [
    "Running inference on test set"
   ]
  },
  {
   "cell_type": "code",
   "execution_count": null,
   "id": "c3e75411-68a5-45bc-9ebe-b614875f37d3",
   "metadata": {},
   "outputs": [],
   "source": [
    "all_preds = []\n",
    "all_targets = []\n",
    "\n",
    "with torch.no_grad():\n",
    "    for xb, yb in test_loader:\n",
    "        preds = model(xb)\n",
    "        all_preds.append(preds.cpu().numpy())\n",
    "        all_targets.append(yb.cpu().numpy())"
   ]
  },
  {
   "cell_type": "markdown",
   "id": "0b42b649-5db2-46c0-a585-a7fa6434fbe2",
   "metadata": {},
   "source": [
    "Concatenate all batch results into full test sets"
   ]
  },
  {
   "cell_type": "code",
   "execution_count": null,
   "id": "96d7a03c-e01a-419c-97a5-4a76d3d623fe",
   "metadata": {},
   "outputs": [],
   "source": [
    "y_pred = np.concatenate(all_preds).reshape(-1)\n",
    "y_test_orig = np.concatenate(all_targets).reshape(-1)"
   ]
  },
  {
   "cell_type": "markdown",
   "id": "f52b5fd6-15d7-47f2-b922-b53127c4d982",
   "metadata": {},
   "source": [
    "Rescale salary to original scale, millions"
   ]
  },
  {
   "cell_type": "code",
   "execution_count": null,
   "id": "a813e43b-2626-4c59-9fb9-0ccf020aa15a",
   "metadata": {},
   "outputs": [],
   "source": [
    "y_pred_unscaled = y_pred * 1_000_000\n",
    "y_test_unscaled = y_test_orig * 1_000_000"
   ]
  },
  {
   "cell_type": "markdown",
   "id": "4a40ca9f-cc7e-4081-be94-6e1e7d542d34",
   "metadata": {},
   "source": [
    "### 4.6 Evaluation"
   ]
  },
  {
   "cell_type": "code",
   "execution_count": null,
   "id": "21fecfa3-ea03-4995-9797-0d1d5557c83e",
   "metadata": {},
   "outputs": [],
   "source": [
    "rmse = np.sqrt(mean_squared_error(y_test_unscaled, y_pred_unscaled))\n",
    "r2 = r2_score(y_test_unscaled, y_pred_unscaled)\n",
    "\n",
    "print(f\"Test RMSE: ${rmse:,.2f}\")\n",
    "print(f\"Test R² Score: {r2:.4f}\")"
   ]
  },
  {
   "cell_type": "markdown",
   "id": "3028538b-da0a-4da1-8464-379b580405f1",
   "metadata": {},
   "source": [
    "MAE and R^2 scores are not bad, especially compared for results I saw from Linear Regression and Random Forest. There are still room for improvement."
   ]
  },
  {
   "cell_type": "markdown",
   "id": "43e572e3-0cd8-4e47-a9ff-1dfb728b8bce",
   "metadata": {},
   "source": [
    "## 5. Prediction"
   ]
  },
  {
   "cell_type": "markdown",
   "id": "216c4917-b429-423d-b637-a1be42c06686",
   "metadata": {},
   "source": [
    "### 5.1 Prediction Function"
   ]
  },
  {
   "cell_type": "code",
   "execution_count": null,
   "id": "dcaa1068-59fd-43ef-a362-f46355236116",
   "metadata": {},
   "outputs": [],
   "source": [
    "def predict_salary(player_name, model, scaler, features, df):\n",
    "    player_rows = df[df['Player'] == player_name]\n",
    "\n",
    "    if player_rows.empty:\n",
    "        print(f\"Player '{player_name}' not found in the dataset.\")\n",
    "        return\n",
    "\n",
    "    # Select the most recent season's stats\n",
    "    player_row = player_rows[player_rows['Year'] == player_rows['Year'].max()].iloc[0]\n",
    "\n",
    "    # Prepare feature vector as a DataFrame with a single row\n",
    "    player_features = pd.DataFrame([player_row[features]])\n",
    "\n",
    "    scaled_features = scaler.transform(player_features.values)\n",
    "\n",
    "    input_tensor = torch.tensor(scaled_features, dtype=torch.float32)\n",
    "\n",
    "    model.eval()\n",
    "    with torch.no_grad():\n",
    "        predicted_scaled = model(input_tensor).item()\n",
    "\n",
    "    predicted_salary = predicted_scaled * 1_000_000\n",
    "    actual_salary = player_row['Salary']\n",
    "\n",
    "    print(f\"Predicted 2025–26 season salary for {player_name}: ${predicted_salary:,.2f}\")\n",
    "    print(f\"Actual {player_row['Year']} salary: ${actual_salary:,.2f}\")"
   ]
  },
  {
   "cell_type": "markdown",
   "id": "dbb363e1-4d70-4cf5-8470-f23a04513cd6",
   "metadata": {},
   "source": [
    "### 5.2 Predicting with actual players"
   ]
  },
  {
   "cell_type": "markdown",
   "id": "83f7489f-1bd4-49f2-a7ed-5f3493be47e8",
   "metadata": {},
   "source": [
    "As the model is predicting new salary for next year, let's try some players who have contracts expiring next year. \n",
    "<br>Let's first try with **James Harden**, who has player option for next season. His stats: 22.8 PTS, 8.7 AST, 5.8 REB, 0.7 BLK, 1.5 STL at age of 35."
   ]
  },
  {
   "cell_type": "code",
   "execution_count": null,
   "id": "4818f3ed-9b4b-4d09-9349-497b0b565c08",
   "metadata": {},
   "outputs": [],
   "source": [
    "predict_salary(\"James Harden\", model, scaler, features, df)"
   ]
  },
  {
   "cell_type": "markdown",
   "id": "566e312b-ce58-48b6-89c4-4c7334072107",
   "metadata": {},
   "source": [
    "**Lebron James** also has his player option for next season. His stats: 24.4 PTS, 8.2 AST, 7.8 REB, 0.6 BLK, 1 STL at the age of 40."
   ]
  },
  {
   "cell_type": "code",
   "execution_count": null,
   "id": "e036a37f-de2e-43a7-89ed-243dcc8cde53",
   "metadata": {},
   "outputs": [],
   "source": [
    "predict_salary(\"LeBron James\", model, scaler, features, df)"
   ]
  },
  {
   "cell_type": "markdown",
   "id": "21f99481-a968-4687-8485-b1444219d4f0",
   "metadata": {},
   "source": [
    "Lastly, **Ty Jerome**, one of the best bench players this season, also gets Free Agent option this season. <br>\n",
    "His stats: 12.5 PTS, 3.4 AST, 2.5 REB, 0 BLK, 1.1 STL at the age of 27."
   ]
  },
  {
   "cell_type": "code",
   "execution_count": null,
   "id": "6ae22c29-2e67-43d3-b642-0e2806e478ad",
   "metadata": {},
   "outputs": [],
   "source": [
    "predict_salary(\"Ty Jerome\", model, scaler, features, df)"
   ]
  }
 ],
 "metadata": {
  "kernelspec": {
   "display_name": "Python [conda env:base] *",
   "language": "python",
   "name": "conda-base-py"
  },
  "language_info": {
   "codemirror_mode": {
    "name": "ipython",
    "version": 3
   },
   "file_extension": ".py",
   "mimetype": "text/x-python",
   "name": "python",
   "nbconvert_exporter": "python",
   "pygments_lexer": "ipython3",
   "version": "3.12.7"
  }
 },
 "nbformat": 4,
 "nbformat_minor": 5
}
