{
 "cells": [
  {
   "cell_type": "markdown",
   "id": "e1706279-fd4e-4af1-95cd-291ead3a43dd",
   "metadata": {},
   "source": [
    "# Cleaning & Merging NBA Player Stats (1998-2025) & Salary Data (2000-2025)"
   ]
  },
  {
   "cell_type": "markdown",
   "id": "d04219f4-ac53-4a07-abba-1ec8e7c52b0d",
   "metadata": {},
   "source": [
    "### Libraries"
   ]
  },
  {
   "cell_type": "code",
   "execution_count": 965,
   "id": "5ce3dd68-e758-4f49-ba8c-cb0e23aff5c1",
   "metadata": {},
   "outputs": [],
   "source": [
    "import pandas as pd\n",
    "import unicodedata"
   ]
  },
  {
   "cell_type": "markdown",
   "id": "88e16e61-ae07-48b6-b643-679d2dbe15d5",
   "metadata": {},
   "source": [
    "## Salary Data (2000-2025)"
   ]
  },
  {
   "cell_type": "markdown",
   "id": "e34ad017-65fe-42e2-8e30-db60e1e74b16",
   "metadata": {},
   "source": [
    "#### 2000-2020\n",
    "Much thanks to **erikgregorywebb**, [GitHub link](https://github.com/erikgregorywebb/datasets/blob/master/nba-salaries.csv)"
   ]
  },
  {
   "cell_type": "code",
   "execution_count": 968,
   "id": "3bef2859-a8c1-4b08-ba85-af8ceb71a639",
   "metadata": {},
   "outputs": [
    {
     "data": {
      "text/html": [
       "<div>\n",
       "<style scoped>\n",
       "    .dataframe tbody tr th:only-of-type {\n",
       "        vertical-align: middle;\n",
       "    }\n",
       "\n",
       "    .dataframe tbody tr th {\n",
       "        vertical-align: top;\n",
       "    }\n",
       "\n",
       "    .dataframe thead th {\n",
       "        text-align: right;\n",
       "    }\n",
       "</style>\n",
       "<table border=\"1\" class=\"dataframe\">\n",
       "  <thead>\n",
       "    <tr style=\"text-align: right;\">\n",
       "      <th></th>\n",
       "      <th>Player</th>\n",
       "      <th>Salary</th>\n",
       "      <th>Season</th>\n",
       "    </tr>\n",
       "  </thead>\n",
       "  <tbody>\n",
       "    <tr>\n",
       "      <th>0</th>\n",
       "      <td>Shaquille O'Neal</td>\n",
       "      <td>17142000</td>\n",
       "      <td>2000</td>\n",
       "    </tr>\n",
       "    <tr>\n",
       "      <th>1</th>\n",
       "      <td>Kevin Garnett</td>\n",
       "      <td>16806000</td>\n",
       "      <td>2000</td>\n",
       "    </tr>\n",
       "    <tr>\n",
       "      <th>2</th>\n",
       "      <td>Alonzo Mourning</td>\n",
       "      <td>15004000</td>\n",
       "      <td>2000</td>\n",
       "    </tr>\n",
       "    <tr>\n",
       "      <th>3</th>\n",
       "      <td>Juwan Howard</td>\n",
       "      <td>15000000</td>\n",
       "      <td>2000</td>\n",
       "    </tr>\n",
       "    <tr>\n",
       "      <th>4</th>\n",
       "      <td>Scottie Pippen</td>\n",
       "      <td>14795000</td>\n",
       "      <td>2000</td>\n",
       "    </tr>\n",
       "    <tr>\n",
       "      <th>...</th>\n",
       "      <td>...</td>\n",
       "      <td>...</td>\n",
       "      <td>...</td>\n",
       "    </tr>\n",
       "    <tr>\n",
       "      <th>9451</th>\n",
       "      <td>Jimmer Fredette</td>\n",
       "      <td>208509</td>\n",
       "      <td>2020</td>\n",
       "    </tr>\n",
       "    <tr>\n",
       "      <th>9452</th>\n",
       "      <td>Jontay Porter</td>\n",
       "      <td>197933</td>\n",
       "      <td>2020</td>\n",
       "    </tr>\n",
       "    <tr>\n",
       "      <th>9453</th>\n",
       "      <td>Anthony Tolliver</td>\n",
       "      <td>183115</td>\n",
       "      <td>2020</td>\n",
       "    </tr>\n",
       "    <tr>\n",
       "      <th>9454</th>\n",
       "      <td>Tyler Johnson</td>\n",
       "      <td>183115</td>\n",
       "      <td>2020</td>\n",
       "    </tr>\n",
       "    <tr>\n",
       "      <th>9455</th>\n",
       "      <td>Luguentz Dort</td>\n",
       "      <td>155647</td>\n",
       "      <td>2020</td>\n",
       "    </tr>\n",
       "  </tbody>\n",
       "</table>\n",
       "<p>9456 rows × 3 columns</p>\n",
       "</div>"
      ],
      "text/plain": [
       "                Player    Salary  Season\n",
       "0     Shaquille O'Neal  17142000    2000\n",
       "1        Kevin Garnett  16806000    2000\n",
       "2      Alonzo Mourning  15004000    2000\n",
       "3         Juwan Howard  15000000    2000\n",
       "4       Scottie Pippen  14795000    2000\n",
       "...                ...       ...     ...\n",
       "9451   Jimmer Fredette    208509    2020\n",
       "9452     Jontay Porter    197933    2020\n",
       "9453  Anthony Tolliver    183115    2020\n",
       "9454     Tyler Johnson    183115    2020\n",
       "9455     Luguentz Dort    155647    2020\n",
       "\n",
       "[9456 rows x 3 columns]"
      ]
     },
     "execution_count": 968,
     "metadata": {},
     "output_type": "execute_result"
    }
   ],
   "source": [
    "salary_2000_2020 = pd.read_csv('salaries_2000-2020.csv') \n",
    "salary_2000_2020"
   ]
  },
  {
   "cell_type": "markdown",
   "id": "5d62de41-c3da-45d7-bfcc-b48ab8e011a8",
   "metadata": {},
   "source": [
    "#### 2021-2024\n",
    "scrapped from [HoopsHype](https://hoopshype.com/salaries/players/2020-2021/)"
   ]
  },
  {
   "cell_type": "code",
   "execution_count": 970,
   "id": "acfc8688-32bb-4ab7-add9-44682064200d",
   "metadata": {},
   "outputs": [],
   "source": [
    "seasons = {\n",
    "    '2020-2021': '2021',\n",
    "    '2021-2022': '2022',\n",
    "    '2022-2023': '2023',\n",
    "    '2023-2024': '2024',\n",
    "}"
   ]
  },
  {
   "cell_type": "code",
   "execution_count": 971,
   "id": "04f78def-bd0b-4af3-b00a-563f23635b6d",
   "metadata": {},
   "outputs": [],
   "source": [
    "all_salary_data = []\n",
    "\n",
    "for url_season, season_label in seasons.items():\n",
    "    url = f'https://hoopshype.com/salaries/players/{url_season}/'\n",
    "    try:\n",
    "        tables = pd.read_html(url)\n",
    "        salary_df = tables[0]\n",
    "        salary_df.columns = ['Rank', 'Player', 'Team', 'Salary']\n",
    "        salary_df = salary_df[['Player', 'Salary']].copy()\n",
    "        salary_df['Season'] = season_label\n",
    "        salary_df['Salary'] = salary_df['Salary'].replace(r'[\\$,]', '', regex=True).astype(float).astype(int)\n",
    "        all_salary_data.append(salary_df)\n",
    "    except Exception as e:\n",
    "        print(f\"Error processing {url}: {e}\")"
   ]
  },
  {
   "cell_type": "markdown",
   "id": "97fdbe9b-a2a3-41e9-9646-69f0582a79d4",
   "metadata": {},
   "source": [
    "Merging"
   ]
  },
  {
   "cell_type": "code",
   "execution_count": 973,
   "id": "9a779855-5e36-4d92-9009-287708144e78",
   "metadata": {},
   "outputs": [
    {
     "name": "stdout",
     "output_type": "stream",
     "text": [
      "                  Player    Salary Season\n",
      "0          Stephen Curry  52411485   2021\n",
      "1             Chris Paul  50403633   2021\n",
      "2      Russell Westbrook  50403633   2021\n",
      "3           James Harden  50277018   2021\n",
      "4              John Wall  50277018   2021\n",
      "...                  ...       ...    ...\n",
      "2412      Jalen Crutcher     66254   2024\n",
      "2413  Izaiah Brockington     66254   2024\n",
      "2414      Taevion Kinsey     66254   2024\n",
      "2415       Edmond Sumner     41661   2024\n",
      "2416        Kaiser Gates     36440   2024\n",
      "\n",
      "[2417 rows x 3 columns]\n"
     ]
    }
   ],
   "source": [
    "merged_salary = pd.concat(all_salary_data, ignore_index=True)\n",
    "\n",
    "# Preview the result\n",
    "print(merged_salary)"
   ]
  },
  {
   "cell_type": "code",
   "execution_count": 974,
   "id": "d346f50f-69dc-4e7d-80f3-9b9665970329",
   "metadata": {},
   "outputs": [],
   "source": [
    "merged_salary.to_csv('nba_salaries_2021-24', index=False)\n",
    "\n",
    "salary_2021_2024 = pd.read_csv('salaries_2021-2024.csv')"
   ]
  },
  {
   "cell_type": "markdown",
   "id": "8eb2c087-1487-420f-949b-8f0327378009",
   "metadata": {},
   "source": [
    "#### 2025\n",
    "Already scrapped from [HoopsHype](https://hoopshype.com/salaries/players/)"
   ]
  },
  {
   "cell_type": "code",
   "execution_count": 976,
   "id": "ead1169e-d3e9-48c2-a79e-48ccf4204aa8",
   "metadata": {},
   "outputs": [],
   "source": [
    "salary_2024_25 = pd.read_csv('salaries_2025.csv')"
   ]
  },
  {
   "cell_type": "markdown",
   "id": "f798d0be-9d5a-4640-b2da-90c31ad6aaab",
   "metadata": {},
   "source": [
    "Removing the dollar sign and commas"
   ]
  },
  {
   "cell_type": "code",
   "execution_count": 978,
   "id": "4e104499-4565-4106-9e09-dfc0c588a95d",
   "metadata": {},
   "outputs": [
    {
     "name": "stdout",
     "output_type": "stream",
     "text": [
      "            Player    Salary  Season\n",
      "0    Stephen Curry  55761216    2025\n",
      "1      Joel Embiid  51415938    2025\n",
      "2     Nikola Jokic  51415938    2025\n",
      "3     Kevin Durant  51179021    2025\n",
      "4     Bradley Beal  50203930    2025\n",
      "..             ...       ...     ...\n",
      "558  Isaiah Mobley     11997    2025\n",
      "559    Braxton Key     11997    2025\n",
      "560     JD Davison     11997    2025\n",
      "561   Kylor Kelley     73153    2025\n",
      "562    Jaylen Sims     73153    2025\n",
      "\n",
      "[563 rows x 3 columns]\n"
     ]
    }
   ],
   "source": [
    "salary_2024_25['Salary'] = salary_2024_25['Salary'].replace(r'[\\$,]', '', regex=True).astype(int)\n",
    "\n",
    "print(salary_2024_25)"
   ]
  },
  {
   "cell_type": "markdown",
   "id": "c6a4cfcd-b69d-45f1-ab99-5bc6754ab5a5",
   "metadata": {},
   "source": [
    "#### Merging 2000-2025 Datasets"
   ]
  },
  {
   "cell_type": "markdown",
   "id": "9d0396fd-fa88-42eb-86d9-7b0613fbe588",
   "metadata": {},
   "source": [
    "Double check for dollar signs"
   ]
  },
  {
   "cell_type": "code",
   "execution_count": 981,
   "id": "f41561a3-9a58-4890-b497-747b9a2d1f76",
   "metadata": {},
   "outputs": [],
   "source": [
    "for df in [salary_2000_2020, salary_2021_2024, salary_2024_25]:\n",
    "    df['Salary'] = df['Salary'].replace(r'[\\$,]', '', regex=True).astype(int)"
   ]
  },
  {
   "cell_type": "markdown",
   "id": "91ec42fc-bfa4-4c9c-823b-20e7f3780f77",
   "metadata": {},
   "source": [
    "Merging"
   ]
  },
  {
   "cell_type": "code",
   "execution_count": 983,
   "id": "c0110621-ebd8-4488-a148-48e907ff8976",
   "metadata": {},
   "outputs": [],
   "source": [
    "merged_salary = pd.concat([salary_2000_2020, salary_2021_2024, salary_2024_25], ignore_index=True)"
   ]
  },
  {
   "cell_type": "markdown",
   "id": "663d50d3-49a7-40e2-baca-cc21bdd4d6cc",
   "metadata": {},
   "source": [
    "Extra check for duplicates"
   ]
  },
  {
   "cell_type": "code",
   "execution_count": 985,
   "id": "d1656520-cf1d-4db9-8887-b872ac71093e",
   "metadata": {},
   "outputs": [],
   "source": [
    "merged_salary.drop_duplicates(subset=['Player', 'Season'], keep='last', inplace=True)"
   ]
  },
  {
   "cell_type": "markdown",
   "id": "c910cefb-f4b5-4665-9712-c93bede70170",
   "metadata": {},
   "source": [
    "I will integrate season column as year, e.g. 2024-25 season as year '2025'"
   ]
  },
  {
   "cell_type": "code",
   "execution_count": 987,
   "id": "1ba98539-fa3c-48cd-b627-550b9420b66d",
   "metadata": {},
   "outputs": [],
   "source": [
    "merged_salary.rename(columns={'Season': 'Year'}, inplace=True)"
   ]
  },
  {
   "cell_type": "code",
   "execution_count": 988,
   "id": "64c74bd3-e5c4-4b9c-a6d0-43fd57122324",
   "metadata": {},
   "outputs": [
    {
     "name": "stdout",
     "output_type": "stream",
     "text": [
      "                 Player    Salary  Year\n",
      "0      Shaquille O'Neal  17142000  2000\n",
      "1         Kevin Garnett  16806000  2000\n",
      "2       Alonzo Mourning  15004000  2000\n",
      "3          Juwan Howard  15000000  2000\n",
      "4        Scottie Pippen  14795000  2000\n",
      "...                 ...       ...   ...\n",
      "12431     Isaiah Mobley     11997  2025\n",
      "12432       Braxton Key     11997  2025\n",
      "12433        JD Davison     11997  2025\n",
      "12434      Kylor Kelley     73153  2025\n",
      "12435       Jaylen Sims     73153  2025\n",
      "\n",
      "[12386 rows x 3 columns]\n",
      "Total rows after merge: 12386\n"
     ]
    }
   ],
   "source": [
    "print(merged_salary)\n",
    "print(f\"Total rows after merge: {len(merged_salary)}\")"
   ]
  },
  {
   "cell_type": "code",
   "execution_count": 989,
   "id": "c2b41a19-03a8-4fef-bbb9-00e3c9ab9fa2",
   "metadata": {},
   "outputs": [],
   "source": [
    "merged_salary.to_csv('nba_salaries_2000-2025', index=False)"
   ]
  },
  {
   "cell_type": "markdown",
   "id": "9900de4e-4bb5-4455-b1a0-19961a65a64a",
   "metadata": {},
   "source": [
    "Done!"
   ]
  },
  {
   "cell_type": "markdown",
   "id": "deff2ffc-a79a-4c8b-86bb-2dda00807330",
   "metadata": {},
   "source": [
    "## Stats Data (1998-2025)"
   ]
  },
  {
   "cell_type": "markdown",
   "id": "90ba59e7-1427-47d7-b3de-4ba4b3197e26",
   "metadata": {},
   "source": [
    "#### 1998-2022\n",
    "Much thanks to **Patrick_Batman**, [Kaggle Link](https://www.kaggle.com/datasets/raunakpandey030/nba-player-stats?select=NBA_Player_Stats.csv)"
   ]
  },
  {
   "cell_type": "code",
   "execution_count": 993,
   "id": "5d3cf9d7-8254-4e5a-9132-e8982509ba5e",
   "metadata": {},
   "outputs": [],
   "source": [
    "stats_2 = pd.read_csv(\"NBA Player Stats_1998-2022.csv\") "
   ]
  },
  {
   "cell_type": "markdown",
   "id": "19535820-73cf-4bb1-bc2c-7a0053120b10",
   "metadata": {},
   "source": [
    "#### 2023-2025\n",
    "Data downloaded from [Basketball Reference](https://www.basketball-reference.com/leagues/NBA_2025_per_game.html)"
   ]
  },
  {
   "cell_type": "code",
   "execution_count": 995,
   "id": "6408d6ad-38a2-4c55-b83d-e18d99e9eccf",
   "metadata": {},
   "outputs": [],
   "source": [
    "stats_2023 = pd.read_csv(\"stats_2023.csv\")\n",
    "stats_2024 = pd.read_csv(\"stats_2024.csv\")   \n",
    "stats_2025 = pd.read_csv(\"stats_2025.csv\")"
   ]
  },
  {
   "cell_type": "markdown",
   "id": "a8606b21-ec95-4471-8af7-ec117494455e",
   "metadata": {},
   "source": [
    "### Cleaning before merging"
   ]
  },
  {
   "cell_type": "code",
   "execution_count": 997,
   "id": "c78cf396-77b7-4dc0-8527-3cb0ecfe203a",
   "metadata": {},
   "outputs": [
    {
     "name": "stdout",
     "output_type": "stream",
     "text": [
      "Index(['Rk', 'Player', 'Pos', 'Age', 'Tm', 'G', 'GS', 'MP', 'FG', 'FGA', 'FG%',\n",
      "       '3P', '3PA', '3P%', '2P', '2PA', '2P%', 'eFG%', 'FT', 'FTA', 'FT%',\n",
      "       'ORB', 'DRB', 'TRB', 'AST', 'STL', 'BLK', 'TOV', 'PF', 'PTS', 'Year'],\n",
      "      dtype='object')\n",
      "Index(['Rk', 'Player', 'Pos', 'Age', 'Tm', 'G', 'GS', 'MP', 'FG', 'FGA', 'FG%',\n",
      "       '3P', '3PA', '3P%', '2P', '2PA', '2P%', 'eFG%', 'FT', 'FTA', 'FT%',\n",
      "       'ORB', 'DRB', 'TRB', 'AST', 'STL', 'BLK', 'TOV', 'PF', 'PTS'],\n",
      "      dtype='object')\n",
      "Index(['Rk', 'Player', 'Pos', 'Age', 'Tm', 'G', 'GS', 'MP', 'FG', 'FGA', 'FG%',\n",
      "       '3P', '3PA', '3P%', '2P', '2PA', '2P%', 'eFG%', 'FT', 'FTA', 'FT%',\n",
      "       'ORB', 'DRB', 'TRB', 'AST', 'STL', 'BLK', 'TOV', 'PF', 'PTS'],\n",
      "      dtype='object')\n",
      "Index(['Rk', 'Player', 'Age', 'Team', 'Pos', 'G', 'GS', 'MP', 'FG', 'FGA',\n",
      "       'FG%', '3P', '3PA', '3P%', '2P', '2PA', '2P%', 'eFG%', 'FT', 'FTA',\n",
      "       'FT%', 'ORB', 'DRB', 'TRB', 'AST', 'STL', 'BLK', 'TOV', 'PF', 'PTS'],\n",
      "      dtype='object')\n"
     ]
    }
   ],
   "source": [
    "print(stats_2.columns)\n",
    "print(stats_2023.columns)\n",
    "print(stats_2024.columns)\n",
    "print(stats_2025.columns)"
   ]
  },
  {
   "cell_type": "markdown",
   "id": "94109cb1-f555-4dcf-a687-923d013dff29",
   "metadata": {},
   "source": [
    "1) need to add 'Year' for 2023-2025\n",
    "2) stats order for 2025 doesn't match other datasets\n",
    "3) 'Team' for 2025, 'Tm' for 1998-2024"
   ]
  },
  {
   "cell_type": "markdown",
   "id": "8a5c2aad-b1f4-4da0-9b0e-f6555192837a",
   "metadata": {},
   "source": [
    "Adding Years "
   ]
  },
  {
   "cell_type": "code",
   "execution_count": 1000,
   "id": "7c5939ad-11af-49dd-b18d-ee2812ddfea5",
   "metadata": {},
   "outputs": [],
   "source": [
    "stats_2023['Year'] = 2023\n",
    "stats_2024['Year'] = 2024\n",
    "stats_2025['Year'] = 2025"
   ]
  },
  {
   "cell_type": "markdown",
   "id": "250ff42c-1859-4a87-a43b-ebb6da4c53a5",
   "metadata": {},
   "source": [
    "Change 2025 column to 'Tm' to merge"
   ]
  },
  {
   "cell_type": "code",
   "execution_count": 1002,
   "id": "21bbd921-3622-41d2-8a96-8d3df077593c",
   "metadata": {},
   "outputs": [],
   "source": [
    "stats_2025.rename(columns={'Team': 'Tm'}, inplace=True)"
   ]
  },
  {
   "cell_type": "markdown",
   "id": "9a002075-c678-4721-971b-92adf65c54fa",
   "metadata": {},
   "source": [
    "Match column orders"
   ]
  },
  {
   "cell_type": "code",
   "execution_count": 1004,
   "id": "43bf755e-0a66-49a3-8fc9-f616df3487ea",
   "metadata": {},
   "outputs": [],
   "source": [
    "cols = stats_2.columns.tolist()"
   ]
  },
  {
   "cell_type": "code",
   "execution_count": 1005,
   "id": "5a4deffa-6bed-46ff-a876-5f69d98d0fa1",
   "metadata": {},
   "outputs": [],
   "source": [
    "stats_2023 = stats_2023[cols]\n",
    "stats_2024 = stats_2024[cols]\n",
    "stats_2025 = stats_2025[cols]"
   ]
  },
  {
   "cell_type": "markdown",
   "id": "32c1457d-8780-4da2-be85-0084ceeb0083",
   "metadata": {},
   "source": [
    "Final check"
   ]
  },
  {
   "cell_type": "code",
   "execution_count": 1007,
   "id": "f3f63082-ecdf-4a5f-a4d2-c3fdb9032691",
   "metadata": {},
   "outputs": [
    {
     "name": "stdout",
     "output_type": "stream",
     "text": [
      "Index(['Rk', 'Player', 'Pos', 'Age', 'Tm', 'G', 'GS', 'MP', 'FG', 'FGA', 'FG%',\n",
      "       '3P', '3PA', '3P%', '2P', '2PA', '2P%', 'eFG%', 'FT', 'FTA', 'FT%',\n",
      "       'ORB', 'DRB', 'TRB', 'AST', 'STL', 'BLK', 'TOV', 'PF', 'PTS', 'Year'],\n",
      "      dtype='object')\n",
      "Index(['Rk', 'Player', 'Pos', 'Age', 'Tm', 'G', 'GS', 'MP', 'FG', 'FGA', 'FG%',\n",
      "       '3P', '3PA', '3P%', '2P', '2PA', '2P%', 'eFG%', 'FT', 'FTA', 'FT%',\n",
      "       'ORB', 'DRB', 'TRB', 'AST', 'STL', 'BLK', 'TOV', 'PF', 'PTS', 'Year'],\n",
      "      dtype='object')\n",
      "Index(['Rk', 'Player', 'Pos', 'Age', 'Tm', 'G', 'GS', 'MP', 'FG', 'FGA', 'FG%',\n",
      "       '3P', '3PA', '3P%', '2P', '2PA', '2P%', 'eFG%', 'FT', 'FTA', 'FT%',\n",
      "       'ORB', 'DRB', 'TRB', 'AST', 'STL', 'BLK', 'TOV', 'PF', 'PTS', 'Year'],\n",
      "      dtype='object')\n",
      "Index(['Rk', 'Player', 'Pos', 'Age', 'Tm', 'G', 'GS', 'MP', 'FG', 'FGA', 'FG%',\n",
      "       '3P', '3PA', '3P%', '2P', '2PA', '2P%', 'eFG%', 'FT', 'FTA', 'FT%',\n",
      "       'ORB', 'DRB', 'TRB', 'AST', 'STL', 'BLK', 'TOV', 'PF', 'PTS', 'Year'],\n",
      "      dtype='object')\n"
     ]
    }
   ],
   "source": [
    "print(stats_2.columns)\n",
    "print(stats_2023.columns)\n",
    "print(stats_2024.columns)\n",
    "print(stats_2025.columns)"
   ]
  },
  {
   "cell_type": "markdown",
   "id": "1514c35e-cae2-482e-890c-a7b7b23ab1c4",
   "metadata": {},
   "source": [
    "for 1998-2022, 'Year' is shown as season e.g. 1998-2022 dataset: Year = \"1998-1999\". <br>\n",
    "so, only leave the latter half (remove string '1998-' from '1998-1999')"
   ]
  },
  {
   "cell_type": "code",
   "execution_count": 1009,
   "id": "0a9704ac-6f5b-4a4d-9eff-ccd34d5b47e2",
   "metadata": {},
   "outputs": [],
   "source": [
    "def extract_latter_year(x):\n",
    "    try:\n",
    "        if isinstance(x, str) and '-' in x:\n",
    "            return int(x.split('-')[-1])\n",
    "        return int(x)\n",
    "    except:\n",
    "        return pd.NA"
   ]
  },
  {
   "cell_type": "code",
   "execution_count": 1010,
   "id": "2aa80712-55e0-410b-991f-a080c3687622",
   "metadata": {},
   "outputs": [
    {
     "name": "stdout",
     "output_type": "stream",
     "text": [
      "0        1998\n",
      "1        1998\n",
      "2        1998\n",
      "3        1998\n",
      "4        1998\n",
      "         ... \n",
      "14568    2022\n",
      "14569    2022\n",
      "14570    2022\n",
      "14571    2022\n",
      "14572    2022\n",
      "Name: Year, Length: 14573, dtype: int64\n"
     ]
    }
   ],
   "source": [
    "stats_2['Year'] = stats_2['Year'].apply(extract_latter_year)\n",
    "\n",
    "print(stats_2['Year'])"
   ]
  },
  {
   "cell_type": "markdown",
   "id": "90ed40dc-fb61-4046-b0da-0d651ee3f9cb",
   "metadata": {},
   "source": [
    "Check for NaNs"
   ]
  },
  {
   "cell_type": "code",
   "execution_count": 1012,
   "id": "c4451cb8-6f66-4e6b-a19d-707d4c9e320e",
   "metadata": {},
   "outputs": [
    {
     "name": "stdout",
     "output_type": "stream",
     "text": [
      "NaNs in Year column: 0\n"
     ]
    }
   ],
   "source": [
    "print(\"NaNs in Year column:\", stats_2['Year'].isna().sum())"
   ]
  },
  {
   "cell_type": "markdown",
   "id": "10dc9fd2-f2a2-4d43-a277-5d66b01f05f2",
   "metadata": {},
   "source": [
    "Great!"
   ]
  },
  {
   "cell_type": "markdown",
   "id": "a9c124ac-f19f-4e6c-876c-ffee27da05c3",
   "metadata": {},
   "source": [
    "#### Data types"
   ]
  },
  {
   "cell_type": "code",
   "execution_count": 1015,
   "id": "f776adfe-f455-4735-a39c-6557edead81d",
   "metadata": {},
   "outputs": [
    {
     "name": "stdout",
     "output_type": "stream",
     "text": [
      "Rk          int64\n",
      "Player     object\n",
      "Pos        object\n",
      "Age         int64\n",
      "Tm         object\n",
      "G           int64\n",
      "GS          int64\n",
      "MP        float64\n",
      "FG        float64\n",
      "FGA       float64\n",
      "FG%       float64\n",
      "3P        float64\n",
      "3PA       float64\n",
      "3P%       float64\n",
      "2P        float64\n",
      "2PA       float64\n",
      "2P%       float64\n",
      "eFG%      float64\n",
      "FT        float64\n",
      "FTA       float64\n",
      "FT%       float64\n",
      "ORB       float64\n",
      "DRB       float64\n",
      "TRB       float64\n",
      "AST       float64\n",
      "STL       float64\n",
      "BLK       float64\n",
      "TOV       float64\n",
      "PF        float64\n",
      "PTS       float64\n",
      "Year        int64\n",
      "dtype: object\n",
      "Rk          int64\n",
      "Player     object\n",
      "Pos        object\n",
      "Age        object\n",
      "Tm         object\n",
      "G           int64\n",
      "GS        float64\n",
      "MP        float64\n",
      "FG        float64\n",
      "FGA       float64\n",
      "FG%       float64\n",
      "3P        float64\n",
      "3PA       float64\n",
      "3P%       float64\n",
      "2P        float64\n",
      "2PA       float64\n",
      "2P%       float64\n",
      "eFG%      float64\n",
      "FT        float64\n",
      "FTA       float64\n",
      "FT%       float64\n",
      "ORB       float64\n",
      "DRB       float64\n",
      "TRB       float64\n",
      "AST       float64\n",
      "STL       float64\n",
      "BLK       float64\n",
      "TOV       float64\n",
      "PF        float64\n",
      "PTS       float64\n",
      "Year        int64\n",
      "dtype: object\n",
      "Rk          int64\n",
      "Player     object\n",
      "Pos        object\n",
      "Age        object\n",
      "Tm         object\n",
      "G           int64\n",
      "GS        float64\n",
      "MP        float64\n",
      "FG        float64\n",
      "FGA       float64\n",
      "FG%       float64\n",
      "3P        float64\n",
      "3PA       float64\n",
      "3P%       float64\n",
      "2P        float64\n",
      "2PA       float64\n",
      "2P%       float64\n",
      "eFG%      float64\n",
      "FT        float64\n",
      "FTA       float64\n",
      "FT%       float64\n",
      "ORB       float64\n",
      "DRB       float64\n",
      "TRB       float64\n",
      "AST       float64\n",
      "STL       float64\n",
      "BLK       float64\n",
      "TOV       float64\n",
      "PF        float64\n",
      "PTS       float64\n",
      "Year        int64\n",
      "dtype: object\n",
      "Rk          int64\n",
      "Player     object\n",
      "Pos        object\n",
      "Age         int64\n",
      "Tm         object\n",
      "G           int64\n",
      "GS          int64\n",
      "MP        float64\n",
      "FG        float64\n",
      "FGA       float64\n",
      "FG%       float64\n",
      "3P        float64\n",
      "3PA       float64\n",
      "3P%       float64\n",
      "2P        float64\n",
      "2PA       float64\n",
      "2P%       float64\n",
      "eFG%      float64\n",
      "FT        float64\n",
      "FTA       float64\n",
      "FT%       float64\n",
      "ORB       float64\n",
      "DRB       float64\n",
      "TRB       float64\n",
      "AST       float64\n",
      "STL       float64\n",
      "BLK       float64\n",
      "TOV       float64\n",
      "PF        float64\n",
      "PTS       float64\n",
      "Year        int64\n",
      "dtype: object\n"
     ]
    }
   ],
   "source": [
    "print(stats_2.dtypes)\n",
    "print(stats_2023.dtypes)\n",
    "print(stats_2024.dtypes)\n",
    "print(stats_2025.dtypes)"
   ]
  },
  {
   "cell_type": "markdown",
   "id": "ce04666f-3a6b-4153-90b3-ef73fbbbb02b",
   "metadata": {},
   "source": [
    "'Age', 'GS', 'Year' columns should be 'Int', since it should be numeric value for further analysis"
   ]
  },
  {
   "cell_type": "code",
   "execution_count": 1017,
   "id": "c2d477bf-e184-4a7e-a74b-a06215a15028",
   "metadata": {},
   "outputs": [],
   "source": [
    "datasets = [stats_2, stats_2023, stats_2024, stats_2025]"
   ]
  },
  {
   "cell_type": "code",
   "execution_count": 1018,
   "id": "4d49c211-2248-49f2-b73d-c2daa0364571",
   "metadata": {},
   "outputs": [],
   "source": [
    "for df in datasets:\n",
    "    df['Age'] = pd.to_numeric(df['Age'], errors='coerce').astype('Int64')\n",
    "    df['GS'] = pd.to_numeric(df['GS'], errors='coerce')\n",
    "    if df['GS'].isna().sum() == 0:\n",
    "        df['GS'] = df['GS'].astype('int64')\n",
    "    df['Year'] = pd.to_numeric(df['Year'], errors='coerce').astype('int64')"
   ]
  },
  {
   "cell_type": "markdown",
   "id": "13547503-8548-4e15-aa0c-131f266ed700",
   "metadata": {},
   "source": [
    "#### Normalizing names (changing accented alphabets to normal alphabets)\n",
    "e.g. Nikola Jokić to Nikola Jokic, Dāvis Bertāns to Davis Bertans <br>\n",
    "necessary to do this, to search names conveniently"
   ]
  },
  {
   "cell_type": "code",
   "execution_count": 1020,
   "id": "0c54bc77-0fe7-4088-aeb0-d8be70d6bccb",
   "metadata": {},
   "outputs": [],
   "source": [
    "def normalize_name(name):\n",
    "    if isinstance(name, str):\n",
    "        return unicodedata.normalize('NFKD', name).encode('ASCII', 'ignore').decode('utf-8')\n",
    "    return name"
   ]
  },
  {
   "cell_type": "code",
   "execution_count": 1021,
   "id": "f4ab6c0f-ceb1-49b8-a91d-6765c59cd074",
   "metadata": {},
   "outputs": [],
   "source": [
    "for df in [stats_2, stats_2023, stats_2024, stats_2025]:\n",
    "    df['Player'] = df['Player'].apply(normalize_name)"
   ]
  },
  {
   "cell_type": "markdown",
   "id": "cca33df9-38e3-4ca6-bd4f-f481ca9a4932",
   "metadata": {},
   "source": [
    "Player names should be in ASCII values, too"
   ]
  },
  {
   "cell_type": "code",
   "execution_count": 1023,
   "id": "f663fb70-dc11-4dcb-a545-50c820ab613d",
   "metadata": {},
   "outputs": [],
   "source": [
    "for df, label in zip([stats_2, stats_2023, stats_2024, stats_2025], \n",
    "                     ['1998-2022', '2023', '2024', '2025']):\n",
    "    bad_names = df[df['Player'].str.contains(r'[^\\x00-\\x7F]', na=False)]\n",
    "    if not bad_names.empty:\n",
    "        print(f\"Non-ASCII names found in {label}:\")\n",
    "        print(bad_names['Player'].drop_duplicates())"
   ]
  },
  {
   "cell_type": "markdown",
   "id": "086f8dfa-b3a5-493a-9ebd-5d48b9f21388",
   "metadata": {},
   "source": [
    "Check if it worked"
   ]
  },
  {
   "cell_type": "code",
   "execution_count": 1025,
   "id": "ce6f925f-1031-4bc2-be82-4edcb593673d",
   "metadata": {},
   "outputs": [
    {
     "name": "stdout",
     "output_type": "stream",
     "text": [
      " Rk       Player Pos  Age  Tm  G  GS   MP   FG  FGA   FG%  3P  3PA   3P%  2P  2PA   2P%  eFG%  FT  FTA  FT%  ORB  DRB  TRB  AST  STL  BLK  TOV  PF  PTS  Year\n",
      "  3 Nikola Jokic   C   29 DEN 70  70 36.7 11.2 19.5 0.576 2.0  4.7 0.417 9.3 14.8 0.627 0.627 5.2  6.4  0.8  2.9  9.9 12.7 10.2  1.8  0.6  3.3 2.3 29.6  2025\n",
      " Rk       Player Pos  Age  Tm  G  GS   MP   FG  FGA   FG%  3P  3PA   3P%  2P  2PA   2P%  eFG%  FT  FTA  FT%  ORB  DRB  TRB  AST  STL  BLK  TOV  PF  PTS  Year\n",
      "  3 Nikola Jokic   C   29 DEN 70  70 36.7 11.2 19.5 0.576 2.0  4.7 0.417 9.3 14.8 0.627 0.627 5.2  6.4  0.8  2.9  9.9 12.7 10.2  1.8  0.6  3.3 2.3 29.6  2025\n"
     ]
    }
   ],
   "source": [
    "def search_player(name, df):\n",
    "    result = df[df['Player'].str.contains(name, case=False, na=False)]\n",
    "    if result.empty:\n",
    "        print(f\"No results found for '{name}'\")\n",
    "    else:\n",
    "        print(result.to_string(index=False))\n",
    "\n",
    "search_player(\"Jokic\", stats_2025)\n",
    "search_player(\"Nikola Jokic\", stats_2025)"
   ]
  },
  {
   "cell_type": "markdown",
   "id": "b5adbda8-a53e-4477-8933-0834496eac69",
   "metadata": {},
   "source": [
    "Perfect!"
   ]
  },
  {
   "cell_type": "markdown",
   "id": "ceac6a60-5991-4358-abbb-bfc16c208237",
   "metadata": {},
   "source": [
    "### Merge it, finally"
   ]
  },
  {
   "cell_type": "code",
   "execution_count": 1028,
   "id": "330ab638-d350-4430-82cd-9303809000d6",
   "metadata": {},
   "outputs": [],
   "source": [
    "merged_stats = pd.concat([stats_2, stats_2023, stats_2024, stats_2025], ignore_index=True)"
   ]
  },
  {
   "cell_type": "markdown",
   "id": "d060f2a2-baaa-4a14-bdbb-ebf421529ce0",
   "metadata": {},
   "source": [
    "### Additional cleaning"
   ]
  },
  {
   "cell_type": "code",
   "execution_count": 1030,
   "id": "5f429511-6603-47f6-b451-4f978b1d2634",
   "metadata": {},
   "outputs": [],
   "source": [
    "merged_stats.drop_duplicates(inplace=True)"
   ]
  },
  {
   "cell_type": "markdown",
   "id": "be4738cc-8782-480a-b816-4e2d73e9957c",
   "metadata": {},
   "source": [
    "Indexes were messed up after merging, so:"
   ]
  },
  {
   "cell_type": "code",
   "execution_count": 1032,
   "id": "a734d23a-914b-424d-9a91-1ad278b2bf64",
   "metadata": {},
   "outputs": [],
   "source": [
    "merged_stats.reset_index(drop=True, inplace=True)"
   ]
  },
  {
   "cell_type": "markdown",
   "id": "1b6d9eda-d6aa-477d-bc32-4b85b75653a6",
   "metadata": {},
   "source": [
    "Some name entries had '*' or unnecessary whitespaces, so:"
   ]
  },
  {
   "cell_type": "code",
   "execution_count": 1034,
   "id": "51968fa1-ca42-46f6-8b0e-0d1205ccf53e",
   "metadata": {},
   "outputs": [],
   "source": [
    "merged_stats['Player'] = merged_stats['Player'].str.replace('*', '', regex=False).str.strip()"
   ]
  },
  {
   "cell_type": "markdown",
   "id": "9c858a38-d67d-4190-8064-df666b4f4e67",
   "metadata": {},
   "source": [
    "Made a mistake to put team as 'Tm', make it to 'Team' for future convenience and avoiding confusion"
   ]
  },
  {
   "cell_type": "code",
   "execution_count": 1036,
   "id": "e45bcfa0-4906-404a-a34c-9e8e7d8c0f96",
   "metadata": {},
   "outputs": [],
   "source": [
    "merged_stats.rename(columns={'Tm': 'Team'}, inplace=True)"
   ]
  },
  {
   "cell_type": "markdown",
   "id": "393f599b-c356-472a-a532-8c778fe2d8d3",
   "metadata": {},
   "source": [
    "#### Additional Cleaning: Teams\n",
    "There are players that played for multiple teams in the same season (e.g. Zach Lavine in 2024-25, traded from CHI to SAC) <br>\n",
    "I figured out that datasets included multiple entries for these players (e.g. Zach Lavine has three, total stats for both, stats at CHI, and stats in SAC) <br>\n",
    "So I needed to clean those so that it doesn't bias the dataset when I merge with salary dataset."
   ]
  },
  {
   "cell_type": "markdown",
   "id": "f9d80526-84cc-4247-a939-b61a0d648dc9",
   "metadata": {},
   "source": [
    "First, define the team codes manually: there were four: 'TOT', '2TM', '3TM', '4TM'. <br>"
   ]
  },
  {
   "cell_type": "code",
   "execution_count": 1039,
   "id": "2fc9c90a-fd4f-4771-a8f2-c207f849048d",
   "metadata": {},
   "outputs": [],
   "source": [
    "total_team_codes = ['TOT', '2TM', '3TM', '4TM']"
   ]
  },
  {
   "cell_type": "markdown",
   "id": "4e4a56f3-e7e6-4677-9b93-c48cf74a55d4",
   "metadata": {},
   "source": [
    "Step 1: Separate total rows and partial team rows"
   ]
  },
  {
   "cell_type": "code",
   "execution_count": 1041,
   "id": "4ecc6b1e-9a7e-4ec1-acf8-d536b55176e3",
   "metadata": {},
   "outputs": [],
   "source": [
    "total_rows = merged_stats[merged_stats['Team'].isin(total_team_codes)].copy()\n",
    "partial_rows = merged_stats[~merged_stats['Team'].isin(total_team_codes)].copy()"
   ]
  },
  {
   "cell_type": "markdown",
   "id": "e8636ec1-021c-4c38-8ebe-7ba09e1b64c1",
   "metadata": {},
   "source": [
    "Step 2: For each (Player, Year) in total_rows, find last team in partial_rows. 'last team' meaning the team that player played in the end of the season (e.g. SAC for Zach Lavine)"
   ]
  },
  {
   "cell_type": "code",
   "execution_count": 1043,
   "id": "250ecaeb-9eab-4137-9f23-6e9e764c0818",
   "metadata": {},
   "outputs": [],
   "source": [
    "def get_latest_team(player, year):\n",
    "    subset = partial_rows[(partial_rows['Player'] == player) & (partial_rows['Year'] == year)]\n",
    "    if not subset.empty:\n",
    "        return subset.iloc[-1]['Team']\n",
    "    else:\n",
    "        return None"
   ]
  },
  {
   "cell_type": "markdown",
   "id": "99a08d71-3b52-47b1-aa45-ba2094c6db95",
   "metadata": {},
   "source": [
    "Step 3: apply function to total_rows to get latest teams & replace 'Team' column in total_rows"
   ]
  },
  {
   "cell_type": "code",
   "execution_count": 1045,
   "id": "7518746d-348a-4622-b515-0b8894bea479",
   "metadata": {},
   "outputs": [],
   "source": [
    "total_rows['LatestTeam'] = total_rows.apply(lambda row: get_latest_team(row['Player'], row['Year']), axis=1)\n",
    "\n",
    "total_rows['Team'] = total_rows.apply(lambda row: row['LatestTeam'] if pd.notna(row['LatestTeam']) else row['Team'], axis=1)"
   ]
  },
  {
   "cell_type": "markdown",
   "id": "4f845ac6-3c22-4efc-b700-002d6efe452e",
   "metadata": {},
   "source": [
    "Drop helper column"
   ]
  },
  {
   "cell_type": "code",
   "execution_count": 1047,
   "id": "bff741d1-034c-4afb-aa1a-7a7f00e13785",
   "metadata": {},
   "outputs": [],
   "source": [
    "total_rows.drop(columns=['LatestTeam'], inplace=True)"
   ]
  },
  {
   "cell_type": "markdown",
   "id": "e8714899-5bfc-41f1-9fc4-b7ce677e72ee",
   "metadata": {},
   "source": [
    "Step 4: Combine total_rows with partial_rows filtered to exclude partial rows of players who have totals\n",
    "i.e. remove partial rows for player-year if total row exists"
   ]
  },
  {
   "cell_type": "code",
   "execution_count": 1049,
   "id": "b40ac825-946e-4579-98c2-30530400801a",
   "metadata": {},
   "outputs": [],
   "source": [
    "player_year_with_total = set(total_rows[['Player', 'Year']].itertuples(index=False, name=None))\n",
    "partial_rows_filtered = partial_rows[~partial_rows.apply(lambda row: (row['Player'], row['Year']) in player_year_with_total, axis=1)]"
   ]
  },
  {
   "cell_type": "markdown",
   "id": "1daadef0-d285-403d-8892-df9b21d99da8",
   "metadata": {},
   "source": [
    "Final: concat these two rows"
   ]
  },
  {
   "cell_type": "code",
   "execution_count": 1051,
   "id": "e4edfea2-c73d-41f7-8dd5-8e6a3a40b6cd",
   "metadata": {},
   "outputs": [],
   "source": [
    "cleaned_stats = pd.concat([total_rows, partial_rows_filtered], ignore_index=True)"
   ]
  },
  {
   "cell_type": "markdown",
   "id": "68e401c0-ea3d-4d6f-b369-88218b355c0b",
   "metadata": {},
   "source": [
    "Optional: sort by Player, Year, Team"
   ]
  },
  {
   "cell_type": "code",
   "execution_count": 1053,
   "id": "63ba8c11-d043-4d71-85c9-c4ff33b0307b",
   "metadata": {},
   "outputs": [
    {
     "name": "stdout",
     "output_type": "stream",
     "text": [
      "Original stats rows: 16722\n",
      "Cleaned stats rows: 13388\n"
     ]
    }
   ],
   "source": [
    "cleaned_stats.sort_values(by=['Player', 'Year', 'Team'], inplace=True)\n",
    "\n",
    "print(f\"Original stats rows: {len(merged_stats)}\")\n",
    "print(f\"Cleaned stats rows: {len(cleaned_stats)}\")"
   ]
  },
  {
   "cell_type": "markdown",
   "id": "8eda2c1d-eb92-4d37-b99e-92ee56ef5ccb",
   "metadata": {},
   "source": [
    "#### Additional checking for teams"
   ]
  },
  {
   "cell_type": "code",
   "execution_count": 1055,
   "id": "45cd9192-ca0f-4e37-a1c3-c3391ab8144d",
   "metadata": {},
   "outputs": [],
   "source": [
    "total_team_codes = ['TOT', '2TM', '3TM', '4TM']\n",
    "total_rows = cleaned_stats[cleaned_stats['Team'].isin(total_team_codes)]\n",
    "partial_rows = cleaned_stats[~cleaned_stats['Team'].isin(total_team_codes)]"
   ]
  },
  {
   "cell_type": "code",
   "execution_count": 1056,
   "id": "f634611e-e14d-4dd7-bd68-df2fa3d3fe34",
   "metadata": {},
   "outputs": [],
   "source": [
    "total_player_years = set(total_rows[['Player', 'Year']].itertuples(index=False, name=None))\n",
    "partial_player_years = set(partial_rows[['Player', 'Year']].itertuples(index=False, name=None))"
   ]
  },
  {
   "cell_type": "code",
   "execution_count": 1057,
   "id": "588686fc-4cb1-4b82-b125-d0141b3f76c4",
   "metadata": {},
   "outputs": [
    {
     "name": "stdout",
     "output_type": "stream",
     "text": [
      "Number of player-year pairs with both total and partial rows: 0\n"
     ]
    }
   ],
   "source": [
    "overlap = total_player_years.intersection(partial_player_years)\n",
    "print(f\"Number of player-year pairs with both total and partial rows: {len(overlap)}\")\n",
    "if len(overlap) > 0:\n",
    "    print(\"Examples of overlaps:\", list(overlap)[:5])"
   ]
  },
  {
   "cell_type": "code",
   "execution_count": 1058,
   "id": "07c3be0d-7d27-4bc8-94fd-52e3cc1bdf68",
   "metadata": {},
   "outputs": [
    {
     "name": "stdout",
     "output_type": "stream",
     "text": [
      "Number of total rows with 'Team' still showing total codes (should be 0): 5\n"
     ]
    }
   ],
   "source": [
    "total_rows_after = cleaned_stats[cleaned_stats['Team'].isin(total_team_codes)]\n",
    "print(f\"Number of total rows with 'Team' still showing total codes (should be 0): {len(total_rows_after)}\")"
   ]
  },
  {
   "cell_type": "markdown",
   "id": "0eaaf47b-82bc-4b6a-8be1-cefd5caba718",
   "metadata": {},
   "source": [
    "Ahh... We still have some entries wrong!"
   ]
  },
  {
   "cell_type": "markdown",
   "id": "aee10aa4-f210-49b0-9776-a88f3f55527a",
   "metadata": {},
   "source": [
    "Check those players names:"
   ]
  },
  {
   "cell_type": "code",
   "execution_count": 1061,
   "id": "0035bcaf-31b3-4a37-9505-ffc17f5a3382",
   "metadata": {},
   "outputs": [
    {
     "name": "stdout",
     "output_type": "stream",
     "text": [
      "             Player  Year Team\n",
      "285   Carlos Arroyo  2005  TOT\n",
      "341   Chucky Atkins  2006  TOT\n",
      "3      Isaac Austin  1998  TOT\n",
      "1020       Omer Ask  2018  TOT\n",
      "218       Vin Baker  2004  TOT\n"
     ]
    }
   ],
   "source": [
    "print(cleaned_stats[cleaned_stats['Team'].isin(total_team_codes)][['Player', 'Year', 'Team']])"
   ]
  },
  {
   "cell_type": "markdown",
   "id": "f7ea3263-88b4-407b-b4f0-49747b24eb21",
   "metadata": {},
   "source": [
    "Make manual corrections for these entries"
   ]
  },
  {
   "cell_type": "code",
   "execution_count": 1063,
   "id": "66298a67-0eb2-4320-b7f7-b7bffc38b8ec",
   "metadata": {},
   "outputs": [],
   "source": [
    "corrections = {\n",
    "    ('Carlos Arroyo', 2005): 'DET',\n",
    "    ('Chucky Atkins', 2006): 'MEM',\n",
    "    ('Isaac Austin', 1998): 'LAC',\n",
    "    ('Omer Ask', 2018): 'CHI',\n",
    "    ('Vin Baker', 2004): 'NYK'\n",
    "}\n",
    "\n",
    "for (player, year), team in corrections.items():\n",
    "    mask = (cleaned_stats['Player'] == player) & (cleaned_stats['Year'] == year)\n",
    "    cleaned_stats.loc[mask, 'Team'] = team"
   ]
  },
  {
   "cell_type": "markdown",
   "id": "4ff0d516-2311-4a60-a923-eddaf489417f",
   "metadata": {},
   "source": [
    "Cleaned finally, sort it"
   ]
  },
  {
   "cell_type": "code",
   "execution_count": 1065,
   "id": "cf377d13-51c2-4711-9767-1dbfc262dfa1",
   "metadata": {},
   "outputs": [],
   "source": [
    "cleaned_stats = cleaned_stats.sort_values(by=['Year', 'Player']).reset_index(drop=True)"
   ]
  },
  {
   "cell_type": "markdown",
   "id": "88329095-1913-42e9-97bb-4e0b3b84e5dc",
   "metadata": {},
   "source": [
    "Also remove 'Rk' column, which is not necessary."
   ]
  },
  {
   "cell_type": "code",
   "execution_count": 1067,
   "id": "6b4e34ba-a3ac-42b3-9a02-973c907f6069",
   "metadata": {},
   "outputs": [],
   "source": [
    "cleaned_stats.drop(columns=['Rk'], inplace=True)"
   ]
  },
  {
   "cell_type": "markdown",
   "id": "963bc399-6fd4-4fe2-951d-903bbe6a314a",
   "metadata": {},
   "source": [
    "Lastly, just fill NaNs to 0."
   ]
  },
  {
   "cell_type": "code",
   "execution_count": 1069,
   "id": "fde8ebda-b757-4717-91f2-75a65480056e",
   "metadata": {},
   "outputs": [
    {
     "name": "stdout",
     "output_type": "stream",
     "text": [
      "Player       0\n",
      "Pos          0\n",
      "Age          2\n",
      "Team         0\n",
      "G            0\n",
      "GS           0\n",
      "MP           0\n",
      "FG           0\n",
      "FGA          0\n",
      "FG%         51\n",
      "3P           0\n",
      "3PA          0\n",
      "3P%       1653\n",
      "2P           0\n",
      "2PA          0\n",
      "2P%         96\n",
      "eFG%        51\n",
      "FT           0\n",
      "FTA          0\n",
      "FT%        480\n",
      "ORB          0\n",
      "DRB          0\n",
      "TRB          0\n",
      "AST          0\n",
      "STL          0\n",
      "BLK          0\n",
      "TOV          0\n",
      "PF           0\n",
      "PTS          2\n",
      "Year         0\n",
      "dtype: int64\n"
     ]
    }
   ],
   "source": [
    "print(cleaned_stats.isna().sum())"
   ]
  },
  {
   "cell_type": "code",
   "execution_count": 1070,
   "id": "04a66fa5-4b7c-473e-9f9f-c86fdb21b874",
   "metadata": {},
   "outputs": [],
   "source": [
    "df.fillna(0, inplace=True)"
   ]
  },
  {
   "cell_type": "markdown",
   "id": "6fd2959f-3e88-47eb-b8ef-bc60fcb8e733",
   "metadata": {},
   "source": [
    "#### Checking the Dataset"
   ]
  },
  {
   "cell_type": "code",
   "execution_count": 1072,
   "id": "bf5f254a-7980-4895-92a1-da62ceadfd3b",
   "metadata": {},
   "outputs": [
    {
     "name": "stdout",
     "output_type": "stream",
     "text": [
      "Year\n",
      "1998    434\n",
      "1999    433\n",
      "2000    432\n",
      "2001    432\n",
      "2002    432\n",
      "2003    419\n",
      "2004    438\n",
      "2005    461\n",
      "2006    456\n",
      "2007    449\n",
      "2008    443\n",
      "2009    439\n",
      "2010    435\n",
      "2011    450\n",
      "2012    471\n",
      "2013    463\n",
      "2014    475\n",
      "2015    485\n",
      "2016    469\n",
      "2017    478\n",
      "2018    535\n",
      "2019    524\n",
      "2020    522\n",
      "2021    533\n",
      "2022    600\n",
      "2023    539\n",
      "2024    572\n",
      "2025    569\n",
      "Name: count, dtype: int64\n"
     ]
    }
   ],
   "source": [
    "print(cleaned_stats['Year'].value_counts().sort_index())"
   ]
  },
  {
   "cell_type": "code",
   "execution_count": 1073,
   "id": "ca4958ef-223b-4b28-84b0-aa8cd9773218",
   "metadata": {},
   "outputs": [
    {
     "name": "stdout",
     "output_type": "stream",
     "text": [
      "13388\n"
     ]
    }
   ],
   "source": [
    "print(len(cleaned_stats))"
   ]
  },
  {
   "cell_type": "code",
   "execution_count": 1074,
   "id": "6635c70c-2092-477e-ab11-624814d34d4a",
   "metadata": {},
   "outputs": [
    {
     "name": "stdout",
     "output_type": "stream",
     "text": [
      "Unique players: 2688\n"
     ]
    }
   ],
   "source": [
    "print(f\"Unique players: {cleaned_stats['Player'].nunique()}\")"
   ]
  },
  {
   "cell_type": "markdown",
   "id": "1e93f2b3-7b12-424c-a7e2-00407e5e54c3",
   "metadata": {},
   "source": [
    "There were 13388 entries but number of unique players were just 2688."
   ]
  },
  {
   "cell_type": "markdown",
   "id": "d8381ddb-8afc-45ba-8ee9-3c80a5f0ae8b",
   "metadata": {},
   "source": [
    "#### Finally, Save"
   ]
  },
  {
   "cell_type": "code",
   "execution_count": 1077,
   "id": "8898e91c-27f5-4f0c-a895-e6cc2ad16945",
   "metadata": {},
   "outputs": [
    {
     "name": "stdout",
     "output_type": "stream",
     "text": [
      "Saved merged dataset.\n"
     ]
    }
   ],
   "source": [
    "cleaned_stats.to_csv(\"NBA Player Stats_1998-2025.csv\", index=False)\n",
    "print(\"Saved merged dataset.\")"
   ]
  },
  {
   "cell_type": "markdown",
   "id": "e1155e72-718f-4971-ae2a-b342469f30c0",
   "metadata": {},
   "source": [
    "## Merging Stats and Salary datasets"
   ]
  },
  {
   "cell_type": "code",
   "execution_count": 1079,
   "id": "ff5bdc89-9ea6-46ef-8410-95be70aac861",
   "metadata": {},
   "outputs": [
    {
     "name": "stdout",
     "output_type": "stream",
     "text": [
      "Salary Columns: ['Player', 'Salary', 'Year']\n",
      "Stats Columns: ['Player', 'Pos', 'Age', 'Team', 'G', 'GS', 'MP', 'FG', 'FGA', 'FG%', '3P', '3PA', '3P%', '2P', '2PA', '2P%', 'eFG%', 'FT', 'FTA', 'FT%', 'ORB', 'DRB', 'TRB', 'AST', 'STL', 'BLK', 'TOV', 'PF', 'PTS', 'Year']\n"
     ]
    }
   ],
   "source": [
    "print(\"Salary Columns:\", merged_salary.columns.tolist())\n",
    "print(\"Stats Columns:\", cleaned_stats.columns.tolist())"
   ]
  },
  {
   "cell_type": "markdown",
   "id": "7b1f1a28-1453-44ea-9f86-9cc7bb67bb68",
   "metadata": {},
   "source": [
    "### PRE-2010"
   ]
  },
  {
   "cell_type": "markdown",
   "id": "020fa99a-223c-43f4-8aae-c7ec34f463a8",
   "metadata": {},
   "source": [
    "Filter salary and stats datasets to only include years 1998 to 2009"
   ]
  },
  {
   "cell_type": "code",
   "execution_count": 1082,
   "id": "5b5e3e54-3d3b-426a-964c-8080099884ec",
   "metadata": {},
   "outputs": [],
   "source": [
    "salary_filtered_pre2010 = merged_salary[(merged_salary['Year'] >= 1998) & (merged_salary['Year'] < 2010)]\n",
    "stats_filtered_pre2010 = cleaned_stats[(cleaned_stats['Year'] >= 1998) & (cleaned_stats['Year'] < 2010)]"
   ]
  },
  {
   "cell_type": "markdown",
   "id": "c1134e26-3c32-42d5-8f59-8435ff03a5a8",
   "metadata": {},
   "source": [
    "Create sets of (Player, Year) tuples"
   ]
  },
  {
   "cell_type": "code",
   "execution_count": 1084,
   "id": "9d808dbe-71a1-455e-bc57-f372ca9705af",
   "metadata": {},
   "outputs": [],
   "source": [
    "salary_pairs_pre2010 = set(zip(salary_filtered_pre2010['Player'], salary_filtered_pre2010['Year']))\n",
    "stats_pairs_pre2010 = set(zip(stats_filtered_pre2010['Player'], stats_filtered_pre2010['Year']))"
   ]
  },
  {
   "cell_type": "markdown",
   "id": "1988154e-bbe1-4cac-abc9-1d3946553317",
   "metadata": {},
   "source": [
    "Find mismatches"
   ]
  },
  {
   "cell_type": "code",
   "execution_count": 1086,
   "id": "32cebf2f-bc13-40bc-8448-c2d987387c09",
   "metadata": {},
   "outputs": [],
   "source": [
    "salary_not_in_stats_pre2010 = salary_pairs_pre2010 - stats_pairs_pre2010\n",
    "stats_not_in_salary_pre2010 = stats_pairs_pre2010 - salary_pairs_pre2010"
   ]
  },
  {
   "cell_type": "code",
   "execution_count": 1087,
   "id": "6df1e252-f2cf-41e5-85a0-1ce1aaa309f4",
   "metadata": {},
   "outputs": [
    {
     "name": "stdout",
     "output_type": "stream",
     "text": [
      "From 1998–2009:\n",
      "(Player, Year) in salary but not in stats: 235\n",
      "(Player, Year) in stats but not in salary: 2091\n"
     ]
    }
   ],
   "source": [
    "print(\"From 1998–2009:\")\n",
    "print(f\"(Player, Year) in salary but not in stats: {len(salary_not_in_stats_pre2010)}\")\n",
    "print(f\"(Player, Year) in stats but not in salary: {len(stats_not_in_salary_pre2010)}\")"
   ]
  },
  {
   "cell_type": "code",
   "execution_count": 1088,
   "id": "c38ba5b1-9f0c-4487-a6bb-a513e65c7923",
   "metadata": {},
   "outputs": [
    {
     "name": "stdout",
     "output_type": "stream",
     "text": [
      "Number of data entries from 1998 to 2009 in stats: 5268\n",
      "Number of data entries from 1998 to 2009 in salary: 3408\n"
     ]
    }
   ],
   "source": [
    "print(\"Number of data entries from 1998 to 2009 in stats:\", len(cleaned_stats_pre2010))\n",
    "print(\"Number of data entries from 1998 to 2009 in salary:\", len(cleaned_salaries_pre2010))"
   ]
  },
  {
   "cell_type": "markdown",
   "id": "d523afa2-d49e-45ab-879e-d2efaea94375",
   "metadata": {},
   "source": [
    "### Post-2010 (Dataset that I mainly used on analysis)"
   ]
  },
  {
   "cell_type": "markdown",
   "id": "6e47e446-4b58-4cff-b425-aa63d879303d",
   "metadata": {},
   "source": [
    "Filter salary and stats datasets to only include years 2010 to 2025"
   ]
  },
  {
   "cell_type": "code",
   "execution_count": 1091,
   "id": "285a82fb-c21b-41ad-bf62-d1763e455092",
   "metadata": {},
   "outputs": [],
   "source": [
    "salary_filtered = merged_salary[(merged_salary['Year'] >= 2010)]\n",
    "stats_filtered = cleaned_stats[(cleaned_stats['Year'] >= 2010)]"
   ]
  },
  {
   "cell_type": "markdown",
   "id": "fb884cdb-e7cc-416c-a415-28d4004d00d2",
   "metadata": {},
   "source": [
    "Create sets of (Player, Year) tuples"
   ]
  },
  {
   "cell_type": "code",
   "execution_count": 1093,
   "id": "a7ec8ed7-c002-45a8-94c2-aafe52eda6cc",
   "metadata": {},
   "outputs": [],
   "source": [
    "salary_pairs = set(zip(salary_filtered['Player'], salary_filtered['Year']))\n",
    "stats_pairs = set(zip(stats_filtered['Player'], stats_filtered['Year']))"
   ]
  },
  {
   "cell_type": "markdown",
   "id": "0e11d662-1574-4d0d-963d-261d2f86d137",
   "metadata": {},
   "source": [
    "Find mismatches"
   ]
  },
  {
   "cell_type": "code",
   "execution_count": 1095,
   "id": "ae493b86-dbe9-4b91-8dd5-fe7daf82154f",
   "metadata": {},
   "outputs": [],
   "source": [
    "salary_not_in_stats = salary_pairs - stats_pairs\n",
    "stats_not_in_salary = stats_pairs - salary_pairs"
   ]
  },
  {
   "cell_type": "code",
   "execution_count": 1096,
   "id": "93a23f1a-4489-4fa1-a060-0bbe17c13fab",
   "metadata": {},
   "outputs": [
    {
     "name": "stdout",
     "output_type": "stream",
     "text": [
      "From 2010–2025:\n",
      "(Player, Year) in salary but not in stats: 1682\n",
      "(Player, Year) in stats but not in salary: 821\n"
     ]
    }
   ],
   "source": [
    "print(\"From 2010–2025:\")\n",
    "print(f\"(Player, Year) in salary but not in stats: {len(salary_not_in_stats)}\")\n",
    "print(f\"(Player, Year) in stats but not in salary: {len(stats_not_in_salary)}\")"
   ]
  },
  {
   "cell_type": "code",
   "execution_count": 1097,
   "id": "f010c8a2-cb7d-4117-a9b1-60625fd0143d",
   "metadata": {},
   "outputs": [],
   "source": [
    "cleaned_salaries_after_2010 = merged_salary[merged_salary['Year'] >= 2010]\n",
    "cleaned_stats_after_2010 = cleaned_stats[cleaned_stats['Year'] >= 2010]"
   ]
  },
  {
   "cell_type": "code",
   "execution_count": 1098,
   "id": "600afee0-6e4d-4f90-be60-45ef6255315e",
   "metadata": {},
   "outputs": [
    {
     "name": "stdout",
     "output_type": "stream",
     "text": [
      "Number of data entries from 2010 onwards: 8120\n",
      "Number of data entries from 2010 onwards: 8978\n"
     ]
    }
   ],
   "source": [
    "print(\"Number of data entries from 2010 onwards:\", len(cleaned_stats_after_2010))\n",
    "print(\"Number of data entries from 2010 onwards:\", len(cleaned_salaries_after_2010))"
   ]
  },
  {
   "cell_type": "markdown",
   "id": "597f7ec9-30e5-4fc6-afca-6a6c3674f94b",
   "metadata": {},
   "source": [
    "Merge"
   ]
  },
  {
   "cell_type": "code",
   "execution_count": 1100,
   "id": "8708014e-1562-40e1-a62d-2f9bfef9f70b",
   "metadata": {},
   "outputs": [
    {
     "name": "stdout",
     "output_type": "stream",
     "text": [
      "Filtered merged dataset shape: (7298, 31)\n"
     ]
    }
   ],
   "source": [
    "merged_salaries_filtered = merged_salary[merged_salary['Year'] >= 2010]\n",
    "cleaned_stats_filtered = cleaned_stats[cleaned_stats['Year'] >= 2010]\n",
    "\n",
    "final_merged_filtered = pd.merge(merged_salaries_filtered, cleaned_stats_filtered, on=['Player', 'Year'], how='inner')\n",
    "print(\"Filtered merged dataset shape:\", final_merged_filtered.shape)"
   ]
  },
  {
   "cell_type": "code",
   "execution_count": 1101,
   "id": "81b204e5-72db-4073-bfba-b7d68ba9c0f2",
   "metadata": {},
   "outputs": [],
   "source": [
    "final_merged_filtered.to_csv(\"NBA Player Stats and Salaries_2010-2025.csv\", index=False)"
   ]
  },
  {
   "cell_type": "markdown",
   "id": "d69df412-3c5d-48a5-81db-9aa230c685bd",
   "metadata": {},
   "source": [
    "### Additional: FULL 2000-2025"
   ]
  },
  {
   "cell_type": "code",
   "execution_count": 1103,
   "id": "fe003fb1-c584-45ce-a97f-57004fe1507d",
   "metadata": {},
   "outputs": [],
   "source": [
    "final_merged = pd.merge(merged_salary, cleaned_stats, on=['Player', 'Year'], how='inner')\n",
    "\n",
    "final_merged.to_csv(\"NBA Player Stats and Salaries_2000-2025.csv\", index=False)"
   ]
  }
 ],
 "metadata": {
  "kernelspec": {
   "display_name": "Python [conda env:base] *",
   "language": "python",
   "name": "conda-base-py"
  },
  "language_info": {
   "codemirror_mode": {
    "name": "ipython",
    "version": 3
   },
   "file_extension": ".py",
   "mimetype": "text/x-python",
   "name": "python",
   "nbconvert_exporter": "python",
   "pygments_lexer": "ipython3",
   "version": "3.12.7"
  }
 },
 "nbformat": 4,
 "nbformat_minor": 5
}
