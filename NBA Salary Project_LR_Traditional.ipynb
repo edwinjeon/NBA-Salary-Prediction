{
 "cells": [
  {
   "cell_type": "markdown",
   "id": "54f6498d-2c26-49de-b3b5-8c5baf3f6ab2",
   "metadata": {},
   "source": [
    "# Predicting NBA Players' Salary Through Linear Regression Model\n",
    "\n",
    "#### Weon Gyu Jeon"
   ]
  },
  {
   "cell_type": "markdown",
   "id": "a2278814-a0ab-435b-9863-e59aea774b1b",
   "metadata": {},
   "source": [
    "## 1. Introduction"
   ]
  },
  {
   "cell_type": "markdown",
   "id": "16143067-12b0-44a2-9b34-981e1d26699c",
   "metadata": {},
   "source": [
    "When I watch NBA offseason, I always think that some players are under/overpaid. Obviously, there are a lot of factors when it comes to the salary of players. stats, scale of the market, popularity of a player, even wealthiness of the owner. It also includes some factors that can't be numerically defined. In this project, I focused only on players' **traditional stats for current season (2024-2025)** to try predicting player's salary for next season."
   ]
  },
  {
   "cell_type": "markdown",
   "id": "d5a8b5ca-3d40-49a1-9413-2c6f0d9deff9",
   "metadata": {},
   "source": [
    "## 2. Preparation"
   ]
  },
  {
   "cell_type": "markdown",
   "id": "7edbd801-a1e3-4517-8240-f98dccd7b905",
   "metadata": {},
   "source": [
    "### 2.1 Packages & Libraries"
   ]
  },
  {
   "cell_type": "code",
   "execution_count": 207,
   "id": "99b73ec3-d757-4b68-8570-eea2d5dc677d",
   "metadata": {},
   "outputs": [],
   "source": [
    "import pandas as pd\n",
    "import seaborn as sns\n",
    "import matplotlib.pyplot as plt\n",
    "import plotly.express as px\n",
    "import numpy as np\n",
    "from sklearn.linear_model import LinearRegression\n",
    "from sklearn.model_selection import train_test_split\n",
    "from sklearn.preprocessing import StandardScaler\n",
    "from sklearn.metrics import mean_squared_error, r2_score\n",
    "from statsmodels.stats.outliers_influence import variance_inflation_factor\n",
    "import statsmodels.api as sm"
   ]
  },
  {
   "cell_type": "markdown",
   "id": "73064b0b-5d9f-47e0-9ecd-f12d1f1ec767",
   "metadata": {},
   "source": [
    "### 2.2 Data Preparation\n",
    "CSV for player salary in 2024-25 season was scrapped from [Basketball Reference](https://www.basketball-reference.com/contracts/players.html).\n",
    "CSV for player stats can be easily acquired from [Basketball Reference](https://www.basketball-reference.com/leagues/NBA_2025_per_game.html) too."
   ]
  },
  {
   "cell_type": "code",
   "execution_count": 209,
   "id": "86075ba6-c700-4ca1-bd4f-d5eab53d1fe5",
   "metadata": {},
   "outputs": [],
   "source": [
    "salarydf = pd.read_csv(\"NBA Player Salaries_2024-25_1.csv\")\n",
    "statsdf = pd.read_csv(\"NBA Player Stats_2024-25_Per_Game.csv\")"
   ]
  },
  {
   "cell_type": "markdown",
   "id": "a681c315-1f9e-42ed-87b6-dfc55b864ff4",
   "metadata": {},
   "source": [
    "#### 2.2.1 Data Component\n",
    "Here is how the data looks like, before cleaning."
   ]
  },
  {
   "cell_type": "code",
   "execution_count": 211,
   "id": "97cbc38a-e8f6-4781-9fc9-614361085828",
   "metadata": {},
   "outputs": [
    {
     "data": {
      "text/html": [
       "<div>\n",
       "<style scoped>\n",
       "    .dataframe tbody tr th:only-of-type {\n",
       "        vertical-align: middle;\n",
       "    }\n",
       "\n",
       "    .dataframe tbody tr th {\n",
       "        vertical-align: top;\n",
       "    }\n",
       "\n",
       "    .dataframe thead th {\n",
       "        text-align: right;\n",
       "    }\n",
       "</style>\n",
       "<table border=\"1\" class=\"dataframe\">\n",
       "  <thead>\n",
       "    <tr style=\"text-align: right;\">\n",
       "      <th></th>\n",
       "      <th>Rk</th>\n",
       "      <th>Player</th>\n",
       "      <th>Age</th>\n",
       "      <th>Team</th>\n",
       "      <th>Pos</th>\n",
       "      <th>G</th>\n",
       "      <th>GS</th>\n",
       "      <th>MP</th>\n",
       "      <th>FG</th>\n",
       "      <th>FGA</th>\n",
       "      <th>FG%</th>\n",
       "      <th>3P</th>\n",
       "      <th>3PA</th>\n",
       "      <th>3P%</th>\n",
       "      <th>2P</th>\n",
       "      <th>2PA</th>\n",
       "      <th>2P%</th>\n",
       "      <th>eFG%</th>\n",
       "      <th>FT</th>\n",
       "      <th>FTA</th>\n",
       "      <th>FT%</th>\n",
       "      <th>ORB</th>\n",
       "      <th>DRB</th>\n",
       "      <th>TRB</th>\n",
       "      <th>AST</th>\n",
       "      <th>STL</th>\n",
       "      <th>BLK</th>\n",
       "      <th>TOV</th>\n",
       "      <th>PF</th>\n",
       "      <th>PTS</th>\n",
       "    </tr>\n",
       "  </thead>\n",
       "  <tbody>\n",
       "    <tr>\n",
       "      <th>0</th>\n",
       "      <td>1</td>\n",
       "      <td>Shai Gilgeous-Alexander</td>\n",
       "      <td>26</td>\n",
       "      <td>OKC</td>\n",
       "      <td>PG</td>\n",
       "      <td>76</td>\n",
       "      <td>76</td>\n",
       "      <td>34.2</td>\n",
       "      <td>11.3</td>\n",
       "      <td>21.8</td>\n",
       "      <td>0.519</td>\n",
       "      <td>2.1</td>\n",
       "      <td>5.7</td>\n",
       "      <td>0.375</td>\n",
       "      <td>9.2</td>\n",
       "      <td>16.1</td>\n",
       "      <td>0.571</td>\n",
       "      <td>0.569</td>\n",
       "      <td>7.9</td>\n",
       "      <td>8.8</td>\n",
       "      <td>0.898</td>\n",
       "      <td>0.9</td>\n",
       "      <td>4.1</td>\n",
       "      <td>5.0</td>\n",
       "      <td>6.4</td>\n",
       "      <td>1.7</td>\n",
       "      <td>1.0</td>\n",
       "      <td>2.4</td>\n",
       "      <td>2.2</td>\n",
       "      <td>32.7</td>\n",
       "    </tr>\n",
       "  </tbody>\n",
       "</table>\n",
       "</div>"
      ],
      "text/plain": [
       "   Rk                   Player  Age Team Pos   G  GS    MP    FG   FGA    FG%  \\\n",
       "0   1  Shai Gilgeous-Alexander   26  OKC  PG  76  76  34.2  11.3  21.8  0.519   \n",
       "\n",
       "    3P  3PA    3P%   2P   2PA    2P%   eFG%   FT  FTA    FT%  ORB  DRB  TRB  \\\n",
       "0  2.1  5.7  0.375  9.2  16.1  0.571  0.569  7.9  8.8  0.898  0.9  4.1  5.0   \n",
       "\n",
       "   AST  STL  BLK  TOV   PF   PTS  \n",
       "0  6.4  1.7  1.0  2.4  2.2  32.7  "
      ]
     },
     "execution_count": 211,
     "metadata": {},
     "output_type": "execute_result"
    }
   ],
   "source": [
    "pd.set_option('display.max_columns', None)\n",
    "statsdf.head(1)"
   ]
  },
  {
   "cell_type": "code",
   "execution_count": 212,
   "id": "08931b68-d7a0-4ed4-a818-dcfdf5121717",
   "metadata": {},
   "outputs": [
    {
     "data": {
      "text/html": [
       "<div>\n",
       "<style scoped>\n",
       "    .dataframe tbody tr th:only-of-type {\n",
       "        vertical-align: middle;\n",
       "    }\n",
       "\n",
       "    .dataframe tbody tr th {\n",
       "        vertical-align: top;\n",
       "    }\n",
       "\n",
       "    .dataframe thead th {\n",
       "        text-align: right;\n",
       "    }\n",
       "</style>\n",
       "<table border=\"1\" class=\"dataframe\">\n",
       "  <thead>\n",
       "    <tr style=\"text-align: right;\">\n",
       "      <th></th>\n",
       "      <th>Player</th>\n",
       "      <th>Team</th>\n",
       "      <th>Salary</th>\n",
       "    </tr>\n",
       "  </thead>\n",
       "  <tbody>\n",
       "    <tr>\n",
       "      <th>0</th>\n",
       "      <td>Stephen Curry</td>\n",
       "      <td>GSW</td>\n",
       "      <td>$55,761,216</td>\n",
       "    </tr>\n",
       "  </tbody>\n",
       "</table>\n",
       "</div>"
      ],
      "text/plain": [
       "          Player Team        Salary\n",
       "0  Stephen Curry  GSW  $55,761,216 "
      ]
     },
     "execution_count": 212,
     "metadata": {},
     "output_type": "execute_result"
    }
   ],
   "source": [
    "salarydf.head(1)"
   ]
  },
  {
   "cell_type": "markdown",
   "id": "3d7175b2-c76f-4711-b164-0dd41306b161",
   "metadata": {},
   "source": [
    "### 2.3 Data Cleaning"
   ]
  },
  {
   "cell_type": "markdown",
   "id": "d123a3ed-bda9-4a55-a4c5-b7358f248934",
   "metadata": {},
   "source": [
    "#### 2.3.1 Salary Data\n",
    "So for Salary Data, I had to:\n",
    "1) remove dollar signs from 'Salary' column and change data type to integer so that it's calculatable\n",
    "2) strip whitespaces from 'Player' column if there is any\n",
    "3) check null values\n",
    "4) finally, drop duplicate rows, of course"
   ]
  },
  {
   "cell_type": "code",
   "execution_count": 215,
   "id": "3fcbff6d-7017-4ecc-b9d9-de79e0a78503",
   "metadata": {},
   "outputs": [],
   "source": [
    "salarydf['Salary'] = salarydf['Salary'].replace(r'[\\$,]', '', regex=True).astype(int)\n",
    "\n",
    "salarydf['Player'] = salarydf['Player'].str.strip()\n",
    "\n",
    "# print(salarydf.isnull().sum())\n",
    "\n",
    "salarydf = salarydf.drop_duplicates()"
   ]
  },
  {
   "cell_type": "markdown",
   "id": "7f306065-d784-4dc1-ac61-8ccaf80633bd",
   "metadata": {},
   "source": [
    "#### 2.3.2 Stats Data\n",
    "\n",
    "For stats data, I had to deal with player entries who played for multiple teams this season. If a player moved teams once within the season, Basketball Reference's record puts three entries separate:\n",
    "1) player's total stats recorded in both teams\n",
    "2) stats recorded in the first team\n",
    "3) stats recorded in the second team\n",
    "\n",
    "e.g. Zach Lavine played for CHI and SAC this season, then there are three entries for him: 2TM, CHI, SAC\n",
    "\n",
    "So I cleaned it by counting the number of entries that one player has, filtered it, and saved entries that has their full stats this season."
   ]
  },
  {
   "cell_type": "code",
   "execution_count": 312,
   "id": "5334d444-c23e-4703-8000-ffb6373f43e5",
   "metadata": {},
   "outputs": [],
   "source": [
    "# Step 1: find players played for multiple teams\n",
    "duplicate_players = statsdf['Player'].value_counts()\n",
    "multi_team_players = duplicate_players[duplicate_players > 1].index"
   ]
  },
  {
   "cell_type": "code",
   "execution_count": 314,
   "id": "d3fafd83-2e74-4cbf-8627-6e84a9a6e958",
   "metadata": {},
   "outputs": [],
   "source": [
    "# Step 2: Separately filter players (multi and single)\n",
    "multi_team_rows = statsdf[statsdf['Player'].isin(multi_team_players)]\n",
    "single_team_rows = statsdf[~statsdf['Player'].isin(multi_team_players)]"
   ]
  },
  {
   "cell_type": "code",
   "execution_count": 316,
   "id": "6e40f254-d2c2-4db8-8a7c-d84b6db4ef23",
   "metadata": {},
   "outputs": [],
   "source": [
    "# Step 3: Combine the single-team rows with the multi-team rows that we will keep (one row per player, only)\n",
    "# Here, we're keeping the very first row for each player in multi_team_rows (the one with '2TM', '3TM', etc.)\n",
    "summary_rows = multi_team_rows.drop_duplicates(subset='Player', keep='first')\n",
    "cleaned_statsdf = pd.concat([single_team_rows, summary_rows], ignore_index=True)"
   ]
  },
  {
   "cell_type": "markdown",
   "id": "0298e99f-0465-4475-ac2b-82620e4d8015",
   "metadata": {},
   "source": [
    "Then,\n",
    "1) removed 'Rk' column which doesn't contain any meaning\n",
    "2) stripped whitespaces in player names\n",
    "3) check for null values"
   ]
  },
  {
   "cell_type": "code",
   "execution_count": 219,
   "id": "e4fa2f8c-8b83-479e-8d77-a83cdfe4cd58",
   "metadata": {},
   "outputs": [],
   "source": [
    "cleaned_statsdf = cleaned_statsdf.drop(columns=['Rk'], errors='ignore')\n",
    "\n",
    "cleaned_statsdf['Player'] = cleaned_statsdf['Player'].str.strip()\n",
    "\n",
    "cleaned_statsdf = cleaned_statsdf.fillna(0)"
   ]
  },
  {
   "cell_type": "markdown",
   "id": "5aa2e529-aa8a-4fb0-b154-4d14f5027942",
   "metadata": {},
   "source": [
    "### 2.4 Merging Datasets"
   ]
  },
  {
   "cell_type": "code",
   "execution_count": 221,
   "id": "8548c5f1-b13a-434a-b31a-34547d44a842",
   "metadata": {},
   "outputs": [],
   "source": [
    "stats_salary = pd.merge(cleaned_statsdf, salarydf[['Player', 'Salary']], on='Player', how='inner')"
   ]
  },
  {
   "cell_type": "markdown",
   "id": "f4253580-041d-485b-ac69-f1eb22cfb973",
   "metadata": {},
   "source": [
    "#### 2.4.1 Further cleaning"
   ]
  },
  {
   "cell_type": "code",
   "execution_count": 223,
   "id": "8852d831-0a0e-4bbd-8b38-7fe2e17e3771",
   "metadata": {},
   "outputs": [],
   "source": [
    "stats_salary = stats_salary.drop_duplicates()\n",
    "\n",
    "stats_salary = stats_salary.reset_index(drop=True)"
   ]
  },
  {
   "cell_type": "markdown",
   "id": "04a8cdea-3b31-4c0f-bc77-33115620415e",
   "metadata": {},
   "source": [
    "## 3. Correlation"
   ]
  },
  {
   "cell_type": "code",
   "execution_count": 225,
   "id": "4e79a21f-805b-43dd-ba84-f75f59daab00",
   "metadata": {},
   "outputs": [],
   "source": [
    "numeric_df = stats_salary.select_dtypes(include='number')\n",
    "salary_corr = numeric_df.corr()['Salary'].drop('Salary').sort_values(ascending=False)"
   ]
  },
  {
   "cell_type": "markdown",
   "id": "f3438c7b-43ad-486e-80ee-263b660f0e56",
   "metadata": {},
   "source": [
    "Corrleation:\n",
    "```\n",
    "PTS: 0.746         FG: 0.737      FGA: 0.719      FT: 0.705\n",
    "FTA: 0.688         2PA: 0.687      2P: 0.677      MP: 0.652       TOV: 0.643\n",
    "AST: 0.621         GS: 0.614       DRB: 0.546     3P: 0.500       3PA: 0.499\n",
    "TRB: 0.477         STL: 0.476      PF: 0.389      Age: 0.327      G: 0.288\n",
    "FT%: 0.240         BLK: 0.236      ORB: 0.219     FG%: 0.156      3P%: 0.140\n",
    "eFG%: 0.140        2P%: 0.098\n",
    "```\n"
   ]
  },
  {
   "cell_type": "markdown",
   "id": "e313f454-216c-4966-99da-46df132fc9e4",
   "metadata": {},
   "source": [
    "### 3.1 Barplot"
   ]
  },
  {
   "cell_type": "code",
   "execution_count": 228,
   "id": "79ab0448-5312-433c-8c9e-db062d4c1572",
   "metadata": {},
   "outputs": [
    {
     "data": {
      "image/png": "[encoded data removed]",
      "text/plain": [
       "<Figure size 1000x800 with 1 Axes>"
      ]
     },
     "metadata": {},
     "output_type": "display_data"
    }
   ],
   "source": [
    "plt.figure(figsize=(10, 8))\n",
    "sns.barplot(\n",
    "    x=salary_corr.values,\n",
    "    y=salary_corr.index,\n",
    "    hue=salary_corr.index,\n",
    "    palette=\"coolwarm\",\n",
    "    legend=False\n",
    ")\n",
    "plt.title(\"Correlation of Stats with Salary\", fontsize=14)\n",
    "plt.xlabel(\"Correlation\")\n",
    "plt.ylabel(\"Stats\")\n",
    "plt.tight_layout()\n",
    "plt.show()"
   ]
  },
  {
   "cell_type": "markdown",
   "id": "5424fd7c-f74a-4926-9acb-70e9937a0835",
   "metadata": {},
   "source": [
    "### 3.2 Scatterplots with some noticeable stats"
   ]
  },
  {
   "cell_type": "markdown",
   "id": "0b08c0f4-7934-40a1-b17f-4ad0e545039e",
   "metadata": {},
   "source": [
    "I made column 'Salary_M' which just translates Salary to Million scale for convenience."
   ]
  },
  {
   "cell_type": "code",
   "execution_count": 320,
   "id": "7fc435b3-bcb1-49d0-8b93-7aac0052cb61",
   "metadata": {},
   "outputs": [],
   "source": [
    "stats_salary['Salary_M'] = stats_salary['Salary'] / 1e6"
   ]
  },
  {
   "cell_type": "code",
   "execution_count": 230,
   "id": "789cef88-f316-424a-a5b9-ef2f1ce4d0fd",
   "metadata": {},
   "outputs": [],
   "source": [
    "def plot_salary_vs_stat(stat_col):\n",
    "    fig = px.scatter(\n",
    "        stats_salary,\n",
    "        x='Salary_M',\n",
    "        y=stat_col,    \n",
    "        hover_data={\n",
    "            'Player': True,\n",
    "            stat_col: True,\n",
    "            'Salary_M': ':.2f' \n",
    "        },\n",
    "        trendline='ols',\n",
    "        title=f'Salary vs {stat_col}', \n",
    "        labels={'Salary_M': 'Salary ($M)', stat_col: stat_col},\n",
    "        trendline_color_override='black'\n",
    "    )\n",
    "\n",
    "    fig.update_traces(marker=dict(color='skyblue'))\n",
    "\n",
    "    # Customize layout\n",
    "    fig.update_layout(\n",
    "        xaxis_tickprefix=\"$\",\n",
    "        xaxis_ticksuffix=\"M\",\n",
    "        template='plotly_white'\n",
    "    )\n",
    "    fig.show()"
   ]
  },
  {
   "cell_type": "code",
   "execution_count": 231,
   "id": "9be831e0-d22d-4e94-adb7-f5ead6f4b3c2",
   "metadata": {},
   "outputs": [
    {
     "data": {
      "application/vnd.plotly.v1+json": {
       "config": {
        "plotlyServerURL": "https://plot.ly"
       },
       "data": [
        {
         "customdata": [
          [
           "Shai Gilgeous-Alexander"
          ],
          [
           "Giannis Antetokounmpo"
          ],
          [
           "Nikola Jokic"
          ],
          [
           "Anthony Edwards"
          ],
          [
           "Jayson Tatum"
          ],
          [
           "Kevin Durant"
          ],
          [
           "Tyrese Maxey"
          ],
          [
           "Cade Cunningham"
          ],
          [
           "Jalen Brunson"
          ],
          [
           "Paolo Banchero"
          ],
          [
           "Devin Booker"
          ],
          [
           "LaMelo Ball"
          ],
          [
           "Damian Lillard"
          ],
          [
           "Kyrie Irving"
          ],
          [
           "Zion Williamson"
          ],
          [
           "Stephen Curry"
          ],
          [
           "LeBron James"
          ],
          [
           "Karl-Anthony Towns"
          ],
          [
           "Victor Wembanyama"
          ],
          [
           "Franz Wagner"
          ],
          [
           "Trae Young"
          ],
          [
           "Donovan Mitchell"
          ],
          [
           "Cam Thomas"
          ],
          [
           "Tyler Herro"
          ],
          [
           "Joel Embiid"
          ],
          [
           "Ja Morant"
          ],
          [
           "James Harden"
          ],
          [
           "Jaylen Brown"
          ],
          [
           "DeMar DeRozan"
          ],
          [
           "Brandon Ingram"
          ],
          [
           "Jaren Jackson Jr."
          ],
          [
           "Norman Powell"
          ],
          [
           "Jalen Williams"
          ],
          [
           "Kawhi Leonard"
          ],
          [
           "Jamal Murray"
          ],
          [
           "Trey Murphy III"
          ],
          [
           "RJ Barrett"
          ],
          [
           "CJ McCollum"
          ],
          [
           "Jalen Green"
          ],
          [
           "Brandon Miller"
          ],
          [
           "Darius Garland"
          ],
          [
           "Jordan Poole"
          ],
          [
           "Coby White"
          ],
          [
           "Miles Bridges"
          ],
          [
           "Austin Reaves"
          ],
          [
           "Pascal Siakam"
          ],
          [
           "Kristaps Porzingis"
          ],
          [
           "Scottie Barnes"
          ],
          [
           "Anfernee Simons"
          ],
          [
           "Desmond Bane"
          ],
          [
           "Domantas Sabonis"
          ],
          [
           "Alperen Sengun"
          ],
          [
           "John Collins"
          ],
          [
           "Lauri Markkanen"
          ],
          [
           "Jalen Johnson"
          ],
          [
           "Cameron Johnson"
          ],
          [
           "Julius Randle"
          ],
          [
           "Tyrese Haliburton"
          ],
          [
           "Evan Mobley"
          ],
          [
           "Shaedon Sharpe"
          ],
          [
           "Nikola Vucevic"
          ],
          [
           "Collin Sexton"
          ],
          [
           "Michael Porter Jr."
          ],
          [
           "Bam Adebayo"
          ],
          [
           "OG Anunoby"
          ],
          [
           "Mikal Bridges"
          ],
          [
           "Jaden Ivey"
          ],
          [
           "Dejounte Murray"
          ],
          [
           "Malik Monk"
          ],
          [
           "Immanuel Quickley"
          ],
          [
           "Bradley Beal"
          ],
          [
           "Deni Avdija"
          ],
          [
           "Keyonte George"
          ],
          [
           "Ivica Zubac"
          ],
          [
           "Derrick White"
          ],
          [
           "Malik Beasley"
          ],
          [
           "Devin Vassell"
          ],
          [
           "Jordan Clarkson"
          ],
          [
           "Paul George"
          ],
          [
           "Jalen Suggs"
          ],
          [
           "Bennedict Mathurin"
          ],
          [
           "Myles Turner"
          ],
          [
           "Christian Braun"
          ],
          [
           "Jonathan Kuminga"
          ],
          [
           "Jared McCain"
          ],
          [
           "Mark Williams"
          ],
          [
           "Kelly Oubre Jr."
          ],
          [
           "Chet Holmgren"
          ],
          [
           "Stephon Castle"
          ],
          [
           "Aaron Gordon"
          ],
          [
           "P.J. Washington"
          ],
          [
           "Josh Giddey"
          ],
          [
           "Jakob Poeltl"
          ],
          [
           "Deandre Ayton"
          ],
          [
           "Gradey Dick"
          ],
          [
           "Jerami Grant"
          ],
          [
           "Payton Pritchard"
          ],
          [
           "Naz Reid"
          ],
          [
           "Dyson Daniels"
          ],
          [
           "Tre Mann"
          ],
          [
           "Amen Thompson"
          ],
          [
           "Fred VanVleet"
          ],
          [
           "Dillon Brooks"
          ],
          [
           "Klay Thompson"
          ],
          [
           "Bobby Portis"
          ],
          [
           "Tobias Harris"
          ],
          [
           "Josh Hart"
          ],
          [
           "Jarrett Allen"
          ],
          [
           "Onyeka Okongwu"
          ],
          [
           "Russell Westbrook"
          ],
          [
           "Naji Marshall"
          ],
          [
           "Rui Hachimura"
          ],
          [
           "Brook Lopez"
          ],
          [
           "Alex Sarr"
          ],
          [
           "Moritz Wagner"
          ],
          [
           "Malcolm Brogdon"
          ],
          [
           "Scoot Henderson"
          ],
          [
           "Keldon Johnson"
          ],
          [
           "Zaccharie Risacher"
          ],
          [
           "Santi Aldama"
          ],
          [
           "Ty Jerome"
          ],
          [
           "Keegan Murray"
          ],
          [
           "Lonnie Walker IV"
          ],
          [
           "Harrison Barnes"
          ],
          [
           "Bilal Coulibaly"
          ],
          [
           "Ayo Dosunmu"
          ],
          [
           "Daniel Gafford"
          ],
          [
           "Jaden McDaniels"
          ],
          [
           "Jabari Smith Jr."
          ],
          [
           "Drew Timme"
          ],
          [
           "Tari Eason"
          ],
          [
           "Rudy Gobert"
          ],
          [
           "Aaron Nesmith"
          ],
          [
           "Aaron Wiggins"
          ],
          [
           "Jalen Duren"
          ],
          [
           "Donte DiVincenzo"
          ],
          [
           "Brandin Podziemski"
          ],
          [
           "Corey Kispert"
          ],
          [
           "Jeremy Sochan"
          ],
          [
           "Toumani Camara"
          ],
          [
           "Isaiah Hartenstein"
          ],
          [
           "Buddy Hield"
          ],
          [
           "Jrue Holiday"
          ],
          [
           "Walker Kessler"
          ],
          [
           "Gary Trent Jr."
          ],
          [
           "Spencer Dinwiddie"
          ],
          [
           "Tim Hardaway Jr."
          ],
          [
           "Duncan Robinson"
          ],
          [
           "Guerschon Yabusele"
          ],
          [
           "Brice Sensabaugh"
          ],
          [
           "Jordan Hawkins"
          ],
          [
           "Brandon Boston Jr."
          ],
          [
           "Grayson Allen"
          ],
          [
           "Keon Johnson"
          ],
          [
           "Terry Rozier"
          ],
          [
           "Obi Toppin"
          ],
          [
           "Ochai Agbaji"
          ],
          [
           "Jaylen Wells"
          ],
          [
           "Grant Williams"
          ],
          [
           "Jose Alvarado"
          ],
          [
           "Nic Claxton"
          ],
          [
           "Herbert Jones"
          ],
          [
           "De'Anthony Melton"
          ],
          [
           "Isaiah Joe"
          ],
          [
           "Tyus Jones"
          ],
          [
           "Trendon Watford"
          ],
          [
           "Luguentz Dort"
          ],
          [
           "Justin Edwards"
          ],
          [
           "Derrick Jones Jr."
          ],
          [
           "Ausar Thompson"
          ],
          [
           "Chris Boucher"
          ],
          [
           "Andrew Nembhard"
          ],
          [
           "Ziaire Williams"
          ],
          [
           "Julian Champagnie"
          ],
          [
           "Scotty Pippen Jr."
          ],
          [
           "Nick Smith Jr."
          ],
          [
           "Bub Carrington"
          ],
          [
           "Moses Moody"
          ],
          [
           "Amir Coffey"
          ],
          [
           "Kyle Filipowski"
          ],
          [
           "Miles McBride"
          ],
          [
           "Jalen Wilson"
          ],
          [
           "Nickeil Alexander-Walker"
          ],
          [
           "Cole Anthony"
          ],
          [
           "Anthony Black"
          ],
          [
           "Max Strus"
          ],
          [
           "Cam Whitmore"
          ],
          [
           "Kel'el Ware"
          ],
          [
           "Zach Edey"
          ],
          [
           "Wendell Carter Jr."
          ],
          [
           "Noah Clowney"
          ],
          [
           "Dalton Knecht"
          ],
          [
           "A.J. Lawson"
          ],
          [
           "T.J. McConnell"
          ],
          [
           "Yves Missi"
          ],
          [
           "Royce O'Neale"
          ],
          [
           "Draymond Green"
          ],
          [
           "Killian Hayes"
          ],
          [
           "Al Horford"
          ],
          [
           "Julian Strawther"
          ],
          [
           "Patrick Williams"
          ],
          [
           "Clint Capela"
          ],
          [
           "Johnny Juzang"
          ],
          [
           "Luke Kennard"
          ],
          [
           "Justin Champagnie"
          ],
          [
           "Svi Mykhailiuk"
          ],
          [
           "Chris Paul"
          ],
          [
           "Oshae Brissett"
          ],
          [
           "Kentavious Caldwell-Pope"
          ],
          [
           "Isaiah Collier"
          ],
          [
           "Dante Exum"
          ],
          [
           "Kyshawn George"
          ],
          [
           "Jaden Hardy"
          ],
          [
           "Dereck Lively II"
          ],
          [
           "Tyrese Martin"
          ],
          [
           "Matas Buzelis"
          ],
          [
           "Jaime Jaquez Jr."
          ],
          [
           "Ja'Kobe Walter"
          ],
          [
           "Sam Hauser"
          ],
          [
           "Larry Nance Jr."
          ],
          [
           "Jaylen Nowell"
          ],
          [
           "Cason Wallace"
          ],
          [
           "Dalano Banton"
          ],
          [
           "Brandon Clarke"
          ],
          [
           "Keon Ellis"
          ],
          [
           "Brandon Williams"
          ],
          [
           "Mike Conley"
          ],
          [
           "Taurean Prince"
          ],
          [
           "Jalen Smith"
          ],
          [
           "Quinten Post"
          ],
          [
           "Peyton Watson"
          ],
          [
           "Day'Ron Sharpe"
          ],
          [
           "Karlo Matkovic"
          ],
          [
           "Lonzo Ball"
          ],
          [
           "Garrison Mathews"
          ],
          [
           "Matisse Thybulle"
          ],
          [
           "A.J. Green"
          ],
          [
           "Josh Green"
          ],
          [
           "Richaun Holmes"
          ],
          [
           "Alec Burks"
          ],
          [
           "Ricky Council IV"
          ],
          [
           "Andre Drummond"
          ],
          [
           "Goga Bitadze"
          ],
          [
           "Tristan Da Silva"
          ],
          [
           "GG Jackson II"
          ],
          [
           "Vit Krejci"
          ],
          [
           "Sam Merrill"
          ],
          [
           "Nae'Qwan Tomlin"
          ],
          [
           "Jamison Battle"
          ],
          [
           "Alex Caruso"
          ],
          [
           "Jamal Shead"
          ],
          [
           "Marcus Garrett"
          ],
          [
           "Isaiah Jackson"
          ],
          [
           "Jaylen Sims"
          ],
          [
           "Ryan Dunn"
          ],
          [
           "Jay Huff"
          ],
          [
           "Cameron Payne"
          ],
          [
           "Antonio Reeves"
          ],
          [
           "Bol Bol"
          ],
          [
           "Eric Gordon"
          ],
          [
           "Jaxson Hayes"
          ],
          [
           "Marcus Bagley"
          ],
          [
           "DaQuan Jeffries"
          ],
          [
           "Precious Achiuwa"
          ],
          [
           "Trayce Jackson-Davis"
          ],
          [
           "Marcus Sasser"
          ],
          [
           "Vince Williams Jr."
          ],
          [
           "Donovan Clingan"
          ],
          [
           "Seth Curry"
          ],
          [
           "Haywood Highsmith"
          ],
          [
           "Talen Horton-Tucker"
          ],
          [
           "Trey Lyles"
          ],
          [
           "Ajay Mitchell"
          ],
          [
           "Gary Payton II"
          ],
          [
           "Kris Dunn"
          ],
          [
           "Ron Holland"
          ],
          [
           "Gabe Vincent"
          ],
          [
           "Sandro Mamukelashvili"
          ],
          [
           "Jeremiah Robinson-Earl"
          ],
          [
           "Kenrich Williams"
          ],
          [
           "Jonathan Mogbo"
          ],
          [
           "Ryan Rollins"
          ],
          [
           "Isaac Okoro"
          ],
          [
           "Jarace Walker"
          ],
          [
           "Mouhamed Gueye"
          ],
          [
           "Luke Kornet"
          ],
          [
           "Isaiah Mobley"
          ],
          [
           "Isaiah Stewart"
          ],
          [
           "James Wiseman"
          ],
          [
           "Simone Fontecchio"
          ],
          [
           "Jaylin Williams"
          ],
          [
           "Adem Bona"
          ],
          [
           "Robert Williams"
          ],
          [
           "Moussa Diabate"
          ],
          [
           "Dariq Whitehead"
          ],
          [
           "Landry Shamet"
          ],
          [
           "Jordan Goodwin"
          ],
          [
           "Aaron Holiday"
          ],
          [
           "Jeff Green"
          ],
          [
           "Jonathan Isaac"
          ],
          [
           "Dean Wade"
          ],
          [
           "Kobe Bufkin"
          ],
          [
           "Pat Connaughton"
          ],
          [
           "Kevin Love"
          ],
          [
           "Ben Sheppard"
          ],
          [
           "Monte Morris"
          ],
          [
           "Jabari Walker"
          ],
          [
           "Bismack Biyombo"
          ],
          [
           "Mitchell Robinson"
          ],
          [
           "Malaki Branham"
          ],
          [
           "Neemias Queta"
          ],
          [
           "Jock Landale"
          ],
          [
           "Taylor Hendricks"
          ],
          [
           "Pelle Larsson"
          ],
          [
           "Julian Phillips"
          ],
          [
           "Cody Williams"
          ],
          [
           "Rob Dillingham"
          ],
          [
           "Jett Howard"
          ],
          [
           "Kevon Looney"
          ],
          [
           "Mason Plumlee"
          ],
          [
           "Dalen Terry"
          ],
          [
           "Charles Bassey"
          ],
          [
           "Tony Bradley"
          ],
          [
           "Reggie Jackson"
          ],
          [
           "Reed Sheppard"
          ],
          [
           "Lamar Stevens"
          ],
          [
           "Jevon Carter"
          ],
          [
           "Terrence Shannon Jr."
          ],
          [
           "Daniel Theis"
          ],
          [
           "Dominick Barlow"
          ],
          [
           "Oso Ighodaro"
          ],
          [
           "Kris Murray"
          ],
          [
           "Duop Reath"
          ],
          [
           "Jaylen Clark"
          ],
          [
           "Caleb Houstan"
          ],
          [
           "Jordan Miller"
          ],
          [
           "Jalen Pickett"
          ],
          [
           "Paul Reed"
          ],
          [
           "Gui Santos"
          ],
          [
           "Jarred Vanderbilt"
          ],
          [
           "Nicolas Batum"
          ],
          [
           "Malachi Flynn"
          ],
          [
           "Josh Richardson"
          ],
          [
           "Steven Adams"
          ],
          [
           "Kyle Lowry"
          ],
          [
           "Olivier-Maxence Prosper"
          ],
          [
           "Branden Carlson"
          ],
          [
           "Devin Carter"
          ],
          [
           "Ousmane Dieng"
          ],
          [
           "DeAndre Jordan"
          ],
          [
           "Craig Porter Jr."
          ],
          [
           "Blake Wesley"
          ],
          [
           "Baylor Scheierman"
          ],
          [
           "Jae'Sean Tate"
          ],
          [
           "Jaylon Tyson"
          ],
          [
           "Luka Garza"
          ],
          [
           "Cory Joseph"
          ],
          [
           "Doug McDermott"
          ],
          [
           "Dario Saric"
          ],
          [
           "Bruno Fernando"
          ],
          [
           "Andre Jackson Jr."
          ],
          [
           "Isaac Jones"
          ],
          [
           "Kevin Knox"
          ],
          [
           "Damion Lee"
          ],
          [
           "Jeenathan Williams"
          ],
          [
           "Zeke Nnaji"
          ],
          [
           "Cam Reddish"
          ],
          [
           "Gary Harris"
          ],
          [
           "Maxi Kleber"
          ],
          [
           "Rayan Rupert"
          ],
          [
           "P.J. Tucker"
          ],
          [
           "Markelle Fultz"
          ],
          [
           "Taj Gibson"
          ],
          [
           "Tyler Smith"
          ],
          [
           "Keshad Johnson"
          ],
          [
           "Jae Crowder"
          ],
          [
           "Josh Minott"
          ],
          [
           "Hunter Tyson"
          ],
          [
           "Anthony Gill"
          ],
          [
           "Dillon Jones"
          ],
          [
           "Pat Spencer"
          ],
          [
           "Johnny Davis"
          ],
          [
           "John Konchar"
          ],
          [
           "Bronny James"
          ],
          [
           "JD Davison"
          ],
          [
           "Chris Duarte"
          ],
          [
           "Johnny Furphy"
          ],
          [
           "Dwight Powell"
          ],
          [
           "Tyler Kolek"
          ],
          [
           "Kobe Brown"
          ],
          [
           "Ariel Hukporti"
          ],
          [
           "Bobi Klintman"
          ],
          [
           "Garrett Temple"
          ],
          [
           "Vlatko Cancar"
          ],
          [
           "E.J. Liddell"
          ],
          [
           "Pacome Dadiet"
          ],
          [
           "Tristan Thompson"
          ],
          [
           "Jordan Walsh"
          ],
          [
           "Phillip Wheeler"
          ],
          [
           "Leonard Miller"
          ],
          [
           "Matt Ryan"
          ],
          [
           "Cam Christie"
          ],
          [
           "Chris Livingston"
          ],
          [
           "Skal Labissiere"
          ],
          [
           "Yuri Collins"
          ],
          [
           "Braxton Key"
          ],
          [
           "Xavier Tillman Sr."
          ],
          [
           "PJ Dozier"
          ],
          [
           "Joe Ingles"
          ],
          [
           "James Johnson"
          ],
          [
           "Malevy Leons"
          ],
          [
           "Daishen Nix"
          ],
          [
           "Terence Davis"
          ],
          [
           "Jalen McDaniels"
          ],
          [
           "Jahlil Okafor"
          ],
          [
           "Terry Taylor"
          ],
          [
           "Luka Doncic"
          ],
          [
           "Anthony Davis"
          ],
          [
           "De'Aaron Fox"
          ],
          [
           "Zach LaVine"
          ],
          [
           "Andrew Wiggins"
          ],
          [
           "Jimmy Butler"
          ],
          [
           "De'Andre Hunter"
          ],
          [
           "Kyle Kuzma"
          ],
          [
           "Quentin Grimes"
          ],
          [
           "Dennis Schroder"
          ],
          [
           "D'Angelo Russell"
          ],
          [
           "Caris LeVert"
          ],
          [
           "Khris Middleton"
          ],
          [
           "Bogdan Bogdanovic"
          ],
          [
           "Jonas Valanciunas"
          ],
          [
           "Kevin Porter Jr."
          ],
          [
           "Kevin Huerter"
          ],
          [
           "Georges Niang"
          ],
          [
           "Max Christie"
          ],
          [
           "Nick Richards"
          ],
          [
           "Jared Butler"
          ],
          [
           "Marcus Smart"
          ],
          [
           "Jusuf Nurkic"
          ],
          [
           "Kelly Olynyk"
          ],
          [
           "Dorian Finney-Smith"
          ],
          [
           "Jared Rhoden"
          ],
          [
           "Bruce Brown"
          ],
          [
           "Davion Mitchell"
          ],
          [
           "Caleb Martin"
          ],
          [
           "Terance Mann"
          ],
          [
           "AJ Johnson"
          ],
          [
           "Tre Jones"
          ],
          [
           "Josh Okogie"
          ],
          [
           "Jalen Hood-Schifino"
          ],
          [
           "Orlando Robinson"
          ],
          [
           "Jake LaRavia"
          ],
          [
           "Cody Martin"
          ],
          [
           "Vasilije Micic"
          ],
          [
           "Thomas Bryant"
          ],
          [
           "Zach Collins"
          ],
          [
           "KJ Martin"
          ],
          [
           "Bones Hyland"
          ],
          [
           "Cole Swider"
          ],
          [
           "Chuma Okeke"
          ],
          [
           "Kyle Anderson"
          ],
          [
           "Moses Brown"
          ],
          [
           "Shake Milton"
          ],
          [
           "Javonte Green"
          ],
          [
           "Ben Simmons"
          ],
          [
           "Lindy Waters III"
          ],
          [
           "Colin Castleton"
          ],
          [
           "David Roddy"
          ],
          [
           "Drew Eubanks"
          ],
          [
           "Marvin Bagley III"
          ],
          [
           "Mo Bamba"
          ],
          [
           "Torrey Craig"
          ],
          [
           "Wendell Moore Jr."
          ],
          [
           "Maxwell Lewis"
          ],
          [
           "Colby Jones"
          ],
          [
           "Patty Mills"
          ],
          [
           "Markieff Morris"
          ],
          [
           "Elfrid Payton"
          ],
          [
           "Delon Wright"
          ],
          [
           "Kylor Kelley"
          ],
          [
           "Jaden Springer"
          ],
          [
           "MarJon Beauchamp"
          ],
          [
           "Patrick Baldwin Jr."
          ],
          [
           "Jordan McLaughlin"
          ],
          [
           "Jericho Sims"
          ],
          [
           "Alex Len"
          ],
          [
           "Sidy Cissoko"
          ]
         ],
         "hovertemplate": "Salary ($M)=%{x:.2f}<br>PTS=%{y}<br>Player=%{customdata[0]}<extra></extra>",
         "legendgroup": "",
         "marker": {
          "color": "skyblue",
          "symbol": "circle"
         },
         "mode": "markers",
         "name": "",
         "orientation": "v",
         "showlegend": false,
         "type": "scatter",
         "x": [
          35.85995,
          48.787676,
          51.415938,
          42.1764,
          34.84834,
          51.179021,
          35.147,
          13.940809,
          24.960001,
          12.1608,
          49.2058,
          35.147,
          48.787676,
          41,
          36.72567,
          55.761216,
          48.728845,
          49.2058,
          12.76896,
          7.007092,
          43.03194,
          35.41031,
          4.041249,
          29,
          51.415938,
          36.72567,
          33.653846,
          49.2058,
          23.4,
          36.0162,
          25.257798,
          19.241379,
          4.77576,
          49.2058,
          36.0162,
          5.159854,
          25.794643,
          33.333333,
          12.483048,
          11.4246,
          36.72567,
          29.651786,
          12,
          27.173913,
          12.976362,
          42.1764,
          29.268293,
          10.13098,
          25.892857,
          34.00525,
          40.5,
          5.424654,
          26.58,
          42.1764,
          4.510905,
          22.5,
          33.07392,
          42.1764,
          11.227657,
          6.61416,
          20,
          18.35,
          35.85995,
          34.84834,
          36.637932,
          23.3,
          7.97724,
          29.517135,
          17.405203,
          32.5,
          50.20393,
          15.625,
          4.0842,
          11.74321,
          20.071429,
          6,
          29.347826,
          14.092577,
          49.2058,
          9.188385,
          7.24572,
          19.9285,
          3.08964,
          7.636307,
          4.02036,
          4.09428,
          7.983,
          10.88064,
          9.10512,
          22.841455,
          15.5,
          8.352367,
          19.5,
          34.005126,
          4.76376,
          29.793104,
          6.696429,
          13.986432,
          6.05952,
          4.908373,
          9.24996,
          42.846615,
          22.255493,
          15.873016,
          12.578286,
          25.365854,
          18.144,
          20,
          14,
          5.631296,
          8.571429,
          17,
          23,
          11.24568,
          11,
          22.5,
          10.25916,
          19,
          12.56904,
          3.960531,
          2.560975,
          8.80956,
          0.780932,
          18,
          6.94524,
          7,
          13.39416,
          23.017242,
          9.77088,
          0.113055,
          3.69516,
          43.827586,
          11,
          10.514017,
          4.53684,
          11.445,
          3.51996,
          5.705887,
          5.57004,
          1.891857,
          30,
          8.780488,
          30,
          2.96592,
          2.087519,
          2.087519,
          16.193183,
          19.406,
          2.087519,
          2.57148,
          4.52568,
          0.596581,
          15.625,
          2.162606,
          24.924126,
          12.975,
          4.31028,
          1.157153,
          13.02525,
          1.988598,
          27.556817,
          12.976362,
          12.822,
          12.99165,
          2.087519,
          2.726603,
          16.5,
          0.425619,
          9.52381,
          8.376,
          10.81,
          2.019699,
          6.133005,
          3,
          2.087519,
          2.5872,
          4.45488,
          5.803269,
          3.938271,
          3,
          4.710144,
          1.891857,
          4.3125,
          12.9,
          7.60776,
          15.212068,
          3.37908,
          4.2318,
          5.75688,
          11.95,
          3.24408,
          3.81912,
          0.1,
          9.3,
          3.1932,
          9.375,
          24.107143,
          0.119972,
          9.5,
          2.55252,
          18,
          22.26528,
          3.087519,
          9.25,
          1.8,
          3.5,
          10.46,
          0.119972,
          22.757,
          2.51268,
          3.15,
          2.82552,
          2.019699,
          5.01456,
          0.635853,
          5.19552,
          3.6858,
          3.465,
          2.092344,
          11.205,
          0.446743,
          5.55588,
          2.19697,
          12.5,
          2.120693,
          0.047989,
          9.975962,
          2.087519,
          8.571429,
          0.43892,
          2.41356,
          3.989122,
          1.407153,
          21.395348,
          2.230253,
          11.025,
          2.120693,
          12.654321,
          12.648321,
          2.087519,
          1.891857,
          5,
          9.057971,
          3.62844,
          1.891857,
          2.162606,
          2.164993,
          0.066503,
          1,
          9.89,
          1.862265,
          0.107027,
          4.435381,
          0.073153,
          2.5308,
          2.088033,
          2.087519,
          1.157153,
          2.087519,
          3.303771,
          2.463946,
          0.126356,
          2.425404,
          6,
          1.891857,
          2.75508,
          2.120693,
          6.8364,
          2.087519,
          5.2,
          2.087519,
          8,
          3,
          9.13,
          5.168,
          8.24532,
          11,
          2.087519,
          2.19697,
          6.669,
          1.862265,
          1.091887,
          10.185186,
          6.36252,
          1.891857,
          2.087519,
          0.011997,
          15,
          2.237691,
          7.692308,
          2.019699,
          1.157153,
          12.428571,
          0.957763,
          3.11424,
          1.34369,
          0.223718,
          4.668,
          8,
          25,
          6.166667,
          4.299,
          9.423869,
          3.85,
          2.66388,
          2.087519,
          2.019699,
          0.647851,
          14.318182,
          3.21792,
          2.162606,
          8,
          5.84868,
          1.157153,
          1.891857,
          5.46912,
          6.26292,
          5.27832,
          8,
          2.087519,
          3.51048,
          2.087519,
          0.600545,
          4.033748,
          10.09896,
          0.623856,
          6.5,
          2.54664,
          2.087519,
          0.491887,
          1.157153,
          2.99004,
          2.04878,
          0.492323,
          2.019699,
          1.05,
          1.891857,
          3.913234,
          1.891857,
          10.714286,
          4.668,
          0.119972,
          3.051153,
          12.6,
          2.087519,
          2.8704,
          0.496519,
          4.689,
          5.02704,
          2.087519,
          1.891857,
          2.62428,
          2.49432,
          7.565217,
          3.32616,
          2.162606,
          3.303771,
          2.087519,
          5.168,
          1.115128,
          1.891857,
          0.152957,
          0.503883,
          2.087519,
          0.515881,
          8.888889,
          2.463946,
          7.5,
          11,
          1.891857,
          12.025777,
          0.731831,
          2.087519,
          1.157153,
          0.724883,
          1.655619,
          2.019699,
          1.891857,
          2.237691,
          2.62236,
          0.43881,
          5.29116,
          6.165,
          1.157153,
          0.011997,
          5.893768,
          1.850842,
          4,
          2.087519,
          2.53392,
          1.064049,
          1.257153,
          2.087519,
          2.087519,
          0.706898,
          1.80808,
          2.087519,
          1.891857,
          0.066503,
          1.891857,
          0.621439,
          1.157153,
          1.891857,
          0.119972,
          0.066503,
          0.011997,
          2.237691,
          1.051255,
          2.087519,
          2.087519,
          0.126356,
          0.119972,
          0.064301,
          4.861772,
          0.119972,
          0.119972,
          43.03194,
          43.21944,
          34.84834,
          44.53194,
          26.276786,
          48.798677,
          21.696429,
          24.456061,
          4.296682,
          13.02525,
          18.692307,
          16.615384,
          31,
          17.26,
          9.9,
          3.366937,
          16.830357,
          8.5,
          7.142857,
          5,
          0.745726,
          20.210284,
          18.125,
          12.804878,
          14.924167,
          0.119972,
          23,
          6.451077,
          9.186594,
          11.423077,
          2.795294,
          9.104167,
          8.25,
          3.87984,
          1.69161,
          3.35268,
          8.12,
          7.723,
          2.087519,
          16.7412,
          7.975,
          4.158439,
          0.227947,
          0.355687,
          8.780488,
          0.426632,
          2.875,
          2.32835,
          40.011909,
          2.19697,
          0.421081,
          2.967212,
          5,
          12.5,
          2.207491,
          3.625162,
          2.53704,
          1.891857,
          2.120693,
          2.087519,
          2.087519,
          0.789048,
          2.087519,
          0.073153,
          4.772772,
          2.73372,
          2.44884,
          2.087519,
          2.092344,
          2.831348,
          1.891857
         ],
         "xaxis": "x",
         "y": [
          32.7,
          30.4,
          29.6,
          27.6,
          26.8,
          26.6,
          26.3,
          26.1,
          26,
          25.9,
          25.6,
          25.2,
          24.9,
          24.7,
          24.6,
          24.5,
          24.4,
          24.4,
          24.3,
          24.2,
          24.2,
          24,
          24,
          23.9,
          23.8,
          23.2,
          22.8,
          22.2,
          22.2,
          22.2,
          22.2,
          21.8,
          21.6,
          21.5,
          21.4,
          21.2,
          21.1,
          21.1,
          21,
          21,
          20.6,
          20.5,
          20.4,
          20.3,
          20.2,
          20.2,
          19.5,
          19.3,
          19.3,
          19.2,
          19.1,
          19.1,
          19,
          19,
          18.9,
          18.8,
          18.7,
          18.6,
          18.5,
          18.5,
          18.5,
          18.4,
          18.2,
          18.1,
          18,
          17.6,
          17.6,
          17.5,
          17.2,
          17.1,
          17,
          16.9,
          16.8,
          16.8,
          16.4,
          16.3,
          16.3,
          16.2,
          16.2,
          16.2,
          16.1,
          15.6,
          15.4,
          15.3,
          15.3,
          15.3,
          15.1,
          15,
          14.7,
          14.7,
          14.7,
          14.6,
          14.5,
          14.4,
          14.4,
          14.4,
          14.3,
          14.2,
          14.1,
          14.1,
          14.1,
          14.1,
          14,
          14,
          13.9,
          13.7,
          13.6,
          13.5,
          13.4,
          13.3,
          13.2,
          13.1,
          13,
          13,
          12.9,
          12.7,
          12.7,
          12.7,
          12.6,
          12.5,
          12.5,
          12.4,
          12.4,
          12.3,
          12.3,
          12.3,
          12.3,
          12.2,
          12.2,
          12.1,
          12,
          12,
          12,
          12,
          11.8,
          11.7,
          11.7,
          11.6,
          11.4,
          11.3,
          11.2,
          11.1,
          11.1,
          11.1,
          11.1,
          11,
          11,
          11,
          11,
          10.9,
          10.8,
          10.7,
          10.6,
          10.6,
          10.6,
          10.5,
          10.4,
          10.4,
          10.4,
          10.3,
          10.3,
          10.3,
          10.3,
          10.2,
          10.2,
          10.2,
          10.1,
          10.1,
          10.1,
          10.1,
          10,
          10,
          10,
          9.9,
          9.9,
          9.9,
          9.8,
          9.8,
          9.7,
          9.6,
          9.5,
          9.5,
          9.4,
          9.4,
          9.4,
          9.4,
          9.4,
          9.3,
          9.2,
          9.1,
          9.1,
          9.1,
          9.1,
          9.1,
          9.1,
          9.1,
          9,
          9,
          9,
          9,
          9,
          8.9,
          8.9,
          8.9,
          8.8,
          8.8,
          8.8,
          8.7,
          8.7,
          8.7,
          8.7,
          8.7,
          8.7,
          8.7,
          8.7,
          8.6,
          8.6,
          8.6,
          8.5,
          8.5,
          8.4,
          8.4,
          8.3,
          8.3,
          8.3,
          8.3,
          8.2,
          8.2,
          8.2,
          8.1,
          8.1,
          7.9,
          7.7,
          7.6,
          7.5,
          7.5,
          7.4,
          7.4,
          7.4,
          7.3,
          7.3,
          7.3,
          7.2,
          7.2,
          7.2,
          7.2,
          7.2,
          7.2,
          7.1,
          7.1,
          7.1,
          7,
          7,
          7,
          6.9,
          6.9,
          6.9,
          6.9,
          6.8,
          6.8,
          6.8,
          6.7,
          6.7,
          6.6,
          6.6,
          6.6,
          6.6,
          6.5,
          6.5,
          6.5,
          6.5,
          6.5,
          6.5,
          6.5,
          6.4,
          6.4,
          6.4,
          6.3,
          6.3,
          6.3,
          6.2,
          6.2,
          6.1,
          6.1,
          6,
          6,
          6,
          6,
          6,
          5.9,
          5.9,
          5.8,
          5.8,
          5.7,
          5.7,
          5.7,
          5.6,
          5.5,
          5.4,
          5.4,
          5.4,
          5.3,
          5.3,
          5.3,
          5.3,
          5.2,
          5.2,
          5.1,
          5.1,
          5,
          5,
          4.8,
          4.7,
          4.6,
          4.6,
          4.6,
          4.5,
          4.5,
          4.5,
          4.5,
          4.5,
          4.4,
          4.4,
          4.4,
          4.4,
          4.4,
          4.3,
          4.3,
          4.3,
          4.2,
          4.2,
          4.2,
          4.2,
          4.1,
          4.1,
          4.1,
          4.1,
          4.1,
          4.1,
          4.1,
          4,
          4,
          4,
          3.9,
          3.9,
          3.9,
          3.8,
          3.8,
          3.8,
          3.7,
          3.7,
          3.7,
          3.6,
          3.6,
          3.6,
          3.5,
          3.5,
          3.5,
          3.5,
          3.4,
          3.4,
          3.4,
          3.3,
          3.3,
          3.3,
          3.2,
          3.2,
          3,
          3,
          3,
          3,
          2.9,
          2.9,
          2.9,
          2.7,
          2.6,
          2.6,
          2.6,
          2.5,
          2.5,
          2.5,
          2.4,
          2.4,
          2.3,
          2.1,
          2.1,
          2.1,
          2.1,
          2,
          1.9,
          1.9,
          1.9,
          1.9,
          1.8,
          1.8,
          1.7,
          1.7,
          1.6,
          1.6,
          1.5,
          1.5,
          1.4,
          1.4,
          1.3,
          1,
          1,
          1,
          0.8,
          0.8,
          0.7,
          0.3,
          0.3,
          0,
          0,
          0,
          0,
          28.2,
          24.7,
          23.5,
          23.3,
          18,
          17.5,
          17,
          14.8,
          14.6,
          13.1,
          12.6,
          12.1,
          11.9,
          10.8,
          10.4,
          10.3,
          9.9,
          9.9,
          9.6,
          9.3,
          9,
          9,
          8.9,
          8.7,
          8.7,
          8.4,
          8.3,
          7.9,
          7.9,
          7.7,
          7.6,
          7.2,
          7.1,
          7.1,
          6.9,
          6.9,
          6.8,
          6.6,
          6.5,
          6.4,
          6.4,
          6.2,
          5.9,
          5.9,
          5.9,
          5.8,
          5.5,
          5.1,
          5,
          4.9,
          4.7,
          4.6,
          4.6,
          4.4,
          4.3,
          4.2,
          4.2,
          4.1,
          4,
          3.8,
          3.7,
          3.5,
          3.1,
          3.1,
          2.5,
          2.3,
          2.2,
          2.1,
          1.8,
          1.6,
          1.5
         ],
         "yaxis": "y"
        },
        {
         "hovertemplate": "<b>OLS trendline</b><br>PTS = 0.392799 * Salary_M + 5.69307<br>R<sup>2</sup>=0.557225<br><br>Salary ($M)=%{x:.2f}<br>PTS=%{y} <b>(trend)</b><extra></extra>",
         "legendgroup": "",
         "line": {
          "color": "black"
         },
         "marker": {
          "color": "skyblue",
          "symbol": "circle"
         },
         "mode": "lines",
         "name": "",
         "showlegend": false,
         "type": "scatter",
         "x": [
          0.011997,
          0.011997,
          0.011997,
          0.047989,
          0.064301,
          0.066503,
          0.066503,
          0.066503,
          0.073153,
          0.073153,
          0.1,
          0.107027,
          0.113055,
          0.119972,
          0.119972,
          0.119972,
          0.119972,
          0.119972,
          0.119972,
          0.119972,
          0.119972,
          0.126356,
          0.126356,
          0.152957,
          0.223718,
          0.227947,
          0.355687,
          0.421081,
          0.425619,
          0.426632,
          0.43881,
          0.43892,
          0.446743,
          0.491887,
          0.492323,
          0.496519,
          0.503883,
          0.515881,
          0.596581,
          0.600545,
          0.621439,
          0.623856,
          0.635853,
          0.647851,
          0.706898,
          0.724883,
          0.731831,
          0.745726,
          0.780932,
          0.789048,
          0.957763,
          1,
          1.05,
          1.051255,
          1.064049,
          1.091887,
          1.115128,
          1.157153,
          1.157153,
          1.157153,
          1.157153,
          1.157153,
          1.157153,
          1.157153,
          1.157153,
          1.257153,
          1.34369,
          1.407153,
          1.655619,
          1.69161,
          1.8,
          1.80808,
          1.850842,
          1.862265,
          1.862265,
          1.891857,
          1.891857,
          1.891857,
          1.891857,
          1.891857,
          1.891857,
          1.891857,
          1.891857,
          1.891857,
          1.891857,
          1.891857,
          1.891857,
          1.891857,
          1.891857,
          1.891857,
          1.891857,
          1.891857,
          1.891857,
          1.988598,
          2.019699,
          2.019699,
          2.019699,
          2.019699,
          2.019699,
          2.019699,
          2.04878,
          2.087519,
          2.087519,
          2.087519,
          2.087519,
          2.087519,
          2.087519,
          2.087519,
          2.087519,
          2.087519,
          2.087519,
          2.087519,
          2.087519,
          2.087519,
          2.087519,
          2.087519,
          2.087519,
          2.087519,
          2.087519,
          2.087519,
          2.087519,
          2.087519,
          2.087519,
          2.087519,
          2.087519,
          2.087519,
          2.087519,
          2.087519,
          2.087519,
          2.087519,
          2.087519,
          2.087519,
          2.087519,
          2.087519,
          2.088033,
          2.092344,
          2.092344,
          2.120693,
          2.120693,
          2.120693,
          2.120693,
          2.162606,
          2.162606,
          2.162606,
          2.162606,
          2.164993,
          2.19697,
          2.19697,
          2.19697,
          2.207491,
          2.230253,
          2.237691,
          2.237691,
          2.237691,
          2.32835,
          2.41356,
          2.425404,
          2.44884,
          2.463946,
          2.463946,
          2.49432,
          2.51268,
          2.5308,
          2.53392,
          2.53704,
          2.54664,
          2.55252,
          2.560975,
          2.57148,
          2.5872,
          2.62236,
          2.62428,
          2.66388,
          2.726603,
          2.73372,
          2.75508,
          2.795294,
          2.82552,
          2.831348,
          2.8704,
          2.875,
          2.96592,
          2.967212,
          2.99004,
          3,
          3,
          3,
          3.051153,
          3.087519,
          3.08964,
          3.11424,
          3.15,
          3.1932,
          3.21792,
          3.24408,
          3.303771,
          3.303771,
          3.32616,
          3.35268,
          3.366937,
          3.37908,
          3.465,
          3.5,
          3.51048,
          3.51996,
          3.625162,
          3.62844,
          3.6858,
          3.69516,
          3.81912,
          3.85,
          3.87984,
          3.913234,
          3.938271,
          3.960531,
          3.989122,
          4,
          4.02036,
          4.033748,
          4.041249,
          4.0842,
          4.09428,
          4.158439,
          4.2318,
          4.296682,
          4.299,
          4.31028,
          4.3125,
          4.435381,
          4.45488,
          4.510905,
          4.52568,
          4.53684,
          4.668,
          4.668,
          4.689,
          4.710144,
          4.76376,
          4.772772,
          4.77576,
          4.861772,
          4.908373,
          5,
          5,
          5,
          5.01456,
          5.02704,
          5.159854,
          5.168,
          5.168,
          5.19552,
          5.2,
          5.27832,
          5.29116,
          5.424654,
          5.46912,
          5.55588,
          5.57004,
          5.631296,
          5.705887,
          5.75688,
          5.803269,
          5.84868,
          5.893768,
          6,
          6,
          6.05952,
          6.133005,
          6.165,
          6.166667,
          6.26292,
          6.36252,
          6.451077,
          6.5,
          6.61416,
          6.669,
          6.696429,
          6.8364,
          6.94524,
          7,
          7.007092,
          7.142857,
          7.24572,
          7.5,
          7.565217,
          7.60776,
          7.636307,
          7.692308,
          7.723,
          7.975,
          7.97724,
          7.983,
          8,
          8,
          8,
          8,
          8.12,
          8.24532,
          8.25,
          8.352367,
          8.376,
          8.5,
          8.571429,
          8.571429,
          8.780488,
          8.780488,
          8.80956,
          8.888889,
          9.057971,
          9.104167,
          9.10512,
          9.13,
          9.186594,
          9.188385,
          9.24996,
          9.25,
          9.3,
          9.375,
          9.423869,
          9.5,
          9.52381,
          9.77088,
          9.89,
          9.9,
          9.975962,
          10.09896,
          10.13098,
          10.185186,
          10.25916,
          10.46,
          10.514017,
          10.714286,
          10.81,
          10.88064,
          11,
          11,
          11,
          11,
          11.025,
          11.205,
          11.227657,
          11.24568,
          11.423077,
          11.4246,
          11.445,
          11.74321,
          11.95,
          12,
          12.025777,
          12.1608,
          12.428571,
          12.483048,
          12.5,
          12.5,
          12.56904,
          12.578286,
          12.6,
          12.648321,
          12.654321,
          12.76896,
          12.804878,
          12.822,
          12.9,
          12.975,
          12.976362,
          12.976362,
          12.99165,
          13.02525,
          13.02525,
          13.39416,
          13.940809,
          13.986432,
          14,
          14.092577,
          14.318182,
          14.924167,
          15,
          15.212068,
          15.5,
          15.625,
          15.625,
          15.873016,
          16.193183,
          16.5,
          16.615384,
          16.7412,
          16.830357,
          17,
          17.26,
          17.405203,
          18,
          18,
          18.125,
          18.144,
          18.35,
          18.692307,
          19,
          19.241379,
          19.406,
          19.5,
          19.9285,
          20,
          20,
          20.071429,
          20.210284,
          21.395348,
          21.696429,
          22.255493,
          22.26528,
          22.5,
          22.5,
          22.757,
          22.841455,
          23,
          23,
          23.017242,
          23.3,
          23.4,
          24.107143,
          24.456061,
          24.924126,
          24.960001,
          25,
          25.257798,
          25.365854,
          25.794643,
          25.892857,
          26.276786,
          26.58,
          27.173913,
          27.556817,
          29,
          29.268293,
          29.347826,
          29.517135,
          29.651786,
          29.793104,
          30,
          30,
          31,
          32.5,
          33.07392,
          33.333333,
          33.653846,
          34.005126,
          34.00525,
          34.84834,
          34.84834,
          34.84834,
          35.147,
          35.147,
          35.41031,
          35.85995,
          35.85995,
          36.0162,
          36.0162,
          36.637932,
          36.72567,
          36.72567,
          36.72567,
          40.011909,
          40.5,
          41,
          42.1764,
          42.1764,
          42.1764,
          42.1764,
          42.846615,
          43.03194,
          43.03194,
          43.21944,
          43.827586,
          44.53194,
          48.728845,
          48.787676,
          48.787676,
          48.798677,
          49.2058,
          49.2058,
          49.2058,
          49.2058,
          49.2058,
          50.20393,
          51.179021,
          51.415938,
          51.415938,
          55.761216
         ],
         "xaxis": "x",
         "y": [
          5.697779386419416,
          5.697779386419416,
          5.697779386419416,
          5.711917025905026,
          5.718324371295371,
          5.719189315787128,
          5.719189315787128,
          5.719189315787128,
          5.7218014324402535,
          5.7218014324402535,
          5.732346920528445,
          5.735107122591831,
          5.737474917958003,
          5.74019191207675,
          5.74019191207675,
          5.74019191207675,
          5.74019191207675,
          5.74019191207675,
          5.74019191207675,
          5.74019191207675,
          5.74019191207675,
          5.742699544063751,
          5.742699544063751,
          5.753148403475752,
          5.780943288662495,
          5.782604437734085,
          5.832780645443905,
          5.858467375731803,
          5.860249899847876,
          5.860647805738044,
          5.865431318008986,
          5.8654745259536245,
          5.868547396416392,
          5.886279936895899,
          5.886451197476464,
          5.888099384164662,
          5.8909919596584395,
          5.895704768019974,
          5.927403687404525,
          5.928960744609486,
          5.937167897293759,
          5.938117293677308,
          5.942829709239346,
          5.947542517600881,
          5.970736149483155,
          5.977800648431497,
          5.980529819334643,
          5.985987768341437,
          5.999816667422633,
          6.003004628137937,
          6.069275795225477,
          6.085866467568046,
          6.105506442403579,
          6.105999405771951,
          6.111024882532867,
          6.121959634922298,
          6.131088688025351,
          6.147596086874617,
          6.147596086874617,
          6.147596086874617,
          6.147596086874617,
          6.147596086874617,
          6.147596086874617,
          6.147596086874617,
          6.147596086874617,
          6.186876036545684,
          6.220867726592535,
          6.245795961052283,
          6.343393280801996,
          6.35753052748811,
          6.400106064936579,
          6.403279884870001,
          6.420076776948343,
          6.424563725599269,
          6.424563725599269,
          6.4361874483059305,
          6.4361874483059305,
          6.4361874483059305,
          6.4361874483059305,
          6.4361874483059305,
          6.4361874483059305,
          6.4361874483059305,
          6.4361874483059305,
          6.4361874483059305,
          6.4361874483059305,
          6.4361874483059305,
          6.4361874483059305,
          6.4361874483059305,
          6.4361874483059305,
          6.4361874483059305,
          6.4361874483059305,
          6.4361874483059305,
          6.4361874483059305,
          6.474187264417218,
          6.4864037215644155,
          6.4864037215644155,
          6.4864037215644155,
          6.4864037215644155,
          6.4864037215644155,
          6.4864037215644155,
          6.4978267237282585,
          6.5130433834313335,
          6.5130433834313335,
          6.5130433834313335,
          6.5130433834313335,
          6.5130433834313335,
          6.5130433834313335,
          6.5130433834313335,
          6.5130433834313335,
          6.5130433834313335,
          6.5130433834313335,
          6.5130433834313335,
          6.5130433834313335,
          6.5130433834313335,
          6.5130433834313335,
          6.5130433834313335,
          6.5130433834313335,
          6.5130433834313335,
          6.5130433834313335,
          6.5130433834313335,
          6.5130433834313335,
          6.5130433834313335,
          6.5130433834313335,
          6.5130433834313335,
          6.5130433834313335,
          6.5130433834313335,
          6.5130433834313335,
          6.5130433834313335,
          6.5130433834313335,
          6.5130433834313335,
          6.5130433834313335,
          6.5130433834313335,
          6.5130433834313335,
          6.5130433834313335,
          6.513245282372642,
          6.514938641002963,
          6.514938641002963,
          6.526074113935213,
          6.526074113935213,
          6.526074113935213,
          6.526074113935213,
          6.542537519240847,
          6.542537519240847,
          6.542537519240847,
          6.542537519240847,
          6.543475131639496,
          6.556035681145812,
          6.556035681145812,
          6.556035681145812,
          6.560168324650705,
          6.569109226794834,
          6.572030869451368,
          6.572030869451368,
          6.572030869451368,
          6.60764167902366,
          6.641112124138376,
          6.645764441377417,
          6.654970090382328,
          6.66090371957964,
          6.66090371957964,
          6.672834611492729,
          6.680046410252337,
          6.687163937132734,
          6.688389471562472,
          6.689615005992209,
          6.693385881160632,
          6.69569554220129,
          6.699016661945979,
          6.703143020658924,
          6.709317828747216,
          6.723128659051563,
          6.723882834085248,
          6.73943769415499,
          6.764075256987173,
          6.766870811005263,
          6.775261008255002,
          6.791057047215725,
          6.802929804803302,
          6.805219040270132,
          6.820558646215677,
          6.822365523900546,
          6.85807885414148,
          6.85858635109123,
          6.867553178002141,
          6.871465460989379,
          6.871465460989379,
          6.871465460989379,
          6.89155833364462,
          6.905842880142,
          6.906676007874523,
          6.916338875493606,
          6.930385385495979,
          6.94735432375388,
          6.957064327312568,
          6.967339962146519,
          6.990786556904675,
          6.990786556904675,
          6.999580944836531,
          7.009997987489298,
          7.015598129913901,
          7.020367894202459,
          7.054117226959839,
          7.0678652093447125,
          7.0719817480702405,
          7.075705487299057,
          7.1170287799520136,
          7.11831637670223,
          7.140847355833555,
          7.1445239591227665,
          7.193215384735021,
          7.205345033193446,
          7.2170661701752925,
          7.230183316568448,
          7.240017837567594,
          7.248761554364373,
          7.259992084774828,
          7.264264957700046,
          7.272262355453075,
          7.277521155115037,
          7.2804675441398645,
          7.2973386753230844,
          7.301298094249928,
          7.326499717159388,
          7.355315881037579,
          7.38080149798316,
          7.381712007216536,
          7.386142785539432,
          7.387014800422129,
          7.435282395377433,
          7.442941592763795,
          7.464948184567009,
          7.47075179713091,
          7.475135439514201,
          7.526655021502772,
          7.526655021502772,
          7.534903810933695,
          7.543209163492146,
          7.564269501307786,
          7.567809410372142,
          7.5689830952683135,
          7.602768565579391,
          7.621073414925605,
          7.657064454410714,
          7.657064454410714,
          7.657064454410714,
          7.66278361508282,
          7.66768575280177,
          7.7198550251579,
          7.723054769858106,
          7.723054769858106,
          7.733864612007583,
          7.735624353752847,
          7.766388410335226,
          7.771431955872991,
          7.823868331886885,
          7.841334554307622,
          7.875413838642238,
          7.8809758795156615,
          7.90503720548617,
          7.934336512745316,
          7.954366537481082,
          7.972588113333994,
          7.990425531279122,
          8.008136074986812,
          8.049863951121381,
          8.049863951121381,
          8.0732433771656,
          8.102108248181382,
          8.11467586807864,
          8.115330664839657,
          8.153138794796549,
          8.19226162466893,
          8.227046769699138,
          8.246263699476714,
          8.291105690021203,
          8.312646814420816,
          8.323420911816093,
          8.378401450170182,
          8.421153747392172,
          8.442663447832047,
          8.445449181862719,
          8.498777605533643,
          8.539182140163792,
          8.63906319618738,
          8.664680400964361,
          8.681391269952922,
          8.692604517185522,
          8.714601681800815,
          8.72665748395386,
          8.825642957124947,
          8.826522827997579,
          8.828785353098633,
          8.835462944542714,
          8.835462944542714,
          8.835462944542714,
          8.835462944542714,
          8.882598884147994,
          8.931824517075775,
          8.93366281872038,
          8.97387252480016,
          8.983155555305924,
          9.031862692898049,
          9.059919968148593,
          9.059919968148593,
          9.142038238131429,
          9.142038238131429,
          9.1534577050998,
          9.184618096374361,
          9.251033420877196,
          9.269179186427241,
          9.269553524347605,
          9.279326375825768,
          9.30155647054261,
          9.30225997444122,
          9.32644660345118,
          9.326462315431048,
          9.34610229026658,
          9.375562252519881,
          9.394757971124635,
          9.424662189608714,
          9.434014745625396,
          9.5310637172777,
          9.577853993325874,
          9.581781988292981,
          9.611619823662117,
          9.659933376158536,
          9.67251081604321,
          9.69380290556191,
          9.722859855531585,
          9.801749706450956,
          9.822967556864775,
          9.901633119271523,
          9.939229530299688,
          9.966976886747329,
          10.013861434674714,
          10.013861434674714,
          10.013861434674714,
          10.013861434674714,
          10.023681422092482,
          10.094385331500401,
          10.103284989697375,
          10.110364415026591,
          10.180045867344575,
          10.180644100978064,
          10.18865721071096,
          10.305793948625048,
          10.387020956549847,
          10.406660931385382,
          10.416786124012091,
          10.469823090456458,
          10.575003404490168,
          10.596401942672475,
          10.603060679740715,
          10.603060679740715,
          10.63017955699362,
          10.633811381140205,
          10.642340629411782,
          10.661321093892337,
          10.663677890872602,
          10.708708032376016,
          10.72281660469887,
          10.72954211768155,
          10.760180478424981,
          10.789640440678282,
          10.790175433592802,
          10.790175433592802,
          10.796180552298514,
          10.809378615387992,
          10.809378615387992,
          10.954286277719525,
          11.169009729796915,
          11.186930421235346,
          11.192259924806716,
          11.228624123813699,
          11.31724165426911,
          11.555272257283324,
          11.585059421517382,
          11.66835962518582,
          11.781459169872715,
          11.830559106961548,
          11.830559106961548,
          11.927979666937741,
          12.053741103401107,
          12.174258666583384,
          12.219581443711846,
          12.269001905189995,
          12.304022729918229,
          12.370658414938717,
          12.47278628408349,
          12.529821949404369,
          12.763457911649382,
          12.763457911649382,
          12.812557848738216,
          12.820021039175717,
          12.900937735498118,
          13.035395752818655,
          13.15625740836005,
          13.251070958076575,
          13.31573400402458,
          13.352657156715384,
          13.520971741055904,
          13.549056905070717,
          13.549056905070717,
          13.577114180321264,
          13.631656354437023,
          14.097148897206953,
          14.215413362476097,
          14.43501342030515,
          14.438857748979457,
          14.531055646847385,
          14.531055646847385,
          14.632005117502027,
          14.665178998996725,
          14.727455395202718,
          14.727455395202718,
          14.734228044125004,
          14.845295244215919,
          14.884575193886985,
          15.162340608389457,
          15.299395423182748,
          15.483251119610626,
          15.49734280155512,
          15.513054388624052,
          15.614317313277068,
          15.656761655693636,
          15.825189759088707,
          15.863768168858648,
          16.014575286831278,
          16.133677593426903,
          16.366966320916827,
          16.51737081940533,
          17.08425237546672,
          17.189637730837717,
          17.220878253209605,
          17.28738274319819,
          17.340273588229778,
          17.395783227505937,
          17.477051872177384,
          17.477051872177384,
          17.869851368888053,
          18.459050613954055,
          18.684486101106238,
          18.786383396946448,
          18.91228074203567,
          19.05026334924019,
          19.050312056377784,
          19.38147738405958,
          19.38147738405958,
          19.38147738405958,
          19.49879088174719,
          19.49879088174719,
          19.602218917226075,
          19.778837282927057,
          19.778837282927057,
          19.8402122042881,
          19.8402122042881,
          20.084428220977017,
          20.11889166321942,
          20.11889166321942,
          20.11889166321942,
          21.409724688490385,
          21.601446587639387,
          21.79784633599472,
          22.259935663925155,
          22.259935663925155,
          22.259935663925155,
          22.259935663925155,
          22.523195778613093,
          22.595991345340998,
          22.595991345340998,
          22.669641250974244,
          22.90852069370085,
          23.185190590406997,
          24.83373276214948,
          24.85684154934046,
          24.85684154934046,
          24.861162736603774,
          25.021080446103113,
          25.021080446103113,
          25.021080446103113,
          25.021080446103113,
          25.021080446103113,
          25.413145407754932,
          25.796160661802034,
          25.889221540164236,
          25.889221540164236,
          27.59604455163217
         ],
         "yaxis": "y"
        }
       ],
       "layout": {
        "autosize": true,
        "legend": {
         "tracegroupgap": 0
        },
        "template": {
         "data": {
          "bar": [
           {
            "error_x": {
             "color": "#2a3f5f"
            },
            "error_y": {
             "color": "#2a3f5f"
            },
            "marker": {
             "line": {
              "color": "white",
              "width": 0.5
             },
             "pattern": {
              "fillmode": "overlay",
              "size": 10,
              "solidity": 0.2
             }
            },
            "type": "bar"
           }
          ],
          "barpolar": [
           {
            "marker": {
             "line": {
              "color": "white",
              "width": 0.5
             },
             "pattern": {
              "fillmode": "overlay",
              "size": 10,
              "solidity": 0.2
             }
            },
            "type": "barpolar"
           }
          ],
          "carpet": [
           {
            "aaxis": {
             "endlinecolor": "#2a3f5f",
             "gridcolor": "#C8D4E3",
             "linecolor": "#C8D4E3",
             "minorgridcolor": "#C8D4E3",
             "startlinecolor": "#2a3f5f"
            },
            "baxis": {
             "endlinecolor": "#2a3f5f",
             "gridcolor": "#C8D4E3",
             "linecolor": "#C8D4E3",
             "minorgridcolor": "#C8D4E3",
             "startlinecolor": "#2a3f5f"
            },
            "type": "carpet"
           }
          ],
          "choropleth": [
           {
            "colorbar": {
             "outlinewidth": 0,
             "ticks": ""
            },
            "type": "choropleth"
           }
          ],
          "contour": [
           {
            "colorbar": {
             "outlinewidth": 0,
             "ticks": ""
            },
            "colorscale": [
             [
              0,
              "#0d0887"
             ],
             [
              0.1111111111111111,
              "#46039f"
             ],
             [
              0.2222222222222222,
              "#7201a8"
             ],
             [
              0.3333333333333333,
              "#9c179e"
             ],
             [
              0.4444444444444444,
              "#bd3786"
             ],
             [
              0.5555555555555556,
              "#d8576b"
             ],
             [
              0.6666666666666666,
              "#ed7953"
             ],
             [
              0.7777777777777778,
              "#fb9f3a"
             ],
             [
              0.8888888888888888,
              "#fdca26"
             ],
             [
              1,
              "#f0f921"
             ]
            ],
            "type": "contour"
           }
          ],
          "contourcarpet": [
           {
            "colorbar": {
             "outlinewidth": 0,
             "ticks": ""
            },
            "type": "contourcarpet"
           }
          ],
          "heatmap": [
           {
            "colorbar": {
             "outlinewidth": 0,
             "ticks": ""
            },
            "colorscale": [
             [
              0,
              "#0d0887"
             ],
             [
              0.1111111111111111,
              "#46039f"
             ],
             [
              0.2222222222222222,
              "#7201a8"
             ],
             [
              0.3333333333333333,
              "#9c179e"
             ],
             [
              0.4444444444444444,
              "#bd3786"
             ],
             [
              0.5555555555555556,
              "#d8576b"
             ],
             [
              0.6666666666666666,
              "#ed7953"
             ],
             [
              0.7777777777777778,
              "#fb9f3a"
             ],
             [
              0.8888888888888888,
              "#fdca26"
             ],
             [
              1,
              "#f0f921"
             ]
            ],
            "type": "heatmap"
           }
          ],
          "heatmapgl": [
           {
            "colorbar": {
             "outlinewidth": 0,
             "ticks": ""
            },
            "colorscale": [
             [
              0,
              "#0d0887"
             ],
             [
              0.1111111111111111,
              "#46039f"
             ],
             [
              0.2222222222222222,
              "#7201a8"
             ],
             [
              0.3333333333333333,
              "#9c179e"
             ],
             [
              0.4444444444444444,
              "#bd3786"
             ],
             [
              0.5555555555555556,
              "#d8576b"
             ],
             [
              0.6666666666666666,
              "#ed7953"
             ],
             [
              0.7777777777777778,
              "#fb9f3a"
             ],
             [
              0.8888888888888888,
              "#fdca26"
             ],
             [
              1,
              "#f0f921"
             ]
            ],
            "type": "heatmapgl"
           }
          ],
          "histogram": [
           {
            "marker": {
             "pattern": {
              "fillmode": "overlay",
              "size": 10,
              "solidity": 0.2
             }
            },
            "type": "histogram"
           }
          ],
          "histogram2d": [
           {
            "colorbar": {
             "outlinewidth": 0,
             "ticks": ""
            },
            "colorscale": [
             [
              0,
              "#0d0887"
             ],
             [
              0.1111111111111111,
              "#46039f"
             ],
             [
              0.2222222222222222,
              "#7201a8"
             ],
             [
              0.3333333333333333,
              "#9c179e"
             ],
             [
              0.4444444444444444,
              "#bd3786"
             ],
             [
              0.5555555555555556,
              "#d8576b"
             ],
             [
              0.6666666666666666,
              "#ed7953"
             ],
             [
              0.7777777777777778,
              "#fb9f3a"
             ],
             [
              0.8888888888888888,
              "#fdca26"
             ],
             [
              1,
              "#f0f921"
             ]
            ],
            "type": "histogram2d"
           }
          ],
          "histogram2dcontour": [
           {
            "colorbar": {
             "outlinewidth": 0,
             "ticks": ""
            },
            "colorscale": [
             [
              0,
              "#0d0887"
             ],
             [
              0.1111111111111111,
              "#46039f"
             ],
             [
              0.2222222222222222,
              "#7201a8"
             ],
             [
              0.3333333333333333,
              "#9c179e"
             ],
             [
              0.4444444444444444,
              "#bd3786"
             ],
             [
              0.5555555555555556,
              "#d8576b"
             ],
             [
              0.6666666666666666,
              "#ed7953"
             ],
             [
              0.7777777777777778,
              "#fb9f3a"
             ],
             [
              0.8888888888888888,
              "#fdca26"
             ],
             [
              1,
              "#f0f921"
             ]
            ],
            "type": "histogram2dcontour"
           }
          ],
          "mesh3d": [
           {
            "colorbar": {
             "outlinewidth": 0,
             "ticks": ""
            },
            "type": "mesh3d"
           }
          ],
          "parcoords": [
           {
            "line": {
             "colorbar": {
              "outlinewidth": 0,
              "ticks": ""
             }
            },
            "type": "parcoords"
           }
          ],
          "pie": [
           {
            "automargin": true,
            "type": "pie"
           }
          ],
          "scatter": [
           {
            "fillpattern": {
             "fillmode": "overlay",
             "size": 10,
             "solidity": 0.2
            },
            "type": "scatter"
           }
          ],
          "scatter3d": [
           {
            "line": {
             "colorbar": {
              "outlinewidth": 0,
              "ticks": ""
             }
            },
            "marker": {
             "colorbar": {
              "outlinewidth": 0,
              "ticks": ""
             }
            },
            "type": "scatter3d"
           }
          ],
          "scattercarpet": [
           {
            "marker": {
             "colorbar": {
              "outlinewidth": 0,
              "ticks": ""
             }
            },
            "type": "scattercarpet"
           }
          ],
          "scattergeo": [
           {
            "marker": {
             "colorbar": {
              "outlinewidth": 0,
              "ticks": ""
             }
            },
            "type": "scattergeo"
           }
          ],
          "scattergl": [
           {
            "marker": {
             "colorbar": {
              "outlinewidth": 0,
              "ticks": ""
             }
            },
            "type": "scattergl"
           }
          ],
          "scattermapbox": [
           {
            "marker": {
             "colorbar": {
              "outlinewidth": 0,
              "ticks": ""
             }
            },
            "type": "scattermapbox"
           }
          ],
          "scatterpolar": [
           {
            "marker": {
             "colorbar": {
              "outlinewidth": 0,
              "ticks": ""
             }
            },
            "type": "scatterpolar"
           }
          ],
          "scatterpolargl": [
           {
            "marker": {
             "colorbar": {
              "outlinewidth": 0,
              "ticks": ""
             }
            },
            "type": "scatterpolargl"
           }
          ],
          "scatterternary": [
           {
            "marker": {
             "colorbar": {
              "outlinewidth": 0,
              "ticks": ""
             }
            },
            "type": "scatterternary"
           }
          ],
          "surface": [
           {
            "colorbar": {
             "outlinewidth": 0,
             "ticks": ""
            },
            "colorscale": [
             [
              0,
              "#0d0887"
             ],
             [
              0.1111111111111111,
              "#46039f"
             ],
             [
              0.2222222222222222,
              "#7201a8"
             ],
             [
              0.3333333333333333,
              "#9c179e"
             ],
             [
              0.4444444444444444,
              "#bd3786"
             ],
             [
              0.5555555555555556,
              "#d8576b"
             ],
             [
              0.6666666666666666,
              "#ed7953"
             ],
             [
              0.7777777777777778,
              "#fb9f3a"
             ],
             [
              0.8888888888888888,
              "#fdca26"
             ],
             [
              1,
              "#f0f921"
             ]
            ],
            "type": "surface"
           }
          ],
          "table": [
           {
            "cells": {
             "fill": {
              "color": "#EBF0F8"
             },
             "line": {
              "color": "white"
             }
            },
            "header": {
             "fill": {
              "color": "#C8D4E3"
             },
             "line": {
              "color": "white"
             }
            },
            "type": "table"
           }
          ]
         },
         "layout": {
          "annotationdefaults": {
           "arrowcolor": "#2a3f5f",
           "arrowhead": 0,
           "arrowwidth": 1
          },
          "autotypenumbers": "strict",
          "coloraxis": {
           "colorbar": {
            "outlinewidth": 0,
            "ticks": ""
           }
          },
          "colorscale": {
           "diverging": [
            [
             0,
             "#8e0152"
            ],
            [
             0.1,
             "#c51b7d"
            ],
            [
             0.2,
             "#de77ae"
            ],
            [
             0.3,
             "#f1b6da"
            ],
            [
             0.4,
             "#fde0ef"
            ],
            [
             0.5,
             "#f7f7f7"
            ],
            [
             0.6,
             "#e6f5d0"
            ],
            [
             0.7,
             "#b8e186"
            ],
            [
             0.8,
             "#7fbc41"
            ],
            [
             0.9,
             "#4d9221"
            ],
            [
             1,
             "#276419"
            ]
           ],
           "sequential": [
            [
             0,
             "#0d0887"
            ],
            [
             0.1111111111111111,
             "#46039f"
            ],
            [
             0.2222222222222222,
             "#7201a8"
            ],
            [
             0.3333333333333333,
             "#9c179e"
            ],
            [
             0.4444444444444444,
             "#bd3786"
            ],
            [
             0.5555555555555556,
             "#d8576b"
            ],
            [
             0.6666666666666666,
             "#ed7953"
            ],
            [
             0.7777777777777778,
             "#fb9f3a"
            ],
            [
             0.8888888888888888,
             "#fdca26"
            ],
            [
             1,
             "#f0f921"
            ]
           ],
           "sequentialminus": [
            [
             0,
             "#0d0887"
            ],
            [
             0.1111111111111111,
             "#46039f"
            ],
            [
             0.2222222222222222,
             "#7201a8"
            ],
            [
             0.3333333333333333,
             "#9c179e"
            ],
            [
             0.4444444444444444,
             "#bd3786"
            ],
            [
             0.5555555555555556,
             "#d8576b"
            ],
            [
             0.6666666666666666,
             "#ed7953"
            ],
            [
             0.7777777777777778,
             "#fb9f3a"
            ],
            [
             0.8888888888888888,
             "#fdca26"
            ],
            [
             1,
             "#f0f921"
            ]
           ]
          },
          "colorway": [
           "#636efa",
           "#EF553B",
           "#00cc96",
           "#ab63fa",
           "#FFA15A",
           "#19d3f3",
           "#FF6692",
           "#B6E880",
           "#FF97FF",
           "#FECB52"
          ],
          "font": {
           "color": "#2a3f5f"
          },
          "geo": {
           "bgcolor": "white",
           "lakecolor": "white",
           "landcolor": "white",
           "showlakes": true,
           "showland": true,
           "subunitcolor": "#C8D4E3"
          },
          "hoverlabel": {
           "align": "left"
          },
          "hovermode": "closest",
          "mapbox": {
           "style": "light"
          },
          "paper_bgcolor": "white",
          "plot_bgcolor": "white",
          "polar": {
           "angularaxis": {
            "gridcolor": "#EBF0F8",
            "linecolor": "#EBF0F8",
            "ticks": ""
           },
           "bgcolor": "white",
           "radialaxis": {
            "gridcolor": "#EBF0F8",
            "linecolor": "#EBF0F8",
            "ticks": ""
           }
          },
          "scene": {
           "xaxis": {
            "backgroundcolor": "white",
            "gridcolor": "#DFE8F3",
            "gridwidth": 2,
            "linecolor": "#EBF0F8",
            "showbackground": true,
            "ticks": "",
            "zerolinecolor": "#EBF0F8"
           },
           "yaxis": {
            "backgroundcolor": "white",
            "gridcolor": "#DFE8F3",
            "gridwidth": 2,
            "linecolor": "#EBF0F8",
            "showbackground": true,
            "ticks": "",
            "zerolinecolor": "#EBF0F8"
           },
           "zaxis": {
            "backgroundcolor": "white",
            "gridcolor": "#DFE8F3",
            "gridwidth": 2,
            "linecolor": "#EBF0F8",
            "showbackground": true,
            "ticks": "",
            "zerolinecolor": "#EBF0F8"
           }
          },
          "shapedefaults": {
           "line": {
            "color": "#2a3f5f"
           }
          },
          "ternary": {
           "aaxis": {
            "gridcolor": "#DFE8F3",
            "linecolor": "#A2B1C6",
            "ticks": ""
           },
           "baxis": {
            "gridcolor": "#DFE8F3",
            "linecolor": "#A2B1C6",
            "ticks": ""
           },
           "bgcolor": "white",
           "caxis": {
            "gridcolor": "#DFE8F3",
            "linecolor": "#A2B1C6",
            "ticks": ""
           }
          },
          "title": {
           "x": 0.05
          },
          "xaxis": {
           "automargin": true,
           "gridcolor": "#EBF0F8",
           "linecolor": "#EBF0F8",
           "ticks": "",
           "title": {
            "standoff": 15
           },
           "zerolinecolor": "#EBF0F8",
           "zerolinewidth": 2
          },
          "yaxis": {
           "automargin": true,
           "gridcolor": "#EBF0F8",
           "linecolor": "#EBF0F8",
           "ticks": "",
           "title": {
            "standoff": 15
           },
           "zerolinecolor": "#EBF0F8",
           "zerolinewidth": 2
          }
         }
        },
        "title": {
         "text": "Salary vs PTS"
        },
        "xaxis": {
         "anchor": "y",
         "autorange": true,
         "domain": [
          0,
          1
         ],
         "range": [
          -3.5706330611285266,
          59.343846061128524
         ],
         "tickprefix": "$",
         "ticksuffix": "M",
         "title": {
          "text": "Salary ($M)"
         },
         "type": "linear"
        },
        "yaxis": {
         "anchor": "x",
         "autorange": true,
         "domain": [
          0,
          1
         ],
         "range": [
          -2.6985436893203887,
          35.39854368932039
         ],
         "title": {
          "text": "PTS"
         },
         "type": "linear"
        }
       }
      },
      "text/html": [
       "<div>                            <div id=\"18724a03-6561-42b9-9ba8-81e4bd20c0fd\" class=\"plotly-graph-div\" style=\"height:525px; width:100%;\"></div>            <script type=\"text/javascript\">                require([\"plotly\"], function(Plotly) {                    window.PLOTLYENV=window.PLOTLYENV || {};                                    if (document.getElementById(\"18724a03-6561-42b9-9ba8-81e4bd20c0fd\")) {                    Plotly.newPlot(                        \"18724a03-6561-42b9-9ba8-81e4bd20c0fd\",                        [{\"customdata\":[[\"Shai Gilgeous-Alexander\"],[\"Giannis Antetokounmpo\"],[\"Nikola Jokic\"],[\"Anthony Edwards\"],[\"Jayson Tatum\"],[\"Kevin Durant\"],[\"Tyrese Maxey\"],[\"Cade Cunningham\"],[\"Jalen Brunson\"],[\"Paolo Banchero\"],[\"Devin Booker\"],[\"LaMelo Ball\"],[\"Damian Lillard\"],[\"Kyrie Irving\"],[\"Zion Williamson\"],[\"Stephen Curry\"],[\"LeBron James\"],[\"Karl-Anthony Towns\"],[\"Victor Wembanyama\"],[\"Franz Wagner\"],[\"Trae Young\"],[\"Donovan Mitchell\"],[\"Cam Thomas\"],[\"Tyler Herro\"],[\"Joel Embiid\"],[\"Ja Morant\"],[\"James Harden\"],[\"Jaylen Brown\"],[\"DeMar DeRozan\"],[\"Brandon Ingram\"],[\"Jaren Jackson Jr.\"],[\"Norman Powell\"],[\"Jalen Williams\"],[\"Kawhi Leonard\"],[\"Jamal Murray\"],[\"Trey Murphy III\"],[\"RJ Barrett\"],[\"CJ McCollum\"],[\"Jalen Green\"],[\"Brandon Miller\"],[\"Darius Garland\"],[\"Jordan Poole\"],[\"Coby White\"],[\"Miles Bridges\"],[\"Austin Reaves\"],[\"Pascal Siakam\"],[\"Kristaps Porzingis\"],[\"Scottie Barnes\"],[\"Anfernee Simons\"],[\"Desmond Bane\"],[\"Domantas Sabonis\"],[\"Alperen Sengun\"],[\"John Collins\"],[\"Lauri Markkanen\"],[\"Jalen Johnson\"],[\"Cameron Johnson\"],[\"Julius Randle\"],[\"Tyrese Haliburton\"],[\"Evan Mobley\"],[\"Shaedon Sharpe\"],[\"Nikola Vucevic\"],[\"Collin Sexton\"],[\"Michael Porter Jr.\"],[\"Bam Adebayo\"],[\"OG Anunoby\"],[\"Mikal Bridges\"],[\"Jaden Ivey\"],[\"Dejounte Murray\"],[\"Malik Monk\"],[\"Immanuel Quickley\"],[\"Bradley Beal\"],[\"Deni Avdija\"],[\"Keyonte George\"],[\"Ivica Zubac\"],[\"Derrick White\"],[\"Malik Beasley\"],[\"Devin Vassell\"],[\"Jordan Clarkson\"],[\"Paul George\"],[\"Jalen Suggs\"],[\"Bennedict Mathurin\"],[\"Myles Turner\"],[\"Christian Braun\"],[\"Jonathan Kuminga\"],[\"Jared McCain\"],[\"Mark Williams\"],[\"Kelly Oubre Jr.\"],[\"Chet Holmgren\"],[\"Stephon Castle\"],[\"Aaron Gordon\"],[\"P.J. Washington\"],[\"Josh Giddey\"],[\"Jakob Poeltl\"],[\"Deandre Ayton\"],[\"Gradey Dick\"],[\"Jerami Grant\"],[\"Payton Pritchard\"],[\"Naz Reid\"],[\"Dyson Daniels\"],[\"Tre Mann\"],[\"Amen Thompson\"],[\"Fred VanVleet\"],[\"Dillon Brooks\"],[\"Klay Thompson\"],[\"Bobby Portis\"],[\"Tobias Harris\"],[\"Josh Hart\"],[\"Jarrett Allen\"],[\"Onyeka Okongwu\"],[\"Russell Westbrook\"],[\"Naji Marshall\"],[\"Rui Hachimura\"],[\"Brook Lopez\"],[\"Alex Sarr\"],[\"Moritz Wagner\"],[\"Malcolm Brogdon\"],[\"Scoot Henderson\"],[\"Keldon Johnson\"],[\"Zaccharie Risacher\"],[\"Santi Aldama\"],[\"Ty Jerome\"],[\"Keegan Murray\"],[\"Lonnie Walker IV\"],[\"Harrison Barnes\"],[\"Bilal Coulibaly\"],[\"Ayo Dosunmu\"],[\"Daniel Gafford\"],[\"Jaden McDaniels\"],[\"Jabari Smith Jr.\"],[\"Drew Timme\"],[\"Tari Eason\"],[\"Rudy Gobert\"],[\"Aaron Nesmith\"],[\"Aaron Wiggins\"],[\"Jalen Duren\"],[\"Donte DiVincenzo\"],[\"Brandin Podziemski\"],[\"Corey Kispert\"],[\"Jeremy Sochan\"],[\"Toumani Camara\"],[\"Isaiah Hartenstein\"],[\"Buddy Hield\"],[\"Jrue Holiday\"],[\"Walker Kessler\"],[\"Gary Trent Jr.\"],[\"Spencer Dinwiddie\"],[\"Tim Hardaway Jr.\"],[\"Duncan Robinson\"],[\"Guerschon Yabusele\"],[\"Brice Sensabaugh\"],[\"Jordan Hawkins\"],[\"Brandon Boston Jr.\"],[\"Grayson Allen\"],[\"Keon Johnson\"],[\"Terry Rozier\"],[\"Obi Toppin\"],[\"Ochai Agbaji\"],[\"Jaylen Wells\"],[\"Grant Williams\"],[\"Jose Alvarado\"],[\"Nic Claxton\"],[\"Herbert Jones\"],[\"De'Anthony Melton\"],[\"Isaiah Joe\"],[\"Tyus Jones\"],[\"Trendon Watford\"],[\"Luguentz Dort\"],[\"Justin Edwards\"],[\"Derrick Jones Jr.\"],[\"Ausar Thompson\"],[\"Chris Boucher\"],[\"Andrew Nembhard\"],[\"Ziaire Williams\"],[\"Julian Champagnie\"],[\"Scotty Pippen Jr.\"],[\"Nick Smith Jr.\"],[\"Bub Carrington\"],[\"Moses Moody\"],[\"Amir Coffey\"],[\"Kyle Filipowski\"],[\"Miles McBride\"],[\"Jalen Wilson\"],[\"Nickeil Alexander-Walker\"],[\"Cole Anthony\"],[\"Anthony Black\"],[\"Max Strus\"],[\"Cam Whitmore\"],[\"Kel'el Ware\"],[\"Zach Edey\"],[\"Wendell Carter Jr.\"],[\"Noah Clowney\"],[\"Dalton Knecht\"],[\"A.J. Lawson\"],[\"T.J. McConnell\"],[\"Yves Missi\"],[\"Royce O'Neale\"],[\"Draymond Green\"],[\"Killian Hayes\"],[\"Al Horford\"],[\"Julian Strawther\"],[\"Patrick Williams\"],[\"Clint Capela\"],[\"Johnny Juzang\"],[\"Luke Kennard\"],[\"Justin Champagnie\"],[\"Svi Mykhailiuk\"],[\"Chris Paul\"],[\"Oshae Brissett\"],[\"Kentavious Caldwell-Pope\"],[\"Isaiah Collier\"],[\"Dante Exum\"],[\"Kyshawn George\"],[\"Jaden Hardy\"],[\"Dereck Lively II\"],[\"Tyrese Martin\"],[\"Matas Buzelis\"],[\"Jaime Jaquez Jr.\"],[\"Ja'Kobe Walter\"],[\"Sam Hauser\"],[\"Larry Nance Jr.\"],[\"Jaylen Nowell\"],[\"Cason Wallace\"],[\"Dalano Banton\"],[\"Brandon Clarke\"],[\"Keon Ellis\"],[\"Brandon Williams\"],[\"Mike Conley\"],[\"Taurean Prince\"],[\"Jalen Smith\"],[\"Quinten Post\"],[\"Peyton Watson\"],[\"Day'Ron Sharpe\"],[\"Karlo Matkovic\"],[\"Lonzo Ball\"],[\"Garrison Mathews\"],[\"Matisse Thybulle\"],[\"A.J. Green\"],[\"Josh Green\"],[\"Richaun Holmes\"],[\"Alec Burks\"],[\"Ricky Council IV\"],[\"Andre Drummond\"],[\"Goga Bitadze\"],[\"Tristan Da Silva\"],[\"GG Jackson II\"],[\"Vit Krejci\"],[\"Sam Merrill\"],[\"Nae'Qwan Tomlin\"],[\"Jamison Battle\"],[\"Alex Caruso\"],[\"Jamal Shead\"],[\"Marcus Garrett\"],[\"Isaiah Jackson\"],[\"Jaylen Sims\"],[\"Ryan Dunn\"],[\"Jay Huff\"],[\"Cameron Payne\"],[\"Antonio Reeves\"],[\"Bol Bol\"],[\"Eric Gordon\"],[\"Jaxson Hayes\"],[\"Marcus Bagley\"],[\"DaQuan Jeffries\"],[\"Precious Achiuwa\"],[\"Trayce Jackson-Davis\"],[\"Marcus Sasser\"],[\"Vince Williams Jr.\"],[\"Donovan Clingan\"],[\"Seth Curry\"],[\"Haywood Highsmith\"],[\"Talen Horton-Tucker\"],[\"Trey Lyles\"],[\"Ajay Mitchell\"],[\"Gary Payton II\"],[\"Kris Dunn\"],[\"Ron Holland\"],[\"Gabe Vincent\"],[\"Sandro Mamukelashvili\"],[\"Jeremiah Robinson-Earl\"],[\"Kenrich Williams\"],[\"Jonathan Mogbo\"],[\"Ryan Rollins\"],[\"Isaac Okoro\"],[\"Jarace Walker\"],[\"Mouhamed Gueye\"],[\"Luke Kornet\"],[\"Isaiah Mobley\"],[\"Isaiah Stewart\"],[\"James Wiseman\"],[\"Simone Fontecchio\"],[\"Jaylin Williams\"],[\"Adem Bona\"],[\"Robert Williams\"],[\"Moussa Diabate\"],[\"Dariq Whitehead\"],[\"Landry Shamet\"],[\"Jordan Goodwin\"],[\"Aaron Holiday\"],[\"Jeff Green\"],[\"Jonathan Isaac\"],[\"Dean Wade\"],[\"Kobe Bufkin\"],[\"Pat Connaughton\"],[\"Kevin Love\"],[\"Ben Sheppard\"],[\"Monte Morris\"],[\"Jabari Walker\"],[\"Bismack Biyombo\"],[\"Mitchell Robinson\"],[\"Malaki Branham\"],[\"Neemias Queta\"],[\"Jock Landale\"],[\"Taylor Hendricks\"],[\"Pelle Larsson\"],[\"Julian Phillips\"],[\"Cody Williams\"],[\"Rob Dillingham\"],[\"Jett Howard\"],[\"Kevon Looney\"],[\"Mason Plumlee\"],[\"Dalen Terry\"],[\"Charles Bassey\"],[\"Tony Bradley\"],[\"Reggie Jackson\"],[\"Reed Sheppard\"],[\"Lamar Stevens\"],[\"Jevon Carter\"],[\"Terrence Shannon Jr.\"],[\"Daniel Theis\"],[\"Dominick Barlow\"],[\"Oso Ighodaro\"],[\"Kris Murray\"],[\"Duop Reath\"],[\"Jaylen Clark\"],[\"Caleb Houstan\"],[\"Jordan Miller\"],[\"Jalen Pickett\"],[\"Paul Reed\"],[\"Gui Santos\"],[\"Jarred Vanderbilt\"],[\"Nicolas Batum\"],[\"Malachi Flynn\"],[\"Josh Richardson\"],[\"Steven Adams\"],[\"Kyle Lowry\"],[\"Olivier-Maxence Prosper\"],[\"Branden Carlson\"],[\"Devin Carter\"],[\"Ousmane Dieng\"],[\"DeAndre Jordan\"],[\"Craig Porter Jr.\"],[\"Blake Wesley\"],[\"Baylor Scheierman\"],[\"Jae'Sean Tate\"],[\"Jaylon Tyson\"],[\"Luka Garza\"],[\"Cory Joseph\"],[\"Doug McDermott\"],[\"Dario Saric\"],[\"Bruno Fernando\"],[\"Andre Jackson Jr.\"],[\"Isaac Jones\"],[\"Kevin Knox\"],[\"Damion Lee\"],[\"Jeenathan Williams\"],[\"Zeke Nnaji\"],[\"Cam Reddish\"],[\"Gary Harris\"],[\"Maxi Kleber\"],[\"Rayan Rupert\"],[\"P.J. Tucker\"],[\"Markelle Fultz\"],[\"Taj Gibson\"],[\"Tyler Smith\"],[\"Keshad Johnson\"],[\"Jae Crowder\"],[\"Josh Minott\"],[\"Hunter Tyson\"],[\"Anthony Gill\"],[\"Dillon Jones\"],[\"Pat Spencer\"],[\"Johnny Davis\"],[\"John Konchar\"],[\"Bronny James\"],[\"JD Davison\"],[\"Chris Duarte\"],[\"Johnny Furphy\"],[\"Dwight Powell\"],[\"Tyler Kolek\"],[\"Kobe Brown\"],[\"Ariel Hukporti\"],[\"Bobi Klintman\"],[\"Garrett Temple\"],[\"Vlatko Cancar\"],[\"E.J. Liddell\"],[\"Pacome Dadiet\"],[\"Tristan Thompson\"],[\"Jordan Walsh\"],[\"Phillip Wheeler\"],[\"Leonard Miller\"],[\"Matt Ryan\"],[\"Cam Christie\"],[\"Chris Livingston\"],[\"Skal Labissiere\"],[\"Yuri Collins\"],[\"Braxton Key\"],[\"Xavier Tillman Sr.\"],[\"PJ Dozier\"],[\"Joe Ingles\"],[\"James Johnson\"],[\"Malevy Leons\"],[\"Daishen Nix\"],[\"Terence Davis\"],[\"Jalen McDaniels\"],[\"Jahlil Okafor\"],[\"Terry Taylor\"],[\"Luka Doncic\"],[\"Anthony Davis\"],[\"De'Aaron Fox\"],[\"Zach LaVine\"],[\"Andrew Wiggins\"],[\"Jimmy Butler\"],[\"De'Andre Hunter\"],[\"Kyle Kuzma\"],[\"Quentin Grimes\"],[\"Dennis Schroder\"],[\"D'Angelo Russell\"],[\"Caris LeVert\"],[\"Khris Middleton\"],[\"Bogdan Bogdanovic\"],[\"Jonas Valanciunas\"],[\"Kevin Porter Jr.\"],[\"Kevin Huerter\"],[\"Georges Niang\"],[\"Max Christie\"],[\"Nick Richards\"],[\"Jared Butler\"],[\"Marcus Smart\"],[\"Jusuf Nurkic\"],[\"Kelly Olynyk\"],[\"Dorian Finney-Smith\"],[\"Jared Rhoden\"],[\"Bruce Brown\"],[\"Davion Mitchell\"],[\"Caleb Martin\"],[\"Terance Mann\"],[\"AJ Johnson\"],[\"Tre Jones\"],[\"Josh Okogie\"],[\"Jalen Hood-Schifino\"],[\"Orlando Robinson\"],[\"Jake LaRavia\"],[\"Cody Martin\"],[\"Vasilije Micic\"],[\"Thomas Bryant\"],[\"Zach Collins\"],[\"KJ Martin\"],[\"Bones Hyland\"],[\"Cole Swider\"],[\"Chuma Okeke\"],[\"Kyle Anderson\"],[\"Moses Brown\"],[\"Shake Milton\"],[\"Javonte Green\"],[\"Ben Simmons\"],[\"Lindy Waters III\"],[\"Colin Castleton\"],[\"David Roddy\"],[\"Drew Eubanks\"],[\"Marvin Bagley III\"],[\"Mo Bamba\"],[\"Torrey Craig\"],[\"Wendell Moore Jr.\"],[\"Maxwell Lewis\"],[\"Colby Jones\"],[\"Patty Mills\"],[\"Markieff Morris\"],[\"Elfrid Payton\"],[\"Delon Wright\"],[\"Kylor Kelley\"],[\"Jaden Springer\"],[\"MarJon Beauchamp\"],[\"Patrick Baldwin Jr.\"],[\"Jordan McLaughlin\"],[\"Jericho Sims\"],[\"Alex Len\"],[\"Sidy Cissoko\"]],\"hovertemplate\":\"Salary ($M)=%{x:.2f}\\u003cbr\\u003ePTS=%{y}\\u003cbr\\u003ePlayer=%{customdata[0]}\\u003cextra\\u003e\\u003c\\u002fextra\\u003e\",\"legendgroup\":\"\",\"marker\":{\"color\":\"skyblue\",\"symbol\":\"circle\"},\"mode\":\"markers\",\"name\":\"\",\"orientation\":\"v\",\"showlegend\":false,\"x\":[35.85995,48.787676,51.415938,42.1764,34.84834,51.179021,35.147,13.940809,24.960001,12.1608,49.2058,35.147,48.787676,41.0,36.72567,55.761216,48.728845,49.2058,12.76896,7.007092,43.03194,35.41031,4.041249,29.0,51.415938,36.72567,33.653846,49.2058,23.4,36.0162,25.257798,19.241379,4.77576,49.2058,36.0162,5.159854,25.794643,33.333333,12.483048,11.4246,36.72567,29.651786,12.0,27.173913,12.976362,42.1764,29.268293,10.13098,25.892857,34.00525,40.5,5.424654,26.58,42.1764,4.510905,22.5,33.07392,42.1764,11.227657,6.61416,20.0,18.35,35.85995,34.84834,36.637932,23.3,7.97724,29.517135,17.405203,32.5,50.20393,15.625,4.0842,11.74321,20.071429,6.0,29.347826,14.092577,49.2058,9.188385,7.24572,19.9285,3.08964,7.636307,4.02036,4.09428,7.983,10.88064,9.10512,22.841455,15.5,8.352367,19.5,34.005126,4.76376,29.793104,6.696429,13.986432,6.05952,4.908373,9.24996,42.846615,22.255493,15.873016,12.578286,25.365854,18.144,20.0,14.0,5.631296,8.571429,17.0,23.0,11.24568,11.0,22.5,10.25916,19.0,12.56904,3.960531,2.560975,8.80956,0.780932,18.0,6.94524,7.0,13.39416,23.017242,9.77088,0.113055,3.69516,43.827586,11.0,10.514017,4.53684,11.445,3.51996,5.705887,5.57004,1.891857,30.0,8.780488,30.0,2.96592,2.087519,2.087519,16.193183,19.406,2.087519,2.57148,4.52568,0.596581,15.625,2.162606,24.924126,12.975,4.31028,1.157153,13.02525,1.988598,27.556817,12.976362,12.822,12.99165,2.087519,2.726603,16.5,0.425619,9.52381,8.376,10.81,2.019699,6.133005,3.0,2.087519,2.5872,4.45488,5.803269,3.938271,3.0,4.710144,1.891857,4.3125,12.9,7.60776,15.212068,3.37908,4.2318,5.75688,11.95,3.24408,3.81912,0.1,9.3,3.1932,9.375,24.107143,0.119972,9.5,2.55252,18.0,22.26528,3.087519,9.25,1.8,3.5,10.46,0.119972,22.757,2.51268,3.15,2.82552,2.019699,5.01456,0.635853,5.19552,3.6858,3.465,2.092344,11.205,0.446743,5.55588,2.19697,12.5,2.120693,0.047989,9.975962,2.087519,8.571429,0.43892,2.41356,3.989122,1.407153,21.395348,2.230253,11.025,2.120693,12.654321,12.648321,2.087519,1.891857,5.0,9.057971,3.62844,1.891857,2.162606,2.164993,0.066503,1.0,9.89,1.862265,0.107027,4.435381,0.073153,2.5308,2.088033,2.087519,1.157153,2.087519,3.303771,2.463946,0.126356,2.425404,6.0,1.891857,2.75508,2.120693,6.8364,2.087519,5.2,2.087519,8.0,3.0,9.13,5.168,8.24532,11.0,2.087519,2.19697,6.669,1.862265,1.091887,10.185186,6.36252,1.891857,2.087519,0.011997,15.0,2.237691,7.692308,2.019699,1.157153,12.428571,0.957763,3.11424,1.34369,0.223718,4.668,8.0,25.0,6.166667,4.299,9.423869,3.85,2.66388,2.087519,2.019699,0.647851,14.318182,3.21792,2.162606,8.0,5.84868,1.157153,1.891857,5.46912,6.26292,5.27832,8.0,2.087519,3.51048,2.087519,0.600545,4.033748,10.09896,0.623856,6.5,2.54664,2.087519,0.491887,1.157153,2.99004,2.04878,0.492323,2.019699,1.05,1.891857,3.913234,1.891857,10.714286,4.668,0.119972,3.051153,12.6,2.087519,2.8704,0.496519,4.689,5.02704,2.087519,1.891857,2.62428,2.49432,7.565217,3.32616,2.162606,3.303771,2.087519,5.168,1.115128,1.891857,0.152957,0.503883,2.087519,0.515881,8.888889,2.463946,7.5,11.0,1.891857,12.025777,0.731831,2.087519,1.157153,0.724883,1.655619,2.019699,1.891857,2.237691,2.62236,0.43881,5.29116,6.165,1.157153,0.011997,5.893768,1.850842,4.0,2.087519,2.53392,1.064049,1.257153,2.087519,2.087519,0.706898,1.80808,2.087519,1.891857,0.066503,1.891857,0.621439,1.157153,1.891857,0.119972,0.066503,0.011997,2.237691,1.051255,2.087519,2.087519,0.126356,0.119972,0.064301,4.861772,0.119972,0.119972,43.03194,43.21944,34.84834,44.53194,26.276786,48.798677,21.696429,24.456061,4.296682,13.02525,18.692307,16.615384,31.0,17.26,9.9,3.366937,16.830357,8.5,7.142857,5.0,0.745726,20.210284,18.125,12.804878,14.924167,0.119972,23.0,6.451077,9.186594,11.423077,2.795294,9.104167,8.25,3.87984,1.69161,3.35268,8.12,7.723,2.087519,16.7412,7.975,4.158439,0.227947,0.355687,8.780488,0.426632,2.875,2.32835,40.011909,2.19697,0.421081,2.967212,5.0,12.5,2.207491,3.625162,2.53704,1.891857,2.120693,2.087519,2.087519,0.789048,2.087519,0.073153,4.772772,2.73372,2.44884,2.087519,2.092344,2.831348,1.891857],\"xaxis\":\"x\",\"y\":[32.7,30.4,29.6,27.6,26.8,26.6,26.3,26.1,26.0,25.9,25.6,25.2,24.9,24.7,24.6,24.5,24.4,24.4,24.3,24.2,24.2,24.0,24.0,23.9,23.8,23.2,22.8,22.2,22.2,22.2,22.2,21.8,21.6,21.5,21.4,21.2,21.1,21.1,21.0,21.0,20.6,20.5,20.4,20.3,20.2,20.2,19.5,19.3,19.3,19.2,19.1,19.1,19.0,19.0,18.9,18.8,18.7,18.6,18.5,18.5,18.5,18.4,18.2,18.1,18.0,17.6,17.6,17.5,17.2,17.1,17.0,16.9,16.8,16.8,16.4,16.3,16.3,16.2,16.2,16.2,16.1,15.6,15.4,15.3,15.3,15.3,15.1,15.0,14.7,14.7,14.7,14.6,14.5,14.4,14.4,14.4,14.3,14.2,14.1,14.1,14.1,14.1,14.0,14.0,13.9,13.7,13.6,13.5,13.4,13.3,13.2,13.1,13.0,13.0,12.9,12.7,12.7,12.7,12.6,12.5,12.5,12.4,12.4,12.3,12.3,12.3,12.3,12.2,12.2,12.1,12.0,12.0,12.0,12.0,11.8,11.7,11.7,11.6,11.4,11.3,11.2,11.1,11.1,11.1,11.1,11.0,11.0,11.0,11.0,10.9,10.8,10.7,10.6,10.6,10.6,10.5,10.4,10.4,10.4,10.3,10.3,10.3,10.3,10.2,10.2,10.2,10.1,10.1,10.1,10.1,10.0,10.0,10.0,9.9,9.9,9.9,9.8,9.8,9.7,9.6,9.5,9.5,9.4,9.4,9.4,9.4,9.4,9.3,9.2,9.1,9.1,9.1,9.1,9.1,9.1,9.1,9.0,9.0,9.0,9.0,9.0,8.9,8.9,8.9,8.8,8.8,8.8,8.7,8.7,8.7,8.7,8.7,8.7,8.7,8.7,8.6,8.6,8.6,8.5,8.5,8.4,8.4,8.3,8.3,8.3,8.3,8.2,8.2,8.2,8.1,8.1,7.9,7.7,7.6,7.5,7.5,7.4,7.4,7.4,7.3,7.3,7.3,7.2,7.2,7.2,7.2,7.2,7.2,7.1,7.1,7.1,7.0,7.0,7.0,6.9,6.9,6.9,6.9,6.8,6.8,6.8,6.7,6.7,6.6,6.6,6.6,6.6,6.5,6.5,6.5,6.5,6.5,6.5,6.5,6.4,6.4,6.4,6.3,6.3,6.3,6.2,6.2,6.1,6.1,6.0,6.0,6.0,6.0,6.0,5.9,5.9,5.8,5.8,5.7,5.7,5.7,5.6,5.5,5.4,5.4,5.4,5.3,5.3,5.3,5.3,5.2,5.2,5.1,5.1,5.0,5.0,4.8,4.7,4.6,4.6,4.6,4.5,4.5,4.5,4.5,4.5,4.4,4.4,4.4,4.4,4.4,4.3,4.3,4.3,4.2,4.2,4.2,4.2,4.1,4.1,4.1,4.1,4.1,4.1,4.1,4.0,4.0,4.0,3.9,3.9,3.9,3.8,3.8,3.8,3.7,3.7,3.7,3.6,3.6,3.6,3.5,3.5,3.5,3.5,3.4,3.4,3.4,3.3,3.3,3.3,3.2,3.2,3.0,3.0,3.0,3.0,2.9,2.9,2.9,2.7,2.6,2.6,2.6,2.5,2.5,2.5,2.4,2.4,2.3,2.1,2.1,2.1,2.1,2.0,1.9,1.9,1.9,1.9,1.8,1.8,1.7,1.7,1.6,1.6,1.5,1.5,1.4,1.4,1.3,1.0,1.0,1.0,0.8,0.8,0.7,0.3,0.3,0.0,0.0,0.0,0.0,28.2,24.7,23.5,23.3,18.0,17.5,17.0,14.8,14.6,13.1,12.6,12.1,11.9,10.8,10.4,10.3,9.9,9.9,9.6,9.3,9.0,9.0,8.9,8.7,8.7,8.4,8.3,7.9,7.9,7.7,7.6,7.2,7.1,7.1,6.9,6.9,6.8,6.6,6.5,6.4,6.4,6.2,5.9,5.9,5.9,5.8,5.5,5.1,5.0,4.9,4.7,4.6,4.6,4.4,4.3,4.2,4.2,4.1,4.0,3.8,3.7,3.5,3.1,3.1,2.5,2.3,2.2,2.1,1.8,1.6,1.5],\"yaxis\":\"y\",\"type\":\"scatter\"},{\"hovertemplate\":\"\\u003cb\\u003eOLS trendline\\u003c\\u002fb\\u003e\\u003cbr\\u003ePTS = 0.392799 * Salary_M + 5.69307\\u003cbr\\u003eR\\u003csup\\u003e2\\u003c\\u002fsup\\u003e=0.557225\\u003cbr\\u003e\\u003cbr\\u003eSalary ($M)=%{x:.2f}\\u003cbr\\u003ePTS=%{y} \\u003cb\\u003e(trend)\\u003c\\u002fb\\u003e\\u003cextra\\u003e\\u003c\\u002fextra\\u003e\",\"legendgroup\":\"\",\"line\":{\"color\":\"black\"},\"marker\":{\"color\":\"skyblue\",\"symbol\":\"circle\"},\"mode\":\"lines\",\"name\":\"\",\"showlegend\":false,\"x\":[0.011997,0.011997,0.011997,0.047989,0.064301,0.066503,0.066503,0.066503,0.073153,0.073153,0.1,0.107027,0.113055,0.119972,0.119972,0.119972,0.119972,0.119972,0.119972,0.119972,0.119972,0.126356,0.126356,0.152957,0.223718,0.227947,0.355687,0.421081,0.425619,0.426632,0.43881,0.43892,0.446743,0.491887,0.492323,0.496519,0.503883,0.515881,0.596581,0.600545,0.621439,0.623856,0.635853,0.647851,0.706898,0.724883,0.731831,0.745726,0.780932,0.789048,0.957763,1.0,1.05,1.051255,1.064049,1.091887,1.115128,1.157153,1.157153,1.157153,1.157153,1.157153,1.157153,1.157153,1.157153,1.257153,1.34369,1.407153,1.655619,1.69161,1.8,1.80808,1.850842,1.862265,1.862265,1.891857,1.891857,1.891857,1.891857,1.891857,1.891857,1.891857,1.891857,1.891857,1.891857,1.891857,1.891857,1.891857,1.891857,1.891857,1.891857,1.891857,1.891857,1.988598,2.019699,2.019699,2.019699,2.019699,2.019699,2.019699,2.04878,2.087519,2.087519,2.087519,2.087519,2.087519,2.087519,2.087519,2.087519,2.087519,2.087519,2.087519,2.087519,2.087519,2.087519,2.087519,2.087519,2.087519,2.087519,2.087519,2.087519,2.087519,2.087519,2.087519,2.087519,2.087519,2.087519,2.087519,2.087519,2.087519,2.087519,2.087519,2.087519,2.087519,2.088033,2.092344,2.092344,2.120693,2.120693,2.120693,2.120693,2.162606,2.162606,2.162606,2.162606,2.164993,2.19697,2.19697,2.19697,2.207491,2.230253,2.237691,2.237691,2.237691,2.32835,2.41356,2.425404,2.44884,2.463946,2.463946,2.49432,2.51268,2.5308,2.53392,2.53704,2.54664,2.55252,2.560975,2.57148,2.5872,2.62236,2.62428,2.66388,2.726603,2.73372,2.75508,2.795294,2.82552,2.831348,2.8704,2.875,2.96592,2.967212,2.99004,3.0,3.0,3.0,3.051153,3.087519,3.08964,3.11424,3.15,3.1932,3.21792,3.24408,3.303771,3.303771,3.32616,3.35268,3.366937,3.37908,3.465,3.5,3.51048,3.51996,3.625162,3.62844,3.6858,3.69516,3.81912,3.85,3.87984,3.913234,3.938271,3.960531,3.989122,4.0,4.02036,4.033748,4.041249,4.0842,4.09428,4.158439,4.2318,4.296682,4.299,4.31028,4.3125,4.435381,4.45488,4.510905,4.52568,4.53684,4.668,4.668,4.689,4.710144,4.76376,4.772772,4.77576,4.861772,4.908373,5.0,5.0,5.0,5.01456,5.02704,5.159854,5.168,5.168,5.19552,5.2,5.27832,5.29116,5.424654,5.46912,5.55588,5.57004,5.631296,5.705887,5.75688,5.803269,5.84868,5.893768,6.0,6.0,6.05952,6.133005,6.165,6.166667,6.26292,6.36252,6.451077,6.5,6.61416,6.669,6.696429,6.8364,6.94524,7.0,7.007092,7.142857,7.24572,7.5,7.565217,7.60776,7.636307,7.692308,7.723,7.975,7.97724,7.983,8.0,8.0,8.0,8.0,8.12,8.24532,8.25,8.352367,8.376,8.5,8.571429,8.571429,8.780488,8.780488,8.80956,8.888889,9.057971,9.104167,9.10512,9.13,9.186594,9.188385,9.24996,9.25,9.3,9.375,9.423869,9.5,9.52381,9.77088,9.89,9.9,9.975962,10.09896,10.13098,10.185186,10.25916,10.46,10.514017,10.714286,10.81,10.88064,11.0,11.0,11.0,11.0,11.025,11.205,11.227657,11.24568,11.423077,11.4246,11.445,11.74321,11.95,12.0,12.025777,12.1608,12.428571,12.483048,12.5,12.5,12.56904,12.578286,12.6,12.648321,12.654321,12.76896,12.804878,12.822,12.9,12.975,12.976362,12.976362,12.99165,13.02525,13.02525,13.39416,13.940809,13.986432,14.0,14.092577,14.318182,14.924167,15.0,15.212068,15.5,15.625,15.625,15.873016,16.193183,16.5,16.615384,16.7412,16.830357,17.0,17.26,17.405203,18.0,18.0,18.125,18.144,18.35,18.692307,19.0,19.241379,19.406,19.5,19.9285,20.0,20.0,20.071429,20.210284,21.395348,21.696429,22.255493,22.26528,22.5,22.5,22.757,22.841455,23.0,23.0,23.017242,23.3,23.4,24.107143,24.456061,24.924126,24.960001,25.0,25.257798,25.365854,25.794643,25.892857,26.276786,26.58,27.173913,27.556817,29.0,29.268293,29.347826,29.517135,29.651786,29.793104,30.0,30.0,31.0,32.5,33.07392,33.333333,33.653846,34.005126,34.00525,34.84834,34.84834,34.84834,35.147,35.147,35.41031,35.85995,35.85995,36.0162,36.0162,36.637932,36.72567,36.72567,36.72567,40.011909,40.5,41.0,42.1764,42.1764,42.1764,42.1764,42.846615,43.03194,43.03194,43.21944,43.827586,44.53194,48.728845,48.787676,48.787676,48.798677,49.2058,49.2058,49.2058,49.2058,49.2058,50.20393,51.179021,51.415938,51.415938,55.761216],\"xaxis\":\"x\",\"y\":[5.697779386419416,5.697779386419416,5.697779386419416,5.711917025905026,5.718324371295371,5.719189315787128,5.719189315787128,5.719189315787128,5.7218014324402535,5.7218014324402535,5.732346920528445,5.735107122591831,5.737474917958003,5.74019191207675,5.74019191207675,5.74019191207675,5.74019191207675,5.74019191207675,5.74019191207675,5.74019191207675,5.74019191207675,5.742699544063751,5.742699544063751,5.753148403475752,5.780943288662495,5.782604437734085,5.832780645443905,5.858467375731803,5.860249899847876,5.860647805738044,5.865431318008986,5.8654745259536245,5.868547396416392,5.886279936895899,5.886451197476464,5.888099384164662,5.8909919596584395,5.895704768019974,5.927403687404525,5.928960744609486,5.937167897293759,5.938117293677308,5.942829709239346,5.947542517600881,5.970736149483155,5.977800648431497,5.980529819334643,5.985987768341437,5.999816667422633,6.003004628137937,6.069275795225477,6.085866467568046,6.105506442403579,6.105999405771951,6.111024882532867,6.121959634922298,6.131088688025351,6.147596086874617,6.147596086874617,6.147596086874617,6.147596086874617,6.147596086874617,6.147596086874617,6.147596086874617,6.147596086874617,6.186876036545684,6.220867726592535,6.245795961052283,6.343393280801996,6.35753052748811,6.400106064936579,6.403279884870001,6.420076776948343,6.424563725599269,6.424563725599269,6.4361874483059305,6.4361874483059305,6.4361874483059305,6.4361874483059305,6.4361874483059305,6.4361874483059305,6.4361874483059305,6.4361874483059305,6.4361874483059305,6.4361874483059305,6.4361874483059305,6.4361874483059305,6.4361874483059305,6.4361874483059305,6.4361874483059305,6.4361874483059305,6.4361874483059305,6.4361874483059305,6.474187264417218,6.4864037215644155,6.4864037215644155,6.4864037215644155,6.4864037215644155,6.4864037215644155,6.4864037215644155,6.4978267237282585,6.5130433834313335,6.5130433834313335,6.5130433834313335,6.5130433834313335,6.5130433834313335,6.5130433834313335,6.5130433834313335,6.5130433834313335,6.5130433834313335,6.5130433834313335,6.5130433834313335,6.5130433834313335,6.5130433834313335,6.5130433834313335,6.5130433834313335,6.5130433834313335,6.5130433834313335,6.5130433834313335,6.5130433834313335,6.5130433834313335,6.5130433834313335,6.5130433834313335,6.5130433834313335,6.5130433834313335,6.5130433834313335,6.5130433834313335,6.5130433834313335,6.5130433834313335,6.5130433834313335,6.5130433834313335,6.5130433834313335,6.5130433834313335,6.5130433834313335,6.513245282372642,6.514938641002963,6.514938641002963,6.526074113935213,6.526074113935213,6.526074113935213,6.526074113935213,6.542537519240847,6.542537519240847,6.542537519240847,6.542537519240847,6.543475131639496,6.556035681145812,6.556035681145812,6.556035681145812,6.560168324650705,6.569109226794834,6.572030869451368,6.572030869451368,6.572030869451368,6.60764167902366,6.641112124138376,6.645764441377417,6.654970090382328,6.66090371957964,6.66090371957964,6.672834611492729,6.680046410252337,6.687163937132734,6.688389471562472,6.689615005992209,6.693385881160632,6.69569554220129,6.699016661945979,6.703143020658924,6.709317828747216,6.723128659051563,6.723882834085248,6.73943769415499,6.764075256987173,6.766870811005263,6.775261008255002,6.791057047215725,6.802929804803302,6.805219040270132,6.820558646215677,6.822365523900546,6.85807885414148,6.85858635109123,6.867553178002141,6.871465460989379,6.871465460989379,6.871465460989379,6.89155833364462,6.905842880142,6.906676007874523,6.916338875493606,6.930385385495979,6.94735432375388,6.957064327312568,6.967339962146519,6.990786556904675,6.990786556904675,6.999580944836531,7.009997987489298,7.015598129913901,7.020367894202459,7.054117226959839,7.0678652093447125,7.0719817480702405,7.075705487299057,7.1170287799520136,7.11831637670223,7.140847355833555,7.1445239591227665,7.193215384735021,7.205345033193446,7.2170661701752925,7.230183316568448,7.240017837567594,7.248761554364373,7.259992084774828,7.264264957700046,7.272262355453075,7.277521155115037,7.2804675441398645,7.2973386753230844,7.301298094249928,7.326499717159388,7.355315881037579,7.38080149798316,7.381712007216536,7.386142785539432,7.387014800422129,7.435282395377433,7.442941592763795,7.464948184567009,7.47075179713091,7.475135439514201,7.526655021502772,7.526655021502772,7.534903810933695,7.543209163492146,7.564269501307786,7.567809410372142,7.5689830952683135,7.602768565579391,7.621073414925605,7.657064454410714,7.657064454410714,7.657064454410714,7.66278361508282,7.66768575280177,7.7198550251579,7.723054769858106,7.723054769858106,7.733864612007583,7.735624353752847,7.766388410335226,7.771431955872991,7.823868331886885,7.841334554307622,7.875413838642238,7.8809758795156615,7.90503720548617,7.934336512745316,7.954366537481082,7.972588113333994,7.990425531279122,8.008136074986812,8.049863951121381,8.049863951121381,8.0732433771656,8.102108248181382,8.11467586807864,8.115330664839657,8.153138794796549,8.19226162466893,8.227046769699138,8.246263699476714,8.291105690021203,8.312646814420816,8.323420911816093,8.378401450170182,8.421153747392172,8.442663447832047,8.445449181862719,8.498777605533643,8.539182140163792,8.63906319618738,8.664680400964361,8.681391269952922,8.692604517185522,8.714601681800815,8.72665748395386,8.825642957124947,8.826522827997579,8.828785353098633,8.835462944542714,8.835462944542714,8.835462944542714,8.835462944542714,8.882598884147994,8.931824517075775,8.93366281872038,8.97387252480016,8.983155555305924,9.031862692898049,9.059919968148593,9.059919968148593,9.142038238131429,9.142038238131429,9.1534577050998,9.184618096374361,9.251033420877196,9.269179186427241,9.269553524347605,9.279326375825768,9.30155647054261,9.30225997444122,9.32644660345118,9.326462315431048,9.34610229026658,9.375562252519881,9.394757971124635,9.424662189608714,9.434014745625396,9.5310637172777,9.577853993325874,9.581781988292981,9.611619823662117,9.659933376158536,9.67251081604321,9.69380290556191,9.722859855531585,9.801749706450956,9.822967556864775,9.901633119271523,9.939229530299688,9.966976886747329,10.013861434674714,10.013861434674714,10.013861434674714,10.013861434674714,10.023681422092482,10.094385331500401,10.103284989697375,10.110364415026591,10.180045867344575,10.180644100978064,10.18865721071096,10.305793948625048,10.387020956549847,10.406660931385382,10.416786124012091,10.469823090456458,10.575003404490168,10.596401942672475,10.603060679740715,10.603060679740715,10.63017955699362,10.633811381140205,10.642340629411782,10.661321093892337,10.663677890872602,10.708708032376016,10.72281660469887,10.72954211768155,10.760180478424981,10.789640440678282,10.790175433592802,10.790175433592802,10.796180552298514,10.809378615387992,10.809378615387992,10.954286277719525,11.169009729796915,11.186930421235346,11.192259924806716,11.228624123813699,11.31724165426911,11.555272257283324,11.585059421517382,11.66835962518582,11.781459169872715,11.830559106961548,11.830559106961548,11.927979666937741,12.053741103401107,12.174258666583384,12.219581443711846,12.269001905189995,12.304022729918229,12.370658414938717,12.47278628408349,12.529821949404369,12.763457911649382,12.763457911649382,12.812557848738216,12.820021039175717,12.900937735498118,13.035395752818655,13.15625740836005,13.251070958076575,13.31573400402458,13.352657156715384,13.520971741055904,13.549056905070717,13.549056905070717,13.577114180321264,13.631656354437023,14.097148897206953,14.215413362476097,14.43501342030515,14.438857748979457,14.531055646847385,14.531055646847385,14.632005117502027,14.665178998996725,14.727455395202718,14.727455395202718,14.734228044125004,14.845295244215919,14.884575193886985,15.162340608389457,15.299395423182748,15.483251119610626,15.49734280155512,15.513054388624052,15.614317313277068,15.656761655693636,15.825189759088707,15.863768168858648,16.014575286831278,16.133677593426903,16.366966320916827,16.51737081940533,17.08425237546672,17.189637730837717,17.220878253209605,17.28738274319819,17.340273588229778,17.395783227505937,17.477051872177384,17.477051872177384,17.869851368888053,18.459050613954055,18.684486101106238,18.786383396946448,18.91228074203567,19.05026334924019,19.050312056377784,19.38147738405958,19.38147738405958,19.38147738405958,19.49879088174719,19.49879088174719,19.602218917226075,19.778837282927057,19.778837282927057,19.8402122042881,19.8402122042881,20.084428220977017,20.11889166321942,20.11889166321942,20.11889166321942,21.409724688490385,21.601446587639387,21.79784633599472,22.259935663925155,22.259935663925155,22.259935663925155,22.259935663925155,22.523195778613093,22.595991345340998,22.595991345340998,22.669641250974244,22.90852069370085,23.185190590406997,24.83373276214948,24.85684154934046,24.85684154934046,24.861162736603774,25.021080446103113,25.021080446103113,25.021080446103113,25.021080446103113,25.021080446103113,25.413145407754932,25.796160661802034,25.889221540164236,25.889221540164236,27.59604455163217],\"yaxis\":\"y\",\"type\":\"scatter\"}],                        {\"template\":{\"data\":{\"barpolar\":[{\"marker\":{\"line\":{\"color\":\"white\",\"width\":0.5},\"pattern\":{\"fillmode\":\"overlay\",\"size\":10,\"solidity\":0.2}},\"type\":\"barpolar\"}],\"bar\":[{\"error_x\":{\"color\":\"#2a3f5f\"},\"error_y\":{\"color\":\"#2a3f5f\"},\"marker\":{\"line\":{\"color\":\"white\",\"width\":0.5},\"pattern\":{\"fillmode\":\"overlay\",\"size\":10,\"solidity\":0.2}},\"type\":\"bar\"}],\"carpet\":[{\"aaxis\":{\"endlinecolor\":\"#2a3f5f\",\"gridcolor\":\"#C8D4E3\",\"linecolor\":\"#C8D4E3\",\"minorgridcolor\":\"#C8D4E3\",\"startlinecolor\":\"#2a3f5f\"},\"baxis\":{\"endlinecolor\":\"#2a3f5f\",\"gridcolor\":\"#C8D4E3\",\"linecolor\":\"#C8D4E3\",\"minorgridcolor\":\"#C8D4E3\",\"startlinecolor\":\"#2a3f5f\"},\"type\":\"carpet\"}],\"choropleth\":[{\"colorbar\":{\"outlinewidth\":0,\"ticks\":\"\"},\"type\":\"choropleth\"}],\"contourcarpet\":[{\"colorbar\":{\"outlinewidth\":0,\"ticks\":\"\"},\"type\":\"contourcarpet\"}],\"contour\":[{\"colorbar\":{\"outlinewidth\":0,\"ticks\":\"\"},\"colorscale\":[[0.0,\"#0d0887\"],[0.1111111111111111,\"#46039f\"],[0.2222222222222222,\"#7201a8\"],[0.3333333333333333,\"#9c179e\"],[0.4444444444444444,\"#bd3786\"],[0.5555555555555556,\"#d8576b\"],[0.6666666666666666,\"#ed7953\"],[0.7777777777777778,\"#fb9f3a\"],[0.8888888888888888,\"#fdca26\"],[1.0,\"#f0f921\"]],\"type\":\"contour\"}],\"heatmapgl\":[{\"colorbar\":{\"outlinewidth\":0,\"ticks\":\"\"},\"colorscale\":[[0.0,\"#0d0887\"],[0.1111111111111111,\"#46039f\"],[0.2222222222222222,\"#7201a8\"],[0.3333333333333333,\"#9c179e\"],[0.4444444444444444,\"#bd3786\"],[0.5555555555555556,\"#d8576b\"],[0.6666666666666666,\"#ed7953\"],[0.7777777777777778,\"#fb9f3a\"],[0.8888888888888888,\"#fdca26\"],[1.0,\"#f0f921\"]],\"type\":\"heatmapgl\"}],\"heatmap\":[{\"colorbar\":{\"outlinewidth\":0,\"ticks\":\"\"},\"colorscale\":[[0.0,\"#0d0887\"],[0.1111111111111111,\"#46039f\"],[0.2222222222222222,\"#7201a8\"],[0.3333333333333333,\"#9c179e\"],[0.4444444444444444,\"#bd3786\"],[0.5555555555555556,\"#d8576b\"],[0.6666666666666666,\"#ed7953\"],[0.7777777777777778,\"#fb9f3a\"],[0.8888888888888888,\"#fdca26\"],[1.0,\"#f0f921\"]],\"type\":\"heatmap\"}],\"histogram2dcontour\":[{\"colorbar\":{\"outlinewidth\":0,\"ticks\":\"\"},\"colorscale\":[[0.0,\"#0d0887\"],[0.1111111111111111,\"#46039f\"],[0.2222222222222222,\"#7201a8\"],[0.3333333333333333,\"#9c179e\"],[0.4444444444444444,\"#bd3786\"],[0.5555555555555556,\"#d8576b\"],[0.6666666666666666,\"#ed7953\"],[0.7777777777777778,\"#fb9f3a\"],[0.8888888888888888,\"#fdca26\"],[1.0,\"#f0f921\"]],\"type\":\"histogram2dcontour\"}],\"histogram2d\":[{\"colorbar\":{\"outlinewidth\":0,\"ticks\":\"\"},\"colorscale\":[[0.0,\"#0d0887\"],[0.1111111111111111,\"#46039f\"],[0.2222222222222222,\"#7201a8\"],[0.3333333333333333,\"#9c179e\"],[0.4444444444444444,\"#bd3786\"],[0.5555555555555556,\"#d8576b\"],[0.6666666666666666,\"#ed7953\"],[0.7777777777777778,\"#fb9f3a\"],[0.8888888888888888,\"#fdca26\"],[1.0,\"#f0f921\"]],\"type\":\"histogram2d\"}],\"histogram\":[{\"marker\":{\"pattern\":{\"fillmode\":\"overlay\",\"size\":10,\"solidity\":0.2}},\"type\":\"histogram\"}],\"mesh3d\":[{\"colorbar\":{\"outlinewidth\":0,\"ticks\":\"\"},\"type\":\"mesh3d\"}],\"parcoords\":[{\"line\":{\"colorbar\":{\"outlinewidth\":0,\"ticks\":\"\"}},\"type\":\"parcoords\"}],\"pie\":[{\"automargin\":true,\"type\":\"pie\"}],\"scatter3d\":[{\"line\":{\"colorbar\":{\"outlinewidth\":0,\"ticks\":\"\"}},\"marker\":{\"colorbar\":{\"outlinewidth\":0,\"ticks\":\"\"}},\"type\":\"scatter3d\"}],\"scattercarpet\":[{\"marker\":{\"colorbar\":{\"outlinewidth\":0,\"ticks\":\"\"}},\"type\":\"scattercarpet\"}],\"scattergeo\":[{\"marker\":{\"colorbar\":{\"outlinewidth\":0,\"ticks\":\"\"}},\"type\":\"scattergeo\"}],\"scattergl\":[{\"marker\":{\"colorbar\":{\"outlinewidth\":0,\"ticks\":\"\"}},\"type\":\"scattergl\"}],\"scattermapbox\":[{\"marker\":{\"colorbar\":{\"outlinewidth\":0,\"ticks\":\"\"}},\"type\":\"scattermapbox\"}],\"scatterpolargl\":[{\"marker\":{\"colorbar\":{\"outlinewidth\":0,\"ticks\":\"\"}},\"type\":\"scatterpolargl\"}],\"scatterpolar\":[{\"marker\":{\"colorbar\":{\"outlinewidth\":0,\"ticks\":\"\"}},\"type\":\"scatterpolar\"}],\"scatter\":[{\"fillpattern\":{\"fillmode\":\"overlay\",\"size\":10,\"solidity\":0.2},\"type\":\"scatter\"}],\"scatterternary\":[{\"marker\":{\"colorbar\":{\"outlinewidth\":0,\"ticks\":\"\"}},\"type\":\"scatterternary\"}],\"surface\":[{\"colorbar\":{\"outlinewidth\":0,\"ticks\":\"\"},\"colorscale\":[[0.0,\"#0d0887\"],[0.1111111111111111,\"#46039f\"],[0.2222222222222222,\"#7201a8\"],[0.3333333333333333,\"#9c179e\"],[0.4444444444444444,\"#bd3786\"],[0.5555555555555556,\"#d8576b\"],[0.6666666666666666,\"#ed7953\"],[0.7777777777777778,\"#fb9f3a\"],[0.8888888888888888,\"#fdca26\"],[1.0,\"#f0f921\"]],\"type\":\"surface\"}],\"table\":[{\"cells\":{\"fill\":{\"color\":\"#EBF0F8\"},\"line\":{\"color\":\"white\"}},\"header\":{\"fill\":{\"color\":\"#C8D4E3\"},\"line\":{\"color\":\"white\"}},\"type\":\"table\"}]},\"layout\":{\"annotationdefaults\":{\"arrowcolor\":\"#2a3f5f\",\"arrowhead\":0,\"arrowwidth\":1},\"autotypenumbers\":\"strict\",\"coloraxis\":{\"colorbar\":{\"outlinewidth\":0,\"ticks\":\"\"}},\"colorscale\":{\"diverging\":[[0,\"#8e0152\"],[0.1,\"#c51b7d\"],[0.2,\"#de77ae\"],[0.3,\"#f1b6da\"],[0.4,\"#fde0ef\"],[0.5,\"#f7f7f7\"],[0.6,\"#e6f5d0\"],[0.7,\"#b8e186\"],[0.8,\"#7fbc41\"],[0.9,\"#4d9221\"],[1,\"#276419\"]],\"sequential\":[[0.0,\"#0d0887\"],[0.1111111111111111,\"#46039f\"],[0.2222222222222222,\"#7201a8\"],[0.3333333333333333,\"#9c179e\"],[0.4444444444444444,\"#bd3786\"],[0.5555555555555556,\"#d8576b\"],[0.6666666666666666,\"#ed7953\"],[0.7777777777777778,\"#fb9f3a\"],[0.8888888888888888,\"#fdca26\"],[1.0,\"#f0f921\"]],\"sequentialminus\":[[0.0,\"#0d0887\"],[0.1111111111111111,\"#46039f\"],[0.2222222222222222,\"#7201a8\"],[0.3333333333333333,\"#9c179e\"],[0.4444444444444444,\"#bd3786\"],[0.5555555555555556,\"#d8576b\"],[0.6666666666666666,\"#ed7953\"],[0.7777777777777778,\"#fb9f3a\"],[0.8888888888888888,\"#fdca26\"],[1.0,\"#f0f921\"]]},\"colorway\":[\"#636efa\",\"#EF553B\",\"#00cc96\",\"#ab63fa\",\"#FFA15A\",\"#19d3f3\",\"#FF6692\",\"#B6E880\",\"#FF97FF\",\"#FECB52\"],\"font\":{\"color\":\"#2a3f5f\"},\"geo\":{\"bgcolor\":\"white\",\"lakecolor\":\"white\",\"landcolor\":\"white\",\"showlakes\":true,\"showland\":true,\"subunitcolor\":\"#C8D4E3\"},\"hoverlabel\":{\"align\":\"left\"},\"hovermode\":\"closest\",\"mapbox\":{\"style\":\"light\"},\"paper_bgcolor\":\"white\",\"plot_bgcolor\":\"white\",\"polar\":{\"angularaxis\":{\"gridcolor\":\"#EBF0F8\",\"linecolor\":\"#EBF0F8\",\"ticks\":\"\"},\"bgcolor\":\"white\",\"radialaxis\":{\"gridcolor\":\"#EBF0F8\",\"linecolor\":\"#EBF0F8\",\"ticks\":\"\"}},\"scene\":{\"xaxis\":{\"backgroundcolor\":\"white\",\"gridcolor\":\"#DFE8F3\",\"gridwidth\":2,\"linecolor\":\"#EBF0F8\",\"showbackground\":true,\"ticks\":\"\",\"zerolinecolor\":\"#EBF0F8\"},\"yaxis\":{\"backgroundcolor\":\"white\",\"gridcolor\":\"#DFE8F3\",\"gridwidth\":2,\"linecolor\":\"#EBF0F8\",\"showbackground\":true,\"ticks\":\"\",\"zerolinecolor\":\"#EBF0F8\"},\"zaxis\":{\"backgroundcolor\":\"white\",\"gridcolor\":\"#DFE8F3\",\"gridwidth\":2,\"linecolor\":\"#EBF0F8\",\"showbackground\":true,\"ticks\":\"\",\"zerolinecolor\":\"#EBF0F8\"}},\"shapedefaults\":{\"line\":{\"color\":\"#2a3f5f\"}},\"ternary\":{\"aaxis\":{\"gridcolor\":\"#DFE8F3\",\"linecolor\":\"#A2B1C6\",\"ticks\":\"\"},\"baxis\":{\"gridcolor\":\"#DFE8F3\",\"linecolor\":\"#A2B1C6\",\"ticks\":\"\"},\"bgcolor\":\"white\",\"caxis\":{\"gridcolor\":\"#DFE8F3\",\"linecolor\":\"#A2B1C6\",\"ticks\":\"\"}},\"title\":{\"x\":0.05},\"xaxis\":{\"automargin\":true,\"gridcolor\":\"#EBF0F8\",\"linecolor\":\"#EBF0F8\",\"ticks\":\"\",\"title\":{\"standoff\":15},\"zerolinecolor\":\"#EBF0F8\",\"zerolinewidth\":2},\"yaxis\":{\"automargin\":true,\"gridcolor\":\"#EBF0F8\",\"linecolor\":\"#EBF0F8\",\"ticks\":\"\",\"title\":{\"standoff\":15},\"zerolinecolor\":\"#EBF0F8\",\"zerolinewidth\":2}}},\"xaxis\":{\"anchor\":\"y\",\"domain\":[0.0,1.0],\"title\":{\"text\":\"Salary ($M)\"},\"tickprefix\":\"$\",\"ticksuffix\":\"M\"},\"yaxis\":{\"anchor\":\"x\",\"domain\":[0.0,1.0],\"title\":{\"text\":\"PTS\"}},\"legend\":{\"tracegroupgap\":0},\"title\":{\"text\":\"Salary vs PTS\"}},                        {\"responsive\": true}                    ).then(function(){\n",
       "                            \n",
       "var gd = document.getElementById('18724a03-6561-42b9-9ba8-81e4bd20c0fd');\n",
       "var x = new MutationObserver(function (mutations, observer) {{\n",
       "        var display = window.getComputedStyle(gd).display;\n",
       "        if (!display || display === 'none') {{\n",
       "            console.log([gd, 'removed!']);\n",
       "            Plotly.purge(gd);\n",
       "            observer.disconnect();\n",
       "        }}\n",
       "}});\n",
       "\n",
       "// Listen for the removal of the full notebook cells\n",
       "var notebookContainer = gd.closest('#notebook-container');\n",
       "if (notebookContainer) {{\n",
       "    x.observe(notebookContainer, {childList: true});\n",
       "}}\n",
       "\n",
       "// Listen for the clearing of the current output cell\n",
       "var outputEl = gd.closest('.output');\n",
       "if (outputEl) {{\n",
       "    x.observe(outputEl, {childList: true});\n",
       "}}\n",
       "\n",
       "                        })                };                });            </script>        </div>"
      ]
     },
     "metadata": {},
     "output_type": "display_data"
    },
    {
     "data": {
      "application/vnd.plotly.v1+json": {
       "config": {
        "plotlyServerURL": "https://plot.ly"
       },
       "data": [
        {
         "customdata": [
          [
           "Shai Gilgeous-Alexander"
          ],
          [
           "Giannis Antetokounmpo"
          ],
          [
           "Nikola Jokic"
          ],
          [
           "Anthony Edwards"
          ],
          [
           "Jayson Tatum"
          ],
          [
           "Kevin Durant"
          ],
          [
           "Tyrese Maxey"
          ],
          [
           "Cade Cunningham"
          ],
          [
           "Jalen Brunson"
          ],
          [
           "Paolo Banchero"
          ],
          [
           "Devin Booker"
          ],
          [
           "LaMelo Ball"
          ],
          [
           "Damian Lillard"
          ],
          [
           "Kyrie Irving"
          ],
          [
           "Zion Williamson"
          ],
          [
           "Stephen Curry"
          ],
          [
           "LeBron James"
          ],
          [
           "Karl-Anthony Towns"
          ],
          [
           "Victor Wembanyama"
          ],
          [
           "Franz Wagner"
          ],
          [
           "Trae Young"
          ],
          [
           "Donovan Mitchell"
          ],
          [
           "Cam Thomas"
          ],
          [
           "Tyler Herro"
          ],
          [
           "Joel Embiid"
          ],
          [
           "Ja Morant"
          ],
          [
           "James Harden"
          ],
          [
           "Jaylen Brown"
          ],
          [
           "DeMar DeRozan"
          ],
          [
           "Brandon Ingram"
          ],
          [
           "Jaren Jackson Jr."
          ],
          [
           "Norman Powell"
          ],
          [
           "Jalen Williams"
          ],
          [
           "Kawhi Leonard"
          ],
          [
           "Jamal Murray"
          ],
          [
           "Trey Murphy III"
          ],
          [
           "RJ Barrett"
          ],
          [
           "CJ McCollum"
          ],
          [
           "Jalen Green"
          ],
          [
           "Brandon Miller"
          ],
          [
           "Darius Garland"
          ],
          [
           "Jordan Poole"
          ],
          [
           "Coby White"
          ],
          [
           "Miles Bridges"
          ],
          [
           "Austin Reaves"
          ],
          [
           "Pascal Siakam"
          ],
          [
           "Kristaps Porzingis"
          ],
          [
           "Scottie Barnes"
          ],
          [
           "Anfernee Simons"
          ],
          [
           "Desmond Bane"
          ],
          [
           "Domantas Sabonis"
          ],
          [
           "Alperen Sengun"
          ],
          [
           "John Collins"
          ],
          [
           "Lauri Markkanen"
          ],
          [
           "Jalen Johnson"
          ],
          [
           "Cameron Johnson"
          ],
          [
           "Julius Randle"
          ],
          [
           "Tyrese Haliburton"
          ],
          [
           "Evan Mobley"
          ],
          [
           "Shaedon Sharpe"
          ],
          [
           "Nikola Vucevic"
          ],
          [
           "Collin Sexton"
          ],
          [
           "Michael Porter Jr."
          ],
          [
           "Bam Adebayo"
          ],
          [
           "OG Anunoby"
          ],
          [
           "Mikal Bridges"
          ],
          [
           "Jaden Ivey"
          ],
          [
           "Dejounte Murray"
          ],
          [
           "Malik Monk"
          ],
          [
           "Immanuel Quickley"
          ],
          [
           "Bradley Beal"
          ],
          [
           "Deni Avdija"
          ],
          [
           "Keyonte George"
          ],
          [
           "Ivica Zubac"
          ],
          [
           "Derrick White"
          ],
          [
           "Malik Beasley"
          ],
          [
           "Devin Vassell"
          ],
          [
           "Jordan Clarkson"
          ],
          [
           "Paul George"
          ],
          [
           "Jalen Suggs"
          ],
          [
           "Bennedict Mathurin"
          ],
          [
           "Myles Turner"
          ],
          [
           "Christian Braun"
          ],
          [
           "Jonathan Kuminga"
          ],
          [
           "Jared McCain"
          ],
          [
           "Mark Williams"
          ],
          [
           "Kelly Oubre Jr."
          ],
          [
           "Chet Holmgren"
          ],
          [
           "Stephon Castle"
          ],
          [
           "Aaron Gordon"
          ],
          [
           "P.J. Washington"
          ],
          [
           "Josh Giddey"
          ],
          [
           "Jakob Poeltl"
          ],
          [
           "Deandre Ayton"
          ],
          [
           "Gradey Dick"
          ],
          [
           "Jerami Grant"
          ],
          [
           "Payton Pritchard"
          ],
          [
           "Naz Reid"
          ],
          [
           "Dyson Daniels"
          ],
          [
           "Tre Mann"
          ],
          [
           "Amen Thompson"
          ],
          [
           "Fred VanVleet"
          ],
          [
           "Dillon Brooks"
          ],
          [
           "Klay Thompson"
          ],
          [
           "Bobby Portis"
          ],
          [
           "Tobias Harris"
          ],
          [
           "Josh Hart"
          ],
          [
           "Jarrett Allen"
          ],
          [
           "Onyeka Okongwu"
          ],
          [
           "Russell Westbrook"
          ],
          [
           "Naji Marshall"
          ],
          [
           "Rui Hachimura"
          ],
          [
           "Brook Lopez"
          ],
          [
           "Alex Sarr"
          ],
          [
           "Moritz Wagner"
          ],
          [
           "Malcolm Brogdon"
          ],
          [
           "Scoot Henderson"
          ],
          [
           "Keldon Johnson"
          ],
          [
           "Zaccharie Risacher"
          ],
          [
           "Santi Aldama"
          ],
          [
           "Ty Jerome"
          ],
          [
           "Keegan Murray"
          ],
          [
           "Lonnie Walker IV"
          ],
          [
           "Harrison Barnes"
          ],
          [
           "Bilal Coulibaly"
          ],
          [
           "Ayo Dosunmu"
          ],
          [
           "Daniel Gafford"
          ],
          [
           "Jaden McDaniels"
          ],
          [
           "Jabari Smith Jr."
          ],
          [
           "Drew Timme"
          ],
          [
           "Tari Eason"
          ],
          [
           "Rudy Gobert"
          ],
          [
           "Aaron Nesmith"
          ],
          [
           "Aaron Wiggins"
          ],
          [
           "Jalen Duren"
          ],
          [
           "Donte DiVincenzo"
          ],
          [
           "Brandin Podziemski"
          ],
          [
           "Corey Kispert"
          ],
          [
           "Jeremy Sochan"
          ],
          [
           "Toumani Camara"
          ],
          [
           "Isaiah Hartenstein"
          ],
          [
           "Buddy Hield"
          ],
          [
           "Jrue Holiday"
          ],
          [
           "Walker Kessler"
          ],
          [
           "Gary Trent Jr."
          ],
          [
           "Spencer Dinwiddie"
          ],
          [
           "Tim Hardaway Jr."
          ],
          [
           "Duncan Robinson"
          ],
          [
           "Guerschon Yabusele"
          ],
          [
           "Brice Sensabaugh"
          ],
          [
           "Jordan Hawkins"
          ],
          [
           "Brandon Boston Jr."
          ],
          [
           "Grayson Allen"
          ],
          [
           "Keon Johnson"
          ],
          [
           "Terry Rozier"
          ],
          [
           "Obi Toppin"
          ],
          [
           "Ochai Agbaji"
          ],
          [
           "Jaylen Wells"
          ],
          [
           "Grant Williams"
          ],
          [
           "Jose Alvarado"
          ],
          [
           "Nic Claxton"
          ],
          [
           "Herbert Jones"
          ],
          [
           "De'Anthony Melton"
          ],
          [
           "Isaiah Joe"
          ],
          [
           "Tyus Jones"
          ],
          [
           "Trendon Watford"
          ],
          [
           "Luguentz Dort"
          ],
          [
           "Justin Edwards"
          ],
          [
           "Derrick Jones Jr."
          ],
          [
           "Ausar Thompson"
          ],
          [
           "Chris Boucher"
          ],
          [
           "Andrew Nembhard"
          ],
          [
           "Ziaire Williams"
          ],
          [
           "Julian Champagnie"
          ],
          [
           "Scotty Pippen Jr."
          ],
          [
           "Nick Smith Jr."
          ],
          [
           "Bub Carrington"
          ],
          [
           "Moses Moody"
          ],
          [
           "Amir Coffey"
          ],
          [
           "Kyle Filipowski"
          ],
          [
           "Miles McBride"
          ],
          [
           "Jalen Wilson"
          ],
          [
           "Nickeil Alexander-Walker"
          ],
          [
           "Cole Anthony"
          ],
          [
           "Anthony Black"
          ],
          [
           "Max Strus"
          ],
          [
           "Cam Whitmore"
          ],
          [
           "Kel'el Ware"
          ],
          [
           "Zach Edey"
          ],
          [
           "Wendell Carter Jr."
          ],
          [
           "Noah Clowney"
          ],
          [
           "Dalton Knecht"
          ],
          [
           "A.J. Lawson"
          ],
          [
           "T.J. McConnell"
          ],
          [
           "Yves Missi"
          ],
          [
           "Royce O'Neale"
          ],
          [
           "Draymond Green"
          ],
          [
           "Killian Hayes"
          ],
          [
           "Al Horford"
          ],
          [
           "Julian Strawther"
          ],
          [
           "Patrick Williams"
          ],
          [
           "Clint Capela"
          ],
          [
           "Johnny Juzang"
          ],
          [
           "Luke Kennard"
          ],
          [
           "Justin Champagnie"
          ],
          [
           "Svi Mykhailiuk"
          ],
          [
           "Chris Paul"
          ],
          [
           "Oshae Brissett"
          ],
          [
           "Kentavious Caldwell-Pope"
          ],
          [
           "Isaiah Collier"
          ],
          [
           "Dante Exum"
          ],
          [
           "Kyshawn George"
          ],
          [
           "Jaden Hardy"
          ],
          [
           "Dereck Lively II"
          ],
          [
           "Tyrese Martin"
          ],
          [
           "Matas Buzelis"
          ],
          [
           "Jaime Jaquez Jr."
          ],
          [
           "Ja'Kobe Walter"
          ],
          [
           "Sam Hauser"
          ],
          [
           "Larry Nance Jr."
          ],
          [
           "Jaylen Nowell"
          ],
          [
           "Cason Wallace"
          ],
          [
           "Dalano Banton"
          ],
          [
           "Brandon Clarke"
          ],
          [
           "Keon Ellis"
          ],
          [
           "Brandon Williams"
          ],
          [
           "Mike Conley"
          ],
          [
           "Taurean Prince"
          ],
          [
           "Jalen Smith"
          ],
          [
           "Quinten Post"
          ],
          [
           "Peyton Watson"
          ],
          [
           "Day'Ron Sharpe"
          ],
          [
           "Karlo Matkovic"
          ],
          [
           "Lonzo Ball"
          ],
          [
           "Garrison Mathews"
          ],
          [
           "Matisse Thybulle"
          ],
          [
           "A.J. Green"
          ],
          [
           "Josh Green"
          ],
          [
           "Richaun Holmes"
          ],
          [
           "Alec Burks"
          ],
          [
           "Ricky Council IV"
          ],
          [
           "Andre Drummond"
          ],
          [
           "Goga Bitadze"
          ],
          [
           "Tristan Da Silva"
          ],
          [
           "GG Jackson II"
          ],
          [
           "Vit Krejci"
          ],
          [
           "Sam Merrill"
          ],
          [
           "Nae'Qwan Tomlin"
          ],
          [
           "Jamison Battle"
          ],
          [
           "Alex Caruso"
          ],
          [
           "Jamal Shead"
          ],
          [
           "Marcus Garrett"
          ],
          [
           "Isaiah Jackson"
          ],
          [
           "Jaylen Sims"
          ],
          [
           "Ryan Dunn"
          ],
          [
           "Jay Huff"
          ],
          [
           "Cameron Payne"
          ],
          [
           "Antonio Reeves"
          ],
          [
           "Bol Bol"
          ],
          [
           "Eric Gordon"
          ],
          [
           "Jaxson Hayes"
          ],
          [
           "Marcus Bagley"
          ],
          [
           "DaQuan Jeffries"
          ],
          [
           "Precious Achiuwa"
          ],
          [
           "Trayce Jackson-Davis"
          ],
          [
           "Marcus Sasser"
          ],
          [
           "Vince Williams Jr."
          ],
          [
           "Donovan Clingan"
          ],
          [
           "Seth Curry"
          ],
          [
           "Haywood Highsmith"
          ],
          [
           "Talen Horton-Tucker"
          ],
          [
           "Trey Lyles"
          ],
          [
           "Ajay Mitchell"
          ],
          [
           "Gary Payton II"
          ],
          [
           "Kris Dunn"
          ],
          [
           "Ron Holland"
          ],
          [
           "Gabe Vincent"
          ],
          [
           "Sandro Mamukelashvili"
          ],
          [
           "Jeremiah Robinson-Earl"
          ],
          [
           "Kenrich Williams"
          ],
          [
           "Jonathan Mogbo"
          ],
          [
           "Ryan Rollins"
          ],
          [
           "Isaac Okoro"
          ],
          [
           "Jarace Walker"
          ],
          [
           "Mouhamed Gueye"
          ],
          [
           "Luke Kornet"
          ],
          [
           "Isaiah Mobley"
          ],
          [
           "Isaiah Stewart"
          ],
          [
           "James Wiseman"
          ],
          [
           "Simone Fontecchio"
          ],
          [
           "Jaylin Williams"
          ],
          [
           "Adem Bona"
          ],
          [
           "Robert Williams"
          ],
          [
           "Moussa Diabate"
          ],
          [
           "Dariq Whitehead"
          ],
          [
           "Landry Shamet"
          ],
          [
           "Jordan Goodwin"
          ],
          [
           "Aaron Holiday"
          ],
          [
           "Jeff Green"
          ],
          [
           "Jonathan Isaac"
          ],
          [
           "Dean Wade"
          ],
          [
           "Kobe Bufkin"
          ],
          [
           "Pat Connaughton"
          ],
          [
           "Kevin Love"
          ],
          [
           "Ben Sheppard"
          ],
          [
           "Monte Morris"
          ],
          [
           "Jabari Walker"
          ],
          [
           "Bismack Biyombo"
          ],
          [
           "Mitchell Robinson"
          ],
          [
           "Malaki Branham"
          ],
          [
           "Neemias Queta"
          ],
          [
           "Jock Landale"
          ],
          [
           "Taylor Hendricks"
          ],
          [
           "Pelle Larsson"
          ],
          [
           "Julian Phillips"
          ],
          [
           "Cody Williams"
          ],
          [
           "Rob Dillingham"
          ],
          [
           "Jett Howard"
          ],
          [
           "Kevon Looney"
          ],
          [
           "Mason Plumlee"
          ],
          [
           "Dalen Terry"
          ],
          [
           "Charles Bassey"
          ],
          [
           "Tony Bradley"
          ],
          [
           "Reggie Jackson"
          ],
          [
           "Reed Sheppard"
          ],
          [
           "Lamar Stevens"
          ],
          [
           "Jevon Carter"
          ],
          [
           "Terrence Shannon Jr."
          ],
          [
           "Daniel Theis"
          ],
          [
           "Dominick Barlow"
          ],
          [
           "Oso Ighodaro"
          ],
          [
           "Kris Murray"
          ],
          [
           "Duop Reath"
          ],
          [
           "Jaylen Clark"
          ],
          [
           "Caleb Houstan"
          ],
          [
           "Jordan Miller"
          ],
          [
           "Jalen Pickett"
          ],
          [
           "Paul Reed"
          ],
          [
           "Gui Santos"
          ],
          [
           "Jarred Vanderbilt"
          ],
          [
           "Nicolas Batum"
          ],
          [
           "Malachi Flynn"
          ],
          [
           "Josh Richardson"
          ],
          [
           "Steven Adams"
          ],
          [
           "Kyle Lowry"
          ],
          [
           "Olivier-Maxence Prosper"
          ],
          [
           "Branden Carlson"
          ],
          [
           "Devin Carter"
          ],
          [
           "Ousmane Dieng"
          ],
          [
           "DeAndre Jordan"
          ],
          [
           "Craig Porter Jr."
          ],
          [
           "Blake Wesley"
          ],
          [
           "Baylor Scheierman"
          ],
          [
           "Jae'Sean Tate"
          ],
          [
           "Jaylon Tyson"
          ],
          [
           "Luka Garza"
          ],
          [
           "Cory Joseph"
          ],
          [
           "Doug McDermott"
          ],
          [
           "Dario Saric"
          ],
          [
           "Bruno Fernando"
          ],
          [
           "Andre Jackson Jr."
          ],
          [
           "Isaac Jones"
          ],
          [
           "Kevin Knox"
          ],
          [
           "Damion Lee"
          ],
          [
           "Jeenathan Williams"
          ],
          [
           "Zeke Nnaji"
          ],
          [
           "Cam Reddish"
          ],
          [
           "Gary Harris"
          ],
          [
           "Maxi Kleber"
          ],
          [
           "Rayan Rupert"
          ],
          [
           "P.J. Tucker"
          ],
          [
           "Markelle Fultz"
          ],
          [
           "Taj Gibson"
          ],
          [
           "Tyler Smith"
          ],
          [
           "Keshad Johnson"
          ],
          [
           "Jae Crowder"
          ],
          [
           "Josh Minott"
          ],
          [
           "Hunter Tyson"
          ],
          [
           "Anthony Gill"
          ],
          [
           "Dillon Jones"
          ],
          [
           "Pat Spencer"
          ],
          [
           "Johnny Davis"
          ],
          [
           "John Konchar"
          ],
          [
           "Bronny James"
          ],
          [
           "JD Davison"
          ],
          [
           "Chris Duarte"
          ],
          [
           "Johnny Furphy"
          ],
          [
           "Dwight Powell"
          ],
          [
           "Tyler Kolek"
          ],
          [
           "Kobe Brown"
          ],
          [
           "Ariel Hukporti"
          ],
          [
           "Bobi Klintman"
          ],
          [
           "Garrett Temple"
          ],
          [
           "Vlatko Cancar"
          ],
          [
           "E.J. Liddell"
          ],
          [
           "Pacome Dadiet"
          ],
          [
           "Tristan Thompson"
          ],
          [
           "Jordan Walsh"
          ],
          [
           "Phillip Wheeler"
          ],
          [
           "Leonard Miller"
          ],
          [
           "Matt Ryan"
          ],
          [
           "Cam Christie"
          ],
          [
           "Chris Livingston"
          ],
          [
           "Skal Labissiere"
          ],
          [
           "Yuri Collins"
          ],
          [
           "Braxton Key"
          ],
          [
           "Xavier Tillman Sr."
          ],
          [
           "PJ Dozier"
          ],
          [
           "Joe Ingles"
          ],
          [
           "James Johnson"
          ],
          [
           "Malevy Leons"
          ],
          [
           "Daishen Nix"
          ],
          [
           "Terence Davis"
          ],
          [
           "Jalen McDaniels"
          ],
          [
           "Jahlil Okafor"
          ],
          [
           "Terry Taylor"
          ],
          [
           "Luka Doncic"
          ],
          [
           "Anthony Davis"
          ],
          [
           "De'Aaron Fox"
          ],
          [
           "Zach LaVine"
          ],
          [
           "Andrew Wiggins"
          ],
          [
           "Jimmy Butler"
          ],
          [
           "De'Andre Hunter"
          ],
          [
           "Kyle Kuzma"
          ],
          [
           "Quentin Grimes"
          ],
          [
           "Dennis Schroder"
          ],
          [
           "D'Angelo Russell"
          ],
          [
           "Caris LeVert"
          ],
          [
           "Khris Middleton"
          ],
          [
           "Bogdan Bogdanovic"
          ],
          [
           "Jonas Valanciunas"
          ],
          [
           "Kevin Porter Jr."
          ],
          [
           "Kevin Huerter"
          ],
          [
           "Georges Niang"
          ],
          [
           "Max Christie"
          ],
          [
           "Nick Richards"
          ],
          [
           "Jared Butler"
          ],
          [
           "Marcus Smart"
          ],
          [
           "Jusuf Nurkic"
          ],
          [
           "Kelly Olynyk"
          ],
          [
           "Dorian Finney-Smith"
          ],
          [
           "Jared Rhoden"
          ],
          [
           "Bruce Brown"
          ],
          [
           "Davion Mitchell"
          ],
          [
           "Caleb Martin"
          ],
          [
           "Terance Mann"
          ],
          [
           "AJ Johnson"
          ],
          [
           "Tre Jones"
          ],
          [
           "Josh Okogie"
          ],
          [
           "Jalen Hood-Schifino"
          ],
          [
           "Orlando Robinson"
          ],
          [
           "Jake LaRavia"
          ],
          [
           "Cody Martin"
          ],
          [
           "Vasilije Micic"
          ],
          [
           "Thomas Bryant"
          ],
          [
           "Zach Collins"
          ],
          [
           "KJ Martin"
          ],
          [
           "Bones Hyland"
          ],
          [
           "Cole Swider"
          ],
          [
           "Chuma Okeke"
          ],
          [
           "Kyle Anderson"
          ],
          [
           "Moses Brown"
          ],
          [
           "Shake Milton"
          ],
          [
           "Javonte Green"
          ],
          [
           "Ben Simmons"
          ],
          [
           "Lindy Waters III"
          ],
          [
           "Colin Castleton"
          ],
          [
           "David Roddy"
          ],
          [
           "Drew Eubanks"
          ],
          [
           "Marvin Bagley III"
          ],
          [
           "Mo Bamba"
          ],
          [
           "Torrey Craig"
          ],
          [
           "Wendell Moore Jr."
          ],
          [
           "Maxwell Lewis"
          ],
          [
           "Colby Jones"
          ],
          [
           "Patty Mills"
          ],
          [
           "Markieff Morris"
          ],
          [
           "Elfrid Payton"
          ],
          [
           "Delon Wright"
          ],
          [
           "Kylor Kelley"
          ],
          [
           "Jaden Springer"
          ],
          [
           "MarJon Beauchamp"
          ],
          [
           "Patrick Baldwin Jr."
          ],
          [
           "Jordan McLaughlin"
          ],
          [
           "Jericho Sims"
          ],
          [
           "Alex Len"
          ],
          [
           "Sidy Cissoko"
          ]
         ],
         "hovertemplate": "Salary ($M)=%{x:.2f}<br>MP=%{y}<br>Player=%{customdata[0]}<extra></extra>",
         "legendgroup": "",
         "marker": {
          "color": "skyblue",
          "symbol": "circle"
         },
         "mode": "markers",
         "name": "",
         "orientation": "v",
         "showlegend": false,
         "type": "scatter",
         "x": [
          35.85995,
          48.787676,
          51.415938,
          42.1764,
          34.84834,
          51.179021,
          35.147,
          13.940809,
          24.960001,
          12.1608,
          49.2058,
          35.147,
          48.787676,
          41,
          36.72567,
          55.761216,
          48.728845,
          49.2058,
          12.76896,
          7.007092,
          43.03194,
          35.41031,
          4.041249,
          29,
          51.415938,
          36.72567,
          33.653846,
          49.2058,
          23.4,
          36.0162,
          25.257798,
          19.241379,
          4.77576,
          49.2058,
          36.0162,
          5.159854,
          25.794643,
          33.333333,
          12.483048,
          11.4246,
          36.72567,
          29.651786,
          12,
          27.173913,
          12.976362,
          42.1764,
          29.268293,
          10.13098,
          25.892857,
          34.00525,
          40.5,
          5.424654,
          26.58,
          42.1764,
          4.510905,
          22.5,
          33.07392,
          42.1764,
          11.227657,
          6.61416,
          20,
          18.35,
          35.85995,
          34.84834,
          36.637932,
          23.3,
          7.97724,
          29.517135,
          17.405203,
          32.5,
          50.20393,
          15.625,
          4.0842,
          11.74321,
          20.071429,
          6,
          29.347826,
          14.092577,
          49.2058,
          9.188385,
          7.24572,
          19.9285,
          3.08964,
          7.636307,
          4.02036,
          4.09428,
          7.983,
          10.88064,
          9.10512,
          22.841455,
          15.5,
          8.352367,
          19.5,
          34.005126,
          4.76376,
          29.793104,
          6.696429,
          13.986432,
          6.05952,
          4.908373,
          9.24996,
          42.846615,
          22.255493,
          15.873016,
          12.578286,
          25.365854,
          18.144,
          20,
          14,
          5.631296,
          8.571429,
          17,
          23,
          11.24568,
          11,
          22.5,
          10.25916,
          19,
          12.56904,
          3.960531,
          2.560975,
          8.80956,
          0.780932,
          18,
          6.94524,
          7,
          13.39416,
          23.017242,
          9.77088,
          0.113055,
          3.69516,
          43.827586,
          11,
          10.514017,
          4.53684,
          11.445,
          3.51996,
          5.705887,
          5.57004,
          1.891857,
          30,
          8.780488,
          30,
          2.96592,
          2.087519,
          2.087519,
          16.193183,
          19.406,
          2.087519,
          2.57148,
          4.52568,
          0.596581,
          15.625,
          2.162606,
          24.924126,
          12.975,
          4.31028,
          1.157153,
          13.02525,
          1.988598,
          27.556817,
          12.976362,
          12.822,
          12.99165,
          2.087519,
          2.726603,
          16.5,
          0.425619,
          9.52381,
          8.376,
          10.81,
          2.019699,
          6.133005,
          3,
          2.087519,
          2.5872,
          4.45488,
          5.803269,
          3.938271,
          3,
          4.710144,
          1.891857,
          4.3125,
          12.9,
          7.60776,
          15.212068,
          3.37908,
          4.2318,
          5.75688,
          11.95,
          3.24408,
          3.81912,
          0.1,
          9.3,
          3.1932,
          9.375,
          24.107143,
          0.119972,
          9.5,
          2.55252,
          18,
          22.26528,
          3.087519,
          9.25,
          1.8,
          3.5,
          10.46,
          0.119972,
          22.757,
          2.51268,
          3.15,
          2.82552,
          2.019699,
          5.01456,
          0.635853,
          5.19552,
          3.6858,
          3.465,
          2.092344,
          11.205,
          0.446743,
          5.55588,
          2.19697,
          12.5,
          2.120693,
          0.047989,
          9.975962,
          2.087519,
          8.571429,
          0.43892,
          2.41356,
          3.989122,
          1.407153,
          21.395348,
          2.230253,
          11.025,
          2.120693,
          12.654321,
          12.648321,
          2.087519,
          1.891857,
          5,
          9.057971,
          3.62844,
          1.891857,
          2.162606,
          2.164993,
          0.066503,
          1,
          9.89,
          1.862265,
          0.107027,
          4.435381,
          0.073153,
          2.5308,
          2.088033,
          2.087519,
          1.157153,
          2.087519,
          3.303771,
          2.463946,
          0.126356,
          2.425404,
          6,
          1.891857,
          2.75508,
          2.120693,
          6.8364,
          2.087519,
          5.2,
          2.087519,
          8,
          3,
          9.13,
          5.168,
          8.24532,
          11,
          2.087519,
          2.19697,
          6.669,
          1.862265,
          1.091887,
          10.185186,
          6.36252,
          1.891857,
          2.087519,
          0.011997,
          15,
          2.237691,
          7.692308,
          2.019699,
          1.157153,
          12.428571,
          0.957763,
          3.11424,
          1.34369,
          0.223718,
          4.668,
          8,
          25,
          6.166667,
          4.299,
          9.423869,
          3.85,
          2.66388,
          2.087519,
          2.019699,
          0.647851,
          14.318182,
          3.21792,
          2.162606,
          8,
          5.84868,
          1.157153,
          1.891857,
          5.46912,
          6.26292,
          5.27832,
          8,
          2.087519,
          3.51048,
          2.087519,
          0.600545,
          4.033748,
          10.09896,
          0.623856,
          6.5,
          2.54664,
          2.087519,
          0.491887,
          1.157153,
          2.99004,
          2.04878,
          0.492323,
          2.019699,
          1.05,
          1.891857,
          3.913234,
          1.891857,
          10.714286,
          4.668,
          0.119972,
          3.051153,
          12.6,
          2.087519,
          2.8704,
          0.496519,
          4.689,
          5.02704,
          2.087519,
          1.891857,
          2.62428,
          2.49432,
          7.565217,
          3.32616,
          2.162606,
          3.303771,
          2.087519,
          5.168,
          1.115128,
          1.891857,
          0.152957,
          0.503883,
          2.087519,
          0.515881,
          8.888889,
          2.463946,
          7.5,
          11,
          1.891857,
          12.025777,
          0.731831,
          2.087519,
          1.157153,
          0.724883,
          1.655619,
          2.019699,
          1.891857,
          2.237691,
          2.62236,
          0.43881,
          5.29116,
          6.165,
          1.157153,
          0.011997,
          5.893768,
          1.850842,
          4,
          2.087519,
          2.53392,
          1.064049,
          1.257153,
          2.087519,
          2.087519,
          0.706898,
          1.80808,
          2.087519,
          1.891857,
          0.066503,
          1.891857,
          0.621439,
          1.157153,
          1.891857,
          0.119972,
          0.066503,
          0.011997,
          2.237691,
          1.051255,
          2.087519,
          2.087519,
          0.126356,
          0.119972,
          0.064301,
          4.861772,
          0.119972,
          0.119972,
          43.03194,
          43.21944,
          34.84834,
          44.53194,
          26.276786,
          48.798677,
          21.696429,
          24.456061,
          4.296682,
          13.02525,
          18.692307,
          16.615384,
          31,
          17.26,
          9.9,
          3.366937,
          16.830357,
          8.5,
          7.142857,
          5,
          0.745726,
          20.210284,
          18.125,
          12.804878,
          14.924167,
          0.119972,
          23,
          6.451077,
          9.186594,
          11.423077,
          2.795294,
          9.104167,
          8.25,
          3.87984,
          1.69161,
          3.35268,
          8.12,
          7.723,
          2.087519,
          16.7412,
          7.975,
          4.158439,
          0.227947,
          0.355687,
          8.780488,
          0.426632,
          2.875,
          2.32835,
          40.011909,
          2.19697,
          0.421081,
          2.967212,
          5,
          12.5,
          2.207491,
          3.625162,
          2.53704,
          1.891857,
          2.120693,
          2.087519,
          2.087519,
          0.789048,
          2.087519,
          0.073153,
          4.772772,
          2.73372,
          2.44884,
          2.087519,
          2.092344,
          2.831348,
          1.891857
         ],
         "xaxis": "x",
         "y": [
          34.2,
          34.2,
          36.7,
          36.3,
          36.4,
          36.5,
          37.7,
          35,
          35.4,
          34.4,
          37.3,
          32,
          36.1,
          36.1,
          28.6,
          32.2,
          34.9,
          35,
          33.2,
          33.7,
          36,
          31.4,
          31.2,
          35.4,
          30.2,
          30.4,
          35.3,
          34.3,
          35.9,
          33.1,
          29.8,
          32.6,
          32.4,
          31.9,
          36.1,
          35,
          32.2,
          32.7,
          32.9,
          34.2,
          30.7,
          29.4,
          33.1,
          31.7,
          34.9,
          32.7,
          28.8,
          32.8,
          32.7,
          32,
          34.7,
          31.5,
          30.5,
          31.4,
          35.7,
          31.6,
          32.3,
          33.6,
          30.5,
          31.3,
          31.2,
          27.9,
          33.7,
          34.3,
          36.6,
          37,
          29.9,
          32.6,
          31.6,
          27.8,
          32.1,
          30,
          31.5,
          32.8,
          33.9,
          27.8,
          31,
          26,
          32.5,
          28.6,
          29.8,
          30.2,
          33.9,
          24.3,
          25.7,
          26.6,
          34.6,
          27.4,
          26.7,
          28.4,
          32.2,
          30.2,
          29.6,
          30.2,
          29.4,
          32.4,
          28.4,
          27.5,
          33.8,
          24.5,
          32.2,
          35.2,
          31.8,
          27.3,
          25.4,
          31.6,
          37.6,
          28,
          27.9,
          27.9,
          27.8,
          31.7,
          31.8,
          27.1,
          18.8,
          23.5,
          26.7,
          23.9,
          24.6,
          25.5,
          19.9,
          34.3,
          23.9,
          27.2,
          33,
          30.3,
          21.5,
          31.9,
          30.1,
          28.2,
          24.9,
          33.2,
          25,
          22.9,
          26.1,
          25.9,
          26.8,
          26.3,
          25.3,
          32.7,
          27.9,
          22.7,
          30.6,
          30,
          25.6,
          27,
          28,
          24.1,
          27.1,
          20.2,
          23.6,
          23.6,
          24.1,
          24.4,
          25.9,
          19.6,
          27.2,
          25.9,
          29.9,
          24.4,
          26.9,
          32.4,
          20.2,
          21.7,
          26.8,
          20.8,
          29.2,
          26.3,
          24.3,
          22.5,
          17.2,
          28.9,
          24.5,
          23.6,
          21.3,
          22.8,
          30,
          22.3,
          24.3,
          21.1,
          24.9,
          25.7,
          25.3,
          18.4,
          24.2,
          25.5,
          16.2,
          22.2,
          21.5,
          25.9,
          22.7,
          19.2,
          18.7,
          17.9,
          26.8,
          24.5,
          29.2,
          27,
          27.7,
          21.3,
          25,
          21.4,
          19.8,
          22.6,
          21.6,
          20,
          28,
          23.7,
          29.6,
          25.9,
          18.6,
          26.5,
          15.9,
          23.1,
          21.9,
          18.9,
          20.7,
          21.2,
          21.7,
          19.3,
          21,
          27.6,
          16.7,
          18.9,
          24.4,
          14.8,
          24.7,
          27.1,
          15,
          16.3,
          24.4,
          18.1,
          18.8,
          22.2,
          17.7,
          20.8,
          22.7,
          27.8,
          17.2,
          17.6,
          17.1,
          18.8,
          20.4,
          22,
          15.8,
          20.2,
          19.7,
          12.6,
          17.7,
          19.3,
          19.6,
          19.8,
          16.8,
          18.7,
          19.1,
          11.7,
          15.1,
          15,
          12.4,
          19.7,
          19.5,
          25.3,
          22.8,
          20.5,
          15.6,
          14.2,
          18.5,
          19.8,
          15.6,
          24.6,
          12.5,
          19.6,
          16.6,
          15,
          24.1,
          15.6,
          21.2,
          11.2,
          18.8,
          16.4,
          20.4,
          14.6,
          19.1,
          15.8,
          16.2,
          18.6,
          17,
          19.9,
          5,
          16.5,
          16.7,
          15.6,
          17.6,
          17.5,
          12.3,
          15.2,
          18.7,
          12.8,
          12.4,
          15.4,
          21.2,
          12.4,
          14.7,
          10.9,
          19.5,
          12.7,
          12.5,
          18.9,
          17.1,
          9.1,
          13.9,
          11.9,
          25,
          14.2,
          14.2,
          21.2,
          10.5,
          11.7,
          15,
          17.6,
          13.5,
          10.4,
          8.1,
          12.4,
          12.6,
          9.1,
          8.9,
          10.6,
          16.3,
          10.7,
          17.1,
          15.1,
          10.2,
          13.1,
          13.6,
          11.4,
          13.6,
          9.7,
          13.6,
          16.1,
          17.5,
          11,
          18.8,
          13.7,
          18.8,
          11.2,
          7.7,
          11,
          10.9,
          12.3,
          10.1,
          11.8,
          12.4,
          11.3,
          9.6,
          5.6,
          12.2,
          8.1,
          13.1,
          8.6,
          14.6,
          7.6,
          6,
          5.8,
          7.4,
          10.7,
          17.8,
          14.8,
          18.7,
          8.8,
          19.3,
          8.8,
          11.1,
          5.3,
          6.1,
          11.4,
          6,
          7.8,
          7.8,
          10.2,
          6.4,
          7.1,
          12.1,
          6.7,
          5.8,
          4.4,
          7.6,
          10,
          7.2,
          6.8,
          8.7,
          5.3,
          8.1,
          10.5,
          4.4,
          6.2,
          8.2,
          7.8,
          8.8,
          2.5,
          3.6,
          4.5,
          5,
          3,
          8,
          3.7,
          7,
          3.9,
          6,
          3.1,
          3.5,
          4.3,
          8,
          1.8,
          3,
          2,
          35.4,
          33.5,
          36.1,
          35.2,
          30.7,
          31.7,
          27.2,
          29.8,
          26.8,
          28.1,
          25.5,
          24.9,
          22.8,
          25,
          18.8,
          19.8,
          24.3,
          21.5,
          27.3,
          22,
          17.4,
          20,
          20.8,
          20.3,
          28.9,
          16.2,
          22.5,
          27.4,
          27.1,
          21.1,
          22,
          19.7,
          15.6,
          21,
          17.5,
          20.4,
          22.1,
          19.1,
          14.6,
          15.3,
          21.2,
          10,
          16.9,
          21.8,
          16.4,
          9.2,
          14.7,
          18.5,
          22,
          15,
          16.6,
          12.4,
          12.2,
          8.5,
          12.9,
          12.1,
          13.9,
          11.7,
          13.2,
          11.1,
          11,
          21.3,
          15.9,
          11.5,
          8.5,
          4.5,
          4.5,
          6.8,
          11.9,
          8.3,
          5.2
         ],
         "yaxis": "y"
        },
        {
         "hovertemplate": "<b>OLS trendline</b><br>MP = 0.471341 * Salary_M + 16.1135<br>R<sup>2</sup>=0.425461<br><br>Salary ($M)=%{x:.2f}<br>MP=%{y} <b>(trend)</b><extra></extra>",
         "legendgroup": "",
         "line": {
          "color": "black"
         },
         "marker": {
          "color": "skyblue",
          "symbol": "circle"
         },
         "mode": "lines",
         "name": "",
         "showlegend": false,
         "type": "scatter",
         "x": [
          0.011997,
          0.011997,
          0.011997,
          0.047989,
          0.064301,
          0.066503,
          0.066503,
          0.066503,
          0.073153,
          0.073153,
          0.1,
          0.107027,
          0.113055,
          0.119972,
          0.119972,
          0.119972,
          0.119972,
          0.119972,
          0.119972,
          0.119972,
          0.119972,
          0.126356,
          0.126356,
          0.152957,
          0.223718,
          0.227947,
          0.355687,
          0.421081,
          0.425619,
          0.426632,
          0.43881,
          0.43892,
          0.446743,
          0.491887,
          0.492323,
          0.496519,
          0.503883,
          0.515881,
          0.596581,
          0.600545,
          0.621439,
          0.623856,
          0.635853,
          0.647851,
          0.706898,
          0.724883,
          0.731831,
          0.745726,
          0.780932,
          0.789048,
          0.957763,
          1,
          1.05,
          1.051255,
          1.064049,
          1.091887,
          1.115128,
          1.157153,
          1.157153,
          1.157153,
          1.157153,
          1.157153,
          1.157153,
          1.157153,
          1.157153,
          1.257153,
          1.34369,
          1.407153,
          1.655619,
          1.69161,
          1.8,
          1.80808,
          1.850842,
          1.862265,
          1.862265,
          1.891857,
          1.891857,
          1.891857,
          1.891857,
          1.891857,
          1.891857,
          1.891857,
          1.891857,
          1.891857,
          1.891857,
          1.891857,
          1.891857,
          1.891857,
          1.891857,
          1.891857,
          1.891857,
          1.891857,
          1.891857,
          1.988598,
          2.019699,
          2.019699,
          2.019699,
          2.019699,
          2.019699,
          2.019699,
          2.04878,
          2.087519,
          2.087519,
          2.087519,
          2.087519,
          2.087519,
          2.087519,
          2.087519,
          2.087519,
          2.087519,
          2.087519,
          2.087519,
          2.087519,
          2.087519,
          2.087519,
          2.087519,
          2.087519,
          2.087519,
          2.087519,
          2.087519,
          2.087519,
          2.087519,
          2.087519,
          2.087519,
          2.087519,
          2.087519,
          2.087519,
          2.087519,
          2.087519,
          2.087519,
          2.087519,
          2.087519,
          2.087519,
          2.087519,
          2.088033,
          2.092344,
          2.092344,
          2.120693,
          2.120693,
          2.120693,
          2.120693,
          2.162606,
          2.162606,
          2.162606,
          2.162606,
          2.164993,
          2.19697,
          2.19697,
          2.19697,
          2.207491,
          2.230253,
          2.237691,
          2.237691,
          2.237691,
          2.32835,
          2.41356,
          2.425404,
          2.44884,
          2.463946,
          2.463946,
          2.49432,
          2.51268,
          2.5308,
          2.53392,
          2.53704,
          2.54664,
          2.55252,
          2.560975,
          2.57148,
          2.5872,
          2.62236,
          2.62428,
          2.66388,
          2.726603,
          2.73372,
          2.75508,
          2.795294,
          2.82552,
          2.831348,
          2.8704,
          2.875,
          2.96592,
          2.967212,
          2.99004,
          3,
          3,
          3,
          3.051153,
          3.087519,
          3.08964,
          3.11424,
          3.15,
          3.1932,
          3.21792,
          3.24408,
          3.303771,
          3.303771,
          3.32616,
          3.35268,
          3.366937,
          3.37908,
          3.465,
          3.5,
          3.51048,
          3.51996,
          3.625162,
          3.62844,
          3.6858,
          3.69516,
          3.81912,
          3.85,
          3.87984,
          3.913234,
          3.938271,
          3.960531,
          3.989122,
          4,
          4.02036,
          4.033748,
          4.041249,
          4.0842,
          4.09428,
          4.158439,
          4.2318,
          4.296682,
          4.299,
          4.31028,
          4.3125,
          4.435381,
          4.45488,
          4.510905,
          4.52568,
          4.53684,
          4.668,
          4.668,
          4.689,
          4.710144,
          4.76376,
          4.772772,
          4.77576,
          4.861772,
          4.908373,
          5,
          5,
          5,
          5.01456,
          5.02704,
          5.159854,
          5.168,
          5.168,
          5.19552,
          5.2,
          5.27832,
          5.29116,
          5.424654,
          5.46912,
          5.55588,
          5.57004,
          5.631296,
          5.705887,
          5.75688,
          5.803269,
          5.84868,
          5.893768,
          6,
          6,
          6.05952,
          6.133005,
          6.165,
          6.166667,
          6.26292,
          6.36252,
          6.451077,
          6.5,
          6.61416,
          6.669,
          6.696429,
          6.8364,
          6.94524,
          7,
          7.007092,
          7.142857,
          7.24572,
          7.5,
          7.565217,
          7.60776,
          7.636307,
          7.692308,
          7.723,
          7.975,
          7.97724,
          7.983,
          8,
          8,
          8,
          8,
          8.12,
          8.24532,
          8.25,
          8.352367,
          8.376,
          8.5,
          8.571429,
          8.571429,
          8.780488,
          8.780488,
          8.80956,
          8.888889,
          9.057971,
          9.104167,
          9.10512,
          9.13,
          9.186594,
          9.188385,
          9.24996,
          9.25,
          9.3,
          9.375,
          9.423869,
          9.5,
          9.52381,
          9.77088,
          9.89,
          9.9,
          9.975962,
          10.09896,
          10.13098,
          10.185186,
          10.25916,
          10.46,
          10.514017,
          10.714286,
          10.81,
          10.88064,
          11,
          11,
          11,
          11,
          11.025,
          11.205,
          11.227657,
          11.24568,
          11.423077,
          11.4246,
          11.445,
          11.74321,
          11.95,
          12,
          12.025777,
          12.1608,
          12.428571,
          12.483048,
          12.5,
          12.5,
          12.56904,
          12.578286,
          12.6,
          12.648321,
          12.654321,
          12.76896,
          12.804878,
          12.822,
          12.9,
          12.975,
          12.976362,
          12.976362,
          12.99165,
          13.02525,
          13.02525,
          13.39416,
          13.940809,
          13.986432,
          14,
          14.092577,
          14.318182,
          14.924167,
          15,
          15.212068,
          15.5,
          15.625,
          15.625,
          15.873016,
          16.193183,
          16.5,
          16.615384,
          16.7412,
          16.830357,
          17,
          17.26,
          17.405203,
          18,
          18,
          18.125,
          18.144,
          18.35,
          18.692307,
          19,
          19.241379,
          19.406,
          19.5,
          19.9285,
          20,
          20,
          20.071429,
          20.210284,
          21.395348,
          21.696429,
          22.255493,
          22.26528,
          22.5,
          22.5,
          22.757,
          22.841455,
          23,
          23,
          23.017242,
          23.3,
          23.4,
          24.107143,
          24.456061,
          24.924126,
          24.960001,
          25,
          25.257798,
          25.365854,
          25.794643,
          25.892857,
          26.276786,
          26.58,
          27.173913,
          27.556817,
          29,
          29.268293,
          29.347826,
          29.517135,
          29.651786,
          29.793104,
          30,
          30,
          31,
          32.5,
          33.07392,
          33.333333,
          33.653846,
          34.005126,
          34.00525,
          34.84834,
          34.84834,
          34.84834,
          35.147,
          35.147,
          35.41031,
          35.85995,
          35.85995,
          36.0162,
          36.0162,
          36.637932,
          36.72567,
          36.72567,
          36.72567,
          40.011909,
          40.5,
          41,
          42.1764,
          42.1764,
          42.1764,
          42.1764,
          42.846615,
          43.03194,
          43.03194,
          43.21944,
          43.827586,
          44.53194,
          48.728845,
          48.787676,
          48.787676,
          48.798677,
          49.2058,
          49.2058,
          49.2058,
          49.2058,
          49.2058,
          50.20393,
          51.179021,
          51.415938,
          51.415938,
          55.761216
         ],
         "xaxis": "x",
         "y": [
          16.119130941946423,
          16.119130941946423,
          16.119130941946423,
          16.136095442019997,
          16.14378395405601,
          16.14482184661997,
          16.14482184661997,
          16.14482184661997,
          16.147956263309492,
          16.147956263309492,
          16.160610351258903,
          16.163922463450973,
          16.166763706128332,
          16.170023970826293,
          16.170023970826293,
          16.170023970826293,
          16.170023970826293,
          16.170023970826293,
          16.170023970826293,
          16.170023970826293,
          16.170023970826293,
          16.173033010848233,
          16.173033010848233,
          16.185571148947176,
          16.218923699227968,
          16.220916999706162,
          16.28112608059632,
          16.31194894450528,
          16.314087889307846,
          16.314565357594535,
          16.320305346533633,
          16.320357194027743,
          16.324044493540846,
          16.345322705124573,
          16.3455282097376,
          16.34750595596756,
          16.350976910027956,
          16.35663205761305,
          16.394669264657328,
          16.396537659808796,
          16.406385855645016,
          16.40752508649292,
          16.413179762737162,
          16.418834910322257,
          16.446666173820933,
          16.45514323910831,
          16.45841811537279,
          16.464967396560898,
          16.481561422722,
          16.48538682510578,
          16.564909097552803,
          16.584817121269396,
          16.608384164047756,
          16.608975696821492,
          16.61500603172762,
          16.6281272184649,
          16.63908165128914,
          16.65888975074435,
          16.65888975074435,
          16.65888975074435,
          16.65888975074435,
          16.65888975074435,
          16.65888975074435,
          16.65888975074435,
          16.65888975074435,
          16.70602383630107,
          16.74681225991929,
          16.776724964636156,
          16.893837141655517,
          16.910801170388236,
          16.961889805723168,
          16.96569823983615,
          16.985853717501914,
          16.99123784409506,
          16.99123784409506,
          17.005185762693003,
          17.005185762693003,
          17.005185762693003,
          17.005185762693003,
          17.005185762693003,
          17.005185762693003,
          17.005185762693003,
          17.005185762693003,
          17.005185762693003,
          17.005185762693003,
          17.005185762693003,
          17.005185762693003,
          17.005185762693003,
          17.005185762693003,
          17.005185762693003,
          17.005185762693003,
          17.005185762693003,
          17.005185762693003,
          17.050783748401432,
          17.065442920350428,
          17.065442920350428,
          17.065442920350428,
          17.065442920350428,
          17.065442920350428,
          17.065442920350428,
          17.079149983771178,
          17.097409257175,
          17.097409257175,
          17.097409257175,
          17.097409257175,
          17.097409257175,
          17.097409257175,
          17.097409257175,
          17.097409257175,
          17.097409257175,
          17.097409257175,
          17.097409257175,
          17.097409257175,
          17.097409257175,
          17.097409257175,
          17.097409257175,
          17.097409257175,
          17.097409257175,
          17.097409257175,
          17.097409257175,
          17.097409257175,
          17.097409257175,
          17.097409257175,
          17.097409257175,
          17.097409257175,
          17.097409257175,
          17.097409257175,
          17.097409257175,
          17.097409257175,
          17.097409257175,
          17.097409257175,
          17.097409257175,
          17.097409257175,
          17.097409257175,
          17.097651526374758,
          17.099683476803108,
          17.099683476803108,
          17.113045518717584,
          17.113045518717584,
          17.113045518717584,
          17.113045518717584,
          17.132800827996974,
          17.132800827996974,
          17.132800827996974,
          17.132800827996974,
          17.133925918619212,
          17.148997985157685,
          17.148997985157685,
          17.148997985157685,
          17.153956962299105,
          17.164685622853526,
          17.168191456137237,
          17.168191456137237,
          17.168191456137237,
          17.210922746762105,
          17.251085701064987,
          17.256668262158325,
          17.2677146064494,
          17.274834681413598,
          17.274834681413598,
          17.289151188560595,
          17.29780500666881,
          17.306345702971687,
          17.307816286441057,
          17.309286869910427,
          17.31381174212387,
          17.316583226354606,
          17.320568413288427,
          17.32551984897616,
          17.332929327225678,
          17.349501671707422,
          17.35040664615011,
          17.36907174403057,
          17.398635656514315,
          17.401990189383387,
          17.4120580300583,
          17.43101253122408,
          17.445259279924457,
          17.4480062544307,
          17.466413057522313,
          17.46858122545792,
          17.511435536046093,
          17.512044508431487,
          17.522804277482376,
          17.527498832403822,
          17.527498832403822,
          17.527498832403822,
          17.551609331188654,
          17.56875011274221,
          17.569749826696867,
          17.581344811743822,
          17.598199960738906,
          17.61856188569941,
          17.630213431649032,
          17.64254370843067,
          17.670678515440333,
          17.670678515440333,
          17.681231365855627,
          17.69373132534527,
          17.70045123192309,
          17.706174723932243,
          17.74667233024258,
          17.763169260187432,
          17.768108912353775,
          17.772577223664552,
          17.822163224351932,
          17.823708279676485,
          17.850744391151817,
          17.855156141559927,
          17.91358355401604,
          17.928138559635954,
          17.94220337076608,
          17.957943327296892,
          17.96974428829773,
          17.980236335742656,
          17.993712442144176,
          17.99883968797104,
          18.008436187790387,
          18.01474649916472,
          18.01828202692233,
          18.0385265880098,
          18.043277703833915,
          18.07351846178625,
          18.108096498291516,
          18.138678035682428,
          18.139770603785635,
          18.145087328636432,
          18.146133705335792,
          18.204052541008746,
          18.21324321635145,
          18.239650087784604,
          18.24661414892561,
          18.25187431287374,
          18.313695379489936,
          18.313695379489936,
          18.323593537456848,
          18.33355956850696,
          18.358830979819054,
          18.363078703609425,
          18.364487070085858,
          18.405028039754907,
          18.426992994965193,
          18.470180543538252,
          18.470180543538252,
          18.470180543538252,
          18.47704326639531,
          18.48292560027279,
          18.545526264664094,
          18.549365807273542,
          18.549365807273542,
          18.562337107618752,
          18.564448714651693,
          18.601364130459718,
          18.6074161470452,
          18.67033732321829,
          18.691295965701944,
          18.732189498330953,
          18.738863684845786,
          18.76773614029441,
          18.802893926052025,
          18.826929010299963,
          18.848794041248873,
          18.870198100841034,
          18.89144991733685,
          18.941521399105465,
          18.941521399105465,
          18.969575606828826,
          19.00421208960018,
          19.019292640274056,
          19.020078365480288,
          19.065446336851195,
          19.11239188606569,
          19.154132418212157,
          19.17719182688907,
          19.231000098960624,
          19.25684843147993,
          19.269776839807285,
          19.33575089070188,
          19.38705162942182,
          19.412862254672678,
          19.416205004020362,
          19.480196595276443,
          19.528680129702654,
          19.648532682456285,
          19.67927211903381,
          19.699324373052207,
          19.712779740456085,
          19.739175299708705,
          19.753641693247772,
          19.87241958885071,
          19.873475392367183,
          19.87619031569525,
          19.88420311023989,
          19.88420311023989,
          19.88420311023989,
          19.88420311023989,
          19.94076401290796,
          19.99983244892764,
          20.002038324131696,
          20.050288073493544,
          20.061427271933162,
          20.119873538023498,
          20.15354094399581,
          20.15354094399581,
          20.252078991919838,
          20.252078991919838,
          20.265781813272884,
          20.303172812004178,
          20.382868066545193,
          20.404642128708975,
          20.40509131654433,
          20.416818277030842,
          20.443493341410814,
          20.444337512883138,
          20.473360326064686,
          20.47337917969891,
          20.49694622247727,
          20.53229678664481,
          20.555330742915526,
          20.59121439359071,
          20.602437019361766,
          20.718891204546757,
          20.775037327261927,
          20.7797507358176,
          20.815554729888195,
          20.87352871244125,
          20.888621046636512,
          20.914170549053388,
          20.94903751750312,
          21.043701614935237,
          21.06916203393041,
          21.163556995734,
          21.208670914383763,
          21.24196643242103,
          21.298225676941534,
          21.298225676941534,
          21.298225676941534,
          21.298225676941534,
          21.310009198330714,
          21.394850552332812,
          21.4055297220974,
          21.414024698337286,
          21.497639152092344,
          21.49835700421537,
          21.507972357668944,
          21.64853091420764,
          21.745999489730387,
          21.769566532508748,
          21.781716285742704,
          21.845358142083956,
          21.971569554320045,
          21.99724679010878,
          22.005236960292354,
          22.005236960292354,
          22.037778332960713,
          22.04213635051129,
          22.052371045849075,
          22.075146707330937,
          22.077974752464343,
          22.132008796805714,
          22.148938417655977,
          22.157008715784997,
          22.19377330251924,
          22.22912386668678,
          22.229765832932063,
          22.229765832932063,
          22.236971691931974,
          22.252808744679033,
          22.252808744679033,
          22.426691099706332,
          22.684349107061294,
          22.70585309091484,
          22.712248243643174,
          22.75588356602902,
          22.862220419749264,
          23.14784590811016,
          23.183589099210387,
          23.283545411768817,
          23.419259526993997,
          23.478177133939898,
          23.478177133939898,
          23.595077207574256,
          23.745984995278643,
          23.89060038256121,
          23.944985575839976,
          24.00428779692402,
          24.046311133583828,
          24.126270810344813,
          24.248819432792292,
          24.317259539043217,
          24.59761166591203,
          24.59761166591203,
          24.65652927285793,
          24.66548474911371,
          24.762580965360556,
          24.9239242396072,
          25.068952521479243,
          25.182724305855203,
          25.26031690883953,
          25.30462294926285,
          25.5065925058734,
          25.540293377046456,
          25.540293377046456,
          25.573960783018766,
          25.639408817518554,
          26.197977897180458,
          26.33988967331549,
          26.60339937739232,
          26.608012390345756,
          26.71864551596449,
          26.71864551596449,
          26.839780115845265,
          26.879587207802196,
          26.9543159437481,
          26.9543159437481,
          26.962442802779787,
          27.09571820041826,
          27.142852285974982,
          27.47615767260335,
          27.64061698124615,
          27.861235138807217,
          27.878144492000693,
          27.896997654882526,
          28.018508384766044,
          28.069439592255215,
          28.271545366373026,
          28.317837637161702,
          28.49879906049877,
          28.641716206678723,
          28.921651668231213,
          29.102129967191324,
          29.78236107715138,
          29.908818529314075,
          29.9463056815799,
          30.02610793049513,
          30.089574448038114,
          30.15618339506516,
          30.25370193271859,
          30.25370193271859,
          30.72504278828581,
          31.432054071636628,
          31.702566015463766,
          31.824837960829022,
          31.975908832469436,
          32.141481448213085,
          32.14153989447918,
          32.538922656399336,
          32.538922656399336,
          32.538922656399336,
          32.67969331632304,
          32.67969331632304,
          32.803802077002445,
          33.01573577929969,
          33.01573577929969,
          33.08938278798206,
          33.08938278798206,
          33.38243048079558,
          33.423784984781335,
          33.423784984781335,
          33.423784984781335,
          34.97272368663968,
          35.20278091617433,
          35.438451343957944,
          35.99293672644721,
          35.99293672644721,
          35.99293672644721,
          35.99293672644721,
          36.30883643796119,
          36.39618768201919,
          36.39618768201919,
          36.48456409243804,
          36.771208148387814,
          37.10319896537001,
          39.08137175880432,
          39.1091012126782,
          39.1091012126782,
          39.114286433430294,
          39.306180136571385,
          39.306180136571385,
          39.306180136571385,
          39.306180136571385,
          39.306180136571385,
          39.77663958473869,
          40.23623981093458,
          40.347908472412996,
          40.347908472412996,
          42.396015522610384
         ],
         "yaxis": "y"
        }
       ],
       "layout": {
        "autosize": true,
        "legend": {
         "tracegroupgap": 0
        },
        "template": {
         "data": {
          "bar": [
           {
            "error_x": {
             "color": "#2a3f5f"
            },
            "error_y": {
             "color": "#2a3f5f"
            },
            "marker": {
             "line": {
              "color": "white",
              "width": 0.5
             },
             "pattern": {
              "fillmode": "overlay",
              "size": 10,
              "solidity": 0.2
             }
            },
            "type": "bar"
           }
          ],
          "barpolar": [
           {
            "marker": {
             "line": {
              "color": "white",
              "width": 0.5
             },
             "pattern": {
              "fillmode": "overlay",
              "size": 10,
              "solidity": 0.2
             }
            },
            "type": "barpolar"
           }
          ],
          "carpet": [
           {
            "aaxis": {
             "endlinecolor": "#2a3f5f",
             "gridcolor": "#C8D4E3",
             "linecolor": "#C8D4E3",
             "minorgridcolor": "#C8D4E3",
             "startlinecolor": "#2a3f5f"
            },
            "baxis": {
             "endlinecolor": "#2a3f5f",
             "gridcolor": "#C8D4E3",
             "linecolor": "#C8D4E3",
             "minorgridcolor": "#C8D4E3",
             "startlinecolor": "#2a3f5f"
            },
            "type": "carpet"
           }
          ],
          "choropleth": [
           {
            "colorbar": {
             "outlinewidth": 0,
             "ticks": ""
            },
            "type": "choropleth"
           }
          ],
          "contour": [
           {
            "colorbar": {
             "outlinewidth": 0,
             "ticks": ""
            },
            "colorscale": [
             [
              0,
              "#0d0887"
             ],
             [
              0.1111111111111111,
              "#46039f"
             ],
             [
              0.2222222222222222,
              "#7201a8"
             ],
             [
              0.3333333333333333,
              "#9c179e"
             ],
             [
              0.4444444444444444,
              "#bd3786"
             ],
             [
              0.5555555555555556,
              "#d8576b"
             ],
             [
              0.6666666666666666,
              "#ed7953"
             ],
             [
              0.7777777777777778,
              "#fb9f3a"
             ],
             [
              0.8888888888888888,
              "#fdca26"
             ],
             [
              1,
              "#f0f921"
             ]
            ],
            "type": "contour"
           }
          ],
          "contourcarpet": [
           {
            "colorbar": {
             "outlinewidth": 0,
             "ticks": ""
            },
            "type": "contourcarpet"
           }
          ],
          "heatmap": [
           {
            "colorbar": {
             "outlinewidth": 0,
             "ticks": ""
            },
            "colorscale": [
             [
              0,
              "#0d0887"
             ],
             [
              0.1111111111111111,
              "#46039f"
             ],
             [
              0.2222222222222222,
              "#7201a8"
             ],
             [
              0.3333333333333333,
              "#9c179e"
             ],
             [
              0.4444444444444444,
              "#bd3786"
             ],
             [
              0.5555555555555556,
              "#d8576b"
             ],
             [
              0.6666666666666666,
              "#ed7953"
             ],
             [
              0.7777777777777778,
              "#fb9f3a"
             ],
             [
              0.8888888888888888,
              "#fdca26"
             ],
             [
              1,
              "#f0f921"
             ]
            ],
            "type": "heatmap"
           }
          ],
          "heatmapgl": [
           {
            "colorbar": {
             "outlinewidth": 0,
             "ticks": ""
            },
            "colorscale": [
             [
              0,
              "#0d0887"
             ],
             [
              0.1111111111111111,
              "#46039f"
             ],
             [
              0.2222222222222222,
              "#7201a8"
             ],
             [
              0.3333333333333333,
              "#9c179e"
             ],
             [
              0.4444444444444444,
              "#bd3786"
             ],
             [
              0.5555555555555556,
              "#d8576b"
             ],
             [
              0.6666666666666666,
              "#ed7953"
             ],
             [
              0.7777777777777778,
              "#fb9f3a"
             ],
             [
              0.8888888888888888,
              "#fdca26"
             ],
             [
              1,
              "#f0f921"
             ]
            ],
            "type": "heatmapgl"
           }
          ],
          "histogram": [
           {
            "marker": {
             "pattern": {
              "fillmode": "overlay",
              "size": 10,
              "solidity": 0.2
             }
            },
            "type": "histogram"
           }
          ],
          "histogram2d": [
           {
            "colorbar": {
             "outlinewidth": 0,
             "ticks": ""
            },
            "colorscale": [
             [
              0,
              "#0d0887"
             ],
             [
              0.1111111111111111,
              "#46039f"
             ],
             [
              0.2222222222222222,
              "#7201a8"
             ],
             [
              0.3333333333333333,
              "#9c179e"
             ],
             [
              0.4444444444444444,
              "#bd3786"
             ],
             [
              0.5555555555555556,
              "#d8576b"
             ],
             [
              0.6666666666666666,
              "#ed7953"
             ],
             [
              0.7777777777777778,
              "#fb9f3a"
             ],
             [
              0.8888888888888888,
              "#fdca26"
             ],
             [
              1,
              "#f0f921"
             ]
            ],
            "type": "histogram2d"
           }
          ],
          "histogram2dcontour": [
           {
            "colorbar": {
             "outlinewidth": 0,
             "ticks": ""
            },
            "colorscale": [
             [
              0,
              "#0d0887"
             ],
             [
              0.1111111111111111,
              "#46039f"
             ],
             [
              0.2222222222222222,
              "#7201a8"
             ],
             [
              0.3333333333333333,
              "#9c179e"
             ],
             [
              0.4444444444444444,
              "#bd3786"
             ],
             [
              0.5555555555555556,
              "#d8576b"
             ],
             [
              0.6666666666666666,
              "#ed7953"
             ],
             [
              0.7777777777777778,
              "#fb9f3a"
             ],
             [
              0.8888888888888888,
              "#fdca26"
             ],
             [
              1,
              "#f0f921"
             ]
            ],
            "type": "histogram2dcontour"
           }
          ],
          "mesh3d": [
           {
            "colorbar": {
             "outlinewidth": 0,
             "ticks": ""
            },
            "type": "mesh3d"
           }
          ],
          "parcoords": [
           {
            "line": {
             "colorbar": {
              "outlinewidth": 0,
              "ticks": ""
             }
            },
            "type": "parcoords"
           }
          ],
          "pie": [
           {
            "automargin": true,
            "type": "pie"
           }
          ],
          "scatter": [
           {
            "fillpattern": {
             "fillmode": "overlay",
             "size": 10,
             "solidity": 0.2
            },
            "type": "scatter"
           }
          ],
          "scatter3d": [
           {
            "line": {
             "colorbar": {
              "outlinewidth": 0,
              "ticks": ""
             }
            },
            "marker": {
             "colorbar": {
              "outlinewidth": 0,
              "ticks": ""
             }
            },
            "type": "scatter3d"
           }
          ],
          "scattercarpet": [
           {
            "marker": {
             "colorbar": {
              "outlinewidth": 0,
              "ticks": ""
             }
            },
            "type": "scattercarpet"
           }
          ],
          "scattergeo": [
           {
            "marker": {
             "colorbar": {
              "outlinewidth": 0,
              "ticks": ""
             }
            },
            "type": "scattergeo"
           }
          ],
          "scattergl": [
           {
            "marker": {
             "colorbar": {
              "outlinewidth": 0,
              "ticks": ""
             }
            },
            "type": "scattergl"
           }
          ],
          "scattermapbox": [
           {
            "marker": {
             "colorbar": {
              "outlinewidth": 0,
              "ticks": ""
             }
            },
            "type": "scattermapbox"
           }
          ],
          "scatterpolar": [
           {
            "marker": {
             "colorbar": {
              "outlinewidth": 0,
              "ticks": ""
             }
            },
            "type": "scatterpolar"
           }
          ],
          "scatterpolargl": [
           {
            "marker": {
             "colorbar": {
              "outlinewidth": 0,
              "ticks": ""
             }
            },
            "type": "scatterpolargl"
           }
          ],
          "scatterternary": [
           {
            "marker": {
             "colorbar": {
              "outlinewidth": 0,
              "ticks": ""
             }
            },
            "type": "scatterternary"
           }
          ],
          "surface": [
           {
            "colorbar": {
             "outlinewidth": 0,
             "ticks": ""
            },
            "colorscale": [
             [
              0,
              "#0d0887"
             ],
             [
              0.1111111111111111,
              "#46039f"
             ],
             [
              0.2222222222222222,
              "#7201a8"
             ],
             [
              0.3333333333333333,
              "#9c179e"
             ],
             [
              0.4444444444444444,
              "#bd3786"
             ],
             [
              0.5555555555555556,
              "#d8576b"
             ],
             [
              0.6666666666666666,
              "#ed7953"
             ],
             [
              0.7777777777777778,
              "#fb9f3a"
             ],
             [
              0.8888888888888888,
              "#fdca26"
             ],
             [
              1,
              "#f0f921"
             ]
            ],
            "type": "surface"
           }
          ],
          "table": [
           {
            "cells": {
             "fill": {
              "color": "#EBF0F8"
             },
             "line": {
              "color": "white"
             }
            },
            "header": {
             "fill": {
              "color": "#C8D4E3"
             },
             "line": {
              "color": "white"
             }
            },
            "type": "table"
           }
          ]
         },
         "layout": {
          "annotationdefaults": {
           "arrowcolor": "#2a3f5f",
           "arrowhead": 0,
           "arrowwidth": 1
          },
          "autotypenumbers": "strict",
          "coloraxis": {
           "colorbar": {
            "outlinewidth": 0,
            "ticks": ""
           }
          },
          "colorscale": {
           "diverging": [
            [
             0,
             "#8e0152"
            ],
            [
             0.1,
             "#c51b7d"
            ],
            [
             0.2,
             "#de77ae"
            ],
            [
             0.3,
             "#f1b6da"
            ],
            [
             0.4,
             "#fde0ef"
            ],
            [
             0.5,
             "#f7f7f7"
            ],
            [
             0.6,
             "#e6f5d0"
            ],
            [
             0.7,
             "#b8e186"
            ],
            [
             0.8,
             "#7fbc41"
            ],
            [
             0.9,
             "#4d9221"
            ],
            [
             1,
             "#276419"
            ]
           ],
           "sequential": [
            [
             0,
             "#0d0887"
            ],
            [
             0.1111111111111111,
             "#46039f"
            ],
            [
             0.2222222222222222,
             "#7201a8"
            ],
            [
             0.3333333333333333,
             "#9c179e"
            ],
            [
             0.4444444444444444,
             "#bd3786"
            ],
            [
             0.5555555555555556,
             "#d8576b"
            ],
            [
             0.6666666666666666,
             "#ed7953"
            ],
            [
             0.7777777777777778,
             "#fb9f3a"
            ],
            [
             0.8888888888888888,
             "#fdca26"
            ],
            [
             1,
             "#f0f921"
            ]
           ],
           "sequentialminus": [
            [
             0,
             "#0d0887"
            ],
            [
             0.1111111111111111,
             "#46039f"
            ],
            [
             0.2222222222222222,
             "#7201a8"
            ],
            [
             0.3333333333333333,
             "#9c179e"
            ],
            [
             0.4444444444444444,
             "#bd3786"
            ],
            [
             0.5555555555555556,
             "#d8576b"
            ],
            [
             0.6666666666666666,
             "#ed7953"
            ],
            [
             0.7777777777777778,
             "#fb9f3a"
            ],
            [
             0.8888888888888888,
             "#fdca26"
            ],
            [
             1,
             "#f0f921"
            ]
           ]
          },
          "colorway": [
           "#636efa",
           "#EF553B",
           "#00cc96",
           "#ab63fa",
           "#FFA15A",
           "#19d3f3",
           "#FF6692",
           "#B6E880",
           "#FF97FF",
           "#FECB52"
          ],
          "font": {
           "color": "#2a3f5f"
          },
          "geo": {
           "bgcolor": "white",
           "lakecolor": "white",
           "landcolor": "white",
           "showlakes": true,
           "showland": true,
           "subunitcolor": "#C8D4E3"
          },
          "hoverlabel": {
           "align": "left"
          },
          "hovermode": "closest",
          "mapbox": {
           "style": "light"
          },
          "paper_bgcolor": "white",
          "plot_bgcolor": "white",
          "polar": {
           "angularaxis": {
            "gridcolor": "#EBF0F8",
            "linecolor": "#EBF0F8",
            "ticks": ""
           },
           "bgcolor": "white",
           "radialaxis": {
            "gridcolor": "#EBF0F8",
            "linecolor": "#EBF0F8",
            "ticks": ""
           }
          },
          "scene": {
           "xaxis": {
            "backgroundcolor": "white",
            "gridcolor": "#DFE8F3",
            "gridwidth": 2,
            "linecolor": "#EBF0F8",
            "showbackground": true,
            "ticks": "",
            "zerolinecolor": "#EBF0F8"
           },
           "yaxis": {
            "backgroundcolor": "white",
            "gridcolor": "#DFE8F3",
            "gridwidth": 2,
            "linecolor": "#EBF0F8",
            "showbackground": true,
            "ticks": "",
            "zerolinecolor": "#EBF0F8"
           },
           "zaxis": {
            "backgroundcolor": "white",
            "gridcolor": "#DFE8F3",
            "gridwidth": 2,
            "linecolor": "#EBF0F8",
            "showbackground": true,
            "ticks": "",
            "zerolinecolor": "#EBF0F8"
           }
          },
          "shapedefaults": {
           "line": {
            "color": "#2a3f5f"
           }
          },
          "ternary": {
           "aaxis": {
            "gridcolor": "#DFE8F3",
            "linecolor": "#A2B1C6",
            "ticks": ""
           },
           "baxis": {
            "gridcolor": "#DFE8F3",
            "linecolor": "#A2B1C6",
            "ticks": ""
           },
           "bgcolor": "white",
           "caxis": {
            "gridcolor": "#DFE8F3",
            "linecolor": "#A2B1C6",
            "ticks": ""
           }
          },
          "title": {
           "x": 0.05
          },
          "xaxis": {
           "automargin": true,
           "gridcolor": "#EBF0F8",
           "linecolor": "#EBF0F8",
           "ticks": "",
           "title": {
            "standoff": 15
           },
           "zerolinecolor": "#EBF0F8",
           "zerolinewidth": 2
          },
          "yaxis": {
           "automargin": true,
           "gridcolor": "#EBF0F8",
           "linecolor": "#EBF0F8",
           "ticks": "",
           "title": {
            "standoff": 15
           },
           "zerolinecolor": "#EBF0F8",
           "zerolinewidth": 2
          }
         }
        },
        "title": {
         "text": "Salary vs MP"
        },
        "xaxis": {
         "anchor": "y",
         "autorange": true,
         "domain": [
          0,
          1
         ],
         "range": [
          -3.5706330611285266,
          59.343846061128524
         ],
         "tickprefix": "$",
         "ticksuffix": "M",
         "title": {
          "text": "Salary ($M)"
         },
         "type": "linear"
        },
        "yaxis": {
         "anchor": "x",
         "autorange": true,
         "domain": [
          0,
          1
         ],
         "range": [
          -1.4707690231487038,
          44.7047936565977
         ],
         "title": {
          "text": "MP"
         },
         "type": "linear"
        }
       }
      },
      "text/html": [
       "<div>                            <div id=\"05502638-1efd-4d72-94f5-6f972b7a59a9\" class=\"plotly-graph-div\" style=\"height:525px; width:100%;\"></div>            <script type=\"text/javascript\">                require([\"plotly\"], function(Plotly) {                    window.PLOTLYENV=window.PLOTLYENV || {};                                    if (document.getElementById(\"05502638-1efd-4d72-94f5-6f972b7a59a9\")) {                    Plotly.newPlot(                        \"05502638-1efd-4d72-94f5-6f972b7a59a9\",                        [{\"customdata\":[[\"Shai Gilgeous-Alexander\"],[\"Giannis Antetokounmpo\"],[\"Nikola Jokic\"],[\"Anthony Edwards\"],[\"Jayson Tatum\"],[\"Kevin Durant\"],[\"Tyrese Maxey\"],[\"Cade Cunningham\"],[\"Jalen Brunson\"],[\"Paolo Banchero\"],[\"Devin Booker\"],[\"LaMelo Ball\"],[\"Damian Lillard\"],[\"Kyrie Irving\"],[\"Zion Williamson\"],[\"Stephen Curry\"],[\"LeBron James\"],[\"Karl-Anthony Towns\"],[\"Victor Wembanyama\"],[\"Franz Wagner\"],[\"Trae Young\"],[\"Donovan Mitchell\"],[\"Cam Thomas\"],[\"Tyler Herro\"],[\"Joel Embiid\"],[\"Ja Morant\"],[\"James Harden\"],[\"Jaylen Brown\"],[\"DeMar DeRozan\"],[\"Brandon Ingram\"],[\"Jaren Jackson Jr.\"],[\"Norman Powell\"],[\"Jalen Williams\"],[\"Kawhi Leonard\"],[\"Jamal Murray\"],[\"Trey Murphy III\"],[\"RJ Barrett\"],[\"CJ McCollum\"],[\"Jalen Green\"],[\"Brandon Miller\"],[\"Darius Garland\"],[\"Jordan Poole\"],[\"Coby White\"],[\"Miles Bridges\"],[\"Austin Reaves\"],[\"Pascal Siakam\"],[\"Kristaps Porzingis\"],[\"Scottie Barnes\"],[\"Anfernee Simons\"],[\"Desmond Bane\"],[\"Domantas Sabonis\"],[\"Alperen Sengun\"],[\"John Collins\"],[\"Lauri Markkanen\"],[\"Jalen Johnson\"],[\"Cameron Johnson\"],[\"Julius Randle\"],[\"Tyrese Haliburton\"],[\"Evan Mobley\"],[\"Shaedon Sharpe\"],[\"Nikola Vucevic\"],[\"Collin Sexton\"],[\"Michael Porter Jr.\"],[\"Bam Adebayo\"],[\"OG Anunoby\"],[\"Mikal Bridges\"],[\"Jaden Ivey\"],[\"Dejounte Murray\"],[\"Malik Monk\"],[\"Immanuel Quickley\"],[\"Bradley Beal\"],[\"Deni Avdija\"],[\"Keyonte George\"],[\"Ivica Zubac\"],[\"Derrick White\"],[\"Malik Beasley\"],[\"Devin Vassell\"],[\"Jordan Clarkson\"],[\"Paul George\"],[\"Jalen Suggs\"],[\"Bennedict Mathurin\"],[\"Myles Turner\"],[\"Christian Braun\"],[\"Jonathan Kuminga\"],[\"Jared McCain\"],[\"Mark Williams\"],[\"Kelly Oubre Jr.\"],[\"Chet Holmgren\"],[\"Stephon Castle\"],[\"Aaron Gordon\"],[\"P.J. Washington\"],[\"Josh Giddey\"],[\"Jakob Poeltl\"],[\"Deandre Ayton\"],[\"Gradey Dick\"],[\"Jerami Grant\"],[\"Payton Pritchard\"],[\"Naz Reid\"],[\"Dyson Daniels\"],[\"Tre Mann\"],[\"Amen Thompson\"],[\"Fred VanVleet\"],[\"Dillon Brooks\"],[\"Klay Thompson\"],[\"Bobby Portis\"],[\"Tobias Harris\"],[\"Josh Hart\"],[\"Jarrett Allen\"],[\"Onyeka Okongwu\"],[\"Russell Westbrook\"],[\"Naji Marshall\"],[\"Rui Hachimura\"],[\"Brook Lopez\"],[\"Alex Sarr\"],[\"Moritz Wagner\"],[\"Malcolm Brogdon\"],[\"Scoot Henderson\"],[\"Keldon Johnson\"],[\"Zaccharie Risacher\"],[\"Santi Aldama\"],[\"Ty Jerome\"],[\"Keegan Murray\"],[\"Lonnie Walker IV\"],[\"Harrison Barnes\"],[\"Bilal Coulibaly\"],[\"Ayo Dosunmu\"],[\"Daniel Gafford\"],[\"Jaden McDaniels\"],[\"Jabari Smith Jr.\"],[\"Drew Timme\"],[\"Tari Eason\"],[\"Rudy Gobert\"],[\"Aaron Nesmith\"],[\"Aaron Wiggins\"],[\"Jalen Duren\"],[\"Donte DiVincenzo\"],[\"Brandin Podziemski\"],[\"Corey Kispert\"],[\"Jeremy Sochan\"],[\"Toumani Camara\"],[\"Isaiah Hartenstein\"],[\"Buddy Hield\"],[\"Jrue Holiday\"],[\"Walker Kessler\"],[\"Gary Trent Jr.\"],[\"Spencer Dinwiddie\"],[\"Tim Hardaway Jr.\"],[\"Duncan Robinson\"],[\"Guerschon Yabusele\"],[\"Brice Sensabaugh\"],[\"Jordan Hawkins\"],[\"Brandon Boston Jr.\"],[\"Grayson Allen\"],[\"Keon Johnson\"],[\"Terry Rozier\"],[\"Obi Toppin\"],[\"Ochai Agbaji\"],[\"Jaylen Wells\"],[\"Grant Williams\"],[\"Jose Alvarado\"],[\"Nic Claxton\"],[\"Herbert Jones\"],[\"De'Anthony Melton\"],[\"Isaiah Joe\"],[\"Tyus Jones\"],[\"Trendon Watford\"],[\"Luguentz Dort\"],[\"Justin Edwards\"],[\"Derrick Jones Jr.\"],[\"Ausar Thompson\"],[\"Chris Boucher\"],[\"Andrew Nembhard\"],[\"Ziaire Williams\"],[\"Julian Champagnie\"],[\"Scotty Pippen Jr.\"],[\"Nick Smith Jr.\"],[\"Bub Carrington\"],[\"Moses Moody\"],[\"Amir Coffey\"],[\"Kyle Filipowski\"],[\"Miles McBride\"],[\"Jalen Wilson\"],[\"Nickeil Alexander-Walker\"],[\"Cole Anthony\"],[\"Anthony Black\"],[\"Max Strus\"],[\"Cam Whitmore\"],[\"Kel'el Ware\"],[\"Zach Edey\"],[\"Wendell Carter Jr.\"],[\"Noah Clowney\"],[\"Dalton Knecht\"],[\"A.J. Lawson\"],[\"T.J. McConnell\"],[\"Yves Missi\"],[\"Royce O'Neale\"],[\"Draymond Green\"],[\"Killian Hayes\"],[\"Al Horford\"],[\"Julian Strawther\"],[\"Patrick Williams\"],[\"Clint Capela\"],[\"Johnny Juzang\"],[\"Luke Kennard\"],[\"Justin Champagnie\"],[\"Svi Mykhailiuk\"],[\"Chris Paul\"],[\"Oshae Brissett\"],[\"Kentavious Caldwell-Pope\"],[\"Isaiah Collier\"],[\"Dante Exum\"],[\"Kyshawn George\"],[\"Jaden Hardy\"],[\"Dereck Lively II\"],[\"Tyrese Martin\"],[\"Matas Buzelis\"],[\"Jaime Jaquez Jr.\"],[\"Ja'Kobe Walter\"],[\"Sam Hauser\"],[\"Larry Nance Jr.\"],[\"Jaylen Nowell\"],[\"Cason Wallace\"],[\"Dalano Banton\"],[\"Brandon Clarke\"],[\"Keon Ellis\"],[\"Brandon Williams\"],[\"Mike Conley\"],[\"Taurean Prince\"],[\"Jalen Smith\"],[\"Quinten Post\"],[\"Peyton Watson\"],[\"Day'Ron Sharpe\"],[\"Karlo Matkovic\"],[\"Lonzo Ball\"],[\"Garrison Mathews\"],[\"Matisse Thybulle\"],[\"A.J. Green\"],[\"Josh Green\"],[\"Richaun Holmes\"],[\"Alec Burks\"],[\"Ricky Council IV\"],[\"Andre Drummond\"],[\"Goga Bitadze\"],[\"Tristan Da Silva\"],[\"GG Jackson II\"],[\"Vit Krejci\"],[\"Sam Merrill\"],[\"Nae'Qwan Tomlin\"],[\"Jamison Battle\"],[\"Alex Caruso\"],[\"Jamal Shead\"],[\"Marcus Garrett\"],[\"Isaiah Jackson\"],[\"Jaylen Sims\"],[\"Ryan Dunn\"],[\"Jay Huff\"],[\"Cameron Payne\"],[\"Antonio Reeves\"],[\"Bol Bol\"],[\"Eric Gordon\"],[\"Jaxson Hayes\"],[\"Marcus Bagley\"],[\"DaQuan Jeffries\"],[\"Precious Achiuwa\"],[\"Trayce Jackson-Davis\"],[\"Marcus Sasser\"],[\"Vince Williams Jr.\"],[\"Donovan Clingan\"],[\"Seth Curry\"],[\"Haywood Highsmith\"],[\"Talen Horton-Tucker\"],[\"Trey Lyles\"],[\"Ajay Mitchell\"],[\"Gary Payton II\"],[\"Kris Dunn\"],[\"Ron Holland\"],[\"Gabe Vincent\"],[\"Sandro Mamukelashvili\"],[\"Jeremiah Robinson-Earl\"],[\"Kenrich Williams\"],[\"Jonathan Mogbo\"],[\"Ryan Rollins\"],[\"Isaac Okoro\"],[\"Jarace Walker\"],[\"Mouhamed Gueye\"],[\"Luke Kornet\"],[\"Isaiah Mobley\"],[\"Isaiah Stewart\"],[\"James Wiseman\"],[\"Simone Fontecchio\"],[\"Jaylin Williams\"],[\"Adem Bona\"],[\"Robert Williams\"],[\"Moussa Diabate\"],[\"Dariq Whitehead\"],[\"Landry Shamet\"],[\"Jordan Goodwin\"],[\"Aaron Holiday\"],[\"Jeff Green\"],[\"Jonathan Isaac\"],[\"Dean Wade\"],[\"Kobe Bufkin\"],[\"Pat Connaughton\"],[\"Kevin Love\"],[\"Ben Sheppard\"],[\"Monte Morris\"],[\"Jabari Walker\"],[\"Bismack Biyombo\"],[\"Mitchell Robinson\"],[\"Malaki Branham\"],[\"Neemias Queta\"],[\"Jock Landale\"],[\"Taylor Hendricks\"],[\"Pelle Larsson\"],[\"Julian Phillips\"],[\"Cody Williams\"],[\"Rob Dillingham\"],[\"Jett Howard\"],[\"Kevon Looney\"],[\"Mason Plumlee\"],[\"Dalen Terry\"],[\"Charles Bassey\"],[\"Tony Bradley\"],[\"Reggie Jackson\"],[\"Reed Sheppard\"],[\"Lamar Stevens\"],[\"Jevon Carter\"],[\"Terrence Shannon Jr.\"],[\"Daniel Theis\"],[\"Dominick Barlow\"],[\"Oso Ighodaro\"],[\"Kris Murray\"],[\"Duop Reath\"],[\"Jaylen Clark\"],[\"Caleb Houstan\"],[\"Jordan Miller\"],[\"Jalen Pickett\"],[\"Paul Reed\"],[\"Gui Santos\"],[\"Jarred Vanderbilt\"],[\"Nicolas Batum\"],[\"Malachi Flynn\"],[\"Josh Richardson\"],[\"Steven Adams\"],[\"Kyle Lowry\"],[\"Olivier-Maxence Prosper\"],[\"Branden Carlson\"],[\"Devin Carter\"],[\"Ousmane Dieng\"],[\"DeAndre Jordan\"],[\"Craig Porter Jr.\"],[\"Blake Wesley\"],[\"Baylor Scheierman\"],[\"Jae'Sean Tate\"],[\"Jaylon Tyson\"],[\"Luka Garza\"],[\"Cory Joseph\"],[\"Doug McDermott\"],[\"Dario Saric\"],[\"Bruno Fernando\"],[\"Andre Jackson Jr.\"],[\"Isaac Jones\"],[\"Kevin Knox\"],[\"Damion Lee\"],[\"Jeenathan Williams\"],[\"Zeke Nnaji\"],[\"Cam Reddish\"],[\"Gary Harris\"],[\"Maxi Kleber\"],[\"Rayan Rupert\"],[\"P.J. Tucker\"],[\"Markelle Fultz\"],[\"Taj Gibson\"],[\"Tyler Smith\"],[\"Keshad Johnson\"],[\"Jae Crowder\"],[\"Josh Minott\"],[\"Hunter Tyson\"],[\"Anthony Gill\"],[\"Dillon Jones\"],[\"Pat Spencer\"],[\"Johnny Davis\"],[\"John Konchar\"],[\"Bronny James\"],[\"JD Davison\"],[\"Chris Duarte\"],[\"Johnny Furphy\"],[\"Dwight Powell\"],[\"Tyler Kolek\"],[\"Kobe Brown\"],[\"Ariel Hukporti\"],[\"Bobi Klintman\"],[\"Garrett Temple\"],[\"Vlatko Cancar\"],[\"E.J. Liddell\"],[\"Pacome Dadiet\"],[\"Tristan Thompson\"],[\"Jordan Walsh\"],[\"Phillip Wheeler\"],[\"Leonard Miller\"],[\"Matt Ryan\"],[\"Cam Christie\"],[\"Chris Livingston\"],[\"Skal Labissiere\"],[\"Yuri Collins\"],[\"Braxton Key\"],[\"Xavier Tillman Sr.\"],[\"PJ Dozier\"],[\"Joe Ingles\"],[\"James Johnson\"],[\"Malevy Leons\"],[\"Daishen Nix\"],[\"Terence Davis\"],[\"Jalen McDaniels\"],[\"Jahlil Okafor\"],[\"Terry Taylor\"],[\"Luka Doncic\"],[\"Anthony Davis\"],[\"De'Aaron Fox\"],[\"Zach LaVine\"],[\"Andrew Wiggins\"],[\"Jimmy Butler\"],[\"De'Andre Hunter\"],[\"Kyle Kuzma\"],[\"Quentin Grimes\"],[\"Dennis Schroder\"],[\"D'Angelo Russell\"],[\"Caris LeVert\"],[\"Khris Middleton\"],[\"Bogdan Bogdanovic\"],[\"Jonas Valanciunas\"],[\"Kevin Porter Jr.\"],[\"Kevin Huerter\"],[\"Georges Niang\"],[\"Max Christie\"],[\"Nick Richards\"],[\"Jared Butler\"],[\"Marcus Smart\"],[\"Jusuf Nurkic\"],[\"Kelly Olynyk\"],[\"Dorian Finney-Smith\"],[\"Jared Rhoden\"],[\"Bruce Brown\"],[\"Davion Mitchell\"],[\"Caleb Martin\"],[\"Terance Mann\"],[\"AJ Johnson\"],[\"Tre Jones\"],[\"Josh Okogie\"],[\"Jalen Hood-Schifino\"],[\"Orlando Robinson\"],[\"Jake LaRavia\"],[\"Cody Martin\"],[\"Vasilije Micic\"],[\"Thomas Bryant\"],[\"Zach Collins\"],[\"KJ Martin\"],[\"Bones Hyland\"],[\"Cole Swider\"],[\"Chuma Okeke\"],[\"Kyle Anderson\"],[\"Moses Brown\"],[\"Shake Milton\"],[\"Javonte Green\"],[\"Ben Simmons\"],[\"Lindy Waters III\"],[\"Colin Castleton\"],[\"David Roddy\"],[\"Drew Eubanks\"],[\"Marvin Bagley III\"],[\"Mo Bamba\"],[\"Torrey Craig\"],[\"Wendell Moore Jr.\"],[\"Maxwell Lewis\"],[\"Colby Jones\"],[\"Patty Mills\"],[\"Markieff Morris\"],[\"Elfrid Payton\"],[\"Delon Wright\"],[\"Kylor Kelley\"],[\"Jaden Springer\"],[\"MarJon Beauchamp\"],[\"Patrick Baldwin Jr.\"],[\"Jordan McLaughlin\"],[\"Jericho Sims\"],[\"Alex Len\"],[\"Sidy Cissoko\"]],\"hovertemplate\":\"Salary ($M)=%{x:.2f}\\u003cbr\\u003eMP=%{y}\\u003cbr\\u003ePlayer=%{customdata[0]}\\u003cextra\\u003e\\u003c\\u002fextra\\u003e\",\"legendgroup\":\"\",\"marker\":{\"color\":\"skyblue\",\"symbol\":\"circle\"},\"mode\":\"markers\",\"name\":\"\",\"orientation\":\"v\",\"showlegend\":false,\"x\":[35.85995,48.787676,51.415938,42.1764,34.84834,51.179021,35.147,13.940809,24.960001,12.1608,49.2058,35.147,48.787676,41.0,36.72567,55.761216,48.728845,49.2058,12.76896,7.007092,43.03194,35.41031,4.041249,29.0,51.415938,36.72567,33.653846,49.2058,23.4,36.0162,25.257798,19.241379,4.77576,49.2058,36.0162,5.159854,25.794643,33.333333,12.483048,11.4246,36.72567,29.651786,12.0,27.173913,12.976362,42.1764,29.268293,10.13098,25.892857,34.00525,40.5,5.424654,26.58,42.1764,4.510905,22.5,33.07392,42.1764,11.227657,6.61416,20.0,18.35,35.85995,34.84834,36.637932,23.3,7.97724,29.517135,17.405203,32.5,50.20393,15.625,4.0842,11.74321,20.071429,6.0,29.347826,14.092577,49.2058,9.188385,7.24572,19.9285,3.08964,7.636307,4.02036,4.09428,7.983,10.88064,9.10512,22.841455,15.5,8.352367,19.5,34.005126,4.76376,29.793104,6.696429,13.986432,6.05952,4.908373,9.24996,42.846615,22.255493,15.873016,12.578286,25.365854,18.144,20.0,14.0,5.631296,8.571429,17.0,23.0,11.24568,11.0,22.5,10.25916,19.0,12.56904,3.960531,2.560975,8.80956,0.780932,18.0,6.94524,7.0,13.39416,23.017242,9.77088,0.113055,3.69516,43.827586,11.0,10.514017,4.53684,11.445,3.51996,5.705887,5.57004,1.891857,30.0,8.780488,30.0,2.96592,2.087519,2.087519,16.193183,19.406,2.087519,2.57148,4.52568,0.596581,15.625,2.162606,24.924126,12.975,4.31028,1.157153,13.02525,1.988598,27.556817,12.976362,12.822,12.99165,2.087519,2.726603,16.5,0.425619,9.52381,8.376,10.81,2.019699,6.133005,3.0,2.087519,2.5872,4.45488,5.803269,3.938271,3.0,4.710144,1.891857,4.3125,12.9,7.60776,15.212068,3.37908,4.2318,5.75688,11.95,3.24408,3.81912,0.1,9.3,3.1932,9.375,24.107143,0.119972,9.5,2.55252,18.0,22.26528,3.087519,9.25,1.8,3.5,10.46,0.119972,22.757,2.51268,3.15,2.82552,2.019699,5.01456,0.635853,5.19552,3.6858,3.465,2.092344,11.205,0.446743,5.55588,2.19697,12.5,2.120693,0.047989,9.975962,2.087519,8.571429,0.43892,2.41356,3.989122,1.407153,21.395348,2.230253,11.025,2.120693,12.654321,12.648321,2.087519,1.891857,5.0,9.057971,3.62844,1.891857,2.162606,2.164993,0.066503,1.0,9.89,1.862265,0.107027,4.435381,0.073153,2.5308,2.088033,2.087519,1.157153,2.087519,3.303771,2.463946,0.126356,2.425404,6.0,1.891857,2.75508,2.120693,6.8364,2.087519,5.2,2.087519,8.0,3.0,9.13,5.168,8.24532,11.0,2.087519,2.19697,6.669,1.862265,1.091887,10.185186,6.36252,1.891857,2.087519,0.011997,15.0,2.237691,7.692308,2.019699,1.157153,12.428571,0.957763,3.11424,1.34369,0.223718,4.668,8.0,25.0,6.166667,4.299,9.423869,3.85,2.66388,2.087519,2.019699,0.647851,14.318182,3.21792,2.162606,8.0,5.84868,1.157153,1.891857,5.46912,6.26292,5.27832,8.0,2.087519,3.51048,2.087519,0.600545,4.033748,10.09896,0.623856,6.5,2.54664,2.087519,0.491887,1.157153,2.99004,2.04878,0.492323,2.019699,1.05,1.891857,3.913234,1.891857,10.714286,4.668,0.119972,3.051153,12.6,2.087519,2.8704,0.496519,4.689,5.02704,2.087519,1.891857,2.62428,2.49432,7.565217,3.32616,2.162606,3.303771,2.087519,5.168,1.115128,1.891857,0.152957,0.503883,2.087519,0.515881,8.888889,2.463946,7.5,11.0,1.891857,12.025777,0.731831,2.087519,1.157153,0.724883,1.655619,2.019699,1.891857,2.237691,2.62236,0.43881,5.29116,6.165,1.157153,0.011997,5.893768,1.850842,4.0,2.087519,2.53392,1.064049,1.257153,2.087519,2.087519,0.706898,1.80808,2.087519,1.891857,0.066503,1.891857,0.621439,1.157153,1.891857,0.119972,0.066503,0.011997,2.237691,1.051255,2.087519,2.087519,0.126356,0.119972,0.064301,4.861772,0.119972,0.119972,43.03194,43.21944,34.84834,44.53194,26.276786,48.798677,21.696429,24.456061,4.296682,13.02525,18.692307,16.615384,31.0,17.26,9.9,3.366937,16.830357,8.5,7.142857,5.0,0.745726,20.210284,18.125,12.804878,14.924167,0.119972,23.0,6.451077,9.186594,11.423077,2.795294,9.104167,8.25,3.87984,1.69161,3.35268,8.12,7.723,2.087519,16.7412,7.975,4.158439,0.227947,0.355687,8.780488,0.426632,2.875,2.32835,40.011909,2.19697,0.421081,2.967212,5.0,12.5,2.207491,3.625162,2.53704,1.891857,2.120693,2.087519,2.087519,0.789048,2.087519,0.073153,4.772772,2.73372,2.44884,2.087519,2.092344,2.831348,1.891857],\"xaxis\":\"x\",\"y\":[34.2,34.2,36.7,36.3,36.4,36.5,37.7,35.0,35.4,34.4,37.3,32.0,36.1,36.1,28.6,32.2,34.9,35.0,33.2,33.7,36.0,31.4,31.2,35.4,30.2,30.4,35.3,34.3,35.9,33.1,29.8,32.6,32.4,31.9,36.1,35.0,32.2,32.7,32.9,34.2,30.7,29.4,33.1,31.7,34.9,32.7,28.8,32.8,32.7,32.0,34.7,31.5,30.5,31.4,35.7,31.6,32.3,33.6,30.5,31.3,31.2,27.9,33.7,34.3,36.6,37.0,29.9,32.6,31.6,27.8,32.1,30.0,31.5,32.8,33.9,27.8,31.0,26.0,32.5,28.6,29.8,30.2,33.9,24.3,25.7,26.6,34.6,27.4,26.7,28.4,32.2,30.2,29.6,30.2,29.4,32.4,28.4,27.5,33.8,24.5,32.2,35.2,31.8,27.3,25.4,31.6,37.6,28.0,27.9,27.9,27.8,31.7,31.8,27.1,18.8,23.5,26.7,23.9,24.6,25.5,19.9,34.3,23.9,27.2,33.0,30.3,21.5,31.9,30.1,28.2,24.9,33.2,25.0,22.9,26.1,25.9,26.8,26.3,25.3,32.7,27.9,22.7,30.6,30.0,25.6,27.0,28.0,24.1,27.1,20.2,23.6,23.6,24.1,24.4,25.9,19.6,27.2,25.9,29.9,24.4,26.9,32.4,20.2,21.7,26.8,20.8,29.2,26.3,24.3,22.5,17.2,28.9,24.5,23.6,21.3,22.8,30.0,22.3,24.3,21.1,24.9,25.7,25.3,18.4,24.2,25.5,16.2,22.2,21.5,25.9,22.7,19.2,18.7,17.9,26.8,24.5,29.2,27.0,27.7,21.3,25.0,21.4,19.8,22.6,21.6,20.0,28.0,23.7,29.6,25.9,18.6,26.5,15.9,23.1,21.9,18.9,20.7,21.2,21.7,19.3,21.0,27.6,16.7,18.9,24.4,14.8,24.7,27.1,15.0,16.3,24.4,18.1,18.8,22.2,17.7,20.8,22.7,27.8,17.2,17.6,17.1,18.8,20.4,22.0,15.8,20.2,19.7,12.6,17.7,19.3,19.6,19.8,16.8,18.7,19.1,11.7,15.1,15.0,12.4,19.7,19.5,25.3,22.8,20.5,15.6,14.2,18.5,19.8,15.6,24.6,12.5,19.6,16.6,15.0,24.1,15.6,21.2,11.2,18.8,16.4,20.4,14.6,19.1,15.8,16.2,18.6,17.0,19.9,5.0,16.5,16.7,15.6,17.6,17.5,12.3,15.2,18.7,12.8,12.4,15.4,21.2,12.4,14.7,10.9,19.5,12.7,12.5,18.9,17.1,9.1,13.9,11.9,25.0,14.2,14.2,21.2,10.5,11.7,15.0,17.6,13.5,10.4,8.1,12.4,12.6,9.1,8.9,10.6,16.3,10.7,17.1,15.1,10.2,13.1,13.6,11.4,13.6,9.7,13.6,16.1,17.5,11.0,18.8,13.7,18.8,11.2,7.7,11.0,10.9,12.3,10.1,11.8,12.4,11.3,9.6,5.6,12.2,8.1,13.1,8.6,14.6,7.6,6.0,5.8,7.4,10.7,17.8,14.8,18.7,8.8,19.3,8.8,11.1,5.3,6.1,11.4,6.0,7.8,7.8,10.2,6.4,7.1,12.1,6.7,5.8,4.4,7.6,10.0,7.2,6.8,8.7,5.3,8.1,10.5,4.4,6.2,8.2,7.8,8.8,2.5,3.6,4.5,5.0,3.0,8.0,3.7,7.0,3.9,6.0,3.1,3.5,4.3,8.0,1.8,3.0,2.0,35.4,33.5,36.1,35.2,30.7,31.7,27.2,29.8,26.8,28.1,25.5,24.9,22.8,25.0,18.8,19.8,24.3,21.5,27.3,22.0,17.4,20.0,20.8,20.3,28.9,16.2,22.5,27.4,27.1,21.1,22.0,19.7,15.6,21.0,17.5,20.4,22.1,19.1,14.6,15.3,21.2,10.0,16.9,21.8,16.4,9.2,14.7,18.5,22.0,15.0,16.6,12.4,12.2,8.5,12.9,12.1,13.9,11.7,13.2,11.1,11.0,21.3,15.9,11.5,8.5,4.5,4.5,6.8,11.9,8.3,5.2],\"yaxis\":\"y\",\"type\":\"scatter\"},{\"hovertemplate\":\"\\u003cb\\u003eOLS trendline\\u003c\\u002fb\\u003e\\u003cbr\\u003eMP = 0.471341 * Salary_M + 16.1135\\u003cbr\\u003eR\\u003csup\\u003e2\\u003c\\u002fsup\\u003e=0.425461\\u003cbr\\u003e\\u003cbr\\u003eSalary ($M)=%{x:.2f}\\u003cbr\\u003eMP=%{y} \\u003cb\\u003e(trend)\\u003c\\u002fb\\u003e\\u003cextra\\u003e\\u003c\\u002fextra\\u003e\",\"legendgroup\":\"\",\"line\":{\"color\":\"black\"},\"marker\":{\"color\":\"skyblue\",\"symbol\":\"circle\"},\"mode\":\"lines\",\"name\":\"\",\"showlegend\":false,\"x\":[0.011997,0.011997,0.011997,0.047989,0.064301,0.066503,0.066503,0.066503,0.073153,0.073153,0.1,0.107027,0.113055,0.119972,0.119972,0.119972,0.119972,0.119972,0.119972,0.119972,0.119972,0.126356,0.126356,0.152957,0.223718,0.227947,0.355687,0.421081,0.425619,0.426632,0.43881,0.43892,0.446743,0.491887,0.492323,0.496519,0.503883,0.515881,0.596581,0.600545,0.621439,0.623856,0.635853,0.647851,0.706898,0.724883,0.731831,0.745726,0.780932,0.789048,0.957763,1.0,1.05,1.051255,1.064049,1.091887,1.115128,1.157153,1.157153,1.157153,1.157153,1.157153,1.157153,1.157153,1.157153,1.257153,1.34369,1.407153,1.655619,1.69161,1.8,1.80808,1.850842,1.862265,1.862265,1.891857,1.891857,1.891857,1.891857,1.891857,1.891857,1.891857,1.891857,1.891857,1.891857,1.891857,1.891857,1.891857,1.891857,1.891857,1.891857,1.891857,1.891857,1.988598,2.019699,2.019699,2.019699,2.019699,2.019699,2.019699,2.04878,2.087519,2.087519,2.087519,2.087519,2.087519,2.087519,2.087519,2.087519,2.087519,2.087519,2.087519,2.087519,2.087519,2.087519,2.087519,2.087519,2.087519,2.087519,2.087519,2.087519,2.087519,2.087519,2.087519,2.087519,2.087519,2.087519,2.087519,2.087519,2.087519,2.087519,2.087519,2.087519,2.087519,2.088033,2.092344,2.092344,2.120693,2.120693,2.120693,2.120693,2.162606,2.162606,2.162606,2.162606,2.164993,2.19697,2.19697,2.19697,2.207491,2.230253,2.237691,2.237691,2.237691,2.32835,2.41356,2.425404,2.44884,2.463946,2.463946,2.49432,2.51268,2.5308,2.53392,2.53704,2.54664,2.55252,2.560975,2.57148,2.5872,2.62236,2.62428,2.66388,2.726603,2.73372,2.75508,2.795294,2.82552,2.831348,2.8704,2.875,2.96592,2.967212,2.99004,3.0,3.0,3.0,3.051153,3.087519,3.08964,3.11424,3.15,3.1932,3.21792,3.24408,3.303771,3.303771,3.32616,3.35268,3.366937,3.37908,3.465,3.5,3.51048,3.51996,3.625162,3.62844,3.6858,3.69516,3.81912,3.85,3.87984,3.913234,3.938271,3.960531,3.989122,4.0,4.02036,4.033748,4.041249,4.0842,4.09428,4.158439,4.2318,4.296682,4.299,4.31028,4.3125,4.435381,4.45488,4.510905,4.52568,4.53684,4.668,4.668,4.689,4.710144,4.76376,4.772772,4.77576,4.861772,4.908373,5.0,5.0,5.0,5.01456,5.02704,5.159854,5.168,5.168,5.19552,5.2,5.27832,5.29116,5.424654,5.46912,5.55588,5.57004,5.631296,5.705887,5.75688,5.803269,5.84868,5.893768,6.0,6.0,6.05952,6.133005,6.165,6.166667,6.26292,6.36252,6.451077,6.5,6.61416,6.669,6.696429,6.8364,6.94524,7.0,7.007092,7.142857,7.24572,7.5,7.565217,7.60776,7.636307,7.692308,7.723,7.975,7.97724,7.983,8.0,8.0,8.0,8.0,8.12,8.24532,8.25,8.352367,8.376,8.5,8.571429,8.571429,8.780488,8.780488,8.80956,8.888889,9.057971,9.104167,9.10512,9.13,9.186594,9.188385,9.24996,9.25,9.3,9.375,9.423869,9.5,9.52381,9.77088,9.89,9.9,9.975962,10.09896,10.13098,10.185186,10.25916,10.46,10.514017,10.714286,10.81,10.88064,11.0,11.0,11.0,11.0,11.025,11.205,11.227657,11.24568,11.423077,11.4246,11.445,11.74321,11.95,12.0,12.025777,12.1608,12.428571,12.483048,12.5,12.5,12.56904,12.578286,12.6,12.648321,12.654321,12.76896,12.804878,12.822,12.9,12.975,12.976362,12.976362,12.99165,13.02525,13.02525,13.39416,13.940809,13.986432,14.0,14.092577,14.318182,14.924167,15.0,15.212068,15.5,15.625,15.625,15.873016,16.193183,16.5,16.615384,16.7412,16.830357,17.0,17.26,17.405203,18.0,18.0,18.125,18.144,18.35,18.692307,19.0,19.241379,19.406,19.5,19.9285,20.0,20.0,20.071429,20.210284,21.395348,21.696429,22.255493,22.26528,22.5,22.5,22.757,22.841455,23.0,23.0,23.017242,23.3,23.4,24.107143,24.456061,24.924126,24.960001,25.0,25.257798,25.365854,25.794643,25.892857,26.276786,26.58,27.173913,27.556817,29.0,29.268293,29.347826,29.517135,29.651786,29.793104,30.0,30.0,31.0,32.5,33.07392,33.333333,33.653846,34.005126,34.00525,34.84834,34.84834,34.84834,35.147,35.147,35.41031,35.85995,35.85995,36.0162,36.0162,36.637932,36.72567,36.72567,36.72567,40.011909,40.5,41.0,42.1764,42.1764,42.1764,42.1764,42.846615,43.03194,43.03194,43.21944,43.827586,44.53194,48.728845,48.787676,48.787676,48.798677,49.2058,49.2058,49.2058,49.2058,49.2058,50.20393,51.179021,51.415938,51.415938,55.761216],\"xaxis\":\"x\",\"y\":[16.119130941946423,16.119130941946423,16.119130941946423,16.136095442019997,16.14378395405601,16.14482184661997,16.14482184661997,16.14482184661997,16.147956263309492,16.147956263309492,16.160610351258903,16.163922463450973,16.166763706128332,16.170023970826293,16.170023970826293,16.170023970826293,16.170023970826293,16.170023970826293,16.170023970826293,16.170023970826293,16.170023970826293,16.173033010848233,16.173033010848233,16.185571148947176,16.218923699227968,16.220916999706162,16.28112608059632,16.31194894450528,16.314087889307846,16.314565357594535,16.320305346533633,16.320357194027743,16.324044493540846,16.345322705124573,16.3455282097376,16.34750595596756,16.350976910027956,16.35663205761305,16.394669264657328,16.396537659808796,16.406385855645016,16.40752508649292,16.413179762737162,16.418834910322257,16.446666173820933,16.45514323910831,16.45841811537279,16.464967396560898,16.481561422722,16.48538682510578,16.564909097552803,16.584817121269396,16.608384164047756,16.608975696821492,16.61500603172762,16.6281272184649,16.63908165128914,16.65888975074435,16.65888975074435,16.65888975074435,16.65888975074435,16.65888975074435,16.65888975074435,16.65888975074435,16.65888975074435,16.70602383630107,16.74681225991929,16.776724964636156,16.893837141655517,16.910801170388236,16.961889805723168,16.96569823983615,16.985853717501914,16.99123784409506,16.99123784409506,17.005185762693003,17.005185762693003,17.005185762693003,17.005185762693003,17.005185762693003,17.005185762693003,17.005185762693003,17.005185762693003,17.005185762693003,17.005185762693003,17.005185762693003,17.005185762693003,17.005185762693003,17.005185762693003,17.005185762693003,17.005185762693003,17.005185762693003,17.005185762693003,17.050783748401432,17.065442920350428,17.065442920350428,17.065442920350428,17.065442920350428,17.065442920350428,17.065442920350428,17.079149983771178,17.097409257175,17.097409257175,17.097409257175,17.097409257175,17.097409257175,17.097409257175,17.097409257175,17.097409257175,17.097409257175,17.097409257175,17.097409257175,17.097409257175,17.097409257175,17.097409257175,17.097409257175,17.097409257175,17.097409257175,17.097409257175,17.097409257175,17.097409257175,17.097409257175,17.097409257175,17.097409257175,17.097409257175,17.097409257175,17.097409257175,17.097409257175,17.097409257175,17.097409257175,17.097409257175,17.097409257175,17.097409257175,17.097409257175,17.097651526374758,17.099683476803108,17.099683476803108,17.113045518717584,17.113045518717584,17.113045518717584,17.113045518717584,17.132800827996974,17.132800827996974,17.132800827996974,17.132800827996974,17.133925918619212,17.148997985157685,17.148997985157685,17.148997985157685,17.153956962299105,17.164685622853526,17.168191456137237,17.168191456137237,17.168191456137237,17.210922746762105,17.251085701064987,17.256668262158325,17.2677146064494,17.274834681413598,17.274834681413598,17.289151188560595,17.29780500666881,17.306345702971687,17.307816286441057,17.309286869910427,17.31381174212387,17.316583226354606,17.320568413288427,17.32551984897616,17.332929327225678,17.349501671707422,17.35040664615011,17.36907174403057,17.398635656514315,17.401990189383387,17.4120580300583,17.43101253122408,17.445259279924457,17.4480062544307,17.466413057522313,17.46858122545792,17.511435536046093,17.512044508431487,17.522804277482376,17.527498832403822,17.527498832403822,17.527498832403822,17.551609331188654,17.56875011274221,17.569749826696867,17.581344811743822,17.598199960738906,17.61856188569941,17.630213431649032,17.64254370843067,17.670678515440333,17.670678515440333,17.681231365855627,17.69373132534527,17.70045123192309,17.706174723932243,17.74667233024258,17.763169260187432,17.768108912353775,17.772577223664552,17.822163224351932,17.823708279676485,17.850744391151817,17.855156141559927,17.91358355401604,17.928138559635954,17.94220337076608,17.957943327296892,17.96974428829773,17.980236335742656,17.993712442144176,17.99883968797104,18.008436187790387,18.01474649916472,18.01828202692233,18.0385265880098,18.043277703833915,18.07351846178625,18.108096498291516,18.138678035682428,18.139770603785635,18.145087328636432,18.146133705335792,18.204052541008746,18.21324321635145,18.239650087784604,18.24661414892561,18.25187431287374,18.313695379489936,18.313695379489936,18.323593537456848,18.33355956850696,18.358830979819054,18.363078703609425,18.364487070085858,18.405028039754907,18.426992994965193,18.470180543538252,18.470180543538252,18.470180543538252,18.47704326639531,18.48292560027279,18.545526264664094,18.549365807273542,18.549365807273542,18.562337107618752,18.564448714651693,18.601364130459718,18.6074161470452,18.67033732321829,18.691295965701944,18.732189498330953,18.738863684845786,18.76773614029441,18.802893926052025,18.826929010299963,18.848794041248873,18.870198100841034,18.89144991733685,18.941521399105465,18.941521399105465,18.969575606828826,19.00421208960018,19.019292640274056,19.020078365480288,19.065446336851195,19.11239188606569,19.154132418212157,19.17719182688907,19.231000098960624,19.25684843147993,19.269776839807285,19.33575089070188,19.38705162942182,19.412862254672678,19.416205004020362,19.480196595276443,19.528680129702654,19.648532682456285,19.67927211903381,19.699324373052207,19.712779740456085,19.739175299708705,19.753641693247772,19.87241958885071,19.873475392367183,19.87619031569525,19.88420311023989,19.88420311023989,19.88420311023989,19.88420311023989,19.94076401290796,19.99983244892764,20.002038324131696,20.050288073493544,20.061427271933162,20.119873538023498,20.15354094399581,20.15354094399581,20.252078991919838,20.252078991919838,20.265781813272884,20.303172812004178,20.382868066545193,20.404642128708975,20.40509131654433,20.416818277030842,20.443493341410814,20.444337512883138,20.473360326064686,20.47337917969891,20.49694622247727,20.53229678664481,20.555330742915526,20.59121439359071,20.602437019361766,20.718891204546757,20.775037327261927,20.7797507358176,20.815554729888195,20.87352871244125,20.888621046636512,20.914170549053388,20.94903751750312,21.043701614935237,21.06916203393041,21.163556995734,21.208670914383763,21.24196643242103,21.298225676941534,21.298225676941534,21.298225676941534,21.298225676941534,21.310009198330714,21.394850552332812,21.4055297220974,21.414024698337286,21.497639152092344,21.49835700421537,21.507972357668944,21.64853091420764,21.745999489730387,21.769566532508748,21.781716285742704,21.845358142083956,21.971569554320045,21.99724679010878,22.005236960292354,22.005236960292354,22.037778332960713,22.04213635051129,22.052371045849075,22.075146707330937,22.077974752464343,22.132008796805714,22.148938417655977,22.157008715784997,22.19377330251924,22.22912386668678,22.229765832932063,22.229765832932063,22.236971691931974,22.252808744679033,22.252808744679033,22.426691099706332,22.684349107061294,22.70585309091484,22.712248243643174,22.75588356602902,22.862220419749264,23.14784590811016,23.183589099210387,23.283545411768817,23.419259526993997,23.478177133939898,23.478177133939898,23.595077207574256,23.745984995278643,23.89060038256121,23.944985575839976,24.00428779692402,24.046311133583828,24.126270810344813,24.248819432792292,24.317259539043217,24.59761166591203,24.59761166591203,24.65652927285793,24.66548474911371,24.762580965360556,24.9239242396072,25.068952521479243,25.182724305855203,25.26031690883953,25.30462294926285,25.5065925058734,25.540293377046456,25.540293377046456,25.573960783018766,25.639408817518554,26.197977897180458,26.33988967331549,26.60339937739232,26.608012390345756,26.71864551596449,26.71864551596449,26.839780115845265,26.879587207802196,26.9543159437481,26.9543159437481,26.962442802779787,27.09571820041826,27.142852285974982,27.47615767260335,27.64061698124615,27.861235138807217,27.878144492000693,27.896997654882526,28.018508384766044,28.069439592255215,28.271545366373026,28.317837637161702,28.49879906049877,28.641716206678723,28.921651668231213,29.102129967191324,29.78236107715138,29.908818529314075,29.9463056815799,30.02610793049513,30.089574448038114,30.15618339506516,30.25370193271859,30.25370193271859,30.72504278828581,31.432054071636628,31.702566015463766,31.824837960829022,31.975908832469436,32.141481448213085,32.14153989447918,32.538922656399336,32.538922656399336,32.538922656399336,32.67969331632304,32.67969331632304,32.803802077002445,33.01573577929969,33.01573577929969,33.08938278798206,33.08938278798206,33.38243048079558,33.423784984781335,33.423784984781335,33.423784984781335,34.97272368663968,35.20278091617433,35.438451343957944,35.99293672644721,35.99293672644721,35.99293672644721,35.99293672644721,36.30883643796119,36.39618768201919,36.39618768201919,36.48456409243804,36.771208148387814,37.10319896537001,39.08137175880432,39.1091012126782,39.1091012126782,39.114286433430294,39.306180136571385,39.306180136571385,39.306180136571385,39.306180136571385,39.306180136571385,39.77663958473869,40.23623981093458,40.347908472412996,40.347908472412996,42.396015522610384],\"yaxis\":\"y\",\"type\":\"scatter\"}],                        {\"template\":{\"data\":{\"barpolar\":[{\"marker\":{\"line\":{\"color\":\"white\",\"width\":0.5},\"pattern\":{\"fillmode\":\"overlay\",\"size\":10,\"solidity\":0.2}},\"type\":\"barpolar\"}],\"bar\":[{\"error_x\":{\"color\":\"#2a3f5f\"},\"error_y\":{\"color\":\"#2a3f5f\"},\"marker\":{\"line\":{\"color\":\"white\",\"width\":0.5},\"pattern\":{\"fillmode\":\"overlay\",\"size\":10,\"solidity\":0.2}},\"type\":\"bar\"}],\"carpet\":[{\"aaxis\":{\"endlinecolor\":\"#2a3f5f\",\"gridcolor\":\"#C8D4E3\",\"linecolor\":\"#C8D4E3\",\"minorgridcolor\":\"#C8D4E3\",\"startlinecolor\":\"#2a3f5f\"},\"baxis\":{\"endlinecolor\":\"#2a3f5f\",\"gridcolor\":\"#C8D4E3\",\"linecolor\":\"#C8D4E3\",\"minorgridcolor\":\"#C8D4E3\",\"startlinecolor\":\"#2a3f5f\"},\"type\":\"carpet\"}],\"choropleth\":[{\"colorbar\":{\"outlinewidth\":0,\"ticks\":\"\"},\"type\":\"choropleth\"}],\"contourcarpet\":[{\"colorbar\":{\"outlinewidth\":0,\"ticks\":\"\"},\"type\":\"contourcarpet\"}],\"contour\":[{\"colorbar\":{\"outlinewidth\":0,\"ticks\":\"\"},\"colorscale\":[[0.0,\"#0d0887\"],[0.1111111111111111,\"#46039f\"],[0.2222222222222222,\"#7201a8\"],[0.3333333333333333,\"#9c179e\"],[0.4444444444444444,\"#bd3786\"],[0.5555555555555556,\"#d8576b\"],[0.6666666666666666,\"#ed7953\"],[0.7777777777777778,\"#fb9f3a\"],[0.8888888888888888,\"#fdca26\"],[1.0,\"#f0f921\"]],\"type\":\"contour\"}],\"heatmapgl\":[{\"colorbar\":{\"outlinewidth\":0,\"ticks\":\"\"},\"colorscale\":[[0.0,\"#0d0887\"],[0.1111111111111111,\"#46039f\"],[0.2222222222222222,\"#7201a8\"],[0.3333333333333333,\"#9c179e\"],[0.4444444444444444,\"#bd3786\"],[0.5555555555555556,\"#d8576b\"],[0.6666666666666666,\"#ed7953\"],[0.7777777777777778,\"#fb9f3a\"],[0.8888888888888888,\"#fdca26\"],[1.0,\"#f0f921\"]],\"type\":\"heatmapgl\"}],\"heatmap\":[{\"colorbar\":{\"outlinewidth\":0,\"ticks\":\"\"},\"colorscale\":[[0.0,\"#0d0887\"],[0.1111111111111111,\"#46039f\"],[0.2222222222222222,\"#7201a8\"],[0.3333333333333333,\"#9c179e\"],[0.4444444444444444,\"#bd3786\"],[0.5555555555555556,\"#d8576b\"],[0.6666666666666666,\"#ed7953\"],[0.7777777777777778,\"#fb9f3a\"],[0.8888888888888888,\"#fdca26\"],[1.0,\"#f0f921\"]],\"type\":\"heatmap\"}],\"histogram2dcontour\":[{\"colorbar\":{\"outlinewidth\":0,\"ticks\":\"\"},\"colorscale\":[[0.0,\"#0d0887\"],[0.1111111111111111,\"#46039f\"],[0.2222222222222222,\"#7201a8\"],[0.3333333333333333,\"#9c179e\"],[0.4444444444444444,\"#bd3786\"],[0.5555555555555556,\"#d8576b\"],[0.6666666666666666,\"#ed7953\"],[0.7777777777777778,\"#fb9f3a\"],[0.8888888888888888,\"#fdca26\"],[1.0,\"#f0f921\"]],\"type\":\"histogram2dcontour\"}],\"histogram2d\":[{\"colorbar\":{\"outlinewidth\":0,\"ticks\":\"\"},\"colorscale\":[[0.0,\"#0d0887\"],[0.1111111111111111,\"#46039f\"],[0.2222222222222222,\"#7201a8\"],[0.3333333333333333,\"#9c179e\"],[0.4444444444444444,\"#bd3786\"],[0.5555555555555556,\"#d8576b\"],[0.6666666666666666,\"#ed7953\"],[0.7777777777777778,\"#fb9f3a\"],[0.8888888888888888,\"#fdca26\"],[1.0,\"#f0f921\"]],\"type\":\"histogram2d\"}],\"histogram\":[{\"marker\":{\"pattern\":{\"fillmode\":\"overlay\",\"size\":10,\"solidity\":0.2}},\"type\":\"histogram\"}],\"mesh3d\":[{\"colorbar\":{\"outlinewidth\":0,\"ticks\":\"\"},\"type\":\"mesh3d\"}],\"parcoords\":[{\"line\":{\"colorbar\":{\"outlinewidth\":0,\"ticks\":\"\"}},\"type\":\"parcoords\"}],\"pie\":[{\"automargin\":true,\"type\":\"pie\"}],\"scatter3d\":[{\"line\":{\"colorbar\":{\"outlinewidth\":0,\"ticks\":\"\"}},\"marker\":{\"colorbar\":{\"outlinewidth\":0,\"ticks\":\"\"}},\"type\":\"scatter3d\"}],\"scattercarpet\":[{\"marker\":{\"colorbar\":{\"outlinewidth\":0,\"ticks\":\"\"}},\"type\":\"scattercarpet\"}],\"scattergeo\":[{\"marker\":{\"colorbar\":{\"outlinewidth\":0,\"ticks\":\"\"}},\"type\":\"scattergeo\"}],\"scattergl\":[{\"marker\":{\"colorbar\":{\"outlinewidth\":0,\"ticks\":\"\"}},\"type\":\"scattergl\"}],\"scattermapbox\":[{\"marker\":{\"colorbar\":{\"outlinewidth\":0,\"ticks\":\"\"}},\"type\":\"scattermapbox\"}],\"scatterpolargl\":[{\"marker\":{\"colorbar\":{\"outlinewidth\":0,\"ticks\":\"\"}},\"type\":\"scatterpolargl\"}],\"scatterpolar\":[{\"marker\":{\"colorbar\":{\"outlinewidth\":0,\"ticks\":\"\"}},\"type\":\"scatterpolar\"}],\"scatter\":[{\"fillpattern\":{\"fillmode\":\"overlay\",\"size\":10,\"solidity\":0.2},\"type\":\"scatter\"}],\"scatterternary\":[{\"marker\":{\"colorbar\":{\"outlinewidth\":0,\"ticks\":\"\"}},\"type\":\"scatterternary\"}],\"surface\":[{\"colorbar\":{\"outlinewidth\":0,\"ticks\":\"\"},\"colorscale\":[[0.0,\"#0d0887\"],[0.1111111111111111,\"#46039f\"],[0.2222222222222222,\"#7201a8\"],[0.3333333333333333,\"#9c179e\"],[0.4444444444444444,\"#bd3786\"],[0.5555555555555556,\"#d8576b\"],[0.6666666666666666,\"#ed7953\"],[0.7777777777777778,\"#fb9f3a\"],[0.8888888888888888,\"#fdca26\"],[1.0,\"#f0f921\"]],\"type\":\"surface\"}],\"table\":[{\"cells\":{\"fill\":{\"color\":\"#EBF0F8\"},\"line\":{\"color\":\"white\"}},\"header\":{\"fill\":{\"color\":\"#C8D4E3\"},\"line\":{\"color\":\"white\"}},\"type\":\"table\"}]},\"layout\":{\"annotationdefaults\":{\"arrowcolor\":\"#2a3f5f\",\"arrowhead\":0,\"arrowwidth\":1},\"autotypenumbers\":\"strict\",\"coloraxis\":{\"colorbar\":{\"outlinewidth\":0,\"ticks\":\"\"}},\"colorscale\":{\"diverging\":[[0,\"#8e0152\"],[0.1,\"#c51b7d\"],[0.2,\"#de77ae\"],[0.3,\"#f1b6da\"],[0.4,\"#fde0ef\"],[0.5,\"#f7f7f7\"],[0.6,\"#e6f5d0\"],[0.7,\"#b8e186\"],[0.8,\"#7fbc41\"],[0.9,\"#4d9221\"],[1,\"#276419\"]],\"sequential\":[[0.0,\"#0d0887\"],[0.1111111111111111,\"#46039f\"],[0.2222222222222222,\"#7201a8\"],[0.3333333333333333,\"#9c179e\"],[0.4444444444444444,\"#bd3786\"],[0.5555555555555556,\"#d8576b\"],[0.6666666666666666,\"#ed7953\"],[0.7777777777777778,\"#fb9f3a\"],[0.8888888888888888,\"#fdca26\"],[1.0,\"#f0f921\"]],\"sequentialminus\":[[0.0,\"#0d0887\"],[0.1111111111111111,\"#46039f\"],[0.2222222222222222,\"#7201a8\"],[0.3333333333333333,\"#9c179e\"],[0.4444444444444444,\"#bd3786\"],[0.5555555555555556,\"#d8576b\"],[0.6666666666666666,\"#ed7953\"],[0.7777777777777778,\"#fb9f3a\"],[0.8888888888888888,\"#fdca26\"],[1.0,\"#f0f921\"]]},\"colorway\":[\"#636efa\",\"#EF553B\",\"#00cc96\",\"#ab63fa\",\"#FFA15A\",\"#19d3f3\",\"#FF6692\",\"#B6E880\",\"#FF97FF\",\"#FECB52\"],\"font\":{\"color\":\"#2a3f5f\"},\"geo\":{\"bgcolor\":\"white\",\"lakecolor\":\"white\",\"landcolor\":\"white\",\"showlakes\":true,\"showland\":true,\"subunitcolor\":\"#C8D4E3\"},\"hoverlabel\":{\"align\":\"left\"},\"hovermode\":\"closest\",\"mapbox\":{\"style\":\"light\"},\"paper_bgcolor\":\"white\",\"plot_bgcolor\":\"white\",\"polar\":{\"angularaxis\":{\"gridcolor\":\"#EBF0F8\",\"linecolor\":\"#EBF0F8\",\"ticks\":\"\"},\"bgcolor\":\"white\",\"radialaxis\":{\"gridcolor\":\"#EBF0F8\",\"linecolor\":\"#EBF0F8\",\"ticks\":\"\"}},\"scene\":{\"xaxis\":{\"backgroundcolor\":\"white\",\"gridcolor\":\"#DFE8F3\",\"gridwidth\":2,\"linecolor\":\"#EBF0F8\",\"showbackground\":true,\"ticks\":\"\",\"zerolinecolor\":\"#EBF0F8\"},\"yaxis\":{\"backgroundcolor\":\"white\",\"gridcolor\":\"#DFE8F3\",\"gridwidth\":2,\"linecolor\":\"#EBF0F8\",\"showbackground\":true,\"ticks\":\"\",\"zerolinecolor\":\"#EBF0F8\"},\"zaxis\":{\"backgroundcolor\":\"white\",\"gridcolor\":\"#DFE8F3\",\"gridwidth\":2,\"linecolor\":\"#EBF0F8\",\"showbackground\":true,\"ticks\":\"\",\"zerolinecolor\":\"#EBF0F8\"}},\"shapedefaults\":{\"line\":{\"color\":\"#2a3f5f\"}},\"ternary\":{\"aaxis\":{\"gridcolor\":\"#DFE8F3\",\"linecolor\":\"#A2B1C6\",\"ticks\":\"\"},\"baxis\":{\"gridcolor\":\"#DFE8F3\",\"linecolor\":\"#A2B1C6\",\"ticks\":\"\"},\"bgcolor\":\"white\",\"caxis\":{\"gridcolor\":\"#DFE8F3\",\"linecolor\":\"#A2B1C6\",\"ticks\":\"\"}},\"title\":{\"x\":0.05},\"xaxis\":{\"automargin\":true,\"gridcolor\":\"#EBF0F8\",\"linecolor\":\"#EBF0F8\",\"ticks\":\"\",\"title\":{\"standoff\":15},\"zerolinecolor\":\"#EBF0F8\",\"zerolinewidth\":2},\"yaxis\":{\"automargin\":true,\"gridcolor\":\"#EBF0F8\",\"linecolor\":\"#EBF0F8\",\"ticks\":\"\",\"title\":{\"standoff\":15},\"zerolinecolor\":\"#EBF0F8\",\"zerolinewidth\":2}}},\"xaxis\":{\"anchor\":\"y\",\"domain\":[0.0,1.0],\"title\":{\"text\":\"Salary ($M)\"},\"tickprefix\":\"$\",\"ticksuffix\":\"M\"},\"yaxis\":{\"anchor\":\"x\",\"domain\":[0.0,1.0],\"title\":{\"text\":\"MP\"}},\"legend\":{\"tracegroupgap\":0},\"title\":{\"text\":\"Salary vs MP\"}},                        {\"responsive\": true}                    ).then(function(){\n",
       "                            \n",
       "var gd = document.getElementById('05502638-1efd-4d72-94f5-6f972b7a59a9');\n",
       "var x = new MutationObserver(function (mutations, observer) {{\n",
       "        var display = window.getComputedStyle(gd).display;\n",
       "        if (!display || display === 'none') {{\n",
       "            console.log([gd, 'removed!']);\n",
       "            Plotly.purge(gd);\n",
       "            observer.disconnect();\n",
       "        }}\n",
       "}});\n",
       "\n",
       "// Listen for the removal of the full notebook cells\n",
       "var notebookContainer = gd.closest('#notebook-container');\n",
       "if (notebookContainer) {{\n",
       "    x.observe(notebookContainer, {childList: true});\n",
       "}}\n",
       "\n",
       "// Listen for the clearing of the current output cell\n",
       "var outputEl = gd.closest('.output');\n",
       "if (outputEl) {{\n",
       "    x.observe(outputEl, {childList: true});\n",
       "}}\n",
       "\n",
       "                        })                };                });            </script>        </div>"
      ]
     },
     "metadata": {},
     "output_type": "display_data"
    },
    {
     "data": {
      "application/vnd.plotly.v1+json": {
       "config": {
        "plotlyServerURL": "https://plot.ly"
       },
       "data": [
        {
         "customdata": [
          [
           "Shai Gilgeous-Alexander"
          ],
          [
           "Giannis Antetokounmpo"
          ],
          [
           "Nikola Jokic"
          ],
          [
           "Anthony Edwards"
          ],
          [
           "Jayson Tatum"
          ],
          [
           "Kevin Durant"
          ],
          [
           "Tyrese Maxey"
          ],
          [
           "Cade Cunningham"
          ],
          [
           "Jalen Brunson"
          ],
          [
           "Paolo Banchero"
          ],
          [
           "Devin Booker"
          ],
          [
           "LaMelo Ball"
          ],
          [
           "Damian Lillard"
          ],
          [
           "Kyrie Irving"
          ],
          [
           "Zion Williamson"
          ],
          [
           "Stephen Curry"
          ],
          [
           "LeBron James"
          ],
          [
           "Karl-Anthony Towns"
          ],
          [
           "Victor Wembanyama"
          ],
          [
           "Franz Wagner"
          ],
          [
           "Trae Young"
          ],
          [
           "Donovan Mitchell"
          ],
          [
           "Cam Thomas"
          ],
          [
           "Tyler Herro"
          ],
          [
           "Joel Embiid"
          ],
          [
           "Ja Morant"
          ],
          [
           "James Harden"
          ],
          [
           "Jaylen Brown"
          ],
          [
           "DeMar DeRozan"
          ],
          [
           "Brandon Ingram"
          ],
          [
           "Jaren Jackson Jr."
          ],
          [
           "Norman Powell"
          ],
          [
           "Jalen Williams"
          ],
          [
           "Kawhi Leonard"
          ],
          [
           "Jamal Murray"
          ],
          [
           "Trey Murphy III"
          ],
          [
           "RJ Barrett"
          ],
          [
           "CJ McCollum"
          ],
          [
           "Jalen Green"
          ],
          [
           "Brandon Miller"
          ],
          [
           "Darius Garland"
          ],
          [
           "Jordan Poole"
          ],
          [
           "Coby White"
          ],
          [
           "Miles Bridges"
          ],
          [
           "Austin Reaves"
          ],
          [
           "Pascal Siakam"
          ],
          [
           "Kristaps Porzingis"
          ],
          [
           "Scottie Barnes"
          ],
          [
           "Anfernee Simons"
          ],
          [
           "Desmond Bane"
          ],
          [
           "Domantas Sabonis"
          ],
          [
           "Alperen Sengun"
          ],
          [
           "John Collins"
          ],
          [
           "Lauri Markkanen"
          ],
          [
           "Jalen Johnson"
          ],
          [
           "Cameron Johnson"
          ],
          [
           "Julius Randle"
          ],
          [
           "Tyrese Haliburton"
          ],
          [
           "Evan Mobley"
          ],
          [
           "Shaedon Sharpe"
          ],
          [
           "Nikola Vucevic"
          ],
          [
           "Collin Sexton"
          ],
          [
           "Michael Porter Jr."
          ],
          [
           "Bam Adebayo"
          ],
          [
           "OG Anunoby"
          ],
          [
           "Mikal Bridges"
          ],
          [
           "Jaden Ivey"
          ],
          [
           "Dejounte Murray"
          ],
          [
           "Malik Monk"
          ],
          [
           "Immanuel Quickley"
          ],
          [
           "Bradley Beal"
          ],
          [
           "Deni Avdija"
          ],
          [
           "Keyonte George"
          ],
          [
           "Ivica Zubac"
          ],
          [
           "Derrick White"
          ],
          [
           "Malik Beasley"
          ],
          [
           "Devin Vassell"
          ],
          [
           "Jordan Clarkson"
          ],
          [
           "Paul George"
          ],
          [
           "Jalen Suggs"
          ],
          [
           "Bennedict Mathurin"
          ],
          [
           "Myles Turner"
          ],
          [
           "Christian Braun"
          ],
          [
           "Jonathan Kuminga"
          ],
          [
           "Jared McCain"
          ],
          [
           "Mark Williams"
          ],
          [
           "Kelly Oubre Jr."
          ],
          [
           "Chet Holmgren"
          ],
          [
           "Stephon Castle"
          ],
          [
           "Aaron Gordon"
          ],
          [
           "P.J. Washington"
          ],
          [
           "Josh Giddey"
          ],
          [
           "Jakob Poeltl"
          ],
          [
           "Deandre Ayton"
          ],
          [
           "Gradey Dick"
          ],
          [
           "Jerami Grant"
          ],
          [
           "Payton Pritchard"
          ],
          [
           "Naz Reid"
          ],
          [
           "Dyson Daniels"
          ],
          [
           "Tre Mann"
          ],
          [
           "Amen Thompson"
          ],
          [
           "Fred VanVleet"
          ],
          [
           "Dillon Brooks"
          ],
          [
           "Klay Thompson"
          ],
          [
           "Bobby Portis"
          ],
          [
           "Tobias Harris"
          ],
          [
           "Josh Hart"
          ],
          [
           "Jarrett Allen"
          ],
          [
           "Onyeka Okongwu"
          ],
          [
           "Russell Westbrook"
          ],
          [
           "Naji Marshall"
          ],
          [
           "Rui Hachimura"
          ],
          [
           "Brook Lopez"
          ],
          [
           "Alex Sarr"
          ],
          [
           "Moritz Wagner"
          ],
          [
           "Malcolm Brogdon"
          ],
          [
           "Scoot Henderson"
          ],
          [
           "Keldon Johnson"
          ],
          [
           "Zaccharie Risacher"
          ],
          [
           "Santi Aldama"
          ],
          [
           "Ty Jerome"
          ],
          [
           "Keegan Murray"
          ],
          [
           "Lonnie Walker IV"
          ],
          [
           "Harrison Barnes"
          ],
          [
           "Bilal Coulibaly"
          ],
          [
           "Ayo Dosunmu"
          ],
          [
           "Daniel Gafford"
          ],
          [
           "Jaden McDaniels"
          ],
          [
           "Jabari Smith Jr."
          ],
          [
           "Drew Timme"
          ],
          [
           "Tari Eason"
          ],
          [
           "Rudy Gobert"
          ],
          [
           "Aaron Nesmith"
          ],
          [
           "Aaron Wiggins"
          ],
          [
           "Jalen Duren"
          ],
          [
           "Donte DiVincenzo"
          ],
          [
           "Brandin Podziemski"
          ],
          [
           "Corey Kispert"
          ],
          [
           "Jeremy Sochan"
          ],
          [
           "Toumani Camara"
          ],
          [
           "Isaiah Hartenstein"
          ],
          [
           "Buddy Hield"
          ],
          [
           "Jrue Holiday"
          ],
          [
           "Walker Kessler"
          ],
          [
           "Gary Trent Jr."
          ],
          [
           "Spencer Dinwiddie"
          ],
          [
           "Tim Hardaway Jr."
          ],
          [
           "Duncan Robinson"
          ],
          [
           "Guerschon Yabusele"
          ],
          [
           "Brice Sensabaugh"
          ],
          [
           "Jordan Hawkins"
          ],
          [
           "Brandon Boston Jr."
          ],
          [
           "Grayson Allen"
          ],
          [
           "Keon Johnson"
          ],
          [
           "Terry Rozier"
          ],
          [
           "Obi Toppin"
          ],
          [
           "Ochai Agbaji"
          ],
          [
           "Jaylen Wells"
          ],
          [
           "Grant Williams"
          ],
          [
           "Jose Alvarado"
          ],
          [
           "Nic Claxton"
          ],
          [
           "Herbert Jones"
          ],
          [
           "De'Anthony Melton"
          ],
          [
           "Isaiah Joe"
          ],
          [
           "Tyus Jones"
          ],
          [
           "Trendon Watford"
          ],
          [
           "Luguentz Dort"
          ],
          [
           "Justin Edwards"
          ],
          [
           "Derrick Jones Jr."
          ],
          [
           "Ausar Thompson"
          ],
          [
           "Chris Boucher"
          ],
          [
           "Andrew Nembhard"
          ],
          [
           "Ziaire Williams"
          ],
          [
           "Julian Champagnie"
          ],
          [
           "Scotty Pippen Jr."
          ],
          [
           "Nick Smith Jr."
          ],
          [
           "Bub Carrington"
          ],
          [
           "Moses Moody"
          ],
          [
           "Amir Coffey"
          ],
          [
           "Kyle Filipowski"
          ],
          [
           "Miles McBride"
          ],
          [
           "Jalen Wilson"
          ],
          [
           "Nickeil Alexander-Walker"
          ],
          [
           "Cole Anthony"
          ],
          [
           "Anthony Black"
          ],
          [
           "Max Strus"
          ],
          [
           "Cam Whitmore"
          ],
          [
           "Kel'el Ware"
          ],
          [
           "Zach Edey"
          ],
          [
           "Wendell Carter Jr."
          ],
          [
           "Noah Clowney"
          ],
          [
           "Dalton Knecht"
          ],
          [
           "A.J. Lawson"
          ],
          [
           "T.J. McConnell"
          ],
          [
           "Yves Missi"
          ],
          [
           "Royce O'Neale"
          ],
          [
           "Draymond Green"
          ],
          [
           "Killian Hayes"
          ],
          [
           "Al Horford"
          ],
          [
           "Julian Strawther"
          ],
          [
           "Patrick Williams"
          ],
          [
           "Clint Capela"
          ],
          [
           "Johnny Juzang"
          ],
          [
           "Luke Kennard"
          ],
          [
           "Justin Champagnie"
          ],
          [
           "Svi Mykhailiuk"
          ],
          [
           "Chris Paul"
          ],
          [
           "Oshae Brissett"
          ],
          [
           "Kentavious Caldwell-Pope"
          ],
          [
           "Isaiah Collier"
          ],
          [
           "Dante Exum"
          ],
          [
           "Kyshawn George"
          ],
          [
           "Jaden Hardy"
          ],
          [
           "Dereck Lively II"
          ],
          [
           "Tyrese Martin"
          ],
          [
           "Matas Buzelis"
          ],
          [
           "Jaime Jaquez Jr."
          ],
          [
           "Ja'Kobe Walter"
          ],
          [
           "Sam Hauser"
          ],
          [
           "Larry Nance Jr."
          ],
          [
           "Jaylen Nowell"
          ],
          [
           "Cason Wallace"
          ],
          [
           "Dalano Banton"
          ],
          [
           "Brandon Clarke"
          ],
          [
           "Keon Ellis"
          ],
          [
           "Brandon Williams"
          ],
          [
           "Mike Conley"
          ],
          [
           "Taurean Prince"
          ],
          [
           "Jalen Smith"
          ],
          [
           "Quinten Post"
          ],
          [
           "Peyton Watson"
          ],
          [
           "Day'Ron Sharpe"
          ],
          [
           "Karlo Matkovic"
          ],
          [
           "Lonzo Ball"
          ],
          [
           "Garrison Mathews"
          ],
          [
           "Matisse Thybulle"
          ],
          [
           "A.J. Green"
          ],
          [
           "Josh Green"
          ],
          [
           "Richaun Holmes"
          ],
          [
           "Alec Burks"
          ],
          [
           "Ricky Council IV"
          ],
          [
           "Andre Drummond"
          ],
          [
           "Goga Bitadze"
          ],
          [
           "Tristan Da Silva"
          ],
          [
           "GG Jackson II"
          ],
          [
           "Vit Krejci"
          ],
          [
           "Sam Merrill"
          ],
          [
           "Nae'Qwan Tomlin"
          ],
          [
           "Jamison Battle"
          ],
          [
           "Alex Caruso"
          ],
          [
           "Jamal Shead"
          ],
          [
           "Marcus Garrett"
          ],
          [
           "Isaiah Jackson"
          ],
          [
           "Jaylen Sims"
          ],
          [
           "Ryan Dunn"
          ],
          [
           "Jay Huff"
          ],
          [
           "Cameron Payne"
          ],
          [
           "Antonio Reeves"
          ],
          [
           "Bol Bol"
          ],
          [
           "Eric Gordon"
          ],
          [
           "Jaxson Hayes"
          ],
          [
           "Marcus Bagley"
          ],
          [
           "DaQuan Jeffries"
          ],
          [
           "Precious Achiuwa"
          ],
          [
           "Trayce Jackson-Davis"
          ],
          [
           "Marcus Sasser"
          ],
          [
           "Vince Williams Jr."
          ],
          [
           "Donovan Clingan"
          ],
          [
           "Seth Curry"
          ],
          [
           "Haywood Highsmith"
          ],
          [
           "Talen Horton-Tucker"
          ],
          [
           "Trey Lyles"
          ],
          [
           "Ajay Mitchell"
          ],
          [
           "Gary Payton II"
          ],
          [
           "Kris Dunn"
          ],
          [
           "Ron Holland"
          ],
          [
           "Gabe Vincent"
          ],
          [
           "Sandro Mamukelashvili"
          ],
          [
           "Jeremiah Robinson-Earl"
          ],
          [
           "Kenrich Williams"
          ],
          [
           "Jonathan Mogbo"
          ],
          [
           "Ryan Rollins"
          ],
          [
           "Isaac Okoro"
          ],
          [
           "Jarace Walker"
          ],
          [
           "Mouhamed Gueye"
          ],
          [
           "Luke Kornet"
          ],
          [
           "Isaiah Mobley"
          ],
          [
           "Isaiah Stewart"
          ],
          [
           "James Wiseman"
          ],
          [
           "Simone Fontecchio"
          ],
          [
           "Jaylin Williams"
          ],
          [
           "Adem Bona"
          ],
          [
           "Robert Williams"
          ],
          [
           "Moussa Diabate"
          ],
          [
           "Dariq Whitehead"
          ],
          [
           "Landry Shamet"
          ],
          [
           "Jordan Goodwin"
          ],
          [
           "Aaron Holiday"
          ],
          [
           "Jeff Green"
          ],
          [
           "Jonathan Isaac"
          ],
          [
           "Dean Wade"
          ],
          [
           "Kobe Bufkin"
          ],
          [
           "Pat Connaughton"
          ],
          [
           "Kevin Love"
          ],
          [
           "Ben Sheppard"
          ],
          [
           "Monte Morris"
          ],
          [
           "Jabari Walker"
          ],
          [
           "Bismack Biyombo"
          ],
          [
           "Mitchell Robinson"
          ],
          [
           "Malaki Branham"
          ],
          [
           "Neemias Queta"
          ],
          [
           "Jock Landale"
          ],
          [
           "Taylor Hendricks"
          ],
          [
           "Pelle Larsson"
          ],
          [
           "Julian Phillips"
          ],
          [
           "Cody Williams"
          ],
          [
           "Rob Dillingham"
          ],
          [
           "Jett Howard"
          ],
          [
           "Kevon Looney"
          ],
          [
           "Mason Plumlee"
          ],
          [
           "Dalen Terry"
          ],
          [
           "Charles Bassey"
          ],
          [
           "Tony Bradley"
          ],
          [
           "Reggie Jackson"
          ],
          [
           "Reed Sheppard"
          ],
          [
           "Lamar Stevens"
          ],
          [
           "Jevon Carter"
          ],
          [
           "Terrence Shannon Jr."
          ],
          [
           "Daniel Theis"
          ],
          [
           "Dominick Barlow"
          ],
          [
           "Oso Ighodaro"
          ],
          [
           "Kris Murray"
          ],
          [
           "Duop Reath"
          ],
          [
           "Jaylen Clark"
          ],
          [
           "Caleb Houstan"
          ],
          [
           "Jordan Miller"
          ],
          [
           "Jalen Pickett"
          ],
          [
           "Paul Reed"
          ],
          [
           "Gui Santos"
          ],
          [
           "Jarred Vanderbilt"
          ],
          [
           "Nicolas Batum"
          ],
          [
           "Malachi Flynn"
          ],
          [
           "Josh Richardson"
          ],
          [
           "Steven Adams"
          ],
          [
           "Kyle Lowry"
          ],
          [
           "Olivier-Maxence Prosper"
          ],
          [
           "Branden Carlson"
          ],
          [
           "Devin Carter"
          ],
          [
           "Ousmane Dieng"
          ],
          [
           "DeAndre Jordan"
          ],
          [
           "Craig Porter Jr."
          ],
          [
           "Blake Wesley"
          ],
          [
           "Baylor Scheierman"
          ],
          [
           "Jae'Sean Tate"
          ],
          [
           "Jaylon Tyson"
          ],
          [
           "Luka Garza"
          ],
          [
           "Cory Joseph"
          ],
          [
           "Doug McDermott"
          ],
          [
           "Dario Saric"
          ],
          [
           "Bruno Fernando"
          ],
          [
           "Andre Jackson Jr."
          ],
          [
           "Isaac Jones"
          ],
          [
           "Kevin Knox"
          ],
          [
           "Damion Lee"
          ],
          [
           "Jeenathan Williams"
          ],
          [
           "Zeke Nnaji"
          ],
          [
           "Cam Reddish"
          ],
          [
           "Gary Harris"
          ],
          [
           "Maxi Kleber"
          ],
          [
           "Rayan Rupert"
          ],
          [
           "P.J. Tucker"
          ],
          [
           "Markelle Fultz"
          ],
          [
           "Taj Gibson"
          ],
          [
           "Tyler Smith"
          ],
          [
           "Keshad Johnson"
          ],
          [
           "Jae Crowder"
          ],
          [
           "Josh Minott"
          ],
          [
           "Hunter Tyson"
          ],
          [
           "Anthony Gill"
          ],
          [
           "Dillon Jones"
          ],
          [
           "Pat Spencer"
          ],
          [
           "Johnny Davis"
          ],
          [
           "John Konchar"
          ],
          [
           "Bronny James"
          ],
          [
           "JD Davison"
          ],
          [
           "Chris Duarte"
          ],
          [
           "Johnny Furphy"
          ],
          [
           "Dwight Powell"
          ],
          [
           "Tyler Kolek"
          ],
          [
           "Kobe Brown"
          ],
          [
           "Ariel Hukporti"
          ],
          [
           "Bobi Klintman"
          ],
          [
           "Garrett Temple"
          ],
          [
           "Vlatko Cancar"
          ],
          [
           "E.J. Liddell"
          ],
          [
           "Pacome Dadiet"
          ],
          [
           "Tristan Thompson"
          ],
          [
           "Jordan Walsh"
          ],
          [
           "Phillip Wheeler"
          ],
          [
           "Leonard Miller"
          ],
          [
           "Matt Ryan"
          ],
          [
           "Cam Christie"
          ],
          [
           "Chris Livingston"
          ],
          [
           "Skal Labissiere"
          ],
          [
           "Yuri Collins"
          ],
          [
           "Braxton Key"
          ],
          [
           "Xavier Tillman Sr."
          ],
          [
           "PJ Dozier"
          ],
          [
           "Joe Ingles"
          ],
          [
           "James Johnson"
          ],
          [
           "Malevy Leons"
          ],
          [
           "Daishen Nix"
          ],
          [
           "Terence Davis"
          ],
          [
           "Jalen McDaniels"
          ],
          [
           "Jahlil Okafor"
          ],
          [
           "Terry Taylor"
          ],
          [
           "Luka Doncic"
          ],
          [
           "Anthony Davis"
          ],
          [
           "De'Aaron Fox"
          ],
          [
           "Zach LaVine"
          ],
          [
           "Andrew Wiggins"
          ],
          [
           "Jimmy Butler"
          ],
          [
           "De'Andre Hunter"
          ],
          [
           "Kyle Kuzma"
          ],
          [
           "Quentin Grimes"
          ],
          [
           "Dennis Schroder"
          ],
          [
           "D'Angelo Russell"
          ],
          [
           "Caris LeVert"
          ],
          [
           "Khris Middleton"
          ],
          [
           "Bogdan Bogdanovic"
          ],
          [
           "Jonas Valanciunas"
          ],
          [
           "Kevin Porter Jr."
          ],
          [
           "Kevin Huerter"
          ],
          [
           "Georges Niang"
          ],
          [
           "Max Christie"
          ],
          [
           "Nick Richards"
          ],
          [
           "Jared Butler"
          ],
          [
           "Marcus Smart"
          ],
          [
           "Jusuf Nurkic"
          ],
          [
           "Kelly Olynyk"
          ],
          [
           "Dorian Finney-Smith"
          ],
          [
           "Jared Rhoden"
          ],
          [
           "Bruce Brown"
          ],
          [
           "Davion Mitchell"
          ],
          [
           "Caleb Martin"
          ],
          [
           "Terance Mann"
          ],
          [
           "AJ Johnson"
          ],
          [
           "Tre Jones"
          ],
          [
           "Josh Okogie"
          ],
          [
           "Jalen Hood-Schifino"
          ],
          [
           "Orlando Robinson"
          ],
          [
           "Jake LaRavia"
          ],
          [
           "Cody Martin"
          ],
          [
           "Vasilije Micic"
          ],
          [
           "Thomas Bryant"
          ],
          [
           "Zach Collins"
          ],
          [
           "KJ Martin"
          ],
          [
           "Bones Hyland"
          ],
          [
           "Cole Swider"
          ],
          [
           "Chuma Okeke"
          ],
          [
           "Kyle Anderson"
          ],
          [
           "Moses Brown"
          ],
          [
           "Shake Milton"
          ],
          [
           "Javonte Green"
          ],
          [
           "Ben Simmons"
          ],
          [
           "Lindy Waters III"
          ],
          [
           "Colin Castleton"
          ],
          [
           "David Roddy"
          ],
          [
           "Drew Eubanks"
          ],
          [
           "Marvin Bagley III"
          ],
          [
           "Mo Bamba"
          ],
          [
           "Torrey Craig"
          ],
          [
           "Wendell Moore Jr."
          ],
          [
           "Maxwell Lewis"
          ],
          [
           "Colby Jones"
          ],
          [
           "Patty Mills"
          ],
          [
           "Markieff Morris"
          ],
          [
           "Elfrid Payton"
          ],
          [
           "Delon Wright"
          ],
          [
           "Kylor Kelley"
          ],
          [
           "Jaden Springer"
          ],
          [
           "MarJon Beauchamp"
          ],
          [
           "Patrick Baldwin Jr."
          ],
          [
           "Jordan McLaughlin"
          ],
          [
           "Jericho Sims"
          ],
          [
           "Alex Len"
          ],
          [
           "Sidy Cissoko"
          ]
         ],
         "hovertemplate": "Salary ($M)=%{x:.2f}<br>Age=%{y}<br>Player=%{customdata[0]}<extra></extra>",
         "legendgroup": "",
         "marker": {
          "color": "skyblue",
          "symbol": "circle"
         },
         "mode": "markers",
         "name": "",
         "orientation": "v",
         "showlegend": false,
         "type": "scatter",
         "x": [
          35.85995,
          48.787676,
          51.415938,
          42.1764,
          34.84834,
          51.179021,
          35.147,
          13.940809,
          24.960001,
          12.1608,
          49.2058,
          35.147,
          48.787676,
          41,
          36.72567,
          55.761216,
          48.728845,
          49.2058,
          12.76896,
          7.007092,
          43.03194,
          35.41031,
          4.041249,
          29,
          51.415938,
          36.72567,
          33.653846,
          49.2058,
          23.4,
          36.0162,
          25.257798,
          19.241379,
          4.77576,
          49.2058,
          36.0162,
          5.159854,
          25.794643,
          33.333333,
          12.483048,
          11.4246,
          36.72567,
          29.651786,
          12,
          27.173913,
          12.976362,
          42.1764,
          29.268293,
          10.13098,
          25.892857,
          34.00525,
          40.5,
          5.424654,
          26.58,
          42.1764,
          4.510905,
          22.5,
          33.07392,
          42.1764,
          11.227657,
          6.61416,
          20,
          18.35,
          35.85995,
          34.84834,
          36.637932,
          23.3,
          7.97724,
          29.517135,
          17.405203,
          32.5,
          50.20393,
          15.625,
          4.0842,
          11.74321,
          20.071429,
          6,
          29.347826,
          14.092577,
          49.2058,
          9.188385,
          7.24572,
          19.9285,
          3.08964,
          7.636307,
          4.02036,
          4.09428,
          7.983,
          10.88064,
          9.10512,
          22.841455,
          15.5,
          8.352367,
          19.5,
          34.005126,
          4.76376,
          29.793104,
          6.696429,
          13.986432,
          6.05952,
          4.908373,
          9.24996,
          42.846615,
          22.255493,
          15.873016,
          12.578286,
          25.365854,
          18.144,
          20,
          14,
          5.631296,
          8.571429,
          17,
          23,
          11.24568,
          11,
          22.5,
          10.25916,
          19,
          12.56904,
          3.960531,
          2.560975,
          8.80956,
          0.780932,
          18,
          6.94524,
          7,
          13.39416,
          23.017242,
          9.77088,
          0.113055,
          3.69516,
          43.827586,
          11,
          10.514017,
          4.53684,
          11.445,
          3.51996,
          5.705887,
          5.57004,
          1.891857,
          30,
          8.780488,
          30,
          2.96592,
          2.087519,
          2.087519,
          16.193183,
          19.406,
          2.087519,
          2.57148,
          4.52568,
          0.596581,
          15.625,
          2.162606,
          24.924126,
          12.975,
          4.31028,
          1.157153,
          13.02525,
          1.988598,
          27.556817,
          12.976362,
          12.822,
          12.99165,
          2.087519,
          2.726603,
          16.5,
          0.425619,
          9.52381,
          8.376,
          10.81,
          2.019699,
          6.133005,
          3,
          2.087519,
          2.5872,
          4.45488,
          5.803269,
          3.938271,
          3,
          4.710144,
          1.891857,
          4.3125,
          12.9,
          7.60776,
          15.212068,
          3.37908,
          4.2318,
          5.75688,
          11.95,
          3.24408,
          3.81912,
          0.1,
          9.3,
          3.1932,
          9.375,
          24.107143,
          0.119972,
          9.5,
          2.55252,
          18,
          22.26528,
          3.087519,
          9.25,
          1.8,
          3.5,
          10.46,
          0.119972,
          22.757,
          2.51268,
          3.15,
          2.82552,
          2.019699,
          5.01456,
          0.635853,
          5.19552,
          3.6858,
          3.465,
          2.092344,
          11.205,
          0.446743,
          5.55588,
          2.19697,
          12.5,
          2.120693,
          0.047989,
          9.975962,
          2.087519,
          8.571429,
          0.43892,
          2.41356,
          3.989122,
          1.407153,
          21.395348,
          2.230253,
          11.025,
          2.120693,
          12.654321,
          12.648321,
          2.087519,
          1.891857,
          5,
          9.057971,
          3.62844,
          1.891857,
          2.162606,
          2.164993,
          0.066503,
          1,
          9.89,
          1.862265,
          0.107027,
          4.435381,
          0.073153,
          2.5308,
          2.088033,
          2.087519,
          1.157153,
          2.087519,
          3.303771,
          2.463946,
          0.126356,
          2.425404,
          6,
          1.891857,
          2.75508,
          2.120693,
          6.8364,
          2.087519,
          5.2,
          2.087519,
          8,
          3,
          9.13,
          5.168,
          8.24532,
          11,
          2.087519,
          2.19697,
          6.669,
          1.862265,
          1.091887,
          10.185186,
          6.36252,
          1.891857,
          2.087519,
          0.011997,
          15,
          2.237691,
          7.692308,
          2.019699,
          1.157153,
          12.428571,
          0.957763,
          3.11424,
          1.34369,
          0.223718,
          4.668,
          8,
          25,
          6.166667,
          4.299,
          9.423869,
          3.85,
          2.66388,
          2.087519,
          2.019699,
          0.647851,
          14.318182,
          3.21792,
          2.162606,
          8,
          5.84868,
          1.157153,
          1.891857,
          5.46912,
          6.26292,
          5.27832,
          8,
          2.087519,
          3.51048,
          2.087519,
          0.600545,
          4.033748,
          10.09896,
          0.623856,
          6.5,
          2.54664,
          2.087519,
          0.491887,
          1.157153,
          2.99004,
          2.04878,
          0.492323,
          2.019699,
          1.05,
          1.891857,
          3.913234,
          1.891857,
          10.714286,
          4.668,
          0.119972,
          3.051153,
          12.6,
          2.087519,
          2.8704,
          0.496519,
          4.689,
          5.02704,
          2.087519,
          1.891857,
          2.62428,
          2.49432,
          7.565217,
          3.32616,
          2.162606,
          3.303771,
          2.087519,
          5.168,
          1.115128,
          1.891857,
          0.152957,
          0.503883,
          2.087519,
          0.515881,
          8.888889,
          2.463946,
          7.5,
          11,
          1.891857,
          12.025777,
          0.731831,
          2.087519,
          1.157153,
          0.724883,
          1.655619,
          2.019699,
          1.891857,
          2.237691,
          2.62236,
          0.43881,
          5.29116,
          6.165,
          1.157153,
          0.011997,
          5.893768,
          1.850842,
          4,
          2.087519,
          2.53392,
          1.064049,
          1.257153,
          2.087519,
          2.087519,
          0.706898,
          1.80808,
          2.087519,
          1.891857,
          0.066503,
          1.891857,
          0.621439,
          1.157153,
          1.891857,
          0.119972,
          0.066503,
          0.011997,
          2.237691,
          1.051255,
          2.087519,
          2.087519,
          0.126356,
          0.119972,
          0.064301,
          4.861772,
          0.119972,
          0.119972,
          43.03194,
          43.21944,
          34.84834,
          44.53194,
          26.276786,
          48.798677,
          21.696429,
          24.456061,
          4.296682,
          13.02525,
          18.692307,
          16.615384,
          31,
          17.26,
          9.9,
          3.366937,
          16.830357,
          8.5,
          7.142857,
          5,
          0.745726,
          20.210284,
          18.125,
          12.804878,
          14.924167,
          0.119972,
          23,
          6.451077,
          9.186594,
          11.423077,
          2.795294,
          9.104167,
          8.25,
          3.87984,
          1.69161,
          3.35268,
          8.12,
          7.723,
          2.087519,
          16.7412,
          7.975,
          4.158439,
          0.227947,
          0.355687,
          8.780488,
          0.426632,
          2.875,
          2.32835,
          40.011909,
          2.19697,
          0.421081,
          2.967212,
          5,
          12.5,
          2.207491,
          3.625162,
          2.53704,
          1.891857,
          2.120693,
          2.087519,
          2.087519,
          0.789048,
          2.087519,
          0.073153,
          4.772772,
          2.73372,
          2.44884,
          2.087519,
          2.092344,
          2.831348,
          1.891857
         ],
         "xaxis": "x",
         "y": [
          26,
          30,
          29,
          23,
          26,
          36,
          24,
          23,
          28,
          22,
          28,
          23,
          34,
          32,
          24,
          36,
          40,
          29,
          21,
          23,
          26,
          28,
          23,
          25,
          30,
          25,
          35,
          28,
          35,
          27,
          25,
          31,
          23,
          33,
          27,
          24,
          24,
          33,
          22,
          22,
          25,
          25,
          24,
          26,
          26,
          30,
          29,
          23,
          25,
          26,
          28,
          22,
          27,
          27,
          23,
          28,
          30,
          24,
          23,
          21,
          34,
          26,
          26,
          27,
          27,
          28,
          22,
          28,
          26,
          25,
          31,
          24,
          21,
          27,
          30,
          28,
          24,
          32,
          34,
          23,
          22,
          28,
          23,
          22,
          20,
          23,
          29,
          22,
          20,
          29,
          26,
          22,
          29,
          26,
          21,
          30,
          27,
          25,
          21,
          23,
          22,
          30,
          29,
          34,
          29,
          32,
          29,
          26,
          24,
          36,
          27,
          26,
          36,
          19,
          27,
          32,
          20,
          25,
          19,
          24,
          27,
          24,
          26,
          32,
          20,
          25,
          26,
          24,
          21,
          24,
          23,
          32,
          25,
          26,
          21,
          28,
          21,
          25,
          21,
          24,
          26,
          32,
          34,
          23,
          26,
          31,
          32,
          30,
          29,
          21,
          22,
          23,
          29,
          22,
          30,
          26,
          24,
          21,
          26,
          26,
          25,
          26,
          26,
          25,
          28,
          24,
          25,
          21,
          27,
          22,
          32,
          25,
          23,
          23,
          24,
          20,
          19,
          22,
          27,
          21,
          24,
          24,
          26,
          24,
          21,
          28,
          20,
          20,
          22,
          25,
          20,
          23,
          24,
          32,
          20,
          31,
          34,
          23,
          38,
          22,
          23,
          30,
          23,
          28,
          23,
          27,
          39,
          26,
          31,
          20,
          29,
          21,
          22,
          20,
          25,
          20,
          23,
          20,
          27,
          32,
          25,
          21,
          25,
          28,
          25,
          25,
          37,
          30,
          24,
          24,
          22,
          23,
          23,
          27,
          28,
          27,
          25,
          24,
          31,
          33,
          23,
          31,
          25,
          23,
          20,
          24,
          28,
          24,
          23,
          30,
          22,
          26,
          23,
          26,
          22,
          26,
          30,
          24,
          25,
          36,
          24,
          23,
          27,
          25,
          24,
          24,
          24,
          20,
          34,
          28,
          24,
          29,
          22,
          32,
          30,
          19,
          28,
          25,
          24,
          30,
          23,
          22,
          24,
          21,
          22,
          29,
          25,
          23,
          23,
          29,
          22,
          21,
          27,
          23,
          20,
          27,
          26,
          28,
          38,
          27,
          28,
          21,
          32,
          36,
          23,
          29,
          22,
          32,
          26,
          21,
          25,
          29,
          21,
          23,
          21,
          20,
          20,
          21,
          28,
          34,
          22,
          24,
          27,
          34,
          20,
          27,
          29,
          24,
          32,
          21,
          22,
          24,
          28,
          23,
          22,
          25,
          25,
          25,
          22,
          25,
          36,
          26,
          31,
          31,
          38,
          22,
          25,
          22,
          21,
          36,
          24,
          21,
          24,
          29,
          22,
          26,
          33,
          33,
          30,
          26,
          23,
          24,
          25,
          32,
          25,
          24,
          25,
          30,
          33,
          20,
          39,
          26,
          39,
          20,
          23,
          34,
          22,
          24,
          32,
          23,
          28,
          22,
          28,
          20,
          22,
          27,
          20,
          33,
          23,
          25,
          22,
          21,
          38,
          27,
          24,
          19,
          33,
          20,
          22,
          21,
          27,
          19,
          21,
          28,
          23,
          27,
          26,
          28,
          37,
          37,
          25,
          22,
          27,
          27,
          29,
          25,
          25,
          31,
          27,
          29,
          29,
          35,
          27,
          29,
          24,
          31,
          28,
          30,
          33,
          32,
          32,
          24,
          26,
          31,
          21,
          27,
          24,
          30,
          30,
          33,
          31,
          25,
          28,
          26,
          29,
          28,
          20,
          25,
          26,
          21,
          24,
          23,
          29,
          31,
          27,
          27,
          24,
          24,
          25,
          26,
          31,
          25,
          28,
          31,
          28,
          27,
          24,
          23,
          27,
          25,
          26,
          34,
          23,
          22,
          22,
          36,
          35,
          30,
          32,
          27,
          22,
          24,
          22,
          28,
          26,
          31,
          20
         ],
         "yaxis": "y"
        },
        {
         "hovertemplate": "<b>OLS trendline</b><br>Age = 0.114555 * Salary_M + 24.9599<br>R<sup>2</sup>=0.107251<br><br>Salary ($M)=%{x:.2f}<br>Age=%{y} <b>(trend)</b><extra></extra>",
         "legendgroup": "",
         "line": {
          "color": "black"
         },
         "marker": {
          "color": "skyblue",
          "symbol": "circle"
         },
         "mode": "lines",
         "name": "",
         "showlegend": false,
         "type": "scatter",
         "x": [
          0.011997,
          0.011997,
          0.011997,
          0.047989,
          0.064301,
          0.066503,
          0.066503,
          0.066503,
          0.073153,
          0.073153,
          0.1,
          0.107027,
          0.113055,
          0.119972,
          0.119972,
          0.119972,
          0.119972,
          0.119972,
          0.119972,
          0.119972,
          0.119972,
          0.126356,
          0.126356,
          0.152957,
          0.223718,
          0.227947,
          0.355687,
          0.421081,
          0.425619,
          0.426632,
          0.43881,
          0.43892,
          0.446743,
          0.491887,
          0.492323,
          0.496519,
          0.503883,
          0.515881,
          0.596581,
          0.600545,
          0.621439,
          0.623856,
          0.635853,
          0.647851,
          0.706898,
          0.724883,
          0.731831,
          0.745726,
          0.780932,
          0.789048,
          0.957763,
          1,
          1.05,
          1.051255,
          1.064049,
          1.091887,
          1.115128,
          1.157153,
          1.157153,
          1.157153,
          1.157153,
          1.157153,
          1.157153,
          1.157153,
          1.157153,
          1.257153,
          1.34369,
          1.407153,
          1.655619,
          1.69161,
          1.8,
          1.80808,
          1.850842,
          1.862265,
          1.862265,
          1.891857,
          1.891857,
          1.891857,
          1.891857,
          1.891857,
          1.891857,
          1.891857,
          1.891857,
          1.891857,
          1.891857,
          1.891857,
          1.891857,
          1.891857,
          1.891857,
          1.891857,
          1.891857,
          1.891857,
          1.891857,
          1.988598,
          2.019699,
          2.019699,
          2.019699,
          2.019699,
          2.019699,
          2.019699,
          2.04878,
          2.087519,
          2.087519,
          2.087519,
          2.087519,
          2.087519,
          2.087519,
          2.087519,
          2.087519,
          2.087519,
          2.087519,
          2.087519,
          2.087519,
          2.087519,
          2.087519,
          2.087519,
          2.087519,
          2.087519,
          2.087519,
          2.087519,
          2.087519,
          2.087519,
          2.087519,
          2.087519,
          2.087519,
          2.087519,
          2.087519,
          2.087519,
          2.087519,
          2.087519,
          2.087519,
          2.087519,
          2.087519,
          2.087519,
          2.088033,
          2.092344,
          2.092344,
          2.120693,
          2.120693,
          2.120693,
          2.120693,
          2.162606,
          2.162606,
          2.162606,
          2.162606,
          2.164993,
          2.19697,
          2.19697,
          2.19697,
          2.207491,
          2.230253,
          2.237691,
          2.237691,
          2.237691,
          2.32835,
          2.41356,
          2.425404,
          2.44884,
          2.463946,
          2.463946,
          2.49432,
          2.51268,
          2.5308,
          2.53392,
          2.53704,
          2.54664,
          2.55252,
          2.560975,
          2.57148,
          2.5872,
          2.62236,
          2.62428,
          2.66388,
          2.726603,
          2.73372,
          2.75508,
          2.795294,
          2.82552,
          2.831348,
          2.8704,
          2.875,
          2.96592,
          2.967212,
          2.99004,
          3,
          3,
          3,
          3.051153,
          3.087519,
          3.08964,
          3.11424,
          3.15,
          3.1932,
          3.21792,
          3.24408,
          3.303771,
          3.303771,
          3.32616,
          3.35268,
          3.366937,
          3.37908,
          3.465,
          3.5,
          3.51048,
          3.51996,
          3.625162,
          3.62844,
          3.6858,
          3.69516,
          3.81912,
          3.85,
          3.87984,
          3.913234,
          3.938271,
          3.960531,
          3.989122,
          4,
          4.02036,
          4.033748,
          4.041249,
          4.0842,
          4.09428,
          4.158439,
          4.2318,
          4.296682,
          4.299,
          4.31028,
          4.3125,
          4.435381,
          4.45488,
          4.510905,
          4.52568,
          4.53684,
          4.668,
          4.668,
          4.689,
          4.710144,
          4.76376,
          4.772772,
          4.77576,
          4.861772,
          4.908373,
          5,
          5,
          5,
          5.01456,
          5.02704,
          5.159854,
          5.168,
          5.168,
          5.19552,
          5.2,
          5.27832,
          5.29116,
          5.424654,
          5.46912,
          5.55588,
          5.57004,
          5.631296,
          5.705887,
          5.75688,
          5.803269,
          5.84868,
          5.893768,
          6,
          6,
          6.05952,
          6.133005,
          6.165,
          6.166667,
          6.26292,
          6.36252,
          6.451077,
          6.5,
          6.61416,
          6.669,
          6.696429,
          6.8364,
          6.94524,
          7,
          7.007092,
          7.142857,
          7.24572,
          7.5,
          7.565217,
          7.60776,
          7.636307,
          7.692308,
          7.723,
          7.975,
          7.97724,
          7.983,
          8,
          8,
          8,
          8,
          8.12,
          8.24532,
          8.25,
          8.352367,
          8.376,
          8.5,
          8.571429,
          8.571429,
          8.780488,
          8.780488,
          8.80956,
          8.888889,
          9.057971,
          9.104167,
          9.10512,
          9.13,
          9.186594,
          9.188385,
          9.24996,
          9.25,
          9.3,
          9.375,
          9.423869,
          9.5,
          9.52381,
          9.77088,
          9.89,
          9.9,
          9.975962,
          10.09896,
          10.13098,
          10.185186,
          10.25916,
          10.46,
          10.514017,
          10.714286,
          10.81,
          10.88064,
          11,
          11,
          11,
          11,
          11.025,
          11.205,
          11.227657,
          11.24568,
          11.423077,
          11.4246,
          11.445,
          11.74321,
          11.95,
          12,
          12.025777,
          12.1608,
          12.428571,
          12.483048,
          12.5,
          12.5,
          12.56904,
          12.578286,
          12.6,
          12.648321,
          12.654321,
          12.76896,
          12.804878,
          12.822,
          12.9,
          12.975,
          12.976362,
          12.976362,
          12.99165,
          13.02525,
          13.02525,
          13.39416,
          13.940809,
          13.986432,
          14,
          14.092577,
          14.318182,
          14.924167,
          15,
          15.212068,
          15.5,
          15.625,
          15.625,
          15.873016,
          16.193183,
          16.5,
          16.615384,
          16.7412,
          16.830357,
          17,
          17.26,
          17.405203,
          18,
          18,
          18.125,
          18.144,
          18.35,
          18.692307,
          19,
          19.241379,
          19.406,
          19.5,
          19.9285,
          20,
          20,
          20.071429,
          20.210284,
          21.395348,
          21.696429,
          22.255493,
          22.26528,
          22.5,
          22.5,
          22.757,
          22.841455,
          23,
          23,
          23.017242,
          23.3,
          23.4,
          24.107143,
          24.456061,
          24.924126,
          24.960001,
          25,
          25.257798,
          25.365854,
          25.794643,
          25.892857,
          26.276786,
          26.58,
          27.173913,
          27.556817,
          29,
          29.268293,
          29.347826,
          29.517135,
          29.651786,
          29.793104,
          30,
          30,
          31,
          32.5,
          33.07392,
          33.333333,
          33.653846,
          34.005126,
          34.00525,
          34.84834,
          34.84834,
          34.84834,
          35.147,
          35.147,
          35.41031,
          35.85995,
          35.85995,
          36.0162,
          36.0162,
          36.637932,
          36.72567,
          36.72567,
          36.72567,
          40.011909,
          40.5,
          41,
          42.1764,
          42.1764,
          42.1764,
          42.1764,
          42.846615,
          43.03194,
          43.03194,
          43.21944,
          43.827586,
          44.53194,
          48.728845,
          48.787676,
          48.787676,
          48.798677,
          49.2058,
          49.2058,
          49.2058,
          49.2058,
          49.2058,
          50.20393,
          51.179021,
          51.415938,
          51.415938,
          55.761216
         ],
         "xaxis": "x",
         "y": [
          24.961288755998815,
          24.961288755998815,
          24.961288755998815,
          24.965411818402018,
          24.96728043903774,
          24.967532689076968,
          24.967532689076968,
          24.967532689076968,
          24.968294479613235,
          24.968294479613235,
          24.971369936835362,
          24.97217491459451,
          24.972865451940766,
          24.97365782865345,
          24.97365782865345,
          24.97365782865345,
          24.97365782865345,
          24.97365782865345,
          24.97365782865345,
          24.97365782865345,
          24.97365782865345,
          24.974389147568267,
          24.974389147568267,
          24.9774364242683,
          24.985542448349012,
          24.98602690130809,
          25.000660152902473,
          25.008151360470684,
          25.00867121091483,
          25.00878725509727,
          25.010182305495867,
          25.01019490654233,
          25.011091070055897,
          25.01626253952495,
          25.016312485490936,
          25.016793158136075,
          25.017636740919393,
          25.019011171423774,
          25.02825575733004,
          25.028709853222637,
          25.031103364721094,
          25.031380244078413,
          25.032754560027822,
          25.034128990532203,
          25.040893117719406,
          25.04295338881636,
          25.04374931673305,
          25.04534105801146,
          25.049374080209923,
          25.050303808329073,
          25.0696309497315,
          25.074469407908985,
          25.080197156301967,
          25.08034092278663,
          25.081806539045424,
          25.0849955202407,
          25.087657892248725,
          25.092472064773023,
          25.092472064773023,
          25.092472064773023,
          25.092472064773023,
          25.092472064773023,
          25.092472064773023,
          25.092472064773023,
          25.092472064773023,
          25.103927561558983,
          25.113840804812646,
          25.12111080673792,
          25.14957382138212,
          25.153696769230354,
          25.166113382196652,
          25.16703898633696,
          25.17193758587257,
          25.17324614727043,
          25.17324614727043,
          25.176636057879332,
          25.176636057879332,
          25.176636057879332,
          25.176636057879332,
          25.176636057879332,
          25.176636057879332,
          25.176636057879332,
          25.176636057879332,
          25.176636057879332,
          25.176636057879332,
          25.176636057879332,
          25.176636057879332,
          25.176636057879332,
          25.176636057879332,
          25.176636057879332,
          25.176636057879332,
          25.176636057879332,
          25.176636057879332,
          25.187718220025037,
          25.191280994080437,
          25.191280994080437,
          25.191280994080437,
          25.191280994080437,
          25.191280994080437,
          25.191280994080437,
          25.19461236710076,
          25.199050112000673,
          25.199050112000673,
          25.199050112000673,
          25.199050112000673,
          25.199050112000673,
          25.199050112000673,
          25.199050112000673,
          25.199050112000673,
          25.199050112000673,
          25.199050112000673,
          25.199050112000673,
          25.199050112000673,
          25.199050112000673,
          25.199050112000673,
          25.199050112000673,
          25.199050112000673,
          25.199050112000673,
          25.199050112000673,
          25.199050112000673,
          25.199050112000673,
          25.199050112000673,
          25.199050112000673,
          25.199050112000673,
          25.199050112000673,
          25.199050112000673,
          25.199050112000673,
          25.199050112000673,
          25.199050112000673,
          25.199050112000673,
          25.199050112000673,
          25.199050112000673,
          25.199050112000673,
          25.199050112000673,
          25.199108993254153,
          25.199602839720598,
          25.199602839720598,
          25.20285035850445,
          25.20285035850445,
          25.20285035850445,
          25.20285035850445,
          25.207651700872347,
          25.207651700872347,
          25.207651700872347,
          25.207651700872347,
          25.207925143580628,
          25.211588267787874,
          25.211588267787874,
          25.211588267787874,
          25.212793500604725,
          25.215401000783142,
          25.216253060634084,
          25.216253060634084,
          25.216253060634084,
          25.226638499465267,
          25.23639972827658,
          25.23775651731591,
          25.240441227542668,
          25.242171694887155,
          25.242171694887155,
          25.24565118748092,
          25.24775441669082,
          25.249830152708437,
          25.25018756420816,
          25.250544975707882,
          25.251644703399332,
          25.252318286610347,
          25.253286848863603,
          25.254490248800966,
          25.25629105289572,
          25.26031880556566,
          25.26053875110395,
          25.265075127831192,
          25.27226035908025,
          25.273075646786506,
          25.275522540899985,
          25.280129254377492,
          25.283591792836013,
          25.2842594191887,
          25.288733019793554,
          25.289259972645706,
          25.2996753103235,
          25.299823315341975,
          25.302438376148274,
          25.303579343628154,
          25.303579343628154,
          25.303579343628154,
          25.309439173899076,
          25.313605079860256,
          25.313848050947087,
          25.316666103156432,
          25.320762588807092,
          25.325711363418627,
          25.328543162224115,
          25.33153992018332,
          25.33837782076983,
          25.33837782076983,
          25.340942591945236,
          25.343980589692872,
          25.345613799869646,
          25.347004840844367,
          25.35684740368286,
          25.360856827557946,
          25.362057363621116,
          25.363143344716423,
          25.37519475644519,
          25.375570267629833,
          25.382141140586256,
          25.383213375085422,
          25.397413608901296,
          25.400951066308803,
          25.40436938654973,
          25.408194835146436,
          25.411062947876733,
          25.413612941461288,
          25.416888182547364,
          25.418134311487737,
          25.42046665063336,
          25.422000312543066,
          25.422859589356978,
          25.427779839781515,
          25.42893455385754,
          25.436284286040443,
          25.44468815303759,
          25.452120708462257,
          25.452386246877754,
          25.45367842691521,
          25.45393273894386,
          25.468009367949414,
          25.470243075267707,
          25.47666101734204,
          25.478353566992165,
          25.47963200043348,
          25.49465703001794,
          25.49465703001794,
          25.497062684342993,
          25.499484834583416,
          25.505626813740175,
          25.506659183110525,
          25.50700147335449,
          25.51685457525003,
          25.522192951307254,
          25.532689279347323,
          25.532689279347323,
          25.532689279347323,
          25.53435719967936,
          25.535786845678246,
          25.55100134917955,
          25.55193451394773,
          25.55193451394773,
          25.55508706666323,
          25.55560027291924,
          25.564572218002002,
          25.56604310378932,
          25.58133550466877,
          25.58642930586961,
          25.596368094881107,
          25.597990193226,
          25.605007372337205,
          25.613552141944822,
          25.619393643420885,
          25.624707733824923,
          25.629909789470396,
          25.635074843861247,
          25.647244247206906,
          25.647244247206906,
          25.65406255889391,
          25.662480630707073,
          25.66614581690374,
          25.66633678003516,
          25.67736303935655,
          25.688772714155363,
          25.698917358444106,
          25.704521731136698,
          25.71759932626755,
          25.723881520704968,
          25.72702364891839,
          25.743058022324664,
          25.7555261850265,
          25.761799215066493,
          25.76261163889855,
          25.77816419411001,
          25.78994766176895,
          25.819076698996284,
          25.82654763033518,
          25.831421142332832,
          25.83469134300032,
          25.841106535755422,
          25.84462245682897,
          25.873490308729586,
          25.87374691185759,
          25.874406748472463,
          25.876354182926075,
          25.876354182926075,
          25.876354182926075,
          25.876354182926075,
          25.890100779069225,
          25.904456807641388,
          25.904992924890973,
          25.916719573285853,
          25.91942685084128,
          25.933631666855867,
          25.94181421365511,
          25.94181421365511,
          25.965762960680866,
          25.965762960680866,
          25.96909330270648,
          25.978180833751814,
          25.997550016827446,
          26.00284199812269,
          26.00295116900706,
          26.005801296607405,
          26.01228442045845,
          26.012489588405888,
          26.01954331055184,
          26.019547892750555,
          26.025275641143534,
          26.033867263733004,
          26.03946545045733,
          26.04818663471545,
          26.050914188500187,
          26.079217284409257,
          26.092863072180688,
          26.094008621859285,
          26.102710446327833,
          26.11680047826463,
          26.120468528335493,
          26.12667809492329,
          26.135152184115732,
          26.15815940386065,
          26.164347319559525,
          26.187289128417795,
          26.198253642611505,
          26.20634580554111,
          26.220019086504827,
          26.220019086504827,
          26.220019086504827,
          26.220019086504827,
          26.222882960701316,
          26.24350285491604,
          26.246098326822835,
          26.24816295100857,
          26.268484658641956,
          26.268659125858008,
          26.270996047202342,
          26.305157484167747,
          26.32884630597143,
          26.33457405436441,
          26.337526937770928,
          26.35299449319623,
          26.38366899149496,
          26.389909602479047,
          26.391851538294205,
          26.391851538294205,
          26.399760413275228,
          26.40081958850806,
          26.40330703508016,
          26.408842445682104,
          26.40952977548926,
          26.422662242449718,
          26.426776827785297,
          26.42873823794499,
          26.437673525438036,
          26.446265148027507,
          26.446421171893732,
          26.446421171893732,
          26.448172488242367,
          26.45202153516245,
          26.45202153516245,
          26.49428200835553,
          26.556903366981004,
          26.56212970827966,
          26.56368399008358,
          26.574289145343116,
          26.600133318867076,
          26.66955191106547,
          26.678238957943165,
          26.70253240086721,
          26.735516441872957,
          26.749835812855405,
          26.749835812855405,
          26.778247277764066,
          26.814923998158765,
          26.85007140973254,
          26.86328922014405,
          26.87770206798027,
          26.887915445249728,
          26.90734889366233,
          26.937133185305825,
          26.95376691030394,
          27.021903861521917,
          27.021903861521917,
          27.036223232504362,
          27.038399776893694,
          27.06199810027277,
          27.101211067655882,
          27.1364588293815,
          27.164109992968477,
          27.18296814633249,
          27.19373631331129,
          27.242823117039123,
          27.251013797241082,
          27.251013797241082,
          27.259196344040326,
          27.27510287410247,
          27.410857842534018,
          27.44534816681215,
          27.5093917253636,
          27.510512874834042,
          27.537401216890043,
          27.537401216890043,
          27.56684184362996,
          27.576516583440537,
          27.594678700819834,
          27.594678700819834,
          27.59665385757567,
          27.62904519117771,
          27.64050068796367,
          27.7215074316008,
          27.76147772187643,
          27.815096892907626,
          27.81920655237959,
          27.823788636539003,
          27.85332067814327,
          27.865699029750303,
          27.91481893986385,
          27.926069841477208,
          27.97005081573257,
          28.004785485757147,
          28.072821170383534,
          28.116684725796844,
          28.28200850797734,
          28.312742803969293,
          28.32185370422807,
          28.341248891281406,
          28.356673832258668,
          28.372862511206648,
          28.396563475836924,
          28.396563475836924,
          28.51111844369651,
          28.682950895485885,
          28.74869628263986,
          28.778413330517218,
          28.815129686930796,
          28.85537055604051,
          28.855384760856523,
          28.95196490870926,
          28.95196490870926,
          28.95196490870926,
          28.986177895410204,
          28.986177895410204,
          29.016341363997313,
          29.067849859745692,
          29.067849859745692,
          29.085749073473753,
          29.085749073473753,
          29.15697156275103,
          29.167022386521094,
          29.167022386521094,
          29.167022386521094,
          29.543477389545004,
          29.599390638362557,
          29.65666812229235,
          29.791430586482363,
          29.791430586482363,
          29.791430586482363,
          29.791430586482363,
          29.868207044266377,
          29.889436943684952,
          29.889436943684952,
          29.910916000158625,
          29.980582145642558,
          30.061269395474326,
          30.542045712859057,
          30.548785096173205,
          30.548785096173205,
          30.550045315374625,
          30.596683277554526,
          30.596683277554526,
          30.596683277554526,
          30.596683277554526,
          30.596683277554526,
          30.711024027624212,
          30.822725545789382,
          30.84986556510977,
          30.84986556510977,
          31.347638746740728
         ],
         "yaxis": "y"
        }
       ],
       "layout": {
        "autosize": true,
        "legend": {
         "tracegroupgap": 0
        },
        "template": {
         "data": {
          "bar": [
           {
            "error_x": {
             "color": "#2a3f5f"
            },
            "error_y": {
             "color": "#2a3f5f"
            },
            "marker": {
             "line": {
              "color": "white",
              "width": 0.5
             },
             "pattern": {
              "fillmode": "overlay",
              "size": 10,
              "solidity": 0.2
             }
            },
            "type": "bar"
           }
          ],
          "barpolar": [
           {
            "marker": {
             "line": {
              "color": "white",
              "width": 0.5
             },
             "pattern": {
              "fillmode": "overlay",
              "size": 10,
              "solidity": 0.2
             }
            },
            "type": "barpolar"
           }
          ],
          "carpet": [
           {
            "aaxis": {
             "endlinecolor": "#2a3f5f",
             "gridcolor": "#C8D4E3",
             "linecolor": "#C8D4E3",
             "minorgridcolor": "#C8D4E3",
             "startlinecolor": "#2a3f5f"
            },
            "baxis": {
             "endlinecolor": "#2a3f5f",
             "gridcolor": "#C8D4E3",
             "linecolor": "#C8D4E3",
             "minorgridcolor": "#C8D4E3",
             "startlinecolor": "#2a3f5f"
            },
            "type": "carpet"
           }
          ],
          "choropleth": [
           {
            "colorbar": {
             "outlinewidth": 0,
             "ticks": ""
            },
            "type": "choropleth"
           }
          ],
          "contour": [
           {
            "colorbar": {
             "outlinewidth": 0,
             "ticks": ""
            },
            "colorscale": [
             [
              0,
              "#0d0887"
             ],
             [
              0.1111111111111111,
              "#46039f"
             ],
             [
              0.2222222222222222,
              "#7201a8"
             ],
             [
              0.3333333333333333,
              "#9c179e"
             ],
             [
              0.4444444444444444,
              "#bd3786"
             ],
             [
              0.5555555555555556,
              "#d8576b"
             ],
             [
              0.6666666666666666,
              "#ed7953"
             ],
             [
              0.7777777777777778,
              "#fb9f3a"
             ],
             [
              0.8888888888888888,
              "#fdca26"
             ],
             [
              1,
              "#f0f921"
             ]
            ],
            "type": "contour"
           }
          ],
          "contourcarpet": [
           {
            "colorbar": {
             "outlinewidth": 0,
             "ticks": ""
            },
            "type": "contourcarpet"
           }
          ],
          "heatmap": [
           {
            "colorbar": {
             "outlinewidth": 0,
             "ticks": ""
            },
            "colorscale": [
             [
              0,
              "#0d0887"
             ],
             [
              0.1111111111111111,
              "#46039f"
             ],
             [
              0.2222222222222222,
              "#7201a8"
             ],
             [
              0.3333333333333333,
              "#9c179e"
             ],
             [
              0.4444444444444444,
              "#bd3786"
             ],
             [
              0.5555555555555556,
              "#d8576b"
             ],
             [
              0.6666666666666666,
              "#ed7953"
             ],
             [
              0.7777777777777778,
              "#fb9f3a"
             ],
             [
              0.8888888888888888,
              "#fdca26"
             ],
             [
              1,
              "#f0f921"
             ]
            ],
            "type": "heatmap"
           }
          ],
          "heatmapgl": [
           {
            "colorbar": {
             "outlinewidth": 0,
             "ticks": ""
            },
            "colorscale": [
             [
              0,
              "#0d0887"
             ],
             [
              0.1111111111111111,
              "#46039f"
             ],
             [
              0.2222222222222222,
              "#7201a8"
             ],
             [
              0.3333333333333333,
              "#9c179e"
             ],
             [
              0.4444444444444444,
              "#bd3786"
             ],
             [
              0.5555555555555556,
              "#d8576b"
             ],
             [
              0.6666666666666666,
              "#ed7953"
             ],
             [
              0.7777777777777778,
              "#fb9f3a"
             ],
             [
              0.8888888888888888,
              "#fdca26"
             ],
             [
              1,
              "#f0f921"
             ]
            ],
            "type": "heatmapgl"
           }
          ],
          "histogram": [
           {
            "marker": {
             "pattern": {
              "fillmode": "overlay",
              "size": 10,
              "solidity": 0.2
             }
            },
            "type": "histogram"
           }
          ],
          "histogram2d": [
           {
            "colorbar": {
             "outlinewidth": 0,
             "ticks": ""
            },
            "colorscale": [
             [
              0,
              "#0d0887"
             ],
             [
              0.1111111111111111,
              "#46039f"
             ],
             [
              0.2222222222222222,
              "#7201a8"
             ],
             [
              0.3333333333333333,
              "#9c179e"
             ],
             [
              0.4444444444444444,
              "#bd3786"
             ],
             [
              0.5555555555555556,
              "#d8576b"
             ],
             [
              0.6666666666666666,
              "#ed7953"
             ],
             [
              0.7777777777777778,
              "#fb9f3a"
             ],
             [
              0.8888888888888888,
              "#fdca26"
             ],
             [
              1,
              "#f0f921"
             ]
            ],
            "type": "histogram2d"
           }
          ],
          "histogram2dcontour": [
           {
            "colorbar": {
             "outlinewidth": 0,
             "ticks": ""
            },
            "colorscale": [
             [
              0,
              "#0d0887"
             ],
             [
              0.1111111111111111,
              "#46039f"
             ],
             [
              0.2222222222222222,
              "#7201a8"
             ],
             [
              0.3333333333333333,
              "#9c179e"
             ],
             [
              0.4444444444444444,
              "#bd3786"
             ],
             [
              0.5555555555555556,
              "#d8576b"
             ],
             [
              0.6666666666666666,
              "#ed7953"
             ],
             [
              0.7777777777777778,
              "#fb9f3a"
             ],
             [
              0.8888888888888888,
              "#fdca26"
             ],
             [
              1,
              "#f0f921"
             ]
            ],
            "type": "histogram2dcontour"
           }
          ],
          "mesh3d": [
           {
            "colorbar": {
             "outlinewidth": 0,
             "ticks": ""
            },
            "type": "mesh3d"
           }
          ],
          "parcoords": [
           {
            "line": {
             "colorbar": {
              "outlinewidth": 0,
              "ticks": ""
             }
            },
            "type": "parcoords"
           }
          ],
          "pie": [
           {
            "automargin": true,
            "type": "pie"
           }
          ],
          "scatter": [
           {
            "fillpattern": {
             "fillmode": "overlay",
             "size": 10,
             "solidity": 0.2
            },
            "type": "scatter"
           }
          ],
          "scatter3d": [
           {
            "line": {
             "colorbar": {
              "outlinewidth": 0,
              "ticks": ""
             }
            },
            "marker": {
             "colorbar": {
              "outlinewidth": 0,
              "ticks": ""
             }
            },
            "type": "scatter3d"
           }
          ],
          "scattercarpet": [
           {
            "marker": {
             "colorbar": {
              "outlinewidth": 0,
              "ticks": ""
             }
            },
            "type": "scattercarpet"
           }
          ],
          "scattergeo": [
           {
            "marker": {
             "colorbar": {
              "outlinewidth": 0,
              "ticks": ""
             }
            },
            "type": "scattergeo"
           }
          ],
          "scattergl": [
           {
            "marker": {
             "colorbar": {
              "outlinewidth": 0,
              "ticks": ""
             }
            },
            "type": "scattergl"
           }
          ],
          "scattermapbox": [
           {
            "marker": {
             "colorbar": {
              "outlinewidth": 0,
              "ticks": ""
             }
            },
            "type": "scattermapbox"
           }
          ],
          "scatterpolar": [
           {
            "marker": {
             "colorbar": {
              "outlinewidth": 0,
              "ticks": ""
             }
            },
            "type": "scatterpolar"
           }
          ],
          "scatterpolargl": [
           {
            "marker": {
             "colorbar": {
              "outlinewidth": 0,
              "ticks": ""
             }
            },
            "type": "scatterpolargl"
           }
          ],
          "scatterternary": [
           {
            "marker": {
             "colorbar": {
              "outlinewidth": 0,
              "ticks": ""
             }
            },
            "type": "scatterternary"
           }
          ],
          "surface": [
           {
            "colorbar": {
             "outlinewidth": 0,
             "ticks": ""
            },
            "colorscale": [
             [
              0,
              "#0d0887"
             ],
             [
              0.1111111111111111,
              "#46039f"
             ],
             [
              0.2222222222222222,
              "#7201a8"
             ],
             [
              0.3333333333333333,
              "#9c179e"
             ],
             [
              0.4444444444444444,
              "#bd3786"
             ],
             [
              0.5555555555555556,
              "#d8576b"
             ],
             [
              0.6666666666666666,
              "#ed7953"
             ],
             [
              0.7777777777777778,
              "#fb9f3a"
             ],
             [
              0.8888888888888888,
              "#fdca26"
             ],
             [
              1,
              "#f0f921"
             ]
            ],
            "type": "surface"
           }
          ],
          "table": [
           {
            "cells": {
             "fill": {
              "color": "#EBF0F8"
             },
             "line": {
              "color": "white"
             }
            },
            "header": {
             "fill": {
              "color": "#C8D4E3"
             },
             "line": {
              "color": "white"
             }
            },
            "type": "table"
           }
          ]
         },
         "layout": {
          "annotationdefaults": {
           "arrowcolor": "#2a3f5f",
           "arrowhead": 0,
           "arrowwidth": 1
          },
          "autotypenumbers": "strict",
          "coloraxis": {
           "colorbar": {
            "outlinewidth": 0,
            "ticks": ""
           }
          },
          "colorscale": {
           "diverging": [
            [
             0,
             "#8e0152"
            ],
            [
             0.1,
             "#c51b7d"
            ],
            [
             0.2,
             "#de77ae"
            ],
            [
             0.3,
             "#f1b6da"
            ],
            [
             0.4,
             "#fde0ef"
            ],
            [
             0.5,
             "#f7f7f7"
            ],
            [
             0.6,
             "#e6f5d0"
            ],
            [
             0.7,
             "#b8e186"
            ],
            [
             0.8,
             "#7fbc41"
            ],
            [
             0.9,
             "#4d9221"
            ],
            [
             1,
             "#276419"
            ]
           ],
           "sequential": [
            [
             0,
             "#0d0887"
            ],
            [
             0.1111111111111111,
             "#46039f"
            ],
            [
             0.2222222222222222,
             "#7201a8"
            ],
            [
             0.3333333333333333,
             "#9c179e"
            ],
            [
             0.4444444444444444,
             "#bd3786"
            ],
            [
             0.5555555555555556,
             "#d8576b"
            ],
            [
             0.6666666666666666,
             "#ed7953"
            ],
            [
             0.7777777777777778,
             "#fb9f3a"
            ],
            [
             0.8888888888888888,
             "#fdca26"
            ],
            [
             1,
             "#f0f921"
            ]
           ],
           "sequentialminus": [
            [
             0,
             "#0d0887"
            ],
            [
             0.1111111111111111,
             "#46039f"
            ],
            [
             0.2222222222222222,
             "#7201a8"
            ],
            [
             0.3333333333333333,
             "#9c179e"
            ],
            [
             0.4444444444444444,
             "#bd3786"
            ],
            [
             0.5555555555555556,
             "#d8576b"
            ],
            [
             0.6666666666666666,
             "#ed7953"
            ],
            [
             0.7777777777777778,
             "#fb9f3a"
            ],
            [
             0.8888888888888888,
             "#fdca26"
            ],
            [
             1,
             "#f0f921"
            ]
           ]
          },
          "colorway": [
           "#636efa",
           "#EF553B",
           "#00cc96",
           "#ab63fa",
           "#FFA15A",
           "#19d3f3",
           "#FF6692",
           "#B6E880",
           "#FF97FF",
           "#FECB52"
          ],
          "font": {
           "color": "#2a3f5f"
          },
          "geo": {
           "bgcolor": "white",
           "lakecolor": "white",
           "landcolor": "white",
           "showlakes": true,
           "showland": true,
           "subunitcolor": "#C8D4E3"
          },
          "hoverlabel": {
           "align": "left"
          },
          "hovermode": "closest",
          "mapbox": {
           "style": "light"
          },
          "paper_bgcolor": "white",
          "plot_bgcolor": "white",
          "polar": {
           "angularaxis": {
            "gridcolor": "#EBF0F8",
            "linecolor": "#EBF0F8",
            "ticks": ""
           },
           "bgcolor": "white",
           "radialaxis": {
            "gridcolor": "#EBF0F8",
            "linecolor": "#EBF0F8",
            "ticks": ""
           }
          },
          "scene": {
           "xaxis": {
            "backgroundcolor": "white",
            "gridcolor": "#DFE8F3",
            "gridwidth": 2,
            "linecolor": "#EBF0F8",
            "showbackground": true,
            "ticks": "",
            "zerolinecolor": "#EBF0F8"
           },
           "yaxis": {
            "backgroundcolor": "white",
            "gridcolor": "#DFE8F3",
            "gridwidth": 2,
            "linecolor": "#EBF0F8",
            "showbackground": true,
            "ticks": "",
            "zerolinecolor": "#EBF0F8"
           },
           "zaxis": {
            "backgroundcolor": "white",
            "gridcolor": "#DFE8F3",
            "gridwidth": 2,
            "linecolor": "#EBF0F8",
            "showbackground": true,
            "ticks": "",
            "zerolinecolor": "#EBF0F8"
           }
          },
          "shapedefaults": {
           "line": {
            "color": "#2a3f5f"
           }
          },
          "ternary": {
           "aaxis": {
            "gridcolor": "#DFE8F3",
            "linecolor": "#A2B1C6",
            "ticks": ""
           },
           "baxis": {
            "gridcolor": "#DFE8F3",
            "linecolor": "#A2B1C6",
            "ticks": ""
           },
           "bgcolor": "white",
           "caxis": {
            "gridcolor": "#DFE8F3",
            "linecolor": "#A2B1C6",
            "ticks": ""
           }
          },
          "title": {
           "x": 0.05
          },
          "xaxis": {
           "automargin": true,
           "gridcolor": "#EBF0F8",
           "linecolor": "#EBF0F8",
           "ticks": "",
           "title": {
            "standoff": 15
           },
           "zerolinecolor": "#EBF0F8",
           "zerolinewidth": 2
          },
          "yaxis": {
           "automargin": true,
           "gridcolor": "#EBF0F8",
           "linecolor": "#EBF0F8",
           "ticks": "",
           "title": {
            "standoff": 15
           },
           "zerolinecolor": "#EBF0F8",
           "zerolinewidth": 2
          }
         }
        },
        "title": {
         "text": "Salary vs Age"
        },
        "xaxis": {
         "anchor": "y",
         "autorange": true,
         "domain": [
          0,
          1
         ],
         "range": [
          -3.5706330611285266,
          59.343846061128524
         ],
         "tickprefix": "$",
         "ticksuffix": "M",
         "title": {
          "text": "Salary ($M)"
         },
         "type": "linear"
        },
        "yaxis": {
         "anchor": "x",
         "autorange": true,
         "domain": [
          0,
          1
         ],
         "range": [
          17.266990291262136,
          41.73300970873787
         ],
         "title": {
          "text": "Age"
         },
         "type": "linear"
        }
       }
      },
      "text/html": [
       "<div>                            <div id=\"00c5d879-71d7-4d64-b6fd-cff7136d73a7\" class=\"plotly-graph-div\" style=\"height:525px; width:100%;\"></div>            <script type=\"text/javascript\">                require([\"plotly\"], function(Plotly) {                    window.PLOTLYENV=window.PLOTLYENV || {};                                    if (document.getElementById(\"00c5d879-71d7-4d64-b6fd-cff7136d73a7\")) {                    Plotly.newPlot(                        \"00c5d879-71d7-4d64-b6fd-cff7136d73a7\",                        [{\"customdata\":[[\"Shai Gilgeous-Alexander\"],[\"Giannis Antetokounmpo\"],[\"Nikola Jokic\"],[\"Anthony Edwards\"],[\"Jayson Tatum\"],[\"Kevin Durant\"],[\"Tyrese Maxey\"],[\"Cade Cunningham\"],[\"Jalen Brunson\"],[\"Paolo Banchero\"],[\"Devin Booker\"],[\"LaMelo Ball\"],[\"Damian Lillard\"],[\"Kyrie Irving\"],[\"Zion Williamson\"],[\"Stephen Curry\"],[\"LeBron James\"],[\"Karl-Anthony Towns\"],[\"Victor Wembanyama\"],[\"Franz Wagner\"],[\"Trae Young\"],[\"Donovan Mitchell\"],[\"Cam Thomas\"],[\"Tyler Herro\"],[\"Joel Embiid\"],[\"Ja Morant\"],[\"James Harden\"],[\"Jaylen Brown\"],[\"DeMar DeRozan\"],[\"Brandon Ingram\"],[\"Jaren Jackson Jr.\"],[\"Norman Powell\"],[\"Jalen Williams\"],[\"Kawhi Leonard\"],[\"Jamal Murray\"],[\"Trey Murphy III\"],[\"RJ Barrett\"],[\"CJ McCollum\"],[\"Jalen Green\"],[\"Brandon Miller\"],[\"Darius Garland\"],[\"Jordan Poole\"],[\"Coby White\"],[\"Miles Bridges\"],[\"Austin Reaves\"],[\"Pascal Siakam\"],[\"Kristaps Porzingis\"],[\"Scottie Barnes\"],[\"Anfernee Simons\"],[\"Desmond Bane\"],[\"Domantas Sabonis\"],[\"Alperen Sengun\"],[\"John Collins\"],[\"Lauri Markkanen\"],[\"Jalen Johnson\"],[\"Cameron Johnson\"],[\"Julius Randle\"],[\"Tyrese Haliburton\"],[\"Evan Mobley\"],[\"Shaedon Sharpe\"],[\"Nikola Vucevic\"],[\"Collin Sexton\"],[\"Michael Porter Jr.\"],[\"Bam Adebayo\"],[\"OG Anunoby\"],[\"Mikal Bridges\"],[\"Jaden Ivey\"],[\"Dejounte Murray\"],[\"Malik Monk\"],[\"Immanuel Quickley\"],[\"Bradley Beal\"],[\"Deni Avdija\"],[\"Keyonte George\"],[\"Ivica Zubac\"],[\"Derrick White\"],[\"Malik Beasley\"],[\"Devin Vassell\"],[\"Jordan Clarkson\"],[\"Paul George\"],[\"Jalen Suggs\"],[\"Bennedict Mathurin\"],[\"Myles Turner\"],[\"Christian Braun\"],[\"Jonathan Kuminga\"],[\"Jared McCain\"],[\"Mark Williams\"],[\"Kelly Oubre Jr.\"],[\"Chet Holmgren\"],[\"Stephon Castle\"],[\"Aaron Gordon\"],[\"P.J. Washington\"],[\"Josh Giddey\"],[\"Jakob Poeltl\"],[\"Deandre Ayton\"],[\"Gradey Dick\"],[\"Jerami Grant\"],[\"Payton Pritchard\"],[\"Naz Reid\"],[\"Dyson Daniels\"],[\"Tre Mann\"],[\"Amen Thompson\"],[\"Fred VanVleet\"],[\"Dillon Brooks\"],[\"Klay Thompson\"],[\"Bobby Portis\"],[\"Tobias Harris\"],[\"Josh Hart\"],[\"Jarrett Allen\"],[\"Onyeka Okongwu\"],[\"Russell Westbrook\"],[\"Naji Marshall\"],[\"Rui Hachimura\"],[\"Brook Lopez\"],[\"Alex Sarr\"],[\"Moritz Wagner\"],[\"Malcolm Brogdon\"],[\"Scoot Henderson\"],[\"Keldon Johnson\"],[\"Zaccharie Risacher\"],[\"Santi Aldama\"],[\"Ty Jerome\"],[\"Keegan Murray\"],[\"Lonnie Walker IV\"],[\"Harrison Barnes\"],[\"Bilal Coulibaly\"],[\"Ayo Dosunmu\"],[\"Daniel Gafford\"],[\"Jaden McDaniels\"],[\"Jabari Smith Jr.\"],[\"Drew Timme\"],[\"Tari Eason\"],[\"Rudy Gobert\"],[\"Aaron Nesmith\"],[\"Aaron Wiggins\"],[\"Jalen Duren\"],[\"Donte DiVincenzo\"],[\"Brandin Podziemski\"],[\"Corey Kispert\"],[\"Jeremy Sochan\"],[\"Toumani Camara\"],[\"Isaiah Hartenstein\"],[\"Buddy Hield\"],[\"Jrue Holiday\"],[\"Walker Kessler\"],[\"Gary Trent Jr.\"],[\"Spencer Dinwiddie\"],[\"Tim Hardaway Jr.\"],[\"Duncan Robinson\"],[\"Guerschon Yabusele\"],[\"Brice Sensabaugh\"],[\"Jordan Hawkins\"],[\"Brandon Boston Jr.\"],[\"Grayson Allen\"],[\"Keon Johnson\"],[\"Terry Rozier\"],[\"Obi Toppin\"],[\"Ochai Agbaji\"],[\"Jaylen Wells\"],[\"Grant Williams\"],[\"Jose Alvarado\"],[\"Nic Claxton\"],[\"Herbert Jones\"],[\"De'Anthony Melton\"],[\"Isaiah Joe\"],[\"Tyus Jones\"],[\"Trendon Watford\"],[\"Luguentz Dort\"],[\"Justin Edwards\"],[\"Derrick Jones Jr.\"],[\"Ausar Thompson\"],[\"Chris Boucher\"],[\"Andrew Nembhard\"],[\"Ziaire Williams\"],[\"Julian Champagnie\"],[\"Scotty Pippen Jr.\"],[\"Nick Smith Jr.\"],[\"Bub Carrington\"],[\"Moses Moody\"],[\"Amir Coffey\"],[\"Kyle Filipowski\"],[\"Miles McBride\"],[\"Jalen Wilson\"],[\"Nickeil Alexander-Walker\"],[\"Cole Anthony\"],[\"Anthony Black\"],[\"Max Strus\"],[\"Cam Whitmore\"],[\"Kel'el Ware\"],[\"Zach Edey\"],[\"Wendell Carter Jr.\"],[\"Noah Clowney\"],[\"Dalton Knecht\"],[\"A.J. Lawson\"],[\"T.J. McConnell\"],[\"Yves Missi\"],[\"Royce O'Neale\"],[\"Draymond Green\"],[\"Killian Hayes\"],[\"Al Horford\"],[\"Julian Strawther\"],[\"Patrick Williams\"],[\"Clint Capela\"],[\"Johnny Juzang\"],[\"Luke Kennard\"],[\"Justin Champagnie\"],[\"Svi Mykhailiuk\"],[\"Chris Paul\"],[\"Oshae Brissett\"],[\"Kentavious Caldwell-Pope\"],[\"Isaiah Collier\"],[\"Dante Exum\"],[\"Kyshawn George\"],[\"Jaden Hardy\"],[\"Dereck Lively II\"],[\"Tyrese Martin\"],[\"Matas Buzelis\"],[\"Jaime Jaquez Jr.\"],[\"Ja'Kobe Walter\"],[\"Sam Hauser\"],[\"Larry Nance Jr.\"],[\"Jaylen Nowell\"],[\"Cason Wallace\"],[\"Dalano Banton\"],[\"Brandon Clarke\"],[\"Keon Ellis\"],[\"Brandon Williams\"],[\"Mike Conley\"],[\"Taurean Prince\"],[\"Jalen Smith\"],[\"Quinten Post\"],[\"Peyton Watson\"],[\"Day'Ron Sharpe\"],[\"Karlo Matkovic\"],[\"Lonzo Ball\"],[\"Garrison Mathews\"],[\"Matisse Thybulle\"],[\"A.J. Green\"],[\"Josh Green\"],[\"Richaun Holmes\"],[\"Alec Burks\"],[\"Ricky Council IV\"],[\"Andre Drummond\"],[\"Goga Bitadze\"],[\"Tristan Da Silva\"],[\"GG Jackson II\"],[\"Vit Krejci\"],[\"Sam Merrill\"],[\"Nae'Qwan Tomlin\"],[\"Jamison Battle\"],[\"Alex Caruso\"],[\"Jamal Shead\"],[\"Marcus Garrett\"],[\"Isaiah Jackson\"],[\"Jaylen Sims\"],[\"Ryan Dunn\"],[\"Jay Huff\"],[\"Cameron Payne\"],[\"Antonio Reeves\"],[\"Bol Bol\"],[\"Eric Gordon\"],[\"Jaxson Hayes\"],[\"Marcus Bagley\"],[\"DaQuan Jeffries\"],[\"Precious Achiuwa\"],[\"Trayce Jackson-Davis\"],[\"Marcus Sasser\"],[\"Vince Williams Jr.\"],[\"Donovan Clingan\"],[\"Seth Curry\"],[\"Haywood Highsmith\"],[\"Talen Horton-Tucker\"],[\"Trey Lyles\"],[\"Ajay Mitchell\"],[\"Gary Payton II\"],[\"Kris Dunn\"],[\"Ron Holland\"],[\"Gabe Vincent\"],[\"Sandro Mamukelashvili\"],[\"Jeremiah Robinson-Earl\"],[\"Kenrich Williams\"],[\"Jonathan Mogbo\"],[\"Ryan Rollins\"],[\"Isaac Okoro\"],[\"Jarace Walker\"],[\"Mouhamed Gueye\"],[\"Luke Kornet\"],[\"Isaiah Mobley\"],[\"Isaiah Stewart\"],[\"James Wiseman\"],[\"Simone Fontecchio\"],[\"Jaylin Williams\"],[\"Adem Bona\"],[\"Robert Williams\"],[\"Moussa Diabate\"],[\"Dariq Whitehead\"],[\"Landry Shamet\"],[\"Jordan Goodwin\"],[\"Aaron Holiday\"],[\"Jeff Green\"],[\"Jonathan Isaac\"],[\"Dean Wade\"],[\"Kobe Bufkin\"],[\"Pat Connaughton\"],[\"Kevin Love\"],[\"Ben Sheppard\"],[\"Monte Morris\"],[\"Jabari Walker\"],[\"Bismack Biyombo\"],[\"Mitchell Robinson\"],[\"Malaki Branham\"],[\"Neemias Queta\"],[\"Jock Landale\"],[\"Taylor Hendricks\"],[\"Pelle Larsson\"],[\"Julian Phillips\"],[\"Cody Williams\"],[\"Rob Dillingham\"],[\"Jett Howard\"],[\"Kevon Looney\"],[\"Mason Plumlee\"],[\"Dalen Terry\"],[\"Charles Bassey\"],[\"Tony Bradley\"],[\"Reggie Jackson\"],[\"Reed Sheppard\"],[\"Lamar Stevens\"],[\"Jevon Carter\"],[\"Terrence Shannon Jr.\"],[\"Daniel Theis\"],[\"Dominick Barlow\"],[\"Oso Ighodaro\"],[\"Kris Murray\"],[\"Duop Reath\"],[\"Jaylen Clark\"],[\"Caleb Houstan\"],[\"Jordan Miller\"],[\"Jalen Pickett\"],[\"Paul Reed\"],[\"Gui Santos\"],[\"Jarred Vanderbilt\"],[\"Nicolas Batum\"],[\"Malachi Flynn\"],[\"Josh Richardson\"],[\"Steven Adams\"],[\"Kyle Lowry\"],[\"Olivier-Maxence Prosper\"],[\"Branden Carlson\"],[\"Devin Carter\"],[\"Ousmane Dieng\"],[\"DeAndre Jordan\"],[\"Craig Porter Jr.\"],[\"Blake Wesley\"],[\"Baylor Scheierman\"],[\"Jae'Sean Tate\"],[\"Jaylon Tyson\"],[\"Luka Garza\"],[\"Cory Joseph\"],[\"Doug McDermott\"],[\"Dario Saric\"],[\"Bruno Fernando\"],[\"Andre Jackson Jr.\"],[\"Isaac Jones\"],[\"Kevin Knox\"],[\"Damion Lee\"],[\"Jeenathan Williams\"],[\"Zeke Nnaji\"],[\"Cam Reddish\"],[\"Gary Harris\"],[\"Maxi Kleber\"],[\"Rayan Rupert\"],[\"P.J. Tucker\"],[\"Markelle Fultz\"],[\"Taj Gibson\"],[\"Tyler Smith\"],[\"Keshad Johnson\"],[\"Jae Crowder\"],[\"Josh Minott\"],[\"Hunter Tyson\"],[\"Anthony Gill\"],[\"Dillon Jones\"],[\"Pat Spencer\"],[\"Johnny Davis\"],[\"John Konchar\"],[\"Bronny James\"],[\"JD Davison\"],[\"Chris Duarte\"],[\"Johnny Furphy\"],[\"Dwight Powell\"],[\"Tyler Kolek\"],[\"Kobe Brown\"],[\"Ariel Hukporti\"],[\"Bobi Klintman\"],[\"Garrett Temple\"],[\"Vlatko Cancar\"],[\"E.J. Liddell\"],[\"Pacome Dadiet\"],[\"Tristan Thompson\"],[\"Jordan Walsh\"],[\"Phillip Wheeler\"],[\"Leonard Miller\"],[\"Matt Ryan\"],[\"Cam Christie\"],[\"Chris Livingston\"],[\"Skal Labissiere\"],[\"Yuri Collins\"],[\"Braxton Key\"],[\"Xavier Tillman Sr.\"],[\"PJ Dozier\"],[\"Joe Ingles\"],[\"James Johnson\"],[\"Malevy Leons\"],[\"Daishen Nix\"],[\"Terence Davis\"],[\"Jalen McDaniels\"],[\"Jahlil Okafor\"],[\"Terry Taylor\"],[\"Luka Doncic\"],[\"Anthony Davis\"],[\"De'Aaron Fox\"],[\"Zach LaVine\"],[\"Andrew Wiggins\"],[\"Jimmy Butler\"],[\"De'Andre Hunter\"],[\"Kyle Kuzma\"],[\"Quentin Grimes\"],[\"Dennis Schroder\"],[\"D'Angelo Russell\"],[\"Caris LeVert\"],[\"Khris Middleton\"],[\"Bogdan Bogdanovic\"],[\"Jonas Valanciunas\"],[\"Kevin Porter Jr.\"],[\"Kevin Huerter\"],[\"Georges Niang\"],[\"Max Christie\"],[\"Nick Richards\"],[\"Jared Butler\"],[\"Marcus Smart\"],[\"Jusuf Nurkic\"],[\"Kelly Olynyk\"],[\"Dorian Finney-Smith\"],[\"Jared Rhoden\"],[\"Bruce Brown\"],[\"Davion Mitchell\"],[\"Caleb Martin\"],[\"Terance Mann\"],[\"AJ Johnson\"],[\"Tre Jones\"],[\"Josh Okogie\"],[\"Jalen Hood-Schifino\"],[\"Orlando Robinson\"],[\"Jake LaRavia\"],[\"Cody Martin\"],[\"Vasilije Micic\"],[\"Thomas Bryant\"],[\"Zach Collins\"],[\"KJ Martin\"],[\"Bones Hyland\"],[\"Cole Swider\"],[\"Chuma Okeke\"],[\"Kyle Anderson\"],[\"Moses Brown\"],[\"Shake Milton\"],[\"Javonte Green\"],[\"Ben Simmons\"],[\"Lindy Waters III\"],[\"Colin Castleton\"],[\"David Roddy\"],[\"Drew Eubanks\"],[\"Marvin Bagley III\"],[\"Mo Bamba\"],[\"Torrey Craig\"],[\"Wendell Moore Jr.\"],[\"Maxwell Lewis\"],[\"Colby Jones\"],[\"Patty Mills\"],[\"Markieff Morris\"],[\"Elfrid Payton\"],[\"Delon Wright\"],[\"Kylor Kelley\"],[\"Jaden Springer\"],[\"MarJon Beauchamp\"],[\"Patrick Baldwin Jr.\"],[\"Jordan McLaughlin\"],[\"Jericho Sims\"],[\"Alex Len\"],[\"Sidy Cissoko\"]],\"hovertemplate\":\"Salary ($M)=%{x:.2f}\\u003cbr\\u003eAge=%{y}\\u003cbr\\u003ePlayer=%{customdata[0]}\\u003cextra\\u003e\\u003c\\u002fextra\\u003e\",\"legendgroup\":\"\",\"marker\":{\"color\":\"skyblue\",\"symbol\":\"circle\"},\"mode\":\"markers\",\"name\":\"\",\"orientation\":\"v\",\"showlegend\":false,\"x\":[35.85995,48.787676,51.415938,42.1764,34.84834,51.179021,35.147,13.940809,24.960001,12.1608,49.2058,35.147,48.787676,41.0,36.72567,55.761216,48.728845,49.2058,12.76896,7.007092,43.03194,35.41031,4.041249,29.0,51.415938,36.72567,33.653846,49.2058,23.4,36.0162,25.257798,19.241379,4.77576,49.2058,36.0162,5.159854,25.794643,33.333333,12.483048,11.4246,36.72567,29.651786,12.0,27.173913,12.976362,42.1764,29.268293,10.13098,25.892857,34.00525,40.5,5.424654,26.58,42.1764,4.510905,22.5,33.07392,42.1764,11.227657,6.61416,20.0,18.35,35.85995,34.84834,36.637932,23.3,7.97724,29.517135,17.405203,32.5,50.20393,15.625,4.0842,11.74321,20.071429,6.0,29.347826,14.092577,49.2058,9.188385,7.24572,19.9285,3.08964,7.636307,4.02036,4.09428,7.983,10.88064,9.10512,22.841455,15.5,8.352367,19.5,34.005126,4.76376,29.793104,6.696429,13.986432,6.05952,4.908373,9.24996,42.846615,22.255493,15.873016,12.578286,25.365854,18.144,20.0,14.0,5.631296,8.571429,17.0,23.0,11.24568,11.0,22.5,10.25916,19.0,12.56904,3.960531,2.560975,8.80956,0.780932,18.0,6.94524,7.0,13.39416,23.017242,9.77088,0.113055,3.69516,43.827586,11.0,10.514017,4.53684,11.445,3.51996,5.705887,5.57004,1.891857,30.0,8.780488,30.0,2.96592,2.087519,2.087519,16.193183,19.406,2.087519,2.57148,4.52568,0.596581,15.625,2.162606,24.924126,12.975,4.31028,1.157153,13.02525,1.988598,27.556817,12.976362,12.822,12.99165,2.087519,2.726603,16.5,0.425619,9.52381,8.376,10.81,2.019699,6.133005,3.0,2.087519,2.5872,4.45488,5.803269,3.938271,3.0,4.710144,1.891857,4.3125,12.9,7.60776,15.212068,3.37908,4.2318,5.75688,11.95,3.24408,3.81912,0.1,9.3,3.1932,9.375,24.107143,0.119972,9.5,2.55252,18.0,22.26528,3.087519,9.25,1.8,3.5,10.46,0.119972,22.757,2.51268,3.15,2.82552,2.019699,5.01456,0.635853,5.19552,3.6858,3.465,2.092344,11.205,0.446743,5.55588,2.19697,12.5,2.120693,0.047989,9.975962,2.087519,8.571429,0.43892,2.41356,3.989122,1.407153,21.395348,2.230253,11.025,2.120693,12.654321,12.648321,2.087519,1.891857,5.0,9.057971,3.62844,1.891857,2.162606,2.164993,0.066503,1.0,9.89,1.862265,0.107027,4.435381,0.073153,2.5308,2.088033,2.087519,1.157153,2.087519,3.303771,2.463946,0.126356,2.425404,6.0,1.891857,2.75508,2.120693,6.8364,2.087519,5.2,2.087519,8.0,3.0,9.13,5.168,8.24532,11.0,2.087519,2.19697,6.669,1.862265,1.091887,10.185186,6.36252,1.891857,2.087519,0.011997,15.0,2.237691,7.692308,2.019699,1.157153,12.428571,0.957763,3.11424,1.34369,0.223718,4.668,8.0,25.0,6.166667,4.299,9.423869,3.85,2.66388,2.087519,2.019699,0.647851,14.318182,3.21792,2.162606,8.0,5.84868,1.157153,1.891857,5.46912,6.26292,5.27832,8.0,2.087519,3.51048,2.087519,0.600545,4.033748,10.09896,0.623856,6.5,2.54664,2.087519,0.491887,1.157153,2.99004,2.04878,0.492323,2.019699,1.05,1.891857,3.913234,1.891857,10.714286,4.668,0.119972,3.051153,12.6,2.087519,2.8704,0.496519,4.689,5.02704,2.087519,1.891857,2.62428,2.49432,7.565217,3.32616,2.162606,3.303771,2.087519,5.168,1.115128,1.891857,0.152957,0.503883,2.087519,0.515881,8.888889,2.463946,7.5,11.0,1.891857,12.025777,0.731831,2.087519,1.157153,0.724883,1.655619,2.019699,1.891857,2.237691,2.62236,0.43881,5.29116,6.165,1.157153,0.011997,5.893768,1.850842,4.0,2.087519,2.53392,1.064049,1.257153,2.087519,2.087519,0.706898,1.80808,2.087519,1.891857,0.066503,1.891857,0.621439,1.157153,1.891857,0.119972,0.066503,0.011997,2.237691,1.051255,2.087519,2.087519,0.126356,0.119972,0.064301,4.861772,0.119972,0.119972,43.03194,43.21944,34.84834,44.53194,26.276786,48.798677,21.696429,24.456061,4.296682,13.02525,18.692307,16.615384,31.0,17.26,9.9,3.366937,16.830357,8.5,7.142857,5.0,0.745726,20.210284,18.125,12.804878,14.924167,0.119972,23.0,6.451077,9.186594,11.423077,2.795294,9.104167,8.25,3.87984,1.69161,3.35268,8.12,7.723,2.087519,16.7412,7.975,4.158439,0.227947,0.355687,8.780488,0.426632,2.875,2.32835,40.011909,2.19697,0.421081,2.967212,5.0,12.5,2.207491,3.625162,2.53704,1.891857,2.120693,2.087519,2.087519,0.789048,2.087519,0.073153,4.772772,2.73372,2.44884,2.087519,2.092344,2.831348,1.891857],\"xaxis\":\"x\",\"y\":[26,30,29,23,26,36,24,23,28,22,28,23,34,32,24,36,40,29,21,23,26,28,23,25,30,25,35,28,35,27,25,31,23,33,27,24,24,33,22,22,25,25,24,26,26,30,29,23,25,26,28,22,27,27,23,28,30,24,23,21,34,26,26,27,27,28,22,28,26,25,31,24,21,27,30,28,24,32,34,23,22,28,23,22,20,23,29,22,20,29,26,22,29,26,21,30,27,25,21,23,22,30,29,34,29,32,29,26,24,36,27,26,36,19,27,32,20,25,19,24,27,24,26,32,20,25,26,24,21,24,23,32,25,26,21,28,21,25,21,24,26,32,34,23,26,31,32,30,29,21,22,23,29,22,30,26,24,21,26,26,25,26,26,25,28,24,25,21,27,22,32,25,23,23,24,20,19,22,27,21,24,24,26,24,21,28,20,20,22,25,20,23,24,32,20,31,34,23,38,22,23,30,23,28,23,27,39,26,31,20,29,21,22,20,25,20,23,20,27,32,25,21,25,28,25,25,37,30,24,24,22,23,23,27,28,27,25,24,31,33,23,31,25,23,20,24,28,24,23,30,22,26,23,26,22,26,30,24,25,36,24,23,27,25,24,24,24,20,34,28,24,29,22,32,30,19,28,25,24,30,23,22,24,21,22,29,25,23,23,29,22,21,27,23,20,27,26,28,38,27,28,21,32,36,23,29,22,32,26,21,25,29,21,23,21,20,20,21,28,34,22,24,27,34,20,27,29,24,32,21,22,24,28,23,22,25,25,25,22,25,36,26,31,31,38,22,25,22,21,36,24,21,24,29,22,26,33,33,30,26,23,24,25,32,25,24,25,30,33,20,39,26,39,20,23,34,22,24,32,23,28,22,28,20,22,27,20,33,23,25,22,21,38,27,24,19,33,20,22,21,27,19,21,28,23,27,26,28,37,37,25,22,27,27,29,25,25,31,27,29,29,35,27,29,24,31,28,30,33,32,32,24,26,31,21,27,24,30,30,33,31,25,28,26,29,28,20,25,26,21,24,23,29,31,27,27,24,24,25,26,31,25,28,31,28,27,24,23,27,25,26,34,23,22,22,36,35,30,32,27,22,24,22,28,26,31,20],\"yaxis\":\"y\",\"type\":\"scatter\"},{\"hovertemplate\":\"\\u003cb\\u003eOLS trendline\\u003c\\u002fb\\u003e\\u003cbr\\u003eAge = 0.114555 * Salary_M + 24.9599\\u003cbr\\u003eR\\u003csup\\u003e2\\u003c\\u002fsup\\u003e=0.107251\\u003cbr\\u003e\\u003cbr\\u003eSalary ($M)=%{x:.2f}\\u003cbr\\u003eAge=%{y} \\u003cb\\u003e(trend)\\u003c\\u002fb\\u003e\\u003cextra\\u003e\\u003c\\u002fextra\\u003e\",\"legendgroup\":\"\",\"line\":{\"color\":\"black\"},\"marker\":{\"color\":\"skyblue\",\"symbol\":\"circle\"},\"mode\":\"lines\",\"name\":\"\",\"showlegend\":false,\"x\":[0.011997,0.011997,0.011997,0.047989,0.064301,0.066503,0.066503,0.066503,0.073153,0.073153,0.1,0.107027,0.113055,0.119972,0.119972,0.119972,0.119972,0.119972,0.119972,0.119972,0.119972,0.126356,0.126356,0.152957,0.223718,0.227947,0.355687,0.421081,0.425619,0.426632,0.43881,0.43892,0.446743,0.491887,0.492323,0.496519,0.503883,0.515881,0.596581,0.600545,0.621439,0.623856,0.635853,0.647851,0.706898,0.724883,0.731831,0.745726,0.780932,0.789048,0.957763,1.0,1.05,1.051255,1.064049,1.091887,1.115128,1.157153,1.157153,1.157153,1.157153,1.157153,1.157153,1.157153,1.157153,1.257153,1.34369,1.407153,1.655619,1.69161,1.8,1.80808,1.850842,1.862265,1.862265,1.891857,1.891857,1.891857,1.891857,1.891857,1.891857,1.891857,1.891857,1.891857,1.891857,1.891857,1.891857,1.891857,1.891857,1.891857,1.891857,1.891857,1.891857,1.988598,2.019699,2.019699,2.019699,2.019699,2.019699,2.019699,2.04878,2.087519,2.087519,2.087519,2.087519,2.087519,2.087519,2.087519,2.087519,2.087519,2.087519,2.087519,2.087519,2.087519,2.087519,2.087519,2.087519,2.087519,2.087519,2.087519,2.087519,2.087519,2.087519,2.087519,2.087519,2.087519,2.087519,2.087519,2.087519,2.087519,2.087519,2.087519,2.087519,2.087519,2.088033,2.092344,2.092344,2.120693,2.120693,2.120693,2.120693,2.162606,2.162606,2.162606,2.162606,2.164993,2.19697,2.19697,2.19697,2.207491,2.230253,2.237691,2.237691,2.237691,2.32835,2.41356,2.425404,2.44884,2.463946,2.463946,2.49432,2.51268,2.5308,2.53392,2.53704,2.54664,2.55252,2.560975,2.57148,2.5872,2.62236,2.62428,2.66388,2.726603,2.73372,2.75508,2.795294,2.82552,2.831348,2.8704,2.875,2.96592,2.967212,2.99004,3.0,3.0,3.0,3.051153,3.087519,3.08964,3.11424,3.15,3.1932,3.21792,3.24408,3.303771,3.303771,3.32616,3.35268,3.366937,3.37908,3.465,3.5,3.51048,3.51996,3.625162,3.62844,3.6858,3.69516,3.81912,3.85,3.87984,3.913234,3.938271,3.960531,3.989122,4.0,4.02036,4.033748,4.041249,4.0842,4.09428,4.158439,4.2318,4.296682,4.299,4.31028,4.3125,4.435381,4.45488,4.510905,4.52568,4.53684,4.668,4.668,4.689,4.710144,4.76376,4.772772,4.77576,4.861772,4.908373,5.0,5.0,5.0,5.01456,5.02704,5.159854,5.168,5.168,5.19552,5.2,5.27832,5.29116,5.424654,5.46912,5.55588,5.57004,5.631296,5.705887,5.75688,5.803269,5.84868,5.893768,6.0,6.0,6.05952,6.133005,6.165,6.166667,6.26292,6.36252,6.451077,6.5,6.61416,6.669,6.696429,6.8364,6.94524,7.0,7.007092,7.142857,7.24572,7.5,7.565217,7.60776,7.636307,7.692308,7.723,7.975,7.97724,7.983,8.0,8.0,8.0,8.0,8.12,8.24532,8.25,8.352367,8.376,8.5,8.571429,8.571429,8.780488,8.780488,8.80956,8.888889,9.057971,9.104167,9.10512,9.13,9.186594,9.188385,9.24996,9.25,9.3,9.375,9.423869,9.5,9.52381,9.77088,9.89,9.9,9.975962,10.09896,10.13098,10.185186,10.25916,10.46,10.514017,10.714286,10.81,10.88064,11.0,11.0,11.0,11.0,11.025,11.205,11.227657,11.24568,11.423077,11.4246,11.445,11.74321,11.95,12.0,12.025777,12.1608,12.428571,12.483048,12.5,12.5,12.56904,12.578286,12.6,12.648321,12.654321,12.76896,12.804878,12.822,12.9,12.975,12.976362,12.976362,12.99165,13.02525,13.02525,13.39416,13.940809,13.986432,14.0,14.092577,14.318182,14.924167,15.0,15.212068,15.5,15.625,15.625,15.873016,16.193183,16.5,16.615384,16.7412,16.830357,17.0,17.26,17.405203,18.0,18.0,18.125,18.144,18.35,18.692307,19.0,19.241379,19.406,19.5,19.9285,20.0,20.0,20.071429,20.210284,21.395348,21.696429,22.255493,22.26528,22.5,22.5,22.757,22.841455,23.0,23.0,23.017242,23.3,23.4,24.107143,24.456061,24.924126,24.960001,25.0,25.257798,25.365854,25.794643,25.892857,26.276786,26.58,27.173913,27.556817,29.0,29.268293,29.347826,29.517135,29.651786,29.793104,30.0,30.0,31.0,32.5,33.07392,33.333333,33.653846,34.005126,34.00525,34.84834,34.84834,34.84834,35.147,35.147,35.41031,35.85995,35.85995,36.0162,36.0162,36.637932,36.72567,36.72567,36.72567,40.011909,40.5,41.0,42.1764,42.1764,42.1764,42.1764,42.846615,43.03194,43.03194,43.21944,43.827586,44.53194,48.728845,48.787676,48.787676,48.798677,49.2058,49.2058,49.2058,49.2058,49.2058,50.20393,51.179021,51.415938,51.415938,55.761216],\"xaxis\":\"x\",\"y\":[24.961288755998815,24.961288755998815,24.961288755998815,24.965411818402018,24.96728043903774,24.967532689076968,24.967532689076968,24.967532689076968,24.968294479613235,24.968294479613235,24.971369936835362,24.97217491459451,24.972865451940766,24.97365782865345,24.97365782865345,24.97365782865345,24.97365782865345,24.97365782865345,24.97365782865345,24.97365782865345,24.97365782865345,24.974389147568267,24.974389147568267,24.9774364242683,24.985542448349012,24.98602690130809,25.000660152902473,25.008151360470684,25.00867121091483,25.00878725509727,25.010182305495867,25.01019490654233,25.011091070055897,25.01626253952495,25.016312485490936,25.016793158136075,25.017636740919393,25.019011171423774,25.02825575733004,25.028709853222637,25.031103364721094,25.031380244078413,25.032754560027822,25.034128990532203,25.040893117719406,25.04295338881636,25.04374931673305,25.04534105801146,25.049374080209923,25.050303808329073,25.0696309497315,25.074469407908985,25.080197156301967,25.08034092278663,25.081806539045424,25.0849955202407,25.087657892248725,25.092472064773023,25.092472064773023,25.092472064773023,25.092472064773023,25.092472064773023,25.092472064773023,25.092472064773023,25.092472064773023,25.103927561558983,25.113840804812646,25.12111080673792,25.14957382138212,25.153696769230354,25.166113382196652,25.16703898633696,25.17193758587257,25.17324614727043,25.17324614727043,25.176636057879332,25.176636057879332,25.176636057879332,25.176636057879332,25.176636057879332,25.176636057879332,25.176636057879332,25.176636057879332,25.176636057879332,25.176636057879332,25.176636057879332,25.176636057879332,25.176636057879332,25.176636057879332,25.176636057879332,25.176636057879332,25.176636057879332,25.176636057879332,25.187718220025037,25.191280994080437,25.191280994080437,25.191280994080437,25.191280994080437,25.191280994080437,25.191280994080437,25.19461236710076,25.199050112000673,25.199050112000673,25.199050112000673,25.199050112000673,25.199050112000673,25.199050112000673,25.199050112000673,25.199050112000673,25.199050112000673,25.199050112000673,25.199050112000673,25.199050112000673,25.199050112000673,25.199050112000673,25.199050112000673,25.199050112000673,25.199050112000673,25.199050112000673,25.199050112000673,25.199050112000673,25.199050112000673,25.199050112000673,25.199050112000673,25.199050112000673,25.199050112000673,25.199050112000673,25.199050112000673,25.199050112000673,25.199050112000673,25.199050112000673,25.199050112000673,25.199050112000673,25.199050112000673,25.199108993254153,25.199602839720598,25.199602839720598,25.20285035850445,25.20285035850445,25.20285035850445,25.20285035850445,25.207651700872347,25.207651700872347,25.207651700872347,25.207651700872347,25.207925143580628,25.211588267787874,25.211588267787874,25.211588267787874,25.212793500604725,25.215401000783142,25.216253060634084,25.216253060634084,25.216253060634084,25.226638499465267,25.23639972827658,25.23775651731591,25.240441227542668,25.242171694887155,25.242171694887155,25.24565118748092,25.24775441669082,25.249830152708437,25.25018756420816,25.250544975707882,25.251644703399332,25.252318286610347,25.253286848863603,25.254490248800966,25.25629105289572,25.26031880556566,25.26053875110395,25.265075127831192,25.27226035908025,25.273075646786506,25.275522540899985,25.280129254377492,25.283591792836013,25.2842594191887,25.288733019793554,25.289259972645706,25.2996753103235,25.299823315341975,25.302438376148274,25.303579343628154,25.303579343628154,25.303579343628154,25.309439173899076,25.313605079860256,25.313848050947087,25.316666103156432,25.320762588807092,25.325711363418627,25.328543162224115,25.33153992018332,25.33837782076983,25.33837782076983,25.340942591945236,25.343980589692872,25.345613799869646,25.347004840844367,25.35684740368286,25.360856827557946,25.362057363621116,25.363143344716423,25.37519475644519,25.375570267629833,25.382141140586256,25.383213375085422,25.397413608901296,25.400951066308803,25.40436938654973,25.408194835146436,25.411062947876733,25.413612941461288,25.416888182547364,25.418134311487737,25.42046665063336,25.422000312543066,25.422859589356978,25.427779839781515,25.42893455385754,25.436284286040443,25.44468815303759,25.452120708462257,25.452386246877754,25.45367842691521,25.45393273894386,25.468009367949414,25.470243075267707,25.47666101734204,25.478353566992165,25.47963200043348,25.49465703001794,25.49465703001794,25.497062684342993,25.499484834583416,25.505626813740175,25.506659183110525,25.50700147335449,25.51685457525003,25.522192951307254,25.532689279347323,25.532689279347323,25.532689279347323,25.53435719967936,25.535786845678246,25.55100134917955,25.55193451394773,25.55193451394773,25.55508706666323,25.55560027291924,25.564572218002002,25.56604310378932,25.58133550466877,25.58642930586961,25.596368094881107,25.597990193226,25.605007372337205,25.613552141944822,25.619393643420885,25.624707733824923,25.629909789470396,25.635074843861247,25.647244247206906,25.647244247206906,25.65406255889391,25.662480630707073,25.66614581690374,25.66633678003516,25.67736303935655,25.688772714155363,25.698917358444106,25.704521731136698,25.71759932626755,25.723881520704968,25.72702364891839,25.743058022324664,25.7555261850265,25.761799215066493,25.76261163889855,25.77816419411001,25.78994766176895,25.819076698996284,25.82654763033518,25.831421142332832,25.83469134300032,25.841106535755422,25.84462245682897,25.873490308729586,25.87374691185759,25.874406748472463,25.876354182926075,25.876354182926075,25.876354182926075,25.876354182926075,25.890100779069225,25.904456807641388,25.904992924890973,25.916719573285853,25.91942685084128,25.933631666855867,25.94181421365511,25.94181421365511,25.965762960680866,25.965762960680866,25.96909330270648,25.978180833751814,25.997550016827446,26.00284199812269,26.00295116900706,26.005801296607405,26.01228442045845,26.012489588405888,26.01954331055184,26.019547892750555,26.025275641143534,26.033867263733004,26.03946545045733,26.04818663471545,26.050914188500187,26.079217284409257,26.092863072180688,26.094008621859285,26.102710446327833,26.11680047826463,26.120468528335493,26.12667809492329,26.135152184115732,26.15815940386065,26.164347319559525,26.187289128417795,26.198253642611505,26.20634580554111,26.220019086504827,26.220019086504827,26.220019086504827,26.220019086504827,26.222882960701316,26.24350285491604,26.246098326822835,26.24816295100857,26.268484658641956,26.268659125858008,26.270996047202342,26.305157484167747,26.32884630597143,26.33457405436441,26.337526937770928,26.35299449319623,26.38366899149496,26.389909602479047,26.391851538294205,26.391851538294205,26.399760413275228,26.40081958850806,26.40330703508016,26.408842445682104,26.40952977548926,26.422662242449718,26.426776827785297,26.42873823794499,26.437673525438036,26.446265148027507,26.446421171893732,26.446421171893732,26.448172488242367,26.45202153516245,26.45202153516245,26.49428200835553,26.556903366981004,26.56212970827966,26.56368399008358,26.574289145343116,26.600133318867076,26.66955191106547,26.678238957943165,26.70253240086721,26.735516441872957,26.749835812855405,26.749835812855405,26.778247277764066,26.814923998158765,26.85007140973254,26.86328922014405,26.87770206798027,26.887915445249728,26.90734889366233,26.937133185305825,26.95376691030394,27.021903861521917,27.021903861521917,27.036223232504362,27.038399776893694,27.06199810027277,27.101211067655882,27.1364588293815,27.164109992968477,27.18296814633249,27.19373631331129,27.242823117039123,27.251013797241082,27.251013797241082,27.259196344040326,27.27510287410247,27.410857842534018,27.44534816681215,27.5093917253636,27.510512874834042,27.537401216890043,27.537401216890043,27.56684184362996,27.576516583440537,27.594678700819834,27.594678700819834,27.59665385757567,27.62904519117771,27.64050068796367,27.7215074316008,27.76147772187643,27.815096892907626,27.81920655237959,27.823788636539003,27.85332067814327,27.865699029750303,27.91481893986385,27.926069841477208,27.97005081573257,28.004785485757147,28.072821170383534,28.116684725796844,28.28200850797734,28.312742803969293,28.32185370422807,28.341248891281406,28.356673832258668,28.372862511206648,28.396563475836924,28.396563475836924,28.51111844369651,28.682950895485885,28.74869628263986,28.778413330517218,28.815129686930796,28.85537055604051,28.855384760856523,28.95196490870926,28.95196490870926,28.95196490870926,28.986177895410204,28.986177895410204,29.016341363997313,29.067849859745692,29.067849859745692,29.085749073473753,29.085749073473753,29.15697156275103,29.167022386521094,29.167022386521094,29.167022386521094,29.543477389545004,29.599390638362557,29.65666812229235,29.791430586482363,29.791430586482363,29.791430586482363,29.791430586482363,29.868207044266377,29.889436943684952,29.889436943684952,29.910916000158625,29.980582145642558,30.061269395474326,30.542045712859057,30.548785096173205,30.548785096173205,30.550045315374625,30.596683277554526,30.596683277554526,30.596683277554526,30.596683277554526,30.596683277554526,30.711024027624212,30.822725545789382,30.84986556510977,30.84986556510977,31.347638746740728],\"yaxis\":\"y\",\"type\":\"scatter\"}],                        {\"template\":{\"data\":{\"barpolar\":[{\"marker\":{\"line\":{\"color\":\"white\",\"width\":0.5},\"pattern\":{\"fillmode\":\"overlay\",\"size\":10,\"solidity\":0.2}},\"type\":\"barpolar\"}],\"bar\":[{\"error_x\":{\"color\":\"#2a3f5f\"},\"error_y\":{\"color\":\"#2a3f5f\"},\"marker\":{\"line\":{\"color\":\"white\",\"width\":0.5},\"pattern\":{\"fillmode\":\"overlay\",\"size\":10,\"solidity\":0.2}},\"type\":\"bar\"}],\"carpet\":[{\"aaxis\":{\"endlinecolor\":\"#2a3f5f\",\"gridcolor\":\"#C8D4E3\",\"linecolor\":\"#C8D4E3\",\"minorgridcolor\":\"#C8D4E3\",\"startlinecolor\":\"#2a3f5f\"},\"baxis\":{\"endlinecolor\":\"#2a3f5f\",\"gridcolor\":\"#C8D4E3\",\"linecolor\":\"#C8D4E3\",\"minorgridcolor\":\"#C8D4E3\",\"startlinecolor\":\"#2a3f5f\"},\"type\":\"carpet\"}],\"choropleth\":[{\"colorbar\":{\"outlinewidth\":0,\"ticks\":\"\"},\"type\":\"choropleth\"}],\"contourcarpet\":[{\"colorbar\":{\"outlinewidth\":0,\"ticks\":\"\"},\"type\":\"contourcarpet\"}],\"contour\":[{\"colorbar\":{\"outlinewidth\":0,\"ticks\":\"\"},\"colorscale\":[[0.0,\"#0d0887\"],[0.1111111111111111,\"#46039f\"],[0.2222222222222222,\"#7201a8\"],[0.3333333333333333,\"#9c179e\"],[0.4444444444444444,\"#bd3786\"],[0.5555555555555556,\"#d8576b\"],[0.6666666666666666,\"#ed7953\"],[0.7777777777777778,\"#fb9f3a\"],[0.8888888888888888,\"#fdca26\"],[1.0,\"#f0f921\"]],\"type\":\"contour\"}],\"heatmapgl\":[{\"colorbar\":{\"outlinewidth\":0,\"ticks\":\"\"},\"colorscale\":[[0.0,\"#0d0887\"],[0.1111111111111111,\"#46039f\"],[0.2222222222222222,\"#7201a8\"],[0.3333333333333333,\"#9c179e\"],[0.4444444444444444,\"#bd3786\"],[0.5555555555555556,\"#d8576b\"],[0.6666666666666666,\"#ed7953\"],[0.7777777777777778,\"#fb9f3a\"],[0.8888888888888888,\"#fdca26\"],[1.0,\"#f0f921\"]],\"type\":\"heatmapgl\"}],\"heatmap\":[{\"colorbar\":{\"outlinewidth\":0,\"ticks\":\"\"},\"colorscale\":[[0.0,\"#0d0887\"],[0.1111111111111111,\"#46039f\"],[0.2222222222222222,\"#7201a8\"],[0.3333333333333333,\"#9c179e\"],[0.4444444444444444,\"#bd3786\"],[0.5555555555555556,\"#d8576b\"],[0.6666666666666666,\"#ed7953\"],[0.7777777777777778,\"#fb9f3a\"],[0.8888888888888888,\"#fdca26\"],[1.0,\"#f0f921\"]],\"type\":\"heatmap\"}],\"histogram2dcontour\":[{\"colorbar\":{\"outlinewidth\":0,\"ticks\":\"\"},\"colorscale\":[[0.0,\"#0d0887\"],[0.1111111111111111,\"#46039f\"],[0.2222222222222222,\"#7201a8\"],[0.3333333333333333,\"#9c179e\"],[0.4444444444444444,\"#bd3786\"],[0.5555555555555556,\"#d8576b\"],[0.6666666666666666,\"#ed7953\"],[0.7777777777777778,\"#fb9f3a\"],[0.8888888888888888,\"#fdca26\"],[1.0,\"#f0f921\"]],\"type\":\"histogram2dcontour\"}],\"histogram2d\":[{\"colorbar\":{\"outlinewidth\":0,\"ticks\":\"\"},\"colorscale\":[[0.0,\"#0d0887\"],[0.1111111111111111,\"#46039f\"],[0.2222222222222222,\"#7201a8\"],[0.3333333333333333,\"#9c179e\"],[0.4444444444444444,\"#bd3786\"],[0.5555555555555556,\"#d8576b\"],[0.6666666666666666,\"#ed7953\"],[0.7777777777777778,\"#fb9f3a\"],[0.8888888888888888,\"#fdca26\"],[1.0,\"#f0f921\"]],\"type\":\"histogram2d\"}],\"histogram\":[{\"marker\":{\"pattern\":{\"fillmode\":\"overlay\",\"size\":10,\"solidity\":0.2}},\"type\":\"histogram\"}],\"mesh3d\":[{\"colorbar\":{\"outlinewidth\":0,\"ticks\":\"\"},\"type\":\"mesh3d\"}],\"parcoords\":[{\"line\":{\"colorbar\":{\"outlinewidth\":0,\"ticks\":\"\"}},\"type\":\"parcoords\"}],\"pie\":[{\"automargin\":true,\"type\":\"pie\"}],\"scatter3d\":[{\"line\":{\"colorbar\":{\"outlinewidth\":0,\"ticks\":\"\"}},\"marker\":{\"colorbar\":{\"outlinewidth\":0,\"ticks\":\"\"}},\"type\":\"scatter3d\"}],\"scattercarpet\":[{\"marker\":{\"colorbar\":{\"outlinewidth\":0,\"ticks\":\"\"}},\"type\":\"scattercarpet\"}],\"scattergeo\":[{\"marker\":{\"colorbar\":{\"outlinewidth\":0,\"ticks\":\"\"}},\"type\":\"scattergeo\"}],\"scattergl\":[{\"marker\":{\"colorbar\":{\"outlinewidth\":0,\"ticks\":\"\"}},\"type\":\"scattergl\"}],\"scattermapbox\":[{\"marker\":{\"colorbar\":{\"outlinewidth\":0,\"ticks\":\"\"}},\"type\":\"scattermapbox\"}],\"scatterpolargl\":[{\"marker\":{\"colorbar\":{\"outlinewidth\":0,\"ticks\":\"\"}},\"type\":\"scatterpolargl\"}],\"scatterpolar\":[{\"marker\":{\"colorbar\":{\"outlinewidth\":0,\"ticks\":\"\"}},\"type\":\"scatterpolar\"}],\"scatter\":[{\"fillpattern\":{\"fillmode\":\"overlay\",\"size\":10,\"solidity\":0.2},\"type\":\"scatter\"}],\"scatterternary\":[{\"marker\":{\"colorbar\":{\"outlinewidth\":0,\"ticks\":\"\"}},\"type\":\"scatterternary\"}],\"surface\":[{\"colorbar\":{\"outlinewidth\":0,\"ticks\":\"\"},\"colorscale\":[[0.0,\"#0d0887\"],[0.1111111111111111,\"#46039f\"],[0.2222222222222222,\"#7201a8\"],[0.3333333333333333,\"#9c179e\"],[0.4444444444444444,\"#bd3786\"],[0.5555555555555556,\"#d8576b\"],[0.6666666666666666,\"#ed7953\"],[0.7777777777777778,\"#fb9f3a\"],[0.8888888888888888,\"#fdca26\"],[1.0,\"#f0f921\"]],\"type\":\"surface\"}],\"table\":[{\"cells\":{\"fill\":{\"color\":\"#EBF0F8\"},\"line\":{\"color\":\"white\"}},\"header\":{\"fill\":{\"color\":\"#C8D4E3\"},\"line\":{\"color\":\"white\"}},\"type\":\"table\"}]},\"layout\":{\"annotationdefaults\":{\"arrowcolor\":\"#2a3f5f\",\"arrowhead\":0,\"arrowwidth\":1},\"autotypenumbers\":\"strict\",\"coloraxis\":{\"colorbar\":{\"outlinewidth\":0,\"ticks\":\"\"}},\"colorscale\":{\"diverging\":[[0,\"#8e0152\"],[0.1,\"#c51b7d\"],[0.2,\"#de77ae\"],[0.3,\"#f1b6da\"],[0.4,\"#fde0ef\"],[0.5,\"#f7f7f7\"],[0.6,\"#e6f5d0\"],[0.7,\"#b8e186\"],[0.8,\"#7fbc41\"],[0.9,\"#4d9221\"],[1,\"#276419\"]],\"sequential\":[[0.0,\"#0d0887\"],[0.1111111111111111,\"#46039f\"],[0.2222222222222222,\"#7201a8\"],[0.3333333333333333,\"#9c179e\"],[0.4444444444444444,\"#bd3786\"],[0.5555555555555556,\"#d8576b\"],[0.6666666666666666,\"#ed7953\"],[0.7777777777777778,\"#fb9f3a\"],[0.8888888888888888,\"#fdca26\"],[1.0,\"#f0f921\"]],\"sequentialminus\":[[0.0,\"#0d0887\"],[0.1111111111111111,\"#46039f\"],[0.2222222222222222,\"#7201a8\"],[0.3333333333333333,\"#9c179e\"],[0.4444444444444444,\"#bd3786\"],[0.5555555555555556,\"#d8576b\"],[0.6666666666666666,\"#ed7953\"],[0.7777777777777778,\"#fb9f3a\"],[0.8888888888888888,\"#fdca26\"],[1.0,\"#f0f921\"]]},\"colorway\":[\"#636efa\",\"#EF553B\",\"#00cc96\",\"#ab63fa\",\"#FFA15A\",\"#19d3f3\",\"#FF6692\",\"#B6E880\",\"#FF97FF\",\"#FECB52\"],\"font\":{\"color\":\"#2a3f5f\"},\"geo\":{\"bgcolor\":\"white\",\"lakecolor\":\"white\",\"landcolor\":\"white\",\"showlakes\":true,\"showland\":true,\"subunitcolor\":\"#C8D4E3\"},\"hoverlabel\":{\"align\":\"left\"},\"hovermode\":\"closest\",\"mapbox\":{\"style\":\"light\"},\"paper_bgcolor\":\"white\",\"plot_bgcolor\":\"white\",\"polar\":{\"angularaxis\":{\"gridcolor\":\"#EBF0F8\",\"linecolor\":\"#EBF0F8\",\"ticks\":\"\"},\"bgcolor\":\"white\",\"radialaxis\":{\"gridcolor\":\"#EBF0F8\",\"linecolor\":\"#EBF0F8\",\"ticks\":\"\"}},\"scene\":{\"xaxis\":{\"backgroundcolor\":\"white\",\"gridcolor\":\"#DFE8F3\",\"gridwidth\":2,\"linecolor\":\"#EBF0F8\",\"showbackground\":true,\"ticks\":\"\",\"zerolinecolor\":\"#EBF0F8\"},\"yaxis\":{\"backgroundcolor\":\"white\",\"gridcolor\":\"#DFE8F3\",\"gridwidth\":2,\"linecolor\":\"#EBF0F8\",\"showbackground\":true,\"ticks\":\"\",\"zerolinecolor\":\"#EBF0F8\"},\"zaxis\":{\"backgroundcolor\":\"white\",\"gridcolor\":\"#DFE8F3\",\"gridwidth\":2,\"linecolor\":\"#EBF0F8\",\"showbackground\":true,\"ticks\":\"\",\"zerolinecolor\":\"#EBF0F8\"}},\"shapedefaults\":{\"line\":{\"color\":\"#2a3f5f\"}},\"ternary\":{\"aaxis\":{\"gridcolor\":\"#DFE8F3\",\"linecolor\":\"#A2B1C6\",\"ticks\":\"\"},\"baxis\":{\"gridcolor\":\"#DFE8F3\",\"linecolor\":\"#A2B1C6\",\"ticks\":\"\"},\"bgcolor\":\"white\",\"caxis\":{\"gridcolor\":\"#DFE8F3\",\"linecolor\":\"#A2B1C6\",\"ticks\":\"\"}},\"title\":{\"x\":0.05},\"xaxis\":{\"automargin\":true,\"gridcolor\":\"#EBF0F8\",\"linecolor\":\"#EBF0F8\",\"ticks\":\"\",\"title\":{\"standoff\":15},\"zerolinecolor\":\"#EBF0F8\",\"zerolinewidth\":2},\"yaxis\":{\"automargin\":true,\"gridcolor\":\"#EBF0F8\",\"linecolor\":\"#EBF0F8\",\"ticks\":\"\",\"title\":{\"standoff\":15},\"zerolinecolor\":\"#EBF0F8\",\"zerolinewidth\":2}}},\"xaxis\":{\"anchor\":\"y\",\"domain\":[0.0,1.0],\"title\":{\"text\":\"Salary ($M)\"},\"tickprefix\":\"$\",\"ticksuffix\":\"M\"},\"yaxis\":{\"anchor\":\"x\",\"domain\":[0.0,1.0],\"title\":{\"text\":\"Age\"}},\"legend\":{\"tracegroupgap\":0},\"title\":{\"text\":\"Salary vs Age\"}},                        {\"responsive\": true}                    ).then(function(){\n",
       "                            \n",
       "var gd = document.getElementById('00c5d879-71d7-4d64-b6fd-cff7136d73a7');\n",
       "var x = new MutationObserver(function (mutations, observer) {{\n",
       "        var display = window.getComputedStyle(gd).display;\n",
       "        if (!display || display === 'none') {{\n",
       "            console.log([gd, 'removed!']);\n",
       "            Plotly.purge(gd);\n",
       "            observer.disconnect();\n",
       "        }}\n",
       "}});\n",
       "\n",
       "// Listen for the removal of the full notebook cells\n",
       "var notebookContainer = gd.closest('#notebook-container');\n",
       "if (notebookContainer) {{\n",
       "    x.observe(notebookContainer, {childList: true});\n",
       "}}\n",
       "\n",
       "// Listen for the clearing of the current output cell\n",
       "var outputEl = gd.closest('.output');\n",
       "if (outputEl) {{\n",
       "    x.observe(outputEl, {childList: true});\n",
       "}}\n",
       "\n",
       "                        })                };                });            </script>        </div>"
      ]
     },
     "metadata": {},
     "output_type": "display_data"
    }
   ],
   "source": [
    "plot_salary_vs_stat('PTS')\n",
    "\n",
    "plot_salary_vs_stat('MP')\n",
    "\n",
    "plot_salary_vs_stat('Age')"
   ]
  },
  {
   "cell_type": "code",
   "execution_count": 232,
   "id": "bd050efa-efcf-415d-8986-304e5ba9755e",
   "metadata": {},
   "outputs": [],
   "source": [
    "if 'Salary_M' in stats_salary.columns:\n",
    "    stats_salary = stats_salary.drop(columns=['Salary_M'])"
   ]
  },
  {
   "cell_type": "markdown",
   "id": "93c64b36-6021-44c0-b68f-4921c2912462",
   "metadata": {},
   "source": [
    "### 3.3 Initial analysis of Correlation for building Regression Model"
   ]
  },
  {
   "cell_type": "markdown",
   "id": "ff89707c-b984-49cc-aea6-179e43084df4",
   "metadata": {},
   "source": [
    "##### 1) Efficiency Stats (FT%, FG%, eFG%, 3P%, 2P%) show low correlation to player's salary\n",
    "Potential reason for this is that efficiency stats often higher for role-players and bench players, who often doesn't get that many opportunity to score and specialized to one ability (e.g. spot-up shooters). So I dropped all of them except for eFG%, which shows low correlation to salary but combines both FG% and 3P%, which makes a comprehensive indicator for scoring efficiency.\n",
    "##### 2) Will keep traditional (volume) stats, such as PTS, AST, TRB, STL, BLK\n",
    "##### 3) Reducing Multicollinearity\n",
    "1. FG-FGA, FT-FTA, 2P-2PA, 3P-3PA, ORB-DRB: Scoring stats are all diretly correlated to FG and ORB-DRB are directly correlated to TRB. I will remove all of them.\n",
    "2. MP-G-GS: correlated to each other, displays player's actual involvement to the team. I will ill remove G and GS since MP already explains player's importance to the team, so keep MP.\n",
    "##### 4) Moderate/low correlation, but...\n",
    "1. will keep TOV since I assume that it has negative correlation to player's salary (more turnovers = less money)\n",
    "2. will keep age since it is interesting to see whether age plays a role on player's salary, not only performance."
   ]
  },
  {
   "cell_type": "markdown",
   "id": "c254cb6b-97ac-45ef-9ef4-96da79c96a8d",
   "metadata": {},
   "source": [
    "##### Keeping (Order from highest correlation): PTS, MP, TOV, AST, TRB, STL, BLK, Age"
   ]
  },
  {
   "cell_type": "markdown",
   "id": "300c472d-59ef-4662-b048-289983def6da",
   "metadata": {},
   "source": [
    "## 4. Regression Analysis"
   ]
  },
  {
   "cell_type": "markdown",
   "id": "8dd537c9-6dce-47ef-8018-0e4c9566a7f0",
   "metadata": {},
   "source": [
    "I used Scikit-Learn to train test split and perform linear regression."
   ]
  },
  {
   "cell_type": "markdown",
   "id": "d46d9523-642a-42ab-b38e-b27af544efc7",
   "metadata": {},
   "source": [
    "### 4.1 Helper Functions"
   ]
  },
  {
   "cell_type": "markdown",
   "id": "4599e53f-e3d4-4f60-b808-046ec72861d7",
   "metadata": {},
   "source": [
    "#### Function for preparing data"
   ]
  },
  {
   "cell_type": "code",
   "execution_count": 239,
   "id": "eb73ca26-ed15-4130-9c16-24ad75b4cf8e",
   "metadata": {},
   "outputs": [],
   "source": [
    "def prepare_data(df, features, target='Salary', test_size=0.2, random_state=42):\n",
    "    X = df[features]\n",
    "    y = df[target]\n",
    "    return train_test_split(X, y, test_size=test_size, random_state=random_state)"
   ]
  },
  {
   "cell_type": "markdown",
   "id": "693a208d-1c49-4f19-8ef8-2a113ccd7e00",
   "metadata": {},
   "source": [
    "#### Function to perform linear regression\n",
    "I used StandardScaler for scaling variables."
   ]
  },
  {
   "cell_type": "code",
   "execution_count": 241,
   "id": "4e0d4e47-4098-4f3f-a0d7-419fcf7f258d",
   "metadata": {},
   "outputs": [],
   "source": [
    "def fit_scaled_linear_regression(X_train, y_train):\n",
    "    scaler = StandardScaler()\n",
    "    X_train_scaled = scaler.fit_transform(X_train)\n",
    "    model = LinearRegression()\n",
    "    model.fit(X_train_scaled, y_train)\n",
    "    return model, scaler, X_train.std()"
   ]
  },
  {
   "cell_type": "markdown",
   "id": "5081b5bb-b2a8-40fb-9d2d-c592d6f839c3",
   "metadata": {},
   "source": [
    "#### Function to show coefficients"
   ]
  },
  {
   "cell_type": "code",
   "execution_count": 243,
   "id": "86fea322-a966-487b-ba01-8e89b90f40df",
   "metadata": {},
   "outputs": [],
   "source": [
    "def format_coefficients(model, feature_stds, feature_names):\n",
    "    coef_per_unit = model.coef_ / feature_stds[feature_names]\n",
    "    formatted = pd.Series(coef_per_unit, index=feature_names)\n",
    "    return formatted.apply(lambda x: \"${:,.0f}\".format(x))"
   ]
  },
  {
   "cell_type": "markdown",
   "id": "d57d7806-9221-4e8d-960b-be308643984f",
   "metadata": {},
   "source": [
    "#### Function to compute VIF score"
   ]
  },
  {
   "cell_type": "code",
   "execution_count": 245,
   "id": "df38445b-1df2-4a69-b2f1-bda669bcfae2",
   "metadata": {},
   "outputs": [],
   "source": [
    "def compute_vif(X):\n",
    "    X_with_const = sm.add_constant(X)\n",
    "    vifs = [variance_inflation_factor(X_with_const.values, i + 1) for i in range(len(X.columns))]\n",
    "    return pd.DataFrame({'Feature': X.columns, 'VIF': vifs})"
   ]
  },
  {
   "cell_type": "markdown",
   "id": "e0d18d23-dd98-479d-94bd-6487a8bc1fa6",
   "metadata": {},
   "source": [
    "### 4.2 First Regression Model"
   ]
  },
  {
   "cell_type": "code",
   "execution_count": 329,
   "id": "3912200a-c073-484e-a768-4a4d4d76da4b",
   "metadata": {},
   "outputs": [],
   "source": [
    "features_1 = ['PTS', 'MP', 'TOV', 'AST', 'TRB', 'STL', 'BLK', 'Age']"
   ]
  },
  {
   "cell_type": "code",
   "execution_count": 247,
   "id": "e3feed60-9e5a-46c7-83b2-3a8f11c42d90",
   "metadata": {},
   "outputs": [],
   "source": [
    "X_train_1, X_test_1, y_train_1, y_test_1 = prepare_data(stats_salary, features_1)\n",
    "linreg_1, scaler_1, stds_1 = fit_scaled_linear_regression(X_train_1, y_train_1)"
   ]
  },
  {
   "cell_type": "code",
   "execution_count": 248,
   "id": "b66a7177-c2f9-47de-b06d-638af9375d20",
   "metadata": {},
   "outputs": [
    {
     "name": "stdout",
     "output_type": "stream",
     "text": [
      "Coefficients:\n",
      " PTS    $1,471,258\n",
      "MP      $-230,590\n",
      "TOV     $-774,235\n",
      "AST      $867,763\n",
      "TRB      $456,587\n",
      "STL     $-243,779\n",
      "BLK    $1,740,086\n",
      "Age      $660,748\n",
      "dtype: object\n"
     ]
    }
   ],
   "source": [
    "coefs_1 = format_coefficients(linreg_1, stds_1, features_1)\n",
    "print(\"Coefficients:\\n\", coefs_1)"
   ]
  },
  {
   "cell_type": "markdown",
   "id": "7ed6ca9f-f46f-411e-b95c-3e1b75d915d3",
   "metadata": {},
   "source": [
    "#### 4.1.1 First Adjustment"
   ]
  },
  {
   "cell_type": "markdown",
   "id": "13aceeac-5eda-4229-970b-bc81cd954e03",
   "metadata": {},
   "source": [
    "1. each point per game increases player's salary by $1,471,258\n",
    "2. more minutes per game turnover reduces player's salary\n",
    "3. older the player is, one gets more salary\n",
    "\n",
    "As you can see, something is off. More minutes translates to less salary? More steals translates to less salary? So I decided to run a brief VIF test to check multicollinearity."
   ]
  },
  {
   "cell_type": "markdown",
   "id": "f3ea398c-8cdd-45dd-8364-a48029384e61",
   "metadata": {},
   "source": [
    "#### 4.1.2 VIF testing"
   ]
  },
  {
   "cell_type": "code",
   "execution_count": 252,
   "id": "844f4bf1-9a31-4608-ab04-84ca0458ee96",
   "metadata": {},
   "outputs": [
    {
     "name": "stdout",
     "output_type": "stream",
     "text": [
      "  Feature       VIF\n",
      "0     PTS  6.742310\n",
      "1      MP  6.461511\n",
      "2     TOV  6.539773\n",
      "3     AST  4.682370\n",
      "4     TRB  2.887127\n",
      "5     STL  2.299448\n",
      "6     BLK  1.980632\n",
      "7     Age  1.065187\n"
     ]
    }
   ],
   "source": [
    "vif_1 = compute_vif(stats_salary[features_1])\n",
    "print(vif_1)"
   ]
  },
  {
   "cell_type": "markdown",
   "id": "738969ae-cede-4e20-8493-c6c7d6274da0",
   "metadata": {},
   "source": [
    "As you can see, VIF scores are moderate but PTS, TOV, MP still has pretty high number. So I assumed two things:\n",
    "1) TOV is directly related to PTS since more shot attempt means higher chance of committing turnovers.\n",
    "2) Most of star players who scores many points get more minutes in the game\n",
    "\n",
    "So, I removed both TOV and MP and ran the VIF test again."
   ]
  },
  {
   "cell_type": "code",
   "execution_count": 254,
   "id": "6c2bc9c6-b5ad-4760-aab4-bd9dbe128412",
   "metadata": {},
   "outputs": [
    {
     "name": "stdout",
     "output_type": "stream",
     "text": [
      "  Feature       VIF\n",
      "0     PTS  3.185138\n",
      "1     AST  2.809048\n",
      "2     TRB  2.635872\n",
      "3     STL  1.838130\n",
      "4     BLK  1.975380\n",
      "5     Age  1.026766\n"
     ]
    }
   ],
   "source": [
    "features_2 = ['PTS', 'AST', 'TRB', 'STL', 'BLK', 'Age']\n",
    "\n",
    "vif_2 = compute_vif(stats_salary[features_2])\n",
    "print(vif_2)"
   ]
  },
  {
   "cell_type": "markdown",
   "id": "1bc49398-1e20-4fbf-8b32-7bde932d3fa4",
   "metadata": {},
   "source": [
    "Now VIF scores seems alright, less multicollinearity."
   ]
  },
  {
   "cell_type": "markdown",
   "id": "0c528eff-76c9-4ead-9fe5-a2dec2049119",
   "metadata": {},
   "source": [
    "### 4.3 Regression Model 2"
   ]
  },
  {
   "cell_type": "code",
   "execution_count": 257,
   "id": "c62c5f85-ea92-4c4e-bd52-5d3074637aa4",
   "metadata": {},
   "outputs": [],
   "source": [
    "X_train_2, X_test_2, y_train_2, y_test_2 = prepare_data(stats_salary, features_2)\n",
    "linreg_2, scaler_2, stds_2 = fit_scaled_linear_regression(X_train_2, y_train_2)"
   ]
  },
  {
   "cell_type": "code",
   "execution_count": 258,
   "id": "c4665dd1-c62f-45c0-a8ce-866ec11b4eb9",
   "metadata": {},
   "outputs": [
    {
     "name": "stdout",
     "output_type": "stream",
     "text": [
      "Coefficients:\n",
      " PTS     $1,229,151\n",
      "AST       $669,159\n",
      "TRB       $320,893\n",
      "STL    $-1,514,481\n",
      "BLK     $1,476,375\n",
      "Age       $657,303\n",
      "dtype: object\n"
     ]
    }
   ],
   "source": [
    "coefs_2 = format_coefficients(linreg_2, stds_2, features_2)\n",
    "print(\"Coefficients:\\n\", coefs_2)"
   ]
  },
  {
   "cell_type": "markdown",
   "id": "3d0a7ad9-06ba-44df-a811-7b2a0a82e3e7",
   "metadata": {},
   "source": [
    "### 4.3.1 Interpreting Coefficients"
   ]
  },
  {
   "cell_type": "markdown",
   "id": "dcb56b77-f63d-46e8-8130-46308657193b",
   "metadata": {},
   "source": [
    "So from these coefficients, we can learn:\n",
    "1) a unit of point per game worth more than other traditional stats, such as assist and rebound for deciding player's salary.\n",
    "2) older players tend to have higher salary than younger, less-experienced players.\n",
    "3) number of steals seems to be underappreciated when it comes to salary, but block does."
   ]
  },
  {
   "cell_type": "markdown",
   "id": "cf52c039-e42c-4a5a-a37b-5ae6746ec0c0",
   "metadata": {},
   "source": [
    "## 5. Testing the Model"
   ]
  },
  {
   "cell_type": "markdown",
   "id": "810c7635-ed17-487b-825a-d07e8bccf8ce",
   "metadata": {},
   "source": [
    "I used sklearn's module to calculate Root Mean Squared Error (RMSE) and R-Squared (R^2) to see the quality of linear regression model."
   ]
  },
  {
   "cell_type": "code",
   "execution_count": 339,
   "id": "7152860e-6a06-413d-88d6-c9eef0b4c45f",
   "metadata": {},
   "outputs": [
    {
     "name": "stdout",
     "output_type": "stream",
     "text": [
      "--- Model Performance ---\n",
      "Root Mean Squared Error (RMSE): $9,240,772.81\n",
      "R-squared (R²): 0.5261\n"
     ]
    }
   ],
   "source": [
    "X_test_scaled_2 = scaler_2.transform(X_test_2)\n",
    "y_pred_2 = linreg_2.predict(X_test_scaled_2)\n",
    "\n",
    "mse = mean_squared_error(y_test_2, y_pred_2)\n",
    "rmse = np.sqrt(mse)\n",
    "r2 = r2_score(y_test_2, y_pred_2)\n",
    "\n",
    "print(f\"--- Model Performance ---\")\n",
    "print(f\"Root Mean Squared Error (RMSE): ${rmse :,.2f}\")\n",
    "print(f\"R-squared (R²): {r2:.4f}\")"
   ]
  },
  {
   "cell_type": "markdown",
   "id": "8eb44514-9cc1-4e56-87e5-c54037aa2870",
   "metadata": {},
   "source": [
    "So the testing result of R^2 score of 0.526 shows that this linear model has some predictive power; however, RMSE values are $9.2 million, which means the model's prediction is off 9 million on average. I wouldn't say that the model is significantly accurate."
   ]
  },
  {
   "cell_type": "markdown",
   "id": "8d0b5aef-61d8-4851-9fc5-7fe99a8a48ca",
   "metadata": {},
   "source": [
    "## 6. Predictions"
   ]
  },
  {
   "cell_type": "markdown",
   "id": "0e8c3b5b-9aeb-4884-8d2e-70e00dc36ead",
   "metadata": {},
   "source": [
    "### 6.1 Predicting Function"
   ]
  },
  {
   "cell_type": "code",
   "execution_count": 267,
   "id": "de15a335-7d9a-4856-85b6-28823376c100",
   "metadata": {},
   "outputs": [],
   "source": [
    "def predict_salary(player_name, model, scaler, X_source, df):\n",
    "    player_row = df[df['Player'] == player_name]\n",
    "\n",
    "    if player_row.empty:\n",
    "        print(f\"Player '{player_name}' not found.\")\n",
    "        return\n",
    "\n",
    "    player_features = player_row[X_source.columns]\n",
    "    \n",
    "    scaled_features = scaler.transform(player_features)\n",
    "\n",
    "    predicted_salary = model.predict(scaled_features)[0]\n",
    "\n",
    "    actual_salary = player_row['Salary'].values[0]\n",
    "\n",
    "    print(f\"Predicted 2025-26 season salary for {player_name}: ${predicted_salary:,.2f}\")\n",
    "    print(f\"Current salary for {player_name}: ${actual_salary:,.2f}\")"
   ]
  },
  {
   "cell_type": "markdown",
   "id": "23a68c42-7025-4c96-95f6-e4120fdc0677",
   "metadata": {},
   "source": [
    "### 6.2 Predicting with actual players"
   ]
  },
  {
   "cell_type": "markdown",
   "id": "789d546d-d150-44b2-ae6a-68caf500d1d5",
   "metadata": {},
   "source": [
    "As the model is predicting new salary for next year, let's try some players who have contracts expiring next year. \n",
    "<br>Let's first try with **James Harden**, who has player option for next season. His stats: 22.8 PTS, 8.7 AST, 5.8 REB, 0.7 BLK, 1.5 STL at age of 35."
   ]
  },
  {
   "cell_type": "code",
   "execution_count": 270,
   "id": "4327f263-10db-4665-baa0-722476b8f0a3",
   "metadata": {},
   "outputs": [
    {
     "name": "stdout",
     "output_type": "stream",
     "text": [
      "Predicted 2025-26 season salary for James Harden: $36,238,818.30\n",
      "Current salary for James Harden: $33,653,846.00\n"
     ]
    }
   ],
   "source": [
    "predict_salary(\"James Harden\", linreg_2, scaler_2, X_train_2, stats_salary)"
   ]
  },
  {
   "cell_type": "markdown",
   "id": "efdfba7f-1bd4-41ea-906d-16b088dd234c",
   "metadata": {},
   "source": [
    "James Harden received **\\\\$33,653,846** this season,\n",
    "<br>\n",
    "The model says he will receive **\\\\$36,238,818** next season."
   ]
  },
  {
   "cell_type": "markdown",
   "id": "627a8df1-4d0e-46ac-ae44-34965181d557",
   "metadata": {},
   "source": [
    "**Lebron James** also has his player option for next season. His stats: 24.4 PTS, 8.2 AST, 7.8 REB, 0.6 BLK, 1 STL at the age of 40."
   ]
  },
  {
   "cell_type": "code",
   "execution_count": 273,
   "id": "97a3a500-d931-44d7-b930-b905f55e8508",
   "metadata": {},
   "outputs": [
    {
     "name": "stdout",
     "output_type": "stream",
     "text": [
      "Predicted 2025-26 season salary for LeBron James: $42,416,728.27\n",
      "Current salary for LeBron James: $48,728,845.00\n"
     ]
    }
   ],
   "source": [
    "predict_salary(\"LeBron James\", linreg_2, scaler_2, X_train_2, stats_salary)"
   ]
  },
  {
   "cell_type": "markdown",
   "id": "169ca04f-d7d8-4de7-838a-3b4211d908c8",
   "metadata": {},
   "source": [
    "Lebron James received **\\\\$48,728,845** this season, <br>\n",
    "The model says he will receive less next season with **\\\\$42,416,728**."
   ]
  },
  {
   "cell_type": "markdown",
   "id": "e115b792-d58a-4ef6-8e5b-7392874aad6a",
   "metadata": {},
   "source": [
    "Lastly, **Ty Jerome**, one of the best bench players this season, also gets Free Agent option this season. <br>\n",
    "His stats: 12.5 PTS, 3.4 AST, 2.5 REB, 0 BLK, 1.1 STL at the age of 27."
   ]
  },
  {
   "cell_type": "code",
   "execution_count": 276,
   "id": "9353f52e-ef84-468e-a174-83802569c703",
   "metadata": {},
   "outputs": [
    {
     "name": "stdout",
     "output_type": "stream",
     "text": [
      "Predicted 2025-26 season salary for Ty Jerome: $13,257,422.48\n",
      "Current salary for Ty Jerome: $2,560,975.00\n"
     ]
    }
   ],
   "source": [
    "predict_salary(\"Ty Jerome\", linreg_2, scaler_2, X_train_2, stats_salary)"
   ]
  },
  {
   "cell_type": "markdown",
   "id": "c752620e-81da-4518-ba96-85350521a146",
   "metadata": {},
   "source": [
    "Ty Jerome Received **\\\\$2,560,975** this season, <br>\n",
    "The model predicts a massive raise for him next season of **\\\\$13,257,422**."
   ]
  }
 ],
 "metadata": {
  "kernelspec": {
   "display_name": "Python [conda env:base] *",
   "language": "python",
   "name": "conda-base-py"
  },
  "language_info": {
   "codemirror_mode": {
    "name": "ipython",
    "version": 3
   },
   "file_extension": ".py",
   "mimetype": "text/x-python",
   "name": "python",
   "nbconvert_exporter": "python",
   "pygments_lexer": "ipython3",
   "version": "3.12.7"
  }
 },
 "nbformat": 4,
 "nbformat_minor": 5
}
